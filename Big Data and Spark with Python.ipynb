{
 "cells": [
  {
   "cell_type": "markdown",
   "id": "f60bb608",
   "metadata": {},
   "source": [
    "#So far, we have worked with data saved on personal computer(RAM). If we work with big(large) data that needs to be saved, either we use SQL database to move the data into hard drive instead of RAM or use distributive systems to distribute the large data to multiple computers/machines. A local machine is a personal computer with its RAM and hard drives while a distributed system involves one machine controlling multiple machines. The distributed system has more processing power,core and more storage compared to the local machine."
   ]
  },
  {
   "cell_type": "markdown",
   "id": "8108e795",
   "metadata": {},
   "source": [
    "#A local process uses computational resources of a single machine. A distributed system has access to computational resources of multiple machines, connected via a network. It's easier to scale out to many lower CPU machines than scale up to a single machine with a high CPU. Distributed machines have advantage of scaling by adding more machines. If one machine fails, the whole network can still go on. This is called fault tolerance. Distributed architecture uses Hadoop."
   ]
  },
  {
   "cell_type": "markdown",
   "id": "f0081481",
   "metadata": {},
   "source": [
    "# Hadoop:"
   ]
  },
  {
   "cell_type": "markdown",
   "id": "5beeb91a",
   "metadata": {},
   "source": [
    "#This is a way to distribute large files across many multiple machines. It uses the Hadoop Distributed File System(HDFS). HDFS works with large dataset, duplicates blocks of data and distributes them for fault tolerance. It also then uses MapReduce, which allows computations on that data. Multiple copies of a block prevents loss of data due to failure of a node."
   ]
  },
  {
   "cell_type": "markdown",
   "id": "5635678b",
   "metadata": {},
   "source": [
    "# MapReduce"
   ]
  },
  {
   "cell_type": "markdown",
   "id": "b79790e6",
   "metadata": {},
   "source": [
    "#This involves splitting a computation task to a distributed set of files(HDFS). It consists of a Job tracker which sends multiple task trackers to each distributed files. These task trackers work on the CPU and RAM of each distributed machines."
   ]
  },
  {
   "cell_type": "markdown",
   "id": "bd8711c8",
   "metadata": {},
   "source": [
    "# Spark"
   ]
  },
  {
   "cell_type": "markdown",
   "id": "416cf130",
   "metadata": {},
   "source": [
    "#Spark improves on the concept of using distribution of big data. It uses Hadoop distributed file systems but has many advantages of using MapReduce. Spark can use stored data in AWS S3, HDFS, Casandra etc. While MapReduce requires HDFS, Spark requires lots more than HDFS, works 100 times faster than MapReduce by storing to memory."
   ]
  },
  {
   "cell_type": "markdown",
   "id": "a56444bb",
   "metadata": {},
   "source": [
    "#Spark Resilient Distributed Data(RDD) has 4 main features: distributed collection of data, fault-tolerant, ability to use many data sources, paralled operation-partitioned. RDD are immutable, lazily evaluated and cacheable. 2 types of RDD operations to be coded with Python are: Transformations, Actions. Basic Actions: first,collect,count,take. Basic Transformations: filter,map,flatmap."
   ]
  },
  {
   "cell_type": "markdown",
   "id": "9ff42de0",
   "metadata": {},
   "source": [
    "#Pair RDD: often RDDs will be holding their values in tuples (key,value), which offers better partitioning of the data and leads to functinality based on reductions. Reduce() performs an action that will aggregate RDD elements using a function that returns a single element. ReduceByKey() performs an action that will aggregate Pair RDD elements using a function that returns a Pair RDD. This is similar to Groupby()"
   ]
  },
  {
   "cell_type": "markdown",
   "id": "80807131",
   "metadata": {},
   "source": [
    "#To use Spark on a virtual machine, set up an EC2 instance on AWS, let the instance run and use a secure shell(SSH) to connect the instance on AWS via a network, to your local computer. Use puttygen and putty to change the downloaded .pem key to .ppk key, so the the instance can run on putty."
   ]
  },
  {
   "cell_type": "markdown",
   "id": "fc129acc",
   "metadata": {},
   "source": [
    "#Install anaconda on instance with this: wget https://repo.continuum.io/archive/Anaconda3-4.1.1-Linux-x86_64.sh or whatever version of Anaconda you want from Linux. After installation, type bash Anaconda3-4.1.1-Linux-x86_64.sh"
   ]
  },
  {
   "cell_type": "code",
   "execution_count": 1,
   "id": "d2d62bf5",
   "metadata": {},
   "outputs": [],
   "source": [
    "import findspark\n",
    "findspark.init()"
   ]
  },
  {
   "cell_type": "code",
   "execution_count": 2,
   "id": "e3c1a0ff",
   "metadata": {},
   "outputs": [
    {
     "name": "stdout",
     "output_type": "stream",
     "text": [
      "+-----+\n",
      "|hello|\n",
      "+-----+\n",
      "|spark|\n",
      "+-----+\n",
      "\n"
     ]
    }
   ],
   "source": [
    "# to test if pyspark was successfully installed\n",
    "\n",
    "import pyspark\n",
    "from pyspark.sql import SparkSession\n",
    "spark = SparkSession.builder.getOrCreate()\n",
    "\n",
    "df = spark.sql('''select 'spark' as hello ''')\n",
    "df.show()"
   ]
  },
  {
   "cell_type": "code",
   "execution_count": 3,
   "id": "13063007",
   "metadata": {},
   "outputs": [
    {
     "data": {
      "text/plain": [
       "'C:\\\\Users\\\\emman\\\\Documents\\\\Spark Hadoop\\\\spark-3.4.1-bin-hadoop3'"
      ]
     },
     "execution_count": 3,
     "metadata": {},
     "output_type": "execute_result"
    }
   ],
   "source": [
    "#Testing Pyspark installation\n",
    "\n",
    "import findspark\n",
    "findspark.init()\n",
    "findspark.find()\n",
    "import pyspark\n",
    "findspark.find()"
   ]
  },
  {
   "cell_type": "code",
   "execution_count": 4,
   "id": "eae42f2d",
   "metadata": {},
   "outputs": [],
   "source": [
    "#to stop the spark cluster running.\n",
    "\n",
    "spark.stop()   "
   ]
  },
  {
   "cell_type": "markdown",
   "id": "d935b2d8",
   "metadata": {},
   "source": [
    "# Lambda Expression Review"
   ]
  },
  {
   "cell_type": "markdown",
   "id": "eb10ba34",
   "metadata": {},
   "source": [
    "#Lambda expression allows creation of anonymous function i.e creation an adhoc function without using def"
   ]
  },
  {
   "cell_type": "code",
   "execution_count": 5,
   "id": "d92bccce",
   "metadata": {},
   "outputs": [],
   "source": [
    "def square(num):\n",
    "    return num**3"
   ]
  },
  {
   "cell_type": "code",
   "execution_count": 6,
   "id": "52146ac7",
   "metadata": {},
   "outputs": [
    {
     "data": {
      "text/plain": [
       "125"
      ]
     },
     "execution_count": 6,
     "metadata": {},
     "output_type": "execute_result"
    }
   ],
   "source": [
    "square(5)"
   ]
  },
  {
   "cell_type": "code",
   "execution_count": 7,
   "id": "9604bc39",
   "metadata": {},
   "outputs": [],
   "source": [
    "def div(x,y): return x//y"
   ]
  },
  {
   "cell_type": "code",
   "execution_count": 8,
   "id": "322c4824",
   "metadata": {},
   "outputs": [
    {
     "data": {
      "text/plain": [
       "2"
      ]
     },
     "execution_count": 8,
     "metadata": {},
     "output_type": "execute_result"
    }
   ],
   "source": [
    "div(5,2)"
   ]
  },
  {
   "cell_type": "code",
   "execution_count": 9,
   "id": "33e6385d",
   "metadata": {},
   "outputs": [
    {
     "data": {
      "text/plain": [
       "(2, 1)"
      ]
     },
     "execution_count": 9,
     "metadata": {},
     "output_type": "execute_result"
    }
   ],
   "source": [
    "divmod(5,2)"
   ]
  },
  {
   "cell_type": "code",
   "execution_count": 10,
   "id": "74daf27c",
   "metadata": {},
   "outputs": [
    {
     "data": {
      "text/plain": [
       "<function __main__.<lambda>(num)>"
      ]
     },
     "execution_count": 10,
     "metadata": {},
     "output_type": "execute_result"
    }
   ],
   "source": [
    "#to get the lambda expression of the former def function\n",
    "\n",
    "lambda num : num**3"
   ]
  },
  {
   "cell_type": "code",
   "execution_count": 11,
   "id": "cba0526e",
   "metadata": {},
   "outputs": [],
   "source": [
    "number = list(range(0,10))"
   ]
  },
  {
   "cell_type": "code",
   "execution_count": 12,
   "id": "266abe8a",
   "metadata": {},
   "outputs": [
    {
     "data": {
      "text/plain": [
       "[0, 1, 2, 3, 4, 5, 6, 7, 8, 9]"
      ]
     },
     "execution_count": 12,
     "metadata": {},
     "output_type": "execute_result"
    }
   ],
   "source": [
    "number"
   ]
  },
  {
   "cell_type": "code",
   "execution_count": 13,
   "id": "a8e28cb8",
   "metadata": {},
   "outputs": [
    {
     "data": {
      "text/plain": [
       "[0, 1, 4, 9, 16, 25, 36, 49, 64, 81]"
      ]
     },
     "execution_count": 13,
     "metadata": {},
     "output_type": "execute_result"
    }
   ],
   "source": [
    "list(map(lambda x : x**2, number))"
   ]
  },
  {
   "cell_type": "code",
   "execution_count": 14,
   "id": "8d917190",
   "metadata": {},
   "outputs": [],
   "source": [
    "#check if a number is even\n",
    "\n",
    "even = lambda num : num%2 == 0"
   ]
  },
  {
   "cell_type": "code",
   "execution_count": 15,
   "id": "7ed26d47",
   "metadata": {},
   "outputs": [
    {
     "data": {
      "text/plain": [
       "(False, True)"
      ]
     },
     "execution_count": 15,
     "metadata": {},
     "output_type": "execute_result"
    }
   ],
   "source": [
    "even(3), even(4)"
   ]
  },
  {
   "cell_type": "code",
   "execution_count": 16,
   "id": "defe93c4",
   "metadata": {},
   "outputs": [],
   "source": [
    "#check the square of a number\n",
    "\n",
    "sq = lambda num : num**2"
   ]
  },
  {
   "cell_type": "code",
   "execution_count": 17,
   "id": "ddda9e59",
   "metadata": {},
   "outputs": [
    {
     "data": {
      "text/plain": [
       "100"
      ]
     },
     "execution_count": 17,
     "metadata": {},
     "output_type": "execute_result"
    }
   ],
   "source": [
    "sq(10)"
   ]
  },
  {
   "cell_type": "code",
   "execution_count": 18,
   "id": "0de492f6",
   "metadata": {},
   "outputs": [],
   "source": [
    "#get the first character of a string\n",
    "\n",
    "first = lambda x : x[0]"
   ]
  },
  {
   "cell_type": "code",
   "execution_count": 19,
   "id": "bb200c1d",
   "metadata": {},
   "outputs": [
    {
     "data": {
      "text/plain": [
       "'c'"
      ]
     },
     "execution_count": 19,
     "metadata": {},
     "output_type": "execute_result"
    }
   ],
   "source": [
    "first('catholic')"
   ]
  },
  {
   "cell_type": "code",
   "execution_count": 20,
   "id": "369a8664",
   "metadata": {},
   "outputs": [],
   "source": [
    "#reverse a string\n",
    "\n",
    "rev = lambda s : s[::-1]"
   ]
  },
  {
   "cell_type": "code",
   "execution_count": 21,
   "id": "efdcc37f",
   "metadata": {},
   "outputs": [
    {
     "data": {
      "text/plain": [
       "'cilohtac'"
      ]
     },
     "execution_count": 21,
     "metadata": {},
     "output_type": "execute_result"
    }
   ],
   "source": [
    "rev('catholic')"
   ]
  },
  {
   "cell_type": "code",
   "execution_count": 22,
   "id": "68868c9b",
   "metadata": {},
   "outputs": [],
   "source": [
    "def add(a,b):\n",
    "    return a+b"
   ]
  },
  {
   "cell_type": "code",
   "execution_count": 23,
   "id": "205a1ab9",
   "metadata": {},
   "outputs": [
    {
     "data": {
      "text/plain": [
       "13"
      ]
     },
     "execution_count": 23,
     "metadata": {},
     "output_type": "execute_result"
    }
   ],
   "source": [
    "add(10,3)"
   ]
  },
  {
   "cell_type": "code",
   "execution_count": 24,
   "id": "367b8941",
   "metadata": {},
   "outputs": [],
   "source": [
    "add = lambda a,b : a+b"
   ]
  },
  {
   "cell_type": "code",
   "execution_count": 25,
   "id": "c2691f55",
   "metadata": {},
   "outputs": [
    {
     "data": {
      "text/plain": [
       "6"
      ]
     },
     "execution_count": 25,
     "metadata": {},
     "output_type": "execute_result"
    }
   ],
   "source": [
    "add(2,4)"
   ]
  },
  {
   "cell_type": "markdown",
   "id": "60c3c57c",
   "metadata": {},
   "source": [
    "# Introduction to Spark and Python"
   ]
  },
  {
   "cell_type": "markdown",
   "id": "75bd1588",
   "metadata": {},
   "source": [
    "#Spark context represents connection to the Spark clusters, used to create RDD and broadcast variables on that cluster. Keep in mind you can have only one Spark context at a time when running things."
   ]
  },
  {
   "cell_type": "code",
   "execution_count": 26,
   "id": "5c2b05d0",
   "metadata": {},
   "outputs": [],
   "source": [
    "from pyspark import SparkContext"
   ]
  },
  {
   "cell_type": "code",
   "execution_count": 27,
   "id": "fd34438d",
   "metadata": {},
   "outputs": [],
   "source": [
    "sc = SparkContext()"
   ]
  },
  {
   "cell_type": "markdown",
   "id": "32fa627f",
   "metadata": {},
   "source": [
    "#To create and write a text file"
   ]
  },
  {
   "cell_type": "code",
   "execution_count": 29,
   "id": "5218681a",
   "metadata": {},
   "outputs": [
    {
     "name": "stdout",
     "output_type": "stream",
     "text": [
      "Writing example.txt\n"
     ]
    }
   ],
   "source": [
    "%%writefile example.txt                     \n",
    "first line\n",
    "second line\n",
    "third line\n",
    "fourth line"
   ]
  },
  {
   "cell_type": "markdown",
   "id": "0be134c9",
   "metadata": {},
   "source": [
    "#to create a RDD of a textfile method based off sc(SparkContest). Also, create actions and transformation on the RDD. Actions return values while Transformation returns new RDD"
   ]
  },
  {
   "cell_type": "code",
   "execution_count": 30,
   "id": "ab35f68f",
   "metadata": {},
   "outputs": [],
   "source": [
    "textFile = sc.textFile('example.txt')"
   ]
  },
  {
   "cell_type": "code",
   "execution_count": 31,
   "id": "30889f49",
   "metadata": {},
   "outputs": [
    {
     "data": {
      "text/plain": [
       "4"
      ]
     },
     "execution_count": 31,
     "metadata": {},
     "output_type": "execute_result"
    }
   ],
   "source": [
    "#count the number of lines in the textfile example.txt\n",
    "\n",
    "textFile.count()"
   ]
  },
  {
   "cell_type": "code",
   "execution_count": 32,
   "id": "1c3fc921",
   "metadata": {},
   "outputs": [
    {
     "data": {
      "text/plain": [
       "'first line'"
      ]
     },
     "execution_count": 32,
     "metadata": {},
     "output_type": "execute_result"
    }
   ],
   "source": [
    "#get the first line in the textfile example.txt\n",
    "\n",
    "textFile.first()"
   ]
  },
  {
   "cell_type": "code",
   "execution_count": 33,
   "id": "492fd842",
   "metadata": {},
   "outputs": [
    {
     "data": {
      "text/plain": [
       "['first line', 'second line', 'third line']"
      ]
     },
     "execution_count": 33,
     "metadata": {},
     "output_type": "execute_result"
    }
   ],
   "source": [
    "#get the first 3 lines of the textfile example.txt\n",
    "\n",
    "textFile.take(3)"
   ]
  },
  {
   "cell_type": "code",
   "execution_count": 34,
   "id": "d2a26116",
   "metadata": {},
   "outputs": [
    {
     "data": {
      "text/plain": [
       "['first line', 'second line', 'third line', 'fourth line']"
      ]
     },
     "execution_count": 34,
     "metadata": {},
     "output_type": "execute_result"
    }
   ],
   "source": [
    "textFile.collect()"
   ]
  },
  {
   "cell_type": "code",
   "execution_count": 35,
   "id": "aa0c0bcd",
   "metadata": {},
   "outputs": [],
   "source": [
    "#filter transformation on textFile RDD to create a new secfind RDD on the second line\n",
    "\n",
    "secfind = textFile.filter(lambda line : 'second' in line)"
   ]
  },
  {
   "cell_type": "code",
   "execution_count": 36,
   "id": "a3ac6056",
   "metadata": {},
   "outputs": [
    {
     "data": {
      "text/plain": [
       "PythonRDD[5] at RDD at PythonRDD.scala:53"
      ]
     },
     "execution_count": 36,
     "metadata": {},
     "output_type": "execute_result"
    }
   ],
   "source": [
    "secfind"
   ]
  },
  {
   "cell_type": "code",
   "execution_count": 37,
   "id": "1f3fabb5",
   "metadata": {},
   "outputs": [
    {
     "data": {
      "text/plain": [
       "(['second line'], 1, ['second line'])"
      ]
     },
     "execution_count": 37,
     "metadata": {},
     "output_type": "execute_result"
    }
   ],
   "source": [
    "#performing an action on the transformed RDD secfind from RDD textFile\n",
    "\n",
    "secfind.collect(), secfind.count(), secfind.take(1)"
   ]
  },
  {
   "cell_type": "code",
   "execution_count": 38,
   "id": "db572418",
   "metadata": {},
   "outputs": [],
   "source": [
    "thirdline = textFile.filter(lambda line : 'first' in line)"
   ]
  },
  {
   "cell_type": "code",
   "execution_count": 39,
   "id": "3bb21b0c",
   "metadata": {},
   "outputs": [
    {
     "data": {
      "text/plain": [
       "PythonRDD[8] at RDD at PythonRDD.scala:53"
      ]
     },
     "execution_count": 39,
     "metadata": {},
     "output_type": "execute_result"
    }
   ],
   "source": [
    "thirdline"
   ]
  },
  {
   "cell_type": "code",
   "execution_count": 40,
   "id": "324e8c55",
   "metadata": {},
   "outputs": [
    {
     "data": {
      "text/plain": [
       "(['first line'], 1)"
      ]
     },
     "execution_count": 40,
     "metadata": {},
     "output_type": "execute_result"
    }
   ],
   "source": [
    "#performing an action on the transformed RDD thirdline from RDD textFile\n",
    "\n",
    "thirdline.collect(), thirdline.count()"
   ]
  },
  {
   "cell_type": "markdown",
   "id": "e520b522",
   "metadata": {},
   "source": [
    "# RDD Transformations and Actions"
   ]
  },
  {
   "cell_type": "markdown",
   "id": "a145482e",
   "metadata": {},
   "source": [
    "#RDD: Resilent Distributed Dataset.\n",
    "\n",
    "#Transformation: Spark operation that produces an RDD or a form of recipe to do something. Always call an action on RDD.\n",
    "\n",
    "#Action : Spark operation that produces a local object.\n",
    "\n",
    "#Spark Job: sequence of transformations on data with a final action. "
   ]
  },
  {
   "cell_type": "markdown",
   "id": "c5264b81",
   "metadata": {},
   "source": [
    "#Creating an RDD: (1) sc.parallelize(array): create RDD of elements of array or list\n",
    "\n",
    "#(2) sc.textFile(path/to/file): create RDD of line from file."
   ]
  },
  {
   "cell_type": "markdown",
   "id": "2a2fcd09",
   "metadata": {},
   "source": [
    "#from IPython.display import Image         Image(filename='path of image')"
   ]
  },
  {
   "cell_type": "code",
   "execution_count": 41,
   "id": "25631fc4",
   "metadata": {},
   "outputs": [
    {
     "name": "stdout",
     "output_type": "stream",
     "text": [
      "Writing example2.txt\n"
     ]
    }
   ],
   "source": [
    "%%writefile example2.txt\n",
    "first\n",
    "second line\n",
    "the third line\n",
    "then a fourth line"
   ]
  },
  {
   "cell_type": "code",
   "execution_count": 42,
   "id": "0fcbbfb1",
   "metadata": {},
   "outputs": [
    {
     "data": {
      "text/plain": [
       "example2.txt MapPartitionsRDD[11] at textFile at NativeMethodAccessorImpl.java:0"
      ]
     },
     "execution_count": 42,
     "metadata": {},
     "output_type": "execute_result"
    }
   ],
   "source": [
    "#perform transformation and action on the textfile above by creating RDD\n",
    "\n",
    "sc.textFile('example2.txt')"
   ]
  },
  {
   "cell_type": "code",
   "execution_count": 43,
   "id": "80444d25",
   "metadata": {},
   "outputs": [],
   "source": [
    "text_rdd = sc.textFile('example2.txt')"
   ]
  },
  {
   "cell_type": "code",
   "execution_count": 44,
   "id": "a0b77632",
   "metadata": {},
   "outputs": [
    {
     "data": {
      "text/plain": [
       "['first', 'second line', 'the third line', 'then a fourth line']"
      ]
     },
     "execution_count": 44,
     "metadata": {},
     "output_type": "execute_result"
    }
   ],
   "source": [
    "text_rdd.collect()"
   ]
  },
  {
   "cell_type": "code",
   "execution_count": 45,
   "id": "f6a31c06",
   "metadata": {},
   "outputs": [],
   "source": [
    "#mapping the rdd with lambda function\n",
    "\n",
    "words = text_rdd.map(lambda line: line.split())"
   ]
  },
  {
   "cell_type": "code",
   "execution_count": 46,
   "id": "20019469",
   "metadata": {},
   "outputs": [
    {
     "data": {
      "text/plain": [
       "PythonRDD[14] at RDD at PythonRDD.scala:53"
      ]
     },
     "execution_count": 46,
     "metadata": {},
     "output_type": "execute_result"
    }
   ],
   "source": [
    "words"
   ]
  },
  {
   "cell_type": "code",
   "execution_count": 47,
   "id": "20d879be",
   "metadata": {},
   "outputs": [
    {
     "data": {
      "text/plain": [
       "[['first'],\n",
       " ['second', 'line'],\n",
       " ['the', 'third', 'line'],\n",
       " ['then', 'a', 'fourth', 'line']]"
      ]
     },
     "execution_count": 47,
     "metadata": {},
     "output_type": "execute_result"
    }
   ],
   "source": [
    "#calling an action on words\n",
    "\n",
    "words.collect()"
   ]
  },
  {
   "cell_type": "code",
   "execution_count": 81,
   "id": "fc74aff0",
   "metadata": {},
   "outputs": [
    {
     "data": {
      "text/plain": [
       "['first',\n",
       " 'second',\n",
       " 'line',\n",
       " 'the',\n",
       " 'third',\n",
       " 'line',\n",
       " 'then',\n",
       " 'a',\n",
       " 'fourth',\n",
       " 'line']"
      ]
     },
     "execution_count": 81,
     "metadata": {},
     "output_type": "execute_result"
    }
   ],
   "source": [
    "#using a flatmap transformation on rdd and perform an action to get a single list\n",
    "\n",
    "text_rdd.flatMap(lambda line: line.split()).collect()"
   ]
  },
  {
   "cell_type": "markdown",
   "id": "58e86bb7",
   "metadata": {},
   "source": [
    "# RDD and Key-Value Pairs"
   ]
  },
  {
   "cell_type": "code",
   "execution_count": 49,
   "id": "02ca5a82",
   "metadata": {},
   "outputs": [
    {
     "name": "stdout",
     "output_type": "stream",
     "text": [
      "Writing services.txt\n"
     ]
    }
   ],
   "source": [
    "%%writefile services.txt\n",
    "#EventId   Timestamp   Customer  State  ServiceID  Amount\n",
    "201        10/13/2017  100       NY     131        100.00\n",
    "204        10/18/2017  700       TX     129        450.00\n",
    "202        10/15/2017  203       CA     121        200.00\n",
    "206        10/19/2017  202       CA     131        500.00\n",
    "203        10/17/2017  101       NY     173        750.00\n",
    "205        10/19/2017  202       TX     121        200.00"
   ]
  },
  {
   "cell_type": "code",
   "execution_count": 50,
   "id": "9f77d41b",
   "metadata": {},
   "outputs": [],
   "source": [
    "services = sc.textFile('services.txt')"
   ]
  },
  {
   "cell_type": "code",
   "execution_count": 51,
   "id": "402bce44",
   "metadata": {},
   "outputs": [
    {
     "data": {
      "text/plain": [
       "['#EventId   Timestamp   Customer  State  ServiceID  Amount',\n",
       " '201        10/13/2017  100       NY     131        100.00']"
      ]
     },
     "execution_count": 51,
     "metadata": {},
     "output_type": "execute_result"
    }
   ],
   "source": [
    "#grab the first two lines of services.txt to get single string per line\n",
    "\n",
    "services.take(2)"
   ]
  },
  {
   "cell_type": "code",
   "execution_count": 52,
   "id": "337efbbb",
   "metadata": {},
   "outputs": [
    {
     "data": {
      "text/plain": [
       "[['#EventId', 'Timestamp', 'Customer', 'State', 'ServiceID', 'Amount'],\n",
       " ['201', '10/13/2017', '100', 'NY', '131', '100.00'],\n",
       " ['204', '10/18/2017', '700', 'TX', '129', '450.00']]"
      ]
     },
     "execution_count": 52,
     "metadata": {},
     "output_type": "execute_result"
    }
   ],
   "source": [
    "#split first three lines of services and perform the take action on it. it gives list of each item\n",
    "\n",
    "services.map(lambda line: line.split()).take(3)"
   ]
  },
  {
   "cell_type": "code",
   "execution_count": 55,
   "id": "2d3b8f72",
   "metadata": {},
   "outputs": [],
   "source": [
    "get_rid = services.map(lambda line: line.split()).take(1)"
   ]
  },
  {
   "cell_type": "code",
   "execution_count": 57,
   "id": "76d065f2",
   "metadata": {},
   "outputs": [
    {
     "data": {
      "text/plain": [
       "[['#EventId', 'Timestamp', 'Customer', 'State', 'ServiceID', 'Amount']]"
      ]
     },
     "execution_count": 57,
     "metadata": {},
     "output_type": "execute_result"
    }
   ],
   "source": [
    "get_rid"
   ]
  },
  {
   "cell_type": "code",
   "execution_count": 62,
   "id": "00255a4e",
   "metadata": {},
   "outputs": [
    {
     "data": {
      "text/plain": [
       "'EventId'"
      ]
     },
     "execution_count": 62,
     "metadata": {},
     "output_type": "execute_result"
    }
   ],
   "source": [
    "get_rid[0][0].split('#')[1]"
   ]
  },
  {
   "cell_type": "code",
   "execution_count": 75,
   "id": "5d9e7714",
   "metadata": {},
   "outputs": [
    {
     "data": {
      "text/plain": [
       "['EventId   Timestamp   Customer  State  ServiceID  Amount',\n",
       " '201        10/13/2017  100       NY     131        100.00',\n",
       " '204        10/18/2017  700       TX     129        450.00',\n",
       " '202        10/15/2017  203       CA     121        200.00',\n",
       " '206        10/19/2017  202       CA     131        500.00',\n",
       " '203        10/17/2017  101       NY     173        750.00',\n",
       " '205        10/19/2017  202       TX     121        200.00']"
      ]
     },
     "execution_count": 75,
     "metadata": {},
     "output_type": "execute_result"
    }
   ],
   "source": [
    "#remove the # sign in the first item of every string, else return the entire line if # not present\n",
    "\n",
    "services.map(lambda line: line[1:] if line[0]=='#' else line).collect()"
   ]
  },
  {
   "cell_type": "code",
   "execution_count": 65,
   "id": "30e1b489",
   "metadata": {},
   "outputs": [],
   "source": [
    "#same as above to remove the # sign rom every line and return lines without #\n",
    "\n",
    "clean_data = services.map(lambda line: line[1:] if line[0]=='#' else line)"
   ]
  },
  {
   "cell_type": "code",
   "execution_count": 66,
   "id": "b16c85a4",
   "metadata": {},
   "outputs": [],
   "source": [
    "clean = clean_data.map(lambda line: line.split())"
   ]
  },
  {
   "cell_type": "code",
   "execution_count": 67,
   "id": "ba56550b",
   "metadata": {},
   "outputs": [
    {
     "data": {
      "text/plain": [
       "[['EventId', 'Timestamp', 'Customer', 'State', 'ServiceID', 'Amount'],\n",
       " ['201', '10/13/2017', '100', 'NY', '131', '100.00'],\n",
       " ['204', '10/18/2017', '700', 'TX', '129', '450.00'],\n",
       " ['202', '10/15/2017', '203', 'CA', '121', '200.00'],\n",
       " ['206', '10/19/2017', '202', 'CA', '131', '500.00'],\n",
       " ['203', '10/17/2017', '101', 'NY', '173', '750.00'],\n",
       " ['205', '10/19/2017', '202', 'TX', '121', '200.00']]"
      ]
     },
     "execution_count": 67,
     "metadata": {},
     "output_type": "execute_result"
    }
   ],
   "source": [
    "clean.collect()"
   ]
  },
  {
   "cell_type": "code",
   "execution_count": 69,
   "id": "0ee92889",
   "metadata": {},
   "outputs": [
    {
     "data": {
      "text/plain": [
       "[('State', 'Amount'),\n",
       " ('NY', '100.00'),\n",
       " ('TX', '450.00'),\n",
       " ('CA', '200.00'),\n",
       " ('CA', '500.00'),\n",
       " ('NY', '750.00'),\n",
       " ('TX', '200.00')]"
      ]
     },
     "execution_count": 69,
     "metadata": {},
     "output_type": "execute_result"
    }
   ],
   "source": [
    "#to grab the state and amount columns as a tuple\n",
    "\n",
    "clean.map(lambda lst: (lst[3],lst[5])).collect()"
   ]
  },
  {
   "cell_type": "code",
   "execution_count": 70,
   "id": "7dd0173e",
   "metadata": {},
   "outputs": [],
   "source": [
    "# same as above but in two processes.\n",
    "\n",
    "pair = clean.map(lambda lst: (lst[3],lst[-1]))"
   ]
  },
  {
   "cell_type": "code",
   "execution_count": 71,
   "id": "f08a9e7f",
   "metadata": {},
   "outputs": [
    {
     "data": {
      "text/plain": [
       "[('State', 'Amount'),\n",
       " ('NY', '100.00'),\n",
       " ('TX', '450.00'),\n",
       " ('CA', '200.00'),\n",
       " ('CA', '500.00'),\n",
       " ('NY', '750.00'),\n",
       " ('TX', '200.00')]"
      ]
     },
     "execution_count": 71,
     "metadata": {},
     "output_type": "execute_result"
    }
   ],
   "source": [
    "pair.collect()"
   ]
  },
  {
   "cell_type": "code",
   "execution_count": 72,
   "id": "59cf3ffa",
   "metadata": {},
   "outputs": [],
   "source": [
    "# to reduce key(states) to a single amount. reducebtkey assumes the first item in tuple is the key. in this case, States.\n",
    "# reducebyKey performs the lambda expression on the second item of the tuple. in this case, amount.\n",
    "\n",
    "rekey = pair.reduceByKey(lambda amt1,amt2: float(amt1) + float(amt2))"
   ]
  },
  {
   "cell_type": "code",
   "execution_count": 73,
   "id": "be774806",
   "metadata": {},
   "outputs": [
    {
     "data": {
      "text/plain": [
       "[('State', 'Amount'), ('NY', 850.0), ('TX', 650.0), ('CA', 700.0)]"
      ]
     },
     "execution_count": 73,
     "metadata": {},
     "output_type": "execute_result"
    }
   ],
   "source": [
    "rekey.collect()"
   ]
  },
  {
   "cell_type": "code",
   "execution_count": 76,
   "id": "ddf75ec3",
   "metadata": {},
   "outputs": [
    {
     "data": {
      "text/plain": [
       "[['EventId', 'Timestamp', 'Customer', 'State', 'ServiceID', 'Amount'],\n",
       " ['201', '10/13/2017', '100', 'NY', '131', '100.00'],\n",
       " ['204', '10/18/2017', '700', 'TX', '129', '450.00'],\n",
       " ['202', '10/15/2017', '203', 'CA', '121', '200.00'],\n",
       " ['206', '10/19/2017', '202', 'CA', '131', '500.00'],\n",
       " ['203', '10/17/2017', '101', 'NY', '173', '750.00'],\n",
       " ['205', '10/19/2017', '202', 'TX', '121', '200.00']]"
      ]
     },
     "execution_count": 76,
     "metadata": {},
     "output_type": "execute_result"
    }
   ],
   "source": [
    "clean.collect()"
   ]
  },
  {
   "cell_type": "code",
   "execution_count": 77,
   "id": "4220b99c",
   "metadata": {},
   "outputs": [
    {
     "data": {
      "text/plain": [
       "[('NY', 850.0), ('CA', 700.0), ('TX', 650.0)]"
      ]
     },
     "execution_count": 77,
     "metadata": {},
     "output_type": "execute_result"
    }
   ],
   "source": [
    "# Grab (State, Amount) in the form of a tuple.\n",
    "step1 = clean.map(lambda lst: (lst[3],lst[-1]))\n",
    "# Reduce by Key\n",
    "step2 = step1.reduceByKey(lambda amt1,amt2 : float(amt1) + float(amt2))\n",
    "# Get rid of State, Amount titles\n",
    "step3 = step2.filter(lambda x : not x[0]=='State')\n",
    "# Sort results by Amount\n",
    "step4 = step3.sortBy(lambda stAmount : stAmount[1], ascending=False)\n",
    "# Action\n",
    "step4.collect()"
   ]
  },
  {
   "cell_type": "code",
   "execution_count": 78,
   "id": "72cd992c",
   "metadata": {},
   "outputs": [],
   "source": [
    "# Replacing the indexing method above with tuple unpacking\n",
    "x = ['ID', 'State', 'Amount']"
   ]
  },
  {
   "cell_type": "code",
   "execution_count": 91,
   "id": "b098020c",
   "metadata": {},
   "outputs": [],
   "source": [
    "# instead of using lambda expression, you can also use def to get the actual amount\n",
    "def func1(lst):\n",
    "    return lst[-1]"
   ]
  },
  {
   "cell_type": "code",
   "execution_count": 95,
   "id": "f5a30f12",
   "metadata": {},
   "outputs": [],
   "source": [
    "def func2(id_st_amt):\n",
    "    #unpack values\n",
    "    (Id,st,amt) = id_st_amt\n",
    "    return amt"
   ]
  },
  {
   "cell_type": "code",
   "execution_count": 96,
   "id": "eb2a9ec8",
   "metadata": {},
   "outputs": [
    {
     "data": {
      "text/plain": [
       "'Amount'"
      ]
     },
     "execution_count": 96,
     "metadata": {},
     "output_type": "execute_result"
    }
   ],
   "source": [
    "func1(x)"
   ]
  },
  {
   "cell_type": "code",
   "execution_count": 97,
   "id": "0682ecde",
   "metadata": {},
   "outputs": [
    {
     "data": {
      "text/plain": [
       "'Amount'"
      ]
     },
     "execution_count": 97,
     "metadata": {},
     "output_type": "execute_result"
    }
   ],
   "source": [
    "func2(x)"
   ]
  },
  {
   "cell_type": "code",
   "execution_count": 111,
   "id": "4632827f",
   "metadata": {},
   "outputs": [],
   "source": [
    "# pop(0) can also be used to get rid of State, Amount titles.\n",
    "# rekey.collect, then pop(0) to pop the first tuple: State, Amount\n",
    "# check back for sc.parallelize()"
   ]
  },
  {
   "cell_type": "code",
   "execution_count": null,
   "id": "f47bef5a",
   "metadata": {},
   "outputs": [],
   "source": []
  }
 ],
 "metadata": {
  "kernelspec": {
   "display_name": "Python 3 (ipykernel)",
   "language": "python",
   "name": "python3"
  },
  "language_info": {
   "codemirror_mode": {
    "name": "ipython",
    "version": 3
   },
   "file_extension": ".py",
   "mimetype": "text/x-python",
   "name": "python",
   "nbconvert_exporter": "python",
   "pygments_lexer": "ipython3",
   "version": "3.9.12"
  }
 },
 "nbformat": 4,
 "nbformat_minor": 5
}
