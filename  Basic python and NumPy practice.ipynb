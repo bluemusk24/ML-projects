{
 "cells": [
  {
   "cell_type": "code",
   "execution_count": 1,
   "id": "ab3f36cc",
   "metadata": {},
   "outputs": [],
   "source": [
    "x = 3\n",
    "y = 5"
   ]
  },
  {
   "cell_type": "code",
   "execution_count": 2,
   "id": "dd9394d9",
   "metadata": {},
   "outputs": [],
   "source": [
    "a = x + y"
   ]
  },
  {
   "cell_type": "code",
   "execution_count": 3,
   "id": "6e8d3fec",
   "metadata": {},
   "outputs": [
    {
     "data": {
      "text/plain": [
       "8"
      ]
     },
     "execution_count": 3,
     "metadata": {},
     "output_type": "execute_result"
    }
   ],
   "source": [
    "a"
   ]
  },
  {
   "cell_type": "code",
   "execution_count": 4,
   "id": "7d8a6690",
   "metadata": {},
   "outputs": [],
   "source": [
    "b = a+a"
   ]
  },
  {
   "cell_type": "code",
   "execution_count": 5,
   "id": "50b99bbb",
   "metadata": {},
   "outputs": [
    {
     "data": {
      "text/plain": [
       "16"
      ]
     },
     "execution_count": 5,
     "metadata": {},
     "output_type": "execute_result"
    }
   ],
   "source": [
    "b"
   ]
  },
  {
   "cell_type": "code",
   "execution_count": 6,
   "id": "63978e6a",
   "metadata": {},
   "outputs": [
    {
     "data": {
      "text/plain": [
       "4"
      ]
     },
     "execution_count": 6,
     "metadata": {},
     "output_type": "execute_result"
    }
   ],
   "source": [
    "1 + 3"
   ]
  },
  {
   "cell_type": "code",
   "execution_count": 7,
   "id": "9d1780a7",
   "metadata": {},
   "outputs": [
    {
     "data": {
      "text/plain": [
       "-2"
      ]
     },
     "execution_count": 7,
     "metadata": {},
     "output_type": "execute_result"
    }
   ],
   "source": [
    "3-5"
   ]
  },
  {
   "cell_type": "code",
   "execution_count": 8,
   "id": "843f239f",
   "metadata": {},
   "outputs": [
    {
     "data": {
      "text/plain": [
       "0"
      ]
     },
     "execution_count": 8,
     "metadata": {},
     "output_type": "execute_result"
    }
   ],
   "source": [
    "4 % 2     # % is a modula sign use to test for even numbers. It gives the remainder of a division."
   ]
  },
  {
   "cell_type": "code",
   "execution_count": 9,
   "id": "1ea18f7a",
   "metadata": {},
   "outputs": [
    {
     "data": {
      "text/plain": [
       "2"
      ]
     },
     "execution_count": 9,
     "metadata": {},
     "output_type": "execute_result"
    }
   ],
   "source": [
    "5 // 2   # // gives the whole number after a division without the decimals."
   ]
  },
  {
   "cell_type": "markdown",
   "id": "caad742b",
   "metadata": {},
   "source": [
    "x and y are variable with 10 and 15 assigned to them. Variable names cannot start with numbers. use _ to separate two-word variable.      "
   ]
  },
  {
   "cell_type": "code",
   "execution_count": 10,
   "id": "1d5984ae",
   "metadata": {},
   "outputs": [],
   "source": [
    "x = 10\n",
    "y = 15"
   ]
  },
  {
   "cell_type": "code",
   "execution_count": 11,
   "id": "0fe1e5c4",
   "metadata": {},
   "outputs": [
    {
     "data": {
      "text/plain": [
       "25"
      ]
     },
     "execution_count": 11,
     "metadata": {},
     "output_type": "execute_result"
    }
   ],
   "source": [
    "x + y"
   ]
  },
  {
   "cell_type": "code",
   "execution_count": 12,
   "id": "7058fef6",
   "metadata": {},
   "outputs": [],
   "source": [
    "x = x + x"
   ]
  },
  {
   "cell_type": "code",
   "execution_count": 13,
   "id": "07f74769",
   "metadata": {},
   "outputs": [
    {
     "data": {
      "text/plain": [
       "20"
      ]
     },
     "execution_count": 13,
     "metadata": {},
     "output_type": "execute_result"
    }
   ],
   "source": [
    "x       # x here overwrites all previously values of x"
   ]
  },
  {
   "cell_type": "markdown",
   "id": "bd4365fe",
   "metadata": {},
   "source": [
    "STRINGS: you can use '' or \"\" for strings."
   ]
  },
  {
   "cell_type": "code",
   "execution_count": 14,
   "id": "1e93372d",
   "metadata": {},
   "outputs": [],
   "source": [
    "greet_me = \"how are you doing?\""
   ]
  },
  {
   "cell_type": "code",
   "execution_count": 15,
   "id": "c31d4085",
   "metadata": {},
   "outputs": [
    {
     "name": "stdout",
     "output_type": "stream",
     "text": [
      "how are you doing?\n"
     ]
    }
   ],
   "source": [
    "print(greet_me)      #use print when you want to display stuffs in python"
   ]
  },
  {
   "cell_type": "code",
   "execution_count": 16,
   "id": "98787430",
   "metadata": {},
   "outputs": [
    {
     "data": {
      "text/plain": [
       "'how are you doing?'"
      ]
     },
     "execution_count": 16,
     "metadata": {},
     "output_type": "execute_result"
    }
   ],
   "source": [
    "greet_me     # this is without the print function which displays an output."
   ]
  },
  {
   "cell_type": "code",
   "execution_count": 17,
   "id": "d11ed526",
   "metadata": {},
   "outputs": [],
   "source": [
    "name = \"Leah Alfaro\"\n",
    "age = 13"
   ]
  },
  {
   "cell_type": "code",
   "execution_count": 18,
   "id": "b84404c2",
   "metadata": {},
   "outputs": [
    {
     "name": "stdout",
     "output_type": "stream",
     "text": [
      "Leah Alfaro is mean because she thinks 13 years old are grown\n"
     ]
    }
   ],
   "source": [
    "#this is string formatting.\n",
    "print(\"{} is mean because she thinks {} years old are grown\".format(name, age))  "
   ]
  },
  {
   "cell_type": "code",
   "execution_count": 19,
   "id": "868e975d",
   "metadata": {},
   "outputs": [],
   "source": [
    "num = 35\n",
    "new_name = 'Rafael'"
   ]
  },
  {
   "cell_type": "code",
   "execution_count": 20,
   "id": "2bc5278b",
   "metadata": {},
   "outputs": [
    {
     "name": "stdout",
     "output_type": "stream",
     "text": [
      "my friend is Rafael, he is 35 years old but Rafael does not act like 35 years old\n"
     ]
    }
   ],
   "source": [
    "print('my friend is {one}, he is {two} years old but {one} does not act like {two} years old'.format(one = new_name, two = num))"
   ]
  },
  {
   "cell_type": "code",
   "execution_count": 21,
   "id": "69075bb5",
   "metadata": {},
   "outputs": [],
   "source": [
    "my_name = 'Emmanuel'     # string indexing: use [] and letters start from zero. "
   ]
  },
  {
   "cell_type": "code",
   "execution_count": 22,
   "id": "c9f7fcfd",
   "metadata": {},
   "outputs": [
    {
     "data": {
      "text/plain": [
       "('E', 'm', 'm', 'a', 'n', 'u', 'e', 'l')"
      ]
     },
     "execution_count": 22,
     "metadata": {},
     "output_type": "execute_result"
    }
   ],
   "source": [
    "my_name[0], my_name[1], my_name[2], my_name[3], my_name[4], my_name[5], my_name[6], my_name[7]"
   ]
  },
  {
   "cell_type": "code",
   "execution_count": 23,
   "id": "1c372177",
   "metadata": {},
   "outputs": [
    {
     "data": {
      "text/plain": [
       "'n'"
      ]
     },
     "execution_count": 23,
     "metadata": {},
     "output_type": "execute_result"
    }
   ],
   "source": [
    "my_name[4]  # string index."
   ]
  },
  {
   "cell_type": "code",
   "execution_count": 24,
   "id": "7b94d3ff",
   "metadata": {},
   "outputs": [
    {
     "data": {
      "text/plain": [
       "'Emmanuel'"
      ]
     },
     "execution_count": 24,
     "metadata": {},
     "output_type": "execute_result"
    }
   ],
   "source": [
    "my_name[0:]  # this slicing indicates all the letter in the variable my_name"
   ]
  },
  {
   "cell_type": "code",
   "execution_count": 25,
   "id": "91a1dce4",
   "metadata": {},
   "outputs": [
    {
     "data": {
      "text/plain": [
       "'Emma'"
      ]
     },
     "execution_count": 25,
     "metadata": {},
     "output_type": "execute_result"
    }
   ],
   "source": [
    "my_name[0:4] # slicing picks from E to a excluding the last character."
   ]
  },
  {
   "cell_type": "code",
   "execution_count": 27,
   "id": "0a4d0cea",
   "metadata": {},
   "outputs": [
    {
     "data": {
      "text/plain": [
       "('Emmanue', 'Emmanuel', 'Emman', 'man', 'Emne')"
      ]
     },
     "execution_count": 27,
     "metadata": {},
     "output_type": "execute_result"
    }
   ],
   "source": [
    "my_name[:-1], my_name[:], my_name[:-3], my_name[2:5], my_name[::2] # others form of string slicing."
   ]
  },
  {
   "cell_type": "markdown",
   "id": "14c57c3d",
   "metadata": {},
   "source": [
    "LIST: This is a sequence of elements separated by commas. List take in any data type: intergers, strings, floats etc."
   ]
  },
  {
   "cell_type": "code",
   "execution_count": 28,
   "id": "025bbc13",
   "metadata": {},
   "outputs": [],
   "source": [
    "my_list = ['Ray', 'Emma', 'Jennifer', 'Leah', 'Miguel']"
   ]
  },
  {
   "cell_type": "code",
   "execution_count": 29,
   "id": "00084d57",
   "metadata": {},
   "outputs": [],
   "source": [
    "my_list.append('Braylon')     # append() takes one argument."
   ]
  },
  {
   "cell_type": "code",
   "execution_count": 30,
   "id": "46a0aa16",
   "metadata": {},
   "outputs": [
    {
     "data": {
      "text/plain": [
       "['Ray', 'Emma', 'Jennifer', 'Leah', 'Miguel', 'Braylon']"
      ]
     },
     "execution_count": 30,
     "metadata": {},
     "output_type": "execute_result"
    }
   ],
   "source": [
    "my_list"
   ]
  },
  {
   "cell_type": "code",
   "execution_count": 31,
   "id": "412df887",
   "metadata": {},
   "outputs": [
    {
     "data": {
      "text/plain": [
       "['Ray', 'Emma', 'Jennifer', 'Leah']"
      ]
     },
     "execution_count": 31,
     "metadata": {},
     "output_type": "execute_result"
    }
   ],
   "source": [
    "my_list[0:4]"
   ]
  },
  {
   "cell_type": "code",
   "execution_count": 32,
   "id": "029169c6",
   "metadata": {},
   "outputs": [],
   "source": [
    "my_list[1] = 'Bianca'"
   ]
  },
  {
   "cell_type": "code",
   "execution_count": 33,
   "id": "112f006f",
   "metadata": {},
   "outputs": [],
   "source": [
    "my_list[4] = 'Stanley'"
   ]
  },
  {
   "cell_type": "code",
   "execution_count": 34,
   "id": "a7d86fac",
   "metadata": {},
   "outputs": [
    {
     "data": {
      "text/plain": [
       "['Ray', 'Bianca', 'Jennifer', 'Leah', 'Stanley', 'Braylon']"
      ]
     },
     "execution_count": 34,
     "metadata": {},
     "output_type": "execute_result"
    }
   ],
   "source": [
    "my_list    # extend is use for Bianca and Ray."
   ]
  },
  {
   "cell_type": "code",
   "execution_count": 35,
   "id": "77827eab",
   "metadata": {},
   "outputs": [
    {
     "data": {
      "text/plain": [
       "['Ray', 'Bianca', 'Jennifer']"
      ]
     },
     "execution_count": 35,
     "metadata": {},
     "output_type": "execute_result"
    }
   ],
   "source": [
    "my_list[:-3]"
   ]
  },
  {
   "cell_type": "code",
   "execution_count": 36,
   "id": "7c3b3a22",
   "metadata": {},
   "outputs": [],
   "source": [
    "nested_list = [1,2,3,[4,5]]  # nested list is a list inside a list"
   ]
  },
  {
   "cell_type": "code",
   "execution_count": 37,
   "id": "e4eab1cc",
   "metadata": {},
   "outputs": [
    {
     "data": {
      "text/plain": [
       "[1, 2, 3, [4, 5]]"
      ]
     },
     "execution_count": 37,
     "metadata": {},
     "output_type": "execute_result"
    }
   ],
   "source": [
    "nested_list"
   ]
  },
  {
   "cell_type": "code",
   "execution_count": 38,
   "id": "57633a9c",
   "metadata": {},
   "outputs": [
    {
     "data": {
      "text/plain": [
       "5"
      ]
     },
     "execution_count": 38,
     "metadata": {},
     "output_type": "execute_result"
    }
   ],
   "source": [
    "nested_list[3][1]     # slicing of a list inside a list"
   ]
  },
  {
   "cell_type": "code",
   "execution_count": 39,
   "id": "53be783f",
   "metadata": {},
   "outputs": [
    {
     "data": {
      "text/plain": [
       "4"
      ]
     },
     "execution_count": 39,
     "metadata": {},
     "output_type": "execute_result"
    }
   ],
   "source": [
    "nested_list[3][0]    # slicing of a list inside a list"
   ]
  },
  {
   "cell_type": "code",
   "execution_count": 40,
   "id": "b9e293fc",
   "metadata": {},
   "outputs": [],
   "source": [
    "nest = [10,11,12,[13,14,['boy', 'girl']]]"
   ]
  },
  {
   "cell_type": "code",
   "execution_count": 41,
   "id": "47f74ad1",
   "metadata": {},
   "outputs": [
    {
     "data": {
      "text/plain": [
       "[13, 14, ['boy', 'girl']]"
      ]
     },
     "execution_count": 41,
     "metadata": {},
     "output_type": "execute_result"
    }
   ],
   "source": [
    "nest[3]  #slicing a list inside a list."
   ]
  },
  {
   "cell_type": "code",
   "execution_count": 42,
   "id": "c73544a7",
   "metadata": {},
   "outputs": [
    {
     "data": {
      "text/plain": [
       "'girl'"
      ]
     },
     "execution_count": 42,
     "metadata": {},
     "output_type": "execute_result"
    }
   ],
   "source": [
    "nest[3][2][1]  #slicing a list inside s list inside a list."
   ]
  },
  {
   "cell_type": "code",
   "execution_count": 43,
   "id": "295e43ef",
   "metadata": {},
   "outputs": [
    {
     "name": "stdout",
     "output_type": "stream",
     "text": [
      "boy\n"
     ]
    }
   ],
   "source": [
    "print(nest[3][2][0]) # print a sliced list inside a list inside a list. "
   ]
  },
  {
   "cell_type": "markdown",
   "id": "cd1ff17e",
   "metadata": {},
   "source": [
    "Dictionaries: unordered, curly bracket{}, a key, :, and a corresponding value of the key. Dictionaries have key, value pairs. "
   ]
  },
  {
   "cell_type": "code",
   "execution_count": 44,
   "id": "a84d355c",
   "metadata": {},
   "outputs": [],
   "source": [
    "d = {'key1' : 'value', 'key2' : 123, }"
   ]
  },
  {
   "cell_type": "code",
   "execution_count": 45,
   "id": "4b3ec187",
   "metadata": {},
   "outputs": [
    {
     "data": {
      "text/plain": [
       "('value', 123)"
      ]
     },
     "execution_count": 45,
     "metadata": {},
     "output_type": "execute_result"
    }
   ],
   "source": [
    "d['key1'], d['key2']   # the square bracket besides the dictionary calls the values of the keys: key1 & key2."
   ]
  },
  {
   "cell_type": "code",
   "execution_count": 46,
   "id": "5d9df888",
   "metadata": {},
   "outputs": [],
   "source": [
    "d = {'key3': [1,2,3]}"
   ]
  },
  {
   "cell_type": "code",
   "execution_count": 47,
   "id": "66a49bfd",
   "metadata": {},
   "outputs": [
    {
     "data": {
      "text/plain": [
       "[1, 2, 3]"
      ]
     },
     "execution_count": 47,
     "metadata": {},
     "output_type": "execute_result"
    }
   ],
   "source": [
    "d['key3']    #this calls the list values of key3"
   ]
  },
  {
   "cell_type": "code",
   "execution_count": 48,
   "id": "fbfbed7d",
   "metadata": {},
   "outputs": [
    {
     "data": {
      "text/plain": [
       "(1, 2, 3)"
      ]
     },
     "execution_count": 48,
     "metadata": {},
     "output_type": "execute_result"
    }
   ],
   "source": [
    "d['key3'][0], d['key3'][1], d['key3'][2]  # this calls individual values in the list of keys3"
   ]
  },
  {
   "cell_type": "code",
   "execution_count": 49,
   "id": "5887a8af",
   "metadata": {},
   "outputs": [],
   "source": [
    "d = {'old_key':{'new_key':['Emma', 'Marian', 'Anthonia', 'Sarah']}} # this is a nested dictionary."
   ]
  },
  {
   "cell_type": "code",
   "execution_count": 50,
   "id": "4760a050",
   "metadata": {},
   "outputs": [
    {
     "data": {
      "text/plain": [
       "{'new_key': ['Emma', 'Marian', 'Anthonia', 'Sarah']}"
      ]
     },
     "execution_count": 50,
     "metadata": {},
     "output_type": "execute_result"
    }
   ],
   "source": [
    "d['old_key']   # this calls the inside dictionary and its values"
   ]
  },
  {
   "cell_type": "code",
   "execution_count": 51,
   "id": "766445be",
   "metadata": {},
   "outputs": [
    {
     "data": {
      "text/plain": [
       "['Emma', 'Marian', 'Anthonia', 'Sarah']"
      ]
     },
     "execution_count": 51,
     "metadata": {},
     "output_type": "execute_result"
    }
   ],
   "source": [
    "d['old_key']['new_key']  # this calls the values of the nested key new_key"
   ]
  },
  {
   "cell_type": "code",
   "execution_count": 52,
   "id": "15af332c",
   "metadata": {},
   "outputs": [
    {
     "data": {
      "text/plain": [
       "'Emma'"
      ]
     },
     "execution_count": 52,
     "metadata": {},
     "output_type": "execute_result"
    }
   ],
   "source": [
    "d['old_key']['new_key'][0]"
   ]
  },
  {
   "cell_type": "code",
   "execution_count": 53,
   "id": "f45a817f",
   "metadata": {},
   "outputs": [
    {
     "data": {
      "text/plain": [
       "'Marian'"
      ]
     },
     "execution_count": 53,
     "metadata": {},
     "output_type": "execute_result"
    }
   ],
   "source": [
    "d['old_key']['new_key'][1]"
   ]
  },
  {
   "cell_type": "code",
   "execution_count": 54,
   "id": "3cef0d54",
   "metadata": {},
   "outputs": [
    {
     "data": {
      "text/plain": [
       "'Anthonia'"
      ]
     },
     "execution_count": 54,
     "metadata": {},
     "output_type": "execute_result"
    }
   ],
   "source": [
    "d['old_key']['new_key'][2]"
   ]
  },
  {
   "cell_type": "code",
   "execution_count": 55,
   "id": "46826fe4",
   "metadata": {},
   "outputs": [
    {
     "name": "stdout",
     "output_type": "stream",
     "text": [
      "Sarah\n"
     ]
    }
   ],
   "source": [
    "print(d['old_key']['new_key'][3])"
   ]
  },
  {
   "cell_type": "markdown",
   "id": "31d0deb0",
   "metadata": {},
   "source": [
    "Booleans is either True or False"
   ]
  },
  {
   "cell_type": "code",
   "execution_count": 56,
   "id": "2460bcd4",
   "metadata": {},
   "outputs": [],
   "source": [
    "t = (1,2,3,4)  #structured, similar to list except the () differs from [] for a list. Tuples are immutable unlike list"
   ]
  },
  {
   "cell_type": "code",
   "execution_count": 57,
   "id": "6d22ab76",
   "metadata": {},
   "outputs": [
    {
     "data": {
      "text/plain": [
       "1"
      ]
     },
     "execution_count": 57,
     "metadata": {},
     "output_type": "execute_result"
    }
   ],
   "source": [
    "t[0]    # calling the tuple using indexing."
   ]
  },
  {
   "cell_type": "code",
   "execution_count": 58,
   "id": "b907d973",
   "metadata": {},
   "outputs": [
    {
     "data": {
      "text/plain": [
       "2"
      ]
     },
     "execution_count": 58,
     "metadata": {},
     "output_type": "execute_result"
    }
   ],
   "source": [
    "t[1]   "
   ]
  },
  {
   "cell_type": "code",
   "execution_count": 59,
   "id": "41c10f2b",
   "metadata": {},
   "outputs": [
    {
     "data": {
      "text/plain": [
       "3"
      ]
     },
     "execution_count": 59,
     "metadata": {},
     "output_type": "execute_result"
    }
   ],
   "source": [
    "t[2]"
   ]
  },
  {
   "cell_type": "code",
   "execution_count": 60,
   "id": "c9133592",
   "metadata": {},
   "outputs": [
    {
     "data": {
      "text/plain": [
       "4"
      ]
     },
     "execution_count": 60,
     "metadata": {},
     "output_type": "execute_result"
    }
   ],
   "source": [
    "t[3]"
   ]
  },
  {
   "cell_type": "code",
   "execution_count": 61,
   "id": "fc8d0229",
   "metadata": {},
   "outputs": [],
   "source": [
    "old_list = ['a','b','c','d']   # list can be modified i.e mutable and can add assignment"
   ]
  },
  {
   "cell_type": "code",
   "execution_count": 62,
   "id": "a9c30157",
   "metadata": {},
   "outputs": [],
   "source": [
    "old_list[0] = 'old'"
   ]
  },
  {
   "cell_type": "code",
   "execution_count": 63,
   "id": "ad4f6be5",
   "metadata": {},
   "outputs": [
    {
     "data": {
      "text/plain": [
       "['old', 'b', 'c', 'd']"
      ]
     },
     "execution_count": 63,
     "metadata": {},
     "output_type": "execute_result"
    }
   ],
   "source": [
    "old_list"
   ]
  },
  {
   "cell_type": "code",
   "execution_count": 64,
   "id": "81d1b219",
   "metadata": {},
   "outputs": [],
   "source": [
    "t = (1,2,3,4) "
   ]
  },
  {
   "cell_type": "code",
   "execution_count": 65,
   "id": "31d06ca2",
   "metadata": {},
   "outputs": [
    {
     "ename": "TypeError",
     "evalue": "'tuple' object does not support item assignment",
     "output_type": "error",
     "traceback": [
      "\u001b[1;31m---------------------------------------------------------------------------\u001b[0m",
      "\u001b[1;31mTypeError\u001b[0m                                 Traceback (most recent call last)",
      "Input \u001b[1;32mIn [65]\u001b[0m, in \u001b[0;36m<cell line: 1>\u001b[1;34m()\u001b[0m\n\u001b[1;32m----> 1\u001b[0m t[\u001b[38;5;241m0\u001b[39m] \u001b[38;5;241m=\u001b[39m \u001b[38;5;241m6\u001b[39m\n",
      "\u001b[1;31mTypeError\u001b[0m: 'tuple' object does not support item assignment"
     ]
    }
   ],
   "source": [
    "t[0] = 6     #tuples are immutable and cannot be modified or add assignment."
   ]
  },
  {
   "cell_type": "markdown",
   "id": "3b8c9d2a",
   "metadata": {},
   "source": [
    "Sets: unstructured collection of unique elements. It uses {} like dictionary except the : "
   ]
  },
  {
   "cell_type": "code",
   "execution_count": 66,
   "id": "4eb7271b",
   "metadata": {},
   "outputs": [],
   "source": [
    "set1 = set([2,4,6,8,10])"
   ]
  },
  {
   "cell_type": "code",
   "execution_count": 67,
   "id": "be74d26d",
   "metadata": {},
   "outputs": [
    {
     "data": {
      "text/plain": [
       "{2, 4, 6, 8, 10}"
      ]
     },
     "execution_count": 67,
     "metadata": {},
     "output_type": "execute_result"
    }
   ],
   "source": [
    "set1    #this calls set1"
   ]
  },
  {
   "cell_type": "code",
   "execution_count": 68,
   "id": "52fea4a8",
   "metadata": {},
   "outputs": [],
   "source": [
    "set2 = set([1,1,1,1,2,2,2,2,3,3,3,4,4,4,5,5,5,6,6,7,7,7,8,8,9,9])"
   ]
  },
  {
   "cell_type": "code",
   "execution_count": 69,
   "id": "0a361e11",
   "metadata": {},
   "outputs": [
    {
     "data": {
      "text/plain": [
       "{1, 2, 3, 4, 5, 6, 7, 8, 9}"
      ]
     },
     "execution_count": 69,
     "metadata": {},
     "output_type": "execute_result"
    }
   ],
   "source": [
    "set2 # this calls the unique element in the set2"
   ]
  },
  {
   "cell_type": "code",
   "execution_count": 79,
   "id": "765e31f8",
   "metadata": {},
   "outputs": [],
   "source": [
    "set3 = {'a', 'b', 'c', 'd'}"
   ]
  },
  {
   "cell_type": "code",
   "execution_count": 80,
   "id": "ae4eaf8b",
   "metadata": {},
   "outputs": [],
   "source": [
    "set3.add('e') # this adds 'e' to the set3"
   ]
  },
  {
   "cell_type": "code",
   "execution_count": 81,
   "id": "aff0e491",
   "metadata": {},
   "outputs": [
    {
     "data": {
      "text/plain": [
       "{'a', 'b', 'c', 'd', 'e'}"
      ]
     },
     "execution_count": 81,
     "metadata": {},
     "output_type": "execute_result"
    }
   ],
   "source": [
    "set3"
   ]
  },
  {
   "cell_type": "code",
   "execution_count": 82,
   "id": "586a59d0",
   "metadata": {},
   "outputs": [],
   "source": [
    "set3.remove('e')"
   ]
  },
  {
   "cell_type": "code",
   "execution_count": 83,
   "id": "c1384f68",
   "metadata": {},
   "outputs": [
    {
     "data": {
      "text/plain": [
       "{'a', 'b', 'c', 'd'}"
      ]
     },
     "execution_count": 83,
     "metadata": {},
     "output_type": "execute_result"
    }
   ],
   "source": [
    "set3"
   ]
  },
  {
   "cell_type": "markdown",
   "id": "f0aeb2cb",
   "metadata": {},
   "source": [
    "Comparison operations give a boolean of either true or false."
   ]
  },
  {
   "cell_type": "code",
   "execution_count": 84,
   "id": "9ad4003a",
   "metadata": {},
   "outputs": [
    {
     "data": {
      "text/plain": [
       "(True, False, True, True, False, True)"
      ]
     },
     "execution_count": 84,
     "metadata": {},
     "output_type": "execute_result"
    }
   ],
   "source": [
    "1<=2, 1>=2, 1==1, 1<2, 1>2, 1!=4   #this just compares operations."
   ]
  },
  {
   "cell_type": "code",
   "execution_count": 85,
   "id": "1b600b0a",
   "metadata": {},
   "outputs": [
    {
     "data": {
      "text/plain": [
       "False"
      ]
     },
     "execution_count": 85,
     "metadata": {},
     "output_type": "execute_result"
    }
   ],
   "source": [
    "'hi' == 'bye'"
   ]
  },
  {
   "cell_type": "code",
   "execution_count": 86,
   "id": "d9b70f9a",
   "metadata": {},
   "outputs": [
    {
     "data": {
      "text/plain": [
       "True"
      ]
     },
     "execution_count": 86,
     "metadata": {},
     "output_type": "execute_result"
    }
   ],
   "source": [
    "'hi' != 'bye'"
   ]
  },
  {
   "cell_type": "code",
   "execution_count": 87,
   "id": "1d3ff5af",
   "metadata": {},
   "outputs": [
    {
     "data": {
      "text/plain": [
       "True"
      ]
     },
     "execution_count": 87,
     "metadata": {},
     "output_type": "execute_result"
    }
   ],
   "source": [
    "(1<2) and (3<4)  #combination of logical operator & comparison operator."
   ]
  },
  {
   "cell_type": "code",
   "execution_count": 88,
   "id": "0d23344b",
   "metadata": {},
   "outputs": [
    {
     "data": {
      "text/plain": [
       "False"
      ]
     },
     "execution_count": 88,
     "metadata": {},
     "output_type": "execute_result"
    }
   ],
   "source": [
    "(5>6) and (8<9)   #and requires both conditons to be true."
   ]
  },
  {
   "cell_type": "code",
   "execution_count": 89,
   "id": "60ce5d91",
   "metadata": {},
   "outputs": [
    {
     "data": {
      "text/plain": [
       "True"
      ]
     },
     "execution_count": 89,
     "metadata": {},
     "output_type": "execute_result"
    }
   ],
   "source": [
    "(5>6) or (8<9) # or logical operator requires one condition to be true."
   ]
  },
  {
   "cell_type": "code",
   "execution_count": 90,
   "id": "03201eac",
   "metadata": {},
   "outputs": [
    {
     "data": {
      "text/plain": [
       "True"
      ]
     },
     "execution_count": 90,
     "metadata": {},
     "output_type": "execute_result"
    }
   ],
   "source": [
    "True and True"
   ]
  },
  {
   "cell_type": "code",
   "execution_count": 91,
   "id": "60ca5899",
   "metadata": {},
   "outputs": [
    {
     "data": {
      "text/plain": [
       "False"
      ]
     },
     "execution_count": 91,
     "metadata": {},
     "output_type": "execute_result"
    }
   ],
   "source": [
    "True and False"
   ]
  },
  {
   "cell_type": "code",
   "execution_count": 92,
   "id": "155b550d",
   "metadata": {},
   "outputs": [
    {
     "data": {
      "text/plain": [
       "True"
      ]
     },
     "execution_count": 92,
     "metadata": {},
     "output_type": "execute_result"
    }
   ],
   "source": [
    "True or False"
   ]
  },
  {
   "cell_type": "code",
   "execution_count": 93,
   "id": "69878372",
   "metadata": {},
   "outputs": [
    {
     "data": {
      "text/plain": [
       "False"
      ]
     },
     "execution_count": 93,
     "metadata": {},
     "output_type": "execute_result"
    }
   ],
   "source": [
    "False or False"
   ]
  },
  {
   "cell_type": "markdown",
   "id": "f14e0427",
   "metadata": {},
   "source": [
    " if, elif and else statements"
   ]
  },
  {
   "cell_type": "code",
   "execution_count": 94,
   "id": "14b77849",
   "metadata": {},
   "outputs": [
    {
     "name": "stdout",
     "output_type": "stream",
     "text": [
      "you sabi\n"
     ]
    }
   ],
   "source": [
    "if 300 > 500:               # if this is true, execute the 'if' code\n",
    "    print ('nice one')\n",
    "elif 300 == 500:\n",
    "    print ('try again')     # otherwise execute the elif code if 'if' is not true.\n",
    "else:\n",
    "    print ('you sabi')      # otherwise execute this code if 'if' and 'elif' are not true."
   ]
  },
  {
   "cell_type": "code",
   "execution_count": 95,
   "id": "fea2238f",
   "metadata": {},
   "outputs": [
    {
     "name": "stdout",
     "output_type": "stream",
     "text": [
      "great job\n"
     ]
    }
   ],
   "source": [
    "if 300 > 500:               \n",
    "    print ('nice one')\n",
    "elif 400 != 100:\n",
    "    print ('great job')    \n",
    "else:\n",
    "    print ('you sabi') "
   ]
  },
  {
   "cell_type": "markdown",
   "id": "2d3dd2ef",
   "metadata": {},
   "source": [
    "#FOR LOOPS AND WHILE LOOPS: for loops allow you iterate through a sequence."
   ]
  },
  {
   "cell_type": "code",
   "execution_count": 96,
   "id": "a875373b",
   "metadata": {},
   "outputs": [
    {
     "name": "stdout",
     "output_type": "stream",
     "text": [
      "i have 10 random numbers\n",
      "i have 20 random numbers\n",
      "i have 30 random numbers\n",
      "i have 40 random numbers\n"
     ]
    }
   ],
   "source": [
    "numbers = [10,20,30,40]               # number iterates every element in the list iterable numbers\n",
    "for number in numbers:\n",
    "    print ('i have {} random numbers'.format(number))"
   ]
  },
  {
   "cell_type": "markdown",
   "id": "76e52f85",
   "metadata": {},
   "source": [
    "# while loops is used to continue an action until the conditions are met"
   ]
  },
  {
   "cell_type": "code",
   "execution_count": 97,
   "id": "ac056e97",
   "metadata": {},
   "outputs": [
    {
     "name": "stdout",
     "output_type": "stream",
     "text": [
      "give me 1 burgers\n",
      "give me 2 burgers\n",
      "give me 3 burgers\n",
      "give me 4 burgers\n",
      "give me 5 burgers\n",
      "give me 6 burgers\n",
      "give me 7 burgers\n",
      "give me 8 burgers\n",
      "give me 9 burgers\n"
     ]
    }
   ],
   "source": [
    "i = 1\n",
    "while i < 10:                             #this executes blocks of code until i < and != 10\n",
    "    print ('give me {} burgers'.format(i))\n",
    "    i += 1"
   ]
  },
  {
   "cell_type": "markdown",
   "id": "0e759ff1",
   "metadata": {},
   "source": [
    "# Range is a generator of numbers. It can be used with list"
   ]
  },
  {
   "cell_type": "code",
   "execution_count": 98,
   "id": "c9aa8273",
   "metadata": {},
   "outputs": [
    {
     "data": {
      "text/plain": [
       "range(0, 10, 2)"
      ]
     },
     "execution_count": 98,
     "metadata": {},
     "output_type": "execute_result"
    }
   ],
   "source": [
    "(range(0,10,2))"
   ]
  },
  {
   "cell_type": "code",
   "execution_count": 99,
   "id": "d1ad8f3e",
   "metadata": {},
   "outputs": [
    {
     "name": "stdout",
     "output_type": "stream",
     "text": [
      "i is: 1\n",
      "i is: 2\n",
      "i is: 3\n",
      "i is: 4\n"
     ]
    }
   ],
   "source": [
    "i = 1\n",
    "while i < 5:\n",
    "    print('i is: {}'.format(i))\n",
    "    i = i+1"
   ]
  },
  {
   "cell_type": "code",
   "execution_count": 100,
   "id": "7368bd3b",
   "metadata": {},
   "outputs": [
    {
     "data": {
      "text/plain": [
       "[0, 1, 2, 3, 4, 5, 6, 7, 8, 9]"
      ]
     },
     "execution_count": 100,
     "metadata": {},
     "output_type": "execute_result"
    }
   ],
   "source": [
    "list(range(0,10)) # this generates the list of numbers from 0-9"
   ]
  },
  {
   "cell_type": "code",
   "execution_count": 101,
   "id": "272fd84c",
   "metadata": {},
   "outputs": [
    {
     "data": {
      "text/plain": [
       "[0, 2, 4, 6, 8]"
      ]
     },
     "execution_count": 101,
     "metadata": {},
     "output_type": "execute_result"
    }
   ],
   "source": [
    "list(range(0,10,2)) # this generates a list of even numbers. 0 is start, 10 is stop, 2 is step."
   ]
  },
  {
   "cell_type": "code",
   "execution_count": 102,
   "id": "c5a9f720",
   "metadata": {},
   "outputs": [
    {
     "name": "stdout",
     "output_type": "stream",
     "text": [
      "I won powerball lottery 0\n",
      "I won powerball lottery 1\n",
      "I won powerball lottery 2\n",
      "I won powerball lottery 3\n",
      "I won powerball lottery 4\n",
      "I won powerball lottery 5\n",
      "I won powerball lottery 6\n",
      "I won powerball lottery 7\n",
      "I won powerball lottery 8\n",
      "I won powerball lottery 9\n"
     ]
    }
   ],
   "source": [
    "for num in list(range(0,10)):\n",
    "    print ('I won powerball lottery {}'.format(num))"
   ]
  },
  {
   "cell_type": "markdown",
   "id": "f04526fe",
   "metadata": {},
   "source": [
    "#list comprehension: this puts a block of code in a line of code."
   ]
  },
  {
   "cell_type": "code",
   "execution_count": 103,
   "id": "939cfa52",
   "metadata": {},
   "outputs": [
    {
     "name": "stdout",
     "output_type": "stream",
     "text": [
      "[0]\n",
      "[0, 1]\n",
      "[0, 1, 4]\n",
      "[0, 1, 4, 9]\n",
      "[0, 1, 4, 9, 16]\n"
     ]
    }
   ],
   "source": [
    "output = []                     # this code can be written in list comprehension in the code below\n",
    "for num in list(range(0,5)):\n",
    "    output.append(num ** 2)\n",
    "    print(output)"
   ]
  },
  {
   "cell_type": "code",
   "execution_count": 106,
   "id": "9b82516c",
   "metadata": {},
   "outputs": [],
   "source": [
    "output = [num**2 for num in list(range(0,5))] # this code is the list comprehension of the above code."
   ]
  },
  {
   "cell_type": "code",
   "execution_count": 107,
   "id": "e5602a44",
   "metadata": {},
   "outputs": [
    {
     "data": {
      "text/plain": [
       "[0, 1, 4, 9, 16]"
      ]
     },
     "execution_count": 107,
     "metadata": {},
     "output_type": "execute_result"
    }
   ],
   "source": [
    "output"
   ]
  },
  {
   "cell_type": "markdown",
   "id": "cab6de50",
   "metadata": {},
   "source": [
    "# Functions: they avoid wrting lots of code. use def to start a function and end with :"
   ]
  },
  {
   "cell_type": "code",
   "execution_count": 115,
   "id": "50772977",
   "metadata": {},
   "outputs": [],
   "source": [
    "def nomenclature(name):       # function name = nomenclature, function parameter = name. This prints what you want.\n",
    "    print ( 'hello ' + name)"
   ]
  },
  {
   "cell_type": "code",
   "execution_count": 116,
   "id": "a341c65a",
   "metadata": {},
   "outputs": [
    {
     "name": "stdout",
     "output_type": "stream",
     "text": [
      "hello Emmanuel\n"
     ]
    }
   ],
   "source": [
    "nomenclature('Emmanuel')   # always assign an argument as parameter."
   ]
  },
  {
   "cell_type": "code",
   "execution_count": 119,
   "id": "3af3bb47",
   "metadata": {},
   "outputs": [],
   "source": [
    "def my_func(country):\n",
    "    print ('the best nation in the world is {}.'.format(country))"
   ]
  },
  {
   "cell_type": "code",
   "execution_count": 120,
   "id": "aa8331b2",
   "metadata": {},
   "outputs": [
    {
     "name": "stdout",
     "output_type": "stream",
     "text": [
      "the best nation in the world is United States of America.\n"
     ]
    }
   ],
   "source": [
    "my_func('United States of America')"
   ]
  },
  {
   "cell_type": "code",
   "execution_count": 121,
   "id": "be179c6e",
   "metadata": {},
   "outputs": [
    {
     "name": "stdout",
     "output_type": "stream",
     "text": [
      "the best nation in the world is England.\n"
     ]
    }
   ],
   "source": [
    "my_func('England')"
   ]
  },
  {
   "cell_type": "code",
   "execution_count": 122,
   "id": "211dc8b2",
   "metadata": {},
   "outputs": [],
   "source": [
    "def cube(number):\n",
    "    \"\"\"\n",
    "    This is a DOCstring; this function returns\n",
    "    the cube of a number.\n",
    "    \"\"\"\n",
    "    return number ** 3                 # return function gives whatever the function is asked to return."
   ]
  },
  {
   "cell_type": "code",
   "execution_count": 123,
   "id": "24f776d9",
   "metadata": {},
   "outputs": [
    {
     "data": {
      "text/plain": [
       "125"
      ]
     },
     "execution_count": 123,
     "metadata": {},
     "output_type": "execute_result"
    }
   ],
   "source": [
    "cube(5)"
   ]
  },
  {
   "cell_type": "code",
   "execution_count": 125,
   "id": "b884131d",
   "metadata": {},
   "outputs": [
    {
     "data": {
      "text/plain": [
       "<function __main__.cube(number)>"
      ]
     },
     "execution_count": 125,
     "metadata": {},
     "output_type": "execute_result"
    }
   ],
   "source": [
    "cube          # press shift + tab to see the docstring written for the cube function."
   ]
  },
  {
   "cell_type": "code",
   "execution_count": 126,
   "id": "0b0b7454",
   "metadata": {},
   "outputs": [],
   "source": [
    "def func_name (area):\n",
    "    print(\"the {} of rectangle is calculation of its area\".format(area))"
   ]
  },
  {
   "cell_type": "code",
   "execution_count": 127,
   "id": "6bd4922e",
   "metadata": {},
   "outputs": [
    {
     "name": "stdout",
     "output_type": "stream",
     "text": [
      "the length and breadth of rectangle is calculation of its area\n"
     ]
    }
   ],
   "source": [
    "func_name('length and breadth')"
   ]
  },
  {
   "cell_type": "code",
   "execution_count": 129,
   "id": "b91d7678",
   "metadata": {},
   "outputs": [
    {
     "data": {
      "text/plain": [
       "range"
      ]
     },
     "execution_count": 129,
     "metadata": {},
     "output_type": "execute_result"
    }
   ],
   "source": [
    "range # shift + tab gives the docstring written for range. It gives details all about the function range."
   ]
  },
  {
   "cell_type": "markdown",
   "id": "30ed4ade",
   "metadata": {},
   "source": [
    "  LAMBDA, MAP AND FILTER EXPRESSIONS."
   ]
  },
  {
   "cell_type": "code",
   "execution_count": 1,
   "id": "7d33f90d",
   "metadata": {},
   "outputs": [],
   "source": [
    "my_numbers = list(range(0,20))     # list the numbers 0-19"
   ]
  },
  {
   "cell_type": "code",
   "execution_count": 2,
   "id": "18d7c6fc",
   "metadata": {},
   "outputs": [
    {
     "data": {
      "text/plain": [
       "[0, 1, 2, 3, 4, 5, 6, 7, 8, 9, 10, 11, 12, 13, 14, 15, 16, 17, 18, 19]"
      ]
     },
     "execution_count": 2,
     "metadata": {},
     "output_type": "execute_result"
    }
   ],
   "source": [
    "my_numbers"
   ]
  },
  {
   "cell_type": "code",
   "execution_count": 3,
   "id": "1f0f58a4",
   "metadata": {},
   "outputs": [],
   "source": [
    "new_number = list(map(lambda my_numbers:my_numbers*2, my_numbers)) # map function applies to all elements in a list."
   ]
  },
  {
   "cell_type": "code",
   "execution_count": 4,
   "id": "505d6f8e",
   "metadata": {},
   "outputs": [
    {
     "data": {
      "text/plain": [
       "[0, 2, 4, 6, 8, 10, 12, 14, 16, 18, 20, 22, 24, 26, 28, 30, 32, 34, 36, 38]"
      ]
     },
     "execution_count": 4,
     "metadata": {},
     "output_type": "execute_result"
    }
   ],
   "source": [
    "new_number"
   ]
  },
  {
   "cell_type": "code",
   "execution_count": 5,
   "id": "b7a0cc7e",
   "metadata": {},
   "outputs": [],
   "source": [
    "current_number = list(filter(lambda new_number: new_number%3 == 0, new_number)) #filter filters out unneeded elements."
   ]
  },
  {
   "cell_type": "code",
   "execution_count": 6,
   "id": "acb6d371",
   "metadata": {},
   "outputs": [
    {
     "data": {
      "text/plain": [
       "[0, 6, 12, 18, 24, 30, 36]"
      ]
     },
     "execution_count": 6,
     "metadata": {},
     "output_type": "execute_result"
    }
   ],
   "source": [
    "current_number"
   ]
  },
  {
   "cell_type": "markdown",
   "id": "8871937c",
   "metadata": {},
   "source": [
    "# map and filter are used along with an iterable."
   ]
  },
  {
   "cell_type": "code",
   "execution_count": 136,
   "id": "227c8d78",
   "metadata": {},
   "outputs": [
    {
     "name": "stdout",
     "output_type": "stream",
     "text": [
      "0\n",
      "6\n",
      "12\n",
      "18\n",
      "24\n",
      "30\n",
      "36\n"
     ]
    }
   ],
   "source": [
    "for item in current_number:\n",
    "    print(item)"
   ]
  },
  {
   "cell_type": "code",
   "execution_count": 137,
   "id": "61f34b34",
   "metadata": {},
   "outputs": [
    {
     "name": "stdout",
     "output_type": "stream",
     "text": [
      "[0]\n",
      "[0, 18]\n",
      "[0, 18, 36]\n",
      "[0, 18, 36, 54]\n",
      "[0, 18, 36, 54, 72]\n",
      "[0, 18, 36, 54, 72, 90]\n",
      "[0, 18, 36, 54, 72, 90, 108]\n"
     ]
    }
   ],
   "source": [
    "present_number = []\n",
    "for num in current_number:\n",
    "    present_number.append(num*3)\n",
    "    print(present_number)"
   ]
  },
  {
   "cell_type": "markdown",
   "id": "bfbeabd2",
   "metadata": {},
   "source": [
    "# Methods: calls you make on an object that affects the object or return the object in a manner."
   ]
  },
  {
   "cell_type": "code",
   "execution_count": 138,
   "id": "7dea3c09",
   "metadata": {},
   "outputs": [],
   "source": [
    "sentence = ('who runs the world? #girls')"
   ]
  },
  {
   "cell_type": "code",
   "execution_count": 139,
   "id": "e352a79e",
   "metadata": {},
   "outputs": [
    {
     "data": {
      "text/plain": [
       "'Who runs the world? #girls'"
      ]
     },
     "execution_count": 139,
     "metadata": {},
     "output_type": "execute_result"
    }
   ],
   "source": [
    "sentence.capitalize()              # this capoitalizes the first letter of the first word (Who)."
   ]
  },
  {
   "cell_type": "code",
   "execution_count": 140,
   "id": "2667d7a0",
   "metadata": {},
   "outputs": [
    {
     "data": {
      "text/plain": [
       "'Who Runs The World? #Girls'"
      ]
     },
     "execution_count": 140,
     "metadata": {},
     "output_type": "execute_result"
    }
   ],
   "source": [
    "sentence.title()                 # this capitalizes all the first letters of every word."
   ]
  },
  {
   "cell_type": "code",
   "execution_count": 141,
   "id": "6c8b4450",
   "metadata": {},
   "outputs": [
    {
     "data": {
      "text/plain": [
       "'WHO RUNS THE WORLD? #GIRLS'"
      ]
     },
     "execution_count": 141,
     "metadata": {},
     "output_type": "execute_result"
    }
   ],
   "source": [
    "sentence.upper()                 # this capitalizes the variable sentence."
   ]
  },
  {
   "cell_type": "code",
   "execution_count": 142,
   "id": "d177edb2",
   "metadata": {},
   "outputs": [
    {
     "data": {
      "text/plain": [
       "['who', 'runs', 'the', 'world?', '#girls']"
      ]
     },
     "execution_count": 142,
     "metadata": {},
     "output_type": "execute_result"
    }
   ],
   "source": [
    "sentence.split()                # this splits the sentence into a list."
   ]
  },
  {
   "cell_type": "code",
   "execution_count": 143,
   "id": "f5f9e82f",
   "metadata": {},
   "outputs": [
    {
     "data": {
      "text/plain": [
       "['who runs the world? ', 'girls']"
      ]
     },
     "execution_count": 143,
     "metadata": {},
     "output_type": "execute_result"
    }
   ],
   "source": [
    "sentence.split('#')                  # this splits girls from the other words."
   ]
  },
  {
   "cell_type": "code",
   "execution_count": 144,
   "id": "3e65f819",
   "metadata": {},
   "outputs": [
    {
     "data": {
      "text/plain": [
       "'girls'"
      ]
     },
     "execution_count": 144,
     "metadata": {},
     "output_type": "execute_result"
    }
   ],
   "source": [
    "sentence.split('#')[1]           # this indexes out the word 'girls'."
   ]
  },
  {
   "cell_type": "code",
   "execution_count": 145,
   "id": "004c67b4",
   "metadata": {},
   "outputs": [
    {
     "data": {
      "text/plain": [
       "'who runs the world? '"
      ]
     },
     "execution_count": 145,
     "metadata": {},
     "output_type": "execute_result"
    }
   ],
   "source": [
    "sentence.split('#')[0]           # this indexes out the statement 'who runs the world'."
   ]
  },
  {
   "cell_type": "code",
   "execution_count": 146,
   "id": "d854c602",
   "metadata": {},
   "outputs": [
    {
     "data": {
      "text/plain": [
       "'who runs the world? boys'"
      ]
     },
     "execution_count": 146,
     "metadata": {},
     "output_type": "execute_result"
    }
   ],
   "source": [
    "sentence.replace('#girls', 'boys') # tab key after sentence gives lots of methods to choose from. I chose replace()."
   ]
  },
  {
   "cell_type": "code",
   "execution_count": 147,
   "id": "5fb99f4d",
   "metadata": {},
   "outputs": [],
   "source": [
    "d = {'key1': ['name', 'age'], 'key2' : [500, 'gender']}"
   ]
  },
  {
   "cell_type": "code",
   "execution_count": 148,
   "id": "f92ebd54",
   "metadata": {},
   "outputs": [
    {
     "data": {
      "text/plain": [
       "dict_keys(['key1', 'key2'])"
      ]
     },
     "execution_count": 148,
     "metadata": {},
     "output_type": "execute_result"
    }
   ],
   "source": [
    "d.keys()     # this calls the keys in the dictionary 'd'"
   ]
  },
  {
   "cell_type": "code",
   "execution_count": 149,
   "id": "247d20b5",
   "metadata": {},
   "outputs": [
    {
     "data": {
      "text/plain": [
       "dict_items([('key1', ['name', 'age']), ('key2', [500, 'gender'])])"
      ]
     },
     "execution_count": 149,
     "metadata": {},
     "output_type": "execute_result"
    }
   ],
   "source": [
    "d.items()    #this calls the key-value pairs of the dictionary 'd'."
   ]
  },
  {
   "cell_type": "code",
   "execution_count": 150,
   "id": "bf3041bf",
   "metadata": {},
   "outputs": [
    {
     "data": {
      "text/plain": [
       "dict_values([['name', 'age'], [500, 'gender']])"
      ]
     },
     "execution_count": 150,
     "metadata": {},
     "output_type": "execute_result"
    }
   ],
   "source": [
    "d.values()    # this calls the values of dictionary 'd'."
   ]
  },
  {
   "cell_type": "code",
   "execution_count": 151,
   "id": "6870930f",
   "metadata": {},
   "outputs": [
    {
     "data": {
      "text/plain": [
       "('key2', [500, 'gender'])"
      ]
     },
     "execution_count": 151,
     "metadata": {},
     "output_type": "execute_result"
    }
   ],
   "source": [
    "d.popitem()     #this pops and returns the last key-value pair of dictionary 'd'."
   ]
  },
  {
   "cell_type": "code",
   "execution_count": 152,
   "id": "e5941d37",
   "metadata": {},
   "outputs": [
    {
     "data": {
      "text/plain": [
       "['name', 'age']"
      ]
     },
     "execution_count": 152,
     "metadata": {},
     "output_type": "execute_result"
    }
   ],
   "source": [
    "d.get('key1')    # this gives the values of 'key1' in dictionary 'd'."
   ]
  },
  {
   "cell_type": "code",
   "execution_count": 153,
   "id": "53f2614b",
   "metadata": {},
   "outputs": [
    {
     "data": {
      "text/plain": [
       "['name', 'age']"
      ]
     },
     "execution_count": 153,
     "metadata": {},
     "output_type": "execute_result"
    }
   ],
   "source": [
    "d['key1']          # this is similar to d.get('key1')"
   ]
  },
  {
   "cell_type": "code",
   "execution_count": 154,
   "id": "5b27f53c",
   "metadata": {},
   "outputs": [],
   "source": [
    "my_list = ['a', 'b', 'c', 'd', 'e']"
   ]
  },
  {
   "cell_type": "code",
   "execution_count": 155,
   "id": "b8b96f89",
   "metadata": {},
   "outputs": [],
   "source": [
    "my_list.append('w')    # this adds 'w' to my_list."
   ]
  },
  {
   "cell_type": "code",
   "execution_count": 156,
   "id": "21488668",
   "metadata": {},
   "outputs": [
    {
     "data": {
      "text/plain": [
       "['a', 'b', 'c', 'd', 'e', 'w']"
      ]
     },
     "execution_count": 156,
     "metadata": {},
     "output_type": "execute_result"
    }
   ],
   "source": [
    "my_list"
   ]
  },
  {
   "cell_type": "code",
   "execution_count": 157,
   "id": "af52575c",
   "metadata": {},
   "outputs": [],
   "source": [
    "my_list.append('go')       # this adds 'go' to my_list"
   ]
  },
  {
   "cell_type": "code",
   "execution_count": 158,
   "id": "4ab72985",
   "metadata": {},
   "outputs": [
    {
     "data": {
      "text/plain": [
       "['a', 'b', 'c', 'd', 'e', 'w', 'go']"
      ]
     },
     "execution_count": 158,
     "metadata": {},
     "output_type": "execute_result"
    }
   ],
   "source": [
    "my_list"
   ]
  },
  {
   "cell_type": "code",
   "execution_count": 159,
   "id": "00b7b1d4",
   "metadata": {},
   "outputs": [],
   "source": [
    "my_list[0] = 'come'    # this changes first element 0 to 'come'"
   ]
  },
  {
   "cell_type": "code",
   "execution_count": 160,
   "id": "eec80922",
   "metadata": {},
   "outputs": [
    {
     "data": {
      "text/plain": [
       "['come', 'b', 'c', 'd', 'e', 'w', 'go']"
      ]
     },
     "execution_count": 160,
     "metadata": {},
     "output_type": "execute_result"
    }
   ],
   "source": [
    "my_list"
   ]
  },
  {
   "cell_type": "code",
   "execution_count": 161,
   "id": "7ba0ad19",
   "metadata": {},
   "outputs": [
    {
     "data": {
      "text/plain": [
       "'go'"
      ]
     },
     "execution_count": 161,
     "metadata": {},
     "output_type": "execute_result"
    }
   ],
   "source": [
    "my_list.pop()       # this pops and returns last element 'go'"
   ]
  },
  {
   "cell_type": "code",
   "execution_count": 162,
   "id": "5f8f201c",
   "metadata": {},
   "outputs": [
    {
     "data": {
      "text/plain": [
       "['come', 'b', 'c', 'd', 'e', 'w']"
      ]
     },
     "execution_count": 162,
     "metadata": {},
     "output_type": "execute_result"
    }
   ],
   "source": [
    "my_list            # new list after 'pop method' is used."
   ]
  },
  {
   "cell_type": "code",
   "execution_count": 163,
   "id": "1cffeeb3",
   "metadata": {},
   "outputs": [
    {
     "data": {
      "text/plain": [
       "'c'"
      ]
     },
     "execution_count": 163,
     "metadata": {},
     "output_type": "execute_result"
    }
   ],
   "source": [
    "my_list.pop(2)    # this pops and return third element in my_list"
   ]
  },
  {
   "cell_type": "code",
   "execution_count": 164,
   "id": "3b534675",
   "metadata": {},
   "outputs": [
    {
     "data": {
      "text/plain": [
       "['come', 'b', 'd', 'e', 'w']"
      ]
     },
     "execution_count": 164,
     "metadata": {},
     "output_type": "execute_result"
    }
   ],
   "source": [
    "my_list                 #new list after 'c' is popped."
   ]
  },
  {
   "cell_type": "markdown",
   "id": "e4e3554b",
   "metadata": {},
   "source": [
    "# Membership operator"
   ]
  },
  {
   "cell_type": "code",
   "execution_count": 165,
   "id": "fa6182e0",
   "metadata": {},
   "outputs": [
    {
     "data": {
      "text/plain": [
       "False"
      ]
     },
     "execution_count": 165,
     "metadata": {},
     "output_type": "execute_result"
    }
   ],
   "source": [
    "'x' in [1,2,3]   # this returns false because x is not a member in the list."
   ]
  },
  {
   "cell_type": "code",
   "execution_count": 166,
   "id": "a4c1f24b",
   "metadata": {},
   "outputs": [
    {
     "data": {
      "text/plain": [
       "True"
      ]
     },
     "execution_count": 166,
     "metadata": {},
     "output_type": "execute_result"
    }
   ],
   "source": [
    "'x' in ['x', 'y', 'z']  # this returns true because x is a member in the list."
   ]
  },
  {
   "cell_type": "markdown",
   "id": "ce9a8795",
   "metadata": {},
   "source": [
    "# Tuple unpacking"
   ]
  },
  {
   "cell_type": "code",
   "execution_count": 167,
   "id": "263b8023",
   "metadata": {},
   "outputs": [],
   "source": [
    "x = [(1,2), (3,4), (5,6)]"
   ]
  },
  {
   "cell_type": "code",
   "execution_count": 168,
   "id": "49d625c3",
   "metadata": {},
   "outputs": [
    {
     "data": {
      "text/plain": [
       "((1, 2), 1, 2, (3, 4), 3, 4, (5, 6), 5, 6)"
      ]
     },
     "execution_count": 168,
     "metadata": {},
     "output_type": "execute_result"
    }
   ],
   "source": [
    "x[0], x[0][0], x[0][1], x[1], x[1][0], x[1][1], x[2], x[2][0], x[2][1]   # indexes of variable x and its inner elements."
   ]
  },
  {
   "cell_type": "code",
   "execution_count": 169,
   "id": "181312a3",
   "metadata": {},
   "outputs": [
    {
     "name": "stdout",
     "output_type": "stream",
     "text": [
      "1\n",
      "2\n",
      "3\n",
      "4\n",
      "5\n",
      "6\n"
     ]
    }
   ],
   "source": [
    "for items in x:\n",
    "    for item in items:\n",
    "        print(item)              # this iterates over every element in x."
   ]
  },
  {
   "cell_type": "code",
   "execution_count": 170,
   "id": "40ba07d4",
   "metadata": {},
   "outputs": [
    {
     "name": "stdout",
     "output_type": "stream",
     "text": [
      "1 2\n",
      "3 4\n",
      "5 6\n"
     ]
    }
   ],
   "source": [
    "for (a,b) in x:\n",
    "    print(a,b)               # this iterates and prints out iterables a & b "
   ]
  },
  {
   "cell_type": "code",
   "execution_count": 171,
   "id": "c5d832aa",
   "metadata": {},
   "outputs": [
    {
     "name": "stdout",
     "output_type": "stream",
     "text": [
      "1\n",
      "3\n",
      "5\n"
     ]
    }
   ],
   "source": [
    "for a,b in x:             #this iterates and prints out a. it unpacks 'a' elements\n",
    "    print(a)"
   ]
  },
  {
   "cell_type": "code",
   "execution_count": 173,
   "id": "c037b508",
   "metadata": {},
   "outputs": [
    {
     "name": "stdout",
     "output_type": "stream",
     "text": [
      "2\n",
      "4\n",
      "6\n"
     ]
    }
   ],
   "source": [
    "for a,b in x:\n",
    "    print(b)            #this iterates and prints out b. it unpacks 'b' elements"
   ]
  },
  {
   "cell_type": "code",
   "execution_count": 174,
   "id": "6ba1431f",
   "metadata": {},
   "outputs": [
    {
     "name": "stdout",
     "output_type": "stream",
     "text": [
      "1\n",
      "2\n",
      "3\n",
      "4\n",
      "5\n",
      "6\n"
     ]
    }
   ],
   "source": [
    "for a,b in x:\n",
    "    print(a)\n",
    "    print(b)"
   ]
  },
  {
   "cell_type": "code",
   "execution_count": 190,
   "id": "eca6c8d1",
   "metadata": {},
   "outputs": [],
   "source": [
    "seq1 = ('a', 'b', 'c', 'd')\n",
    "seq2 = (1,2,3,4,)\n",
    "seq3 = zip(seq1, seq2)"
   ]
  },
  {
   "cell_type": "code",
   "execution_count": 191,
   "id": "3ff8bee3",
   "metadata": {},
   "outputs": [
    {
     "data": {
      "text/plain": [
       "(('a', 1), ('b', 2), ('c', 3), ('d', 4))"
      ]
     },
     "execution_count": 191,
     "metadata": {},
     "output_type": "execute_result"
    }
   ],
   "source": [
    "tuple(seq3)          # this zips both seq1 and seq2 elements individually."
   ]
  },
  {
   "cell_type": "code",
   "execution_count": 192,
   "id": "7ef54989",
   "metadata": {},
   "outputs": [],
   "source": [
    "seq4 = tuple(*seq3)"
   ]
  },
  {
   "cell_type": "code",
   "execution_count": 193,
   "id": "3355e415",
   "metadata": {},
   "outputs": [
    {
     "data": {
      "text/plain": [
       "()"
      ]
     },
     "execution_count": 193,
     "metadata": {},
     "output_type": "execute_result"
    }
   ],
   "source": [
    "tuple(seq4)"
   ]
  },
  {
   "cell_type": "markdown",
   "id": "645a3957",
   "metadata": {},
   "source": [
    "# Python Crash Course Exercises"
   ]
  },
  {
   "cell_type": "code",
   "execution_count": 194,
   "id": "29de6bc2",
   "metadata": {},
   "outputs": [
    {
     "data": {
      "text/plain": [
       "2401"
      ]
     },
     "execution_count": 194,
     "metadata": {},
     "output_type": "execute_result"
    }
   ],
   "source": [
    "7**4       # this gives 7 to the exponential power of 4."
   ]
  },
  {
   "cell_type": "code",
   "execution_count": 195,
   "id": "a08154ca",
   "metadata": {},
   "outputs": [],
   "source": [
    "name = 'Hello there Emmanuel!' "
   ]
  },
  {
   "cell_type": "code",
   "execution_count": 196,
   "id": "c6c96359",
   "metadata": {},
   "outputs": [
    {
     "data": {
      "text/plain": [
       "'Hello there Emmanuel'"
      ]
     },
     "execution_count": 196,
     "metadata": {},
     "output_type": "execute_result"
    }
   ],
   "source": [
    "name.strip('!')"
   ]
  },
  {
   "cell_type": "code",
   "execution_count": 197,
   "id": "fa89d4c9",
   "metadata": {},
   "outputs": [
    {
     "data": {
      "text/plain": [
       "['Hello', 'there', 'Emmanuel!']"
      ]
     },
     "execution_count": 197,
     "metadata": {},
     "output_type": "execute_result"
    }
   ],
   "source": [
    "name.split()           # this splits variable name into a list."
   ]
  },
  {
   "cell_type": "code",
   "execution_count": 198,
   "id": "12c29aa9",
   "metadata": {},
   "outputs": [],
   "source": [
    "def domainGet(email):\n",
    "    return (email.split('@')[1])    # this function prints the split of email and index at 1."
   ]
  },
  {
   "cell_type": "code",
   "execution_count": 199,
   "id": "42cd2c51",
   "metadata": {},
   "outputs": [
    {
     "data": {
      "text/plain": [
       "'domain.com'"
      ]
     },
     "execution_count": 199,
     "metadata": {},
     "output_type": "execute_result"
    }
   ],
   "source": [
    "domainGet('user@domain.com')    # solution for the function above."
   ]
  },
  {
   "cell_type": "code",
   "execution_count": 201,
   "id": "cdfb360a",
   "metadata": {},
   "outputs": [
    {
     "name": "stdout",
     "output_type": "stream",
     "text": [
      "The diameter of the Earth is 12742 kilometers.\n"
     ]
    }
   ],
   "source": [
    "planet = 'Earth'\n",
    "diameter = 12742\n",
    "print('The diameter of the {} is {} kilometers.'.format(planet, diameter))"
   ]
  },
  {
   "cell_type": "code",
   "execution_count": 203,
   "id": "f0952f8a",
   "metadata": {},
   "outputs": [
    {
     "name": "stdout",
     "output_type": "stream",
     "text": [
      "The diameter of the Earth is 12742 kilometers.\n"
     ]
    }
   ],
   "source": [
    "print('The diameter of the {a} is {b} kilometers.'.format(a = planet, b = diameter))"
   ]
  },
  {
   "cell_type": "code",
   "execution_count": 204,
   "id": "111e1cac",
   "metadata": {},
   "outputs": [
    {
     "name": "stdout",
     "output_type": "stream",
     "text": [
      "The diameter of the Earth is 12742 kilometers\n"
     ]
    }
   ],
   "source": [
    "print(f'The diameter of the {planet} is {diameter} kilometers')"
   ]
  },
  {
   "cell_type": "code",
   "execution_count": 207,
   "id": "974dff4f",
   "metadata": {},
   "outputs": [],
   "source": [
    "nested_list = [1,2,[3,4],[5,[100,200,['hello']],23,11],1,7]"
   ]
  },
  {
   "cell_type": "code",
   "execution_count": 214,
   "id": "6adbbb53",
   "metadata": {},
   "outputs": [
    {
     "name": "stdout",
     "output_type": "stream",
     "text": [
      "hello\n"
     ]
    }
   ],
   "source": [
    "print(nested_list[3][1][2][0])"
   ]
  },
  {
   "cell_type": "code",
   "execution_count": 215,
   "id": "cab75574",
   "metadata": {},
   "outputs": [
    {
     "data": {
      "text/plain": [
       "'hello'"
      ]
     },
     "execution_count": 215,
     "metadata": {},
     "output_type": "execute_result"
    }
   ],
   "source": [
    "nested_list[3][1][2][0]"
   ]
  },
  {
   "cell_type": "code",
   "execution_count": 216,
   "id": "89db2001",
   "metadata": {},
   "outputs": [],
   "source": [
    "d = {'k1':[1,2,3,{'tricky':['oh','man','inception',{'target':[1,2,3,'hello']}]}]}"
   ]
  },
  {
   "cell_type": "code",
   "execution_count": 217,
   "id": "4e1bc567",
   "metadata": {},
   "outputs": [
    {
     "data": {
      "text/plain": [
       "'hello'"
      ]
     },
     "execution_count": 217,
     "metadata": {},
     "output_type": "execute_result"
    }
   ],
   "source": [
    "d['k1'][3]['tricky'][3]['target'][3]"
   ]
  },
  {
   "cell_type": "code",
   "execution_count": 223,
   "id": "12364fbe",
   "metadata": {},
   "outputs": [],
   "source": [
    "def findDog(word):\n",
    "    return 'dog' in word.lower().split()    # this proves 'dog' is in a member of list word. in = membership operator."
   ]
  },
  {
   "cell_type": "code",
   "execution_count": 224,
   "id": "101f92ae",
   "metadata": {},
   "outputs": [
    {
     "data": {
      "text/plain": [
       "True"
      ]
     },
     "execution_count": 224,
     "metadata": {},
     "output_type": "execute_result"
    }
   ],
   "source": [
    "findDog('Is there a dog here')"
   ]
  },
  {
   "cell_type": "code",
   "execution_count": 225,
   "id": "0ac55744",
   "metadata": {},
   "outputs": [],
   "source": [
    "word = 'Is there a dog here'"
   ]
  },
  {
   "cell_type": "code",
   "execution_count": 226,
   "id": "047ca8bb",
   "metadata": {},
   "outputs": [
    {
     "data": {
      "text/plain": [
       "['is', 'there', 'a', 'dog', 'here']"
      ]
     },
     "execution_count": 226,
     "metadata": {},
     "output_type": "execute_result"
    }
   ],
   "source": [
    "word.lower().split()"
   ]
  },
  {
   "cell_type": "code",
   "execution_count": 227,
   "id": "b802f804",
   "metadata": {},
   "outputs": [
    {
     "data": {
      "text/plain": [
       "True"
      ]
     },
     "execution_count": 227,
     "metadata": {},
     "output_type": "execute_result"
    }
   ],
   "source": [
    "'dog' in word.lower().split()"
   ]
  },
  {
   "cell_type": "code",
   "execution_count": 228,
   "id": "cd3b96d8",
   "metadata": {},
   "outputs": [],
   "source": [
    "def countDog(statement):\n",
    "    return statement.lower().count('dog') #this function counts the number of word 'dog' in the function parameter statement"
   ]
  },
  {
   "cell_type": "code",
   "execution_count": 229,
   "id": "12bee840",
   "metadata": {},
   "outputs": [
    {
     "data": {
      "text/plain": [
       "2"
      ]
     },
     "execution_count": 229,
     "metadata": {},
     "output_type": "execute_result"
    }
   ],
   "source": [
    "countDog('This dog runs faster than the other dog dude!')"
   ]
  },
  {
   "cell_type": "code",
   "execution_count": 230,
   "id": "19f18f3d",
   "metadata": {},
   "outputs": [],
   "source": [
    "def countDog(sentence):\n",
    "    count = 0\n",
    "    for word in sentence.lower().split():\n",
    "        if word == 'dog':\n",
    "            count += 1\n",
    "    return count"
   ]
  },
  {
   "cell_type": "code",
   "execution_count": 231,
   "id": "f7b44243",
   "metadata": {},
   "outputs": [
    {
     "data": {
      "text/plain": [
       "2"
      ]
     },
     "execution_count": 231,
     "metadata": {},
     "output_type": "execute_result"
    }
   ],
   "source": [
    "countDog('This dog runs faster than the other dog dude!')"
   ]
  },
  {
   "cell_type": "code",
   "execution_count": 232,
   "id": "f408b56b",
   "metadata": {},
   "outputs": [],
   "source": [
    "seq = ['soup','dog','salad','cat','great']"
   ]
  },
  {
   "cell_type": "code",
   "execution_count": 233,
   "id": "c6d88177",
   "metadata": {},
   "outputs": [
    {
     "name": "stdout",
     "output_type": "stream",
     "text": [
      "soup\n",
      "salad\n"
     ]
    }
   ],
   "source": [
    "for word in seq:\n",
    "    if word[0] == 's':\n",
    "        print(word)"
   ]
  },
  {
   "cell_type": "code",
   "execution_count": 234,
   "id": "da4bdf1e",
   "metadata": {},
   "outputs": [
    {
     "data": {
      "text/plain": [
       "['soup', 'salad']"
      ]
     },
     "execution_count": 234,
     "metadata": {},
     "output_type": "execute_result"
    }
   ],
   "source": [
    "list(filter(lambda word : word[0]=='s', seq))   # this prints words that start with 's'"
   ]
  },
  {
   "cell_type": "code",
   "execution_count": 235,
   "id": "690a7893",
   "metadata": {},
   "outputs": [],
   "source": [
    "def overspeeding(speed, my_birthday):\n",
    "    if speed > 80:\n",
    "        return 'big ticket'\n",
    "    elif speed > 60:\n",
    "        return 'small ticket'\n",
    "    else:\n",
    "        return 'no ticket'\n",
    "    if my_birthday:\n",
    "        speed = speed - 5\n",
    "    else:\n",
    "        speed = speed\n",
    "        "
   ]
  },
  {
   "cell_type": "code",
   "execution_count": 237,
   "id": "13a4cf01",
   "metadata": {},
   "outputs": [
    {
     "data": {
      "text/plain": [
       "'no ticket'"
      ]
     },
     "execution_count": 237,
     "metadata": {},
     "output_type": "execute_result"
    }
   ],
   "source": [
    "overspeeding(55, True)"
   ]
  },
  {
   "cell_type": "code",
   "execution_count": 238,
   "id": "69b8ce70",
   "metadata": {},
   "outputs": [
    {
     "name": "stdout",
     "output_type": "stream",
     "text": [
      "Variable         Type        Data/Info\n",
      "--------------------------------------\n",
      "a                int         5\n",
      "age              int         13\n",
      "b                int         6\n",
      "countDog         function    <function countDog at 0x00000235CF05A310>\n",
      "cube             function    <function cube at 0x00000235CD473E50>\n",
      "current_number   list        n=7\n",
      "d                dict        n=1\n",
      "diameter         int         12742\n",
      "domainGet        function    <function domainGet at 0x00000235CEFB4700>\n",
      "findDog          function    <function findDog at 0x00000235CEF95280>\n",
      "func_name        function    <function func_name at 0x00000235CF006DC0>\n",
      "greet_me         str         how are you doing?\n",
      "i                int         5\n",
      "item             int         6\n",
      "items            tuple       n=2\n",
      "my_func          function    <function my_func at 0x00000235CF0068B0>\n",
      "my_list          list        n=5\n",
      "my_name          str         Emmanuel\n",
      "my_numbers       list        n=20\n",
      "name             str         Hello there Emmanuel!\n",
      "nest             list        n=4\n",
      "nested_list      list        n=6\n",
      "new_name         str         Rafael\n",
      "new_number       list        n=20\n",
      "nomenclature     function    <function nomenclature at 0x00000235CF006A60>\n",
      "num              int         36\n",
      "number           int         40\n",
      "numbers          list        n=4\n",
      "old_list         list        n=4\n",
      "output           list        n=5\n",
      "overspeeding     function    <function overspeeding at 0x00000235CF038B80>\n",
      "planet           str         Earth\n",
      "present_number   list        n=7\n",
      "sentence         str         who runs the world? #girls\n",
      "seq              list        n=5\n",
      "seq1             tuple       n=4\n",
      "seq2             tuple       n=4\n",
      "seq3             zip         <zip object at 0x00000235CF07D780>\n",
      "seq4             tuple       n=0\n",
      "set1             set         {2, 4, 6, 8, 10}\n",
      "set2             set         {1, 2, 3, 4, 5, 6, 7, 8, 9}\n",
      "set3             set         {'a', 'c', 'b', 'd'}\n",
      "t                tuple       n=4\n",
      "word             str         great\n",
      "x                list        n=3\n",
      "y                int         15\n"
     ]
    }
   ],
   "source": [
    "%whos"
   ]
  },
  {
   "cell_type": "markdown",
   "id": "5cd1d2c2",
   "metadata": {},
   "source": [
    "# PYTHON DATA ANALYSIS LIBRARY: NUMPY"
   ]
  },
  {
   "cell_type": "code",
   "execution_count": 239,
   "id": "e94d92de",
   "metadata": {},
   "outputs": [],
   "source": [
    "# Numpy is the linear algebra library for python. All other libraries rely on Numpy as a main building block."
   ]
  },
  {
   "cell_type": "code",
   "execution_count": 240,
   "id": "e5399a5a",
   "metadata": {},
   "outputs": [],
   "source": [
    "# Numpy arrays are divided into: vector(1-dimensional) & matrices(2_dimensional).Matrices could be 1-dimensional too."
   ]
  },
  {
   "cell_type": "code",
   "execution_count": 241,
   "id": "60bb508f",
   "metadata": {},
   "outputs": [],
   "source": [
    "import numpy as np   # generally used to import numpy"
   ]
  },
  {
   "cell_type": "code",
   "execution_count": 242,
   "id": "81c0e332",
   "metadata": {},
   "outputs": [],
   "source": [
    "my_list = [1,2,3]         # list generated"
   ]
  },
  {
   "cell_type": "code",
   "execution_count": 243,
   "id": "11361cc0",
   "metadata": {},
   "outputs": [
    {
     "data": {
      "text/plain": [
       "[1, 2, 3]"
      ]
     },
     "execution_count": 243,
     "metadata": {},
     "output_type": "execute_result"
    }
   ],
   "source": [
    "my_list     # output of list when run"
   ]
  },
  {
   "cell_type": "code",
   "execution_count": 244,
   "id": "bf3fa5bc",
   "metadata": {},
   "outputs": [],
   "source": [
    "arr1 = np.array(my_list)      # how to put list into numpy array and assign a variable arr1"
   ]
  },
  {
   "cell_type": "code",
   "execution_count": 250,
   "id": "66611f61",
   "metadata": {},
   "outputs": [
    {
     "data": {
      "text/plain": [
       "array([1, 2, 3])"
      ]
     },
     "execution_count": 250,
     "metadata": {},
     "output_type": "execute_result"
    }
   ],
   "source": [
    "arr1           # run the assigned variable arr1 of the numpy array "
   ]
  },
  {
   "cell_type": "code",
   "execution_count": 258,
   "id": "6ddb7f2e",
   "metadata": {},
   "outputs": [
    {
     "data": {
      "text/plain": [
       "1"
      ]
     },
     "execution_count": 258,
     "metadata": {},
     "output_type": "execute_result"
    }
   ],
   "source": [
    "arr1.ndim            #ndim reads the number of dimensions. this is 1-dimensional array."
   ]
  },
  {
   "cell_type": "code",
   "execution_count": 259,
   "id": "770c3afb",
   "metadata": {},
   "outputs": [],
   "source": [
    "list = [[1,2,3], [4,5,6], [7,8,9]]"
   ]
  },
  {
   "cell_type": "code",
   "execution_count": 260,
   "id": "178c5135",
   "metadata": {},
   "outputs": [
    {
     "data": {
      "text/plain": [
       "[[1, 2, 3], [4, 5, 6], [7, 8, 9]]"
      ]
     },
     "execution_count": 260,
     "metadata": {},
     "output_type": "execute_result"
    }
   ],
   "source": [
    "list"
   ]
  },
  {
   "cell_type": "code",
   "execution_count": 261,
   "id": "5ab7f42f",
   "metadata": {},
   "outputs": [],
   "source": [
    "arr2 = np.array(list)"
   ]
  },
  {
   "cell_type": "code",
   "execution_count": 262,
   "id": "bbdae4d6",
   "metadata": {},
   "outputs": [
    {
     "data": {
      "text/plain": [
       "array([[1, 2, 3],\n",
       "       [4, 5, 6],\n",
       "       [7, 8, 9]])"
      ]
     },
     "execution_count": 262,
     "metadata": {},
     "output_type": "execute_result"
    }
   ],
   "source": [
    "arr2"
   ]
  },
  {
   "cell_type": "code",
   "execution_count": 263,
   "id": "8d999659",
   "metadata": {},
   "outputs": [
    {
     "data": {
      "text/plain": [
       "2"
      ]
     },
     "execution_count": 263,
     "metadata": {},
     "output_type": "execute_result"
    }
   ],
   "source": [
    "arr2.ndim      #2-dimensional array"
   ]
  },
  {
   "cell_type": "code",
   "execution_count": 264,
   "id": "2180042b",
   "metadata": {},
   "outputs": [],
   "source": [
    "list3 = [[[1,2,3]],[[4,5,6]],[[7,8,9]]]"
   ]
  },
  {
   "cell_type": "code",
   "execution_count": 265,
   "id": "7a0a82ac",
   "metadata": {},
   "outputs": [],
   "source": [
    "arr3 = np.array(list3)"
   ]
  },
  {
   "cell_type": "code",
   "execution_count": 266,
   "id": "a261e69a",
   "metadata": {},
   "outputs": [
    {
     "data": {
      "text/plain": [
       "array([[[1, 2, 3]],\n",
       "\n",
       "       [[4, 5, 6]],\n",
       "\n",
       "       [[7, 8, 9]]])"
      ]
     },
     "execution_count": 266,
     "metadata": {},
     "output_type": "execute_result"
    }
   ],
   "source": [
    "arr3                #3-dimensional array from list3"
   ]
  },
  {
   "cell_type": "code",
   "execution_count": 268,
   "id": "699773a9",
   "metadata": {},
   "outputs": [
    {
     "data": {
      "text/plain": [
       "3"
      ]
     },
     "execution_count": 268,
     "metadata": {},
     "output_type": "execute_result"
    }
   ],
   "source": [
    "arr3.ndim      #3-dimensional array."
   ]
  },
  {
   "cell_type": "code",
   "execution_count": 269,
   "id": "efc0ce56",
   "metadata": {},
   "outputs": [
    {
     "data": {
      "text/plain": [
       "array([0, 1, 2, 3, 4, 5, 6, 7, 8, 9])"
      ]
     },
     "execution_count": 269,
     "metadata": {},
     "output_type": "execute_result"
    }
   ],
   "source": [
    "np.arange(0,10)    # this is similar to range(start, stop, step) function in python to generate array."
   ]
  },
  {
   "cell_type": "code",
   "execution_count": 270,
   "id": "c95fb87a",
   "metadata": {},
   "outputs": [
    {
     "data": {
      "text/plain": [
       "array([ 0,  5, 10, 15, 20, 25, 30, 35, 40, 45])"
      ]
     },
     "execution_count": 270,
     "metadata": {},
     "output_type": "execute_result"
    }
   ],
   "source": [
    "np.arange(0,50,5)  # range of number from 0-50 with a step of 5"
   ]
  },
  {
   "cell_type": "code",
   "execution_count": 271,
   "id": "eba3d544",
   "metadata": {},
   "outputs": [
    {
     "data": {
      "text/plain": [
       "array([0., 0., 0.])"
      ]
     },
     "execution_count": 271,
     "metadata": {},
     "output_type": "execute_result"
    }
   ],
   "source": [
    "np.zeros(3)       # this generates array of 1-dimensional vector."
   ]
  },
  {
   "cell_type": "code",
   "execution_count": 272,
   "id": "381672c5",
   "metadata": {},
   "outputs": [
    {
     "data": {
      "text/plain": [
       "array([[0., 0., 0.],\n",
       "       [0., 0., 0.],\n",
       "       [0., 0., 0.]])"
      ]
     },
     "execution_count": 272,
     "metadata": {},
     "output_type": "execute_result"
    }
   ],
   "source": [
    "np.zeros((3,3))    # this generates zeros of 3-rows and 3-columns. Any tuple can be used to generate"
   ]
  },
  {
   "cell_type": "code",
   "execution_count": 273,
   "id": "e34dd2ae",
   "metadata": {},
   "outputs": [
    {
     "data": {
      "text/plain": [
       "array([1., 1., 1., 1., 1.])"
      ]
     },
     "execution_count": 273,
     "metadata": {},
     "output_type": "execute_result"
    }
   ],
   "source": [
    "np.ones(5)             # 1-dimensional vector numpy array of 1"
   ]
  },
  {
   "cell_type": "code",
   "execution_count": 276,
   "id": "55f83a4c",
   "metadata": {},
   "outputs": [
    {
     "data": {
      "text/plain": [
       "array([[1., 1., 1., 1., 1.],\n",
       "       [1., 1., 1., 1., 1.],\n",
       "       [1., 1., 1., 1., 1.],\n",
       "       [1., 1., 1., 1., 1.],\n",
       "       [1., 1., 1., 1., 1.]])"
      ]
     },
     "execution_count": 276,
     "metadata": {},
     "output_type": "execute_result"
    }
   ],
   "source": [
    "np.ones((5,5))     # 2-dimensional matrix"
   ]
  },
  {
   "cell_type": "code",
   "execution_count": 277,
   "id": "b6507d01",
   "metadata": {},
   "outputs": [
    {
     "data": {
      "text/plain": [
       "array([ 0.        ,  0.52631579,  1.05263158,  1.57894737,  2.10526316,\n",
       "        2.63157895,  3.15789474,  3.68421053,  4.21052632,  4.73684211,\n",
       "        5.26315789,  5.78947368,  6.31578947,  6.84210526,  7.36842105,\n",
       "        7.89473684,  8.42105263,  8.94736842,  9.47368421, 10.        ])"
      ]
     },
     "execution_count": 277,
     "metadata": {},
     "output_type": "execute_result"
    }
   ],
   "source": [
    "np.linspace(0,10,20)    # linspace function similar to range but no step instead of number of points"
   ]
  },
  {
   "cell_type": "code",
   "execution_count": 278,
   "id": "4c53d969",
   "metadata": {},
   "outputs": [
    {
     "data": {
      "text/plain": [
       "array([3.        , 3.22222222, 3.44444444, 3.66666667, 3.88888889,\n",
       "       4.11111111, 4.33333333, 4.55555556, 4.77777778, 5.        ])"
      ]
     },
     "execution_count": 278,
     "metadata": {},
     "output_type": "execute_result"
    }
   ],
   "source": [
    "np.linspace(3,5,10)  # linspace function from 3-5 with 10 points"
   ]
  },
  {
   "cell_type": "code",
   "execution_count": 279,
   "id": "da2fc7e1",
   "metadata": {},
   "outputs": [
    {
     "data": {
      "text/plain": [
       "array([[1., 0., 0.],\n",
       "       [0., 1., 0.],\n",
       "       [0., 0., 1.]])"
      ]
     },
     "execution_count": 279,
     "metadata": {},
     "output_type": "execute_result"
    }
   ],
   "source": [
    "np.eye(3)    # identity matrix:2-dimensional with a diagonal of 1 and all other number 0s. takes 1 argument."
   ]
  },
  {
   "cell_type": "code",
   "execution_count": 282,
   "id": "43b7f6e8",
   "metadata": {},
   "outputs": [
    {
     "data": {
      "text/plain": [
       "array([[1., 0., 0., 0., 0., 0., 0., 0., 0., 0.],\n",
       "       [0., 1., 0., 0., 0., 0., 0., 0., 0., 0.],\n",
       "       [0., 0., 1., 0., 0., 0., 0., 0., 0., 0.],\n",
       "       [0., 0., 0., 1., 0., 0., 0., 0., 0., 0.],\n",
       "       [0., 0., 0., 0., 1., 0., 0., 0., 0., 0.],\n",
       "       [0., 0., 0., 0., 0., 1., 0., 0., 0., 0.],\n",
       "       [0., 0., 0., 0., 0., 0., 1., 0., 0., 0.],\n",
       "       [0., 0., 0., 0., 0., 0., 0., 1., 0., 0.],\n",
       "       [0., 0., 0., 0., 0., 0., 0., 0., 1., 0.],\n",
       "       [0., 0., 0., 0., 0., 0., 0., 0., 0., 1.]])"
      ]
     },
     "execution_count": 282,
     "metadata": {},
     "output_type": "execute_result"
    }
   ],
   "source": [
    "np.eye(10)    "
   ]
  },
  {
   "cell_type": "code",
   "execution_count": 283,
   "id": "1a60afb7",
   "metadata": {},
   "outputs": [],
   "source": [
    "arrr = np.random.rand(5)  # this generates 1-dimensional 5-random numbers between 0 and 1"
   ]
  },
  {
   "cell_type": "code",
   "execution_count": 284,
   "id": "22adc4fd",
   "metadata": {},
   "outputs": [
    {
     "data": {
      "text/plain": [
       "array([0.46760468, 0.14271408, 0.14568863, 0.69723537, 0.02081953])"
      ]
     },
     "execution_count": 284,
     "metadata": {},
     "output_type": "execute_result"
    }
   ],
   "source": [
    "arrr"
   ]
  },
  {
   "cell_type": "code",
   "execution_count": 285,
   "id": "a24739d6",
   "metadata": {},
   "outputs": [],
   "source": [
    "import matplotlib.pyplot as plt"
   ]
  },
  {
   "cell_type": "code",
   "execution_count": 287,
   "id": "32f79af1",
   "metadata": {},
   "outputs": [
    {
     "data": {
      "text/plain": [
       "(array([1., 2., 0., 0., 0., 0., 1., 0., 0., 1.]),\n",
       " array([0.02081953, 0.08846112, 0.1561027 , 0.22374428, 0.29138587,\n",
       "        0.35902745, 0.42666903, 0.49431062, 0.5619522 , 0.62959378,\n",
       "        0.69723537]),\n",
       " <BarContainer object of 10 artists>)"
      ]
     },
     "execution_count": 287,
     "metadata": {},
     "output_type": "execute_result"
    },
    {
     "data": {
      "image/png": "[encoded data removed]",
      "text/plain": [
       "<Figure size 432x288 with 1 Axes>"
      ]
     },
     "metadata": {
      "needs_background": "light"
     },
     "output_type": "display_data"
    }
   ],
   "source": [
    "plt.hist(arrr)       # this plots graph of array arrr"
   ]
  },
  {
   "cell_type": "code",
   "execution_count": 288,
   "id": "24710de8",
   "metadata": {},
   "outputs": [
    {
     "data": {
      "text/plain": [
       "0.697235368074742"
      ]
     },
     "execution_count": 288,
     "metadata": {},
     "output_type": "execute_result"
    }
   ],
   "source": [
    "arrr.max()   # this gives the maximum number in array variable arrr"
   ]
  },
  {
   "cell_type": "code",
   "execution_count": 289,
   "id": "8d09e144",
   "metadata": {},
   "outputs": [
    {
     "data": {
      "text/plain": [
       "3"
      ]
     },
     "execution_count": 289,
     "metadata": {},
     "output_type": "execute_result"
    }
   ],
   "source": [
    "arrr.argmax()    # this gives the index of the maximum number in the array variable arrr"
   ]
  },
  {
   "cell_type": "code",
   "execution_count": 290,
   "id": "bf900718",
   "metadata": {},
   "outputs": [
    {
     "data": {
      "text/plain": [
       "(0.020819532818471154, 4)"
      ]
     },
     "execution_count": 290,
     "metadata": {},
     "output_type": "execute_result"
    }
   ],
   "source": [
    "arrr.min(), arrr.argmin()"
   ]
  },
  {
   "cell_type": "code",
   "execution_count": 291,
   "id": "ba13f891",
   "metadata": {},
   "outputs": [
    {
     "data": {
      "text/plain": [
       "array([[0.27211895, 0.24661055, 0.29176536, 0.87131933],\n",
       "       [0.53314228, 0.22467498, 0.17422986, 0.44700952],\n",
       "       [0.90746443, 0.72412634, 0.28176931, 0.07733056]])"
      ]
     },
     "execution_count": 291,
     "metadata": {},
     "output_type": "execute_result"
    }
   ],
   "source": [
    "np.random.rand(3,4)   # this generates 2-dimensional random numbers from 0-1"
   ]
  },
  {
   "cell_type": "code",
   "execution_count": 293,
   "id": "b260f0f7",
   "metadata": {},
   "outputs": [
    {
     "data": {
      "text/plain": [
       "(array([[1., 0., 0., 1., 0., 0., 0., 0., 0., 1.],\n",
       "        [0., 0., 0., 0., 1., 1., 0., 0., 0., 1.],\n",
       "        [0., 0., 1., 0., 0., 0., 1., 0., 0., 1.],\n",
       "        [1., 1., 0., 1., 0., 0., 0., 0., 0., 0.]]),\n",
       " array([0.01869044, 0.09891187, 0.17913329, 0.25935472, 0.33957615,\n",
       "        0.41979758, 0.50001901, 0.58024044, 0.66046186, 0.74068329,\n",
       "        0.82090472]),\n",
       " <a list of 4 BarContainer objects>)"
      ]
     },
     "execution_count": 293,
     "metadata": {},
     "output_type": "execute_result"
    },
    {
     "data": {
      "image/png": "[encoded data removed]",
      "text/plain": [
       "<Figure size 432x288 with 1 Axes>"
      ]
     },
     "metadata": {
      "needs_background": "light"
     },
     "output_type": "display_data"
    }
   ],
   "source": [
    "plt.hist(np.random.rand(3,4))      #matplotlib plots this gram."
   ]
  },
  {
   "cell_type": "code",
   "execution_count": 295,
   "id": "b677a280",
   "metadata": {},
   "outputs": [
    {
     "data": {
      "text/plain": [
       "array([-0.81982554,  1.26770561,  1.63159802])"
      ]
     },
     "execution_count": 295,
     "metadata": {},
     "output_type": "execute_result"
    }
   ],
   "source": [
    "np.random.randn(3)  #to generate 3 numbers for a Gaussian/standard/normal distribution curve and not from 0-1"
   ]
  },
  {
   "cell_type": "code",
   "execution_count": 296,
   "id": "21f53ae3",
   "metadata": {},
   "outputs": [
    {
     "data": {
      "text/plain": [
       "(array([1., 0., 0., 0., 0., 0., 0., 0., 0., 2.]),\n",
       " array([-3.95639276, -3.63110801, -3.30582326, -2.98053851, -2.65525375,\n",
       "        -2.329969  , -2.00468425, -1.6793995 , -1.35411475, -1.02883   ,\n",
       "        -0.70354524]),\n",
       " <BarContainer object of 10 artists>)"
      ]
     },
     "execution_count": 296,
     "metadata": {},
     "output_type": "execute_result"
    },
    {
     "data": {
      "image/png": "[encoded data removed]",
      "text/plain": [
       "<Figure size 432x288 with 1 Axes>"
      ]
     },
     "metadata": {
      "needs_background": "light"
     },
     "output_type": "display_data"
    }
   ],
   "source": [
    "plt.hist(np.random.randn(3))"
   ]
  },
  {
   "cell_type": "code",
   "execution_count": 297,
   "id": "2369cac2",
   "metadata": {},
   "outputs": [
    {
     "data": {
      "text/plain": [
       "array([[-0.77293022, -0.71614592],\n",
       "       [ 0.38533628, -1.42415701]])"
      ]
     },
     "execution_count": 297,
     "metadata": {},
     "output_type": "execute_result"
    }
   ],
   "source": [
    "np.random.randn(2,2)   #2-dimensional array for a Gaussian distribution or a normal distribution curve."
   ]
  },
  {
   "cell_type": "code",
   "execution_count": 298,
   "id": "3ad8275a",
   "metadata": {},
   "outputs": [
    {
     "data": {
      "text/plain": [
       "(array([[1., 0., 0., 0., 0., 0., 0., 0., 1., 0.],\n",
       "        [0., 0., 0., 0., 0., 0., 0., 1., 0., 1.]]),\n",
       " array([-1.38191878, -1.16066276, -0.93940674, -0.71815072, -0.4968947 ,\n",
       "        -0.27563868, -0.05438266,  0.16687336,  0.38812938,  0.6093854 ,\n",
       "         0.83064142]),\n",
       " <a list of 2 BarContainer objects>)"
      ]
     },
     "execution_count": 298,
     "metadata": {},
     "output_type": "execute_result"
    },
    {
     "data": {
      "image/png": "[encoded data removed]",
      "text/plain": [
       "<Figure size 432x288 with 1 Axes>"
      ]
     },
     "metadata": {
      "needs_background": "light"
     },
     "output_type": "display_data"
    }
   ],
   "source": [
    "plt.hist(np.random.randn(2,2))    # plots histogram of the array."
   ]
  },
  {
   "cell_type": "code",
   "execution_count": 300,
   "id": "52f767f8",
   "metadata": {},
   "outputs": [
    {
     "data": {
      "text/plain": [
       "array([48, 14, 22,  6, 19, 44,  1, 17, 33, 29])"
      ]
     },
     "execution_count": 300,
     "metadata": {},
     "output_type": "execute_result"
    }
   ],
   "source": [
    "np.random.randint(1,50,10)  # generate 10 random integers from 1-50."
   ]
  },
  {
   "cell_type": "code",
   "execution_count": 303,
   "id": "14620465",
   "metadata": {},
   "outputs": [
    {
     "data": {
      "text/plain": [
       "([<matplotlib.patches.Wedge at 0x235d1e53940>,\n",
       "  <matplotlib.patches.Wedge at 0x235d1e53e20>,\n",
       "  <matplotlib.patches.Wedge at 0x235d1e62370>,\n",
       "  <matplotlib.patches.Wedge at 0x235d1e62850>,\n",
       "  <matplotlib.patches.Wedge at 0x235d1e62d30>,\n",
       "  <matplotlib.patches.Wedge at 0x235d1e6f250>,\n",
       "  <matplotlib.patches.Wedge at 0x235d1e6f730>,\n",
       "  <matplotlib.patches.Wedge at 0x235d1e6fc10>,\n",
       "  <matplotlib.patches.Wedge at 0x235d1e7d130>,\n",
       "  <matplotlib.patches.Wedge at 0x235d1e7d610>],\n",
       " [Text(1.0237297213627468, 0.4024642314523776, ''),\n",
       "  Text(0.6888037128139751, 0.857641793066128, ''),\n",
       "  Text(0.42708384841733216, 1.013705769156436, ''),\n",
       "  Text(-0.11938656426644774, 1.0935021025460598, ''),\n",
       "  Text(-0.7393301762447666, 0.8144881156247048, ''),\n",
       "  Text(-1.0740851953451704, 0.23736257737968522, ''),\n",
       "  Text(-0.8740354111283554, -0.6678788064414732, ''),\n",
       "  Text(-0.026580040956234702, -1.0996788173929537, ''),\n",
       "  Text(0.8976660551120029, -0.6357638346899379, ''),\n",
       "  Text(1.099919702204857, -0.01329092553506984, '')])"
      ]
     },
     "execution_count": 303,
     "metadata": {},
     "output_type": "execute_result"
    },
    {
     "data": {
      "image/png": "[encoded data removed]",
      "text/plain": [
       "<Figure size 432x288 with 1 Axes>"
      ]
     },
     "metadata": {},
     "output_type": "display_data"
    }
   ],
   "source": [
    "plt.pie(np.random.randint(1,50,10))    #plots pie chart of the array."
   ]
  },
  {
   "cell_type": "code",
   "execution_count": 304,
   "id": "355d03d1",
   "metadata": {},
   "outputs": [],
   "source": [
    "arr = np.arange(0,20)  #gives an array of elements of range 0-20"
   ]
  },
  {
   "cell_type": "code",
   "execution_count": 306,
   "id": "2bae6c51",
   "metadata": {},
   "outputs": [
    {
     "data": {
      "text/plain": [
       "array([ 0,  1,  2,  3,  4,  5,  6,  7,  8,  9, 10, 11, 12, 13, 14, 15, 16,\n",
       "       17, 18, 19])"
      ]
     },
     "execution_count": 306,
     "metadata": {},
     "output_type": "execute_result"
    }
   ],
   "source": [
    "arr   "
   ]
  },
  {
   "cell_type": "code",
   "execution_count": 309,
   "id": "7b56a5f5",
   "metadata": {},
   "outputs": [
    {
     "data": {
      "text/plain": [
       "<BarContainer object of 20 artists>"
      ]
     },
     "execution_count": 309,
     "metadata": {},
     "output_type": "execute_result"
    },
    {
     "data": {
      "image/png": "[encoded data removed]",
      "text/plain": [
       "<Figure size 432x288 with 1 Axes>"
      ]
     },
     "metadata": {
      "needs_background": "light"
     },
     "output_type": "display_data"
    }
   ],
   "source": [
    "plt.bar(arr, height=1)"
   ]
  },
  {
   "cell_type": "code",
   "execution_count": 310,
   "id": "4a54e07a",
   "metadata": {},
   "outputs": [
    {
     "data": {
      "text/plain": [
       "array([[ 0,  1,  2,  3,  4],\n",
       "       [ 5,  6,  7,  8,  9],\n",
       "       [10, 11, 12, 13, 14],\n",
       "       [15, 16, 17, 18, 19]])"
      ]
     },
     "execution_count": 310,
     "metadata": {},
     "output_type": "execute_result"
    }
   ],
   "source": [
    "arr.reshape(4,5)     #reshape method gives 2-dimensional matrix of a 1-dimensional vector array arr"
   ]
  },
  {
   "cell_type": "code",
   "execution_count": 312,
   "id": "e8135ef3",
   "metadata": {},
   "outputs": [
    {
     "data": {
      "text/plain": [
       "(20,)"
      ]
     },
     "execution_count": 312,
     "metadata": {},
     "output_type": "execute_result"
    }
   ],
   "source": [
    "arr.shape   # gives one dimensional vector"
   ]
  },
  {
   "cell_type": "code",
   "execution_count": 318,
   "id": "058855de",
   "metadata": {},
   "outputs": [
    {
     "data": {
      "text/plain": [
       "1"
      ]
     },
     "execution_count": 318,
     "metadata": {},
     "output_type": "execute_result"
    }
   ],
   "source": [
    "arr.ndim"
   ]
  },
  {
   "cell_type": "code",
   "execution_count": 330,
   "id": "12a83895",
   "metadata": {},
   "outputs": [],
   "source": [
    "arr = arr.reshape(2,10)"
   ]
  },
  {
   "cell_type": "code",
   "execution_count": 331,
   "id": "45aa4c7f",
   "metadata": {},
   "outputs": [
    {
     "data": {
      "text/plain": [
       "array([[ 0,  1,  2,  3,  4,  5,  6,  7,  8,  9],\n",
       "       [10, 11, 12, 13, 14, 15, 16, 17, 18, 19]])"
      ]
     },
     "execution_count": 331,
     "metadata": {},
     "output_type": "execute_result"
    }
   ],
   "source": [
    "arr"
   ]
  },
  {
   "cell_type": "code",
   "execution_count": 332,
   "id": "9ad6057c",
   "metadata": {},
   "outputs": [
    {
     "data": {
      "text/plain": [
       "(2, 10)"
      ]
     },
     "execution_count": 332,
     "metadata": {},
     "output_type": "execute_result"
    }
   ],
   "source": [
    "arr.shape   # it gives 2-dimesnional here"
   ]
  },
  {
   "cell_type": "code",
   "execution_count": 333,
   "id": "1efd5b77",
   "metadata": {},
   "outputs": [
    {
     "data": {
      "text/plain": [
       "dtype('int32')"
      ]
     },
     "execution_count": 333,
     "metadata": {},
     "output_type": "execute_result"
    }
   ],
   "source": [
    "arr.dtype        #to get the data type of the array arr"
   ]
  },
  {
   "cell_type": "code",
   "execution_count": 334,
   "id": "52458fa5",
   "metadata": {},
   "outputs": [],
   "source": [
    "arr3 = np.random.randint(0,100,10)   #to generate 10 random integers from 0-100."
   ]
  },
  {
   "cell_type": "code",
   "execution_count": 335,
   "id": "7ad35167",
   "metadata": {},
   "outputs": [
    {
     "data": {
      "text/plain": [
       "array([76,  1, 24, 98, 70, 88, 26, 22, 27, 94])"
      ]
     },
     "execution_count": 335,
     "metadata": {},
     "output_type": "execute_result"
    }
   ],
   "source": [
    "arr3"
   ]
  },
  {
   "cell_type": "code",
   "execution_count": 338,
   "id": "94ebcf4b",
   "metadata": {},
   "outputs": [
    {
     "data": {
      "text/plain": [
       "<BarContainer object of 10 artists>"
      ]
     },
     "execution_count": 338,
     "metadata": {},
     "output_type": "execute_result"
    },
    {
     "data": {
      "image/png": "[encoded data removed]",
      "text/plain": [
       "<Figure size 432x288 with 1 Axes>"
      ]
     },
     "metadata": {
      "needs_background": "light"
     },
     "output_type": "display_data"
    }
   ],
   "source": [
    "plt.bar(arr3, height=4)"
   ]
  },
  {
   "cell_type": "code",
   "execution_count": 339,
   "id": "82c6b433",
   "metadata": {},
   "outputs": [
    {
     "data": {
      "text/plain": [
       "([<matplotlib.patches.Wedge at 0x235d36ecd90>,\n",
       "  <matplotlib.patches.Wedge at 0x235d370c2b0>,\n",
       "  <matplotlib.patches.Wedge at 0x235d370c730>,\n",
       "  <matplotlib.patches.Wedge at 0x235d370cb50>,\n",
       "  <matplotlib.patches.Wedge at 0x235d2458070>,\n",
       "  <matplotlib.patches.Wedge at 0x235d2458550>,\n",
       "  <matplotlib.patches.Wedge at 0x235d2458a30>,\n",
       "  <matplotlib.patches.Wedge at 0x235d2458f10>,\n",
       "  <matplotlib.patches.Wedge at 0x235d2489430>,\n",
       "  <matplotlib.patches.Wedge at 0x235d24898b0>],\n",
       " [Text(0.9886094359715275, 0.4823394894760935, ''),\n",
       "  Text(0.6718072389137775, 0.8710195369468167, ''),\n",
       "  Text(0.5347583923973183, 0.9612665924501048, ''),\n",
       "  Text(-0.24111153767976307, 1.0732498434184374, ''),\n",
       "  Text(-1.0346569102637262, 0.3734770113989882, ''),\n",
       "  Text(-0.9095670444163525, -0.6186176458133903, ''),\n",
       "  Text(-0.31734799821601767, -1.053228488044397, ''),\n",
       "  Text(-0.006569925593362874, -1.09998037986034, ''),\n",
       "  Text(0.31105166532683487, -1.0551051423898012, ''),\n",
       "  Text(0.9311468120389781, -0.5856326616827721, '')])"
      ]
     },
     "execution_count": 339,
     "metadata": {},
     "output_type": "execute_result"
    },
    {
     "data": {
      "image/png": "[encoded data removed]",
      "text/plain": [
       "<Figure size 432x288 with 1 Axes>"
      ]
     },
     "metadata": {},
     "output_type": "display_data"
    }
   ],
   "source": [
    "plt.pie(arr3)"
   ]
  },
  {
   "cell_type": "code",
   "execution_count": 340,
   "id": "8de80adb",
   "metadata": {},
   "outputs": [
    {
     "data": {
      "text/plain": [
       "98"
      ]
     },
     "execution_count": 340,
     "metadata": {},
     "output_type": "execute_result"
    }
   ],
   "source": [
    "arr3.max()    #to get the highest number in the array arr3."
   ]
  },
  {
   "cell_type": "code",
   "execution_count": 341,
   "id": "530f458e",
   "metadata": {},
   "outputs": [
    {
     "data": {
      "text/plain": [
       "1"
      ]
     },
     "execution_count": 341,
     "metadata": {},
     "output_type": "execute_result"
    }
   ],
   "source": [
    "arr3.min()   #to get the lowest number in the array arr3."
   ]
  },
  {
   "cell_type": "code",
   "execution_count": 342,
   "id": "df7cbafa",
   "metadata": {},
   "outputs": [
    {
     "data": {
      "text/plain": [
       "3"
      ]
     },
     "execution_count": 342,
     "metadata": {},
     "output_type": "execute_result"
    }
   ],
   "source": [
    "arr3.argmax()  #to get the index location of the highest element in the array arr3."
   ]
  },
  {
   "cell_type": "code",
   "execution_count": 343,
   "id": "c6f92b2b",
   "metadata": {},
   "outputs": [
    {
     "data": {
      "text/plain": [
       "1"
      ]
     },
     "execution_count": 343,
     "metadata": {},
     "output_type": "execute_result"
    }
   ],
   "source": [
    "arr3.argmin()  #to get the index location of the lowest element in the array arr3."
   ]
  },
  {
   "cell_type": "code",
   "execution_count": 344,
   "id": "bf210a57",
   "metadata": {},
   "outputs": [
    {
     "data": {
      "text/plain": [
       "dtype('int32')"
      ]
     },
     "execution_count": 344,
     "metadata": {},
     "output_type": "execute_result"
    }
   ],
   "source": [
    "arr3.dtype  #to get the data type of array arr3."
   ]
  },
  {
   "cell_type": "code",
   "execution_count": 345,
   "id": "c1ae71c8",
   "metadata": {},
   "outputs": [],
   "source": [
    "from numpy.random import randint   #used instead of np.random.randint"
   ]
  },
  {
   "cell_type": "code",
   "execution_count": 346,
   "id": "57b44d67",
   "metadata": {},
   "outputs": [
    {
     "data": {
      "text/plain": [
       "7"
      ]
     },
     "execution_count": 346,
     "metadata": {},
     "output_type": "execute_result"
    }
   ],
   "source": [
    "randint(3,20) # generates one number between 3 & 20. This is without the size."
   ]
  },
  {
   "cell_type": "code",
   "execution_count": 352,
   "id": "0e0bc6a6",
   "metadata": {},
   "outputs": [],
   "source": [
    "new_array = np.random.permutation(np.arange(1,50,5))     #this random put numbers into array."
   ]
  },
  {
   "cell_type": "code",
   "execution_count": 353,
   "id": "3b2aa8e0",
   "metadata": {},
   "outputs": [
    {
     "data": {
      "text/plain": [
       "array([31, 21, 11, 41, 16,  1, 26, 36, 46,  6])"
      ]
     },
     "execution_count": 353,
     "metadata": {},
     "output_type": "execute_result"
    }
   ],
   "source": [
    "new_array"
   ]
  },
  {
   "cell_type": "markdown",
   "id": "35b8aef4",
   "metadata": {},
   "source": [
    "# NUMPY ARRAY INDEXING"
   ]
  },
  {
   "cell_type": "code",
   "execution_count": 354,
   "id": "b84a2cc8",
   "metadata": {},
   "outputs": [],
   "source": [
    "arr = np.arange(11)  # gives elements of numbers from 0-10"
   ]
  },
  {
   "cell_type": "code",
   "execution_count": 355,
   "id": "4a93a3bc",
   "metadata": {},
   "outputs": [
    {
     "data": {
      "text/plain": [
       "array([ 0,  1,  2,  3,  4,  5,  6,  7,  8,  9, 10])"
      ]
     },
     "execution_count": 355,
     "metadata": {},
     "output_type": "execute_result"
    }
   ],
   "source": [
    "arr"
   ]
  },
  {
   "cell_type": "code",
   "execution_count": 356,
   "id": "58eec71a",
   "metadata": {},
   "outputs": [
    {
     "data": {
      "text/plain": [
       "8"
      ]
     },
     "execution_count": 356,
     "metadata": {},
     "output_type": "execute_result"
    }
   ],
   "source": [
    "arr[8]  #gives the element of index number 8"
   ]
  },
  {
   "cell_type": "code",
   "execution_count": 357,
   "id": "a62ecf50",
   "metadata": {},
   "outputs": [
    {
     "data": {
      "text/plain": [
       "array([1, 2, 3, 4])"
      ]
     },
     "execution_count": 357,
     "metadata": {},
     "output_type": "execute_result"
    }
   ],
   "source": [
    "arr[1:5]  # gives the sliced elements from index 1-5. It excludes the last element"
   ]
  },
  {
   "cell_type": "code",
   "execution_count": 359,
   "id": "518dc3ca",
   "metadata": {},
   "outputs": [
    {
     "data": {
      "text/plain": [
       "(array([0, 1, 2, 3, 4, 5, 6]),\n",
       " array([ 3,  4,  5,  6,  7,  8,  9, 10]),\n",
       " array([ 0,  1,  2,  3,  4,  5,  6,  7,  8,  9, 10]),\n",
       " array([0, 1, 2, 3, 4, 5, 6, 7, 8, 9]),\n",
       " array([10,  8,  6,  4,  2,  0]))"
      ]
     },
     "execution_count": 359,
     "metadata": {},
     "output_type": "execute_result"
    }
   ],
   "source": [
    "arr[0:7],arr[3:], arr[:], arr[:-1], arr[::-2]\n",
    "# slicing notation for arrays"
   ]
  },
  {
   "cell_type": "markdown",
   "id": "15be0dcb",
   "metadata": {},
   "source": [
    "# BROADCAST IN NUMPY"
   ]
  },
  {
   "cell_type": "code",
   "execution_count": 360,
   "id": "53256d3d",
   "metadata": {},
   "outputs": [],
   "source": [
    "arr[0:4] = 100   # this changes elements from index 0-3 to 100. "
   ]
  },
  {
   "cell_type": "code",
   "execution_count": 361,
   "id": "cd0f571b",
   "metadata": {},
   "outputs": [
    {
     "data": {
      "text/plain": [
       "array([100, 100, 100, 100,   4,   5,   6,   7,   8,   9,  10])"
      ]
     },
     "execution_count": 361,
     "metadata": {},
     "output_type": "execute_result"
    }
   ],
   "source": [
    "arr"
   ]
  },
  {
   "cell_type": "code",
   "execution_count": 362,
   "id": "f424425c",
   "metadata": {},
   "outputs": [],
   "source": [
    "arr1 = np.arange(0,21)   # gives a range of numbers from 0-20"
   ]
  },
  {
   "cell_type": "code",
   "execution_count": 363,
   "id": "7a1aaa7b",
   "metadata": {},
   "outputs": [
    {
     "data": {
      "text/plain": [
       "array([ 0,  1,  2,  3,  4,  5,  6,  7,  8,  9, 10, 11, 12, 13, 14, 15, 16,\n",
       "       17, 18, 19, 20])"
      ]
     },
     "execution_count": 363,
     "metadata": {},
     "output_type": "execute_result"
    }
   ],
   "source": [
    "arr1"
   ]
  },
  {
   "cell_type": "code",
   "execution_count": 364,
   "id": "0dcdea45",
   "metadata": {},
   "outputs": [],
   "source": [
    "array_slice = arr1[0:10]   # get sliced numbers 0-9 from arr1"
   ]
  },
  {
   "cell_type": "code",
   "execution_count": 365,
   "id": "62a2ba64",
   "metadata": {},
   "outputs": [
    {
     "data": {
      "text/plain": [
       "array([0, 1, 2, 3, 4, 5, 6, 7, 8, 9])"
      ]
     },
     "execution_count": 365,
     "metadata": {},
     "output_type": "execute_result"
    }
   ],
   "source": [
    "array_slice"
   ]
  },
  {
   "cell_type": "code",
   "execution_count": 366,
   "id": "fde3115f",
   "metadata": {},
   "outputs": [],
   "source": [
    "array_slice[:] = 500   # broadcast the sliced elements changed to 500"
   ]
  },
  {
   "cell_type": "code",
   "execution_count": 367,
   "id": "73827408",
   "metadata": {},
   "outputs": [
    {
     "data": {
      "text/plain": [
       "array([500, 500, 500, 500, 500, 500, 500, 500, 500, 500])"
      ]
     },
     "execution_count": 367,
     "metadata": {},
     "output_type": "execute_result"
    }
   ],
   "source": [
    "array_slice"
   ]
  },
  {
   "cell_type": "code",
   "execution_count": 368,
   "id": "16119eb6",
   "metadata": {},
   "outputs": [
    {
     "data": {
      "text/plain": [
       "array([500, 500, 500, 500, 500, 500, 500, 500, 500, 500,  10,  11,  12,\n",
       "        13,  14,  15,  16,  17,  18,  19,  20])"
      ]
     },
     "execution_count": 368,
     "metadata": {},
     "output_type": "execute_result"
    }
   ],
   "source": [
    "arr1    # the index 0-10 changes to the sliced array"
   ]
  },
  {
   "cell_type": "code",
   "execution_count": 369,
   "id": "e92741fe",
   "metadata": {},
   "outputs": [],
   "source": [
    "arr2 = arr1.copy()  # copy is used to avoid changes in the initial arr1"
   ]
  },
  {
   "cell_type": "code",
   "execution_count": 370,
   "id": "33efd358",
   "metadata": {},
   "outputs": [
    {
     "data": {
      "text/plain": [
       "array([500, 500, 500, 500, 500, 500, 500, 500, 500, 500,  10,  11,  12,\n",
       "        13,  14,  15,  16,  17,  18,  19,  20])"
      ]
     },
     "execution_count": 370,
     "metadata": {},
     "output_type": "execute_result"
    }
   ],
   "source": [
    "arr2"
   ]
  },
  {
   "cell_type": "code",
   "execution_count": 371,
   "id": "baf4883e",
   "metadata": {},
   "outputs": [],
   "source": [
    "arr2[0:5] = 50     #broadcast 0-4 = 50."
   ]
  },
  {
   "cell_type": "code",
   "execution_count": 372,
   "id": "7441aa0c",
   "metadata": {},
   "outputs": [
    {
     "data": {
      "text/plain": [
       "array([ 50,  50,  50,  50,  50, 500, 500, 500, 500, 500,  10,  11,  12,\n",
       "        13,  14,  15,  16,  17,  18,  19,  20])"
      ]
     },
     "execution_count": 372,
     "metadata": {},
     "output_type": "execute_result"
    }
   ],
   "source": [
    "arr2"
   ]
  },
  {
   "cell_type": "code",
   "execution_count": 373,
   "id": "a870a4f1",
   "metadata": {},
   "outputs": [
    {
     "data": {
      "text/plain": [
       "array([500, 500, 500, 500, 500, 500, 500, 500, 500, 500,  10,  11,  12,\n",
       "        13,  14,  15,  16,  17,  18,  19,  20])"
      ]
     },
     "execution_count": 373,
     "metadata": {},
     "output_type": "execute_result"
    }
   ],
   "source": [
    "arr1   # note: use .copy() so the initial array is unchanged"
   ]
  },
  {
   "cell_type": "markdown",
   "id": "528100c8",
   "metadata": {},
   "source": [
    "# INDEX IN A 2-DIMENSIONAL MATRIX ARRAY"
   ]
  },
  {
   "cell_type": "code",
   "execution_count": 374,
   "id": "f8850461",
   "metadata": {},
   "outputs": [],
   "source": [
    "# index of 2-d array can be done either by double-bracket notation[][] or single-bracket notation[]."
   ]
  },
  {
   "cell_type": "code",
   "execution_count": 375,
   "id": "e271f519",
   "metadata": {},
   "outputs": [],
   "source": [
    "arr_2d = np.arange(5,50,5)  # gives range of elements from 5-50 with a step of 5."
   ]
  },
  {
   "cell_type": "code",
   "execution_count": 376,
   "id": "7c509367",
   "metadata": {},
   "outputs": [
    {
     "data": {
      "text/plain": [
       "array([ 5, 10, 15, 20, 25, 30, 35, 40, 45])"
      ]
     },
     "execution_count": 376,
     "metadata": {},
     "output_type": "execute_result"
    }
   ],
   "source": [
    "arr_2d             #gives 1-d vector array of the above arange"
   ]
  },
  {
   "cell_type": "code",
   "execution_count": 377,
   "id": "64a2c703",
   "metadata": {},
   "outputs": [],
   "source": [
    "arr_index = arr_2d.reshape(3,3)   # gives a 2-d array of the earlier called 1-d array from arange function."
   ]
  },
  {
   "cell_type": "code",
   "execution_count": 378,
   "id": "eded1948",
   "metadata": {},
   "outputs": [
    {
     "data": {
      "text/plain": [
       "array([[ 5, 10, 15],\n",
       "       [20, 25, 30],\n",
       "       [35, 40, 45]])"
      ]
     },
     "execution_count": 378,
     "metadata": {},
     "output_type": "execute_result"
    }
   ],
   "source": [
    "arr_index"
   ]
  },
  {
   "cell_type": "code",
   "execution_count": 379,
   "id": "a0451c8f",
   "metadata": {},
   "outputs": [
    {
     "data": {
      "text/plain": [
       "(5, 10, 15, 20, 25, 30)"
      ]
     },
     "execution_count": 379,
     "metadata": {},
     "output_type": "execute_result"
    }
   ],
   "source": [
    "arr_index[0][0], arr_index[0][1], arr_index[0][2], arr_index[1][0], arr_index[1][1], arr_index[1][2]  # [][] for 2-d array."
   ]
  },
  {
   "cell_type": "code",
   "execution_count": 380,
   "id": "960b8998",
   "metadata": {},
   "outputs": [
    {
     "data": {
      "text/plain": [
       "(35, 40, 45)"
      ]
     },
     "execution_count": 380,
     "metadata": {},
     "output_type": "execute_result"
    }
   ],
   "source": [
    "arr_index[2][0], arr_index[2][1], arr_index[2][2]  # double bracket notation for 2-d array."
   ]
  },
  {
   "cell_type": "code",
   "execution_count": 381,
   "id": "9dc8676b",
   "metadata": {},
   "outputs": [
    {
     "data": {
      "text/plain": [
       "(3, 3)"
      ]
     },
     "execution_count": 381,
     "metadata": {},
     "output_type": "execute_result"
    }
   ],
   "source": [
    "arr_index.shape  # gives the number of rows and columns of 2-dimensional matrix array."
   ]
  },
  {
   "cell_type": "code",
   "execution_count": 383,
   "id": "032ee11b",
   "metadata": {},
   "outputs": [
    {
     "data": {
      "text/plain": [
       "2"
      ]
     },
     "execution_count": 383,
     "metadata": {},
     "output_type": "execute_result"
    }
   ],
   "source": [
    "arr_index.ndim  #gives 2 as the number of dimensional array."
   ]
  },
  {
   "cell_type": "markdown",
   "id": "56958ef9",
   "metadata": {},
   "source": [
    "# single bracket notation : use comma to separate instead of [][]"
   ]
  },
  {
   "cell_type": "code",
   "execution_count": 384,
   "id": "3c014f0b",
   "metadata": {},
   "outputs": [
    {
     "data": {
      "text/plain": [
       "(5, 10, 15, 20, 25, 30)"
      ]
     },
     "execution_count": 384,
     "metadata": {},
     "output_type": "execute_result"
    }
   ],
   "source": [
    "arr_index[0,0], arr_index[0,1], arr_index[0,2], arr_index[1,0], arr_index[1,1], arr_index[1,2]"
   ]
  },
  {
   "cell_type": "code",
   "execution_count": 386,
   "id": "3d9d8126",
   "metadata": {},
   "outputs": [
    {
     "data": {
      "text/plain": [
       "(35, 40, 45)"
      ]
     },
     "execution_count": 386,
     "metadata": {},
     "output_type": "execute_result"
    }
   ],
   "source": [
    "arr_index[2,0], arr_index[2,1], arr_index[2,2]   "
   ]
  },
  {
   "cell_type": "markdown",
   "id": "05df3b1f",
   "metadata": {},
   "source": [
    "# grabbing numbers from array"
   ]
  },
  {
   "cell_type": "code",
   "execution_count": 387,
   "id": "bfebddb2",
   "metadata": {},
   "outputs": [
    {
     "data": {
      "text/plain": [
       "array([[ 5, 10, 15],\n",
       "       [20, 25, 30],\n",
       "       [35, 40, 45]])"
      ]
     },
     "execution_count": 387,
     "metadata": {},
     "output_type": "execute_result"
    }
   ],
   "source": [
    "arr_index"
   ]
  },
  {
   "cell_type": "code",
   "execution_count": 388,
   "id": "aab08fb8",
   "metadata": {},
   "outputs": [
    {
     "data": {
      "text/plain": [
       "array([[10, 15],\n",
       "       [25, 30]])"
      ]
     },
     "execution_count": 388,
     "metadata": {},
     "output_type": "execute_result"
    }
   ],
   "source": [
    "arr_index[:2,1:]  # this grabs numbers in row 0-1 and column 1- the end. "
   ]
  },
  {
   "cell_type": "code",
   "execution_count": 391,
   "id": "effa9884",
   "metadata": {},
   "outputs": [
    {
     "data": {
      "text/plain": [
       "array([[25, 30],\n",
       "       [40, 45]])"
      ]
     },
     "execution_count": 391,
     "metadata": {},
     "output_type": "execute_result"
    }
   ],
   "source": [
    "arr_index[1:,1:]  # this grabs numbers in row 1-2 and column 1-2"
   ]
  },
  {
   "cell_type": "code",
   "execution_count": 392,
   "id": "e7c9c2e6",
   "metadata": {},
   "outputs": [
    {
     "data": {
      "text/plain": [
       "array([ 5, 10, 15, 20, 25, 30, 35, 40, 45])"
      ]
     },
     "execution_count": 392,
     "metadata": {},
     "output_type": "execute_result"
    }
   ],
   "source": [
    "arr_2d"
   ]
  },
  {
   "cell_type": "code",
   "execution_count": 393,
   "id": "b36523a4",
   "metadata": {},
   "outputs": [
    {
     "data": {
      "text/plain": [
       "array([10, 15, 20, 25, 30, 35, 40, 45])"
      ]
     },
     "execution_count": 393,
     "metadata": {},
     "output_type": "execute_result"
    }
   ],
   "source": [
    "arr_2d[arr_2d>5]   # this gives conditional statement for array."
   ]
  },
  {
   "cell_type": "markdown",
   "id": "dcaa85f7",
   "metadata": {},
   "source": [
    "# Numpy operations"
   ]
  },
  {
   "cell_type": "code",
   "execution_count": 394,
   "id": "3dfee7a7",
   "metadata": {},
   "outputs": [],
   "source": [
    "arr = np.arange(0,21)"
   ]
  },
  {
   "cell_type": "code",
   "execution_count": 395,
   "id": "e45a06d8",
   "metadata": {},
   "outputs": [
    {
     "data": {
      "text/plain": [
       "array([ 0,  1,  2,  3,  4,  5,  6,  7,  8,  9, 10, 11, 12, 13, 14, 15, 16,\n",
       "       17, 18, 19, 20])"
      ]
     },
     "execution_count": 395,
     "metadata": {},
     "output_type": "execute_result"
    }
   ],
   "source": [
    "arr"
   ]
  },
  {
   "cell_type": "code",
   "execution_count": 396,
   "id": "d27e83e5",
   "metadata": {},
   "outputs": [
    {
     "data": {
      "text/plain": [
       "array([ 0,  2,  4,  6,  8, 10, 12, 14, 16, 18, 20, 22, 24, 26, 28, 30, 32,\n",
       "       34, 36, 38, 40])"
      ]
     },
     "execution_count": 396,
     "metadata": {},
     "output_type": "execute_result"
    }
   ],
   "source": [
    "arr + arr   #this adds the array elements to itself"
   ]
  },
  {
   "cell_type": "code",
   "execution_count": 397,
   "id": "c39de35e",
   "metadata": {},
   "outputs": [
    {
     "data": {
      "text/plain": [
       "array([0, 0, 0, 0, 0, 0, 0, 0, 0, 0, 0, 0, 0, 0, 0, 0, 0, 0, 0, 0, 0])"
      ]
     },
     "execution_count": 397,
     "metadata": {},
     "output_type": "execute_result"
    }
   ],
   "source": [
    "arr - arr   #this subtracts the array from itself"
   ]
  },
  {
   "cell_type": "code",
   "execution_count": 398,
   "id": "0c79539a",
   "metadata": {},
   "outputs": [
    {
     "data": {
      "text/plain": [
       "array([  0,   1,   4,   9,  16,  25,  36,  49,  64,  81, 100, 121, 144,\n",
       "       169, 196, 225, 256, 289, 324, 361, 400])"
      ]
     },
     "execution_count": 398,
     "metadata": {},
     "output_type": "execute_result"
    }
   ],
   "source": [
    "arr * arr   # this multiplies array elements by itself"
   ]
  },
  {
   "cell_type": "code",
   "execution_count": 399,
   "id": "3a68c4ca",
   "metadata": {},
   "outputs": [
    {
     "name": "stderr",
     "output_type": "stream",
     "text": [
      "C:\\Users\\emman\\AppData\\Local\\Temp\\ipykernel_4756\\45663496.py:1: RuntimeWarning: invalid value encountered in true_divide\n",
      "  arr / arr   #this divides array elements by itself. The warning is because of the zero divided zero which gives a nan.\n"
     ]
    },
    {
     "data": {
      "text/plain": [
       "array([nan,  1.,  1.,  1.,  1.,  1.,  1.,  1.,  1.,  1.,  1.,  1.,  1.,\n",
       "        1.,  1.,  1.,  1.,  1.,  1.,  1.,  1.])"
      ]
     },
     "execution_count": 399,
     "metadata": {},
     "output_type": "execute_result"
    }
   ],
   "source": [
    "arr / arr   #this divides array elements by itself. The warning is because of the zero divided zero which gives a nan."
   ]
  },
  {
   "cell_type": "code",
   "execution_count": 400,
   "id": "0b31d254",
   "metadata": {},
   "outputs": [
    {
     "data": {
      "text/plain": [
       "array([100, 101, 102, 103, 104, 105, 106, 107, 108, 109, 110, 111, 112,\n",
       "       113, 114, 115, 116, 117, 118, 119, 120])"
      ]
     },
     "execution_count": 400,
     "metadata": {},
     "output_type": "execute_result"
    }
   ],
   "source": [
    "arr + 100   #this adds 100 to all array elements. This is called array with scalar"
   ]
  },
  {
   "cell_type": "code",
   "execution_count": 401,
   "id": "ab8196d0",
   "metadata": {},
   "outputs": [
    {
     "data": {
      "text/plain": [
       "array([-100,  -99,  -98,  -97,  -96,  -95,  -94,  -93,  -92,  -91,  -90,\n",
       "        -89,  -88,  -87,  -86,  -85,  -84,  -83,  -82,  -81,  -80])"
      ]
     },
     "execution_count": 401,
     "metadata": {},
     "output_type": "execute_result"
    }
   ],
   "source": [
    "arr - 100     #this subtracts 100 from all array elements"
   ]
  },
  {
   "cell_type": "code",
   "execution_count": 402,
   "id": "920b4092",
   "metadata": {},
   "outputs": [
    {
     "data": {
      "text/plain": [
       "array([   0,  100,  200,  300,  400,  500,  600,  700,  800,  900, 1000,\n",
       "       1100, 1200, 1300, 1400, 1500, 1600, 1700, 1800, 1900, 2000])"
      ]
     },
     "execution_count": 402,
     "metadata": {},
     "output_type": "execute_result"
    }
   ],
   "source": [
    "arr * 100    #this multiplies all array elements by 100"
   ]
  },
  {
   "cell_type": "code",
   "execution_count": 403,
   "id": "1d368b97",
   "metadata": {},
   "outputs": [
    {
     "data": {
      "text/plain": [
       "array([0.  , 0.01, 0.02, 0.03, 0.04, 0.05, 0.06, 0.07, 0.08, 0.09, 0.1 ,\n",
       "       0.11, 0.12, 0.13, 0.14, 0.15, 0.16, 0.17, 0.18, 0.19, 0.2 ])"
      ]
     },
     "execution_count": 403,
     "metadata": {},
     "output_type": "execute_result"
    }
   ],
   "source": [
    "arr / 100      # this divides all array elements by 100"
   ]
  },
  {
   "cell_type": "code",
   "execution_count": 404,
   "id": "1c4f060e",
   "metadata": {},
   "outputs": [
    {
     "name": "stderr",
     "output_type": "stream",
     "text": [
      "C:\\Users\\emman\\AppData\\Local\\Temp\\ipykernel_4756\\1273788754.py:1: RuntimeWarning: divide by zero encountered in true_divide\n",
      "  1/arr     #warning is a result of 1/0.\n"
     ]
    },
    {
     "data": {
      "text/plain": [
       "array([       inf, 1.        , 0.5       , 0.33333333, 0.25      ,\n",
       "       0.2       , 0.16666667, 0.14285714, 0.125     , 0.11111111,\n",
       "       0.1       , 0.09090909, 0.08333333, 0.07692308, 0.07142857,\n",
       "       0.06666667, 0.0625    , 0.05882353, 0.05555556, 0.05263158,\n",
       "       0.05      ])"
      ]
     },
     "execution_count": 404,
     "metadata": {},
     "output_type": "execute_result"
    }
   ],
   "source": [
    "1/arr     #warning is a result of 1/0. "
   ]
  },
  {
   "cell_type": "code",
   "execution_count": 405,
   "id": "ffc1b92d",
   "metadata": {},
   "outputs": [
    {
     "data": {
      "text/plain": [
       "array([  0,   1,   4,   9,  16,  25,  36,  49,  64,  81, 100, 121, 144,\n",
       "       169, 196, 225, 256, 289, 324, 361, 400], dtype=int32)"
      ]
     },
     "execution_count": 405,
     "metadata": {},
     "output_type": "execute_result"
    }
   ],
   "source": [
    "arr ** 2    # array elements to the power of 2"
   ]
  },
  {
   "cell_type": "code",
   "execution_count": 406,
   "id": "d29d5b52",
   "metadata": {},
   "outputs": [
    {
     "data": {
      "text/plain": [
       "array([0.        , 1.        , 1.41421356, 1.73205081, 2.        ,\n",
       "       2.23606798, 2.44948974, 2.64575131, 2.82842712, 3.        ,\n",
       "       3.16227766, 3.31662479, 3.46410162, 3.60555128, 3.74165739,\n",
       "       3.87298335, 4.        , 4.12310563, 4.24264069, 4.35889894,\n",
       "       4.47213595])"
      ]
     },
     "execution_count": 406,
     "metadata": {},
     "output_type": "execute_result"
    }
   ],
   "source": [
    "np.sqrt(arr)   #this gives squareroot of individual element in the array"
   ]
  },
  {
   "cell_type": "code",
   "execution_count": 407,
   "id": "97b67b1b",
   "metadata": {},
   "outputs": [
    {
     "data": {
      "text/plain": [
       "array([ 0.        ,  0.84147098,  0.90929743,  0.14112001, -0.7568025 ,\n",
       "       -0.95892427, -0.2794155 ,  0.6569866 ,  0.98935825,  0.41211849,\n",
       "       -0.54402111, -0.99999021, -0.53657292,  0.42016704,  0.99060736,\n",
       "        0.65028784, -0.28790332, -0.96139749, -0.75098725,  0.14987721,\n",
       "        0.91294525])"
      ]
     },
     "execution_count": 407,
     "metadata": {},
     "output_type": "execute_result"
    }
   ],
   "source": [
    "np.sin(arr)      #this gives sine values of individual element in the array"
   ]
  },
  {
   "cell_type": "code",
   "execution_count": 408,
   "id": "28b579a2",
   "metadata": {},
   "outputs": [
    {
     "data": {
      "text/plain": [
       "array([ 1.        ,  0.54030231, -0.41614684, -0.9899925 , -0.65364362,\n",
       "        0.28366219,  0.96017029,  0.75390225, -0.14550003, -0.91113026,\n",
       "       -0.83907153,  0.0044257 ,  0.84385396,  0.90744678,  0.13673722,\n",
       "       -0.75968791, -0.95765948, -0.27516334,  0.66031671,  0.98870462,\n",
       "        0.40808206])"
      ]
     },
     "execution_count": 408,
     "metadata": {},
     "output_type": "execute_result"
    }
   ],
   "source": [
    "np.cos(arr)     #this gives cosine values of individual element in the array"
   ]
  },
  {
   "cell_type": "code",
   "execution_count": 409,
   "id": "0b67715d",
   "metadata": {},
   "outputs": [
    {
     "data": {
      "text/plain": [
       "array([ 0.00000000e+00,  1.55740772e+00, -2.18503986e+00, -1.42546543e-01,\n",
       "        1.15782128e+00, -3.38051501e+00, -2.91006191e-01,  8.71447983e-01,\n",
       "       -6.79971146e+00, -4.52315659e-01,  6.48360827e-01, -2.25950846e+02,\n",
       "       -6.35859929e-01,  4.63021133e-01,  7.24460662e+00, -8.55993401e-01,\n",
       "        3.00632242e-01,  3.49391565e+00, -1.13731371e+00,  1.51589471e-01,\n",
       "        2.23716094e+00])"
      ]
     },
     "execution_count": 409,
     "metadata": {},
     "output_type": "execute_result"
    }
   ],
   "source": [
    "np.tan(arr)       #this gives tangent values of individual element in the array"
   ]
  },
  {
   "cell_type": "code",
   "execution_count": 410,
   "id": "09b69d8a",
   "metadata": {},
   "outputs": [
    {
     "name": "stderr",
     "output_type": "stream",
     "text": [
      "C:\\Users\\emman\\AppData\\Local\\Temp\\ipykernel_4756\\1810918883.py:1: RuntimeWarning: divide by zero encountered in log\n",
      "  np.log(arr)        #this gives logarithm of individual element in the array\n"
     ]
    },
    {
     "data": {
      "text/plain": [
       "array([      -inf, 0.        , 0.69314718, 1.09861229, 1.38629436,\n",
       "       1.60943791, 1.79175947, 1.94591015, 2.07944154, 2.19722458,\n",
       "       2.30258509, 2.39789527, 2.48490665, 2.56494936, 2.63905733,\n",
       "       2.7080502 , 2.77258872, 2.83321334, 2.89037176, 2.94443898,\n",
       "       2.99573227])"
      ]
     },
     "execution_count": 410,
     "metadata": {},
     "output_type": "execute_result"
    }
   ],
   "source": [
    "np.log(arr)        #this gives logarithm of individual element in the array"
   ]
  },
  {
   "cell_type": "code",
   "execution_count": 411,
   "id": "317e55a5",
   "metadata": {},
   "outputs": [
    {
     "data": {
      "text/plain": [
       "20"
      ]
     },
     "execution_count": 411,
     "metadata": {},
     "output_type": "execute_result"
    }
   ],
   "source": [
    "np.max(arr)   # this is same as arr.max()"
   ]
  },
  {
   "cell_type": "code",
   "execution_count": 412,
   "id": "932dfbb1",
   "metadata": {},
   "outputs": [
    {
     "data": {
      "text/plain": [
       "array([ 0,  1,  2,  3,  4,  5,  6,  7,  8,  9, 10, 11, 12, 13, 14, 15, 16,\n",
       "       17, 18, 19, 20])"
      ]
     },
     "execution_count": 412,
     "metadata": {},
     "output_type": "execute_result"
    }
   ],
   "source": [
    "np.abs(arr)    #this gives absolute values of individual element in the array"
   ]
  },
  {
   "cell_type": "markdown",
   "id": "d3d167c8",
   "metadata": {},
   "source": [
    "# Numpy Exercises and solutions."
   ]
  },
  {
   "cell_type": "code",
   "execution_count": 413,
   "id": "033dcce2",
   "metadata": {},
   "outputs": [],
   "source": [
    "import numpy as np       #import numpy as np"
   ]
  },
  {
   "cell_type": "code",
   "execution_count": 414,
   "id": "a6f693d8",
   "metadata": {},
   "outputs": [
    {
     "data": {
      "text/plain": [
       "array([0., 0., 0., 0., 0., 0., 0., 0., 0., 0.])"
      ]
     },
     "execution_count": 414,
     "metadata": {},
     "output_type": "execute_result"
    }
   ],
   "source": [
    "np.zeros(10)       #an array of 10 zeros"
   ]
  },
  {
   "cell_type": "code",
   "execution_count": 415,
   "id": "d91d0314",
   "metadata": {},
   "outputs": [
    {
     "data": {
      "text/plain": [
       "array([1., 1., 1., 1., 1., 1., 1., 1., 1., 1.])"
      ]
     },
     "execution_count": 415,
     "metadata": {},
     "output_type": "execute_result"
    }
   ],
   "source": [
    "np.ones(10)     #an array of 10 ones"
   ]
  },
  {
   "cell_type": "code",
   "execution_count": 416,
   "id": "7a9f6861",
   "metadata": {},
   "outputs": [
    {
     "data": {
      "text/plain": [
       "array([5., 5., 5., 5., 5., 5., 5., 5., 5., 5.])"
      ]
     },
     "execution_count": 416,
     "metadata": {},
     "output_type": "execute_result"
    }
   ],
   "source": [
    "np.ones(10) * 5      #an array of 10 fives."
   ]
  },
  {
   "cell_type": "code",
   "execution_count": 417,
   "id": "e4523d0e",
   "metadata": {},
   "outputs": [
    {
     "data": {
      "text/plain": [
       "array([5., 5., 5., 5., 5., 5., 5., 5., 5., 5.])"
      ]
     },
     "execution_count": 417,
     "metadata": {},
     "output_type": "execute_result"
    }
   ],
   "source": [
    "np.zeros(10) + 5     #an array of 10 fives."
   ]
  },
  {
   "cell_type": "code",
   "execution_count": 418,
   "id": "e18644e8",
   "metadata": {},
   "outputs": [
    {
     "data": {
      "text/plain": [
       "array([10, 11, 12, 13, 14, 15, 16, 17, 18, 19, 20, 21, 22, 23, 24, 25, 26,\n",
       "       27, 28, 29, 30, 31, 32, 33, 34, 35, 36, 37, 38, 39, 40, 41, 42, 43,\n",
       "       44, 45, 46, 47, 48, 49, 50])"
      ]
     },
     "execution_count": 418,
     "metadata": {},
     "output_type": "execute_result"
    }
   ],
   "source": [
    "np.arange(10,51)     #an array from integers 10-50"
   ]
  },
  {
   "cell_type": "code",
   "execution_count": 419,
   "id": "1dbfb93f",
   "metadata": {},
   "outputs": [
    {
     "data": {
      "text/plain": [
       "array([10, 12, 14, 16, 18, 20, 22, 24, 26, 28, 30, 32, 34, 36, 38, 40, 42,\n",
       "       44, 46, 48, 50])"
      ]
     },
     "execution_count": 419,
     "metadata": {},
     "output_type": "execute_result"
    }
   ],
   "source": [
    "np.arange(10,51,2)    #an array of even integers from 10-50."
   ]
  },
  {
   "cell_type": "code",
   "execution_count": 420,
   "id": "39383ecd",
   "metadata": {},
   "outputs": [
    {
     "data": {
      "text/plain": [
       "array([[0, 1, 2],\n",
       "       [3, 4, 5],\n",
       "       [6, 7, 8]])"
      ]
     },
     "execution_count": 420,
     "metadata": {},
     "output_type": "execute_result"
    }
   ],
   "source": [
    "np.arange(0,9).reshape(3,3)    #a 3x3 matrix array"
   ]
  },
  {
   "cell_type": "code",
   "execution_count": 422,
   "id": "4e581071",
   "metadata": {},
   "outputs": [
    {
     "data": {
      "text/plain": [
       "array([[0, 1, 2],\n",
       "       [3, 4, 5],\n",
       "       [6, 7, 8]])"
      ]
     },
     "execution_count": 422,
     "metadata": {},
     "output_type": "execute_result"
    }
   ],
   "source": [
    "x = np.arange(9)\n",
    "x.reshape(3,3)                  #a 3x3 matrix array"
   ]
  },
  {
   "cell_type": "code",
   "execution_count": 425,
   "id": "7ef41f87",
   "metadata": {},
   "outputs": [
    {
     "data": {
      "text/plain": [
       "array([[1., 0., 0.],\n",
       "       [0., 1., 0.],\n",
       "       [0., 0., 1.]])"
      ]
     },
     "execution_count": 425,
     "metadata": {},
     "output_type": "execute_result"
    }
   ],
   "source": [
    "np.eye(3,3)               #a 3x3 identity matrix array"
   ]
  },
  {
   "cell_type": "code",
   "execution_count": 426,
   "id": "bff1afa0",
   "metadata": {},
   "outputs": [
    {
     "data": {
      "text/plain": [
       "array([0.85646078])"
      ]
     },
     "execution_count": 426,
     "metadata": {},
     "output_type": "execute_result"
    }
   ],
   "source": [
    "np.random.rand(1)      #an array of 1-random number between 0 and 1"
   ]
  },
  {
   "cell_type": "code",
   "execution_count": 427,
   "id": "167bfd83",
   "metadata": {},
   "outputs": [
    {
     "data": {
      "text/plain": [
       "array([-1.36689997])"
      ]
     },
     "execution_count": 427,
     "metadata": {},
     "output_type": "execute_result"
    }
   ],
   "source": [
    "np.random.randn(1)     #an array of 1-random number that's not between 0 and 1"
   ]
  },
  {
   "cell_type": "code",
   "execution_count": 428,
   "id": "041b57a5",
   "metadata": {},
   "outputs": [
    {
     "data": {
      "text/plain": [
       "array([[-1.13829829,  0.52688045,  0.89992921, -0.04661163, -0.78819804],\n",
       "       [ 0.05327231, -0.25644404,  0.58566668, -0.18317225, -0.54153148],\n",
       "       [ 1.26446143,  1.29467572, -0.3737863 ,  1.57342734, -0.69051058],\n",
       "       [-0.06479028, -0.91793594, -0.86533277, -1.12268698, -1.1811789 ],\n",
       "       [ 0.26398287, -1.98336119,  0.01968981,  0.12454811, -0.25295958]])"
      ]
     },
     "execution_count": 428,
     "metadata": {},
     "output_type": "execute_result"
    }
   ],
   "source": [
    "np.random.randn(5,5)   #a 2-dimensional array of 25-randon numbers not between 0 and 1 from standard normal distribution."
   ]
  },
  {
   "cell_type": "code",
   "execution_count": 429,
   "id": "fe4cd1d3",
   "metadata": {},
   "outputs": [
    {
     "data": {
      "text/plain": [
       "array([-0.46736829, -0.40838169,  1.29529678,  0.57104412, -0.01288201,\n",
       "        0.8894063 ,  1.32025474,  1.61747852,  1.61255173, -0.06462961,\n",
       "       -2.39565227, -0.38711703, -0.9152552 , -1.71536231,  0.13702935,\n",
       "       -0.41098995,  1.97014263, -0.86378712, -1.27587642, -1.81338832,\n",
       "        0.72028197, -2.03503128, -1.1146858 ,  0.76381887,  0.38320851])"
      ]
     },
     "execution_count": 429,
     "metadata": {},
     "output_type": "execute_result"
    }
   ],
   "source": [
    "np.random.randn(25)     #a 1-dimensional array of 25-randon numbers not between 0 and 1 from standard normal distribution."
   ]
  },
  {
   "cell_type": "code",
   "execution_count": 430,
   "id": "5dfc4d81",
   "metadata": {},
   "outputs": [
    {
     "data": {
      "text/plain": [
       "(25,)"
      ]
     },
     "execution_count": 430,
     "metadata": {},
     "output_type": "execute_result"
    }
   ],
   "source": [
    "np.random.randn(25).shape"
   ]
  },
  {
   "cell_type": "code",
   "execution_count": 431,
   "id": "bd2e2cda",
   "metadata": {},
   "outputs": [
    {
     "data": {
      "text/plain": [
       "array([[0.01, 0.02, 0.03, 0.04, 0.05, 0.06, 0.07, 0.08, 0.09, 0.1 ],\n",
       "       [0.11, 0.12, 0.13, 0.14, 0.15, 0.16, 0.17, 0.18, 0.19, 0.2 ],\n",
       "       [0.21, 0.22, 0.23, 0.24, 0.25, 0.26, 0.27, 0.28, 0.29, 0.3 ],\n",
       "       [0.31, 0.32, 0.33, 0.34, 0.35, 0.36, 0.37, 0.38, 0.39, 0.4 ],\n",
       "       [0.41, 0.42, 0.43, 0.44, 0.45, 0.46, 0.47, 0.48, 0.49, 0.5 ],\n",
       "       [0.51, 0.52, 0.53, 0.54, 0.55, 0.56, 0.57, 0.58, 0.59, 0.6 ],\n",
       "       [0.61, 0.62, 0.63, 0.64, 0.65, 0.66, 0.67, 0.68, 0.69, 0.7 ],\n",
       "       [0.71, 0.72, 0.73, 0.74, 0.75, 0.76, 0.77, 0.78, 0.79, 0.8 ],\n",
       "       [0.81, 0.82, 0.83, 0.84, 0.85, 0.86, 0.87, 0.88, 0.89, 0.9 ],\n",
       "       [0.91, 0.92, 0.93, 0.94, 0.95, 0.96, 0.97, 0.98, 0.99, 1.  ]])"
      ]
     },
     "execution_count": 431,
     "metadata": {},
     "output_type": "execute_result"
    }
   ],
   "source": [
    "np.arange(0.01,1.01,.01).reshape(10,10)    #2-dimensional array of numbers from 0.01-1 with .01 step"
   ]
  },
  {
   "cell_type": "code",
   "execution_count": 432,
   "id": "9238b119",
   "metadata": {},
   "outputs": [
    {
     "data": {
      "text/plain": [
       "array([[0.01, 0.02, 0.03, 0.04, 0.05, 0.06, 0.07, 0.08, 0.09, 0.1 ],\n",
       "       [0.11, 0.12, 0.13, 0.14, 0.15, 0.16, 0.17, 0.18, 0.19, 0.2 ],\n",
       "       [0.21, 0.22, 0.23, 0.24, 0.25, 0.26, 0.27, 0.28, 0.29, 0.3 ],\n",
       "       [0.31, 0.32, 0.33, 0.34, 0.35, 0.36, 0.37, 0.38, 0.39, 0.4 ],\n",
       "       [0.41, 0.42, 0.43, 0.44, 0.45, 0.46, 0.47, 0.48, 0.49, 0.5 ],\n",
       "       [0.51, 0.52, 0.53, 0.54, 0.55, 0.56, 0.57, 0.58, 0.59, 0.6 ],\n",
       "       [0.61, 0.62, 0.63, 0.64, 0.65, 0.66, 0.67, 0.68, 0.69, 0.7 ],\n",
       "       [0.71, 0.72, 0.73, 0.74, 0.75, 0.76, 0.77, 0.78, 0.79, 0.8 ],\n",
       "       [0.81, 0.82, 0.83, 0.84, 0.85, 0.86, 0.87, 0.88, 0.89, 0.9 ],\n",
       "       [0.91, 0.92, 0.93, 0.94, 0.95, 0.96, 0.97, 0.98, 0.99, 1.  ]])"
      ]
     },
     "execution_count": 432,
     "metadata": {},
     "output_type": "execute_result"
    }
   ],
   "source": [
    "np.linspace(0.01,1,100).reshape(10,10)    #2-dimensional array of numbers from 0.01-1 with 100 points"
   ]
  },
  {
   "cell_type": "code",
   "execution_count": 433,
   "id": "c3b6f85b",
   "metadata": {},
   "outputs": [
    {
     "data": {
      "text/plain": [
       "array([0.        , 0.05263158, 0.10526316, 0.15789474, 0.21052632,\n",
       "       0.26315789, 0.31578947, 0.36842105, 0.42105263, 0.47368421,\n",
       "       0.52631579, 0.57894737, 0.63157895, 0.68421053, 0.73684211,\n",
       "       0.78947368, 0.84210526, 0.89473684, 0.94736842, 1.        ])"
      ]
     },
     "execution_count": 433,
     "metadata": {},
     "output_type": "execute_result"
    }
   ],
   "source": [
    "np.linspace(0,1,20)     #an array of 20 spaced points between 0 and 1"
   ]
  },
  {
   "cell_type": "code",
   "execution_count": 434,
   "id": "3cdb2335",
   "metadata": {},
   "outputs": [],
   "source": [
    "mat = np.arange(1,26).reshape(5,5)"
   ]
  },
  {
   "cell_type": "code",
   "execution_count": 435,
   "id": "3c7a6068",
   "metadata": {},
   "outputs": [
    {
     "data": {
      "text/plain": [
       "array([[ 1,  2,  3,  4,  5],\n",
       "       [ 6,  7,  8,  9, 10],\n",
       "       [11, 12, 13, 14, 15],\n",
       "       [16, 17, 18, 19, 20],\n",
       "       [21, 22, 23, 24, 25]])"
      ]
     },
     "execution_count": 435,
     "metadata": {},
     "output_type": "execute_result"
    }
   ],
   "source": [
    "mat"
   ]
  },
  {
   "cell_type": "code",
   "execution_count": 436,
   "id": "48b3dd6e",
   "metadata": {},
   "outputs": [
    {
     "data": {
      "text/plain": [
       "array([[12, 13, 14, 15],\n",
       "       [17, 18, 19, 20],\n",
       "       [22, 23, 24, 25]])"
      ]
     },
     "execution_count": 436,
     "metadata": {},
     "output_type": "execute_result"
    }
   ],
   "source": [
    "mat[2:,1:]"
   ]
  },
  {
   "cell_type": "code",
   "execution_count": 437,
   "id": "448f061b",
   "metadata": {},
   "outputs": [
    {
     "data": {
      "text/plain": [
       "20"
      ]
     },
     "execution_count": 437,
     "metadata": {},
     "output_type": "execute_result"
    }
   ],
   "source": [
    "mat[3,4]"
   ]
  },
  {
   "cell_type": "code",
   "execution_count": 438,
   "id": "f7ae00c8",
   "metadata": {},
   "outputs": [
    {
     "data": {
      "text/plain": [
       "array([[ 2],\n",
       "       [ 7],\n",
       "       [12]])"
      ]
     },
     "execution_count": 438,
     "metadata": {},
     "output_type": "execute_result"
    }
   ],
   "source": [
    "mat[:3,1].reshape(3,1)    "
   ]
  },
  {
   "cell_type": "code",
   "execution_count": 439,
   "id": "48eedc9f",
   "metadata": {},
   "outputs": [
    {
     "data": {
      "text/plain": [
       "array([[ 2],\n",
       "       [ 7],\n",
       "       [12]])"
      ]
     },
     "execution_count": 439,
     "metadata": {},
     "output_type": "execute_result"
    }
   ],
   "source": [
    "mat[:3,1:2]"
   ]
  },
  {
   "cell_type": "code",
   "execution_count": 440,
   "id": "a5cedc74",
   "metadata": {},
   "outputs": [
    {
     "data": {
      "text/plain": [
       "(array([21, 22, 23, 24, 25]), array([21, 22, 23, 24, 25]))"
      ]
     },
     "execution_count": 440,
     "metadata": {},
     "output_type": "execute_result"
    }
   ],
   "source": [
    "mat[-1], mat[4,:]"
   ]
  },
  {
   "cell_type": "code",
   "execution_count": 441,
   "id": "2f97703d",
   "metadata": {},
   "outputs": [
    {
     "data": {
      "text/plain": [
       "array([[ 1,  2,  3,  4,  5],\n",
       "       [ 6,  7,  8,  9, 10],\n",
       "       [11, 12, 13, 14, 15],\n",
       "       [16, 17, 18, 19, 20],\n",
       "       [21, 22, 23, 24, 25]])"
      ]
     },
     "execution_count": 441,
     "metadata": {},
     "output_type": "execute_result"
    }
   ],
   "source": [
    "mat"
   ]
  },
  {
   "cell_type": "code",
   "execution_count": 442,
   "id": "c80ad1c9",
   "metadata": {},
   "outputs": [
    {
     "data": {
      "text/plain": [
       "array([[16, 17, 18, 19, 20],\n",
       "       [21, 22, 23, 24, 25]])"
      ]
     },
     "execution_count": 442,
     "metadata": {},
     "output_type": "execute_result"
    }
   ],
   "source": [
    "mat[3:,:]"
   ]
  },
  {
   "cell_type": "code",
   "execution_count": 443,
   "id": "1f9668ae",
   "metadata": {},
   "outputs": [
    {
     "data": {
      "text/plain": [
       "(325, 325)"
      ]
     },
     "execution_count": 443,
     "metadata": {},
     "output_type": "execute_result"
    }
   ],
   "source": [
    "np.sum(mat) , mat.sum()      #sum of all elements in mat."
   ]
  },
  {
   "cell_type": "code",
   "execution_count": 444,
   "id": "e6310ac1",
   "metadata": {},
   "outputs": [
    {
     "data": {
      "text/plain": [
       "(7.211102550927978, 7.211102550927978)"
      ]
     },
     "execution_count": 444,
     "metadata": {},
     "output_type": "execute_result"
    }
   ],
   "source": [
    "np.std(mat) , mat.std()   #standard deviation of all element in mat"
   ]
  },
  {
   "cell_type": "code",
   "execution_count": 445,
   "id": "95fdc706",
   "metadata": {},
   "outputs": [
    {
     "data": {
      "text/plain": [
       "(array([55, 60, 65, 70, 75]), array([55, 60, 65, 70, 75]))"
      ]
     },
     "execution_count": 445,
     "metadata": {},
     "output_type": "execute_result"
    }
   ],
   "source": [
    "np.sum(mat,axis=0), mat.sum(axis=0)    # this sums all columns in mat"
   ]
  },
  {
   "cell_type": "code",
   "execution_count": 446,
   "id": "e1ab1529",
   "metadata": {},
   "outputs": [
    {
     "data": {
      "text/plain": [
       "(array([ 15,  40,  65,  90, 115]), array([ 15,  40,  65,  90, 115]))"
      ]
     },
     "execution_count": 446,
     "metadata": {},
     "output_type": "execute_result"
    }
   ],
   "source": [
    "np.sum(mat,axis=1), mat.sum(axis=1)     #this sums all rows in mat"
   ]
  },
  {
   "cell_type": "code",
   "execution_count": 447,
   "id": "2c680d5c",
   "metadata": {},
   "outputs": [
    {
     "name": "stdout",
     "output_type": "stream",
     "text": [
      "Variable         Type                          Data/Info\n",
      "--------------------------------------------------------\n",
      "a                int                           5\n",
      "age              int                           13\n",
      "arr              ndarray                       21: 21 elems, type `int32`, 84 bytes\n",
      "arr1             ndarray                       21: 21 elems, type `int32`, 84 bytes\n",
      "arr2             ndarray                       21: 21 elems, type `int32`, 84 bytes\n",
      "arr3             ndarray                       10: 10 elems, type `int32`, 40 bytes\n",
      "arr_2d           ndarray                       9: 9 elems, type `int32`, 36 bytes\n",
      "arr_index        ndarray                       3x3: 9 elems, type `int32`, 36 bytes\n",
      "array_slice      ndarray                       10: 10 elems, type `int32`, 40 bytes\n",
      "arrr             ndarray                       5: 5 elems, type `float64`, 40 bytes\n",
      "b                int                           6\n",
      "countDog         function                      <function countDog at 0x00000235CF05A310>\n",
      "cube             function                      <function cube at 0x00000235CD473E50>\n",
      "current_number   list                          n=7\n",
      "d                dict                          n=1\n",
      "diameter         int                           12742\n",
      "domainGet        function                      <function domainGet at 0x00000235CEFB4700>\n",
      "findDog          function                      <function findDog at 0x00000235CEF95280>\n",
      "func_name        function                      <function func_name at 0x00000235CF006DC0>\n",
      "greet_me         str                           how are you doing?\n",
      "i                int                           5\n",
      "item             int                           6\n",
      "items            tuple                         n=2\n",
      "list             list                          n=3\n",
      "list3            list                          n=3\n",
      "mat              ndarray                       5x5: 25 elems, type `int32`, 100 bytes\n",
      "my_func          function                      <function my_func at 0x00000235CF0068B0>\n",
      "my_list          list                          n=3\n",
      "my_name          str                           Emmanuel\n",
      "my_numbers       list                          n=20\n",
      "name             str                           Hello there Emmanuel!\n",
      "nest             list                          n=4\n",
      "nested_list      list                          n=6\n",
      "new_array        ndarray                       10: 10 elems, type `int32`, 40 bytes\n",
      "new_name         str                           Rafael\n",
      "new_number       list                          n=20\n",
      "nomenclature     function                      <function nomenclature at 0x00000235CF006A60>\n",
      "np               module                        <module 'numpy' from 'C:\\<...>ges\\\\numpy\\\\__init__.py'>\n",
      "num              int                           36\n",
      "number           int                           40\n",
      "numbers          list                          n=4\n",
      "old_list         list                          n=4\n",
      "output           list                          n=5\n",
      "overspeeding     function                      <function overspeeding at 0x00000235CF038B80>\n",
      "planet           str                           Earth\n",
      "plt              module                        <module 'matplotlib.pyplo<...>\\\\matplotlib\\\\pyplot.py'>\n",
      "present_number   list                          n=7\n",
      "randint          builtin_function_or_method    <built-in method randint <...>ct at 0x00000235CB706540>\n",
      "sentence         str                           who runs the world? #girls\n",
      "seq              list                          n=5\n",
      "seq1             tuple                         n=4\n",
      "seq2             tuple                         n=4\n",
      "seq3             zip                           <zip object at 0x00000235CF07D780>\n",
      "seq4             tuple                         n=0\n",
      "set1             set                           {2, 4, 6, 8, 10}\n",
      "set2             set                           {1, 2, 3, 4, 5, 6, 7, 8, 9}\n",
      "set3             set                           {'a', 'c', 'b', 'd'}\n",
      "t                tuple                         n=4\n",
      "word             str                           great\n",
      "x                ndarray                       9: 9 elems, type `int32`, 36 bytes\n",
      "y                int                           15\n"
     ]
    }
   ],
   "source": [
    "%whos"
   ]
  },
  {
   "cell_type": "code",
   "execution_count": null,
   "id": "553590a1",
   "metadata": {},
   "outputs": [],
   "source": []
  }
 ],
 "metadata": {
  "kernelspec": {
   "display_name": "Python 3 (ipykernel)",
   "language": "python",
   "name": "python3"
  },
  "language_info": {
   "codemirror_mode": {
    "name": "ipython",
    "version": 3
   },
   "file_extension": ".py",
   "mimetype": "text/x-python",
   "name": "python",
   "nbconvert_exporter": "python",
   "pygments_lexer": "ipython3",
   "version": "3.9.12"
  }
 },
 "nbformat": 4,
 "nbformat_minor": 5
}
