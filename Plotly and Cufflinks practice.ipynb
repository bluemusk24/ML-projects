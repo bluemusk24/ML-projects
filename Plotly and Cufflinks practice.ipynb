{
 "cells": [
  {
   "cell_type": "code",
   "execution_count": 1,
   "id": "c239f41d",
   "metadata": {},
   "outputs": [],
   "source": [
    "# Plotly is an interactive visualization library.\n",
    "# Cufflinks connects Plotly(interactive visualization) with pandas\n",
    "# Google plot.ly and cufflinks for more information"
   ]
  },
  {
   "cell_type": "code",
   "execution_count": 2,
   "id": "bc31247b",
   "metadata": {},
   "outputs": [],
   "source": [
    "import pandas as pd\n",
    "import numpy as np\n",
    "import matplotlib.pyplot as plt\n",
    "%matplotlib inline"
   ]
  },
  {
   "cell_type": "code",
   "execution_count": 3,
   "id": "3588135b",
   "metadata": {},
   "outputs": [
    {
     "name": "stdout",
     "output_type": "stream",
     "text": [
      "5.6.0\n"
     ]
    }
   ],
   "source": [
    "# the current version of installed plotly\n",
    "from plotly import __version__\n",
    "print(__version__)"
   ]
  },
  {
   "cell_type": "code",
   "execution_count": 4,
   "id": "a47f1ef0",
   "metadata": {},
   "outputs": [
    {
     "data": {
      "text/html": [
       "        <script type=\"text/javascript\">\n",
       "        window.PlotlyConfig = {MathJaxConfig: 'local'};\n",
       "        if (window.MathJax) {MathJax.Hub.Config({SVG: {font: \"STIX-Web\"}});}\n",
       "        if (typeof require !== 'undefined') {\n",
       "        require.undef(\"plotly\");\n",
       "        requirejs.config({\n",
       "            paths: {\n",
       "                'plotly': ['https://cdn.plot.ly/plotly-2.9.0.min']\n",
       "            }\n",
       "        });\n",
       "        require(['plotly'], function(Plotly) {\n",
       "            window._Plotly = Plotly;\n",
       "        });\n",
       "        }\n",
       "        </script>\n",
       "        "
      ]
     },
     "metadata": {},
     "output_type": "display_data"
    },
    {
     "data": {
      "text/html": [
       "        <script type=\"text/javascript\">\n",
       "        window.PlotlyConfig = {MathJaxConfig: 'local'};\n",
       "        if (window.MathJax) {MathJax.Hub.Config({SVG: {font: \"STIX-Web\"}});}\n",
       "        if (typeof require !== 'undefined') {\n",
       "        require.undef(\"plotly\");\n",
       "        requirejs.config({\n",
       "            paths: {\n",
       "                'plotly': ['https://cdn.plot.ly/plotly-2.9.0.min']\n",
       "            }\n",
       "        });\n",
       "        require(['plotly'], function(Plotly) {\n",
       "            window._Plotly = Plotly;\n",
       "        });\n",
       "        }\n",
       "        </script>\n",
       "        "
      ]
     },
     "metadata": {},
     "output_type": "display_data"
    }
   ],
   "source": [
    "#to import cufflinks\n",
    "import cufflinks as cf\n",
    "\n",
    "#set cufflinks offline bcos it works online by default\n",
    "cf.go_offline()\n",
    "\n",
    "#to import plotly and set it offline\n",
    "from plotly.offline import download_plotlyjs,init_notebook_mode,plot,iplot\n",
    "\n",
    "#to connect javascript to notebook ie to make plotly and cufflinks work on notebook \n",
    "init_notebook_mode(connected=True)"
   ]
  },
  {
   "cell_type": "code",
   "execution_count": 5,
   "id": "af4eca20",
   "metadata": {},
   "outputs": [
    {
     "name": "stdout",
     "output_type": "stream",
     "text": [
      "Package                       Version\n",
      "----------------------------- --------------------\n",
      "aiohttp                       3.8.1\n",
      "aiosignal                     1.2.0\n",
      "alabaster                     0.7.12\n",
      "anaconda-client               1.9.0\n",
      "anaconda-navigator            2.1.4\n",
      "anaconda-project              0.10.2\n",
      "anyio                         3.5.0\n",
      "appdirs                       1.4.4\n",
      "argon2-cffi                   21.3.0\n",
      "argon2-cffi-bindings          21.2.0\n",
      "arrow                         1.2.2\n",
      "astroid                       2.6.6\n",
      "astropy                       5.0.4\n",
      "asttokens                     2.0.5\n",
      "async-timeout                 4.0.1\n",
      "atomicwrites                  1.4.0\n",
      "attrs                         21.4.0\n",
      "Automat                       20.2.0\n",
      "autopep8                      1.6.0\n",
      "Babel                         2.9.1\n",
      "backcall                      0.2.0\n",
      "backports.functools-lru-cache 1.6.4\n",
      "backports.tempfile            1.0\n",
      "backports.weakref             1.0.post1\n",
      "bcrypt                        3.2.0\n",
      "beautifulsoup4                4.11.1\n",
      "binaryornot                   0.4.4\n",
      "bitarray                      2.4.1\n",
      "bkcharts                      0.2\n",
      "black                         19.10b0\n",
      "bleach                        4.1.0\n",
      "bokeh                         2.4.2\n",
      "boto3                         1.21.32\n",
      "botocore                      1.24.32\n",
      "Bottleneck                    1.3.4\n",
      "brotlipy                      0.7.0\n",
      "cachetools                    4.2.2\n",
      "certifi                       2021.10.8\n",
      "cffi                          1.15.0\n",
      "chardet                       4.0.0\n",
      "charset-normalizer            2.0.4\n",
      "chart-studio                  1.1.0\n",
      "click                         8.0.4\n",
      "cloudpickle                   2.0.0\n",
      "clyent                        1.2.2\n",
      "colorama                      0.4.4\n",
      "colorcet                      2.0.6\n",
      "colorlover                    0.3.0\n",
      "comtypes                      1.1.10\n",
      "conda                         22.11.1\n",
      "conda-build                   3.21.8\n",
      "conda-content-trust           0+unknown\n",
      "conda-pack                    0.6.0\n",
      "conda-package-handling        1.8.1\n",
      "conda-repo-cli                1.0.4\n",
      "conda-token                   0.3.0\n",
      "conda-verify                  3.4.2\n",
      "constantly                    15.1.0\n",
      "cookiecutter                  1.7.3\n",
      "cryptography                  3.4.8\n",
      "cssselect                     1.1.0\n",
      "cufflinks                     0.17.3\n",
      "cycler                        0.11.0\n",
      "Cython                        0.29.28\n",
      "cytoolz                       0.11.0\n",
      "daal4py                       2021.5.0\n",
      "dask                          2022.2.1\n",
      "datashader                    0.13.0\n",
      "datashape                     0.5.4\n",
      "debugpy                       1.5.1\n",
      "decorator                     5.1.1\n",
      "defusedxml                    0.7.1\n",
      "diff-match-patch              20200713\n",
      "distributed                   2022.2.1\n",
      "docutils                      0.17.1\n",
      "entrypoints                   0.4\n",
      "et-xmlfile                    1.1.0\n",
      "executing                     0.8.3\n",
      "fastjsonschema                2.15.1\n",
      "filelock                      3.6.0\n",
      "flake8                        3.9.2\n",
      "Flask                         1.1.2\n",
      "fonttools                     4.25.0\n",
      "frozenlist                    1.2.0\n",
      "fsspec                        2022.2.0\n",
      "future                        0.18.2\n",
      "gensim                        4.1.2\n",
      "glob2                         0.7\n",
      "google-api-core               1.25.1\n",
      "google-auth                   1.33.0\n",
      "google-cloud-core             1.7.1\n",
      "google-cloud-storage          1.31.0\n",
      "google-crc32c                 1.1.2\n",
      "google-resumable-media        1.3.1\n",
      "googleapis-common-protos      1.53.0\n",
      "greenlet                      1.1.1\n",
      "grpcio                        1.42.0\n",
      "h5py                          3.6.0\n",
      "HeapDict                      1.0.1\n",
      "holoviews                     1.14.8\n",
      "hvplot                        0.7.3\n",
      "hyperlink                     21.0.0\n",
      "idna                          3.3\n",
      "imagecodecs                   2021.8.26\n",
      "imageio                       2.9.0\n",
      "imagesize                     1.3.0\n",
      "importlib-metadata            4.11.3\n",
      "incremental                   21.3.0\n",
      "inflection                    0.5.1\n",
      "iniconfig                     1.1.1\n",
      "intake                        0.6.5\n",
      "intervaltree                  3.1.0\n",
      "ipykernel                     6.9.1\n",
      "ipython                       8.2.0\n",
      "ipython-genutils              0.2.0\n",
      "ipywidgets                    7.6.5\n",
      "isort                         5.9.3\n",
      "itemadapter                   0.3.0\n",
      "itemloaders                   1.0.4\n",
      "itsdangerous                  2.0.1\n",
      "jdcal                         1.4.1\n",
      "jedi                          0.18.1\n",
      "Jinja2                        2.11.3\n",
      "jinja2-time                   0.2.0\n",
      "jmespath                      0.10.0\n",
      "joblib                        1.1.0\n",
      "json5                         0.9.6\n",
      "jsonschema                    4.4.0\n",
      "jupyter                       1.0.0\n",
      "jupyter-client                6.1.12\n",
      "jupyter-console               6.4.0\n",
      "jupyter-core                  4.9.2\n",
      "jupyter-server                1.13.5\n",
      "jupyterlab                    3.3.2\n",
      "jupyterlab-pygments           0.1.2\n",
      "jupyterlab-server             2.10.3\n",
      "jupyterlab-widgets            1.0.0\n",
      "keyring                       23.4.0\n",
      "kiwisolver                    1.3.2\n",
      "lazy-object-proxy             1.6.0\n",
      "libarchive-c                  2.9\n",
      "llvmlite                      0.38.0\n",
      "locket                        0.2.1\n",
      "lxml                          4.8.0\n",
      "Markdown                      3.3.4\n",
      "MarkupSafe                    2.0.1\n",
      "matplotlib                    3.5.1\n",
      "matplotlib-inline             0.1.2\n",
      "mccabe                        0.6.1\n",
      "menuinst                      1.4.18\n",
      "mistune                       0.8.4\n",
      "mkl-fft                       1.3.1\n",
      "mkl-random                    1.2.2\n",
      "mkl-service                   2.4.0\n",
      "mock                          4.0.3\n",
      "mpmath                        1.2.1\n",
      "msgpack                       1.0.2\n",
      "multidict                     5.1.0\n",
      "multipledispatch              0.6.0\n",
      "munkres                       1.1.4\n",
      "mypy-extensions               0.4.3\n",
      "navigator-updater             0.2.1\n",
      "nbclassic                     0.3.5\n",
      "nbclient                      0.5.13\n",
      "nbconvert                     6.4.4\n",
      "nbformat                      5.3.0\n",
      "nest-asyncio                  1.5.5\n",
      "networkx                      2.7.1\n",
      "nltk                          3.7\n",
      "nose                          1.3.7\n",
      "notebook                      6.4.8\n",
      "numba                         0.55.1\n",
      "numexpr                       2.8.1\n",
      "numpy                         1.21.5\n",
      "numpydoc                      1.2\n",
      "olefile                       0.46\n",
      "openpyxl                      3.0.9\n",
      "packaging                     21.3\n",
      "pandas                        1.4.2\n",
      "pandocfilters                 1.5.0\n",
      "panel                         0.13.0\n",
      "param                         1.12.0\n",
      "paramiko                      2.8.1\n",
      "parsel                        1.6.0\n",
      "parso                         0.8.3\n",
      "partd                         1.2.0\n",
      "pathspec                      0.7.0\n",
      "patsy                         0.5.2\n",
      "pep8                          1.7.1\n",
      "pexpect                       4.8.0\n",
      "pickleshare                   0.7.5\n",
      "Pillow                        9.0.1\n",
      "pip                           21.2.4\n",
      "pkginfo                       1.8.2\n",
      "plotly                        5.6.0\n",
      "pluggy                        1.0.0\n",
      "poyo                          0.5.0\n",
      "prometheus-client             0.13.1\n",
      "prompt-toolkit                3.0.20\n",
      "Protego                       0.1.16\n",
      "protobuf                      3.19.1\n",
      "psutil                        5.8.0\n",
      "ptyprocess                    0.7.0\n",
      "pure-eval                     0.2.2\n",
      "py                            1.11.0\n",
      "pyasn1                        0.4.8\n",
      "pyasn1-modules                0.2.8\n",
      "pycodestyle                   2.7.0\n",
      "pycosat                       0.6.3\n",
      "pycparser                     2.21\n",
      "pyct                          0.4.6\n",
      "pycurl                        7.44.1\n",
      "PyDispatcher                  2.0.5\n",
      "pydocstyle                    6.1.1\n",
      "pyerfa                        2.0.0\n",
      "pyflakes                      2.3.1\n",
      "Pygments                      2.11.2\n",
      "PyHamcrest                    2.0.2\n",
      "PyJWT                         2.1.0\n",
      "pylint                        2.9.6\n",
      "pyls-spyder                   0.4.0\n",
      "PyNaCl                        1.4.0\n",
      "pyodbc                        4.0.32\n",
      "pyOpenSSL                     21.0.0\n",
      "pyparsing                     3.0.4\n",
      "pyreadline                    2.1\n",
      "pyrsistent                    0.18.0\n",
      "PySocks                       1.7.1\n",
      "pytest                        7.1.1\n",
      "python-dateutil               2.8.2\n",
      "python-lsp-black              1.0.0\n",
      "python-lsp-jsonrpc            1.0.0\n",
      "python-lsp-server             1.2.4\n",
      "python-slugify                5.0.2\n",
      "python-snappy                 0.6.0\n",
      "pytz                          2021.3\n",
      "pyviz-comms                   2.0.2\n",
      "PyWavelets                    1.3.0\n",
      "pywin32                       302\n",
      "pywin32-ctypes                0.2.0\n",
      "pywinpty                      2.0.2\n",
      "PyYAML                        6.0\n",
      "pyzmq                         22.3.0\n",
      "QDarkStyle                    3.0.2\n",
      "qstylizer                     0.1.10\n",
      "QtAwesome                     1.0.3\n",
      "qtconsole                     5.3.0\n",
      "QtPy                          2.0.1\n",
      "queuelib                      1.5.0\n",
      "regex                         2022.3.15\n",
      "requests                      2.27.1\n",
      "requests-file                 1.5.1\n",
      "retrying                      1.3.4\n",
      "rope                          0.22.0\n",
      "rsa                           4.7.2\n",
      "Rtree                         0.9.7\n",
      "ruamel.yaml                   0.17.21\n",
      "ruamel.yaml.clib              0.2.6\n",
      "ruamel-yaml-conda             0.15.100\n",
      "s3transfer                    0.5.0\n",
      "scikit-image                  0.19.2\n",
      "scikit-learn                  1.0.2\n",
      "scikit-learn-intelex          2021.20220215.102710\n",
      "scipy                         1.7.3\n",
      "Scrapy                        2.6.1\n",
      "seaborn                       0.11.2\n",
      "Send2Trash                    1.8.0\n",
      "service-identity              18.1.0\n",
      "setuptools                    61.2.0\n",
      "sip                           4.19.13\n",
      "six                           1.16.0\n",
      "smart-open                    5.1.0\n",
      "sniffio                       1.2.0\n",
      "snowballstemmer               2.2.0\n",
      "sortedcollections             2.1.0\n",
      "sortedcontainers              2.4.0\n",
      "soupsieve                     2.3.1\n",
      "Sphinx                        4.4.0\n",
      "sphinxcontrib-applehelp       1.0.2\n",
      "sphinxcontrib-devhelp         1.0.2\n",
      "sphinxcontrib-htmlhelp        2.0.0\n",
      "sphinxcontrib-jsmath          1.0.1\n",
      "sphinxcontrib-qthelp          1.0.3\n",
      "sphinxcontrib-serializinghtml 1.1.5\n"
     ]
    },
    {
     "name": "stdout",
     "output_type": "stream",
     "text": [
      "spyder                        5.1.5\n",
      "spyder-kernels                2.1.3\n",
      "SQLAlchemy                    1.4.32\n",
      "stack-data                    0.2.0\n",
      "statsmodels                   0.13.2\n",
      "sympy                         1.10.1\n",
      "tables                        3.6.1\n",
      "tabulate                      0.8.9\n",
      "TBB                           0.2\n",
      "tblib                         1.7.0\n",
      "tenacity                      8.0.1\n",
      "terminado                     0.13.1\n",
      "testpath                      0.5.0\n",
      "text-unidecode                1.3\n",
      "textdistance                  4.2.1\n",
      "threadpoolctl                 2.2.0\n",
      "three-merge                   0.1.1\n",
      "tifffile                      2021.7.2\n",
      "tinycss                       0.4\n",
      "tldextract                    3.2.0\n",
      "toml                          0.10.2\n",
      "tomli                         1.2.2\n",
      "toolz                         0.11.2\n",
      "tornado                       6.1\n",
      "tqdm                          4.64.0\n",
      "traitlets                     5.1.1\n",
      "Twisted                       22.2.0\n",
      "twisted-iocpsupport           1.0.2\n",
      "typed-ast                     1.4.3\n",
      "typing_extensions             4.1.1\n",
      "ujson                         5.1.0\n",
      "Unidecode                     1.2.0\n",
      "urllib3                       1.26.9\n",
      "w3lib                         1.21.0\n",
      "watchdog                      2.1.6\n",
      "wcwidth                       0.2.5\n",
      "webencodings                  0.5.1\n",
      "websocket-client              0.58.0\n",
      "Werkzeug                      2.0.3\n",
      "wheel                         0.37.1\n",
      "widgetsnbextension            3.5.2\n",
      "win-inet-pton                 1.1.0\n",
      "win-unicode-console           0.5\n",
      "wincertstore                  0.2\n",
      "wrapt                         1.12.1\n",
      "xarray                        0.20.1\n",
      "xlrd                          2.0.1\n",
      "XlsxWriter                    3.0.3\n",
      "xlwings                       0.24.9\n",
      "yapf                          0.31.0\n",
      "yarl                          1.6.3\n",
      "zict                          2.0.0\n",
      "zipp                          3.7.0\n",
      "zope.interface                5.4.0\n"
     ]
    }
   ],
   "source": [
    "# list of python lbraries(package)\n",
    "!pip list"
   ]
  },
  {
   "cell_type": "code",
   "execution_count": 6,
   "id": "b94a7e8d",
   "metadata": {},
   "outputs": [],
   "source": [
    "# create a DATA\n",
    "df = pd.DataFrame(np.random.randn(100,4),columns='A B C D'.split())"
   ]
  },
  {
   "cell_type": "code",
   "execution_count": 7,
   "id": "882ee89d",
   "metadata": {},
   "outputs": [
    {
     "data": {
      "text/html": [
       "<div>\n",
       "<style scoped>\n",
       "    .dataframe tbody tr th:only-of-type {\n",
       "        vertical-align: middle;\n",
       "    }\n",
       "\n",
       "    .dataframe tbody tr th {\n",
       "        vertical-align: top;\n",
       "    }\n",
       "\n",
       "    .dataframe thead th {\n",
       "        text-align: right;\n",
       "    }\n",
       "</style>\n",
       "<table border=\"1\" class=\"dataframe\">\n",
       "  <thead>\n",
       "    <tr style=\"text-align: right;\">\n",
       "      <th></th>\n",
       "      <th>A</th>\n",
       "      <th>B</th>\n",
       "      <th>C</th>\n",
       "      <th>D</th>\n",
       "    </tr>\n",
       "  </thead>\n",
       "  <tbody>\n",
       "    <tr>\n",
       "      <th>0</th>\n",
       "      <td>-0.715690</td>\n",
       "      <td>-0.651380</td>\n",
       "      <td>0.813737</td>\n",
       "      <td>-0.412197</td>\n",
       "    </tr>\n",
       "    <tr>\n",
       "      <th>1</th>\n",
       "      <td>-2.464434</td>\n",
       "      <td>0.524402</td>\n",
       "      <td>0.384060</td>\n",
       "      <td>-0.914719</td>\n",
       "    </tr>\n",
       "    <tr>\n",
       "      <th>2</th>\n",
       "      <td>-0.502048</td>\n",
       "      <td>-1.174467</td>\n",
       "      <td>0.858334</td>\n",
       "      <td>-1.219436</td>\n",
       "    </tr>\n",
       "    <tr>\n",
       "      <th>3</th>\n",
       "      <td>0.188316</td>\n",
       "      <td>0.433682</td>\n",
       "      <td>0.795762</td>\n",
       "      <td>1.514399</td>\n",
       "    </tr>\n",
       "    <tr>\n",
       "      <th>4</th>\n",
       "      <td>-0.939523</td>\n",
       "      <td>0.899497</td>\n",
       "      <td>1.425541</td>\n",
       "      <td>-2.192330</td>\n",
       "    </tr>\n",
       "  </tbody>\n",
       "</table>\n",
       "</div>"
      ],
      "text/plain": [
       "          A         B         C         D\n",
       "0 -0.715690 -0.651380  0.813737 -0.412197\n",
       "1 -2.464434  0.524402  0.384060 -0.914719\n",
       "2 -0.502048 -1.174467  0.858334 -1.219436\n",
       "3  0.188316  0.433682  0.795762  1.514399\n",
       "4 -0.939523  0.899497  1.425541 -2.192330"
      ]
     },
     "execution_count": 7,
     "metadata": {},
     "output_type": "execute_result"
    }
   ],
   "source": [
    "df.head()"
   ]
  },
  {
   "cell_type": "code",
   "execution_count": 8,
   "id": "9c3025c4",
   "metadata": {},
   "outputs": [],
   "source": [
    "# create another Dataframe df2\n",
    "df2 = pd.DataFrame({'Category':['A','B','C'],'Values':[32,43,50]})"
   ]
  },
  {
   "cell_type": "code",
   "execution_count": 9,
   "id": "5feadfe7",
   "metadata": {},
   "outputs": [
    {
     "data": {
      "text/html": [
       "<div>\n",
       "<style scoped>\n",
       "    .dataframe tbody tr th:only-of-type {\n",
       "        vertical-align: middle;\n",
       "    }\n",
       "\n",
       "    .dataframe tbody tr th {\n",
       "        vertical-align: top;\n",
       "    }\n",
       "\n",
       "    .dataframe thead th {\n",
       "        text-align: right;\n",
       "    }\n",
       "</style>\n",
       "<table border=\"1\" class=\"dataframe\">\n",
       "  <thead>\n",
       "    <tr style=\"text-align: right;\">\n",
       "      <th></th>\n",
       "      <th>Category</th>\n",
       "      <th>Values</th>\n",
       "    </tr>\n",
       "  </thead>\n",
       "  <tbody>\n",
       "    <tr>\n",
       "      <th>0</th>\n",
       "      <td>A</td>\n",
       "      <td>32</td>\n",
       "    </tr>\n",
       "    <tr>\n",
       "      <th>1</th>\n",
       "      <td>B</td>\n",
       "      <td>43</td>\n",
       "    </tr>\n",
       "    <tr>\n",
       "      <th>2</th>\n",
       "      <td>C</td>\n",
       "      <td>50</td>\n",
       "    </tr>\n",
       "  </tbody>\n",
       "</table>\n",
       "</div>"
      ],
      "text/plain": [
       "  Category  Values\n",
       "0        A      32\n",
       "1        B      43\n",
       "2        C      50"
      ]
     },
     "execution_count": 9,
     "metadata": {},
     "output_type": "execute_result"
    }
   ],
   "source": [
    "df2"
   ]
  },
  {
   "cell_type": "code",
   "execution_count": 10,
   "id": "37663b54",
   "metadata": {},
   "outputs": [
    {
     "data": {
      "text/plain": [
       "<AxesSubplot:>"
      ]
     },
     "execution_count": 10,
     "metadata": {},
     "output_type": "execute_result"
    },
    {
     "data": {
      "image/png": "[encoded data removed]",
      "text/plain": [
       "<Figure size 432x288 with 1 Axes>"
      ]
     },
     "metadata": {
      "needs_background": "light"
     },
     "output_type": "display_data"
    }
   ],
   "source": [
    "#matplotlib pandas-line plot for data visualization:same as df.plot.line()\n",
    "df.plot()             "
   ]
  },
  {
   "cell_type": "code",
   "execution_count": 11,
   "id": "588bceed",
   "metadata": {},
   "outputs": [
    {
     "data": {
      "text/html": [
       "<div>\n",
       "<style scoped>\n",
       "    .dataframe tbody tr th:only-of-type {\n",
       "        vertical-align: middle;\n",
       "    }\n",
       "\n",
       "    .dataframe tbody tr th {\n",
       "        vertical-align: top;\n",
       "    }\n",
       "\n",
       "    .dataframe thead th {\n",
       "        text-align: right;\n",
       "    }\n",
       "</style>\n",
       "<table border=\"1\" class=\"dataframe\">\n",
       "  <thead>\n",
       "    <tr style=\"text-align: right;\">\n",
       "      <th></th>\n",
       "      <th>A</th>\n",
       "      <th>B</th>\n",
       "      <th>C</th>\n",
       "      <th>D</th>\n",
       "    </tr>\n",
       "  </thead>\n",
       "  <tbody>\n",
       "    <tr>\n",
       "      <th>0</th>\n",
       "      <td>-0.715690</td>\n",
       "      <td>-0.651380</td>\n",
       "      <td>0.813737</td>\n",
       "      <td>-0.412197</td>\n",
       "    </tr>\n",
       "    <tr>\n",
       "      <th>1</th>\n",
       "      <td>-2.464434</td>\n",
       "      <td>0.524402</td>\n",
       "      <td>0.384060</td>\n",
       "      <td>-0.914719</td>\n",
       "    </tr>\n",
       "    <tr>\n",
       "      <th>2</th>\n",
       "      <td>-0.502048</td>\n",
       "      <td>-1.174467</td>\n",
       "      <td>0.858334</td>\n",
       "      <td>-1.219436</td>\n",
       "    </tr>\n",
       "    <tr>\n",
       "      <th>3</th>\n",
       "      <td>0.188316</td>\n",
       "      <td>0.433682</td>\n",
       "      <td>0.795762</td>\n",
       "      <td>1.514399</td>\n",
       "    </tr>\n",
       "    <tr>\n",
       "      <th>4</th>\n",
       "      <td>-0.939523</td>\n",
       "      <td>0.899497</td>\n",
       "      <td>1.425541</td>\n",
       "      <td>-2.192330</td>\n",
       "    </tr>\n",
       "    <tr>\n",
       "      <th>...</th>\n",
       "      <td>...</td>\n",
       "      <td>...</td>\n",
       "      <td>...</td>\n",
       "      <td>...</td>\n",
       "    </tr>\n",
       "    <tr>\n",
       "      <th>95</th>\n",
       "      <td>0.892237</td>\n",
       "      <td>-0.863276</td>\n",
       "      <td>0.316482</td>\n",
       "      <td>0.264614</td>\n",
       "    </tr>\n",
       "    <tr>\n",
       "      <th>96</th>\n",
       "      <td>-0.216782</td>\n",
       "      <td>1.184597</td>\n",
       "      <td>0.299576</td>\n",
       "      <td>-0.163243</td>\n",
       "    </tr>\n",
       "    <tr>\n",
       "      <th>97</th>\n",
       "      <td>-0.688812</td>\n",
       "      <td>-1.076289</td>\n",
       "      <td>2.306594</td>\n",
       "      <td>-0.489484</td>\n",
       "    </tr>\n",
       "    <tr>\n",
       "      <th>98</th>\n",
       "      <td>0.416984</td>\n",
       "      <td>-0.267382</td>\n",
       "      <td>0.896720</td>\n",
       "      <td>-0.394167</td>\n",
       "    </tr>\n",
       "    <tr>\n",
       "      <th>99</th>\n",
       "      <td>0.248431</td>\n",
       "      <td>0.668012</td>\n",
       "      <td>0.211966</td>\n",
       "      <td>0.405691</td>\n",
       "    </tr>\n",
       "  </tbody>\n",
       "</table>\n",
       "<p>100 rows × 4 columns</p>\n",
       "</div>"
      ],
      "text/plain": [
       "           A         B         C         D\n",
       "0  -0.715690 -0.651380  0.813737 -0.412197\n",
       "1  -2.464434  0.524402  0.384060 -0.914719\n",
       "2  -0.502048 -1.174467  0.858334 -1.219436\n",
       "3   0.188316  0.433682  0.795762  1.514399\n",
       "4  -0.939523  0.899497  1.425541 -2.192330\n",
       "..       ...       ...       ...       ...\n",
       "95  0.892237 -0.863276  0.316482  0.264614\n",
       "96 -0.216782  1.184597  0.299576 -0.163243\n",
       "97 -0.688812 -1.076289  2.306594 -0.489484\n",
       "98  0.416984 -0.267382  0.896720 -0.394167\n",
       "99  0.248431  0.668012  0.211966  0.405691\n",
       "\n",
       "[100 rows x 4 columns]"
      ]
     },
     "execution_count": 11,
     "metadata": {},
     "output_type": "execute_result"
    }
   ],
   "source": [
    "df"
   ]
  },
  {
   "cell_type": "code",
   "execution_count": 12,
   "id": "1d6644f5",
   "metadata": {},
   "outputs": [
    {
     "data": {
      "application/vnd.plotly.v1+json": {
       "config": {
        "linkText": "Export to plot.ly",
        "plotlyServerURL": "https://plot.ly",
        "showLink": true
       },
       "data": [
        {
         "line": {
          "color": "rgba(255, 153, 51, 1.0)",
          "dash": "solid",
          "shape": "linear",
          "width": 1.3
         },
         "mode": "lines",
         "name": "A",
         "text": "",
         "type": "scatter",
         "x": [
          0,
          1,
          2,
          3,
          4,
          5,
          6,
          7,
          8,
          9,
          10,
          11,
          12,
          13,
          14,
          15,
          16,
          17,
          18,
          19,
          20,
          21,
          22,
          23,
          24,
          25,
          26,
          27,
          28,
          29,
          30,
          31,
          32,
          33,
          34,
          35,
          36,
          37,
          38,
          39,
          40,
          41,
          42,
          43,
          44,
          45,
          46,
          47,
          48,
          49,
          50,
          51,
          52,
          53,
          54,
          55,
          56,
          57,
          58,
          59,
          60,
          61,
          62,
          63,
          64,
          65,
          66,
          67,
          68,
          69,
          70,
          71,
          72,
          73,
          74,
          75,
          76,
          77,
          78,
          79,
          80,
          81,
          82,
          83,
          84,
          85,
          86,
          87,
          88,
          89,
          90,
          91,
          92,
          93,
          94,
          95,
          96,
          97,
          98,
          99
         ],
         "y": [
          -0.7156901301506218,
          -2.4644340092683623,
          -0.5020478490356647,
          0.18831575059229694,
          -0.9395232600804589,
          0.6370608619021374,
          0.3181842436496653,
          -1.925815864693647,
          -1.601490197748081,
          0.7504852699910404,
          0.34651704071887407,
          -0.3782613877092965,
          0.50360062282216,
          1.1783072011157854,
          -0.39512918539645014,
          -0.27615642716525757,
          -0.6955150924719622,
          0.22125184868079706,
          0.3468389819905759,
          -1.417697236866669,
          1.115510266869824,
          -0.19740429399545154,
          -2.464841424106378,
          -0.8367326516922796,
          -1.784665752306031,
          -0.22786206228857037,
          -0.05747200108715722,
          -0.2582444417187888,
          -0.5840818609797201,
          -0.6447426754570369,
          -0.7890790059168368,
          0.23016315567803003,
          -1.267679972953894,
          0.11816464469909889,
          0.53265482704174,
          -1.2698235619164742,
          -1.8768988863675784,
          -0.9104585436306738,
          0.5197942871049583,
          -1.1344331642903294,
          0.992329649408986,
          -0.23854074055432464,
          -0.1930210849793099,
          0.6095404688520194,
          -1.232825526706406,
          -1.5328054495473706,
          0.3036487187896314,
          -0.2579415954354775,
          -0.28408823698571445,
          0.31097652201661435,
          0.5365134318194574,
          -0.2523997745954963,
          -0.22895996185521222,
          1.7212536262694407,
          0.220474283657124,
          -2.2021749191469557,
          -0.8986508298431952,
          -0.3221635884228591,
          -0.40414847758021716,
          -0.5652901674053412,
          1.0766577310137808,
          0.5349076975629776,
          0.23762680428485808,
          -1.7126244683313148,
          -0.5928398888471055,
          -1.4949122694654595,
          -1.1661099302510365,
          0.46297332937027735,
          -1.3945134376948467,
          -0.3869679733820751,
          -0.9624273069822818,
          -1.2765077481404117,
          -0.8586057990186773,
          -1.3617817621094965,
          0.5289027802019703,
          0.6103126439405477,
          0.9832256017665594,
          0.5128656072910021,
          -0.4379259719293449,
          -0.6556385330952424,
          0.14179110527076172,
          -0.01073393938291526,
          0.5485346127017294,
          1.2238687868347427,
          1.3552631701641884,
          -0.679197152670297,
          1.4246054066122478,
          0.37843614621800514,
          -0.33839561042916416,
          0.595800624621955,
          0.2134554912461374,
          1.115174003760538,
          0.8652782710066977,
          0.3619724278187933,
          -0.9215434485902071,
          0.8922369823809136,
          -0.21678248120535829,
          -0.688812085998554,
          0.4169838531764566,
          0.2484314725645371
         ]
        },
        {
         "line": {
          "color": "rgba(55, 128, 191, 1.0)",
          "dash": "solid",
          "shape": "linear",
          "width": 1.3
         },
         "mode": "lines",
         "name": "B",
         "text": "",
         "type": "scatter",
         "x": [
          0,
          1,
          2,
          3,
          4,
          5,
          6,
          7,
          8,
          9,
          10,
          11,
          12,
          13,
          14,
          15,
          16,
          17,
          18,
          19,
          20,
          21,
          22,
          23,
          24,
          25,
          26,
          27,
          28,
          29,
          30,
          31,
          32,
          33,
          34,
          35,
          36,
          37,
          38,
          39,
          40,
          41,
          42,
          43,
          44,
          45,
          46,
          47,
          48,
          49,
          50,
          51,
          52,
          53,
          54,
          55,
          56,
          57,
          58,
          59,
          60,
          61,
          62,
          63,
          64,
          65,
          66,
          67,
          68,
          69,
          70,
          71,
          72,
          73,
          74,
          75,
          76,
          77,
          78,
          79,
          80,
          81,
          82,
          83,
          84,
          85,
          86,
          87,
          88,
          89,
          90,
          91,
          92,
          93,
          94,
          95,
          96,
          97,
          98,
          99
         ],
         "y": [
          -0.6513797764818611,
          0.5244019427590942,
          -1.1744674888572253,
          0.43368191568401226,
          0.899497260401665,
          -1.1445625650980764,
          0.07099522324692333,
          0.04362068821287567,
          -0.8160348335399022,
          0.1626016136310631,
          -0.7298670162319529,
          0.6713855417304806,
          -0.4897210754965677,
          -0.48252481799299574,
          -1.3139286582223493,
          0.9707580321863382,
          -1.1464067098017479,
          -1.6598898005122826,
          0.23742605508299555,
          2.6643609903481145,
          0.22610339598619442,
          0.6649669769165972,
          0.9281709465845623,
          0.9791321813439632,
          0.8762934680617513,
          -0.28943460277957755,
          -0.028190662231939393,
          0.2719755628483441,
          0.8570323675771371,
          -0.9874367202861509,
          1.1186820362029204,
          0.12441702071829709,
          -0.7566677889736816,
          0.5261667781482235,
          0.8229391933147238,
          1.0237625257527891,
          -1.1075967095024015,
          0.6989216003060206,
          0.4484205570752432,
          -0.26803786635302745,
          -0.6634160128961857,
          2.335734557413926,
          -1.434184074279899,
          0.2473602698192445,
          0.22238480469788974,
          -0.2677583598956593,
          0.2725413480059053,
          -0.8395778183942763,
          -0.661834594922329,
          -0.27007302620888896,
          -0.2474487320510582,
          -1.7686789507801906,
          -0.6927976504687269,
          -0.5679102310983882,
          -0.1715477136966996,
          -1.295629485531873,
          0.749114656046574,
          -0.4396779137233732,
          0.881864840173589,
          0.6699484712192457,
          -0.9865989035422554,
          0.8041516446982689,
          0.5708137463595715,
          -0.3544348711895968,
          -0.4411283148910683,
          -0.012678521787541109,
          -0.15374985521185416,
          1.0354303578331185,
          1.3043066720596153,
          -0.8746890120010864,
          0.08458332717612128,
          -0.8003519447971019,
          -0.6851446620945236,
          -1.1559883622724791,
          0.27707248332228673,
          1.4398769778179106,
          -1.574198276171295,
          -0.10824476202121064,
          -0.878756138704042,
          0.9528462091562935,
          0.36882014943302904,
          0.701962408764391,
          0.12515471481787668,
          0.9043374679657142,
          0.2254823419787821,
          0.4958042695863272,
          -0.5975032114557614,
          0.7257348296841276,
          0.4855953408620199,
          -3.3825219320437827,
          0.5322162490593761,
          0.05039546272046297,
          0.10839147887182421,
          -2.015338751110118,
          0.643382932891098,
          -0.8632757680204926,
          1.1845968063934953,
          -1.0762885247087823,
          -0.2673821262177926,
          0.6680121061201801
         ]
        },
        {
         "line": {
          "color": "rgba(50, 171, 96, 1.0)",
          "dash": "solid",
          "shape": "linear",
          "width": 1.3
         },
         "mode": "lines",
         "name": "C",
         "text": "",
         "type": "scatter",
         "x": [
          0,
          1,
          2,
          3,
          4,
          5,
          6,
          7,
          8,
          9,
          10,
          11,
          12,
          13,
          14,
          15,
          16,
          17,
          18,
          19,
          20,
          21,
          22,
          23,
          24,
          25,
          26,
          27,
          28,
          29,
          30,
          31,
          32,
          33,
          34,
          35,
          36,
          37,
          38,
          39,
          40,
          41,
          42,
          43,
          44,
          45,
          46,
          47,
          48,
          49,
          50,
          51,
          52,
          53,
          54,
          55,
          56,
          57,
          58,
          59,
          60,
          61,
          62,
          63,
          64,
          65,
          66,
          67,
          68,
          69,
          70,
          71,
          72,
          73,
          74,
          75,
          76,
          77,
          78,
          79,
          80,
          81,
          82,
          83,
          84,
          85,
          86,
          87,
          88,
          89,
          90,
          91,
          92,
          93,
          94,
          95,
          96,
          97,
          98,
          99
         ],
         "y": [
          0.8137369102886218,
          0.38406014021774704,
          0.8583336537775053,
          0.7957618956642141,
          1.4255409888334887,
          0.8494018529837316,
          0.8802582494550352,
          -0.4548968791233935,
          1.533558939208995,
          1.2524824477853664,
          -0.033876479326621675,
          -0.4110101837052343,
          -0.733897082639919,
          -0.7106157418903448,
          0.13722035073207373,
          0.7050198361557896,
          -0.5932002075891633,
          -1.3382789055267625,
          -2.5278828482383777,
          0.3982133911024089,
          0.525353202328653,
          -1.4962518795013926,
          -0.004760785788584715,
          0.7261859574377102,
          -1.303544165066935,
          -0.22178654551626484,
          1.494967772766792,
          0.628943023944182,
          -0.38821823494941937,
          -0.5668127027710045,
          0.7171598405660004,
          -0.7835133022052192,
          0.5000437115319482,
          0.7691384803578691,
          0.5523229894508553,
          -0.5541894348408164,
          -0.29938489655996475,
          -0.9131431790549518,
          -0.9794679240966921,
          1.163902122315106,
          -0.7752221633763264,
          -1.4495537781745207,
          0.4973865186073324,
          1.5030952854902895,
          -2.4964076259780277,
          0.1704835173224211,
          -0.02260160498626511,
          -0.9649170187581313,
          0.2019753230544578,
          -0.04155962146865371,
          1.615286363193417,
          0.3573636666371769,
          0.476460448964524,
          -1.5471884370551918,
          -1.3091741423554952,
          -0.8071981886965368,
          -1.318025945849581,
          -0.6618589471814981,
          -1.6212376252324474,
          2.1050156023915885,
          1.0382758927906282,
          1.0130772399982644,
          -0.5428322837985744,
          -1.5666433561393516,
          0.27206912749567025,
          -1.7500682837131234,
          -0.2470384533993433,
          0.856745769810696,
          0.050397071646110105,
          0.8591172982979858,
          -0.6237323300872393,
          -0.2802519687360328,
          -0.4115985448779974,
          -1.1095613669007458,
          -0.450350331399409,
          0.7805669384646385,
          0.3276051738502298,
          0.01799327164835346,
          0.47236995129634307,
          0.35546341981105,
          -0.1421734726670186,
          0.047300376883126743,
          1.3342425261563757,
          -0.20148061733839542,
          0.9372203022599283,
          -2.4673847964720728,
          0.20859636566666065,
          -0.6617846346669848,
          0.14039920109570533,
          -0.011579410918395594,
          -0.9564288279200693,
          0.8443967791582719,
          0.23651978111457783,
          0.06994116836111282,
          0.05499648632899061,
          0.3164823679807695,
          0.2995759568898395,
          2.3065943637298405,
          0.8967195702087817,
          0.21196575600905265
         ]
        },
        {
         "line": {
          "color": "rgba(128, 0, 128, 1.0)",
          "dash": "solid",
          "shape": "linear",
          "width": 1.3
         },
         "mode": "lines",
         "name": "D",
         "text": "",
         "type": "scatter",
         "x": [
          0,
          1,
          2,
          3,
          4,
          5,
          6,
          7,
          8,
          9,
          10,
          11,
          12,
          13,
          14,
          15,
          16,
          17,
          18,
          19,
          20,
          21,
          22,
          23,
          24,
          25,
          26,
          27,
          28,
          29,
          30,
          31,
          32,
          33,
          34,
          35,
          36,
          37,
          38,
          39,
          40,
          41,
          42,
          43,
          44,
          45,
          46,
          47,
          48,
          49,
          50,
          51,
          52,
          53,
          54,
          55,
          56,
          57,
          58,
          59,
          60,
          61,
          62,
          63,
          64,
          65,
          66,
          67,
          68,
          69,
          70,
          71,
          72,
          73,
          74,
          75,
          76,
          77,
          78,
          79,
          80,
          81,
          82,
          83,
          84,
          85,
          86,
          87,
          88,
          89,
          90,
          91,
          92,
          93,
          94,
          95,
          96,
          97,
          98,
          99
         ],
         "y": [
          -0.41219737818529484,
          -0.9147191048039742,
          -1.219436193264347,
          1.5143994015691824,
          -2.1923301711810854,
          -0.903162267803806,
          1.0535462050704751,
          1.3960764437556177,
          0.3868619326568071,
          2.4525121979965308,
          0.0162161852241048,
          -0.4865399398552347,
          -0.6787831914000225,
          0.5952961179509224,
          0.9830827168768127,
          -0.5346074416237119,
          -1.8912269743098613,
          0.26106748829081644,
          1.476982997259971,
          -0.5837317944279515,
          -0.7322797758184094,
          -0.39419677768356387,
          -1.2307469264419622,
          0.3691142487885274,
          0.10966935398854762,
          -1.8053571689536656,
          -1.3362299798042523,
          1.0089180857224092,
          -0.7615747766983384,
          0.36279850099698424,
          -0.7864714134428039,
          -1.181668042014758,
          1.728369859890661,
          -0.04638915353653599,
          -0.3831109541831568,
          -1.692721071636255,
          -1.5919271991803412,
          0.8131457402676022,
          -0.2623198079568097,
          -1.9297665234901917,
          0.5076022583968207,
          -0.7140700625790625,
          0.3877288533850373,
          -0.4490557874850287,
          -0.7419266784049801,
          0.2769750352385636,
          -0.8886943267677583,
          0.19192681012128301,
          0.09254975120678652,
          0.25732296596707616,
          0.9461575249601594,
          -0.6547615010632385,
          1.0213950353696173,
          -0.29650290380060607,
          -1.320561240484073,
          0.30634684088010666,
          1.6403512148036148,
          1.4411529386636375,
          -0.502521705413938,
          -1.5550507017255497,
          -0.020193581404571784,
          1.1195063630136661,
          0.48288866582198753,
          0.6563853813135773,
          -0.03148201203133492,
          -0.6004264577182319,
          -0.409234215080488,
          -0.8834550220085939,
          0.18380424901299702,
          0.2753619971526059,
          -0.6578001097887088,
          0.8916561480623405,
          -0.08633187088099142,
          2.4539354030313616,
          0.7520702214235129,
          0.14825848428316013,
          0.5702749266765967,
          -1.161687966074187,
          0.5356915966245412,
          0.3307916225249503,
          -0.07440235159590498,
          0.10355787679932259,
          -0.5182391049382354,
          -1.6406755589160074,
          0.3480314724055074,
          0.15069414263181075,
          -1.0074768878248537,
          -0.007758560194556815,
          -0.3420105288611878,
          0.660954410451113,
          2.9107940920537745,
          -0.2626456029714481,
          1.1950250389328134,
          0.11697580915798587,
          -1.3186213144915546,
          0.2646137965520151,
          -0.16324258610278844,
          -0.48948430249355385,
          -0.3941668214094899,
          0.40569059888863773
         ]
        }
       ],
       "layout": {
        "legend": {
         "bgcolor": "#F5F6F9",
         "font": {
          "color": "#4D5663"
         }
        },
        "paper_bgcolor": "#F5F6F9",
        "plot_bgcolor": "#F5F6F9",
        "template": {
         "data": {
          "bar": [
           {
            "error_x": {
             "color": "#2a3f5f"
            },
            "error_y": {
             "color": "#2a3f5f"
            },
            "marker": {
             "line": {
              "color": "#E5ECF6",
              "width": 0.5
             },
             "pattern": {
              "fillmode": "overlay",
              "size": 10,
              "solidity": 0.2
             }
            },
            "type": "bar"
           }
          ],
          "barpolar": [
           {
            "marker": {
             "line": {
              "color": "#E5ECF6",
              "width": 0.5
             },
             "pattern": {
              "fillmode": "overlay",
              "size": 10,
              "solidity": 0.2
             }
            },
            "type": "barpolar"
           }
          ],
          "carpet": [
           {
            "aaxis": {
             "endlinecolor": "#2a3f5f",
             "gridcolor": "white",
             "linecolor": "white",
             "minorgridcolor": "white",
             "startlinecolor": "#2a3f5f"
            },
            "baxis": {
             "endlinecolor": "#2a3f5f",
             "gridcolor": "white",
             "linecolor": "white",
             "minorgridcolor": "white",
             "startlinecolor": "#2a3f5f"
            },
            "type": "carpet"
           }
          ],
          "choropleth": [
           {
            "colorbar": {
             "outlinewidth": 0,
             "ticks": ""
            },
            "type": "choropleth"
           }
          ],
          "contour": [
           {
            "colorbar": {
             "outlinewidth": 0,
             "ticks": ""
            },
            "colorscale": [
             [
              0,
              "#0d0887"
             ],
             [
              0.1111111111111111,
              "#46039f"
             ],
             [
              0.2222222222222222,
              "#7201a8"
             ],
             [
              0.3333333333333333,
              "#9c179e"
             ],
             [
              0.4444444444444444,
              "#bd3786"
             ],
             [
              0.5555555555555556,
              "#d8576b"
             ],
             [
              0.6666666666666666,
              "#ed7953"
             ],
             [
              0.7777777777777778,
              "#fb9f3a"
             ],
             [
              0.8888888888888888,
              "#fdca26"
             ],
             [
              1,
              "#f0f921"
             ]
            ],
            "type": "contour"
           }
          ],
          "contourcarpet": [
           {
            "colorbar": {
             "outlinewidth": 0,
             "ticks": ""
            },
            "type": "contourcarpet"
           }
          ],
          "heatmap": [
           {
            "colorbar": {
             "outlinewidth": 0,
             "ticks": ""
            },
            "colorscale": [
             [
              0,
              "#0d0887"
             ],
             [
              0.1111111111111111,
              "#46039f"
             ],
             [
              0.2222222222222222,
              "#7201a8"
             ],
             [
              0.3333333333333333,
              "#9c179e"
             ],
             [
              0.4444444444444444,
              "#bd3786"
             ],
             [
              0.5555555555555556,
              "#d8576b"
             ],
             [
              0.6666666666666666,
              "#ed7953"
             ],
             [
              0.7777777777777778,
              "#fb9f3a"
             ],
             [
              0.8888888888888888,
              "#fdca26"
             ],
             [
              1,
              "#f0f921"
             ]
            ],
            "type": "heatmap"
           }
          ],
          "heatmapgl": [
           {
            "colorbar": {
             "outlinewidth": 0,
             "ticks": ""
            },
            "colorscale": [
             [
              0,
              "#0d0887"
             ],
             [
              0.1111111111111111,
              "#46039f"
             ],
             [
              0.2222222222222222,
              "#7201a8"
             ],
             [
              0.3333333333333333,
              "#9c179e"
             ],
             [
              0.4444444444444444,
              "#bd3786"
             ],
             [
              0.5555555555555556,
              "#d8576b"
             ],
             [
              0.6666666666666666,
              "#ed7953"
             ],
             [
              0.7777777777777778,
              "#fb9f3a"
             ],
             [
              0.8888888888888888,
              "#fdca26"
             ],
             [
              1,
              "#f0f921"
             ]
            ],
            "type": "heatmapgl"
           }
          ],
          "histogram": [
           {
            "marker": {
             "pattern": {
              "fillmode": "overlay",
              "size": 10,
              "solidity": 0.2
             }
            },
            "type": "histogram"
           }
          ],
          "histogram2d": [
           {
            "colorbar": {
             "outlinewidth": 0,
             "ticks": ""
            },
            "colorscale": [
             [
              0,
              "#0d0887"
             ],
             [
              0.1111111111111111,
              "#46039f"
             ],
             [
              0.2222222222222222,
              "#7201a8"
             ],
             [
              0.3333333333333333,
              "#9c179e"
             ],
             [
              0.4444444444444444,
              "#bd3786"
             ],
             [
              0.5555555555555556,
              "#d8576b"
             ],
             [
              0.6666666666666666,
              "#ed7953"
             ],
             [
              0.7777777777777778,
              "#fb9f3a"
             ],
             [
              0.8888888888888888,
              "#fdca26"
             ],
             [
              1,
              "#f0f921"
             ]
            ],
            "type": "histogram2d"
           }
          ],
          "histogram2dcontour": [
           {
            "colorbar": {
             "outlinewidth": 0,
             "ticks": ""
            },
            "colorscale": [
             [
              0,
              "#0d0887"
             ],
             [
              0.1111111111111111,
              "#46039f"
             ],
             [
              0.2222222222222222,
              "#7201a8"
             ],
             [
              0.3333333333333333,
              "#9c179e"
             ],
             [
              0.4444444444444444,
              "#bd3786"
             ],
             [
              0.5555555555555556,
              "#d8576b"
             ],
             [
              0.6666666666666666,
              "#ed7953"
             ],
             [
              0.7777777777777778,
              "#fb9f3a"
             ],
             [
              0.8888888888888888,
              "#fdca26"
             ],
             [
              1,
              "#f0f921"
             ]
            ],
            "type": "histogram2dcontour"
           }
          ],
          "mesh3d": [
           {
            "colorbar": {
             "outlinewidth": 0,
             "ticks": ""
            },
            "type": "mesh3d"
           }
          ],
          "parcoords": [
           {
            "line": {
             "colorbar": {
              "outlinewidth": 0,
              "ticks": ""
             }
            },
            "type": "parcoords"
           }
          ],
          "pie": [
           {
            "automargin": true,
            "type": "pie"
           }
          ],
          "scatter": [
           {
            "marker": {
             "colorbar": {
              "outlinewidth": 0,
              "ticks": ""
             }
            },
            "type": "scatter"
           }
          ],
          "scatter3d": [
           {
            "line": {
             "colorbar": {
              "outlinewidth": 0,
              "ticks": ""
             }
            },
            "marker": {
             "colorbar": {
              "outlinewidth": 0,
              "ticks": ""
             }
            },
            "type": "scatter3d"
           }
          ],
          "scattercarpet": [
           {
            "marker": {
             "colorbar": {
              "outlinewidth": 0,
              "ticks": ""
             }
            },
            "type": "scattercarpet"
           }
          ],
          "scattergeo": [
           {
            "marker": {
             "colorbar": {
              "outlinewidth": 0,
              "ticks": ""
             }
            },
            "type": "scattergeo"
           }
          ],
          "scattergl": [
           {
            "marker": {
             "colorbar": {
              "outlinewidth": 0,
              "ticks": ""
             }
            },
            "type": "scattergl"
           }
          ],
          "scattermapbox": [
           {
            "marker": {
             "colorbar": {
              "outlinewidth": 0,
              "ticks": ""
             }
            },
            "type": "scattermapbox"
           }
          ],
          "scatterpolar": [
           {
            "marker": {
             "colorbar": {
              "outlinewidth": 0,
              "ticks": ""
             }
            },
            "type": "scatterpolar"
           }
          ],
          "scatterpolargl": [
           {
            "marker": {
             "colorbar": {
              "outlinewidth": 0,
              "ticks": ""
             }
            },
            "type": "scatterpolargl"
           }
          ],
          "scatterternary": [
           {
            "marker": {
             "colorbar": {
              "outlinewidth": 0,
              "ticks": ""
             }
            },
            "type": "scatterternary"
           }
          ],
          "surface": [
           {
            "colorbar": {
             "outlinewidth": 0,
             "ticks": ""
            },
            "colorscale": [
             [
              0,
              "#0d0887"
             ],
             [
              0.1111111111111111,
              "#46039f"
             ],
             [
              0.2222222222222222,
              "#7201a8"
             ],
             [
              0.3333333333333333,
              "#9c179e"
             ],
             [
              0.4444444444444444,
              "#bd3786"
             ],
             [
              0.5555555555555556,
              "#d8576b"
             ],
             [
              0.6666666666666666,
              "#ed7953"
             ],
             [
              0.7777777777777778,
              "#fb9f3a"
             ],
             [
              0.8888888888888888,
              "#fdca26"
             ],
             [
              1,
              "#f0f921"
             ]
            ],
            "type": "surface"
           }
          ],
          "table": [
           {
            "cells": {
             "fill": {
              "color": "#EBF0F8"
             },
             "line": {
              "color": "white"
             }
            },
            "header": {
             "fill": {
              "color": "#C8D4E3"
             },
             "line": {
              "color": "white"
             }
            },
            "type": "table"
           }
          ]
         },
         "layout": {
          "annotationdefaults": {
           "arrowcolor": "#2a3f5f",
           "arrowhead": 0,
           "arrowwidth": 1
          },
          "autotypenumbers": "strict",
          "coloraxis": {
           "colorbar": {
            "outlinewidth": 0,
            "ticks": ""
           }
          },
          "colorscale": {
           "diverging": [
            [
             0,
             "#8e0152"
            ],
            [
             0.1,
             "#c51b7d"
            ],
            [
             0.2,
             "#de77ae"
            ],
            [
             0.3,
             "#f1b6da"
            ],
            [
             0.4,
             "#fde0ef"
            ],
            [
             0.5,
             "#f7f7f7"
            ],
            [
             0.6,
             "#e6f5d0"
            ],
            [
             0.7,
             "#b8e186"
            ],
            [
             0.8,
             "#7fbc41"
            ],
            [
             0.9,
             "#4d9221"
            ],
            [
             1,
             "#276419"
            ]
           ],
           "sequential": [
            [
             0,
             "#0d0887"
            ],
            [
             0.1111111111111111,
             "#46039f"
            ],
            [
             0.2222222222222222,
             "#7201a8"
            ],
            [
             0.3333333333333333,
             "#9c179e"
            ],
            [
             0.4444444444444444,
             "#bd3786"
            ],
            [
             0.5555555555555556,
             "#d8576b"
            ],
            [
             0.6666666666666666,
             "#ed7953"
            ],
            [
             0.7777777777777778,
             "#fb9f3a"
            ],
            [
             0.8888888888888888,
             "#fdca26"
            ],
            [
             1,
             "#f0f921"
            ]
           ],
           "sequentialminus": [
            [
             0,
             "#0d0887"
            ],
            [
             0.1111111111111111,
             "#46039f"
            ],
            [
             0.2222222222222222,
             "#7201a8"
            ],
            [
             0.3333333333333333,
             "#9c179e"
            ],
            [
             0.4444444444444444,
             "#bd3786"
            ],
            [
             0.5555555555555556,
             "#d8576b"
            ],
            [
             0.6666666666666666,
             "#ed7953"
            ],
            [
             0.7777777777777778,
             "#fb9f3a"
            ],
            [
             0.8888888888888888,
             "#fdca26"
            ],
            [
             1,
             "#f0f921"
            ]
           ]
          },
          "colorway": [
           "#636efa",
           "#EF553B",
           "#00cc96",
           "#ab63fa",
           "#FFA15A",
           "#19d3f3",
           "#FF6692",
           "#B6E880",
           "#FF97FF",
           "#FECB52"
          ],
          "font": {
           "color": "#2a3f5f"
          },
          "geo": {
           "bgcolor": "white",
           "lakecolor": "white",
           "landcolor": "#E5ECF6",
           "showlakes": true,
           "showland": true,
           "subunitcolor": "white"
          },
          "hoverlabel": {
           "align": "left"
          },
          "hovermode": "closest",
          "mapbox": {
           "style": "light"
          },
          "paper_bgcolor": "white",
          "plot_bgcolor": "#E5ECF6",
          "polar": {
           "angularaxis": {
            "gridcolor": "white",
            "linecolor": "white",
            "ticks": ""
           },
           "bgcolor": "#E5ECF6",
           "radialaxis": {
            "gridcolor": "white",
            "linecolor": "white",
            "ticks": ""
           }
          },
          "scene": {
           "xaxis": {
            "backgroundcolor": "#E5ECF6",
            "gridcolor": "white",
            "gridwidth": 2,
            "linecolor": "white",
            "showbackground": true,
            "ticks": "",
            "zerolinecolor": "white"
           },
           "yaxis": {
            "backgroundcolor": "#E5ECF6",
            "gridcolor": "white",
            "gridwidth": 2,
            "linecolor": "white",
            "showbackground": true,
            "ticks": "",
            "zerolinecolor": "white"
           },
           "zaxis": {
            "backgroundcolor": "#E5ECF6",
            "gridcolor": "white",
            "gridwidth": 2,
            "linecolor": "white",
            "showbackground": true,
            "ticks": "",
            "zerolinecolor": "white"
           }
          },
          "shapedefaults": {
           "line": {
            "color": "#2a3f5f"
           }
          },
          "ternary": {
           "aaxis": {
            "gridcolor": "white",
            "linecolor": "white",
            "ticks": ""
           },
           "baxis": {
            "gridcolor": "white",
            "linecolor": "white",
            "ticks": ""
           },
           "bgcolor": "#E5ECF6",
           "caxis": {
            "gridcolor": "white",
            "linecolor": "white",
            "ticks": ""
           }
          },
          "title": {
           "x": 0.05
          },
          "xaxis": {
           "automargin": true,
           "gridcolor": "white",
           "linecolor": "white",
           "ticks": "",
           "title": {
            "standoff": 15
           },
           "zerolinecolor": "white",
           "zerolinewidth": 2
          },
          "yaxis": {
           "automargin": true,
           "gridcolor": "white",
           "linecolor": "white",
           "ticks": "",
           "title": {
            "standoff": 15
           },
           "zerolinecolor": "white",
           "zerolinewidth": 2
          }
         }
        },
        "title": {
         "font": {
          "color": "#4D5663"
         }
        },
        "xaxis": {
         "gridcolor": "#E1E5ED",
         "showgrid": true,
         "tickfont": {
          "color": "#4D5663"
         },
         "title": {
          "font": {
           "color": "#4D5663"
          },
          "text": ""
         },
         "zerolinecolor": "#E1E5ED"
        },
        "yaxis": {
         "gridcolor": "#E1E5ED",
         "showgrid": true,
         "tickfont": {
          "color": "#4D5663"
         },
         "title": {
          "font": {
           "color": "#4D5663"
          },
          "text": ""
         },
         "zerolinecolor": "#E1E5ED"
        }
       }
      },
      "text/html": [
       "<div>                            <div id=\"f29c148b-36fb-41b9-b664-9a23c2e7aa39\" class=\"plotly-graph-div\" style=\"height:525px; width:100%;\"></div>            <script type=\"text/javascript\">                require([\"plotly\"], function(Plotly) {                    window.PLOTLYENV=window.PLOTLYENV || {};\n",
       "                    window.PLOTLYENV.BASE_URL='https://plot.ly';                                    if (document.getElementById(\"f29c148b-36fb-41b9-b664-9a23c2e7aa39\")) {                    Plotly.newPlot(                        \"f29c148b-36fb-41b9-b664-9a23c2e7aa39\",                        [{\"line\":{\"color\":\"rgba(255, 153, 51, 1.0)\",\"dash\":\"solid\",\"shape\":\"linear\",\"width\":1.3},\"mode\":\"lines\",\"name\":\"A\",\"text\":\"\",\"x\":[0,1,2,3,4,5,6,7,8,9,10,11,12,13,14,15,16,17,18,19,20,21,22,23,24,25,26,27,28,29,30,31,32,33,34,35,36,37,38,39,40,41,42,43,44,45,46,47,48,49,50,51,52,53,54,55,56,57,58,59,60,61,62,63,64,65,66,67,68,69,70,71,72,73,74,75,76,77,78,79,80,81,82,83,84,85,86,87,88,89,90,91,92,93,94,95,96,97,98,99],\"y\":[-0.7156901301506218,-2.4644340092683623,-0.5020478490356647,0.18831575059229694,-0.9395232600804589,0.6370608619021374,0.3181842436496653,-1.925815864693647,-1.601490197748081,0.7504852699910404,0.34651704071887407,-0.3782613877092965,0.50360062282216,1.1783072011157854,-0.39512918539645014,-0.27615642716525757,-0.6955150924719622,0.22125184868079706,0.3468389819905759,-1.417697236866669,1.115510266869824,-0.19740429399545154,-2.464841424106378,-0.8367326516922796,-1.784665752306031,-0.22786206228857037,-0.05747200108715722,-0.2582444417187888,-0.5840818609797201,-0.6447426754570369,-0.7890790059168368,0.23016315567803003,-1.267679972953894,0.11816464469909889,0.53265482704174,-1.2698235619164742,-1.8768988863675784,-0.9104585436306738,0.5197942871049583,-1.1344331642903294,0.992329649408986,-0.23854074055432464,-0.1930210849793099,0.6095404688520194,-1.232825526706406,-1.5328054495473706,0.3036487187896314,-0.2579415954354775,-0.28408823698571445,0.31097652201661435,0.5365134318194574,-0.2523997745954963,-0.22895996185521222,1.7212536262694407,0.220474283657124,-2.2021749191469557,-0.8986508298431952,-0.3221635884228591,-0.40414847758021716,-0.5652901674053412,1.0766577310137808,0.5349076975629776,0.23762680428485808,-1.7126244683313148,-0.5928398888471055,-1.4949122694654595,-1.1661099302510365,0.46297332937027735,-1.3945134376948467,-0.3869679733820751,-0.9624273069822818,-1.2765077481404117,-0.8586057990186773,-1.3617817621094965,0.5289027802019703,0.6103126439405477,0.9832256017665594,0.5128656072910021,-0.4379259719293449,-0.6556385330952424,0.14179110527076172,-0.01073393938291526,0.5485346127017294,1.2238687868347427,1.3552631701641884,-0.679197152670297,1.4246054066122478,0.37843614621800514,-0.33839561042916416,0.595800624621955,0.2134554912461374,1.115174003760538,0.8652782710066977,0.3619724278187933,-0.9215434485902071,0.8922369823809136,-0.21678248120535829,-0.688812085998554,0.4169838531764566,0.2484314725645371],\"type\":\"scatter\"},{\"line\":{\"color\":\"rgba(55, 128, 191, 1.0)\",\"dash\":\"solid\",\"shape\":\"linear\",\"width\":1.3},\"mode\":\"lines\",\"name\":\"B\",\"text\":\"\",\"x\":[0,1,2,3,4,5,6,7,8,9,10,11,12,13,14,15,16,17,18,19,20,21,22,23,24,25,26,27,28,29,30,31,32,33,34,35,36,37,38,39,40,41,42,43,44,45,46,47,48,49,50,51,52,53,54,55,56,57,58,59,60,61,62,63,64,65,66,67,68,69,70,71,72,73,74,75,76,77,78,79,80,81,82,83,84,85,86,87,88,89,90,91,92,93,94,95,96,97,98,99],\"y\":[-0.6513797764818611,0.5244019427590942,-1.1744674888572253,0.43368191568401226,0.899497260401665,-1.1445625650980764,0.07099522324692333,0.04362068821287567,-0.8160348335399022,0.1626016136310631,-0.7298670162319529,0.6713855417304806,-0.4897210754965677,-0.48252481799299574,-1.3139286582223493,0.9707580321863382,-1.1464067098017479,-1.6598898005122826,0.23742605508299555,2.6643609903481145,0.22610339598619442,0.6649669769165972,0.9281709465845623,0.9791321813439632,0.8762934680617513,-0.28943460277957755,-0.028190662231939393,0.2719755628483441,0.8570323675771371,-0.9874367202861509,1.1186820362029204,0.12441702071829709,-0.7566677889736816,0.5261667781482235,0.8229391933147238,1.0237625257527891,-1.1075967095024015,0.6989216003060206,0.4484205570752432,-0.26803786635302745,-0.6634160128961857,2.335734557413926,-1.434184074279899,0.2473602698192445,0.22238480469788974,-0.2677583598956593,0.2725413480059053,-0.8395778183942763,-0.661834594922329,-0.27007302620888896,-0.2474487320510582,-1.7686789507801906,-0.6927976504687269,-0.5679102310983882,-0.1715477136966996,-1.295629485531873,0.749114656046574,-0.4396779137233732,0.881864840173589,0.6699484712192457,-0.9865989035422554,0.8041516446982689,0.5708137463595715,-0.3544348711895968,-0.4411283148910683,-0.012678521787541109,-0.15374985521185416,1.0354303578331185,1.3043066720596153,-0.8746890120010864,0.08458332717612128,-0.8003519447971019,-0.6851446620945236,-1.1559883622724791,0.27707248332228673,1.4398769778179106,-1.574198276171295,-0.10824476202121064,-0.878756138704042,0.9528462091562935,0.36882014943302904,0.701962408764391,0.12515471481787668,0.9043374679657142,0.2254823419787821,0.4958042695863272,-0.5975032114557614,0.7257348296841276,0.4855953408620199,-3.3825219320437827,0.5322162490593761,0.05039546272046297,0.10839147887182421,-2.015338751110118,0.643382932891098,-0.8632757680204926,1.1845968063934953,-1.0762885247087823,-0.2673821262177926,0.6680121061201801],\"type\":\"scatter\"},{\"line\":{\"color\":\"rgba(50, 171, 96, 1.0)\",\"dash\":\"solid\",\"shape\":\"linear\",\"width\":1.3},\"mode\":\"lines\",\"name\":\"C\",\"text\":\"\",\"x\":[0,1,2,3,4,5,6,7,8,9,10,11,12,13,14,15,16,17,18,19,20,21,22,23,24,25,26,27,28,29,30,31,32,33,34,35,36,37,38,39,40,41,42,43,44,45,46,47,48,49,50,51,52,53,54,55,56,57,58,59,60,61,62,63,64,65,66,67,68,69,70,71,72,73,74,75,76,77,78,79,80,81,82,83,84,85,86,87,88,89,90,91,92,93,94,95,96,97,98,99],\"y\":[0.8137369102886218,0.38406014021774704,0.8583336537775053,0.7957618956642141,1.4255409888334887,0.8494018529837316,0.8802582494550352,-0.4548968791233935,1.533558939208995,1.2524824477853664,-0.033876479326621675,-0.4110101837052343,-0.733897082639919,-0.7106157418903448,0.13722035073207373,0.7050198361557896,-0.5932002075891633,-1.3382789055267625,-2.5278828482383777,0.3982133911024089,0.525353202328653,-1.4962518795013926,-0.004760785788584715,0.7261859574377102,-1.303544165066935,-0.22178654551626484,1.494967772766792,0.628943023944182,-0.38821823494941937,-0.5668127027710045,0.7171598405660004,-0.7835133022052192,0.5000437115319482,0.7691384803578691,0.5523229894508553,-0.5541894348408164,-0.29938489655996475,-0.9131431790549518,-0.9794679240966921,1.163902122315106,-0.7752221633763264,-1.4495537781745207,0.4973865186073324,1.5030952854902895,-2.4964076259780277,0.1704835173224211,-0.02260160498626511,-0.9649170187581313,0.2019753230544578,-0.04155962146865371,1.615286363193417,0.3573636666371769,0.476460448964524,-1.5471884370551918,-1.3091741423554952,-0.8071981886965368,-1.318025945849581,-0.6618589471814981,-1.6212376252324474,2.1050156023915885,1.0382758927906282,1.0130772399982644,-0.5428322837985744,-1.5666433561393516,0.27206912749567025,-1.7500682837131234,-0.2470384533993433,0.856745769810696,0.050397071646110105,0.8591172982979858,-0.6237323300872393,-0.2802519687360328,-0.4115985448779974,-1.1095613669007458,-0.450350331399409,0.7805669384646385,0.3276051738502298,0.01799327164835346,0.47236995129634307,0.35546341981105,-0.1421734726670186,0.047300376883126743,1.3342425261563757,-0.20148061733839542,0.9372203022599283,-2.4673847964720728,0.20859636566666065,-0.6617846346669848,0.14039920109570533,-0.011579410918395594,-0.9564288279200693,0.8443967791582719,0.23651978111457783,0.06994116836111282,0.05499648632899061,0.3164823679807695,0.2995759568898395,2.3065943637298405,0.8967195702087817,0.21196575600905265],\"type\":\"scatter\"},{\"line\":{\"color\":\"rgba(128, 0, 128, 1.0)\",\"dash\":\"solid\",\"shape\":\"linear\",\"width\":1.3},\"mode\":\"lines\",\"name\":\"D\",\"text\":\"\",\"x\":[0,1,2,3,4,5,6,7,8,9,10,11,12,13,14,15,16,17,18,19,20,21,22,23,24,25,26,27,28,29,30,31,32,33,34,35,36,37,38,39,40,41,42,43,44,45,46,47,48,49,50,51,52,53,54,55,56,57,58,59,60,61,62,63,64,65,66,67,68,69,70,71,72,73,74,75,76,77,78,79,80,81,82,83,84,85,86,87,88,89,90,91,92,93,94,95,96,97,98,99],\"y\":[-0.41219737818529484,-0.9147191048039742,-1.219436193264347,1.5143994015691824,-2.1923301711810854,-0.903162267803806,1.0535462050704751,1.3960764437556177,0.3868619326568071,2.4525121979965308,0.0162161852241048,-0.4865399398552347,-0.6787831914000225,0.5952961179509224,0.9830827168768127,-0.5346074416237119,-1.8912269743098613,0.26106748829081644,1.476982997259971,-0.5837317944279515,-0.7322797758184094,-0.39419677768356387,-1.2307469264419622,0.3691142487885274,0.10966935398854762,-1.8053571689536656,-1.3362299798042523,1.0089180857224092,-0.7615747766983384,0.36279850099698424,-0.7864714134428039,-1.181668042014758,1.728369859890661,-0.04638915353653599,-0.3831109541831568,-1.692721071636255,-1.5919271991803412,0.8131457402676022,-0.2623198079568097,-1.9297665234901917,0.5076022583968207,-0.7140700625790625,0.3877288533850373,-0.4490557874850287,-0.7419266784049801,0.2769750352385636,-0.8886943267677583,0.19192681012128301,0.09254975120678652,0.25732296596707616,0.9461575249601594,-0.6547615010632385,1.0213950353696173,-0.29650290380060607,-1.320561240484073,0.30634684088010666,1.6403512148036148,1.4411529386636375,-0.502521705413938,-1.5550507017255497,-0.020193581404571784,1.1195063630136661,0.48288866582198753,0.6563853813135773,-0.03148201203133492,-0.6004264577182319,-0.409234215080488,-0.8834550220085939,0.18380424901299702,0.2753619971526059,-0.6578001097887088,0.8916561480623405,-0.08633187088099142,2.4539354030313616,0.7520702214235129,0.14825848428316013,0.5702749266765967,-1.161687966074187,0.5356915966245412,0.3307916225249503,-0.07440235159590498,0.10355787679932259,-0.5182391049382354,-1.6406755589160074,0.3480314724055074,0.15069414263181075,-1.0074768878248537,-0.007758560194556815,-0.3420105288611878,0.660954410451113,2.9107940920537745,-0.2626456029714481,1.1950250389328134,0.11697580915798587,-1.3186213144915546,0.2646137965520151,-0.16324258610278844,-0.48948430249355385,-0.3941668214094899,0.40569059888863773],\"type\":\"scatter\"}],                        {\"legend\":{\"bgcolor\":\"#F5F6F9\",\"font\":{\"color\":\"#4D5663\"}},\"paper_bgcolor\":\"#F5F6F9\",\"plot_bgcolor\":\"#F5F6F9\",\"template\":{\"data\":{\"barpolar\":[{\"marker\":{\"line\":{\"color\":\"#E5ECF6\",\"width\":0.5},\"pattern\":{\"fillmode\":\"overlay\",\"size\":10,\"solidity\":0.2}},\"type\":\"barpolar\"}],\"bar\":[{\"error_x\":{\"color\":\"#2a3f5f\"},\"error_y\":{\"color\":\"#2a3f5f\"},\"marker\":{\"line\":{\"color\":\"#E5ECF6\",\"width\":0.5},\"pattern\":{\"fillmode\":\"overlay\",\"size\":10,\"solidity\":0.2}},\"type\":\"bar\"}],\"carpet\":[{\"aaxis\":{\"endlinecolor\":\"#2a3f5f\",\"gridcolor\":\"white\",\"linecolor\":\"white\",\"minorgridcolor\":\"white\",\"startlinecolor\":\"#2a3f5f\"},\"baxis\":{\"endlinecolor\":\"#2a3f5f\",\"gridcolor\":\"white\",\"linecolor\":\"white\",\"minorgridcolor\":\"white\",\"startlinecolor\":\"#2a3f5f\"},\"type\":\"carpet\"}],\"choropleth\":[{\"colorbar\":{\"outlinewidth\":0,\"ticks\":\"\"},\"type\":\"choropleth\"}],\"contourcarpet\":[{\"colorbar\":{\"outlinewidth\":0,\"ticks\":\"\"},\"type\":\"contourcarpet\"}],\"contour\":[{\"colorbar\":{\"outlinewidth\":0,\"ticks\":\"\"},\"colorscale\":[[0.0,\"#0d0887\"],[0.1111111111111111,\"#46039f\"],[0.2222222222222222,\"#7201a8\"],[0.3333333333333333,\"#9c179e\"],[0.4444444444444444,\"#bd3786\"],[0.5555555555555556,\"#d8576b\"],[0.6666666666666666,\"#ed7953\"],[0.7777777777777778,\"#fb9f3a\"],[0.8888888888888888,\"#fdca26\"],[1.0,\"#f0f921\"]],\"type\":\"contour\"}],\"heatmapgl\":[{\"colorbar\":{\"outlinewidth\":0,\"ticks\":\"\"},\"colorscale\":[[0.0,\"#0d0887\"],[0.1111111111111111,\"#46039f\"],[0.2222222222222222,\"#7201a8\"],[0.3333333333333333,\"#9c179e\"],[0.4444444444444444,\"#bd3786\"],[0.5555555555555556,\"#d8576b\"],[0.6666666666666666,\"#ed7953\"],[0.7777777777777778,\"#fb9f3a\"],[0.8888888888888888,\"#fdca26\"],[1.0,\"#f0f921\"]],\"type\":\"heatmapgl\"}],\"heatmap\":[{\"colorbar\":{\"outlinewidth\":0,\"ticks\":\"\"},\"colorscale\":[[0.0,\"#0d0887\"],[0.1111111111111111,\"#46039f\"],[0.2222222222222222,\"#7201a8\"],[0.3333333333333333,\"#9c179e\"],[0.4444444444444444,\"#bd3786\"],[0.5555555555555556,\"#d8576b\"],[0.6666666666666666,\"#ed7953\"],[0.7777777777777778,\"#fb9f3a\"],[0.8888888888888888,\"#fdca26\"],[1.0,\"#f0f921\"]],\"type\":\"heatmap\"}],\"histogram2dcontour\":[{\"colorbar\":{\"outlinewidth\":0,\"ticks\":\"\"},\"colorscale\":[[0.0,\"#0d0887\"],[0.1111111111111111,\"#46039f\"],[0.2222222222222222,\"#7201a8\"],[0.3333333333333333,\"#9c179e\"],[0.4444444444444444,\"#bd3786\"],[0.5555555555555556,\"#d8576b\"],[0.6666666666666666,\"#ed7953\"],[0.7777777777777778,\"#fb9f3a\"],[0.8888888888888888,\"#fdca26\"],[1.0,\"#f0f921\"]],\"type\":\"histogram2dcontour\"}],\"histogram2d\":[{\"colorbar\":{\"outlinewidth\":0,\"ticks\":\"\"},\"colorscale\":[[0.0,\"#0d0887\"],[0.1111111111111111,\"#46039f\"],[0.2222222222222222,\"#7201a8\"],[0.3333333333333333,\"#9c179e\"],[0.4444444444444444,\"#bd3786\"],[0.5555555555555556,\"#d8576b\"],[0.6666666666666666,\"#ed7953\"],[0.7777777777777778,\"#fb9f3a\"],[0.8888888888888888,\"#fdca26\"],[1.0,\"#f0f921\"]],\"type\":\"histogram2d\"}],\"histogram\":[{\"marker\":{\"pattern\":{\"fillmode\":\"overlay\",\"size\":10,\"solidity\":0.2}},\"type\":\"histogram\"}],\"mesh3d\":[{\"colorbar\":{\"outlinewidth\":0,\"ticks\":\"\"},\"type\":\"mesh3d\"}],\"parcoords\":[{\"line\":{\"colorbar\":{\"outlinewidth\":0,\"ticks\":\"\"}},\"type\":\"parcoords\"}],\"pie\":[{\"automargin\":true,\"type\":\"pie\"}],\"scatter3d\":[{\"line\":{\"colorbar\":{\"outlinewidth\":0,\"ticks\":\"\"}},\"marker\":{\"colorbar\":{\"outlinewidth\":0,\"ticks\":\"\"}},\"type\":\"scatter3d\"}],\"scattercarpet\":[{\"marker\":{\"colorbar\":{\"outlinewidth\":0,\"ticks\":\"\"}},\"type\":\"scattercarpet\"}],\"scattergeo\":[{\"marker\":{\"colorbar\":{\"outlinewidth\":0,\"ticks\":\"\"}},\"type\":\"scattergeo\"}],\"scattergl\":[{\"marker\":{\"colorbar\":{\"outlinewidth\":0,\"ticks\":\"\"}},\"type\":\"scattergl\"}],\"scattermapbox\":[{\"marker\":{\"colorbar\":{\"outlinewidth\":0,\"ticks\":\"\"}},\"type\":\"scattermapbox\"}],\"scatterpolargl\":[{\"marker\":{\"colorbar\":{\"outlinewidth\":0,\"ticks\":\"\"}},\"type\":\"scatterpolargl\"}],\"scatterpolar\":[{\"marker\":{\"colorbar\":{\"outlinewidth\":0,\"ticks\":\"\"}},\"type\":\"scatterpolar\"}],\"scatter\":[{\"marker\":{\"colorbar\":{\"outlinewidth\":0,\"ticks\":\"\"}},\"type\":\"scatter\"}],\"scatterternary\":[{\"marker\":{\"colorbar\":{\"outlinewidth\":0,\"ticks\":\"\"}},\"type\":\"scatterternary\"}],\"surface\":[{\"colorbar\":{\"outlinewidth\":0,\"ticks\":\"\"},\"colorscale\":[[0.0,\"#0d0887\"],[0.1111111111111111,\"#46039f\"],[0.2222222222222222,\"#7201a8\"],[0.3333333333333333,\"#9c179e\"],[0.4444444444444444,\"#bd3786\"],[0.5555555555555556,\"#d8576b\"],[0.6666666666666666,\"#ed7953\"],[0.7777777777777778,\"#fb9f3a\"],[0.8888888888888888,\"#fdca26\"],[1.0,\"#f0f921\"]],\"type\":\"surface\"}],\"table\":[{\"cells\":{\"fill\":{\"color\":\"#EBF0F8\"},\"line\":{\"color\":\"white\"}},\"header\":{\"fill\":{\"color\":\"#C8D4E3\"},\"line\":{\"color\":\"white\"}},\"type\":\"table\"}]},\"layout\":{\"annotationdefaults\":{\"arrowcolor\":\"#2a3f5f\",\"arrowhead\":0,\"arrowwidth\":1},\"autotypenumbers\":\"strict\",\"coloraxis\":{\"colorbar\":{\"outlinewidth\":0,\"ticks\":\"\"}},\"colorscale\":{\"diverging\":[[0,\"#8e0152\"],[0.1,\"#c51b7d\"],[0.2,\"#de77ae\"],[0.3,\"#f1b6da\"],[0.4,\"#fde0ef\"],[0.5,\"#f7f7f7\"],[0.6,\"#e6f5d0\"],[0.7,\"#b8e186\"],[0.8,\"#7fbc41\"],[0.9,\"#4d9221\"],[1,\"#276419\"]],\"sequential\":[[0.0,\"#0d0887\"],[0.1111111111111111,\"#46039f\"],[0.2222222222222222,\"#7201a8\"],[0.3333333333333333,\"#9c179e\"],[0.4444444444444444,\"#bd3786\"],[0.5555555555555556,\"#d8576b\"],[0.6666666666666666,\"#ed7953\"],[0.7777777777777778,\"#fb9f3a\"],[0.8888888888888888,\"#fdca26\"],[1.0,\"#f0f921\"]],\"sequentialminus\":[[0.0,\"#0d0887\"],[0.1111111111111111,\"#46039f\"],[0.2222222222222222,\"#7201a8\"],[0.3333333333333333,\"#9c179e\"],[0.4444444444444444,\"#bd3786\"],[0.5555555555555556,\"#d8576b\"],[0.6666666666666666,\"#ed7953\"],[0.7777777777777778,\"#fb9f3a\"],[0.8888888888888888,\"#fdca26\"],[1.0,\"#f0f921\"]]},\"colorway\":[\"#636efa\",\"#EF553B\",\"#00cc96\",\"#ab63fa\",\"#FFA15A\",\"#19d3f3\",\"#FF6692\",\"#B6E880\",\"#FF97FF\",\"#FECB52\"],\"font\":{\"color\":\"#2a3f5f\"},\"geo\":{\"bgcolor\":\"white\",\"lakecolor\":\"white\",\"landcolor\":\"#E5ECF6\",\"showlakes\":true,\"showland\":true,\"subunitcolor\":\"white\"},\"hoverlabel\":{\"align\":\"left\"},\"hovermode\":\"closest\",\"mapbox\":{\"style\":\"light\"},\"paper_bgcolor\":\"white\",\"plot_bgcolor\":\"#E5ECF6\",\"polar\":{\"angularaxis\":{\"gridcolor\":\"white\",\"linecolor\":\"white\",\"ticks\":\"\"},\"bgcolor\":\"#E5ECF6\",\"radialaxis\":{\"gridcolor\":\"white\",\"linecolor\":\"white\",\"ticks\":\"\"}},\"scene\":{\"xaxis\":{\"backgroundcolor\":\"#E5ECF6\",\"gridcolor\":\"white\",\"gridwidth\":2,\"linecolor\":\"white\",\"showbackground\":true,\"ticks\":\"\",\"zerolinecolor\":\"white\"},\"yaxis\":{\"backgroundcolor\":\"#E5ECF6\",\"gridcolor\":\"white\",\"gridwidth\":2,\"linecolor\":\"white\",\"showbackground\":true,\"ticks\":\"\",\"zerolinecolor\":\"white\"},\"zaxis\":{\"backgroundcolor\":\"#E5ECF6\",\"gridcolor\":\"white\",\"gridwidth\":2,\"linecolor\":\"white\",\"showbackground\":true,\"ticks\":\"\",\"zerolinecolor\":\"white\"}},\"shapedefaults\":{\"line\":{\"color\":\"#2a3f5f\"}},\"ternary\":{\"aaxis\":{\"gridcolor\":\"white\",\"linecolor\":\"white\",\"ticks\":\"\"},\"baxis\":{\"gridcolor\":\"white\",\"linecolor\":\"white\",\"ticks\":\"\"},\"bgcolor\":\"#E5ECF6\",\"caxis\":{\"gridcolor\":\"white\",\"linecolor\":\"white\",\"ticks\":\"\"}},\"title\":{\"x\":0.05},\"xaxis\":{\"automargin\":true,\"gridcolor\":\"white\",\"linecolor\":\"white\",\"ticks\":\"\",\"title\":{\"standoff\":15},\"zerolinecolor\":\"white\",\"zerolinewidth\":2},\"yaxis\":{\"automargin\":true,\"gridcolor\":\"white\",\"linecolor\":\"white\",\"ticks\":\"\",\"title\":{\"standoff\":15},\"zerolinecolor\":\"white\",\"zerolinewidth\":2}}},\"title\":{\"font\":{\"color\":\"#4D5663\"}},\"xaxis\":{\"gridcolor\":\"#E1E5ED\",\"showgrid\":true,\"tickfont\":{\"color\":\"#4D5663\"},\"title\":{\"font\":{\"color\":\"#4D5663\"},\"text\":\"\"},\"zerolinecolor\":\"#E1E5ED\"},\"yaxis\":{\"gridcolor\":\"#E1E5ED\",\"showgrid\":true,\"tickfont\":{\"color\":\"#4D5663\"},\"title\":{\"font\":{\"color\":\"#4D5663\"},\"text\":\"\"},\"zerolinecolor\":\"#E1E5ED\"}},                        {\"showLink\": true, \"linkText\": \"Export to plot.ly\", \"plotlyServerURL\": \"https://plot.ly\", \"responsive\": true}                    ).then(function(){\n",
       "                            \n",
       "var gd = document.getElementById('f29c148b-36fb-41b9-b664-9a23c2e7aa39');\n",
       "var x = new MutationObserver(function (mutations, observer) {{\n",
       "        var display = window.getComputedStyle(gd).display;\n",
       "        if (!display || display === 'none') {{\n",
       "            console.log([gd, 'removed!']);\n",
       "            Plotly.purge(gd);\n",
       "            observer.disconnect();\n",
       "        }}\n",
       "}});\n",
       "\n",
       "// Listen for the removal of the full notebook cells\n",
       "var notebookContainer = gd.closest('#notebook-container');\n",
       "if (notebookContainer) {{\n",
       "    x.observe(notebookContainer, {childList: true});\n",
       "}}\n",
       "\n",
       "// Listen for the clearing of the current output cell\n",
       "var outputEl = gd.closest('.output');\n",
       "if (outputEl) {{\n",
       "    x.observe(outputEl, {childList: true});\n",
       "}}\n",
       "\n",
       "                        })                };                });            </script>        </div>"
      ]
     },
     "metadata": {},
     "output_type": "display_data"
    }
   ],
   "source": [
    "#create plotly interactive line image which tells values at a particular index point.click on/off on legend\n",
    "\n",
    "df.iplot()"
   ]
  },
  {
   "cell_type": "code",
   "execution_count": 13,
   "id": "e42a3411",
   "metadata": {},
   "outputs": [
    {
     "data": {
      "application/vnd.plotly.v1+json": {
       "config": {
        "linkText": "Export to plot.ly",
        "plotlyServerURL": "https://plot.ly",
        "showLink": true
       },
       "data": [
        {
         "line": {
          "color": "rgba(255, 153, 51, 1.0)",
          "dash": "solid",
          "shape": "linear",
          "width": 1.3
         },
         "mode": "lines",
         "name": "B",
         "text": "",
         "type": "scatter",
         "x": [
          -0.7156901301506218,
          -2.4644340092683623,
          -0.5020478490356647,
          0.18831575059229694,
          -0.9395232600804589,
          0.6370608619021374,
          0.3181842436496653,
          -1.925815864693647,
          -1.601490197748081,
          0.7504852699910404,
          0.34651704071887407,
          -0.3782613877092965,
          0.50360062282216,
          1.1783072011157854,
          -0.39512918539645014,
          -0.27615642716525757,
          -0.6955150924719622,
          0.22125184868079706,
          0.3468389819905759,
          -1.417697236866669,
          1.115510266869824,
          -0.19740429399545154,
          -2.464841424106378,
          -0.8367326516922796,
          -1.784665752306031,
          -0.22786206228857037,
          -0.05747200108715722,
          -0.2582444417187888,
          -0.5840818609797201,
          -0.6447426754570369,
          -0.7890790059168368,
          0.23016315567803003,
          -1.267679972953894,
          0.11816464469909889,
          0.53265482704174,
          -1.2698235619164742,
          -1.8768988863675784,
          -0.9104585436306738,
          0.5197942871049583,
          -1.1344331642903294,
          0.992329649408986,
          -0.23854074055432464,
          -0.1930210849793099,
          0.6095404688520194,
          -1.232825526706406,
          -1.5328054495473706,
          0.3036487187896314,
          -0.2579415954354775,
          -0.28408823698571445,
          0.31097652201661435,
          0.5365134318194574,
          -0.2523997745954963,
          -0.22895996185521222,
          1.7212536262694407,
          0.220474283657124,
          -2.2021749191469557,
          -0.8986508298431952,
          -0.3221635884228591,
          -0.40414847758021716,
          -0.5652901674053412,
          1.0766577310137808,
          0.5349076975629776,
          0.23762680428485808,
          -1.7126244683313148,
          -0.5928398888471055,
          -1.4949122694654595,
          -1.1661099302510365,
          0.46297332937027735,
          -1.3945134376948467,
          -0.3869679733820751,
          -0.9624273069822818,
          -1.2765077481404117,
          -0.8586057990186773,
          -1.3617817621094965,
          0.5289027802019703,
          0.6103126439405477,
          0.9832256017665594,
          0.5128656072910021,
          -0.4379259719293449,
          -0.6556385330952424,
          0.14179110527076172,
          -0.01073393938291526,
          0.5485346127017294,
          1.2238687868347427,
          1.3552631701641884,
          -0.679197152670297,
          1.4246054066122478,
          0.37843614621800514,
          -0.33839561042916416,
          0.595800624621955,
          0.2134554912461374,
          1.115174003760538,
          0.8652782710066977,
          0.3619724278187933,
          -0.9215434485902071,
          0.8922369823809136,
          -0.21678248120535829,
          -0.688812085998554,
          0.4169838531764566,
          0.2484314725645371
         ],
         "y": [
          -0.6513797764818611,
          0.5244019427590942,
          -1.1744674888572253,
          0.43368191568401226,
          0.899497260401665,
          -1.1445625650980764,
          0.07099522324692333,
          0.04362068821287567,
          -0.8160348335399022,
          0.1626016136310631,
          -0.7298670162319529,
          0.6713855417304806,
          -0.4897210754965677,
          -0.48252481799299574,
          -1.3139286582223493,
          0.9707580321863382,
          -1.1464067098017479,
          -1.6598898005122826,
          0.23742605508299555,
          2.6643609903481145,
          0.22610339598619442,
          0.6649669769165972,
          0.9281709465845623,
          0.9791321813439632,
          0.8762934680617513,
          -0.28943460277957755,
          -0.028190662231939393,
          0.2719755628483441,
          0.8570323675771371,
          -0.9874367202861509,
          1.1186820362029204,
          0.12441702071829709,
          -0.7566677889736816,
          0.5261667781482235,
          0.8229391933147238,
          1.0237625257527891,
          -1.1075967095024015,
          0.6989216003060206,
          0.4484205570752432,
          -0.26803786635302745,
          -0.6634160128961857,
          2.335734557413926,
          -1.434184074279899,
          0.2473602698192445,
          0.22238480469788974,
          -0.2677583598956593,
          0.2725413480059053,
          -0.8395778183942763,
          -0.661834594922329,
          -0.27007302620888896,
          -0.2474487320510582,
          -1.7686789507801906,
          -0.6927976504687269,
          -0.5679102310983882,
          -0.1715477136966996,
          -1.295629485531873,
          0.749114656046574,
          -0.4396779137233732,
          0.881864840173589,
          0.6699484712192457,
          -0.9865989035422554,
          0.8041516446982689,
          0.5708137463595715,
          -0.3544348711895968,
          -0.4411283148910683,
          -0.012678521787541109,
          -0.15374985521185416,
          1.0354303578331185,
          1.3043066720596153,
          -0.8746890120010864,
          0.08458332717612128,
          -0.8003519447971019,
          -0.6851446620945236,
          -1.1559883622724791,
          0.27707248332228673,
          1.4398769778179106,
          -1.574198276171295,
          -0.10824476202121064,
          -0.878756138704042,
          0.9528462091562935,
          0.36882014943302904,
          0.701962408764391,
          0.12515471481787668,
          0.9043374679657142,
          0.2254823419787821,
          0.4958042695863272,
          -0.5975032114557614,
          0.7257348296841276,
          0.4855953408620199,
          -3.3825219320437827,
          0.5322162490593761,
          0.05039546272046297,
          0.10839147887182421,
          -2.015338751110118,
          0.643382932891098,
          -0.8632757680204926,
          1.1845968063934953,
          -1.0762885247087823,
          -0.2673821262177926,
          0.6680121061201801
         ]
        }
       ],
       "layout": {
        "legend": {
         "bgcolor": "#F5F6F9",
         "font": {
          "color": "#4D5663"
         }
        },
        "paper_bgcolor": "#F5F6F9",
        "plot_bgcolor": "#F5F6F9",
        "template": {
         "data": {
          "bar": [
           {
            "error_x": {
             "color": "#2a3f5f"
            },
            "error_y": {
             "color": "#2a3f5f"
            },
            "marker": {
             "line": {
              "color": "#E5ECF6",
              "width": 0.5
             },
             "pattern": {
              "fillmode": "overlay",
              "size": 10,
              "solidity": 0.2
             }
            },
            "type": "bar"
           }
          ],
          "barpolar": [
           {
            "marker": {
             "line": {
              "color": "#E5ECF6",
              "width": 0.5
             },
             "pattern": {
              "fillmode": "overlay",
              "size": 10,
              "solidity": 0.2
             }
            },
            "type": "barpolar"
           }
          ],
          "carpet": [
           {
            "aaxis": {
             "endlinecolor": "#2a3f5f",
             "gridcolor": "white",
             "linecolor": "white",
             "minorgridcolor": "white",
             "startlinecolor": "#2a3f5f"
            },
            "baxis": {
             "endlinecolor": "#2a3f5f",
             "gridcolor": "white",
             "linecolor": "white",
             "minorgridcolor": "white",
             "startlinecolor": "#2a3f5f"
            },
            "type": "carpet"
           }
          ],
          "choropleth": [
           {
            "colorbar": {
             "outlinewidth": 0,
             "ticks": ""
            },
            "type": "choropleth"
           }
          ],
          "contour": [
           {
            "colorbar": {
             "outlinewidth": 0,
             "ticks": ""
            },
            "colorscale": [
             [
              0,
              "#0d0887"
             ],
             [
              0.1111111111111111,
              "#46039f"
             ],
             [
              0.2222222222222222,
              "#7201a8"
             ],
             [
              0.3333333333333333,
              "#9c179e"
             ],
             [
              0.4444444444444444,
              "#bd3786"
             ],
             [
              0.5555555555555556,
              "#d8576b"
             ],
             [
              0.6666666666666666,
              "#ed7953"
             ],
             [
              0.7777777777777778,
              "#fb9f3a"
             ],
             [
              0.8888888888888888,
              "#fdca26"
             ],
             [
              1,
              "#f0f921"
             ]
            ],
            "type": "contour"
           }
          ],
          "contourcarpet": [
           {
            "colorbar": {
             "outlinewidth": 0,
             "ticks": ""
            },
            "type": "contourcarpet"
           }
          ],
          "heatmap": [
           {
            "colorbar": {
             "outlinewidth": 0,
             "ticks": ""
            },
            "colorscale": [
             [
              0,
              "#0d0887"
             ],
             [
              0.1111111111111111,
              "#46039f"
             ],
             [
              0.2222222222222222,
              "#7201a8"
             ],
             [
              0.3333333333333333,
              "#9c179e"
             ],
             [
              0.4444444444444444,
              "#bd3786"
             ],
             [
              0.5555555555555556,
              "#d8576b"
             ],
             [
              0.6666666666666666,
              "#ed7953"
             ],
             [
              0.7777777777777778,
              "#fb9f3a"
             ],
             [
              0.8888888888888888,
              "#fdca26"
             ],
             [
              1,
              "#f0f921"
             ]
            ],
            "type": "heatmap"
           }
          ],
          "heatmapgl": [
           {
            "colorbar": {
             "outlinewidth": 0,
             "ticks": ""
            },
            "colorscale": [
             [
              0,
              "#0d0887"
             ],
             [
              0.1111111111111111,
              "#46039f"
             ],
             [
              0.2222222222222222,
              "#7201a8"
             ],
             [
              0.3333333333333333,
              "#9c179e"
             ],
             [
              0.4444444444444444,
              "#bd3786"
             ],
             [
              0.5555555555555556,
              "#d8576b"
             ],
             [
              0.6666666666666666,
              "#ed7953"
             ],
             [
              0.7777777777777778,
              "#fb9f3a"
             ],
             [
              0.8888888888888888,
              "#fdca26"
             ],
             [
              1,
              "#f0f921"
             ]
            ],
            "type": "heatmapgl"
           }
          ],
          "histogram": [
           {
            "marker": {
             "pattern": {
              "fillmode": "overlay",
              "size": 10,
              "solidity": 0.2
             }
            },
            "type": "histogram"
           }
          ],
          "histogram2d": [
           {
            "colorbar": {
             "outlinewidth": 0,
             "ticks": ""
            },
            "colorscale": [
             [
              0,
              "#0d0887"
             ],
             [
              0.1111111111111111,
              "#46039f"
             ],
             [
              0.2222222222222222,
              "#7201a8"
             ],
             [
              0.3333333333333333,
              "#9c179e"
             ],
             [
              0.4444444444444444,
              "#bd3786"
             ],
             [
              0.5555555555555556,
              "#d8576b"
             ],
             [
              0.6666666666666666,
              "#ed7953"
             ],
             [
              0.7777777777777778,
              "#fb9f3a"
             ],
             [
              0.8888888888888888,
              "#fdca26"
             ],
             [
              1,
              "#f0f921"
             ]
            ],
            "type": "histogram2d"
           }
          ],
          "histogram2dcontour": [
           {
            "colorbar": {
             "outlinewidth": 0,
             "ticks": ""
            },
            "colorscale": [
             [
              0,
              "#0d0887"
             ],
             [
              0.1111111111111111,
              "#46039f"
             ],
             [
              0.2222222222222222,
              "#7201a8"
             ],
             [
              0.3333333333333333,
              "#9c179e"
             ],
             [
              0.4444444444444444,
              "#bd3786"
             ],
             [
              0.5555555555555556,
              "#d8576b"
             ],
             [
              0.6666666666666666,
              "#ed7953"
             ],
             [
              0.7777777777777778,
              "#fb9f3a"
             ],
             [
              0.8888888888888888,
              "#fdca26"
             ],
             [
              1,
              "#f0f921"
             ]
            ],
            "type": "histogram2dcontour"
           }
          ],
          "mesh3d": [
           {
            "colorbar": {
             "outlinewidth": 0,
             "ticks": ""
            },
            "type": "mesh3d"
           }
          ],
          "parcoords": [
           {
            "line": {
             "colorbar": {
              "outlinewidth": 0,
              "ticks": ""
             }
            },
            "type": "parcoords"
           }
          ],
          "pie": [
           {
            "automargin": true,
            "type": "pie"
           }
          ],
          "scatter": [
           {
            "marker": {
             "colorbar": {
              "outlinewidth": 0,
              "ticks": ""
             }
            },
            "type": "scatter"
           }
          ],
          "scatter3d": [
           {
            "line": {
             "colorbar": {
              "outlinewidth": 0,
              "ticks": ""
             }
            },
            "marker": {
             "colorbar": {
              "outlinewidth": 0,
              "ticks": ""
             }
            },
            "type": "scatter3d"
           }
          ],
          "scattercarpet": [
           {
            "marker": {
             "colorbar": {
              "outlinewidth": 0,
              "ticks": ""
             }
            },
            "type": "scattercarpet"
           }
          ],
          "scattergeo": [
           {
            "marker": {
             "colorbar": {
              "outlinewidth": 0,
              "ticks": ""
             }
            },
            "type": "scattergeo"
           }
          ],
          "scattergl": [
           {
            "marker": {
             "colorbar": {
              "outlinewidth": 0,
              "ticks": ""
             }
            },
            "type": "scattergl"
           }
          ],
          "scattermapbox": [
           {
            "marker": {
             "colorbar": {
              "outlinewidth": 0,
              "ticks": ""
             }
            },
            "type": "scattermapbox"
           }
          ],
          "scatterpolar": [
           {
            "marker": {
             "colorbar": {
              "outlinewidth": 0,
              "ticks": ""
             }
            },
            "type": "scatterpolar"
           }
          ],
          "scatterpolargl": [
           {
            "marker": {
             "colorbar": {
              "outlinewidth": 0,
              "ticks": ""
             }
            },
            "type": "scatterpolargl"
           }
          ],
          "scatterternary": [
           {
            "marker": {
             "colorbar": {
              "outlinewidth": 0,
              "ticks": ""
             }
            },
            "type": "scatterternary"
           }
          ],
          "surface": [
           {
            "colorbar": {
             "outlinewidth": 0,
             "ticks": ""
            },
            "colorscale": [
             [
              0,
              "#0d0887"
             ],
             [
              0.1111111111111111,
              "#46039f"
             ],
             [
              0.2222222222222222,
              "#7201a8"
             ],
             [
              0.3333333333333333,
              "#9c179e"
             ],
             [
              0.4444444444444444,
              "#bd3786"
             ],
             [
              0.5555555555555556,
              "#d8576b"
             ],
             [
              0.6666666666666666,
              "#ed7953"
             ],
             [
              0.7777777777777778,
              "#fb9f3a"
             ],
             [
              0.8888888888888888,
              "#fdca26"
             ],
             [
              1,
              "#f0f921"
             ]
            ],
            "type": "surface"
           }
          ],
          "table": [
           {
            "cells": {
             "fill": {
              "color": "#EBF0F8"
             },
             "line": {
              "color": "white"
             }
            },
            "header": {
             "fill": {
              "color": "#C8D4E3"
             },
             "line": {
              "color": "white"
             }
            },
            "type": "table"
           }
          ]
         },
         "layout": {
          "annotationdefaults": {
           "arrowcolor": "#2a3f5f",
           "arrowhead": 0,
           "arrowwidth": 1
          },
          "autotypenumbers": "strict",
          "coloraxis": {
           "colorbar": {
            "outlinewidth": 0,
            "ticks": ""
           }
          },
          "colorscale": {
           "diverging": [
            [
             0,
             "#8e0152"
            ],
            [
             0.1,
             "#c51b7d"
            ],
            [
             0.2,
             "#de77ae"
            ],
            [
             0.3,
             "#f1b6da"
            ],
            [
             0.4,
             "#fde0ef"
            ],
            [
             0.5,
             "#f7f7f7"
            ],
            [
             0.6,
             "#e6f5d0"
            ],
            [
             0.7,
             "#b8e186"
            ],
            [
             0.8,
             "#7fbc41"
            ],
            [
             0.9,
             "#4d9221"
            ],
            [
             1,
             "#276419"
            ]
           ],
           "sequential": [
            [
             0,
             "#0d0887"
            ],
            [
             0.1111111111111111,
             "#46039f"
            ],
            [
             0.2222222222222222,
             "#7201a8"
            ],
            [
             0.3333333333333333,
             "#9c179e"
            ],
            [
             0.4444444444444444,
             "#bd3786"
            ],
            [
             0.5555555555555556,
             "#d8576b"
            ],
            [
             0.6666666666666666,
             "#ed7953"
            ],
            [
             0.7777777777777778,
             "#fb9f3a"
            ],
            [
             0.8888888888888888,
             "#fdca26"
            ],
            [
             1,
             "#f0f921"
            ]
           ],
           "sequentialminus": [
            [
             0,
             "#0d0887"
            ],
            [
             0.1111111111111111,
             "#46039f"
            ],
            [
             0.2222222222222222,
             "#7201a8"
            ],
            [
             0.3333333333333333,
             "#9c179e"
            ],
            [
             0.4444444444444444,
             "#bd3786"
            ],
            [
             0.5555555555555556,
             "#d8576b"
            ],
            [
             0.6666666666666666,
             "#ed7953"
            ],
            [
             0.7777777777777778,
             "#fb9f3a"
            ],
            [
             0.8888888888888888,
             "#fdca26"
            ],
            [
             1,
             "#f0f921"
            ]
           ]
          },
          "colorway": [
           "#636efa",
           "#EF553B",
           "#00cc96",
           "#ab63fa",
           "#FFA15A",
           "#19d3f3",
           "#FF6692",
           "#B6E880",
           "#FF97FF",
           "#FECB52"
          ],
          "font": {
           "color": "#2a3f5f"
          },
          "geo": {
           "bgcolor": "white",
           "lakecolor": "white",
           "landcolor": "#E5ECF6",
           "showlakes": true,
           "showland": true,
           "subunitcolor": "white"
          },
          "hoverlabel": {
           "align": "left"
          },
          "hovermode": "closest",
          "mapbox": {
           "style": "light"
          },
          "paper_bgcolor": "white",
          "plot_bgcolor": "#E5ECF6",
          "polar": {
           "angularaxis": {
            "gridcolor": "white",
            "linecolor": "white",
            "ticks": ""
           },
           "bgcolor": "#E5ECF6",
           "radialaxis": {
            "gridcolor": "white",
            "linecolor": "white",
            "ticks": ""
           }
          },
          "scene": {
           "xaxis": {
            "backgroundcolor": "#E5ECF6",
            "gridcolor": "white",
            "gridwidth": 2,
            "linecolor": "white",
            "showbackground": true,
            "ticks": "",
            "zerolinecolor": "white"
           },
           "yaxis": {
            "backgroundcolor": "#E5ECF6",
            "gridcolor": "white",
            "gridwidth": 2,
            "linecolor": "white",
            "showbackground": true,
            "ticks": "",
            "zerolinecolor": "white"
           },
           "zaxis": {
            "backgroundcolor": "#E5ECF6",
            "gridcolor": "white",
            "gridwidth": 2,
            "linecolor": "white",
            "showbackground": true,
            "ticks": "",
            "zerolinecolor": "white"
           }
          },
          "shapedefaults": {
           "line": {
            "color": "#2a3f5f"
           }
          },
          "ternary": {
           "aaxis": {
            "gridcolor": "white",
            "linecolor": "white",
            "ticks": ""
           },
           "baxis": {
            "gridcolor": "white",
            "linecolor": "white",
            "ticks": ""
           },
           "bgcolor": "#E5ECF6",
           "caxis": {
            "gridcolor": "white",
            "linecolor": "white",
            "ticks": ""
           }
          },
          "title": {
           "x": 0.05
          },
          "xaxis": {
           "automargin": true,
           "gridcolor": "white",
           "linecolor": "white",
           "ticks": "",
           "title": {
            "standoff": 15
           },
           "zerolinecolor": "white",
           "zerolinewidth": 2
          },
          "yaxis": {
           "automargin": true,
           "gridcolor": "white",
           "linecolor": "white",
           "ticks": "",
           "title": {
            "standoff": 15
           },
           "zerolinecolor": "white",
           "zerolinewidth": 2
          }
         }
        },
        "title": {
         "font": {
          "color": "#4D5663"
         }
        },
        "xaxis": {
         "gridcolor": "#E1E5ED",
         "showgrid": true,
         "tickfont": {
          "color": "#4D5663"
         },
         "title": {
          "font": {
           "color": "#4D5663"
          },
          "text": ""
         },
         "zerolinecolor": "#E1E5ED"
        },
        "yaxis": {
         "gridcolor": "#E1E5ED",
         "showgrid": true,
         "tickfont": {
          "color": "#4D5663"
         },
         "title": {
          "font": {
           "color": "#4D5663"
          },
          "text": ""
         },
         "zerolinecolor": "#E1E5ED"
        }
       }
      },
      "text/html": [
       "<div>                            <div id=\"90c9c200-4d5f-4e3e-9fba-7d0487d3d509\" class=\"plotly-graph-div\" style=\"height:525px; width:100%;\"></div>            <script type=\"text/javascript\">                require([\"plotly\"], function(Plotly) {                    window.PLOTLYENV=window.PLOTLYENV || {};\n",
       "                    window.PLOTLYENV.BASE_URL='https://plot.ly';                                    if (document.getElementById(\"90c9c200-4d5f-4e3e-9fba-7d0487d3d509\")) {                    Plotly.newPlot(                        \"90c9c200-4d5f-4e3e-9fba-7d0487d3d509\",                        [{\"line\":{\"color\":\"rgba(255, 153, 51, 1.0)\",\"dash\":\"solid\",\"shape\":\"linear\",\"width\":1.3},\"mode\":\"lines\",\"name\":\"B\",\"text\":\"\",\"x\":[-0.7156901301506218,-2.4644340092683623,-0.5020478490356647,0.18831575059229694,-0.9395232600804589,0.6370608619021374,0.3181842436496653,-1.925815864693647,-1.601490197748081,0.7504852699910404,0.34651704071887407,-0.3782613877092965,0.50360062282216,1.1783072011157854,-0.39512918539645014,-0.27615642716525757,-0.6955150924719622,0.22125184868079706,0.3468389819905759,-1.417697236866669,1.115510266869824,-0.19740429399545154,-2.464841424106378,-0.8367326516922796,-1.784665752306031,-0.22786206228857037,-0.05747200108715722,-0.2582444417187888,-0.5840818609797201,-0.6447426754570369,-0.7890790059168368,0.23016315567803003,-1.267679972953894,0.11816464469909889,0.53265482704174,-1.2698235619164742,-1.8768988863675784,-0.9104585436306738,0.5197942871049583,-1.1344331642903294,0.992329649408986,-0.23854074055432464,-0.1930210849793099,0.6095404688520194,-1.232825526706406,-1.5328054495473706,0.3036487187896314,-0.2579415954354775,-0.28408823698571445,0.31097652201661435,0.5365134318194574,-0.2523997745954963,-0.22895996185521222,1.7212536262694407,0.220474283657124,-2.2021749191469557,-0.8986508298431952,-0.3221635884228591,-0.40414847758021716,-0.5652901674053412,1.0766577310137808,0.5349076975629776,0.23762680428485808,-1.7126244683313148,-0.5928398888471055,-1.4949122694654595,-1.1661099302510365,0.46297332937027735,-1.3945134376948467,-0.3869679733820751,-0.9624273069822818,-1.2765077481404117,-0.8586057990186773,-1.3617817621094965,0.5289027802019703,0.6103126439405477,0.9832256017665594,0.5128656072910021,-0.4379259719293449,-0.6556385330952424,0.14179110527076172,-0.01073393938291526,0.5485346127017294,1.2238687868347427,1.3552631701641884,-0.679197152670297,1.4246054066122478,0.37843614621800514,-0.33839561042916416,0.595800624621955,0.2134554912461374,1.115174003760538,0.8652782710066977,0.3619724278187933,-0.9215434485902071,0.8922369823809136,-0.21678248120535829,-0.688812085998554,0.4169838531764566,0.2484314725645371],\"y\":[-0.6513797764818611,0.5244019427590942,-1.1744674888572253,0.43368191568401226,0.899497260401665,-1.1445625650980764,0.07099522324692333,0.04362068821287567,-0.8160348335399022,0.1626016136310631,-0.7298670162319529,0.6713855417304806,-0.4897210754965677,-0.48252481799299574,-1.3139286582223493,0.9707580321863382,-1.1464067098017479,-1.6598898005122826,0.23742605508299555,2.6643609903481145,0.22610339598619442,0.6649669769165972,0.9281709465845623,0.9791321813439632,0.8762934680617513,-0.28943460277957755,-0.028190662231939393,0.2719755628483441,0.8570323675771371,-0.9874367202861509,1.1186820362029204,0.12441702071829709,-0.7566677889736816,0.5261667781482235,0.8229391933147238,1.0237625257527891,-1.1075967095024015,0.6989216003060206,0.4484205570752432,-0.26803786635302745,-0.6634160128961857,2.335734557413926,-1.434184074279899,0.2473602698192445,0.22238480469788974,-0.2677583598956593,0.2725413480059053,-0.8395778183942763,-0.661834594922329,-0.27007302620888896,-0.2474487320510582,-1.7686789507801906,-0.6927976504687269,-0.5679102310983882,-0.1715477136966996,-1.295629485531873,0.749114656046574,-0.4396779137233732,0.881864840173589,0.6699484712192457,-0.9865989035422554,0.8041516446982689,0.5708137463595715,-0.3544348711895968,-0.4411283148910683,-0.012678521787541109,-0.15374985521185416,1.0354303578331185,1.3043066720596153,-0.8746890120010864,0.08458332717612128,-0.8003519447971019,-0.6851446620945236,-1.1559883622724791,0.27707248332228673,1.4398769778179106,-1.574198276171295,-0.10824476202121064,-0.878756138704042,0.9528462091562935,0.36882014943302904,0.701962408764391,0.12515471481787668,0.9043374679657142,0.2254823419787821,0.4958042695863272,-0.5975032114557614,0.7257348296841276,0.4855953408620199,-3.3825219320437827,0.5322162490593761,0.05039546272046297,0.10839147887182421,-2.015338751110118,0.643382932891098,-0.8632757680204926,1.1845968063934953,-1.0762885247087823,-0.2673821262177926,0.6680121061201801],\"type\":\"scatter\"}],                        {\"legend\":{\"bgcolor\":\"#F5F6F9\",\"font\":{\"color\":\"#4D5663\"}},\"paper_bgcolor\":\"#F5F6F9\",\"plot_bgcolor\":\"#F5F6F9\",\"template\":{\"data\":{\"barpolar\":[{\"marker\":{\"line\":{\"color\":\"#E5ECF6\",\"width\":0.5},\"pattern\":{\"fillmode\":\"overlay\",\"size\":10,\"solidity\":0.2}},\"type\":\"barpolar\"}],\"bar\":[{\"error_x\":{\"color\":\"#2a3f5f\"},\"error_y\":{\"color\":\"#2a3f5f\"},\"marker\":{\"line\":{\"color\":\"#E5ECF6\",\"width\":0.5},\"pattern\":{\"fillmode\":\"overlay\",\"size\":10,\"solidity\":0.2}},\"type\":\"bar\"}],\"carpet\":[{\"aaxis\":{\"endlinecolor\":\"#2a3f5f\",\"gridcolor\":\"white\",\"linecolor\":\"white\",\"minorgridcolor\":\"white\",\"startlinecolor\":\"#2a3f5f\"},\"baxis\":{\"endlinecolor\":\"#2a3f5f\",\"gridcolor\":\"white\",\"linecolor\":\"white\",\"minorgridcolor\":\"white\",\"startlinecolor\":\"#2a3f5f\"},\"type\":\"carpet\"}],\"choropleth\":[{\"colorbar\":{\"outlinewidth\":0,\"ticks\":\"\"},\"type\":\"choropleth\"}],\"contourcarpet\":[{\"colorbar\":{\"outlinewidth\":0,\"ticks\":\"\"},\"type\":\"contourcarpet\"}],\"contour\":[{\"colorbar\":{\"outlinewidth\":0,\"ticks\":\"\"},\"colorscale\":[[0.0,\"#0d0887\"],[0.1111111111111111,\"#46039f\"],[0.2222222222222222,\"#7201a8\"],[0.3333333333333333,\"#9c179e\"],[0.4444444444444444,\"#bd3786\"],[0.5555555555555556,\"#d8576b\"],[0.6666666666666666,\"#ed7953\"],[0.7777777777777778,\"#fb9f3a\"],[0.8888888888888888,\"#fdca26\"],[1.0,\"#f0f921\"]],\"type\":\"contour\"}],\"heatmapgl\":[{\"colorbar\":{\"outlinewidth\":0,\"ticks\":\"\"},\"colorscale\":[[0.0,\"#0d0887\"],[0.1111111111111111,\"#46039f\"],[0.2222222222222222,\"#7201a8\"],[0.3333333333333333,\"#9c179e\"],[0.4444444444444444,\"#bd3786\"],[0.5555555555555556,\"#d8576b\"],[0.6666666666666666,\"#ed7953\"],[0.7777777777777778,\"#fb9f3a\"],[0.8888888888888888,\"#fdca26\"],[1.0,\"#f0f921\"]],\"type\":\"heatmapgl\"}],\"heatmap\":[{\"colorbar\":{\"outlinewidth\":0,\"ticks\":\"\"},\"colorscale\":[[0.0,\"#0d0887\"],[0.1111111111111111,\"#46039f\"],[0.2222222222222222,\"#7201a8\"],[0.3333333333333333,\"#9c179e\"],[0.4444444444444444,\"#bd3786\"],[0.5555555555555556,\"#d8576b\"],[0.6666666666666666,\"#ed7953\"],[0.7777777777777778,\"#fb9f3a\"],[0.8888888888888888,\"#fdca26\"],[1.0,\"#f0f921\"]],\"type\":\"heatmap\"}],\"histogram2dcontour\":[{\"colorbar\":{\"outlinewidth\":0,\"ticks\":\"\"},\"colorscale\":[[0.0,\"#0d0887\"],[0.1111111111111111,\"#46039f\"],[0.2222222222222222,\"#7201a8\"],[0.3333333333333333,\"#9c179e\"],[0.4444444444444444,\"#bd3786\"],[0.5555555555555556,\"#d8576b\"],[0.6666666666666666,\"#ed7953\"],[0.7777777777777778,\"#fb9f3a\"],[0.8888888888888888,\"#fdca26\"],[1.0,\"#f0f921\"]],\"type\":\"histogram2dcontour\"}],\"histogram2d\":[{\"colorbar\":{\"outlinewidth\":0,\"ticks\":\"\"},\"colorscale\":[[0.0,\"#0d0887\"],[0.1111111111111111,\"#46039f\"],[0.2222222222222222,\"#7201a8\"],[0.3333333333333333,\"#9c179e\"],[0.4444444444444444,\"#bd3786\"],[0.5555555555555556,\"#d8576b\"],[0.6666666666666666,\"#ed7953\"],[0.7777777777777778,\"#fb9f3a\"],[0.8888888888888888,\"#fdca26\"],[1.0,\"#f0f921\"]],\"type\":\"histogram2d\"}],\"histogram\":[{\"marker\":{\"pattern\":{\"fillmode\":\"overlay\",\"size\":10,\"solidity\":0.2}},\"type\":\"histogram\"}],\"mesh3d\":[{\"colorbar\":{\"outlinewidth\":0,\"ticks\":\"\"},\"type\":\"mesh3d\"}],\"parcoords\":[{\"line\":{\"colorbar\":{\"outlinewidth\":0,\"ticks\":\"\"}},\"type\":\"parcoords\"}],\"pie\":[{\"automargin\":true,\"type\":\"pie\"}],\"scatter3d\":[{\"line\":{\"colorbar\":{\"outlinewidth\":0,\"ticks\":\"\"}},\"marker\":{\"colorbar\":{\"outlinewidth\":0,\"ticks\":\"\"}},\"type\":\"scatter3d\"}],\"scattercarpet\":[{\"marker\":{\"colorbar\":{\"outlinewidth\":0,\"ticks\":\"\"}},\"type\":\"scattercarpet\"}],\"scattergeo\":[{\"marker\":{\"colorbar\":{\"outlinewidth\":0,\"ticks\":\"\"}},\"type\":\"scattergeo\"}],\"scattergl\":[{\"marker\":{\"colorbar\":{\"outlinewidth\":0,\"ticks\":\"\"}},\"type\":\"scattergl\"}],\"scattermapbox\":[{\"marker\":{\"colorbar\":{\"outlinewidth\":0,\"ticks\":\"\"}},\"type\":\"scattermapbox\"}],\"scatterpolargl\":[{\"marker\":{\"colorbar\":{\"outlinewidth\":0,\"ticks\":\"\"}},\"type\":\"scatterpolargl\"}],\"scatterpolar\":[{\"marker\":{\"colorbar\":{\"outlinewidth\":0,\"ticks\":\"\"}},\"type\":\"scatterpolar\"}],\"scatter\":[{\"marker\":{\"colorbar\":{\"outlinewidth\":0,\"ticks\":\"\"}},\"type\":\"scatter\"}],\"scatterternary\":[{\"marker\":{\"colorbar\":{\"outlinewidth\":0,\"ticks\":\"\"}},\"type\":\"scatterternary\"}],\"surface\":[{\"colorbar\":{\"outlinewidth\":0,\"ticks\":\"\"},\"colorscale\":[[0.0,\"#0d0887\"],[0.1111111111111111,\"#46039f\"],[0.2222222222222222,\"#7201a8\"],[0.3333333333333333,\"#9c179e\"],[0.4444444444444444,\"#bd3786\"],[0.5555555555555556,\"#d8576b\"],[0.6666666666666666,\"#ed7953\"],[0.7777777777777778,\"#fb9f3a\"],[0.8888888888888888,\"#fdca26\"],[1.0,\"#f0f921\"]],\"type\":\"surface\"}],\"table\":[{\"cells\":{\"fill\":{\"color\":\"#EBF0F8\"},\"line\":{\"color\":\"white\"}},\"header\":{\"fill\":{\"color\":\"#C8D4E3\"},\"line\":{\"color\":\"white\"}},\"type\":\"table\"}]},\"layout\":{\"annotationdefaults\":{\"arrowcolor\":\"#2a3f5f\",\"arrowhead\":0,\"arrowwidth\":1},\"autotypenumbers\":\"strict\",\"coloraxis\":{\"colorbar\":{\"outlinewidth\":0,\"ticks\":\"\"}},\"colorscale\":{\"diverging\":[[0,\"#8e0152\"],[0.1,\"#c51b7d\"],[0.2,\"#de77ae\"],[0.3,\"#f1b6da\"],[0.4,\"#fde0ef\"],[0.5,\"#f7f7f7\"],[0.6,\"#e6f5d0\"],[0.7,\"#b8e186\"],[0.8,\"#7fbc41\"],[0.9,\"#4d9221\"],[1,\"#276419\"]],\"sequential\":[[0.0,\"#0d0887\"],[0.1111111111111111,\"#46039f\"],[0.2222222222222222,\"#7201a8\"],[0.3333333333333333,\"#9c179e\"],[0.4444444444444444,\"#bd3786\"],[0.5555555555555556,\"#d8576b\"],[0.6666666666666666,\"#ed7953\"],[0.7777777777777778,\"#fb9f3a\"],[0.8888888888888888,\"#fdca26\"],[1.0,\"#f0f921\"]],\"sequentialminus\":[[0.0,\"#0d0887\"],[0.1111111111111111,\"#46039f\"],[0.2222222222222222,\"#7201a8\"],[0.3333333333333333,\"#9c179e\"],[0.4444444444444444,\"#bd3786\"],[0.5555555555555556,\"#d8576b\"],[0.6666666666666666,\"#ed7953\"],[0.7777777777777778,\"#fb9f3a\"],[0.8888888888888888,\"#fdca26\"],[1.0,\"#f0f921\"]]},\"colorway\":[\"#636efa\",\"#EF553B\",\"#00cc96\",\"#ab63fa\",\"#FFA15A\",\"#19d3f3\",\"#FF6692\",\"#B6E880\",\"#FF97FF\",\"#FECB52\"],\"font\":{\"color\":\"#2a3f5f\"},\"geo\":{\"bgcolor\":\"white\",\"lakecolor\":\"white\",\"landcolor\":\"#E5ECF6\",\"showlakes\":true,\"showland\":true,\"subunitcolor\":\"white\"},\"hoverlabel\":{\"align\":\"left\"},\"hovermode\":\"closest\",\"mapbox\":{\"style\":\"light\"},\"paper_bgcolor\":\"white\",\"plot_bgcolor\":\"#E5ECF6\",\"polar\":{\"angularaxis\":{\"gridcolor\":\"white\",\"linecolor\":\"white\",\"ticks\":\"\"},\"bgcolor\":\"#E5ECF6\",\"radialaxis\":{\"gridcolor\":\"white\",\"linecolor\":\"white\",\"ticks\":\"\"}},\"scene\":{\"xaxis\":{\"backgroundcolor\":\"#E5ECF6\",\"gridcolor\":\"white\",\"gridwidth\":2,\"linecolor\":\"white\",\"showbackground\":true,\"ticks\":\"\",\"zerolinecolor\":\"white\"},\"yaxis\":{\"backgroundcolor\":\"#E5ECF6\",\"gridcolor\":\"white\",\"gridwidth\":2,\"linecolor\":\"white\",\"showbackground\":true,\"ticks\":\"\",\"zerolinecolor\":\"white\"},\"zaxis\":{\"backgroundcolor\":\"#E5ECF6\",\"gridcolor\":\"white\",\"gridwidth\":2,\"linecolor\":\"white\",\"showbackground\":true,\"ticks\":\"\",\"zerolinecolor\":\"white\"}},\"shapedefaults\":{\"line\":{\"color\":\"#2a3f5f\"}},\"ternary\":{\"aaxis\":{\"gridcolor\":\"white\",\"linecolor\":\"white\",\"ticks\":\"\"},\"baxis\":{\"gridcolor\":\"white\",\"linecolor\":\"white\",\"ticks\":\"\"},\"bgcolor\":\"#E5ECF6\",\"caxis\":{\"gridcolor\":\"white\",\"linecolor\":\"white\",\"ticks\":\"\"}},\"title\":{\"x\":0.05},\"xaxis\":{\"automargin\":true,\"gridcolor\":\"white\",\"linecolor\":\"white\",\"ticks\":\"\",\"title\":{\"standoff\":15},\"zerolinecolor\":\"white\",\"zerolinewidth\":2},\"yaxis\":{\"automargin\":true,\"gridcolor\":\"white\",\"linecolor\":\"white\",\"ticks\":\"\",\"title\":{\"standoff\":15},\"zerolinecolor\":\"white\",\"zerolinewidth\":2}}},\"title\":{\"font\":{\"color\":\"#4D5663\"}},\"xaxis\":{\"gridcolor\":\"#E1E5ED\",\"showgrid\":true,\"tickfont\":{\"color\":\"#4D5663\"},\"title\":{\"font\":{\"color\":\"#4D5663\"},\"text\":\"\"},\"zerolinecolor\":\"#E1E5ED\"},\"yaxis\":{\"gridcolor\":\"#E1E5ED\",\"showgrid\":true,\"tickfont\":{\"color\":\"#4D5663\"},\"title\":{\"font\":{\"color\":\"#4D5663\"},\"text\":\"\"},\"zerolinecolor\":\"#E1E5ED\"}},                        {\"showLink\": true, \"linkText\": \"Export to plot.ly\", \"plotlyServerURL\": \"https://plot.ly\", \"responsive\": true}                    ).then(function(){\n",
       "                            \n",
       "var gd = document.getElementById('90c9c200-4d5f-4e3e-9fba-7d0487d3d509');\n",
       "var x = new MutationObserver(function (mutations, observer) {{\n",
       "        var display = window.getComputedStyle(gd).display;\n",
       "        if (!display || display === 'none') {{\n",
       "            console.log([gd, 'removed!']);\n",
       "            Plotly.purge(gd);\n",
       "            observer.disconnect();\n",
       "        }}\n",
       "}});\n",
       "\n",
       "// Listen for the removal of the full notebook cells\n",
       "var notebookContainer = gd.closest('#notebook-container');\n",
       "if (notebookContainer) {{\n",
       "    x.observe(notebookContainer, {childList: true});\n",
       "}}\n",
       "\n",
       "// Listen for the clearing of the current output cell\n",
       "var outputEl = gd.closest('.output');\n",
       "if (outputEl) {{\n",
       "    x.observe(outputEl, {childList: true});\n",
       "}}\n",
       "\n",
       "                        })                };                });            </script>        </div>"
      ]
     },
     "metadata": {},
     "output_type": "display_data"
    }
   ],
   "source": [
    "# create a plotly/cufflinks scatter plot\n",
    "\n",
    "df.iplot(kind='scatter',x='A',y='B')"
   ]
  },
  {
   "cell_type": "code",
   "execution_count": 14,
   "id": "01f2a65a",
   "metadata": {},
   "outputs": [
    {
     "data": {
      "application/vnd.plotly.v1+json": {
       "config": {
        "linkText": "Export to plot.ly",
        "plotlyServerURL": "https://plot.ly",
        "showLink": true
       },
       "data": [
        {
         "line": {
          "color": "rgba(255, 153, 51, 1.0)",
          "dash": "solid",
          "shape": "linear",
          "width": 1.3
         },
         "marker": {
          "size": 20,
          "symbol": "circle"
         },
         "mode": "markers",
         "name": "B",
         "text": "",
         "type": "scatter",
         "x": [
          -0.7156901301506218,
          -2.4644340092683623,
          -0.5020478490356647,
          0.18831575059229694,
          -0.9395232600804589,
          0.6370608619021374,
          0.3181842436496653,
          -1.925815864693647,
          -1.601490197748081,
          0.7504852699910404,
          0.34651704071887407,
          -0.3782613877092965,
          0.50360062282216,
          1.1783072011157854,
          -0.39512918539645014,
          -0.27615642716525757,
          -0.6955150924719622,
          0.22125184868079706,
          0.3468389819905759,
          -1.417697236866669,
          1.115510266869824,
          -0.19740429399545154,
          -2.464841424106378,
          -0.8367326516922796,
          -1.784665752306031,
          -0.22786206228857037,
          -0.05747200108715722,
          -0.2582444417187888,
          -0.5840818609797201,
          -0.6447426754570369,
          -0.7890790059168368,
          0.23016315567803003,
          -1.267679972953894,
          0.11816464469909889,
          0.53265482704174,
          -1.2698235619164742,
          -1.8768988863675784,
          -0.9104585436306738,
          0.5197942871049583,
          -1.1344331642903294,
          0.992329649408986,
          -0.23854074055432464,
          -0.1930210849793099,
          0.6095404688520194,
          -1.232825526706406,
          -1.5328054495473706,
          0.3036487187896314,
          -0.2579415954354775,
          -0.28408823698571445,
          0.31097652201661435,
          0.5365134318194574,
          -0.2523997745954963,
          -0.22895996185521222,
          1.7212536262694407,
          0.220474283657124,
          -2.2021749191469557,
          -0.8986508298431952,
          -0.3221635884228591,
          -0.40414847758021716,
          -0.5652901674053412,
          1.0766577310137808,
          0.5349076975629776,
          0.23762680428485808,
          -1.7126244683313148,
          -0.5928398888471055,
          -1.4949122694654595,
          -1.1661099302510365,
          0.46297332937027735,
          -1.3945134376948467,
          -0.3869679733820751,
          -0.9624273069822818,
          -1.2765077481404117,
          -0.8586057990186773,
          -1.3617817621094965,
          0.5289027802019703,
          0.6103126439405477,
          0.9832256017665594,
          0.5128656072910021,
          -0.4379259719293449,
          -0.6556385330952424,
          0.14179110527076172,
          -0.01073393938291526,
          0.5485346127017294,
          1.2238687868347427,
          1.3552631701641884,
          -0.679197152670297,
          1.4246054066122478,
          0.37843614621800514,
          -0.33839561042916416,
          0.595800624621955,
          0.2134554912461374,
          1.115174003760538,
          0.8652782710066977,
          0.3619724278187933,
          -0.9215434485902071,
          0.8922369823809136,
          -0.21678248120535829,
          -0.688812085998554,
          0.4169838531764566,
          0.2484314725645371
         ],
         "y": [
          -0.6513797764818611,
          0.5244019427590942,
          -1.1744674888572253,
          0.43368191568401226,
          0.899497260401665,
          -1.1445625650980764,
          0.07099522324692333,
          0.04362068821287567,
          -0.8160348335399022,
          0.1626016136310631,
          -0.7298670162319529,
          0.6713855417304806,
          -0.4897210754965677,
          -0.48252481799299574,
          -1.3139286582223493,
          0.9707580321863382,
          -1.1464067098017479,
          -1.6598898005122826,
          0.23742605508299555,
          2.6643609903481145,
          0.22610339598619442,
          0.6649669769165972,
          0.9281709465845623,
          0.9791321813439632,
          0.8762934680617513,
          -0.28943460277957755,
          -0.028190662231939393,
          0.2719755628483441,
          0.8570323675771371,
          -0.9874367202861509,
          1.1186820362029204,
          0.12441702071829709,
          -0.7566677889736816,
          0.5261667781482235,
          0.8229391933147238,
          1.0237625257527891,
          -1.1075967095024015,
          0.6989216003060206,
          0.4484205570752432,
          -0.26803786635302745,
          -0.6634160128961857,
          2.335734557413926,
          -1.434184074279899,
          0.2473602698192445,
          0.22238480469788974,
          -0.2677583598956593,
          0.2725413480059053,
          -0.8395778183942763,
          -0.661834594922329,
          -0.27007302620888896,
          -0.2474487320510582,
          -1.7686789507801906,
          -0.6927976504687269,
          -0.5679102310983882,
          -0.1715477136966996,
          -1.295629485531873,
          0.749114656046574,
          -0.4396779137233732,
          0.881864840173589,
          0.6699484712192457,
          -0.9865989035422554,
          0.8041516446982689,
          0.5708137463595715,
          -0.3544348711895968,
          -0.4411283148910683,
          -0.012678521787541109,
          -0.15374985521185416,
          1.0354303578331185,
          1.3043066720596153,
          -0.8746890120010864,
          0.08458332717612128,
          -0.8003519447971019,
          -0.6851446620945236,
          -1.1559883622724791,
          0.27707248332228673,
          1.4398769778179106,
          -1.574198276171295,
          -0.10824476202121064,
          -0.878756138704042,
          0.9528462091562935,
          0.36882014943302904,
          0.701962408764391,
          0.12515471481787668,
          0.9043374679657142,
          0.2254823419787821,
          0.4958042695863272,
          -0.5975032114557614,
          0.7257348296841276,
          0.4855953408620199,
          -3.3825219320437827,
          0.5322162490593761,
          0.05039546272046297,
          0.10839147887182421,
          -2.015338751110118,
          0.643382932891098,
          -0.8632757680204926,
          1.1845968063934953,
          -1.0762885247087823,
          -0.2673821262177926,
          0.6680121061201801
         ]
        }
       ],
       "layout": {
        "legend": {
         "bgcolor": "#F5F6F9",
         "font": {
          "color": "#4D5663"
         }
        },
        "paper_bgcolor": "#F5F6F9",
        "plot_bgcolor": "#F5F6F9",
        "template": {
         "data": {
          "bar": [
           {
            "error_x": {
             "color": "#2a3f5f"
            },
            "error_y": {
             "color": "#2a3f5f"
            },
            "marker": {
             "line": {
              "color": "#E5ECF6",
              "width": 0.5
             },
             "pattern": {
              "fillmode": "overlay",
              "size": 10,
              "solidity": 0.2
             }
            },
            "type": "bar"
           }
          ],
          "barpolar": [
           {
            "marker": {
             "line": {
              "color": "#E5ECF6",
              "width": 0.5
             },
             "pattern": {
              "fillmode": "overlay",
              "size": 10,
              "solidity": 0.2
             }
            },
            "type": "barpolar"
           }
          ],
          "carpet": [
           {
            "aaxis": {
             "endlinecolor": "#2a3f5f",
             "gridcolor": "white",
             "linecolor": "white",
             "minorgridcolor": "white",
             "startlinecolor": "#2a3f5f"
            },
            "baxis": {
             "endlinecolor": "#2a3f5f",
             "gridcolor": "white",
             "linecolor": "white",
             "minorgridcolor": "white",
             "startlinecolor": "#2a3f5f"
            },
            "type": "carpet"
           }
          ],
          "choropleth": [
           {
            "colorbar": {
             "outlinewidth": 0,
             "ticks": ""
            },
            "type": "choropleth"
           }
          ],
          "contour": [
           {
            "colorbar": {
             "outlinewidth": 0,
             "ticks": ""
            },
            "colorscale": [
             [
              0,
              "#0d0887"
             ],
             [
              0.1111111111111111,
              "#46039f"
             ],
             [
              0.2222222222222222,
              "#7201a8"
             ],
             [
              0.3333333333333333,
              "#9c179e"
             ],
             [
              0.4444444444444444,
              "#bd3786"
             ],
             [
              0.5555555555555556,
              "#d8576b"
             ],
             [
              0.6666666666666666,
              "#ed7953"
             ],
             [
              0.7777777777777778,
              "#fb9f3a"
             ],
             [
              0.8888888888888888,
              "#fdca26"
             ],
             [
              1,
              "#f0f921"
             ]
            ],
            "type": "contour"
           }
          ],
          "contourcarpet": [
           {
            "colorbar": {
             "outlinewidth": 0,
             "ticks": ""
            },
            "type": "contourcarpet"
           }
          ],
          "heatmap": [
           {
            "colorbar": {
             "outlinewidth": 0,
             "ticks": ""
            },
            "colorscale": [
             [
              0,
              "#0d0887"
             ],
             [
              0.1111111111111111,
              "#46039f"
             ],
             [
              0.2222222222222222,
              "#7201a8"
             ],
             [
              0.3333333333333333,
              "#9c179e"
             ],
             [
              0.4444444444444444,
              "#bd3786"
             ],
             [
              0.5555555555555556,
              "#d8576b"
             ],
             [
              0.6666666666666666,
              "#ed7953"
             ],
             [
              0.7777777777777778,
              "#fb9f3a"
             ],
             [
              0.8888888888888888,
              "#fdca26"
             ],
             [
              1,
              "#f0f921"
             ]
            ],
            "type": "heatmap"
           }
          ],
          "heatmapgl": [
           {
            "colorbar": {
             "outlinewidth": 0,
             "ticks": ""
            },
            "colorscale": [
             [
              0,
              "#0d0887"
             ],
             [
              0.1111111111111111,
              "#46039f"
             ],
             [
              0.2222222222222222,
              "#7201a8"
             ],
             [
              0.3333333333333333,
              "#9c179e"
             ],
             [
              0.4444444444444444,
              "#bd3786"
             ],
             [
              0.5555555555555556,
              "#d8576b"
             ],
             [
              0.6666666666666666,
              "#ed7953"
             ],
             [
              0.7777777777777778,
              "#fb9f3a"
             ],
             [
              0.8888888888888888,
              "#fdca26"
             ],
             [
              1,
              "#f0f921"
             ]
            ],
            "type": "heatmapgl"
           }
          ],
          "histogram": [
           {
            "marker": {
             "pattern": {
              "fillmode": "overlay",
              "size": 10,
              "solidity": 0.2
             }
            },
            "type": "histogram"
           }
          ],
          "histogram2d": [
           {
            "colorbar": {
             "outlinewidth": 0,
             "ticks": ""
            },
            "colorscale": [
             [
              0,
              "#0d0887"
             ],
             [
              0.1111111111111111,
              "#46039f"
             ],
             [
              0.2222222222222222,
              "#7201a8"
             ],
             [
              0.3333333333333333,
              "#9c179e"
             ],
             [
              0.4444444444444444,
              "#bd3786"
             ],
             [
              0.5555555555555556,
              "#d8576b"
             ],
             [
              0.6666666666666666,
              "#ed7953"
             ],
             [
              0.7777777777777778,
              "#fb9f3a"
             ],
             [
              0.8888888888888888,
              "#fdca26"
             ],
             [
              1,
              "#f0f921"
             ]
            ],
            "type": "histogram2d"
           }
          ],
          "histogram2dcontour": [
           {
            "colorbar": {
             "outlinewidth": 0,
             "ticks": ""
            },
            "colorscale": [
             [
              0,
              "#0d0887"
             ],
             [
              0.1111111111111111,
              "#46039f"
             ],
             [
              0.2222222222222222,
              "#7201a8"
             ],
             [
              0.3333333333333333,
              "#9c179e"
             ],
             [
              0.4444444444444444,
              "#bd3786"
             ],
             [
              0.5555555555555556,
              "#d8576b"
             ],
             [
              0.6666666666666666,
              "#ed7953"
             ],
             [
              0.7777777777777778,
              "#fb9f3a"
             ],
             [
              0.8888888888888888,
              "#fdca26"
             ],
             [
              1,
              "#f0f921"
             ]
            ],
            "type": "histogram2dcontour"
           }
          ],
          "mesh3d": [
           {
            "colorbar": {
             "outlinewidth": 0,
             "ticks": ""
            },
            "type": "mesh3d"
           }
          ],
          "parcoords": [
           {
            "line": {
             "colorbar": {
              "outlinewidth": 0,
              "ticks": ""
             }
            },
            "type": "parcoords"
           }
          ],
          "pie": [
           {
            "automargin": true,
            "type": "pie"
           }
          ],
          "scatter": [
           {
            "marker": {
             "colorbar": {
              "outlinewidth": 0,
              "ticks": ""
             }
            },
            "type": "scatter"
           }
          ],
          "scatter3d": [
           {
            "line": {
             "colorbar": {
              "outlinewidth": 0,
              "ticks": ""
             }
            },
            "marker": {
             "colorbar": {
              "outlinewidth": 0,
              "ticks": ""
             }
            },
            "type": "scatter3d"
           }
          ],
          "scattercarpet": [
           {
            "marker": {
             "colorbar": {
              "outlinewidth": 0,
              "ticks": ""
             }
            },
            "type": "scattercarpet"
           }
          ],
          "scattergeo": [
           {
            "marker": {
             "colorbar": {
              "outlinewidth": 0,
              "ticks": ""
             }
            },
            "type": "scattergeo"
           }
          ],
          "scattergl": [
           {
            "marker": {
             "colorbar": {
              "outlinewidth": 0,
              "ticks": ""
             }
            },
            "type": "scattergl"
           }
          ],
          "scattermapbox": [
           {
            "marker": {
             "colorbar": {
              "outlinewidth": 0,
              "ticks": ""
             }
            },
            "type": "scattermapbox"
           }
          ],
          "scatterpolar": [
           {
            "marker": {
             "colorbar": {
              "outlinewidth": 0,
              "ticks": ""
             }
            },
            "type": "scatterpolar"
           }
          ],
          "scatterpolargl": [
           {
            "marker": {
             "colorbar": {
              "outlinewidth": 0,
              "ticks": ""
             }
            },
            "type": "scatterpolargl"
           }
          ],
          "scatterternary": [
           {
            "marker": {
             "colorbar": {
              "outlinewidth": 0,
              "ticks": ""
             }
            },
            "type": "scatterternary"
           }
          ],
          "surface": [
           {
            "colorbar": {
             "outlinewidth": 0,
             "ticks": ""
            },
            "colorscale": [
             [
              0,
              "#0d0887"
             ],
             [
              0.1111111111111111,
              "#46039f"
             ],
             [
              0.2222222222222222,
              "#7201a8"
             ],
             [
              0.3333333333333333,
              "#9c179e"
             ],
             [
              0.4444444444444444,
              "#bd3786"
             ],
             [
              0.5555555555555556,
              "#d8576b"
             ],
             [
              0.6666666666666666,
              "#ed7953"
             ],
             [
              0.7777777777777778,
              "#fb9f3a"
             ],
             [
              0.8888888888888888,
              "#fdca26"
             ],
             [
              1,
              "#f0f921"
             ]
            ],
            "type": "surface"
           }
          ],
          "table": [
           {
            "cells": {
             "fill": {
              "color": "#EBF0F8"
             },
             "line": {
              "color": "white"
             }
            },
            "header": {
             "fill": {
              "color": "#C8D4E3"
             },
             "line": {
              "color": "white"
             }
            },
            "type": "table"
           }
          ]
         },
         "layout": {
          "annotationdefaults": {
           "arrowcolor": "#2a3f5f",
           "arrowhead": 0,
           "arrowwidth": 1
          },
          "autotypenumbers": "strict",
          "coloraxis": {
           "colorbar": {
            "outlinewidth": 0,
            "ticks": ""
           }
          },
          "colorscale": {
           "diverging": [
            [
             0,
             "#8e0152"
            ],
            [
             0.1,
             "#c51b7d"
            ],
            [
             0.2,
             "#de77ae"
            ],
            [
             0.3,
             "#f1b6da"
            ],
            [
             0.4,
             "#fde0ef"
            ],
            [
             0.5,
             "#f7f7f7"
            ],
            [
             0.6,
             "#e6f5d0"
            ],
            [
             0.7,
             "#b8e186"
            ],
            [
             0.8,
             "#7fbc41"
            ],
            [
             0.9,
             "#4d9221"
            ],
            [
             1,
             "#276419"
            ]
           ],
           "sequential": [
            [
             0,
             "#0d0887"
            ],
            [
             0.1111111111111111,
             "#46039f"
            ],
            [
             0.2222222222222222,
             "#7201a8"
            ],
            [
             0.3333333333333333,
             "#9c179e"
            ],
            [
             0.4444444444444444,
             "#bd3786"
            ],
            [
             0.5555555555555556,
             "#d8576b"
            ],
            [
             0.6666666666666666,
             "#ed7953"
            ],
            [
             0.7777777777777778,
             "#fb9f3a"
            ],
            [
             0.8888888888888888,
             "#fdca26"
            ],
            [
             1,
             "#f0f921"
            ]
           ],
           "sequentialminus": [
            [
             0,
             "#0d0887"
            ],
            [
             0.1111111111111111,
             "#46039f"
            ],
            [
             0.2222222222222222,
             "#7201a8"
            ],
            [
             0.3333333333333333,
             "#9c179e"
            ],
            [
             0.4444444444444444,
             "#bd3786"
            ],
            [
             0.5555555555555556,
             "#d8576b"
            ],
            [
             0.6666666666666666,
             "#ed7953"
            ],
            [
             0.7777777777777778,
             "#fb9f3a"
            ],
            [
             0.8888888888888888,
             "#fdca26"
            ],
            [
             1,
             "#f0f921"
            ]
           ]
          },
          "colorway": [
           "#636efa",
           "#EF553B",
           "#00cc96",
           "#ab63fa",
           "#FFA15A",
           "#19d3f3",
           "#FF6692",
           "#B6E880",
           "#FF97FF",
           "#FECB52"
          ],
          "font": {
           "color": "#2a3f5f"
          },
          "geo": {
           "bgcolor": "white",
           "lakecolor": "white",
           "landcolor": "#E5ECF6",
           "showlakes": true,
           "showland": true,
           "subunitcolor": "white"
          },
          "hoverlabel": {
           "align": "left"
          },
          "hovermode": "closest",
          "mapbox": {
           "style": "light"
          },
          "paper_bgcolor": "white",
          "plot_bgcolor": "#E5ECF6",
          "polar": {
           "angularaxis": {
            "gridcolor": "white",
            "linecolor": "white",
            "ticks": ""
           },
           "bgcolor": "#E5ECF6",
           "radialaxis": {
            "gridcolor": "white",
            "linecolor": "white",
            "ticks": ""
           }
          },
          "scene": {
           "xaxis": {
            "backgroundcolor": "#E5ECF6",
            "gridcolor": "white",
            "gridwidth": 2,
            "linecolor": "white",
            "showbackground": true,
            "ticks": "",
            "zerolinecolor": "white"
           },
           "yaxis": {
            "backgroundcolor": "#E5ECF6",
            "gridcolor": "white",
            "gridwidth": 2,
            "linecolor": "white",
            "showbackground": true,
            "ticks": "",
            "zerolinecolor": "white"
           },
           "zaxis": {
            "backgroundcolor": "#E5ECF6",
            "gridcolor": "white",
            "gridwidth": 2,
            "linecolor": "white",
            "showbackground": true,
            "ticks": "",
            "zerolinecolor": "white"
           }
          },
          "shapedefaults": {
           "line": {
            "color": "#2a3f5f"
           }
          },
          "ternary": {
           "aaxis": {
            "gridcolor": "white",
            "linecolor": "white",
            "ticks": ""
           },
           "baxis": {
            "gridcolor": "white",
            "linecolor": "white",
            "ticks": ""
           },
           "bgcolor": "#E5ECF6",
           "caxis": {
            "gridcolor": "white",
            "linecolor": "white",
            "ticks": ""
           }
          },
          "title": {
           "x": 0.05
          },
          "xaxis": {
           "automargin": true,
           "gridcolor": "white",
           "linecolor": "white",
           "ticks": "",
           "title": {
            "standoff": 15
           },
           "zerolinecolor": "white",
           "zerolinewidth": 2
          },
          "yaxis": {
           "automargin": true,
           "gridcolor": "white",
           "linecolor": "white",
           "ticks": "",
           "title": {
            "standoff": 15
           },
           "zerolinecolor": "white",
           "zerolinewidth": 2
          }
         }
        },
        "title": {
         "font": {
          "color": "#4D5663"
         }
        },
        "xaxis": {
         "gridcolor": "#E1E5ED",
         "showgrid": true,
         "tickfont": {
          "color": "#4D5663"
         },
         "title": {
          "font": {
           "color": "#4D5663"
          },
          "text": ""
         },
         "zerolinecolor": "#E1E5ED"
        },
        "yaxis": {
         "gridcolor": "#E1E5ED",
         "showgrid": true,
         "tickfont": {
          "color": "#4D5663"
         },
         "title": {
          "font": {
           "color": "#4D5663"
          },
          "text": ""
         },
         "zerolinecolor": "#E1E5ED"
        }
       }
      },
      "text/html": [
       "<div>                            <div id=\"a322e2aa-6103-496b-8893-51e878dcee8a\" class=\"plotly-graph-div\" style=\"height:525px; width:100%;\"></div>            <script type=\"text/javascript\">                require([\"plotly\"], function(Plotly) {                    window.PLOTLYENV=window.PLOTLYENV || {};\n",
       "                    window.PLOTLYENV.BASE_URL='https://plot.ly';                                    if (document.getElementById(\"a322e2aa-6103-496b-8893-51e878dcee8a\")) {                    Plotly.newPlot(                        \"a322e2aa-6103-496b-8893-51e878dcee8a\",                        [{\"line\":{\"color\":\"rgba(255, 153, 51, 1.0)\",\"dash\":\"solid\",\"shape\":\"linear\",\"width\":1.3},\"marker\":{\"size\":20,\"symbol\":\"circle\"},\"mode\":\"markers\",\"name\":\"B\",\"text\":\"\",\"x\":[-0.7156901301506218,-2.4644340092683623,-0.5020478490356647,0.18831575059229694,-0.9395232600804589,0.6370608619021374,0.3181842436496653,-1.925815864693647,-1.601490197748081,0.7504852699910404,0.34651704071887407,-0.3782613877092965,0.50360062282216,1.1783072011157854,-0.39512918539645014,-0.27615642716525757,-0.6955150924719622,0.22125184868079706,0.3468389819905759,-1.417697236866669,1.115510266869824,-0.19740429399545154,-2.464841424106378,-0.8367326516922796,-1.784665752306031,-0.22786206228857037,-0.05747200108715722,-0.2582444417187888,-0.5840818609797201,-0.6447426754570369,-0.7890790059168368,0.23016315567803003,-1.267679972953894,0.11816464469909889,0.53265482704174,-1.2698235619164742,-1.8768988863675784,-0.9104585436306738,0.5197942871049583,-1.1344331642903294,0.992329649408986,-0.23854074055432464,-0.1930210849793099,0.6095404688520194,-1.232825526706406,-1.5328054495473706,0.3036487187896314,-0.2579415954354775,-0.28408823698571445,0.31097652201661435,0.5365134318194574,-0.2523997745954963,-0.22895996185521222,1.7212536262694407,0.220474283657124,-2.2021749191469557,-0.8986508298431952,-0.3221635884228591,-0.40414847758021716,-0.5652901674053412,1.0766577310137808,0.5349076975629776,0.23762680428485808,-1.7126244683313148,-0.5928398888471055,-1.4949122694654595,-1.1661099302510365,0.46297332937027735,-1.3945134376948467,-0.3869679733820751,-0.9624273069822818,-1.2765077481404117,-0.8586057990186773,-1.3617817621094965,0.5289027802019703,0.6103126439405477,0.9832256017665594,0.5128656072910021,-0.4379259719293449,-0.6556385330952424,0.14179110527076172,-0.01073393938291526,0.5485346127017294,1.2238687868347427,1.3552631701641884,-0.679197152670297,1.4246054066122478,0.37843614621800514,-0.33839561042916416,0.595800624621955,0.2134554912461374,1.115174003760538,0.8652782710066977,0.3619724278187933,-0.9215434485902071,0.8922369823809136,-0.21678248120535829,-0.688812085998554,0.4169838531764566,0.2484314725645371],\"y\":[-0.6513797764818611,0.5244019427590942,-1.1744674888572253,0.43368191568401226,0.899497260401665,-1.1445625650980764,0.07099522324692333,0.04362068821287567,-0.8160348335399022,0.1626016136310631,-0.7298670162319529,0.6713855417304806,-0.4897210754965677,-0.48252481799299574,-1.3139286582223493,0.9707580321863382,-1.1464067098017479,-1.6598898005122826,0.23742605508299555,2.6643609903481145,0.22610339598619442,0.6649669769165972,0.9281709465845623,0.9791321813439632,0.8762934680617513,-0.28943460277957755,-0.028190662231939393,0.2719755628483441,0.8570323675771371,-0.9874367202861509,1.1186820362029204,0.12441702071829709,-0.7566677889736816,0.5261667781482235,0.8229391933147238,1.0237625257527891,-1.1075967095024015,0.6989216003060206,0.4484205570752432,-0.26803786635302745,-0.6634160128961857,2.335734557413926,-1.434184074279899,0.2473602698192445,0.22238480469788974,-0.2677583598956593,0.2725413480059053,-0.8395778183942763,-0.661834594922329,-0.27007302620888896,-0.2474487320510582,-1.7686789507801906,-0.6927976504687269,-0.5679102310983882,-0.1715477136966996,-1.295629485531873,0.749114656046574,-0.4396779137233732,0.881864840173589,0.6699484712192457,-0.9865989035422554,0.8041516446982689,0.5708137463595715,-0.3544348711895968,-0.4411283148910683,-0.012678521787541109,-0.15374985521185416,1.0354303578331185,1.3043066720596153,-0.8746890120010864,0.08458332717612128,-0.8003519447971019,-0.6851446620945236,-1.1559883622724791,0.27707248332228673,1.4398769778179106,-1.574198276171295,-0.10824476202121064,-0.878756138704042,0.9528462091562935,0.36882014943302904,0.701962408764391,0.12515471481787668,0.9043374679657142,0.2254823419787821,0.4958042695863272,-0.5975032114557614,0.7257348296841276,0.4855953408620199,-3.3825219320437827,0.5322162490593761,0.05039546272046297,0.10839147887182421,-2.015338751110118,0.643382932891098,-0.8632757680204926,1.1845968063934953,-1.0762885247087823,-0.2673821262177926,0.6680121061201801],\"type\":\"scatter\"}],                        {\"legend\":{\"bgcolor\":\"#F5F6F9\",\"font\":{\"color\":\"#4D5663\"}},\"paper_bgcolor\":\"#F5F6F9\",\"plot_bgcolor\":\"#F5F6F9\",\"template\":{\"data\":{\"barpolar\":[{\"marker\":{\"line\":{\"color\":\"#E5ECF6\",\"width\":0.5},\"pattern\":{\"fillmode\":\"overlay\",\"size\":10,\"solidity\":0.2}},\"type\":\"barpolar\"}],\"bar\":[{\"error_x\":{\"color\":\"#2a3f5f\"},\"error_y\":{\"color\":\"#2a3f5f\"},\"marker\":{\"line\":{\"color\":\"#E5ECF6\",\"width\":0.5},\"pattern\":{\"fillmode\":\"overlay\",\"size\":10,\"solidity\":0.2}},\"type\":\"bar\"}],\"carpet\":[{\"aaxis\":{\"endlinecolor\":\"#2a3f5f\",\"gridcolor\":\"white\",\"linecolor\":\"white\",\"minorgridcolor\":\"white\",\"startlinecolor\":\"#2a3f5f\"},\"baxis\":{\"endlinecolor\":\"#2a3f5f\",\"gridcolor\":\"white\",\"linecolor\":\"white\",\"minorgridcolor\":\"white\",\"startlinecolor\":\"#2a3f5f\"},\"type\":\"carpet\"}],\"choropleth\":[{\"colorbar\":{\"outlinewidth\":0,\"ticks\":\"\"},\"type\":\"choropleth\"}],\"contourcarpet\":[{\"colorbar\":{\"outlinewidth\":0,\"ticks\":\"\"},\"type\":\"contourcarpet\"}],\"contour\":[{\"colorbar\":{\"outlinewidth\":0,\"ticks\":\"\"},\"colorscale\":[[0.0,\"#0d0887\"],[0.1111111111111111,\"#46039f\"],[0.2222222222222222,\"#7201a8\"],[0.3333333333333333,\"#9c179e\"],[0.4444444444444444,\"#bd3786\"],[0.5555555555555556,\"#d8576b\"],[0.6666666666666666,\"#ed7953\"],[0.7777777777777778,\"#fb9f3a\"],[0.8888888888888888,\"#fdca26\"],[1.0,\"#f0f921\"]],\"type\":\"contour\"}],\"heatmapgl\":[{\"colorbar\":{\"outlinewidth\":0,\"ticks\":\"\"},\"colorscale\":[[0.0,\"#0d0887\"],[0.1111111111111111,\"#46039f\"],[0.2222222222222222,\"#7201a8\"],[0.3333333333333333,\"#9c179e\"],[0.4444444444444444,\"#bd3786\"],[0.5555555555555556,\"#d8576b\"],[0.6666666666666666,\"#ed7953\"],[0.7777777777777778,\"#fb9f3a\"],[0.8888888888888888,\"#fdca26\"],[1.0,\"#f0f921\"]],\"type\":\"heatmapgl\"}],\"heatmap\":[{\"colorbar\":{\"outlinewidth\":0,\"ticks\":\"\"},\"colorscale\":[[0.0,\"#0d0887\"],[0.1111111111111111,\"#46039f\"],[0.2222222222222222,\"#7201a8\"],[0.3333333333333333,\"#9c179e\"],[0.4444444444444444,\"#bd3786\"],[0.5555555555555556,\"#d8576b\"],[0.6666666666666666,\"#ed7953\"],[0.7777777777777778,\"#fb9f3a\"],[0.8888888888888888,\"#fdca26\"],[1.0,\"#f0f921\"]],\"type\":\"heatmap\"}],\"histogram2dcontour\":[{\"colorbar\":{\"outlinewidth\":0,\"ticks\":\"\"},\"colorscale\":[[0.0,\"#0d0887\"],[0.1111111111111111,\"#46039f\"],[0.2222222222222222,\"#7201a8\"],[0.3333333333333333,\"#9c179e\"],[0.4444444444444444,\"#bd3786\"],[0.5555555555555556,\"#d8576b\"],[0.6666666666666666,\"#ed7953\"],[0.7777777777777778,\"#fb9f3a\"],[0.8888888888888888,\"#fdca26\"],[1.0,\"#f0f921\"]],\"type\":\"histogram2dcontour\"}],\"histogram2d\":[{\"colorbar\":{\"outlinewidth\":0,\"ticks\":\"\"},\"colorscale\":[[0.0,\"#0d0887\"],[0.1111111111111111,\"#46039f\"],[0.2222222222222222,\"#7201a8\"],[0.3333333333333333,\"#9c179e\"],[0.4444444444444444,\"#bd3786\"],[0.5555555555555556,\"#d8576b\"],[0.6666666666666666,\"#ed7953\"],[0.7777777777777778,\"#fb9f3a\"],[0.8888888888888888,\"#fdca26\"],[1.0,\"#f0f921\"]],\"type\":\"histogram2d\"}],\"histogram\":[{\"marker\":{\"pattern\":{\"fillmode\":\"overlay\",\"size\":10,\"solidity\":0.2}},\"type\":\"histogram\"}],\"mesh3d\":[{\"colorbar\":{\"outlinewidth\":0,\"ticks\":\"\"},\"type\":\"mesh3d\"}],\"parcoords\":[{\"line\":{\"colorbar\":{\"outlinewidth\":0,\"ticks\":\"\"}},\"type\":\"parcoords\"}],\"pie\":[{\"automargin\":true,\"type\":\"pie\"}],\"scatter3d\":[{\"line\":{\"colorbar\":{\"outlinewidth\":0,\"ticks\":\"\"}},\"marker\":{\"colorbar\":{\"outlinewidth\":0,\"ticks\":\"\"}},\"type\":\"scatter3d\"}],\"scattercarpet\":[{\"marker\":{\"colorbar\":{\"outlinewidth\":0,\"ticks\":\"\"}},\"type\":\"scattercarpet\"}],\"scattergeo\":[{\"marker\":{\"colorbar\":{\"outlinewidth\":0,\"ticks\":\"\"}},\"type\":\"scattergeo\"}],\"scattergl\":[{\"marker\":{\"colorbar\":{\"outlinewidth\":0,\"ticks\":\"\"}},\"type\":\"scattergl\"}],\"scattermapbox\":[{\"marker\":{\"colorbar\":{\"outlinewidth\":0,\"ticks\":\"\"}},\"type\":\"scattermapbox\"}],\"scatterpolargl\":[{\"marker\":{\"colorbar\":{\"outlinewidth\":0,\"ticks\":\"\"}},\"type\":\"scatterpolargl\"}],\"scatterpolar\":[{\"marker\":{\"colorbar\":{\"outlinewidth\":0,\"ticks\":\"\"}},\"type\":\"scatterpolar\"}],\"scatter\":[{\"marker\":{\"colorbar\":{\"outlinewidth\":0,\"ticks\":\"\"}},\"type\":\"scatter\"}],\"scatterternary\":[{\"marker\":{\"colorbar\":{\"outlinewidth\":0,\"ticks\":\"\"}},\"type\":\"scatterternary\"}],\"surface\":[{\"colorbar\":{\"outlinewidth\":0,\"ticks\":\"\"},\"colorscale\":[[0.0,\"#0d0887\"],[0.1111111111111111,\"#46039f\"],[0.2222222222222222,\"#7201a8\"],[0.3333333333333333,\"#9c179e\"],[0.4444444444444444,\"#bd3786\"],[0.5555555555555556,\"#d8576b\"],[0.6666666666666666,\"#ed7953\"],[0.7777777777777778,\"#fb9f3a\"],[0.8888888888888888,\"#fdca26\"],[1.0,\"#f0f921\"]],\"type\":\"surface\"}],\"table\":[{\"cells\":{\"fill\":{\"color\":\"#EBF0F8\"},\"line\":{\"color\":\"white\"}},\"header\":{\"fill\":{\"color\":\"#C8D4E3\"},\"line\":{\"color\":\"white\"}},\"type\":\"table\"}]},\"layout\":{\"annotationdefaults\":{\"arrowcolor\":\"#2a3f5f\",\"arrowhead\":0,\"arrowwidth\":1},\"autotypenumbers\":\"strict\",\"coloraxis\":{\"colorbar\":{\"outlinewidth\":0,\"ticks\":\"\"}},\"colorscale\":{\"diverging\":[[0,\"#8e0152\"],[0.1,\"#c51b7d\"],[0.2,\"#de77ae\"],[0.3,\"#f1b6da\"],[0.4,\"#fde0ef\"],[0.5,\"#f7f7f7\"],[0.6,\"#e6f5d0\"],[0.7,\"#b8e186\"],[0.8,\"#7fbc41\"],[0.9,\"#4d9221\"],[1,\"#276419\"]],\"sequential\":[[0.0,\"#0d0887\"],[0.1111111111111111,\"#46039f\"],[0.2222222222222222,\"#7201a8\"],[0.3333333333333333,\"#9c179e\"],[0.4444444444444444,\"#bd3786\"],[0.5555555555555556,\"#d8576b\"],[0.6666666666666666,\"#ed7953\"],[0.7777777777777778,\"#fb9f3a\"],[0.8888888888888888,\"#fdca26\"],[1.0,\"#f0f921\"]],\"sequentialminus\":[[0.0,\"#0d0887\"],[0.1111111111111111,\"#46039f\"],[0.2222222222222222,\"#7201a8\"],[0.3333333333333333,\"#9c179e\"],[0.4444444444444444,\"#bd3786\"],[0.5555555555555556,\"#d8576b\"],[0.6666666666666666,\"#ed7953\"],[0.7777777777777778,\"#fb9f3a\"],[0.8888888888888888,\"#fdca26\"],[1.0,\"#f0f921\"]]},\"colorway\":[\"#636efa\",\"#EF553B\",\"#00cc96\",\"#ab63fa\",\"#FFA15A\",\"#19d3f3\",\"#FF6692\",\"#B6E880\",\"#FF97FF\",\"#FECB52\"],\"font\":{\"color\":\"#2a3f5f\"},\"geo\":{\"bgcolor\":\"white\",\"lakecolor\":\"white\",\"landcolor\":\"#E5ECF6\",\"showlakes\":true,\"showland\":true,\"subunitcolor\":\"white\"},\"hoverlabel\":{\"align\":\"left\"},\"hovermode\":\"closest\",\"mapbox\":{\"style\":\"light\"},\"paper_bgcolor\":\"white\",\"plot_bgcolor\":\"#E5ECF6\",\"polar\":{\"angularaxis\":{\"gridcolor\":\"white\",\"linecolor\":\"white\",\"ticks\":\"\"},\"bgcolor\":\"#E5ECF6\",\"radialaxis\":{\"gridcolor\":\"white\",\"linecolor\":\"white\",\"ticks\":\"\"}},\"scene\":{\"xaxis\":{\"backgroundcolor\":\"#E5ECF6\",\"gridcolor\":\"white\",\"gridwidth\":2,\"linecolor\":\"white\",\"showbackground\":true,\"ticks\":\"\",\"zerolinecolor\":\"white\"},\"yaxis\":{\"backgroundcolor\":\"#E5ECF6\",\"gridcolor\":\"white\",\"gridwidth\":2,\"linecolor\":\"white\",\"showbackground\":true,\"ticks\":\"\",\"zerolinecolor\":\"white\"},\"zaxis\":{\"backgroundcolor\":\"#E5ECF6\",\"gridcolor\":\"white\",\"gridwidth\":2,\"linecolor\":\"white\",\"showbackground\":true,\"ticks\":\"\",\"zerolinecolor\":\"white\"}},\"shapedefaults\":{\"line\":{\"color\":\"#2a3f5f\"}},\"ternary\":{\"aaxis\":{\"gridcolor\":\"white\",\"linecolor\":\"white\",\"ticks\":\"\"},\"baxis\":{\"gridcolor\":\"white\",\"linecolor\":\"white\",\"ticks\":\"\"},\"bgcolor\":\"#E5ECF6\",\"caxis\":{\"gridcolor\":\"white\",\"linecolor\":\"white\",\"ticks\":\"\"}},\"title\":{\"x\":0.05},\"xaxis\":{\"automargin\":true,\"gridcolor\":\"white\",\"linecolor\":\"white\",\"ticks\":\"\",\"title\":{\"standoff\":15},\"zerolinecolor\":\"white\",\"zerolinewidth\":2},\"yaxis\":{\"automargin\":true,\"gridcolor\":\"white\",\"linecolor\":\"white\",\"ticks\":\"\",\"title\":{\"standoff\":15},\"zerolinecolor\":\"white\",\"zerolinewidth\":2}}},\"title\":{\"font\":{\"color\":\"#4D5663\"}},\"xaxis\":{\"gridcolor\":\"#E1E5ED\",\"showgrid\":true,\"tickfont\":{\"color\":\"#4D5663\"},\"title\":{\"font\":{\"color\":\"#4D5663\"},\"text\":\"\"},\"zerolinecolor\":\"#E1E5ED\"},\"yaxis\":{\"gridcolor\":\"#E1E5ED\",\"showgrid\":true,\"tickfont\":{\"color\":\"#4D5663\"},\"title\":{\"font\":{\"color\":\"#4D5663\"},\"text\":\"\"},\"zerolinecolor\":\"#E1E5ED\"}},                        {\"showLink\": true, \"linkText\": \"Export to plot.ly\", \"plotlyServerURL\": \"https://plot.ly\", \"responsive\": true}                    ).then(function(){\n",
       "                            \n",
       "var gd = document.getElementById('a322e2aa-6103-496b-8893-51e878dcee8a');\n",
       "var x = new MutationObserver(function (mutations, observer) {{\n",
       "        var display = window.getComputedStyle(gd).display;\n",
       "        if (!display || display === 'none') {{\n",
       "            console.log([gd, 'removed!']);\n",
       "            Plotly.purge(gd);\n",
       "            observer.disconnect();\n",
       "        }}\n",
       "}});\n",
       "\n",
       "// Listen for the removal of the full notebook cells\n",
       "var notebookContainer = gd.closest('#notebook-container');\n",
       "if (notebookContainer) {{\n",
       "    x.observe(notebookContainer, {childList: true});\n",
       "}}\n",
       "\n",
       "// Listen for the clearing of the current output cell\n",
       "var outputEl = gd.closest('.output');\n",
       "if (outputEl) {{\n",
       "    x.observe(outputEl, {childList: true});\n",
       "}}\n",
       "\n",
       "                        })                };                });            </script>        </div>"
      ]
     },
     "metadata": {},
     "output_type": "display_data"
    }
   ],
   "source": [
    "# scatter iplot with modes\n",
    "\n",
    "df.iplot(kind='scatter',x='A',y='B',mode='markers',size=20)"
   ]
  },
  {
   "cell_type": "code",
   "execution_count": 15,
   "id": "5a2b3103",
   "metadata": {},
   "outputs": [
    {
     "data": {
      "application/vnd.plotly.v1+json": {
       "config": {
        "linkText": "Export to plot.ly",
        "plotlyServerURL": "https://plot.ly",
        "showLink": true
       },
       "data": [
        {
         "marker": {
          "color": "rgba(255, 153, 51, 0.6)",
          "line": {
           "color": "rgba(255, 153, 51, 1.0)",
           "width": 1
          }
         },
         "name": "Values",
         "orientation": "v",
         "text": "",
         "type": "bar",
         "x": [
          "A",
          "B",
          "C"
         ],
         "y": [
          32,
          43,
          50
         ]
        }
       ],
       "layout": {
        "legend": {
         "bgcolor": "#F5F6F9",
         "font": {
          "color": "#4D5663"
         }
        },
        "paper_bgcolor": "#F5F6F9",
        "plot_bgcolor": "#F5F6F9",
        "template": {
         "data": {
          "bar": [
           {
            "error_x": {
             "color": "#2a3f5f"
            },
            "error_y": {
             "color": "#2a3f5f"
            },
            "marker": {
             "line": {
              "color": "#E5ECF6",
              "width": 0.5
             },
             "pattern": {
              "fillmode": "overlay",
              "size": 10,
              "solidity": 0.2
             }
            },
            "type": "bar"
           }
          ],
          "barpolar": [
           {
            "marker": {
             "line": {
              "color": "#E5ECF6",
              "width": 0.5
             },
             "pattern": {
              "fillmode": "overlay",
              "size": 10,
              "solidity": 0.2
             }
            },
            "type": "barpolar"
           }
          ],
          "carpet": [
           {
            "aaxis": {
             "endlinecolor": "#2a3f5f",
             "gridcolor": "white",
             "linecolor": "white",
             "minorgridcolor": "white",
             "startlinecolor": "#2a3f5f"
            },
            "baxis": {
             "endlinecolor": "#2a3f5f",
             "gridcolor": "white",
             "linecolor": "white",
             "minorgridcolor": "white",
             "startlinecolor": "#2a3f5f"
            },
            "type": "carpet"
           }
          ],
          "choropleth": [
           {
            "colorbar": {
             "outlinewidth": 0,
             "ticks": ""
            },
            "type": "choropleth"
           }
          ],
          "contour": [
           {
            "colorbar": {
             "outlinewidth": 0,
             "ticks": ""
            },
            "colorscale": [
             [
              0,
              "#0d0887"
             ],
             [
              0.1111111111111111,
              "#46039f"
             ],
             [
              0.2222222222222222,
              "#7201a8"
             ],
             [
              0.3333333333333333,
              "#9c179e"
             ],
             [
              0.4444444444444444,
              "#bd3786"
             ],
             [
              0.5555555555555556,
              "#d8576b"
             ],
             [
              0.6666666666666666,
              "#ed7953"
             ],
             [
              0.7777777777777778,
              "#fb9f3a"
             ],
             [
              0.8888888888888888,
              "#fdca26"
             ],
             [
              1,
              "#f0f921"
             ]
            ],
            "type": "contour"
           }
          ],
          "contourcarpet": [
           {
            "colorbar": {
             "outlinewidth": 0,
             "ticks": ""
            },
            "type": "contourcarpet"
           }
          ],
          "heatmap": [
           {
            "colorbar": {
             "outlinewidth": 0,
             "ticks": ""
            },
            "colorscale": [
             [
              0,
              "#0d0887"
             ],
             [
              0.1111111111111111,
              "#46039f"
             ],
             [
              0.2222222222222222,
              "#7201a8"
             ],
             [
              0.3333333333333333,
              "#9c179e"
             ],
             [
              0.4444444444444444,
              "#bd3786"
             ],
             [
              0.5555555555555556,
              "#d8576b"
             ],
             [
              0.6666666666666666,
              "#ed7953"
             ],
             [
              0.7777777777777778,
              "#fb9f3a"
             ],
             [
              0.8888888888888888,
              "#fdca26"
             ],
             [
              1,
              "#f0f921"
             ]
            ],
            "type": "heatmap"
           }
          ],
          "heatmapgl": [
           {
            "colorbar": {
             "outlinewidth": 0,
             "ticks": ""
            },
            "colorscale": [
             [
              0,
              "#0d0887"
             ],
             [
              0.1111111111111111,
              "#46039f"
             ],
             [
              0.2222222222222222,
              "#7201a8"
             ],
             [
              0.3333333333333333,
              "#9c179e"
             ],
             [
              0.4444444444444444,
              "#bd3786"
             ],
             [
              0.5555555555555556,
              "#d8576b"
             ],
             [
              0.6666666666666666,
              "#ed7953"
             ],
             [
              0.7777777777777778,
              "#fb9f3a"
             ],
             [
              0.8888888888888888,
              "#fdca26"
             ],
             [
              1,
              "#f0f921"
             ]
            ],
            "type": "heatmapgl"
           }
          ],
          "histogram": [
           {
            "marker": {
             "pattern": {
              "fillmode": "overlay",
              "size": 10,
              "solidity": 0.2
             }
            },
            "type": "histogram"
           }
          ],
          "histogram2d": [
           {
            "colorbar": {
             "outlinewidth": 0,
             "ticks": ""
            },
            "colorscale": [
             [
              0,
              "#0d0887"
             ],
             [
              0.1111111111111111,
              "#46039f"
             ],
             [
              0.2222222222222222,
              "#7201a8"
             ],
             [
              0.3333333333333333,
              "#9c179e"
             ],
             [
              0.4444444444444444,
              "#bd3786"
             ],
             [
              0.5555555555555556,
              "#d8576b"
             ],
             [
              0.6666666666666666,
              "#ed7953"
             ],
             [
              0.7777777777777778,
              "#fb9f3a"
             ],
             [
              0.8888888888888888,
              "#fdca26"
             ],
             [
              1,
              "#f0f921"
             ]
            ],
            "type": "histogram2d"
           }
          ],
          "histogram2dcontour": [
           {
            "colorbar": {
             "outlinewidth": 0,
             "ticks": ""
            },
            "colorscale": [
             [
              0,
              "#0d0887"
             ],
             [
              0.1111111111111111,
              "#46039f"
             ],
             [
              0.2222222222222222,
              "#7201a8"
             ],
             [
              0.3333333333333333,
              "#9c179e"
             ],
             [
              0.4444444444444444,
              "#bd3786"
             ],
             [
              0.5555555555555556,
              "#d8576b"
             ],
             [
              0.6666666666666666,
              "#ed7953"
             ],
             [
              0.7777777777777778,
              "#fb9f3a"
             ],
             [
              0.8888888888888888,
              "#fdca26"
             ],
             [
              1,
              "#f0f921"
             ]
            ],
            "type": "histogram2dcontour"
           }
          ],
          "mesh3d": [
           {
            "colorbar": {
             "outlinewidth": 0,
             "ticks": ""
            },
            "type": "mesh3d"
           }
          ],
          "parcoords": [
           {
            "line": {
             "colorbar": {
              "outlinewidth": 0,
              "ticks": ""
             }
            },
            "type": "parcoords"
           }
          ],
          "pie": [
           {
            "automargin": true,
            "type": "pie"
           }
          ],
          "scatter": [
           {
            "marker": {
             "colorbar": {
              "outlinewidth": 0,
              "ticks": ""
             }
            },
            "type": "scatter"
           }
          ],
          "scatter3d": [
           {
            "line": {
             "colorbar": {
              "outlinewidth": 0,
              "ticks": ""
             }
            },
            "marker": {
             "colorbar": {
              "outlinewidth": 0,
              "ticks": ""
             }
            },
            "type": "scatter3d"
           }
          ],
          "scattercarpet": [
           {
            "marker": {
             "colorbar": {
              "outlinewidth": 0,
              "ticks": ""
             }
            },
            "type": "scattercarpet"
           }
          ],
          "scattergeo": [
           {
            "marker": {
             "colorbar": {
              "outlinewidth": 0,
              "ticks": ""
             }
            },
            "type": "scattergeo"
           }
          ],
          "scattergl": [
           {
            "marker": {
             "colorbar": {
              "outlinewidth": 0,
              "ticks": ""
             }
            },
            "type": "scattergl"
           }
          ],
          "scattermapbox": [
           {
            "marker": {
             "colorbar": {
              "outlinewidth": 0,
              "ticks": ""
             }
            },
            "type": "scattermapbox"
           }
          ],
          "scatterpolar": [
           {
            "marker": {
             "colorbar": {
              "outlinewidth": 0,
              "ticks": ""
             }
            },
            "type": "scatterpolar"
           }
          ],
          "scatterpolargl": [
           {
            "marker": {
             "colorbar": {
              "outlinewidth": 0,
              "ticks": ""
             }
            },
            "type": "scatterpolargl"
           }
          ],
          "scatterternary": [
           {
            "marker": {
             "colorbar": {
              "outlinewidth": 0,
              "ticks": ""
             }
            },
            "type": "scatterternary"
           }
          ],
          "surface": [
           {
            "colorbar": {
             "outlinewidth": 0,
             "ticks": ""
            },
            "colorscale": [
             [
              0,
              "#0d0887"
             ],
             [
              0.1111111111111111,
              "#46039f"
             ],
             [
              0.2222222222222222,
              "#7201a8"
             ],
             [
              0.3333333333333333,
              "#9c179e"
             ],
             [
              0.4444444444444444,
              "#bd3786"
             ],
             [
              0.5555555555555556,
              "#d8576b"
             ],
             [
              0.6666666666666666,
              "#ed7953"
             ],
             [
              0.7777777777777778,
              "#fb9f3a"
             ],
             [
              0.8888888888888888,
              "#fdca26"
             ],
             [
              1,
              "#f0f921"
             ]
            ],
            "type": "surface"
           }
          ],
          "table": [
           {
            "cells": {
             "fill": {
              "color": "#EBF0F8"
             },
             "line": {
              "color": "white"
             }
            },
            "header": {
             "fill": {
              "color": "#C8D4E3"
             },
             "line": {
              "color": "white"
             }
            },
            "type": "table"
           }
          ]
         },
         "layout": {
          "annotationdefaults": {
           "arrowcolor": "#2a3f5f",
           "arrowhead": 0,
           "arrowwidth": 1
          },
          "autotypenumbers": "strict",
          "coloraxis": {
           "colorbar": {
            "outlinewidth": 0,
            "ticks": ""
           }
          },
          "colorscale": {
           "diverging": [
            [
             0,
             "#8e0152"
            ],
            [
             0.1,
             "#c51b7d"
            ],
            [
             0.2,
             "#de77ae"
            ],
            [
             0.3,
             "#f1b6da"
            ],
            [
             0.4,
             "#fde0ef"
            ],
            [
             0.5,
             "#f7f7f7"
            ],
            [
             0.6,
             "#e6f5d0"
            ],
            [
             0.7,
             "#b8e186"
            ],
            [
             0.8,
             "#7fbc41"
            ],
            [
             0.9,
             "#4d9221"
            ],
            [
             1,
             "#276419"
            ]
           ],
           "sequential": [
            [
             0,
             "#0d0887"
            ],
            [
             0.1111111111111111,
             "#46039f"
            ],
            [
             0.2222222222222222,
             "#7201a8"
            ],
            [
             0.3333333333333333,
             "#9c179e"
            ],
            [
             0.4444444444444444,
             "#bd3786"
            ],
            [
             0.5555555555555556,
             "#d8576b"
            ],
            [
             0.6666666666666666,
             "#ed7953"
            ],
            [
             0.7777777777777778,
             "#fb9f3a"
            ],
            [
             0.8888888888888888,
             "#fdca26"
            ],
            [
             1,
             "#f0f921"
            ]
           ],
           "sequentialminus": [
            [
             0,
             "#0d0887"
            ],
            [
             0.1111111111111111,
             "#46039f"
            ],
            [
             0.2222222222222222,
             "#7201a8"
            ],
            [
             0.3333333333333333,
             "#9c179e"
            ],
            [
             0.4444444444444444,
             "#bd3786"
            ],
            [
             0.5555555555555556,
             "#d8576b"
            ],
            [
             0.6666666666666666,
             "#ed7953"
            ],
            [
             0.7777777777777778,
             "#fb9f3a"
            ],
            [
             0.8888888888888888,
             "#fdca26"
            ],
            [
             1,
             "#f0f921"
            ]
           ]
          },
          "colorway": [
           "#636efa",
           "#EF553B",
           "#00cc96",
           "#ab63fa",
           "#FFA15A",
           "#19d3f3",
           "#FF6692",
           "#B6E880",
           "#FF97FF",
           "#FECB52"
          ],
          "font": {
           "color": "#2a3f5f"
          },
          "geo": {
           "bgcolor": "white",
           "lakecolor": "white",
           "landcolor": "#E5ECF6",
           "showlakes": true,
           "showland": true,
           "subunitcolor": "white"
          },
          "hoverlabel": {
           "align": "left"
          },
          "hovermode": "closest",
          "mapbox": {
           "style": "light"
          },
          "paper_bgcolor": "white",
          "plot_bgcolor": "#E5ECF6",
          "polar": {
           "angularaxis": {
            "gridcolor": "white",
            "linecolor": "white",
            "ticks": ""
           },
           "bgcolor": "#E5ECF6",
           "radialaxis": {
            "gridcolor": "white",
            "linecolor": "white",
            "ticks": ""
           }
          },
          "scene": {
           "xaxis": {
            "backgroundcolor": "#E5ECF6",
            "gridcolor": "white",
            "gridwidth": 2,
            "linecolor": "white",
            "showbackground": true,
            "ticks": "",
            "zerolinecolor": "white"
           },
           "yaxis": {
            "backgroundcolor": "#E5ECF6",
            "gridcolor": "white",
            "gridwidth": 2,
            "linecolor": "white",
            "showbackground": true,
            "ticks": "",
            "zerolinecolor": "white"
           },
           "zaxis": {
            "backgroundcolor": "#E5ECF6",
            "gridcolor": "white",
            "gridwidth": 2,
            "linecolor": "white",
            "showbackground": true,
            "ticks": "",
            "zerolinecolor": "white"
           }
          },
          "shapedefaults": {
           "line": {
            "color": "#2a3f5f"
           }
          },
          "ternary": {
           "aaxis": {
            "gridcolor": "white",
            "linecolor": "white",
            "ticks": ""
           },
           "baxis": {
            "gridcolor": "white",
            "linecolor": "white",
            "ticks": ""
           },
           "bgcolor": "#E5ECF6",
           "caxis": {
            "gridcolor": "white",
            "linecolor": "white",
            "ticks": ""
           }
          },
          "title": {
           "x": 0.05
          },
          "xaxis": {
           "automargin": true,
           "gridcolor": "white",
           "linecolor": "white",
           "ticks": "",
           "title": {
            "standoff": 15
           },
           "zerolinecolor": "white",
           "zerolinewidth": 2
          },
          "yaxis": {
           "automargin": true,
           "gridcolor": "white",
           "linecolor": "white",
           "ticks": "",
           "title": {
            "standoff": 15
           },
           "zerolinecolor": "white",
           "zerolinewidth": 2
          }
         }
        },
        "title": {
         "font": {
          "color": "#4D5663"
         }
        },
        "xaxis": {
         "gridcolor": "#E1E5ED",
         "showgrid": true,
         "tickfont": {
          "color": "#4D5663"
         },
         "title": {
          "font": {
           "color": "#4D5663"
          },
          "text": ""
         },
         "zerolinecolor": "#E1E5ED"
        },
        "yaxis": {
         "gridcolor": "#E1E5ED",
         "showgrid": true,
         "tickfont": {
          "color": "#4D5663"
         },
         "title": {
          "font": {
           "color": "#4D5663"
          },
          "text": ""
         },
         "zerolinecolor": "#E1E5ED"
        }
       }
      },
      "text/html": [
       "<div>                            <div id=\"a30c1e56-8174-450d-806a-95f237e70881\" class=\"plotly-graph-div\" style=\"height:525px; width:100%;\"></div>            <script type=\"text/javascript\">                require([\"plotly\"], function(Plotly) {                    window.PLOTLYENV=window.PLOTLYENV || {};\n",
       "                    window.PLOTLYENV.BASE_URL='https://plot.ly';                                    if (document.getElementById(\"a30c1e56-8174-450d-806a-95f237e70881\")) {                    Plotly.newPlot(                        \"a30c1e56-8174-450d-806a-95f237e70881\",                        [{\"marker\":{\"color\":\"rgba(255, 153, 51, 0.6)\",\"line\":{\"color\":\"rgba(255, 153, 51, 1.0)\",\"width\":1}},\"name\":\"Values\",\"orientation\":\"v\",\"text\":\"\",\"x\":[\"A\",\"B\",\"C\"],\"y\":[32,43,50],\"type\":\"bar\"}],                        {\"legend\":{\"bgcolor\":\"#F5F6F9\",\"font\":{\"color\":\"#4D5663\"}},\"paper_bgcolor\":\"#F5F6F9\",\"plot_bgcolor\":\"#F5F6F9\",\"template\":{\"data\":{\"barpolar\":[{\"marker\":{\"line\":{\"color\":\"#E5ECF6\",\"width\":0.5},\"pattern\":{\"fillmode\":\"overlay\",\"size\":10,\"solidity\":0.2}},\"type\":\"barpolar\"}],\"bar\":[{\"error_x\":{\"color\":\"#2a3f5f\"},\"error_y\":{\"color\":\"#2a3f5f\"},\"marker\":{\"line\":{\"color\":\"#E5ECF6\",\"width\":0.5},\"pattern\":{\"fillmode\":\"overlay\",\"size\":10,\"solidity\":0.2}},\"type\":\"bar\"}],\"carpet\":[{\"aaxis\":{\"endlinecolor\":\"#2a3f5f\",\"gridcolor\":\"white\",\"linecolor\":\"white\",\"minorgridcolor\":\"white\",\"startlinecolor\":\"#2a3f5f\"},\"baxis\":{\"endlinecolor\":\"#2a3f5f\",\"gridcolor\":\"white\",\"linecolor\":\"white\",\"minorgridcolor\":\"white\",\"startlinecolor\":\"#2a3f5f\"},\"type\":\"carpet\"}],\"choropleth\":[{\"colorbar\":{\"outlinewidth\":0,\"ticks\":\"\"},\"type\":\"choropleth\"}],\"contourcarpet\":[{\"colorbar\":{\"outlinewidth\":0,\"ticks\":\"\"},\"type\":\"contourcarpet\"}],\"contour\":[{\"colorbar\":{\"outlinewidth\":0,\"ticks\":\"\"},\"colorscale\":[[0.0,\"#0d0887\"],[0.1111111111111111,\"#46039f\"],[0.2222222222222222,\"#7201a8\"],[0.3333333333333333,\"#9c179e\"],[0.4444444444444444,\"#bd3786\"],[0.5555555555555556,\"#d8576b\"],[0.6666666666666666,\"#ed7953\"],[0.7777777777777778,\"#fb9f3a\"],[0.8888888888888888,\"#fdca26\"],[1.0,\"#f0f921\"]],\"type\":\"contour\"}],\"heatmapgl\":[{\"colorbar\":{\"outlinewidth\":0,\"ticks\":\"\"},\"colorscale\":[[0.0,\"#0d0887\"],[0.1111111111111111,\"#46039f\"],[0.2222222222222222,\"#7201a8\"],[0.3333333333333333,\"#9c179e\"],[0.4444444444444444,\"#bd3786\"],[0.5555555555555556,\"#d8576b\"],[0.6666666666666666,\"#ed7953\"],[0.7777777777777778,\"#fb9f3a\"],[0.8888888888888888,\"#fdca26\"],[1.0,\"#f0f921\"]],\"type\":\"heatmapgl\"}],\"heatmap\":[{\"colorbar\":{\"outlinewidth\":0,\"ticks\":\"\"},\"colorscale\":[[0.0,\"#0d0887\"],[0.1111111111111111,\"#46039f\"],[0.2222222222222222,\"#7201a8\"],[0.3333333333333333,\"#9c179e\"],[0.4444444444444444,\"#bd3786\"],[0.5555555555555556,\"#d8576b\"],[0.6666666666666666,\"#ed7953\"],[0.7777777777777778,\"#fb9f3a\"],[0.8888888888888888,\"#fdca26\"],[1.0,\"#f0f921\"]],\"type\":\"heatmap\"}],\"histogram2dcontour\":[{\"colorbar\":{\"outlinewidth\":0,\"ticks\":\"\"},\"colorscale\":[[0.0,\"#0d0887\"],[0.1111111111111111,\"#46039f\"],[0.2222222222222222,\"#7201a8\"],[0.3333333333333333,\"#9c179e\"],[0.4444444444444444,\"#bd3786\"],[0.5555555555555556,\"#d8576b\"],[0.6666666666666666,\"#ed7953\"],[0.7777777777777778,\"#fb9f3a\"],[0.8888888888888888,\"#fdca26\"],[1.0,\"#f0f921\"]],\"type\":\"histogram2dcontour\"}],\"histogram2d\":[{\"colorbar\":{\"outlinewidth\":0,\"ticks\":\"\"},\"colorscale\":[[0.0,\"#0d0887\"],[0.1111111111111111,\"#46039f\"],[0.2222222222222222,\"#7201a8\"],[0.3333333333333333,\"#9c179e\"],[0.4444444444444444,\"#bd3786\"],[0.5555555555555556,\"#d8576b\"],[0.6666666666666666,\"#ed7953\"],[0.7777777777777778,\"#fb9f3a\"],[0.8888888888888888,\"#fdca26\"],[1.0,\"#f0f921\"]],\"type\":\"histogram2d\"}],\"histogram\":[{\"marker\":{\"pattern\":{\"fillmode\":\"overlay\",\"size\":10,\"solidity\":0.2}},\"type\":\"histogram\"}],\"mesh3d\":[{\"colorbar\":{\"outlinewidth\":0,\"ticks\":\"\"},\"type\":\"mesh3d\"}],\"parcoords\":[{\"line\":{\"colorbar\":{\"outlinewidth\":0,\"ticks\":\"\"}},\"type\":\"parcoords\"}],\"pie\":[{\"automargin\":true,\"type\":\"pie\"}],\"scatter3d\":[{\"line\":{\"colorbar\":{\"outlinewidth\":0,\"ticks\":\"\"}},\"marker\":{\"colorbar\":{\"outlinewidth\":0,\"ticks\":\"\"}},\"type\":\"scatter3d\"}],\"scattercarpet\":[{\"marker\":{\"colorbar\":{\"outlinewidth\":0,\"ticks\":\"\"}},\"type\":\"scattercarpet\"}],\"scattergeo\":[{\"marker\":{\"colorbar\":{\"outlinewidth\":0,\"ticks\":\"\"}},\"type\":\"scattergeo\"}],\"scattergl\":[{\"marker\":{\"colorbar\":{\"outlinewidth\":0,\"ticks\":\"\"}},\"type\":\"scattergl\"}],\"scattermapbox\":[{\"marker\":{\"colorbar\":{\"outlinewidth\":0,\"ticks\":\"\"}},\"type\":\"scattermapbox\"}],\"scatterpolargl\":[{\"marker\":{\"colorbar\":{\"outlinewidth\":0,\"ticks\":\"\"}},\"type\":\"scatterpolargl\"}],\"scatterpolar\":[{\"marker\":{\"colorbar\":{\"outlinewidth\":0,\"ticks\":\"\"}},\"type\":\"scatterpolar\"}],\"scatter\":[{\"marker\":{\"colorbar\":{\"outlinewidth\":0,\"ticks\":\"\"}},\"type\":\"scatter\"}],\"scatterternary\":[{\"marker\":{\"colorbar\":{\"outlinewidth\":0,\"ticks\":\"\"}},\"type\":\"scatterternary\"}],\"surface\":[{\"colorbar\":{\"outlinewidth\":0,\"ticks\":\"\"},\"colorscale\":[[0.0,\"#0d0887\"],[0.1111111111111111,\"#46039f\"],[0.2222222222222222,\"#7201a8\"],[0.3333333333333333,\"#9c179e\"],[0.4444444444444444,\"#bd3786\"],[0.5555555555555556,\"#d8576b\"],[0.6666666666666666,\"#ed7953\"],[0.7777777777777778,\"#fb9f3a\"],[0.8888888888888888,\"#fdca26\"],[1.0,\"#f0f921\"]],\"type\":\"surface\"}],\"table\":[{\"cells\":{\"fill\":{\"color\":\"#EBF0F8\"},\"line\":{\"color\":\"white\"}},\"header\":{\"fill\":{\"color\":\"#C8D4E3\"},\"line\":{\"color\":\"white\"}},\"type\":\"table\"}]},\"layout\":{\"annotationdefaults\":{\"arrowcolor\":\"#2a3f5f\",\"arrowhead\":0,\"arrowwidth\":1},\"autotypenumbers\":\"strict\",\"coloraxis\":{\"colorbar\":{\"outlinewidth\":0,\"ticks\":\"\"}},\"colorscale\":{\"diverging\":[[0,\"#8e0152\"],[0.1,\"#c51b7d\"],[0.2,\"#de77ae\"],[0.3,\"#f1b6da\"],[0.4,\"#fde0ef\"],[0.5,\"#f7f7f7\"],[0.6,\"#e6f5d0\"],[0.7,\"#b8e186\"],[0.8,\"#7fbc41\"],[0.9,\"#4d9221\"],[1,\"#276419\"]],\"sequential\":[[0.0,\"#0d0887\"],[0.1111111111111111,\"#46039f\"],[0.2222222222222222,\"#7201a8\"],[0.3333333333333333,\"#9c179e\"],[0.4444444444444444,\"#bd3786\"],[0.5555555555555556,\"#d8576b\"],[0.6666666666666666,\"#ed7953\"],[0.7777777777777778,\"#fb9f3a\"],[0.8888888888888888,\"#fdca26\"],[1.0,\"#f0f921\"]],\"sequentialminus\":[[0.0,\"#0d0887\"],[0.1111111111111111,\"#46039f\"],[0.2222222222222222,\"#7201a8\"],[0.3333333333333333,\"#9c179e\"],[0.4444444444444444,\"#bd3786\"],[0.5555555555555556,\"#d8576b\"],[0.6666666666666666,\"#ed7953\"],[0.7777777777777778,\"#fb9f3a\"],[0.8888888888888888,\"#fdca26\"],[1.0,\"#f0f921\"]]},\"colorway\":[\"#636efa\",\"#EF553B\",\"#00cc96\",\"#ab63fa\",\"#FFA15A\",\"#19d3f3\",\"#FF6692\",\"#B6E880\",\"#FF97FF\",\"#FECB52\"],\"font\":{\"color\":\"#2a3f5f\"},\"geo\":{\"bgcolor\":\"white\",\"lakecolor\":\"white\",\"landcolor\":\"#E5ECF6\",\"showlakes\":true,\"showland\":true,\"subunitcolor\":\"white\"},\"hoverlabel\":{\"align\":\"left\"},\"hovermode\":\"closest\",\"mapbox\":{\"style\":\"light\"},\"paper_bgcolor\":\"white\",\"plot_bgcolor\":\"#E5ECF6\",\"polar\":{\"angularaxis\":{\"gridcolor\":\"white\",\"linecolor\":\"white\",\"ticks\":\"\"},\"bgcolor\":\"#E5ECF6\",\"radialaxis\":{\"gridcolor\":\"white\",\"linecolor\":\"white\",\"ticks\":\"\"}},\"scene\":{\"xaxis\":{\"backgroundcolor\":\"#E5ECF6\",\"gridcolor\":\"white\",\"gridwidth\":2,\"linecolor\":\"white\",\"showbackground\":true,\"ticks\":\"\",\"zerolinecolor\":\"white\"},\"yaxis\":{\"backgroundcolor\":\"#E5ECF6\",\"gridcolor\":\"white\",\"gridwidth\":2,\"linecolor\":\"white\",\"showbackground\":true,\"ticks\":\"\",\"zerolinecolor\":\"white\"},\"zaxis\":{\"backgroundcolor\":\"#E5ECF6\",\"gridcolor\":\"white\",\"gridwidth\":2,\"linecolor\":\"white\",\"showbackground\":true,\"ticks\":\"\",\"zerolinecolor\":\"white\"}},\"shapedefaults\":{\"line\":{\"color\":\"#2a3f5f\"}},\"ternary\":{\"aaxis\":{\"gridcolor\":\"white\",\"linecolor\":\"white\",\"ticks\":\"\"},\"baxis\":{\"gridcolor\":\"white\",\"linecolor\":\"white\",\"ticks\":\"\"},\"bgcolor\":\"#E5ECF6\",\"caxis\":{\"gridcolor\":\"white\",\"linecolor\":\"white\",\"ticks\":\"\"}},\"title\":{\"x\":0.05},\"xaxis\":{\"automargin\":true,\"gridcolor\":\"white\",\"linecolor\":\"white\",\"ticks\":\"\",\"title\":{\"standoff\":15},\"zerolinecolor\":\"white\",\"zerolinewidth\":2},\"yaxis\":{\"automargin\":true,\"gridcolor\":\"white\",\"linecolor\":\"white\",\"ticks\":\"\",\"title\":{\"standoff\":15},\"zerolinecolor\":\"white\",\"zerolinewidth\":2}}},\"title\":{\"font\":{\"color\":\"#4D5663\"}},\"xaxis\":{\"gridcolor\":\"#E1E5ED\",\"showgrid\":true,\"tickfont\":{\"color\":\"#4D5663\"},\"title\":{\"font\":{\"color\":\"#4D5663\"},\"text\":\"\"},\"zerolinecolor\":\"#E1E5ED\"},\"yaxis\":{\"gridcolor\":\"#E1E5ED\",\"showgrid\":true,\"tickfont\":{\"color\":\"#4D5663\"},\"title\":{\"font\":{\"color\":\"#4D5663\"},\"text\":\"\"},\"zerolinecolor\":\"#E1E5ED\"}},                        {\"showLink\": true, \"linkText\": \"Export to plot.ly\", \"plotlyServerURL\": \"https://plot.ly\", \"responsive\": true}                    ).then(function(){\n",
       "                            \n",
       "var gd = document.getElementById('a30c1e56-8174-450d-806a-95f237e70881');\n",
       "var x = new MutationObserver(function (mutations, observer) {{\n",
       "        var display = window.getComputedStyle(gd).display;\n",
       "        if (!display || display === 'none') {{\n",
       "            console.log([gd, 'removed!']);\n",
       "            Plotly.purge(gd);\n",
       "            observer.disconnect();\n",
       "        }}\n",
       "}});\n",
       "\n",
       "// Listen for the removal of the full notebook cells\n",
       "var notebookContainer = gd.closest('#notebook-container');\n",
       "if (notebookContainer) {{\n",
       "    x.observe(notebookContainer, {childList: true});\n",
       "}}\n",
       "\n",
       "// Listen for the clearing of the current output cell\n",
       "var outputEl = gd.closest('.output');\n",
       "if (outputEl) {{\n",
       "    x.observe(outputEl, {childList: true});\n",
       "}}\n",
       "\n",
       "                        })                };                });            </script>        </div>"
      ]
     },
     "metadata": {},
     "output_type": "display_data"
    }
   ],
   "source": [
    "# bar iplot. df2 data is used here because bar requires a category(non-numerical column)\n",
    "\n",
    "df2.iplot(kind='bar',x='Category',y='Values')"
   ]
  },
  {
   "cell_type": "code",
   "execution_count": 16,
   "id": "10d02374",
   "metadata": {},
   "outputs": [
    {
     "data": {
      "application/vnd.plotly.v1+json": {
       "config": {
        "linkText": "Export to plot.ly",
        "plotlyServerURL": "https://plot.ly",
        "showLink": true
       },
       "data": [
        {
         "marker": {
          "color": "rgba(255, 153, 51, 0.6)",
          "line": {
           "color": "rgba(255, 153, 51, 1.0)",
           "width": 1
          }
         },
         "name": "None",
         "orientation": "v",
         "text": "",
         "type": "bar",
         "x": [
          "A",
          "B",
          "C",
          "D"
         ],
         "y": [
          100,
          100,
          100,
          100
         ]
        }
       ],
       "layout": {
        "legend": {
         "bgcolor": "#F5F6F9",
         "font": {
          "color": "#4D5663"
         }
        },
        "paper_bgcolor": "#F5F6F9",
        "plot_bgcolor": "#F5F6F9",
        "template": {
         "data": {
          "bar": [
           {
            "error_x": {
             "color": "#2a3f5f"
            },
            "error_y": {
             "color": "#2a3f5f"
            },
            "marker": {
             "line": {
              "color": "#E5ECF6",
              "width": 0.5
             },
             "pattern": {
              "fillmode": "overlay",
              "size": 10,
              "solidity": 0.2
             }
            },
            "type": "bar"
           }
          ],
          "barpolar": [
           {
            "marker": {
             "line": {
              "color": "#E5ECF6",
              "width": 0.5
             },
             "pattern": {
              "fillmode": "overlay",
              "size": 10,
              "solidity": 0.2
             }
            },
            "type": "barpolar"
           }
          ],
          "carpet": [
           {
            "aaxis": {
             "endlinecolor": "#2a3f5f",
             "gridcolor": "white",
             "linecolor": "white",
             "minorgridcolor": "white",
             "startlinecolor": "#2a3f5f"
            },
            "baxis": {
             "endlinecolor": "#2a3f5f",
             "gridcolor": "white",
             "linecolor": "white",
             "minorgridcolor": "white",
             "startlinecolor": "#2a3f5f"
            },
            "type": "carpet"
           }
          ],
          "choropleth": [
           {
            "colorbar": {
             "outlinewidth": 0,
             "ticks": ""
            },
            "type": "choropleth"
           }
          ],
          "contour": [
           {
            "colorbar": {
             "outlinewidth": 0,
             "ticks": ""
            },
            "colorscale": [
             [
              0,
              "#0d0887"
             ],
             [
              0.1111111111111111,
              "#46039f"
             ],
             [
              0.2222222222222222,
              "#7201a8"
             ],
             [
              0.3333333333333333,
              "#9c179e"
             ],
             [
              0.4444444444444444,
              "#bd3786"
             ],
             [
              0.5555555555555556,
              "#d8576b"
             ],
             [
              0.6666666666666666,
              "#ed7953"
             ],
             [
              0.7777777777777778,
              "#fb9f3a"
             ],
             [
              0.8888888888888888,
              "#fdca26"
             ],
             [
              1,
              "#f0f921"
             ]
            ],
            "type": "contour"
           }
          ],
          "contourcarpet": [
           {
            "colorbar": {
             "outlinewidth": 0,
             "ticks": ""
            },
            "type": "contourcarpet"
           }
          ],
          "heatmap": [
           {
            "colorbar": {
             "outlinewidth": 0,
             "ticks": ""
            },
            "colorscale": [
             [
              0,
              "#0d0887"
             ],
             [
              0.1111111111111111,
              "#46039f"
             ],
             [
              0.2222222222222222,
              "#7201a8"
             ],
             [
              0.3333333333333333,
              "#9c179e"
             ],
             [
              0.4444444444444444,
              "#bd3786"
             ],
             [
              0.5555555555555556,
              "#d8576b"
             ],
             [
              0.6666666666666666,
              "#ed7953"
             ],
             [
              0.7777777777777778,
              "#fb9f3a"
             ],
             [
              0.8888888888888888,
              "#fdca26"
             ],
             [
              1,
              "#f0f921"
             ]
            ],
            "type": "heatmap"
           }
          ],
          "heatmapgl": [
           {
            "colorbar": {
             "outlinewidth": 0,
             "ticks": ""
            },
            "colorscale": [
             [
              0,
              "#0d0887"
             ],
             [
              0.1111111111111111,
              "#46039f"
             ],
             [
              0.2222222222222222,
              "#7201a8"
             ],
             [
              0.3333333333333333,
              "#9c179e"
             ],
             [
              0.4444444444444444,
              "#bd3786"
             ],
             [
              0.5555555555555556,
              "#d8576b"
             ],
             [
              0.6666666666666666,
              "#ed7953"
             ],
             [
              0.7777777777777778,
              "#fb9f3a"
             ],
             [
              0.8888888888888888,
              "#fdca26"
             ],
             [
              1,
              "#f0f921"
             ]
            ],
            "type": "heatmapgl"
           }
          ],
          "histogram": [
           {
            "marker": {
             "pattern": {
              "fillmode": "overlay",
              "size": 10,
              "solidity": 0.2
             }
            },
            "type": "histogram"
           }
          ],
          "histogram2d": [
           {
            "colorbar": {
             "outlinewidth": 0,
             "ticks": ""
            },
            "colorscale": [
             [
              0,
              "#0d0887"
             ],
             [
              0.1111111111111111,
              "#46039f"
             ],
             [
              0.2222222222222222,
              "#7201a8"
             ],
             [
              0.3333333333333333,
              "#9c179e"
             ],
             [
              0.4444444444444444,
              "#bd3786"
             ],
             [
              0.5555555555555556,
              "#d8576b"
             ],
             [
              0.6666666666666666,
              "#ed7953"
             ],
             [
              0.7777777777777778,
              "#fb9f3a"
             ],
             [
              0.8888888888888888,
              "#fdca26"
             ],
             [
              1,
              "#f0f921"
             ]
            ],
            "type": "histogram2d"
           }
          ],
          "histogram2dcontour": [
           {
            "colorbar": {
             "outlinewidth": 0,
             "ticks": ""
            },
            "colorscale": [
             [
              0,
              "#0d0887"
             ],
             [
              0.1111111111111111,
              "#46039f"
             ],
             [
              0.2222222222222222,
              "#7201a8"
             ],
             [
              0.3333333333333333,
              "#9c179e"
             ],
             [
              0.4444444444444444,
              "#bd3786"
             ],
             [
              0.5555555555555556,
              "#d8576b"
             ],
             [
              0.6666666666666666,
              "#ed7953"
             ],
             [
              0.7777777777777778,
              "#fb9f3a"
             ],
             [
              0.8888888888888888,
              "#fdca26"
             ],
             [
              1,
              "#f0f921"
             ]
            ],
            "type": "histogram2dcontour"
           }
          ],
          "mesh3d": [
           {
            "colorbar": {
             "outlinewidth": 0,
             "ticks": ""
            },
            "type": "mesh3d"
           }
          ],
          "parcoords": [
           {
            "line": {
             "colorbar": {
              "outlinewidth": 0,
              "ticks": ""
             }
            },
            "type": "parcoords"
           }
          ],
          "pie": [
           {
            "automargin": true,
            "type": "pie"
           }
          ],
          "scatter": [
           {
            "marker": {
             "colorbar": {
              "outlinewidth": 0,
              "ticks": ""
             }
            },
            "type": "scatter"
           }
          ],
          "scatter3d": [
           {
            "line": {
             "colorbar": {
              "outlinewidth": 0,
              "ticks": ""
             }
            },
            "marker": {
             "colorbar": {
              "outlinewidth": 0,
              "ticks": ""
             }
            },
            "type": "scatter3d"
           }
          ],
          "scattercarpet": [
           {
            "marker": {
             "colorbar": {
              "outlinewidth": 0,
              "ticks": ""
             }
            },
            "type": "scattercarpet"
           }
          ],
          "scattergeo": [
           {
            "marker": {
             "colorbar": {
              "outlinewidth": 0,
              "ticks": ""
             }
            },
            "type": "scattergeo"
           }
          ],
          "scattergl": [
           {
            "marker": {
             "colorbar": {
              "outlinewidth": 0,
              "ticks": ""
             }
            },
            "type": "scattergl"
           }
          ],
          "scattermapbox": [
           {
            "marker": {
             "colorbar": {
              "outlinewidth": 0,
              "ticks": ""
             }
            },
            "type": "scattermapbox"
           }
          ],
          "scatterpolar": [
           {
            "marker": {
             "colorbar": {
              "outlinewidth": 0,
              "ticks": ""
             }
            },
            "type": "scatterpolar"
           }
          ],
          "scatterpolargl": [
           {
            "marker": {
             "colorbar": {
              "outlinewidth": 0,
              "ticks": ""
             }
            },
            "type": "scatterpolargl"
           }
          ],
          "scatterternary": [
           {
            "marker": {
             "colorbar": {
              "outlinewidth": 0,
              "ticks": ""
             }
            },
            "type": "scatterternary"
           }
          ],
          "surface": [
           {
            "colorbar": {
             "outlinewidth": 0,
             "ticks": ""
            },
            "colorscale": [
             [
              0,
              "#0d0887"
             ],
             [
              0.1111111111111111,
              "#46039f"
             ],
             [
              0.2222222222222222,
              "#7201a8"
             ],
             [
              0.3333333333333333,
              "#9c179e"
             ],
             [
              0.4444444444444444,
              "#bd3786"
             ],
             [
              0.5555555555555556,
              "#d8576b"
             ],
             [
              0.6666666666666666,
              "#ed7953"
             ],
             [
              0.7777777777777778,
              "#fb9f3a"
             ],
             [
              0.8888888888888888,
              "#fdca26"
             ],
             [
              1,
              "#f0f921"
             ]
            ],
            "type": "surface"
           }
          ],
          "table": [
           {
            "cells": {
             "fill": {
              "color": "#EBF0F8"
             },
             "line": {
              "color": "white"
             }
            },
            "header": {
             "fill": {
              "color": "#C8D4E3"
             },
             "line": {
              "color": "white"
             }
            },
            "type": "table"
           }
          ]
         },
         "layout": {
          "annotationdefaults": {
           "arrowcolor": "#2a3f5f",
           "arrowhead": 0,
           "arrowwidth": 1
          },
          "autotypenumbers": "strict",
          "coloraxis": {
           "colorbar": {
            "outlinewidth": 0,
            "ticks": ""
           }
          },
          "colorscale": {
           "diverging": [
            [
             0,
             "#8e0152"
            ],
            [
             0.1,
             "#c51b7d"
            ],
            [
             0.2,
             "#de77ae"
            ],
            [
             0.3,
             "#f1b6da"
            ],
            [
             0.4,
             "#fde0ef"
            ],
            [
             0.5,
             "#f7f7f7"
            ],
            [
             0.6,
             "#e6f5d0"
            ],
            [
             0.7,
             "#b8e186"
            ],
            [
             0.8,
             "#7fbc41"
            ],
            [
             0.9,
             "#4d9221"
            ],
            [
             1,
             "#276419"
            ]
           ],
           "sequential": [
            [
             0,
             "#0d0887"
            ],
            [
             0.1111111111111111,
             "#46039f"
            ],
            [
             0.2222222222222222,
             "#7201a8"
            ],
            [
             0.3333333333333333,
             "#9c179e"
            ],
            [
             0.4444444444444444,
             "#bd3786"
            ],
            [
             0.5555555555555556,
             "#d8576b"
            ],
            [
             0.6666666666666666,
             "#ed7953"
            ],
            [
             0.7777777777777778,
             "#fb9f3a"
            ],
            [
             0.8888888888888888,
             "#fdca26"
            ],
            [
             1,
             "#f0f921"
            ]
           ],
           "sequentialminus": [
            [
             0,
             "#0d0887"
            ],
            [
             0.1111111111111111,
             "#46039f"
            ],
            [
             0.2222222222222222,
             "#7201a8"
            ],
            [
             0.3333333333333333,
             "#9c179e"
            ],
            [
             0.4444444444444444,
             "#bd3786"
            ],
            [
             0.5555555555555556,
             "#d8576b"
            ],
            [
             0.6666666666666666,
             "#ed7953"
            ],
            [
             0.7777777777777778,
             "#fb9f3a"
            ],
            [
             0.8888888888888888,
             "#fdca26"
            ],
            [
             1,
             "#f0f921"
            ]
           ]
          },
          "colorway": [
           "#636efa",
           "#EF553B",
           "#00cc96",
           "#ab63fa",
           "#FFA15A",
           "#19d3f3",
           "#FF6692",
           "#B6E880",
           "#FF97FF",
           "#FECB52"
          ],
          "font": {
           "color": "#2a3f5f"
          },
          "geo": {
           "bgcolor": "white",
           "lakecolor": "white",
           "landcolor": "#E5ECF6",
           "showlakes": true,
           "showland": true,
           "subunitcolor": "white"
          },
          "hoverlabel": {
           "align": "left"
          },
          "hovermode": "closest",
          "mapbox": {
           "style": "light"
          },
          "paper_bgcolor": "white",
          "plot_bgcolor": "#E5ECF6",
          "polar": {
           "angularaxis": {
            "gridcolor": "white",
            "linecolor": "white",
            "ticks": ""
           },
           "bgcolor": "#E5ECF6",
           "radialaxis": {
            "gridcolor": "white",
            "linecolor": "white",
            "ticks": ""
           }
          },
          "scene": {
           "xaxis": {
            "backgroundcolor": "#E5ECF6",
            "gridcolor": "white",
            "gridwidth": 2,
            "linecolor": "white",
            "showbackground": true,
            "ticks": "",
            "zerolinecolor": "white"
           },
           "yaxis": {
            "backgroundcolor": "#E5ECF6",
            "gridcolor": "white",
            "gridwidth": 2,
            "linecolor": "white",
            "showbackground": true,
            "ticks": "",
            "zerolinecolor": "white"
           },
           "zaxis": {
            "backgroundcolor": "#E5ECF6",
            "gridcolor": "white",
            "gridwidth": 2,
            "linecolor": "white",
            "showbackground": true,
            "ticks": "",
            "zerolinecolor": "white"
           }
          },
          "shapedefaults": {
           "line": {
            "color": "#2a3f5f"
           }
          },
          "ternary": {
           "aaxis": {
            "gridcolor": "white",
            "linecolor": "white",
            "ticks": ""
           },
           "baxis": {
            "gridcolor": "white",
            "linecolor": "white",
            "ticks": ""
           },
           "bgcolor": "#E5ECF6",
           "caxis": {
            "gridcolor": "white",
            "linecolor": "white",
            "ticks": ""
           }
          },
          "title": {
           "x": 0.05
          },
          "xaxis": {
           "automargin": true,
           "gridcolor": "white",
           "linecolor": "white",
           "ticks": "",
           "title": {
            "standoff": 15
           },
           "zerolinecolor": "white",
           "zerolinewidth": 2
          },
          "yaxis": {
           "automargin": true,
           "gridcolor": "white",
           "linecolor": "white",
           "ticks": "",
           "title": {
            "standoff": 15
           },
           "zerolinecolor": "white",
           "zerolinewidth": 2
          }
         }
        },
        "title": {
         "font": {
          "color": "#4D5663"
         }
        },
        "xaxis": {
         "gridcolor": "#E1E5ED",
         "showgrid": true,
         "tickfont": {
          "color": "#4D5663"
         },
         "title": {
          "font": {
           "color": "#4D5663"
          },
          "text": ""
         },
         "zerolinecolor": "#E1E5ED"
        },
        "yaxis": {
         "gridcolor": "#E1E5ED",
         "showgrid": true,
         "tickfont": {
          "color": "#4D5663"
         },
         "title": {
          "font": {
           "color": "#4D5663"
          },
          "text": ""
         },
         "zerolinecolor": "#E1E5ED"
        }
       }
      },
      "text/html": [
       "<div>                            <div id=\"d0301284-b115-4627-93a4-8ce107e105f1\" class=\"plotly-graph-div\" style=\"height:525px; width:100%;\"></div>            <script type=\"text/javascript\">                require([\"plotly\"], function(Plotly) {                    window.PLOTLYENV=window.PLOTLYENV || {};\n",
       "                    window.PLOTLYENV.BASE_URL='https://plot.ly';                                    if (document.getElementById(\"d0301284-b115-4627-93a4-8ce107e105f1\")) {                    Plotly.newPlot(                        \"d0301284-b115-4627-93a4-8ce107e105f1\",                        [{\"marker\":{\"color\":\"rgba(255, 153, 51, 0.6)\",\"line\":{\"color\":\"rgba(255, 153, 51, 1.0)\",\"width\":1}},\"name\":\"None\",\"orientation\":\"v\",\"text\":\"\",\"x\":[\"A\",\"B\",\"C\",\"D\"],\"y\":[100,100,100,100],\"type\":\"bar\"}],                        {\"legend\":{\"bgcolor\":\"#F5F6F9\",\"font\":{\"color\":\"#4D5663\"}},\"paper_bgcolor\":\"#F5F6F9\",\"plot_bgcolor\":\"#F5F6F9\",\"template\":{\"data\":{\"barpolar\":[{\"marker\":{\"line\":{\"color\":\"#E5ECF6\",\"width\":0.5},\"pattern\":{\"fillmode\":\"overlay\",\"size\":10,\"solidity\":0.2}},\"type\":\"barpolar\"}],\"bar\":[{\"error_x\":{\"color\":\"#2a3f5f\"},\"error_y\":{\"color\":\"#2a3f5f\"},\"marker\":{\"line\":{\"color\":\"#E5ECF6\",\"width\":0.5},\"pattern\":{\"fillmode\":\"overlay\",\"size\":10,\"solidity\":0.2}},\"type\":\"bar\"}],\"carpet\":[{\"aaxis\":{\"endlinecolor\":\"#2a3f5f\",\"gridcolor\":\"white\",\"linecolor\":\"white\",\"minorgridcolor\":\"white\",\"startlinecolor\":\"#2a3f5f\"},\"baxis\":{\"endlinecolor\":\"#2a3f5f\",\"gridcolor\":\"white\",\"linecolor\":\"white\",\"minorgridcolor\":\"white\",\"startlinecolor\":\"#2a3f5f\"},\"type\":\"carpet\"}],\"choropleth\":[{\"colorbar\":{\"outlinewidth\":0,\"ticks\":\"\"},\"type\":\"choropleth\"}],\"contourcarpet\":[{\"colorbar\":{\"outlinewidth\":0,\"ticks\":\"\"},\"type\":\"contourcarpet\"}],\"contour\":[{\"colorbar\":{\"outlinewidth\":0,\"ticks\":\"\"},\"colorscale\":[[0.0,\"#0d0887\"],[0.1111111111111111,\"#46039f\"],[0.2222222222222222,\"#7201a8\"],[0.3333333333333333,\"#9c179e\"],[0.4444444444444444,\"#bd3786\"],[0.5555555555555556,\"#d8576b\"],[0.6666666666666666,\"#ed7953\"],[0.7777777777777778,\"#fb9f3a\"],[0.8888888888888888,\"#fdca26\"],[1.0,\"#f0f921\"]],\"type\":\"contour\"}],\"heatmapgl\":[{\"colorbar\":{\"outlinewidth\":0,\"ticks\":\"\"},\"colorscale\":[[0.0,\"#0d0887\"],[0.1111111111111111,\"#46039f\"],[0.2222222222222222,\"#7201a8\"],[0.3333333333333333,\"#9c179e\"],[0.4444444444444444,\"#bd3786\"],[0.5555555555555556,\"#d8576b\"],[0.6666666666666666,\"#ed7953\"],[0.7777777777777778,\"#fb9f3a\"],[0.8888888888888888,\"#fdca26\"],[1.0,\"#f0f921\"]],\"type\":\"heatmapgl\"}],\"heatmap\":[{\"colorbar\":{\"outlinewidth\":0,\"ticks\":\"\"},\"colorscale\":[[0.0,\"#0d0887\"],[0.1111111111111111,\"#46039f\"],[0.2222222222222222,\"#7201a8\"],[0.3333333333333333,\"#9c179e\"],[0.4444444444444444,\"#bd3786\"],[0.5555555555555556,\"#d8576b\"],[0.6666666666666666,\"#ed7953\"],[0.7777777777777778,\"#fb9f3a\"],[0.8888888888888888,\"#fdca26\"],[1.0,\"#f0f921\"]],\"type\":\"heatmap\"}],\"histogram2dcontour\":[{\"colorbar\":{\"outlinewidth\":0,\"ticks\":\"\"},\"colorscale\":[[0.0,\"#0d0887\"],[0.1111111111111111,\"#46039f\"],[0.2222222222222222,\"#7201a8\"],[0.3333333333333333,\"#9c179e\"],[0.4444444444444444,\"#bd3786\"],[0.5555555555555556,\"#d8576b\"],[0.6666666666666666,\"#ed7953\"],[0.7777777777777778,\"#fb9f3a\"],[0.8888888888888888,\"#fdca26\"],[1.0,\"#f0f921\"]],\"type\":\"histogram2dcontour\"}],\"histogram2d\":[{\"colorbar\":{\"outlinewidth\":0,\"ticks\":\"\"},\"colorscale\":[[0.0,\"#0d0887\"],[0.1111111111111111,\"#46039f\"],[0.2222222222222222,\"#7201a8\"],[0.3333333333333333,\"#9c179e\"],[0.4444444444444444,\"#bd3786\"],[0.5555555555555556,\"#d8576b\"],[0.6666666666666666,\"#ed7953\"],[0.7777777777777778,\"#fb9f3a\"],[0.8888888888888888,\"#fdca26\"],[1.0,\"#f0f921\"]],\"type\":\"histogram2d\"}],\"histogram\":[{\"marker\":{\"pattern\":{\"fillmode\":\"overlay\",\"size\":10,\"solidity\":0.2}},\"type\":\"histogram\"}],\"mesh3d\":[{\"colorbar\":{\"outlinewidth\":0,\"ticks\":\"\"},\"type\":\"mesh3d\"}],\"parcoords\":[{\"line\":{\"colorbar\":{\"outlinewidth\":0,\"ticks\":\"\"}},\"type\":\"parcoords\"}],\"pie\":[{\"automargin\":true,\"type\":\"pie\"}],\"scatter3d\":[{\"line\":{\"colorbar\":{\"outlinewidth\":0,\"ticks\":\"\"}},\"marker\":{\"colorbar\":{\"outlinewidth\":0,\"ticks\":\"\"}},\"type\":\"scatter3d\"}],\"scattercarpet\":[{\"marker\":{\"colorbar\":{\"outlinewidth\":0,\"ticks\":\"\"}},\"type\":\"scattercarpet\"}],\"scattergeo\":[{\"marker\":{\"colorbar\":{\"outlinewidth\":0,\"ticks\":\"\"}},\"type\":\"scattergeo\"}],\"scattergl\":[{\"marker\":{\"colorbar\":{\"outlinewidth\":0,\"ticks\":\"\"}},\"type\":\"scattergl\"}],\"scattermapbox\":[{\"marker\":{\"colorbar\":{\"outlinewidth\":0,\"ticks\":\"\"}},\"type\":\"scattermapbox\"}],\"scatterpolargl\":[{\"marker\":{\"colorbar\":{\"outlinewidth\":0,\"ticks\":\"\"}},\"type\":\"scatterpolargl\"}],\"scatterpolar\":[{\"marker\":{\"colorbar\":{\"outlinewidth\":0,\"ticks\":\"\"}},\"type\":\"scatterpolar\"}],\"scatter\":[{\"marker\":{\"colorbar\":{\"outlinewidth\":0,\"ticks\":\"\"}},\"type\":\"scatter\"}],\"scatterternary\":[{\"marker\":{\"colorbar\":{\"outlinewidth\":0,\"ticks\":\"\"}},\"type\":\"scatterternary\"}],\"surface\":[{\"colorbar\":{\"outlinewidth\":0,\"ticks\":\"\"},\"colorscale\":[[0.0,\"#0d0887\"],[0.1111111111111111,\"#46039f\"],[0.2222222222222222,\"#7201a8\"],[0.3333333333333333,\"#9c179e\"],[0.4444444444444444,\"#bd3786\"],[0.5555555555555556,\"#d8576b\"],[0.6666666666666666,\"#ed7953\"],[0.7777777777777778,\"#fb9f3a\"],[0.8888888888888888,\"#fdca26\"],[1.0,\"#f0f921\"]],\"type\":\"surface\"}],\"table\":[{\"cells\":{\"fill\":{\"color\":\"#EBF0F8\"},\"line\":{\"color\":\"white\"}},\"header\":{\"fill\":{\"color\":\"#C8D4E3\"},\"line\":{\"color\":\"white\"}},\"type\":\"table\"}]},\"layout\":{\"annotationdefaults\":{\"arrowcolor\":\"#2a3f5f\",\"arrowhead\":0,\"arrowwidth\":1},\"autotypenumbers\":\"strict\",\"coloraxis\":{\"colorbar\":{\"outlinewidth\":0,\"ticks\":\"\"}},\"colorscale\":{\"diverging\":[[0,\"#8e0152\"],[0.1,\"#c51b7d\"],[0.2,\"#de77ae\"],[0.3,\"#f1b6da\"],[0.4,\"#fde0ef\"],[0.5,\"#f7f7f7\"],[0.6,\"#e6f5d0\"],[0.7,\"#b8e186\"],[0.8,\"#7fbc41\"],[0.9,\"#4d9221\"],[1,\"#276419\"]],\"sequential\":[[0.0,\"#0d0887\"],[0.1111111111111111,\"#46039f\"],[0.2222222222222222,\"#7201a8\"],[0.3333333333333333,\"#9c179e\"],[0.4444444444444444,\"#bd3786\"],[0.5555555555555556,\"#d8576b\"],[0.6666666666666666,\"#ed7953\"],[0.7777777777777778,\"#fb9f3a\"],[0.8888888888888888,\"#fdca26\"],[1.0,\"#f0f921\"]],\"sequentialminus\":[[0.0,\"#0d0887\"],[0.1111111111111111,\"#46039f\"],[0.2222222222222222,\"#7201a8\"],[0.3333333333333333,\"#9c179e\"],[0.4444444444444444,\"#bd3786\"],[0.5555555555555556,\"#d8576b\"],[0.6666666666666666,\"#ed7953\"],[0.7777777777777778,\"#fb9f3a\"],[0.8888888888888888,\"#fdca26\"],[1.0,\"#f0f921\"]]},\"colorway\":[\"#636efa\",\"#EF553B\",\"#00cc96\",\"#ab63fa\",\"#FFA15A\",\"#19d3f3\",\"#FF6692\",\"#B6E880\",\"#FF97FF\",\"#FECB52\"],\"font\":{\"color\":\"#2a3f5f\"},\"geo\":{\"bgcolor\":\"white\",\"lakecolor\":\"white\",\"landcolor\":\"#E5ECF6\",\"showlakes\":true,\"showland\":true,\"subunitcolor\":\"white\"},\"hoverlabel\":{\"align\":\"left\"},\"hovermode\":\"closest\",\"mapbox\":{\"style\":\"light\"},\"paper_bgcolor\":\"white\",\"plot_bgcolor\":\"#E5ECF6\",\"polar\":{\"angularaxis\":{\"gridcolor\":\"white\",\"linecolor\":\"white\",\"ticks\":\"\"},\"bgcolor\":\"#E5ECF6\",\"radialaxis\":{\"gridcolor\":\"white\",\"linecolor\":\"white\",\"ticks\":\"\"}},\"scene\":{\"xaxis\":{\"backgroundcolor\":\"#E5ECF6\",\"gridcolor\":\"white\",\"gridwidth\":2,\"linecolor\":\"white\",\"showbackground\":true,\"ticks\":\"\",\"zerolinecolor\":\"white\"},\"yaxis\":{\"backgroundcolor\":\"#E5ECF6\",\"gridcolor\":\"white\",\"gridwidth\":2,\"linecolor\":\"white\",\"showbackground\":true,\"ticks\":\"\",\"zerolinecolor\":\"white\"},\"zaxis\":{\"backgroundcolor\":\"#E5ECF6\",\"gridcolor\":\"white\",\"gridwidth\":2,\"linecolor\":\"white\",\"showbackground\":true,\"ticks\":\"\",\"zerolinecolor\":\"white\"}},\"shapedefaults\":{\"line\":{\"color\":\"#2a3f5f\"}},\"ternary\":{\"aaxis\":{\"gridcolor\":\"white\",\"linecolor\":\"white\",\"ticks\":\"\"},\"baxis\":{\"gridcolor\":\"white\",\"linecolor\":\"white\",\"ticks\":\"\"},\"bgcolor\":\"#E5ECF6\",\"caxis\":{\"gridcolor\":\"white\",\"linecolor\":\"white\",\"ticks\":\"\"}},\"title\":{\"x\":0.05},\"xaxis\":{\"automargin\":true,\"gridcolor\":\"white\",\"linecolor\":\"white\",\"ticks\":\"\",\"title\":{\"standoff\":15},\"zerolinecolor\":\"white\",\"zerolinewidth\":2},\"yaxis\":{\"automargin\":true,\"gridcolor\":\"white\",\"linecolor\":\"white\",\"ticks\":\"\",\"title\":{\"standoff\":15},\"zerolinecolor\":\"white\",\"zerolinewidth\":2}}},\"title\":{\"font\":{\"color\":\"#4D5663\"}},\"xaxis\":{\"gridcolor\":\"#E1E5ED\",\"showgrid\":true,\"tickfont\":{\"color\":\"#4D5663\"},\"title\":{\"font\":{\"color\":\"#4D5663\"},\"text\":\"\"},\"zerolinecolor\":\"#E1E5ED\"},\"yaxis\":{\"gridcolor\":\"#E1E5ED\",\"showgrid\":true,\"tickfont\":{\"color\":\"#4D5663\"},\"title\":{\"font\":{\"color\":\"#4D5663\"},\"text\":\"\"},\"zerolinecolor\":\"#E1E5ED\"}},                        {\"showLink\": true, \"linkText\": \"Export to plot.ly\", \"plotlyServerURL\": \"https://plot.ly\", \"responsive\": true}                    ).then(function(){\n",
       "                            \n",
       "var gd = document.getElementById('d0301284-b115-4627-93a4-8ce107e105f1');\n",
       "var x = new MutationObserver(function (mutations, observer) {{\n",
       "        var display = window.getComputedStyle(gd).display;\n",
       "        if (!display || display === 'none') {{\n",
       "            console.log([gd, 'removed!']);\n",
       "            Plotly.purge(gd);\n",
       "            observer.disconnect();\n",
       "        }}\n",
       "}});\n",
       "\n",
       "// Listen for the removal of the full notebook cells\n",
       "var notebookContainer = gd.closest('#notebook-container');\n",
       "if (notebookContainer) {{\n",
       "    x.observe(notebookContainer, {childList: true});\n",
       "}}\n",
       "\n",
       "// Listen for the clearing of the current output cell\n",
       "var outputEl = gd.closest('.output');\n",
       "if (outputEl) {{\n",
       "    x.observe(outputEl, {childList: true});\n",
       "}}\n",
       "\n",
       "                        })                };                });            </script>        </div>"
      ]
     },
     "metadata": {},
     "output_type": "display_data"
    }
   ],
   "source": [
    "# to use iplot bar with numerical, perform an aggregate function like sum, count, std, etc\n",
    "\n",
    "df.count().iplot(kind='bar')"
   ]
  },
  {
   "cell_type": "code",
   "execution_count": 17,
   "id": "3912e7bb",
   "metadata": {},
   "outputs": [
    {
     "data": {
      "application/vnd.plotly.v1+json": {
       "config": {
        "linkText": "Export to plot.ly",
        "plotlyServerURL": "https://plot.ly",
        "showLink": true
       },
       "data": [
        {
         "marker": {
          "color": "rgba(255, 153, 51, 0.6)",
          "line": {
           "color": "rgba(255, 153, 51, 1.0)",
           "width": 1
          }
         },
         "name": "None",
         "orientation": "v",
         "text": "",
         "type": "bar",
         "x": [
          "A",
          "B",
          "C",
          "D"
         ],
         "y": [
          -22.9546208463954,
          -3.281324795481479,
          -0.7652805170201892,
          -4.989444788094306
         ]
        }
       ],
       "layout": {
        "legend": {
         "bgcolor": "#F5F6F9",
         "font": {
          "color": "#4D5663"
         }
        },
        "paper_bgcolor": "#F5F6F9",
        "plot_bgcolor": "#F5F6F9",
        "template": {
         "data": {
          "bar": [
           {
            "error_x": {
             "color": "#2a3f5f"
            },
            "error_y": {
             "color": "#2a3f5f"
            },
            "marker": {
             "line": {
              "color": "#E5ECF6",
              "width": 0.5
             },
             "pattern": {
              "fillmode": "overlay",
              "size": 10,
              "solidity": 0.2
             }
            },
            "type": "bar"
           }
          ],
          "barpolar": [
           {
            "marker": {
             "line": {
              "color": "#E5ECF6",
              "width": 0.5
             },
             "pattern": {
              "fillmode": "overlay",
              "size": 10,
              "solidity": 0.2
             }
            },
            "type": "barpolar"
           }
          ],
          "carpet": [
           {
            "aaxis": {
             "endlinecolor": "#2a3f5f",
             "gridcolor": "white",
             "linecolor": "white",
             "minorgridcolor": "white",
             "startlinecolor": "#2a3f5f"
            },
            "baxis": {
             "endlinecolor": "#2a3f5f",
             "gridcolor": "white",
             "linecolor": "white",
             "minorgridcolor": "white",
             "startlinecolor": "#2a3f5f"
            },
            "type": "carpet"
           }
          ],
          "choropleth": [
           {
            "colorbar": {
             "outlinewidth": 0,
             "ticks": ""
            },
            "type": "choropleth"
           }
          ],
          "contour": [
           {
            "colorbar": {
             "outlinewidth": 0,
             "ticks": ""
            },
            "colorscale": [
             [
              0,
              "#0d0887"
             ],
             [
              0.1111111111111111,
              "#46039f"
             ],
             [
              0.2222222222222222,
              "#7201a8"
             ],
             [
              0.3333333333333333,
              "#9c179e"
             ],
             [
              0.4444444444444444,
              "#bd3786"
             ],
             [
              0.5555555555555556,
              "#d8576b"
             ],
             [
              0.6666666666666666,
              "#ed7953"
             ],
             [
              0.7777777777777778,
              "#fb9f3a"
             ],
             [
              0.8888888888888888,
              "#fdca26"
             ],
             [
              1,
              "#f0f921"
             ]
            ],
            "type": "contour"
           }
          ],
          "contourcarpet": [
           {
            "colorbar": {
             "outlinewidth": 0,
             "ticks": ""
            },
            "type": "contourcarpet"
           }
          ],
          "heatmap": [
           {
            "colorbar": {
             "outlinewidth": 0,
             "ticks": ""
            },
            "colorscale": [
             [
              0,
              "#0d0887"
             ],
             [
              0.1111111111111111,
              "#46039f"
             ],
             [
              0.2222222222222222,
              "#7201a8"
             ],
             [
              0.3333333333333333,
              "#9c179e"
             ],
             [
              0.4444444444444444,
              "#bd3786"
             ],
             [
              0.5555555555555556,
              "#d8576b"
             ],
             [
              0.6666666666666666,
              "#ed7953"
             ],
             [
              0.7777777777777778,
              "#fb9f3a"
             ],
             [
              0.8888888888888888,
              "#fdca26"
             ],
             [
              1,
              "#f0f921"
             ]
            ],
            "type": "heatmap"
           }
          ],
          "heatmapgl": [
           {
            "colorbar": {
             "outlinewidth": 0,
             "ticks": ""
            },
            "colorscale": [
             [
              0,
              "#0d0887"
             ],
             [
              0.1111111111111111,
              "#46039f"
             ],
             [
              0.2222222222222222,
              "#7201a8"
             ],
             [
              0.3333333333333333,
              "#9c179e"
             ],
             [
              0.4444444444444444,
              "#bd3786"
             ],
             [
              0.5555555555555556,
              "#d8576b"
             ],
             [
              0.6666666666666666,
              "#ed7953"
             ],
             [
              0.7777777777777778,
              "#fb9f3a"
             ],
             [
              0.8888888888888888,
              "#fdca26"
             ],
             [
              1,
              "#f0f921"
             ]
            ],
            "type": "heatmapgl"
           }
          ],
          "histogram": [
           {
            "marker": {
             "pattern": {
              "fillmode": "overlay",
              "size": 10,
              "solidity": 0.2
             }
            },
            "type": "histogram"
           }
          ],
          "histogram2d": [
           {
            "colorbar": {
             "outlinewidth": 0,
             "ticks": ""
            },
            "colorscale": [
             [
              0,
              "#0d0887"
             ],
             [
              0.1111111111111111,
              "#46039f"
             ],
             [
              0.2222222222222222,
              "#7201a8"
             ],
             [
              0.3333333333333333,
              "#9c179e"
             ],
             [
              0.4444444444444444,
              "#bd3786"
             ],
             [
              0.5555555555555556,
              "#d8576b"
             ],
             [
              0.6666666666666666,
              "#ed7953"
             ],
             [
              0.7777777777777778,
              "#fb9f3a"
             ],
             [
              0.8888888888888888,
              "#fdca26"
             ],
             [
              1,
              "#f0f921"
             ]
            ],
            "type": "histogram2d"
           }
          ],
          "histogram2dcontour": [
           {
            "colorbar": {
             "outlinewidth": 0,
             "ticks": ""
            },
            "colorscale": [
             [
              0,
              "#0d0887"
             ],
             [
              0.1111111111111111,
              "#46039f"
             ],
             [
              0.2222222222222222,
              "#7201a8"
             ],
             [
              0.3333333333333333,
              "#9c179e"
             ],
             [
              0.4444444444444444,
              "#bd3786"
             ],
             [
              0.5555555555555556,
              "#d8576b"
             ],
             [
              0.6666666666666666,
              "#ed7953"
             ],
             [
              0.7777777777777778,
              "#fb9f3a"
             ],
             [
              0.8888888888888888,
              "#fdca26"
             ],
             [
              1,
              "#f0f921"
             ]
            ],
            "type": "histogram2dcontour"
           }
          ],
          "mesh3d": [
           {
            "colorbar": {
             "outlinewidth": 0,
             "ticks": ""
            },
            "type": "mesh3d"
           }
          ],
          "parcoords": [
           {
            "line": {
             "colorbar": {
              "outlinewidth": 0,
              "ticks": ""
             }
            },
            "type": "parcoords"
           }
          ],
          "pie": [
           {
            "automargin": true,
            "type": "pie"
           }
          ],
          "scatter": [
           {
            "marker": {
             "colorbar": {
              "outlinewidth": 0,
              "ticks": ""
             }
            },
            "type": "scatter"
           }
          ],
          "scatter3d": [
           {
            "line": {
             "colorbar": {
              "outlinewidth": 0,
              "ticks": ""
             }
            },
            "marker": {
             "colorbar": {
              "outlinewidth": 0,
              "ticks": ""
             }
            },
            "type": "scatter3d"
           }
          ],
          "scattercarpet": [
           {
            "marker": {
             "colorbar": {
              "outlinewidth": 0,
              "ticks": ""
             }
            },
            "type": "scattercarpet"
           }
          ],
          "scattergeo": [
           {
            "marker": {
             "colorbar": {
              "outlinewidth": 0,
              "ticks": ""
             }
            },
            "type": "scattergeo"
           }
          ],
          "scattergl": [
           {
            "marker": {
             "colorbar": {
              "outlinewidth": 0,
              "ticks": ""
             }
            },
            "type": "scattergl"
           }
          ],
          "scattermapbox": [
           {
            "marker": {
             "colorbar": {
              "outlinewidth": 0,
              "ticks": ""
             }
            },
            "type": "scattermapbox"
           }
          ],
          "scatterpolar": [
           {
            "marker": {
             "colorbar": {
              "outlinewidth": 0,
              "ticks": ""
             }
            },
            "type": "scatterpolar"
           }
          ],
          "scatterpolargl": [
           {
            "marker": {
             "colorbar": {
              "outlinewidth": 0,
              "ticks": ""
             }
            },
            "type": "scatterpolargl"
           }
          ],
          "scatterternary": [
           {
            "marker": {
             "colorbar": {
              "outlinewidth": 0,
              "ticks": ""
             }
            },
            "type": "scatterternary"
           }
          ],
          "surface": [
           {
            "colorbar": {
             "outlinewidth": 0,
             "ticks": ""
            },
            "colorscale": [
             [
              0,
              "#0d0887"
             ],
             [
              0.1111111111111111,
              "#46039f"
             ],
             [
              0.2222222222222222,
              "#7201a8"
             ],
             [
              0.3333333333333333,
              "#9c179e"
             ],
             [
              0.4444444444444444,
              "#bd3786"
             ],
             [
              0.5555555555555556,
              "#d8576b"
             ],
             [
              0.6666666666666666,
              "#ed7953"
             ],
             [
              0.7777777777777778,
              "#fb9f3a"
             ],
             [
              0.8888888888888888,
              "#fdca26"
             ],
             [
              1,
              "#f0f921"
             ]
            ],
            "type": "surface"
           }
          ],
          "table": [
           {
            "cells": {
             "fill": {
              "color": "#EBF0F8"
             },
             "line": {
              "color": "white"
             }
            },
            "header": {
             "fill": {
              "color": "#C8D4E3"
             },
             "line": {
              "color": "white"
             }
            },
            "type": "table"
           }
          ]
         },
         "layout": {
          "annotationdefaults": {
           "arrowcolor": "#2a3f5f",
           "arrowhead": 0,
           "arrowwidth": 1
          },
          "autotypenumbers": "strict",
          "coloraxis": {
           "colorbar": {
            "outlinewidth": 0,
            "ticks": ""
           }
          },
          "colorscale": {
           "diverging": [
            [
             0,
             "#8e0152"
            ],
            [
             0.1,
             "#c51b7d"
            ],
            [
             0.2,
             "#de77ae"
            ],
            [
             0.3,
             "#f1b6da"
            ],
            [
             0.4,
             "#fde0ef"
            ],
            [
             0.5,
             "#f7f7f7"
            ],
            [
             0.6,
             "#e6f5d0"
            ],
            [
             0.7,
             "#b8e186"
            ],
            [
             0.8,
             "#7fbc41"
            ],
            [
             0.9,
             "#4d9221"
            ],
            [
             1,
             "#276419"
            ]
           ],
           "sequential": [
            [
             0,
             "#0d0887"
            ],
            [
             0.1111111111111111,
             "#46039f"
            ],
            [
             0.2222222222222222,
             "#7201a8"
            ],
            [
             0.3333333333333333,
             "#9c179e"
            ],
            [
             0.4444444444444444,
             "#bd3786"
            ],
            [
             0.5555555555555556,
             "#d8576b"
            ],
            [
             0.6666666666666666,
             "#ed7953"
            ],
            [
             0.7777777777777778,
             "#fb9f3a"
            ],
            [
             0.8888888888888888,
             "#fdca26"
            ],
            [
             1,
             "#f0f921"
            ]
           ],
           "sequentialminus": [
            [
             0,
             "#0d0887"
            ],
            [
             0.1111111111111111,
             "#46039f"
            ],
            [
             0.2222222222222222,
             "#7201a8"
            ],
            [
             0.3333333333333333,
             "#9c179e"
            ],
            [
             0.4444444444444444,
             "#bd3786"
            ],
            [
             0.5555555555555556,
             "#d8576b"
            ],
            [
             0.6666666666666666,
             "#ed7953"
            ],
            [
             0.7777777777777778,
             "#fb9f3a"
            ],
            [
             0.8888888888888888,
             "#fdca26"
            ],
            [
             1,
             "#f0f921"
            ]
           ]
          },
          "colorway": [
           "#636efa",
           "#EF553B",
           "#00cc96",
           "#ab63fa",
           "#FFA15A",
           "#19d3f3",
           "#FF6692",
           "#B6E880",
           "#FF97FF",
           "#FECB52"
          ],
          "font": {
           "color": "#2a3f5f"
          },
          "geo": {
           "bgcolor": "white",
           "lakecolor": "white",
           "landcolor": "#E5ECF6",
           "showlakes": true,
           "showland": true,
           "subunitcolor": "white"
          },
          "hoverlabel": {
           "align": "left"
          },
          "hovermode": "closest",
          "mapbox": {
           "style": "light"
          },
          "paper_bgcolor": "white",
          "plot_bgcolor": "#E5ECF6",
          "polar": {
           "angularaxis": {
            "gridcolor": "white",
            "linecolor": "white",
            "ticks": ""
           },
           "bgcolor": "#E5ECF6",
           "radialaxis": {
            "gridcolor": "white",
            "linecolor": "white",
            "ticks": ""
           }
          },
          "scene": {
           "xaxis": {
            "backgroundcolor": "#E5ECF6",
            "gridcolor": "white",
            "gridwidth": 2,
            "linecolor": "white",
            "showbackground": true,
            "ticks": "",
            "zerolinecolor": "white"
           },
           "yaxis": {
            "backgroundcolor": "#E5ECF6",
            "gridcolor": "white",
            "gridwidth": 2,
            "linecolor": "white",
            "showbackground": true,
            "ticks": "",
            "zerolinecolor": "white"
           },
           "zaxis": {
            "backgroundcolor": "#E5ECF6",
            "gridcolor": "white",
            "gridwidth": 2,
            "linecolor": "white",
            "showbackground": true,
            "ticks": "",
            "zerolinecolor": "white"
           }
          },
          "shapedefaults": {
           "line": {
            "color": "#2a3f5f"
           }
          },
          "ternary": {
           "aaxis": {
            "gridcolor": "white",
            "linecolor": "white",
            "ticks": ""
           },
           "baxis": {
            "gridcolor": "white",
            "linecolor": "white",
            "ticks": ""
           },
           "bgcolor": "#E5ECF6",
           "caxis": {
            "gridcolor": "white",
            "linecolor": "white",
            "ticks": ""
           }
          },
          "title": {
           "x": 0.05
          },
          "xaxis": {
           "automargin": true,
           "gridcolor": "white",
           "linecolor": "white",
           "ticks": "",
           "title": {
            "standoff": 15
           },
           "zerolinecolor": "white",
           "zerolinewidth": 2
          },
          "yaxis": {
           "automargin": true,
           "gridcolor": "white",
           "linecolor": "white",
           "ticks": "",
           "title": {
            "standoff": 15
           },
           "zerolinecolor": "white",
           "zerolinewidth": 2
          }
         }
        },
        "title": {
         "font": {
          "color": "#4D5663"
         }
        },
        "xaxis": {
         "gridcolor": "#E1E5ED",
         "showgrid": true,
         "tickfont": {
          "color": "#4D5663"
         },
         "title": {
          "font": {
           "color": "#4D5663"
          },
          "text": ""
         },
         "zerolinecolor": "#E1E5ED"
        },
        "yaxis": {
         "gridcolor": "#E1E5ED",
         "showgrid": true,
         "tickfont": {
          "color": "#4D5663"
         },
         "title": {
          "font": {
           "color": "#4D5663"
          },
          "text": ""
         },
         "zerolinecolor": "#E1E5ED"
        }
       }
      },
      "text/html": [
       "<div>                            <div id=\"7f605a84-7903-48a0-b687-2a322ffa64b9\" class=\"plotly-graph-div\" style=\"height:525px; width:100%;\"></div>            <script type=\"text/javascript\">                require([\"plotly\"], function(Plotly) {                    window.PLOTLYENV=window.PLOTLYENV || {};\n",
       "                    window.PLOTLYENV.BASE_URL='https://plot.ly';                                    if (document.getElementById(\"7f605a84-7903-48a0-b687-2a322ffa64b9\")) {                    Plotly.newPlot(                        \"7f605a84-7903-48a0-b687-2a322ffa64b9\",                        [{\"marker\":{\"color\":\"rgba(255, 153, 51, 0.6)\",\"line\":{\"color\":\"rgba(255, 153, 51, 1.0)\",\"width\":1}},\"name\":\"None\",\"orientation\":\"v\",\"text\":\"\",\"x\":[\"A\",\"B\",\"C\",\"D\"],\"y\":[-22.9546208463954,-3.281324795481479,-0.7652805170201892,-4.989444788094306],\"type\":\"bar\"}],                        {\"legend\":{\"bgcolor\":\"#F5F6F9\",\"font\":{\"color\":\"#4D5663\"}},\"paper_bgcolor\":\"#F5F6F9\",\"plot_bgcolor\":\"#F5F6F9\",\"template\":{\"data\":{\"barpolar\":[{\"marker\":{\"line\":{\"color\":\"#E5ECF6\",\"width\":0.5},\"pattern\":{\"fillmode\":\"overlay\",\"size\":10,\"solidity\":0.2}},\"type\":\"barpolar\"}],\"bar\":[{\"error_x\":{\"color\":\"#2a3f5f\"},\"error_y\":{\"color\":\"#2a3f5f\"},\"marker\":{\"line\":{\"color\":\"#E5ECF6\",\"width\":0.5},\"pattern\":{\"fillmode\":\"overlay\",\"size\":10,\"solidity\":0.2}},\"type\":\"bar\"}],\"carpet\":[{\"aaxis\":{\"endlinecolor\":\"#2a3f5f\",\"gridcolor\":\"white\",\"linecolor\":\"white\",\"minorgridcolor\":\"white\",\"startlinecolor\":\"#2a3f5f\"},\"baxis\":{\"endlinecolor\":\"#2a3f5f\",\"gridcolor\":\"white\",\"linecolor\":\"white\",\"minorgridcolor\":\"white\",\"startlinecolor\":\"#2a3f5f\"},\"type\":\"carpet\"}],\"choropleth\":[{\"colorbar\":{\"outlinewidth\":0,\"ticks\":\"\"},\"type\":\"choropleth\"}],\"contourcarpet\":[{\"colorbar\":{\"outlinewidth\":0,\"ticks\":\"\"},\"type\":\"contourcarpet\"}],\"contour\":[{\"colorbar\":{\"outlinewidth\":0,\"ticks\":\"\"},\"colorscale\":[[0.0,\"#0d0887\"],[0.1111111111111111,\"#46039f\"],[0.2222222222222222,\"#7201a8\"],[0.3333333333333333,\"#9c179e\"],[0.4444444444444444,\"#bd3786\"],[0.5555555555555556,\"#d8576b\"],[0.6666666666666666,\"#ed7953\"],[0.7777777777777778,\"#fb9f3a\"],[0.8888888888888888,\"#fdca26\"],[1.0,\"#f0f921\"]],\"type\":\"contour\"}],\"heatmapgl\":[{\"colorbar\":{\"outlinewidth\":0,\"ticks\":\"\"},\"colorscale\":[[0.0,\"#0d0887\"],[0.1111111111111111,\"#46039f\"],[0.2222222222222222,\"#7201a8\"],[0.3333333333333333,\"#9c179e\"],[0.4444444444444444,\"#bd3786\"],[0.5555555555555556,\"#d8576b\"],[0.6666666666666666,\"#ed7953\"],[0.7777777777777778,\"#fb9f3a\"],[0.8888888888888888,\"#fdca26\"],[1.0,\"#f0f921\"]],\"type\":\"heatmapgl\"}],\"heatmap\":[{\"colorbar\":{\"outlinewidth\":0,\"ticks\":\"\"},\"colorscale\":[[0.0,\"#0d0887\"],[0.1111111111111111,\"#46039f\"],[0.2222222222222222,\"#7201a8\"],[0.3333333333333333,\"#9c179e\"],[0.4444444444444444,\"#bd3786\"],[0.5555555555555556,\"#d8576b\"],[0.6666666666666666,\"#ed7953\"],[0.7777777777777778,\"#fb9f3a\"],[0.8888888888888888,\"#fdca26\"],[1.0,\"#f0f921\"]],\"type\":\"heatmap\"}],\"histogram2dcontour\":[{\"colorbar\":{\"outlinewidth\":0,\"ticks\":\"\"},\"colorscale\":[[0.0,\"#0d0887\"],[0.1111111111111111,\"#46039f\"],[0.2222222222222222,\"#7201a8\"],[0.3333333333333333,\"#9c179e\"],[0.4444444444444444,\"#bd3786\"],[0.5555555555555556,\"#d8576b\"],[0.6666666666666666,\"#ed7953\"],[0.7777777777777778,\"#fb9f3a\"],[0.8888888888888888,\"#fdca26\"],[1.0,\"#f0f921\"]],\"type\":\"histogram2dcontour\"}],\"histogram2d\":[{\"colorbar\":{\"outlinewidth\":0,\"ticks\":\"\"},\"colorscale\":[[0.0,\"#0d0887\"],[0.1111111111111111,\"#46039f\"],[0.2222222222222222,\"#7201a8\"],[0.3333333333333333,\"#9c179e\"],[0.4444444444444444,\"#bd3786\"],[0.5555555555555556,\"#d8576b\"],[0.6666666666666666,\"#ed7953\"],[0.7777777777777778,\"#fb9f3a\"],[0.8888888888888888,\"#fdca26\"],[1.0,\"#f0f921\"]],\"type\":\"histogram2d\"}],\"histogram\":[{\"marker\":{\"pattern\":{\"fillmode\":\"overlay\",\"size\":10,\"solidity\":0.2}},\"type\":\"histogram\"}],\"mesh3d\":[{\"colorbar\":{\"outlinewidth\":0,\"ticks\":\"\"},\"type\":\"mesh3d\"}],\"parcoords\":[{\"line\":{\"colorbar\":{\"outlinewidth\":0,\"ticks\":\"\"}},\"type\":\"parcoords\"}],\"pie\":[{\"automargin\":true,\"type\":\"pie\"}],\"scatter3d\":[{\"line\":{\"colorbar\":{\"outlinewidth\":0,\"ticks\":\"\"}},\"marker\":{\"colorbar\":{\"outlinewidth\":0,\"ticks\":\"\"}},\"type\":\"scatter3d\"}],\"scattercarpet\":[{\"marker\":{\"colorbar\":{\"outlinewidth\":0,\"ticks\":\"\"}},\"type\":\"scattercarpet\"}],\"scattergeo\":[{\"marker\":{\"colorbar\":{\"outlinewidth\":0,\"ticks\":\"\"}},\"type\":\"scattergeo\"}],\"scattergl\":[{\"marker\":{\"colorbar\":{\"outlinewidth\":0,\"ticks\":\"\"}},\"type\":\"scattergl\"}],\"scattermapbox\":[{\"marker\":{\"colorbar\":{\"outlinewidth\":0,\"ticks\":\"\"}},\"type\":\"scattermapbox\"}],\"scatterpolargl\":[{\"marker\":{\"colorbar\":{\"outlinewidth\":0,\"ticks\":\"\"}},\"type\":\"scatterpolargl\"}],\"scatterpolar\":[{\"marker\":{\"colorbar\":{\"outlinewidth\":0,\"ticks\":\"\"}},\"type\":\"scatterpolar\"}],\"scatter\":[{\"marker\":{\"colorbar\":{\"outlinewidth\":0,\"ticks\":\"\"}},\"type\":\"scatter\"}],\"scatterternary\":[{\"marker\":{\"colorbar\":{\"outlinewidth\":0,\"ticks\":\"\"}},\"type\":\"scatterternary\"}],\"surface\":[{\"colorbar\":{\"outlinewidth\":0,\"ticks\":\"\"},\"colorscale\":[[0.0,\"#0d0887\"],[0.1111111111111111,\"#46039f\"],[0.2222222222222222,\"#7201a8\"],[0.3333333333333333,\"#9c179e\"],[0.4444444444444444,\"#bd3786\"],[0.5555555555555556,\"#d8576b\"],[0.6666666666666666,\"#ed7953\"],[0.7777777777777778,\"#fb9f3a\"],[0.8888888888888888,\"#fdca26\"],[1.0,\"#f0f921\"]],\"type\":\"surface\"}],\"table\":[{\"cells\":{\"fill\":{\"color\":\"#EBF0F8\"},\"line\":{\"color\":\"white\"}},\"header\":{\"fill\":{\"color\":\"#C8D4E3\"},\"line\":{\"color\":\"white\"}},\"type\":\"table\"}]},\"layout\":{\"annotationdefaults\":{\"arrowcolor\":\"#2a3f5f\",\"arrowhead\":0,\"arrowwidth\":1},\"autotypenumbers\":\"strict\",\"coloraxis\":{\"colorbar\":{\"outlinewidth\":0,\"ticks\":\"\"}},\"colorscale\":{\"diverging\":[[0,\"#8e0152\"],[0.1,\"#c51b7d\"],[0.2,\"#de77ae\"],[0.3,\"#f1b6da\"],[0.4,\"#fde0ef\"],[0.5,\"#f7f7f7\"],[0.6,\"#e6f5d0\"],[0.7,\"#b8e186\"],[0.8,\"#7fbc41\"],[0.9,\"#4d9221\"],[1,\"#276419\"]],\"sequential\":[[0.0,\"#0d0887\"],[0.1111111111111111,\"#46039f\"],[0.2222222222222222,\"#7201a8\"],[0.3333333333333333,\"#9c179e\"],[0.4444444444444444,\"#bd3786\"],[0.5555555555555556,\"#d8576b\"],[0.6666666666666666,\"#ed7953\"],[0.7777777777777778,\"#fb9f3a\"],[0.8888888888888888,\"#fdca26\"],[1.0,\"#f0f921\"]],\"sequentialminus\":[[0.0,\"#0d0887\"],[0.1111111111111111,\"#46039f\"],[0.2222222222222222,\"#7201a8\"],[0.3333333333333333,\"#9c179e\"],[0.4444444444444444,\"#bd3786\"],[0.5555555555555556,\"#d8576b\"],[0.6666666666666666,\"#ed7953\"],[0.7777777777777778,\"#fb9f3a\"],[0.8888888888888888,\"#fdca26\"],[1.0,\"#f0f921\"]]},\"colorway\":[\"#636efa\",\"#EF553B\",\"#00cc96\",\"#ab63fa\",\"#FFA15A\",\"#19d3f3\",\"#FF6692\",\"#B6E880\",\"#FF97FF\",\"#FECB52\"],\"font\":{\"color\":\"#2a3f5f\"},\"geo\":{\"bgcolor\":\"white\",\"lakecolor\":\"white\",\"landcolor\":\"#E5ECF6\",\"showlakes\":true,\"showland\":true,\"subunitcolor\":\"white\"},\"hoverlabel\":{\"align\":\"left\"},\"hovermode\":\"closest\",\"mapbox\":{\"style\":\"light\"},\"paper_bgcolor\":\"white\",\"plot_bgcolor\":\"#E5ECF6\",\"polar\":{\"angularaxis\":{\"gridcolor\":\"white\",\"linecolor\":\"white\",\"ticks\":\"\"},\"bgcolor\":\"#E5ECF6\",\"radialaxis\":{\"gridcolor\":\"white\",\"linecolor\":\"white\",\"ticks\":\"\"}},\"scene\":{\"xaxis\":{\"backgroundcolor\":\"#E5ECF6\",\"gridcolor\":\"white\",\"gridwidth\":2,\"linecolor\":\"white\",\"showbackground\":true,\"ticks\":\"\",\"zerolinecolor\":\"white\"},\"yaxis\":{\"backgroundcolor\":\"#E5ECF6\",\"gridcolor\":\"white\",\"gridwidth\":2,\"linecolor\":\"white\",\"showbackground\":true,\"ticks\":\"\",\"zerolinecolor\":\"white\"},\"zaxis\":{\"backgroundcolor\":\"#E5ECF6\",\"gridcolor\":\"white\",\"gridwidth\":2,\"linecolor\":\"white\",\"showbackground\":true,\"ticks\":\"\",\"zerolinecolor\":\"white\"}},\"shapedefaults\":{\"line\":{\"color\":\"#2a3f5f\"}},\"ternary\":{\"aaxis\":{\"gridcolor\":\"white\",\"linecolor\":\"white\",\"ticks\":\"\"},\"baxis\":{\"gridcolor\":\"white\",\"linecolor\":\"white\",\"ticks\":\"\"},\"bgcolor\":\"#E5ECF6\",\"caxis\":{\"gridcolor\":\"white\",\"linecolor\":\"white\",\"ticks\":\"\"}},\"title\":{\"x\":0.05},\"xaxis\":{\"automargin\":true,\"gridcolor\":\"white\",\"linecolor\":\"white\",\"ticks\":\"\",\"title\":{\"standoff\":15},\"zerolinecolor\":\"white\",\"zerolinewidth\":2},\"yaxis\":{\"automargin\":true,\"gridcolor\":\"white\",\"linecolor\":\"white\",\"ticks\":\"\",\"title\":{\"standoff\":15},\"zerolinecolor\":\"white\",\"zerolinewidth\":2}}},\"title\":{\"font\":{\"color\":\"#4D5663\"}},\"xaxis\":{\"gridcolor\":\"#E1E5ED\",\"showgrid\":true,\"tickfont\":{\"color\":\"#4D5663\"},\"title\":{\"font\":{\"color\":\"#4D5663\"},\"text\":\"\"},\"zerolinecolor\":\"#E1E5ED\"},\"yaxis\":{\"gridcolor\":\"#E1E5ED\",\"showgrid\":true,\"tickfont\":{\"color\":\"#4D5663\"},\"title\":{\"font\":{\"color\":\"#4D5663\"},\"text\":\"\"},\"zerolinecolor\":\"#E1E5ED\"}},                        {\"showLink\": true, \"linkText\": \"Export to plot.ly\", \"plotlyServerURL\": \"https://plot.ly\", \"responsive\": true}                    ).then(function(){\n",
       "                            \n",
       "var gd = document.getElementById('7f605a84-7903-48a0-b687-2a322ffa64b9');\n",
       "var x = new MutationObserver(function (mutations, observer) {{\n",
       "        var display = window.getComputedStyle(gd).display;\n",
       "        if (!display || display === 'none') {{\n",
       "            console.log([gd, 'removed!']);\n",
       "            Plotly.purge(gd);\n",
       "            observer.disconnect();\n",
       "        }}\n",
       "}});\n",
       "\n",
       "// Listen for the removal of the full notebook cells\n",
       "var notebookContainer = gd.closest('#notebook-container');\n",
       "if (notebookContainer) {{\n",
       "    x.observe(notebookContainer, {childList: true});\n",
       "}}\n",
       "\n",
       "// Listen for the clearing of the current output cell\n",
       "var outputEl = gd.closest('.output');\n",
       "if (outputEl) {{\n",
       "    x.observe(outputEl, {childList: true});\n",
       "}}\n",
       "\n",
       "                        })                };                });            </script>        </div>"
      ]
     },
     "metadata": {},
     "output_type": "display_data"
    }
   ],
   "source": [
    "# sum of df columns. Bar iplot is used with an aggregate function.\n",
    "\n",
    "df.sum().iplot(kind='bar')"
   ]
  },
  {
   "cell_type": "code",
   "execution_count": 18,
   "id": "0660efbf",
   "metadata": {},
   "outputs": [
    {
     "data": {
      "application/vnd.plotly.v1+json": {
       "config": {
        "linkText": "Export to plot.ly",
        "plotlyServerURL": "https://plot.ly",
        "showLink": true
       },
       "data": [
        {
         "boxpoints": false,
         "line": {
          "width": 1.3
         },
         "marker": {
          "color": "rgba(255, 153, 51, 1.0)"
         },
         "name": "A",
         "orientation": "v",
         "type": "box",
         "y": [
          -0.7156901301506218,
          -2.4644340092683623,
          -0.5020478490356647,
          0.18831575059229694,
          -0.9395232600804589,
          0.6370608619021374,
          0.3181842436496653,
          -1.925815864693647,
          -1.601490197748081,
          0.7504852699910404,
          0.34651704071887407,
          -0.3782613877092965,
          0.50360062282216,
          1.1783072011157854,
          -0.39512918539645014,
          -0.27615642716525757,
          -0.6955150924719622,
          0.22125184868079706,
          0.3468389819905759,
          -1.417697236866669,
          1.115510266869824,
          -0.19740429399545154,
          -2.464841424106378,
          -0.8367326516922796,
          -1.784665752306031,
          -0.22786206228857037,
          -0.05747200108715722,
          -0.2582444417187888,
          -0.5840818609797201,
          -0.6447426754570369,
          -0.7890790059168368,
          0.23016315567803003,
          -1.267679972953894,
          0.11816464469909889,
          0.53265482704174,
          -1.2698235619164742,
          -1.8768988863675784,
          -0.9104585436306738,
          0.5197942871049583,
          -1.1344331642903294,
          0.992329649408986,
          -0.23854074055432464,
          -0.1930210849793099,
          0.6095404688520194,
          -1.232825526706406,
          -1.5328054495473706,
          0.3036487187896314,
          -0.2579415954354775,
          -0.28408823698571445,
          0.31097652201661435,
          0.5365134318194574,
          -0.2523997745954963,
          -0.22895996185521222,
          1.7212536262694407,
          0.220474283657124,
          -2.2021749191469557,
          -0.8986508298431952,
          -0.3221635884228591,
          -0.40414847758021716,
          -0.5652901674053412,
          1.0766577310137808,
          0.5349076975629776,
          0.23762680428485808,
          -1.7126244683313148,
          -0.5928398888471055,
          -1.4949122694654595,
          -1.1661099302510365,
          0.46297332937027735,
          -1.3945134376948467,
          -0.3869679733820751,
          -0.9624273069822818,
          -1.2765077481404117,
          -0.8586057990186773,
          -1.3617817621094965,
          0.5289027802019703,
          0.6103126439405477,
          0.9832256017665594,
          0.5128656072910021,
          -0.4379259719293449,
          -0.6556385330952424,
          0.14179110527076172,
          -0.01073393938291526,
          0.5485346127017294,
          1.2238687868347427,
          1.3552631701641884,
          -0.679197152670297,
          1.4246054066122478,
          0.37843614621800514,
          -0.33839561042916416,
          0.595800624621955,
          0.2134554912461374,
          1.115174003760538,
          0.8652782710066977,
          0.3619724278187933,
          -0.9215434485902071,
          0.8922369823809136,
          -0.21678248120535829,
          -0.688812085998554,
          0.4169838531764566,
          0.2484314725645371
         ]
        },
        {
         "boxpoints": false,
         "line": {
          "width": 1.3
         },
         "marker": {
          "color": "rgba(55, 128, 191, 1.0)"
         },
         "name": "B",
         "orientation": "v",
         "type": "box",
         "y": [
          -0.6513797764818611,
          0.5244019427590942,
          -1.1744674888572253,
          0.43368191568401226,
          0.899497260401665,
          -1.1445625650980764,
          0.07099522324692333,
          0.04362068821287567,
          -0.8160348335399022,
          0.1626016136310631,
          -0.7298670162319529,
          0.6713855417304806,
          -0.4897210754965677,
          -0.48252481799299574,
          -1.3139286582223493,
          0.9707580321863382,
          -1.1464067098017479,
          -1.6598898005122826,
          0.23742605508299555,
          2.6643609903481145,
          0.22610339598619442,
          0.6649669769165972,
          0.9281709465845623,
          0.9791321813439632,
          0.8762934680617513,
          -0.28943460277957755,
          -0.028190662231939393,
          0.2719755628483441,
          0.8570323675771371,
          -0.9874367202861509,
          1.1186820362029204,
          0.12441702071829709,
          -0.7566677889736816,
          0.5261667781482235,
          0.8229391933147238,
          1.0237625257527891,
          -1.1075967095024015,
          0.6989216003060206,
          0.4484205570752432,
          -0.26803786635302745,
          -0.6634160128961857,
          2.335734557413926,
          -1.434184074279899,
          0.2473602698192445,
          0.22238480469788974,
          -0.2677583598956593,
          0.2725413480059053,
          -0.8395778183942763,
          -0.661834594922329,
          -0.27007302620888896,
          -0.2474487320510582,
          -1.7686789507801906,
          -0.6927976504687269,
          -0.5679102310983882,
          -0.1715477136966996,
          -1.295629485531873,
          0.749114656046574,
          -0.4396779137233732,
          0.881864840173589,
          0.6699484712192457,
          -0.9865989035422554,
          0.8041516446982689,
          0.5708137463595715,
          -0.3544348711895968,
          -0.4411283148910683,
          -0.012678521787541109,
          -0.15374985521185416,
          1.0354303578331185,
          1.3043066720596153,
          -0.8746890120010864,
          0.08458332717612128,
          -0.8003519447971019,
          -0.6851446620945236,
          -1.1559883622724791,
          0.27707248332228673,
          1.4398769778179106,
          -1.574198276171295,
          -0.10824476202121064,
          -0.878756138704042,
          0.9528462091562935,
          0.36882014943302904,
          0.701962408764391,
          0.12515471481787668,
          0.9043374679657142,
          0.2254823419787821,
          0.4958042695863272,
          -0.5975032114557614,
          0.7257348296841276,
          0.4855953408620199,
          -3.3825219320437827,
          0.5322162490593761,
          0.05039546272046297,
          0.10839147887182421,
          -2.015338751110118,
          0.643382932891098,
          -0.8632757680204926,
          1.1845968063934953,
          -1.0762885247087823,
          -0.2673821262177926,
          0.6680121061201801
         ]
        },
        {
         "boxpoints": false,
         "line": {
          "width": 1.3
         },
         "marker": {
          "color": "rgba(50, 171, 96, 1.0)"
         },
         "name": "C",
         "orientation": "v",
         "type": "box",
         "y": [
          0.8137369102886218,
          0.38406014021774704,
          0.8583336537775053,
          0.7957618956642141,
          1.4255409888334887,
          0.8494018529837316,
          0.8802582494550352,
          -0.4548968791233935,
          1.533558939208995,
          1.2524824477853664,
          -0.033876479326621675,
          -0.4110101837052343,
          -0.733897082639919,
          -0.7106157418903448,
          0.13722035073207373,
          0.7050198361557896,
          -0.5932002075891633,
          -1.3382789055267625,
          -2.5278828482383777,
          0.3982133911024089,
          0.525353202328653,
          -1.4962518795013926,
          -0.004760785788584715,
          0.7261859574377102,
          -1.303544165066935,
          -0.22178654551626484,
          1.494967772766792,
          0.628943023944182,
          -0.38821823494941937,
          -0.5668127027710045,
          0.7171598405660004,
          -0.7835133022052192,
          0.5000437115319482,
          0.7691384803578691,
          0.5523229894508553,
          -0.5541894348408164,
          -0.29938489655996475,
          -0.9131431790549518,
          -0.9794679240966921,
          1.163902122315106,
          -0.7752221633763264,
          -1.4495537781745207,
          0.4973865186073324,
          1.5030952854902895,
          -2.4964076259780277,
          0.1704835173224211,
          -0.02260160498626511,
          -0.9649170187581313,
          0.2019753230544578,
          -0.04155962146865371,
          1.615286363193417,
          0.3573636666371769,
          0.476460448964524,
          -1.5471884370551918,
          -1.3091741423554952,
          -0.8071981886965368,
          -1.318025945849581,
          -0.6618589471814981,
          -1.6212376252324474,
          2.1050156023915885,
          1.0382758927906282,
          1.0130772399982644,
          -0.5428322837985744,
          -1.5666433561393516,
          0.27206912749567025,
          -1.7500682837131234,
          -0.2470384533993433,
          0.856745769810696,
          0.050397071646110105,
          0.8591172982979858,
          -0.6237323300872393,
          -0.2802519687360328,
          -0.4115985448779974,
          -1.1095613669007458,
          -0.450350331399409,
          0.7805669384646385,
          0.3276051738502298,
          0.01799327164835346,
          0.47236995129634307,
          0.35546341981105,
          -0.1421734726670186,
          0.047300376883126743,
          1.3342425261563757,
          -0.20148061733839542,
          0.9372203022599283,
          -2.4673847964720728,
          0.20859636566666065,
          -0.6617846346669848,
          0.14039920109570533,
          -0.011579410918395594,
          -0.9564288279200693,
          0.8443967791582719,
          0.23651978111457783,
          0.06994116836111282,
          0.05499648632899061,
          0.3164823679807695,
          0.2995759568898395,
          2.3065943637298405,
          0.8967195702087817,
          0.21196575600905265
         ]
        },
        {
         "boxpoints": false,
         "line": {
          "width": 1.3
         },
         "marker": {
          "color": "rgba(128, 0, 128, 1.0)"
         },
         "name": "D",
         "orientation": "v",
         "type": "box",
         "y": [
          -0.41219737818529484,
          -0.9147191048039742,
          -1.219436193264347,
          1.5143994015691824,
          -2.1923301711810854,
          -0.903162267803806,
          1.0535462050704751,
          1.3960764437556177,
          0.3868619326568071,
          2.4525121979965308,
          0.0162161852241048,
          -0.4865399398552347,
          -0.6787831914000225,
          0.5952961179509224,
          0.9830827168768127,
          -0.5346074416237119,
          -1.8912269743098613,
          0.26106748829081644,
          1.476982997259971,
          -0.5837317944279515,
          -0.7322797758184094,
          -0.39419677768356387,
          -1.2307469264419622,
          0.3691142487885274,
          0.10966935398854762,
          -1.8053571689536656,
          -1.3362299798042523,
          1.0089180857224092,
          -0.7615747766983384,
          0.36279850099698424,
          -0.7864714134428039,
          -1.181668042014758,
          1.728369859890661,
          -0.04638915353653599,
          -0.3831109541831568,
          -1.692721071636255,
          -1.5919271991803412,
          0.8131457402676022,
          -0.2623198079568097,
          -1.9297665234901917,
          0.5076022583968207,
          -0.7140700625790625,
          0.3877288533850373,
          -0.4490557874850287,
          -0.7419266784049801,
          0.2769750352385636,
          -0.8886943267677583,
          0.19192681012128301,
          0.09254975120678652,
          0.25732296596707616,
          0.9461575249601594,
          -0.6547615010632385,
          1.0213950353696173,
          -0.29650290380060607,
          -1.320561240484073,
          0.30634684088010666,
          1.6403512148036148,
          1.4411529386636375,
          -0.502521705413938,
          -1.5550507017255497,
          -0.020193581404571784,
          1.1195063630136661,
          0.48288866582198753,
          0.6563853813135773,
          -0.03148201203133492,
          -0.6004264577182319,
          -0.409234215080488,
          -0.8834550220085939,
          0.18380424901299702,
          0.2753619971526059,
          -0.6578001097887088,
          0.8916561480623405,
          -0.08633187088099142,
          2.4539354030313616,
          0.7520702214235129,
          0.14825848428316013,
          0.5702749266765967,
          -1.161687966074187,
          0.5356915966245412,
          0.3307916225249503,
          -0.07440235159590498,
          0.10355787679932259,
          -0.5182391049382354,
          -1.6406755589160074,
          0.3480314724055074,
          0.15069414263181075,
          -1.0074768878248537,
          -0.007758560194556815,
          -0.3420105288611878,
          0.660954410451113,
          2.9107940920537745,
          -0.2626456029714481,
          1.1950250389328134,
          0.11697580915798587,
          -1.3186213144915546,
          0.2646137965520151,
          -0.16324258610278844,
          -0.48948430249355385,
          -0.3941668214094899,
          0.40569059888863773
         ]
        }
       ],
       "layout": {
        "legend": {
         "bgcolor": "#F5F6F9",
         "font": {
          "color": "#4D5663"
         }
        },
        "paper_bgcolor": "#F5F6F9",
        "plot_bgcolor": "#F5F6F9",
        "template": {
         "data": {
          "bar": [
           {
            "error_x": {
             "color": "#2a3f5f"
            },
            "error_y": {
             "color": "#2a3f5f"
            },
            "marker": {
             "line": {
              "color": "#E5ECF6",
              "width": 0.5
             },
             "pattern": {
              "fillmode": "overlay",
              "size": 10,
              "solidity": 0.2
             }
            },
            "type": "bar"
           }
          ],
          "barpolar": [
           {
            "marker": {
             "line": {
              "color": "#E5ECF6",
              "width": 0.5
             },
             "pattern": {
              "fillmode": "overlay",
              "size": 10,
              "solidity": 0.2
             }
            },
            "type": "barpolar"
           }
          ],
          "carpet": [
           {
            "aaxis": {
             "endlinecolor": "#2a3f5f",
             "gridcolor": "white",
             "linecolor": "white",
             "minorgridcolor": "white",
             "startlinecolor": "#2a3f5f"
            },
            "baxis": {
             "endlinecolor": "#2a3f5f",
             "gridcolor": "white",
             "linecolor": "white",
             "minorgridcolor": "white",
             "startlinecolor": "#2a3f5f"
            },
            "type": "carpet"
           }
          ],
          "choropleth": [
           {
            "colorbar": {
             "outlinewidth": 0,
             "ticks": ""
            },
            "type": "choropleth"
           }
          ],
          "contour": [
           {
            "colorbar": {
             "outlinewidth": 0,
             "ticks": ""
            },
            "colorscale": [
             [
              0,
              "#0d0887"
             ],
             [
              0.1111111111111111,
              "#46039f"
             ],
             [
              0.2222222222222222,
              "#7201a8"
             ],
             [
              0.3333333333333333,
              "#9c179e"
             ],
             [
              0.4444444444444444,
              "#bd3786"
             ],
             [
              0.5555555555555556,
              "#d8576b"
             ],
             [
              0.6666666666666666,
              "#ed7953"
             ],
             [
              0.7777777777777778,
              "#fb9f3a"
             ],
             [
              0.8888888888888888,
              "#fdca26"
             ],
             [
              1,
              "#f0f921"
             ]
            ],
            "type": "contour"
           }
          ],
          "contourcarpet": [
           {
            "colorbar": {
             "outlinewidth": 0,
             "ticks": ""
            },
            "type": "contourcarpet"
           }
          ],
          "heatmap": [
           {
            "colorbar": {
             "outlinewidth": 0,
             "ticks": ""
            },
            "colorscale": [
             [
              0,
              "#0d0887"
             ],
             [
              0.1111111111111111,
              "#46039f"
             ],
             [
              0.2222222222222222,
              "#7201a8"
             ],
             [
              0.3333333333333333,
              "#9c179e"
             ],
             [
              0.4444444444444444,
              "#bd3786"
             ],
             [
              0.5555555555555556,
              "#d8576b"
             ],
             [
              0.6666666666666666,
              "#ed7953"
             ],
             [
              0.7777777777777778,
              "#fb9f3a"
             ],
             [
              0.8888888888888888,
              "#fdca26"
             ],
             [
              1,
              "#f0f921"
             ]
            ],
            "type": "heatmap"
           }
          ],
          "heatmapgl": [
           {
            "colorbar": {
             "outlinewidth": 0,
             "ticks": ""
            },
            "colorscale": [
             [
              0,
              "#0d0887"
             ],
             [
              0.1111111111111111,
              "#46039f"
             ],
             [
              0.2222222222222222,
              "#7201a8"
             ],
             [
              0.3333333333333333,
              "#9c179e"
             ],
             [
              0.4444444444444444,
              "#bd3786"
             ],
             [
              0.5555555555555556,
              "#d8576b"
             ],
             [
              0.6666666666666666,
              "#ed7953"
             ],
             [
              0.7777777777777778,
              "#fb9f3a"
             ],
             [
              0.8888888888888888,
              "#fdca26"
             ],
             [
              1,
              "#f0f921"
             ]
            ],
            "type": "heatmapgl"
           }
          ],
          "histogram": [
           {
            "marker": {
             "pattern": {
              "fillmode": "overlay",
              "size": 10,
              "solidity": 0.2
             }
            },
            "type": "histogram"
           }
          ],
          "histogram2d": [
           {
            "colorbar": {
             "outlinewidth": 0,
             "ticks": ""
            },
            "colorscale": [
             [
              0,
              "#0d0887"
             ],
             [
              0.1111111111111111,
              "#46039f"
             ],
             [
              0.2222222222222222,
              "#7201a8"
             ],
             [
              0.3333333333333333,
              "#9c179e"
             ],
             [
              0.4444444444444444,
              "#bd3786"
             ],
             [
              0.5555555555555556,
              "#d8576b"
             ],
             [
              0.6666666666666666,
              "#ed7953"
             ],
             [
              0.7777777777777778,
              "#fb9f3a"
             ],
             [
              0.8888888888888888,
              "#fdca26"
             ],
             [
              1,
              "#f0f921"
             ]
            ],
            "type": "histogram2d"
           }
          ],
          "histogram2dcontour": [
           {
            "colorbar": {
             "outlinewidth": 0,
             "ticks": ""
            },
            "colorscale": [
             [
              0,
              "#0d0887"
             ],
             [
              0.1111111111111111,
              "#46039f"
             ],
             [
              0.2222222222222222,
              "#7201a8"
             ],
             [
              0.3333333333333333,
              "#9c179e"
             ],
             [
              0.4444444444444444,
              "#bd3786"
             ],
             [
              0.5555555555555556,
              "#d8576b"
             ],
             [
              0.6666666666666666,
              "#ed7953"
             ],
             [
              0.7777777777777778,
              "#fb9f3a"
             ],
             [
              0.8888888888888888,
              "#fdca26"
             ],
             [
              1,
              "#f0f921"
             ]
            ],
            "type": "histogram2dcontour"
           }
          ],
          "mesh3d": [
           {
            "colorbar": {
             "outlinewidth": 0,
             "ticks": ""
            },
            "type": "mesh3d"
           }
          ],
          "parcoords": [
           {
            "line": {
             "colorbar": {
              "outlinewidth": 0,
              "ticks": ""
             }
            },
            "type": "parcoords"
           }
          ],
          "pie": [
           {
            "automargin": true,
            "type": "pie"
           }
          ],
          "scatter": [
           {
            "marker": {
             "colorbar": {
              "outlinewidth": 0,
              "ticks": ""
             }
            },
            "type": "scatter"
           }
          ],
          "scatter3d": [
           {
            "line": {
             "colorbar": {
              "outlinewidth": 0,
              "ticks": ""
             }
            },
            "marker": {
             "colorbar": {
              "outlinewidth": 0,
              "ticks": ""
             }
            },
            "type": "scatter3d"
           }
          ],
          "scattercarpet": [
           {
            "marker": {
             "colorbar": {
              "outlinewidth": 0,
              "ticks": ""
             }
            },
            "type": "scattercarpet"
           }
          ],
          "scattergeo": [
           {
            "marker": {
             "colorbar": {
              "outlinewidth": 0,
              "ticks": ""
             }
            },
            "type": "scattergeo"
           }
          ],
          "scattergl": [
           {
            "marker": {
             "colorbar": {
              "outlinewidth": 0,
              "ticks": ""
             }
            },
            "type": "scattergl"
           }
          ],
          "scattermapbox": [
           {
            "marker": {
             "colorbar": {
              "outlinewidth": 0,
              "ticks": ""
             }
            },
            "type": "scattermapbox"
           }
          ],
          "scatterpolar": [
           {
            "marker": {
             "colorbar": {
              "outlinewidth": 0,
              "ticks": ""
             }
            },
            "type": "scatterpolar"
           }
          ],
          "scatterpolargl": [
           {
            "marker": {
             "colorbar": {
              "outlinewidth": 0,
              "ticks": ""
             }
            },
            "type": "scatterpolargl"
           }
          ],
          "scatterternary": [
           {
            "marker": {
             "colorbar": {
              "outlinewidth": 0,
              "ticks": ""
             }
            },
            "type": "scatterternary"
           }
          ],
          "surface": [
           {
            "colorbar": {
             "outlinewidth": 0,
             "ticks": ""
            },
            "colorscale": [
             [
              0,
              "#0d0887"
             ],
             [
              0.1111111111111111,
              "#46039f"
             ],
             [
              0.2222222222222222,
              "#7201a8"
             ],
             [
              0.3333333333333333,
              "#9c179e"
             ],
             [
              0.4444444444444444,
              "#bd3786"
             ],
             [
              0.5555555555555556,
              "#d8576b"
             ],
             [
              0.6666666666666666,
              "#ed7953"
             ],
             [
              0.7777777777777778,
              "#fb9f3a"
             ],
             [
              0.8888888888888888,
              "#fdca26"
             ],
             [
              1,
              "#f0f921"
             ]
            ],
            "type": "surface"
           }
          ],
          "table": [
           {
            "cells": {
             "fill": {
              "color": "#EBF0F8"
             },
             "line": {
              "color": "white"
             }
            },
            "header": {
             "fill": {
              "color": "#C8D4E3"
             },
             "line": {
              "color": "white"
             }
            },
            "type": "table"
           }
          ]
         },
         "layout": {
          "annotationdefaults": {
           "arrowcolor": "#2a3f5f",
           "arrowhead": 0,
           "arrowwidth": 1
          },
          "autotypenumbers": "strict",
          "coloraxis": {
           "colorbar": {
            "outlinewidth": 0,
            "ticks": ""
           }
          },
          "colorscale": {
           "diverging": [
            [
             0,
             "#8e0152"
            ],
            [
             0.1,
             "#c51b7d"
            ],
            [
             0.2,
             "#de77ae"
            ],
            [
             0.3,
             "#f1b6da"
            ],
            [
             0.4,
             "#fde0ef"
            ],
            [
             0.5,
             "#f7f7f7"
            ],
            [
             0.6,
             "#e6f5d0"
            ],
            [
             0.7,
             "#b8e186"
            ],
            [
             0.8,
             "#7fbc41"
            ],
            [
             0.9,
             "#4d9221"
            ],
            [
             1,
             "#276419"
            ]
           ],
           "sequential": [
            [
             0,
             "#0d0887"
            ],
            [
             0.1111111111111111,
             "#46039f"
            ],
            [
             0.2222222222222222,
             "#7201a8"
            ],
            [
             0.3333333333333333,
             "#9c179e"
            ],
            [
             0.4444444444444444,
             "#bd3786"
            ],
            [
             0.5555555555555556,
             "#d8576b"
            ],
            [
             0.6666666666666666,
             "#ed7953"
            ],
            [
             0.7777777777777778,
             "#fb9f3a"
            ],
            [
             0.8888888888888888,
             "#fdca26"
            ],
            [
             1,
             "#f0f921"
            ]
           ],
           "sequentialminus": [
            [
             0,
             "#0d0887"
            ],
            [
             0.1111111111111111,
             "#46039f"
            ],
            [
             0.2222222222222222,
             "#7201a8"
            ],
            [
             0.3333333333333333,
             "#9c179e"
            ],
            [
             0.4444444444444444,
             "#bd3786"
            ],
            [
             0.5555555555555556,
             "#d8576b"
            ],
            [
             0.6666666666666666,
             "#ed7953"
            ],
            [
             0.7777777777777778,
             "#fb9f3a"
            ],
            [
             0.8888888888888888,
             "#fdca26"
            ],
            [
             1,
             "#f0f921"
            ]
           ]
          },
          "colorway": [
           "#636efa",
           "#EF553B",
           "#00cc96",
           "#ab63fa",
           "#FFA15A",
           "#19d3f3",
           "#FF6692",
           "#B6E880",
           "#FF97FF",
           "#FECB52"
          ],
          "font": {
           "color": "#2a3f5f"
          },
          "geo": {
           "bgcolor": "white",
           "lakecolor": "white",
           "landcolor": "#E5ECF6",
           "showlakes": true,
           "showland": true,
           "subunitcolor": "white"
          },
          "hoverlabel": {
           "align": "left"
          },
          "hovermode": "closest",
          "mapbox": {
           "style": "light"
          },
          "paper_bgcolor": "white",
          "plot_bgcolor": "#E5ECF6",
          "polar": {
           "angularaxis": {
            "gridcolor": "white",
            "linecolor": "white",
            "ticks": ""
           },
           "bgcolor": "#E5ECF6",
           "radialaxis": {
            "gridcolor": "white",
            "linecolor": "white",
            "ticks": ""
           }
          },
          "scene": {
           "xaxis": {
            "backgroundcolor": "#E5ECF6",
            "gridcolor": "white",
            "gridwidth": 2,
            "linecolor": "white",
            "showbackground": true,
            "ticks": "",
            "zerolinecolor": "white"
           },
           "yaxis": {
            "backgroundcolor": "#E5ECF6",
            "gridcolor": "white",
            "gridwidth": 2,
            "linecolor": "white",
            "showbackground": true,
            "ticks": "",
            "zerolinecolor": "white"
           },
           "zaxis": {
            "backgroundcolor": "#E5ECF6",
            "gridcolor": "white",
            "gridwidth": 2,
            "linecolor": "white",
            "showbackground": true,
            "ticks": "",
            "zerolinecolor": "white"
           }
          },
          "shapedefaults": {
           "line": {
            "color": "#2a3f5f"
           }
          },
          "ternary": {
           "aaxis": {
            "gridcolor": "white",
            "linecolor": "white",
            "ticks": ""
           },
           "baxis": {
            "gridcolor": "white",
            "linecolor": "white",
            "ticks": ""
           },
           "bgcolor": "#E5ECF6",
           "caxis": {
            "gridcolor": "white",
            "linecolor": "white",
            "ticks": ""
           }
          },
          "title": {
           "x": 0.05
          },
          "xaxis": {
           "automargin": true,
           "gridcolor": "white",
           "linecolor": "white",
           "ticks": "",
           "title": {
            "standoff": 15
           },
           "zerolinecolor": "white",
           "zerolinewidth": 2
          },
          "yaxis": {
           "automargin": true,
           "gridcolor": "white",
           "linecolor": "white",
           "ticks": "",
           "title": {
            "standoff": 15
           },
           "zerolinecolor": "white",
           "zerolinewidth": 2
          }
         }
        },
        "title": {
         "font": {
          "color": "#4D5663"
         }
        },
        "xaxis": {
         "gridcolor": "#E1E5ED",
         "showgrid": true,
         "tickfont": {
          "color": "#4D5663"
         },
         "title": {
          "font": {
           "color": "#4D5663"
          },
          "text": ""
         },
         "zerolinecolor": "#E1E5ED"
        },
        "yaxis": {
         "gridcolor": "#E1E5ED",
         "showgrid": true,
         "tickfont": {
          "color": "#4D5663"
         },
         "title": {
          "font": {
           "color": "#4D5663"
          },
          "text": ""
         },
         "zerolinecolor": "#E1E5ED"
        }
       }
      },
      "text/html": [
       "<div>                            <div id=\"666c1b7e-d2f1-48b6-971a-8ef25c1eab66\" class=\"plotly-graph-div\" style=\"height:525px; width:100%;\"></div>            <script type=\"text/javascript\">                require([\"plotly\"], function(Plotly) {                    window.PLOTLYENV=window.PLOTLYENV || {};\n",
       "                    window.PLOTLYENV.BASE_URL='https://plot.ly';                                    if (document.getElementById(\"666c1b7e-d2f1-48b6-971a-8ef25c1eab66\")) {                    Plotly.newPlot(                        \"666c1b7e-d2f1-48b6-971a-8ef25c1eab66\",                        [{\"boxpoints\":false,\"line\":{\"width\":1.3},\"marker\":{\"color\":\"rgba(255, 153, 51, 1.0)\"},\"name\":\"A\",\"orientation\":\"v\",\"y\":[-0.7156901301506218,-2.4644340092683623,-0.5020478490356647,0.18831575059229694,-0.9395232600804589,0.6370608619021374,0.3181842436496653,-1.925815864693647,-1.601490197748081,0.7504852699910404,0.34651704071887407,-0.3782613877092965,0.50360062282216,1.1783072011157854,-0.39512918539645014,-0.27615642716525757,-0.6955150924719622,0.22125184868079706,0.3468389819905759,-1.417697236866669,1.115510266869824,-0.19740429399545154,-2.464841424106378,-0.8367326516922796,-1.784665752306031,-0.22786206228857037,-0.05747200108715722,-0.2582444417187888,-0.5840818609797201,-0.6447426754570369,-0.7890790059168368,0.23016315567803003,-1.267679972953894,0.11816464469909889,0.53265482704174,-1.2698235619164742,-1.8768988863675784,-0.9104585436306738,0.5197942871049583,-1.1344331642903294,0.992329649408986,-0.23854074055432464,-0.1930210849793099,0.6095404688520194,-1.232825526706406,-1.5328054495473706,0.3036487187896314,-0.2579415954354775,-0.28408823698571445,0.31097652201661435,0.5365134318194574,-0.2523997745954963,-0.22895996185521222,1.7212536262694407,0.220474283657124,-2.2021749191469557,-0.8986508298431952,-0.3221635884228591,-0.40414847758021716,-0.5652901674053412,1.0766577310137808,0.5349076975629776,0.23762680428485808,-1.7126244683313148,-0.5928398888471055,-1.4949122694654595,-1.1661099302510365,0.46297332937027735,-1.3945134376948467,-0.3869679733820751,-0.9624273069822818,-1.2765077481404117,-0.8586057990186773,-1.3617817621094965,0.5289027802019703,0.6103126439405477,0.9832256017665594,0.5128656072910021,-0.4379259719293449,-0.6556385330952424,0.14179110527076172,-0.01073393938291526,0.5485346127017294,1.2238687868347427,1.3552631701641884,-0.679197152670297,1.4246054066122478,0.37843614621800514,-0.33839561042916416,0.595800624621955,0.2134554912461374,1.115174003760538,0.8652782710066977,0.3619724278187933,-0.9215434485902071,0.8922369823809136,-0.21678248120535829,-0.688812085998554,0.4169838531764566,0.2484314725645371],\"type\":\"box\"},{\"boxpoints\":false,\"line\":{\"width\":1.3},\"marker\":{\"color\":\"rgba(55, 128, 191, 1.0)\"},\"name\":\"B\",\"orientation\":\"v\",\"y\":[-0.6513797764818611,0.5244019427590942,-1.1744674888572253,0.43368191568401226,0.899497260401665,-1.1445625650980764,0.07099522324692333,0.04362068821287567,-0.8160348335399022,0.1626016136310631,-0.7298670162319529,0.6713855417304806,-0.4897210754965677,-0.48252481799299574,-1.3139286582223493,0.9707580321863382,-1.1464067098017479,-1.6598898005122826,0.23742605508299555,2.6643609903481145,0.22610339598619442,0.6649669769165972,0.9281709465845623,0.9791321813439632,0.8762934680617513,-0.28943460277957755,-0.028190662231939393,0.2719755628483441,0.8570323675771371,-0.9874367202861509,1.1186820362029204,0.12441702071829709,-0.7566677889736816,0.5261667781482235,0.8229391933147238,1.0237625257527891,-1.1075967095024015,0.6989216003060206,0.4484205570752432,-0.26803786635302745,-0.6634160128961857,2.335734557413926,-1.434184074279899,0.2473602698192445,0.22238480469788974,-0.2677583598956593,0.2725413480059053,-0.8395778183942763,-0.661834594922329,-0.27007302620888896,-0.2474487320510582,-1.7686789507801906,-0.6927976504687269,-0.5679102310983882,-0.1715477136966996,-1.295629485531873,0.749114656046574,-0.4396779137233732,0.881864840173589,0.6699484712192457,-0.9865989035422554,0.8041516446982689,0.5708137463595715,-0.3544348711895968,-0.4411283148910683,-0.012678521787541109,-0.15374985521185416,1.0354303578331185,1.3043066720596153,-0.8746890120010864,0.08458332717612128,-0.8003519447971019,-0.6851446620945236,-1.1559883622724791,0.27707248332228673,1.4398769778179106,-1.574198276171295,-0.10824476202121064,-0.878756138704042,0.9528462091562935,0.36882014943302904,0.701962408764391,0.12515471481787668,0.9043374679657142,0.2254823419787821,0.4958042695863272,-0.5975032114557614,0.7257348296841276,0.4855953408620199,-3.3825219320437827,0.5322162490593761,0.05039546272046297,0.10839147887182421,-2.015338751110118,0.643382932891098,-0.8632757680204926,1.1845968063934953,-1.0762885247087823,-0.2673821262177926,0.6680121061201801],\"type\":\"box\"},{\"boxpoints\":false,\"line\":{\"width\":1.3},\"marker\":{\"color\":\"rgba(50, 171, 96, 1.0)\"},\"name\":\"C\",\"orientation\":\"v\",\"y\":[0.8137369102886218,0.38406014021774704,0.8583336537775053,0.7957618956642141,1.4255409888334887,0.8494018529837316,0.8802582494550352,-0.4548968791233935,1.533558939208995,1.2524824477853664,-0.033876479326621675,-0.4110101837052343,-0.733897082639919,-0.7106157418903448,0.13722035073207373,0.7050198361557896,-0.5932002075891633,-1.3382789055267625,-2.5278828482383777,0.3982133911024089,0.525353202328653,-1.4962518795013926,-0.004760785788584715,0.7261859574377102,-1.303544165066935,-0.22178654551626484,1.494967772766792,0.628943023944182,-0.38821823494941937,-0.5668127027710045,0.7171598405660004,-0.7835133022052192,0.5000437115319482,0.7691384803578691,0.5523229894508553,-0.5541894348408164,-0.29938489655996475,-0.9131431790549518,-0.9794679240966921,1.163902122315106,-0.7752221633763264,-1.4495537781745207,0.4973865186073324,1.5030952854902895,-2.4964076259780277,0.1704835173224211,-0.02260160498626511,-0.9649170187581313,0.2019753230544578,-0.04155962146865371,1.615286363193417,0.3573636666371769,0.476460448964524,-1.5471884370551918,-1.3091741423554952,-0.8071981886965368,-1.318025945849581,-0.6618589471814981,-1.6212376252324474,2.1050156023915885,1.0382758927906282,1.0130772399982644,-0.5428322837985744,-1.5666433561393516,0.27206912749567025,-1.7500682837131234,-0.2470384533993433,0.856745769810696,0.050397071646110105,0.8591172982979858,-0.6237323300872393,-0.2802519687360328,-0.4115985448779974,-1.1095613669007458,-0.450350331399409,0.7805669384646385,0.3276051738502298,0.01799327164835346,0.47236995129634307,0.35546341981105,-0.1421734726670186,0.047300376883126743,1.3342425261563757,-0.20148061733839542,0.9372203022599283,-2.4673847964720728,0.20859636566666065,-0.6617846346669848,0.14039920109570533,-0.011579410918395594,-0.9564288279200693,0.8443967791582719,0.23651978111457783,0.06994116836111282,0.05499648632899061,0.3164823679807695,0.2995759568898395,2.3065943637298405,0.8967195702087817,0.21196575600905265],\"type\":\"box\"},{\"boxpoints\":false,\"line\":{\"width\":1.3},\"marker\":{\"color\":\"rgba(128, 0, 128, 1.0)\"},\"name\":\"D\",\"orientation\":\"v\",\"y\":[-0.41219737818529484,-0.9147191048039742,-1.219436193264347,1.5143994015691824,-2.1923301711810854,-0.903162267803806,1.0535462050704751,1.3960764437556177,0.3868619326568071,2.4525121979965308,0.0162161852241048,-0.4865399398552347,-0.6787831914000225,0.5952961179509224,0.9830827168768127,-0.5346074416237119,-1.8912269743098613,0.26106748829081644,1.476982997259971,-0.5837317944279515,-0.7322797758184094,-0.39419677768356387,-1.2307469264419622,0.3691142487885274,0.10966935398854762,-1.8053571689536656,-1.3362299798042523,1.0089180857224092,-0.7615747766983384,0.36279850099698424,-0.7864714134428039,-1.181668042014758,1.728369859890661,-0.04638915353653599,-0.3831109541831568,-1.692721071636255,-1.5919271991803412,0.8131457402676022,-0.2623198079568097,-1.9297665234901917,0.5076022583968207,-0.7140700625790625,0.3877288533850373,-0.4490557874850287,-0.7419266784049801,0.2769750352385636,-0.8886943267677583,0.19192681012128301,0.09254975120678652,0.25732296596707616,0.9461575249601594,-0.6547615010632385,1.0213950353696173,-0.29650290380060607,-1.320561240484073,0.30634684088010666,1.6403512148036148,1.4411529386636375,-0.502521705413938,-1.5550507017255497,-0.020193581404571784,1.1195063630136661,0.48288866582198753,0.6563853813135773,-0.03148201203133492,-0.6004264577182319,-0.409234215080488,-0.8834550220085939,0.18380424901299702,0.2753619971526059,-0.6578001097887088,0.8916561480623405,-0.08633187088099142,2.4539354030313616,0.7520702214235129,0.14825848428316013,0.5702749266765967,-1.161687966074187,0.5356915966245412,0.3307916225249503,-0.07440235159590498,0.10355787679932259,-0.5182391049382354,-1.6406755589160074,0.3480314724055074,0.15069414263181075,-1.0074768878248537,-0.007758560194556815,-0.3420105288611878,0.660954410451113,2.9107940920537745,-0.2626456029714481,1.1950250389328134,0.11697580915798587,-1.3186213144915546,0.2646137965520151,-0.16324258610278844,-0.48948430249355385,-0.3941668214094899,0.40569059888863773],\"type\":\"box\"}],                        {\"legend\":{\"bgcolor\":\"#F5F6F9\",\"font\":{\"color\":\"#4D5663\"}},\"paper_bgcolor\":\"#F5F6F9\",\"plot_bgcolor\":\"#F5F6F9\",\"template\":{\"data\":{\"barpolar\":[{\"marker\":{\"line\":{\"color\":\"#E5ECF6\",\"width\":0.5},\"pattern\":{\"fillmode\":\"overlay\",\"size\":10,\"solidity\":0.2}},\"type\":\"barpolar\"}],\"bar\":[{\"error_x\":{\"color\":\"#2a3f5f\"},\"error_y\":{\"color\":\"#2a3f5f\"},\"marker\":{\"line\":{\"color\":\"#E5ECF6\",\"width\":0.5},\"pattern\":{\"fillmode\":\"overlay\",\"size\":10,\"solidity\":0.2}},\"type\":\"bar\"}],\"carpet\":[{\"aaxis\":{\"endlinecolor\":\"#2a3f5f\",\"gridcolor\":\"white\",\"linecolor\":\"white\",\"minorgridcolor\":\"white\",\"startlinecolor\":\"#2a3f5f\"},\"baxis\":{\"endlinecolor\":\"#2a3f5f\",\"gridcolor\":\"white\",\"linecolor\":\"white\",\"minorgridcolor\":\"white\",\"startlinecolor\":\"#2a3f5f\"},\"type\":\"carpet\"}],\"choropleth\":[{\"colorbar\":{\"outlinewidth\":0,\"ticks\":\"\"},\"type\":\"choropleth\"}],\"contourcarpet\":[{\"colorbar\":{\"outlinewidth\":0,\"ticks\":\"\"},\"type\":\"contourcarpet\"}],\"contour\":[{\"colorbar\":{\"outlinewidth\":0,\"ticks\":\"\"},\"colorscale\":[[0.0,\"#0d0887\"],[0.1111111111111111,\"#46039f\"],[0.2222222222222222,\"#7201a8\"],[0.3333333333333333,\"#9c179e\"],[0.4444444444444444,\"#bd3786\"],[0.5555555555555556,\"#d8576b\"],[0.6666666666666666,\"#ed7953\"],[0.7777777777777778,\"#fb9f3a\"],[0.8888888888888888,\"#fdca26\"],[1.0,\"#f0f921\"]],\"type\":\"contour\"}],\"heatmapgl\":[{\"colorbar\":{\"outlinewidth\":0,\"ticks\":\"\"},\"colorscale\":[[0.0,\"#0d0887\"],[0.1111111111111111,\"#46039f\"],[0.2222222222222222,\"#7201a8\"],[0.3333333333333333,\"#9c179e\"],[0.4444444444444444,\"#bd3786\"],[0.5555555555555556,\"#d8576b\"],[0.6666666666666666,\"#ed7953\"],[0.7777777777777778,\"#fb9f3a\"],[0.8888888888888888,\"#fdca26\"],[1.0,\"#f0f921\"]],\"type\":\"heatmapgl\"}],\"heatmap\":[{\"colorbar\":{\"outlinewidth\":0,\"ticks\":\"\"},\"colorscale\":[[0.0,\"#0d0887\"],[0.1111111111111111,\"#46039f\"],[0.2222222222222222,\"#7201a8\"],[0.3333333333333333,\"#9c179e\"],[0.4444444444444444,\"#bd3786\"],[0.5555555555555556,\"#d8576b\"],[0.6666666666666666,\"#ed7953\"],[0.7777777777777778,\"#fb9f3a\"],[0.8888888888888888,\"#fdca26\"],[1.0,\"#f0f921\"]],\"type\":\"heatmap\"}],\"histogram2dcontour\":[{\"colorbar\":{\"outlinewidth\":0,\"ticks\":\"\"},\"colorscale\":[[0.0,\"#0d0887\"],[0.1111111111111111,\"#46039f\"],[0.2222222222222222,\"#7201a8\"],[0.3333333333333333,\"#9c179e\"],[0.4444444444444444,\"#bd3786\"],[0.5555555555555556,\"#d8576b\"],[0.6666666666666666,\"#ed7953\"],[0.7777777777777778,\"#fb9f3a\"],[0.8888888888888888,\"#fdca26\"],[1.0,\"#f0f921\"]],\"type\":\"histogram2dcontour\"}],\"histogram2d\":[{\"colorbar\":{\"outlinewidth\":0,\"ticks\":\"\"},\"colorscale\":[[0.0,\"#0d0887\"],[0.1111111111111111,\"#46039f\"],[0.2222222222222222,\"#7201a8\"],[0.3333333333333333,\"#9c179e\"],[0.4444444444444444,\"#bd3786\"],[0.5555555555555556,\"#d8576b\"],[0.6666666666666666,\"#ed7953\"],[0.7777777777777778,\"#fb9f3a\"],[0.8888888888888888,\"#fdca26\"],[1.0,\"#f0f921\"]],\"type\":\"histogram2d\"}],\"histogram\":[{\"marker\":{\"pattern\":{\"fillmode\":\"overlay\",\"size\":10,\"solidity\":0.2}},\"type\":\"histogram\"}],\"mesh3d\":[{\"colorbar\":{\"outlinewidth\":0,\"ticks\":\"\"},\"type\":\"mesh3d\"}],\"parcoords\":[{\"line\":{\"colorbar\":{\"outlinewidth\":0,\"ticks\":\"\"}},\"type\":\"parcoords\"}],\"pie\":[{\"automargin\":true,\"type\":\"pie\"}],\"scatter3d\":[{\"line\":{\"colorbar\":{\"outlinewidth\":0,\"ticks\":\"\"}},\"marker\":{\"colorbar\":{\"outlinewidth\":0,\"ticks\":\"\"}},\"type\":\"scatter3d\"}],\"scattercarpet\":[{\"marker\":{\"colorbar\":{\"outlinewidth\":0,\"ticks\":\"\"}},\"type\":\"scattercarpet\"}],\"scattergeo\":[{\"marker\":{\"colorbar\":{\"outlinewidth\":0,\"ticks\":\"\"}},\"type\":\"scattergeo\"}],\"scattergl\":[{\"marker\":{\"colorbar\":{\"outlinewidth\":0,\"ticks\":\"\"}},\"type\":\"scattergl\"}],\"scattermapbox\":[{\"marker\":{\"colorbar\":{\"outlinewidth\":0,\"ticks\":\"\"}},\"type\":\"scattermapbox\"}],\"scatterpolargl\":[{\"marker\":{\"colorbar\":{\"outlinewidth\":0,\"ticks\":\"\"}},\"type\":\"scatterpolargl\"}],\"scatterpolar\":[{\"marker\":{\"colorbar\":{\"outlinewidth\":0,\"ticks\":\"\"}},\"type\":\"scatterpolar\"}],\"scatter\":[{\"marker\":{\"colorbar\":{\"outlinewidth\":0,\"ticks\":\"\"}},\"type\":\"scatter\"}],\"scatterternary\":[{\"marker\":{\"colorbar\":{\"outlinewidth\":0,\"ticks\":\"\"}},\"type\":\"scatterternary\"}],\"surface\":[{\"colorbar\":{\"outlinewidth\":0,\"ticks\":\"\"},\"colorscale\":[[0.0,\"#0d0887\"],[0.1111111111111111,\"#46039f\"],[0.2222222222222222,\"#7201a8\"],[0.3333333333333333,\"#9c179e\"],[0.4444444444444444,\"#bd3786\"],[0.5555555555555556,\"#d8576b\"],[0.6666666666666666,\"#ed7953\"],[0.7777777777777778,\"#fb9f3a\"],[0.8888888888888888,\"#fdca26\"],[1.0,\"#f0f921\"]],\"type\":\"surface\"}],\"table\":[{\"cells\":{\"fill\":{\"color\":\"#EBF0F8\"},\"line\":{\"color\":\"white\"}},\"header\":{\"fill\":{\"color\":\"#C8D4E3\"},\"line\":{\"color\":\"white\"}},\"type\":\"table\"}]},\"layout\":{\"annotationdefaults\":{\"arrowcolor\":\"#2a3f5f\",\"arrowhead\":0,\"arrowwidth\":1},\"autotypenumbers\":\"strict\",\"coloraxis\":{\"colorbar\":{\"outlinewidth\":0,\"ticks\":\"\"}},\"colorscale\":{\"diverging\":[[0,\"#8e0152\"],[0.1,\"#c51b7d\"],[0.2,\"#de77ae\"],[0.3,\"#f1b6da\"],[0.4,\"#fde0ef\"],[0.5,\"#f7f7f7\"],[0.6,\"#e6f5d0\"],[0.7,\"#b8e186\"],[0.8,\"#7fbc41\"],[0.9,\"#4d9221\"],[1,\"#276419\"]],\"sequential\":[[0.0,\"#0d0887\"],[0.1111111111111111,\"#46039f\"],[0.2222222222222222,\"#7201a8\"],[0.3333333333333333,\"#9c179e\"],[0.4444444444444444,\"#bd3786\"],[0.5555555555555556,\"#d8576b\"],[0.6666666666666666,\"#ed7953\"],[0.7777777777777778,\"#fb9f3a\"],[0.8888888888888888,\"#fdca26\"],[1.0,\"#f0f921\"]],\"sequentialminus\":[[0.0,\"#0d0887\"],[0.1111111111111111,\"#46039f\"],[0.2222222222222222,\"#7201a8\"],[0.3333333333333333,\"#9c179e\"],[0.4444444444444444,\"#bd3786\"],[0.5555555555555556,\"#d8576b\"],[0.6666666666666666,\"#ed7953\"],[0.7777777777777778,\"#fb9f3a\"],[0.8888888888888888,\"#fdca26\"],[1.0,\"#f0f921\"]]},\"colorway\":[\"#636efa\",\"#EF553B\",\"#00cc96\",\"#ab63fa\",\"#FFA15A\",\"#19d3f3\",\"#FF6692\",\"#B6E880\",\"#FF97FF\",\"#FECB52\"],\"font\":{\"color\":\"#2a3f5f\"},\"geo\":{\"bgcolor\":\"white\",\"lakecolor\":\"white\",\"landcolor\":\"#E5ECF6\",\"showlakes\":true,\"showland\":true,\"subunitcolor\":\"white\"},\"hoverlabel\":{\"align\":\"left\"},\"hovermode\":\"closest\",\"mapbox\":{\"style\":\"light\"},\"paper_bgcolor\":\"white\",\"plot_bgcolor\":\"#E5ECF6\",\"polar\":{\"angularaxis\":{\"gridcolor\":\"white\",\"linecolor\":\"white\",\"ticks\":\"\"},\"bgcolor\":\"#E5ECF6\",\"radialaxis\":{\"gridcolor\":\"white\",\"linecolor\":\"white\",\"ticks\":\"\"}},\"scene\":{\"xaxis\":{\"backgroundcolor\":\"#E5ECF6\",\"gridcolor\":\"white\",\"gridwidth\":2,\"linecolor\":\"white\",\"showbackground\":true,\"ticks\":\"\",\"zerolinecolor\":\"white\"},\"yaxis\":{\"backgroundcolor\":\"#E5ECF6\",\"gridcolor\":\"white\",\"gridwidth\":2,\"linecolor\":\"white\",\"showbackground\":true,\"ticks\":\"\",\"zerolinecolor\":\"white\"},\"zaxis\":{\"backgroundcolor\":\"#E5ECF6\",\"gridcolor\":\"white\",\"gridwidth\":2,\"linecolor\":\"white\",\"showbackground\":true,\"ticks\":\"\",\"zerolinecolor\":\"white\"}},\"shapedefaults\":{\"line\":{\"color\":\"#2a3f5f\"}},\"ternary\":{\"aaxis\":{\"gridcolor\":\"white\",\"linecolor\":\"white\",\"ticks\":\"\"},\"baxis\":{\"gridcolor\":\"white\",\"linecolor\":\"white\",\"ticks\":\"\"},\"bgcolor\":\"#E5ECF6\",\"caxis\":{\"gridcolor\":\"white\",\"linecolor\":\"white\",\"ticks\":\"\"}},\"title\":{\"x\":0.05},\"xaxis\":{\"automargin\":true,\"gridcolor\":\"white\",\"linecolor\":\"white\",\"ticks\":\"\",\"title\":{\"standoff\":15},\"zerolinecolor\":\"white\",\"zerolinewidth\":2},\"yaxis\":{\"automargin\":true,\"gridcolor\":\"white\",\"linecolor\":\"white\",\"ticks\":\"\",\"title\":{\"standoff\":15},\"zerolinecolor\":\"white\",\"zerolinewidth\":2}}},\"title\":{\"font\":{\"color\":\"#4D5663\"}},\"xaxis\":{\"gridcolor\":\"#E1E5ED\",\"showgrid\":true,\"tickfont\":{\"color\":\"#4D5663\"},\"title\":{\"font\":{\"color\":\"#4D5663\"},\"text\":\"\"},\"zerolinecolor\":\"#E1E5ED\"},\"yaxis\":{\"gridcolor\":\"#E1E5ED\",\"showgrid\":true,\"tickfont\":{\"color\":\"#4D5663\"},\"title\":{\"font\":{\"color\":\"#4D5663\"},\"text\":\"\"},\"zerolinecolor\":\"#E1E5ED\"}},                        {\"showLink\": true, \"linkText\": \"Export to plot.ly\", \"plotlyServerURL\": \"https://plot.ly\", \"responsive\": true}                    ).then(function(){\n",
       "                            \n",
       "var gd = document.getElementById('666c1b7e-d2f1-48b6-971a-8ef25c1eab66');\n",
       "var x = new MutationObserver(function (mutations, observer) {{\n",
       "        var display = window.getComputedStyle(gd).display;\n",
       "        if (!display || display === 'none') {{\n",
       "            console.log([gd, 'removed!']);\n",
       "            Plotly.purge(gd);\n",
       "            observer.disconnect();\n",
       "        }}\n",
       "}});\n",
       "\n",
       "// Listen for the removal of the full notebook cells\n",
       "var notebookContainer = gd.closest('#notebook-container');\n",
       "if (notebookContainer) {{\n",
       "    x.observe(notebookContainer, {childList: true});\n",
       "}}\n",
       "\n",
       "// Listen for the clearing of the current output cell\n",
       "var outputEl = gd.closest('.output');\n",
       "if (outputEl) {{\n",
       "    x.observe(outputEl, {childList: true});\n",
       "}}\n",
       "\n",
       "                        })                };                });            </script>        </div>"
      ]
     },
     "metadata": {},
     "output_type": "display_data"
    }
   ],
   "source": [
    "# box iplot of df columns. click on/off of the legends\n",
    "\n",
    "df.iplot(kind='box')"
   ]
  },
  {
   "cell_type": "code",
   "execution_count": 19,
   "id": "ba40ce6e",
   "metadata": {},
   "outputs": [],
   "source": [
    "# create a 3D surface plot with a new Data frame\n",
    "\n",
    "df3 = pd.DataFrame({'x':[1,2,3,4,5],'y':[10,20,30,20,10],'z':[500,400,300,200,100]})"
   ]
  },
  {
   "cell_type": "code",
   "execution_count": 20,
   "id": "81c9d39c",
   "metadata": {},
   "outputs": [
    {
     "data": {
      "text/html": [
       "<div>\n",
       "<style scoped>\n",
       "    .dataframe tbody tr th:only-of-type {\n",
       "        vertical-align: middle;\n",
       "    }\n",
       "\n",
       "    .dataframe tbody tr th {\n",
       "        vertical-align: top;\n",
       "    }\n",
       "\n",
       "    .dataframe thead th {\n",
       "        text-align: right;\n",
       "    }\n",
       "</style>\n",
       "<table border=\"1\" class=\"dataframe\">\n",
       "  <thead>\n",
       "    <tr style=\"text-align: right;\">\n",
       "      <th></th>\n",
       "      <th>x</th>\n",
       "      <th>y</th>\n",
       "      <th>z</th>\n",
       "    </tr>\n",
       "  </thead>\n",
       "  <tbody>\n",
       "    <tr>\n",
       "      <th>0</th>\n",
       "      <td>1</td>\n",
       "      <td>10</td>\n",
       "      <td>500</td>\n",
       "    </tr>\n",
       "    <tr>\n",
       "      <th>1</th>\n",
       "      <td>2</td>\n",
       "      <td>20</td>\n",
       "      <td>400</td>\n",
       "    </tr>\n",
       "    <tr>\n",
       "      <th>2</th>\n",
       "      <td>3</td>\n",
       "      <td>30</td>\n",
       "      <td>300</td>\n",
       "    </tr>\n",
       "    <tr>\n",
       "      <th>3</th>\n",
       "      <td>4</td>\n",
       "      <td>20</td>\n",
       "      <td>200</td>\n",
       "    </tr>\n",
       "    <tr>\n",
       "      <th>4</th>\n",
       "      <td>5</td>\n",
       "      <td>10</td>\n",
       "      <td>100</td>\n",
       "    </tr>\n",
       "  </tbody>\n",
       "</table>\n",
       "</div>"
      ],
      "text/plain": [
       "   x   y    z\n",
       "0  1  10  500\n",
       "1  2  20  400\n",
       "2  3  30  300\n",
       "3  4  20  200\n",
       "4  5  10  100"
      ]
     },
     "execution_count": 20,
     "metadata": {},
     "output_type": "execute_result"
    }
   ],
   "source": [
    "df3"
   ]
  },
  {
   "cell_type": "code",
   "execution_count": 21,
   "id": "4d6571d6",
   "metadata": {},
   "outputs": [
    {
     "data": {
      "application/vnd.plotly.v1+json": {
       "config": {
        "linkText": "Export to plot.ly",
        "plotlyServerURL": "https://plot.ly",
        "showLink": true
       },
       "data": [
        {
         "colorscale": [
          [
           0,
           "rgb(255, 153, 51)"
          ],
          [
           0.1111111111111111,
           "rgb(55, 128, 191)"
          ],
          [
           0.2222222222222222,
           "rgb(50, 171, 96)"
          ],
          [
           0.3333333333333333,
           "rgb(128, 0, 128)"
          ],
          [
           0.4444444444444444,
           "rgb(219, 64, 82)"
          ],
          [
           0.5555555555555556,
           "rgb(0, 128, 128)"
          ],
          [
           0.6666666666666666,
           "rgb(255, 255, 51)"
          ],
          [
           0.7777777777777778,
           "rgb(128, 128, 0)"
          ],
          [
           0.8888888888888888,
           "rgb(251, 128, 114)"
          ],
          [
           1,
           "rgb(128, 177, 211)"
          ]
         ],
         "type": "surface",
         "x": [
          0,
          1,
          2,
          3,
          4
         ],
         "y": [
          "x",
          "y",
          "z"
         ],
         "z": [
          [
           1,
           2,
           3,
           4,
           5
          ],
          [
           10,
           20,
           30,
           20,
           10
          ],
          [
           500,
           400,
           300,
           200,
           100
          ]
         ]
        }
       ],
       "layout": {
        "legend": {
         "bgcolor": "#F5F6F9",
         "font": {
          "color": "#4D5663"
         }
        },
        "paper_bgcolor": "#F5F6F9",
        "plot_bgcolor": "#F5F6F9",
        "template": {
         "data": {
          "bar": [
           {
            "error_x": {
             "color": "#2a3f5f"
            },
            "error_y": {
             "color": "#2a3f5f"
            },
            "marker": {
             "line": {
              "color": "#E5ECF6",
              "width": 0.5
             },
             "pattern": {
              "fillmode": "overlay",
              "size": 10,
              "solidity": 0.2
             }
            },
            "type": "bar"
           }
          ],
          "barpolar": [
           {
            "marker": {
             "line": {
              "color": "#E5ECF6",
              "width": 0.5
             },
             "pattern": {
              "fillmode": "overlay",
              "size": 10,
              "solidity": 0.2
             }
            },
            "type": "barpolar"
           }
          ],
          "carpet": [
           {
            "aaxis": {
             "endlinecolor": "#2a3f5f",
             "gridcolor": "white",
             "linecolor": "white",
             "minorgridcolor": "white",
             "startlinecolor": "#2a3f5f"
            },
            "baxis": {
             "endlinecolor": "#2a3f5f",
             "gridcolor": "white",
             "linecolor": "white",
             "minorgridcolor": "white",
             "startlinecolor": "#2a3f5f"
            },
            "type": "carpet"
           }
          ],
          "choropleth": [
           {
            "colorbar": {
             "outlinewidth": 0,
             "ticks": ""
            },
            "type": "choropleth"
           }
          ],
          "contour": [
           {
            "colorbar": {
             "outlinewidth": 0,
             "ticks": ""
            },
            "colorscale": [
             [
              0,
              "#0d0887"
             ],
             [
              0.1111111111111111,
              "#46039f"
             ],
             [
              0.2222222222222222,
              "#7201a8"
             ],
             [
              0.3333333333333333,
              "#9c179e"
             ],
             [
              0.4444444444444444,
              "#bd3786"
             ],
             [
              0.5555555555555556,
              "#d8576b"
             ],
             [
              0.6666666666666666,
              "#ed7953"
             ],
             [
              0.7777777777777778,
              "#fb9f3a"
             ],
             [
              0.8888888888888888,
              "#fdca26"
             ],
             [
              1,
              "#f0f921"
             ]
            ],
            "type": "contour"
           }
          ],
          "contourcarpet": [
           {
            "colorbar": {
             "outlinewidth": 0,
             "ticks": ""
            },
            "type": "contourcarpet"
           }
          ],
          "heatmap": [
           {
            "colorbar": {
             "outlinewidth": 0,
             "ticks": ""
            },
            "colorscale": [
             [
              0,
              "#0d0887"
             ],
             [
              0.1111111111111111,
              "#46039f"
             ],
             [
              0.2222222222222222,
              "#7201a8"
             ],
             [
              0.3333333333333333,
              "#9c179e"
             ],
             [
              0.4444444444444444,
              "#bd3786"
             ],
             [
              0.5555555555555556,
              "#d8576b"
             ],
             [
              0.6666666666666666,
              "#ed7953"
             ],
             [
              0.7777777777777778,
              "#fb9f3a"
             ],
             [
              0.8888888888888888,
              "#fdca26"
             ],
             [
              1,
              "#f0f921"
             ]
            ],
            "type": "heatmap"
           }
          ],
          "heatmapgl": [
           {
            "colorbar": {
             "outlinewidth": 0,
             "ticks": ""
            },
            "colorscale": [
             [
              0,
              "#0d0887"
             ],
             [
              0.1111111111111111,
              "#46039f"
             ],
             [
              0.2222222222222222,
              "#7201a8"
             ],
             [
              0.3333333333333333,
              "#9c179e"
             ],
             [
              0.4444444444444444,
              "#bd3786"
             ],
             [
              0.5555555555555556,
              "#d8576b"
             ],
             [
              0.6666666666666666,
              "#ed7953"
             ],
             [
              0.7777777777777778,
              "#fb9f3a"
             ],
             [
              0.8888888888888888,
              "#fdca26"
             ],
             [
              1,
              "#f0f921"
             ]
            ],
            "type": "heatmapgl"
           }
          ],
          "histogram": [
           {
            "marker": {
             "pattern": {
              "fillmode": "overlay",
              "size": 10,
              "solidity": 0.2
             }
            },
            "type": "histogram"
           }
          ],
          "histogram2d": [
           {
            "colorbar": {
             "outlinewidth": 0,
             "ticks": ""
            },
            "colorscale": [
             [
              0,
              "#0d0887"
             ],
             [
              0.1111111111111111,
              "#46039f"
             ],
             [
              0.2222222222222222,
              "#7201a8"
             ],
             [
              0.3333333333333333,
              "#9c179e"
             ],
             [
              0.4444444444444444,
              "#bd3786"
             ],
             [
              0.5555555555555556,
              "#d8576b"
             ],
             [
              0.6666666666666666,
              "#ed7953"
             ],
             [
              0.7777777777777778,
              "#fb9f3a"
             ],
             [
              0.8888888888888888,
              "#fdca26"
             ],
             [
              1,
              "#f0f921"
             ]
            ],
            "type": "histogram2d"
           }
          ],
          "histogram2dcontour": [
           {
            "colorbar": {
             "outlinewidth": 0,
             "ticks": ""
            },
            "colorscale": [
             [
              0,
              "#0d0887"
             ],
             [
              0.1111111111111111,
              "#46039f"
             ],
             [
              0.2222222222222222,
              "#7201a8"
             ],
             [
              0.3333333333333333,
              "#9c179e"
             ],
             [
              0.4444444444444444,
              "#bd3786"
             ],
             [
              0.5555555555555556,
              "#d8576b"
             ],
             [
              0.6666666666666666,
              "#ed7953"
             ],
             [
              0.7777777777777778,
              "#fb9f3a"
             ],
             [
              0.8888888888888888,
              "#fdca26"
             ],
             [
              1,
              "#f0f921"
             ]
            ],
            "type": "histogram2dcontour"
           }
          ],
          "mesh3d": [
           {
            "colorbar": {
             "outlinewidth": 0,
             "ticks": ""
            },
            "type": "mesh3d"
           }
          ],
          "parcoords": [
           {
            "line": {
             "colorbar": {
              "outlinewidth": 0,
              "ticks": ""
             }
            },
            "type": "parcoords"
           }
          ],
          "pie": [
           {
            "automargin": true,
            "type": "pie"
           }
          ],
          "scatter": [
           {
            "marker": {
             "colorbar": {
              "outlinewidth": 0,
              "ticks": ""
             }
            },
            "type": "scatter"
           }
          ],
          "scatter3d": [
           {
            "line": {
             "colorbar": {
              "outlinewidth": 0,
              "ticks": ""
             }
            },
            "marker": {
             "colorbar": {
              "outlinewidth": 0,
              "ticks": ""
             }
            },
            "type": "scatter3d"
           }
          ],
          "scattercarpet": [
           {
            "marker": {
             "colorbar": {
              "outlinewidth": 0,
              "ticks": ""
             }
            },
            "type": "scattercarpet"
           }
          ],
          "scattergeo": [
           {
            "marker": {
             "colorbar": {
              "outlinewidth": 0,
              "ticks": ""
             }
            },
            "type": "scattergeo"
           }
          ],
          "scattergl": [
           {
            "marker": {
             "colorbar": {
              "outlinewidth": 0,
              "ticks": ""
             }
            },
            "type": "scattergl"
           }
          ],
          "scattermapbox": [
           {
            "marker": {
             "colorbar": {
              "outlinewidth": 0,
              "ticks": ""
             }
            },
            "type": "scattermapbox"
           }
          ],
          "scatterpolar": [
           {
            "marker": {
             "colorbar": {
              "outlinewidth": 0,
              "ticks": ""
             }
            },
            "type": "scatterpolar"
           }
          ],
          "scatterpolargl": [
           {
            "marker": {
             "colorbar": {
              "outlinewidth": 0,
              "ticks": ""
             }
            },
            "type": "scatterpolargl"
           }
          ],
          "scatterternary": [
           {
            "marker": {
             "colorbar": {
              "outlinewidth": 0,
              "ticks": ""
             }
            },
            "type": "scatterternary"
           }
          ],
          "surface": [
           {
            "colorbar": {
             "outlinewidth": 0,
             "ticks": ""
            },
            "colorscale": [
             [
              0,
              "#0d0887"
             ],
             [
              0.1111111111111111,
              "#46039f"
             ],
             [
              0.2222222222222222,
              "#7201a8"
             ],
             [
              0.3333333333333333,
              "#9c179e"
             ],
             [
              0.4444444444444444,
              "#bd3786"
             ],
             [
              0.5555555555555556,
              "#d8576b"
             ],
             [
              0.6666666666666666,
              "#ed7953"
             ],
             [
              0.7777777777777778,
              "#fb9f3a"
             ],
             [
              0.8888888888888888,
              "#fdca26"
             ],
             [
              1,
              "#f0f921"
             ]
            ],
            "type": "surface"
           }
          ],
          "table": [
           {
            "cells": {
             "fill": {
              "color": "#EBF0F8"
             },
             "line": {
              "color": "white"
             }
            },
            "header": {
             "fill": {
              "color": "#C8D4E3"
             },
             "line": {
              "color": "white"
             }
            },
            "type": "table"
           }
          ]
         },
         "layout": {
          "annotationdefaults": {
           "arrowcolor": "#2a3f5f",
           "arrowhead": 0,
           "arrowwidth": 1
          },
          "autotypenumbers": "strict",
          "coloraxis": {
           "colorbar": {
            "outlinewidth": 0,
            "ticks": ""
           }
          },
          "colorscale": {
           "diverging": [
            [
             0,
             "#8e0152"
            ],
            [
             0.1,
             "#c51b7d"
            ],
            [
             0.2,
             "#de77ae"
            ],
            [
             0.3,
             "#f1b6da"
            ],
            [
             0.4,
             "#fde0ef"
            ],
            [
             0.5,
             "#f7f7f7"
            ],
            [
             0.6,
             "#e6f5d0"
            ],
            [
             0.7,
             "#b8e186"
            ],
            [
             0.8,
             "#7fbc41"
            ],
            [
             0.9,
             "#4d9221"
            ],
            [
             1,
             "#276419"
            ]
           ],
           "sequential": [
            [
             0,
             "#0d0887"
            ],
            [
             0.1111111111111111,
             "#46039f"
            ],
            [
             0.2222222222222222,
             "#7201a8"
            ],
            [
             0.3333333333333333,
             "#9c179e"
            ],
            [
             0.4444444444444444,
             "#bd3786"
            ],
            [
             0.5555555555555556,
             "#d8576b"
            ],
            [
             0.6666666666666666,
             "#ed7953"
            ],
            [
             0.7777777777777778,
             "#fb9f3a"
            ],
            [
             0.8888888888888888,
             "#fdca26"
            ],
            [
             1,
             "#f0f921"
            ]
           ],
           "sequentialminus": [
            [
             0,
             "#0d0887"
            ],
            [
             0.1111111111111111,
             "#46039f"
            ],
            [
             0.2222222222222222,
             "#7201a8"
            ],
            [
             0.3333333333333333,
             "#9c179e"
            ],
            [
             0.4444444444444444,
             "#bd3786"
            ],
            [
             0.5555555555555556,
             "#d8576b"
            ],
            [
             0.6666666666666666,
             "#ed7953"
            ],
            [
             0.7777777777777778,
             "#fb9f3a"
            ],
            [
             0.8888888888888888,
             "#fdca26"
            ],
            [
             1,
             "#f0f921"
            ]
           ]
          },
          "colorway": [
           "#636efa",
           "#EF553B",
           "#00cc96",
           "#ab63fa",
           "#FFA15A",
           "#19d3f3",
           "#FF6692",
           "#B6E880",
           "#FF97FF",
           "#FECB52"
          ],
          "font": {
           "color": "#2a3f5f"
          },
          "geo": {
           "bgcolor": "white",
           "lakecolor": "white",
           "landcolor": "#E5ECF6",
           "showlakes": true,
           "showland": true,
           "subunitcolor": "white"
          },
          "hoverlabel": {
           "align": "left"
          },
          "hovermode": "closest",
          "mapbox": {
           "style": "light"
          },
          "paper_bgcolor": "white",
          "plot_bgcolor": "#E5ECF6",
          "polar": {
           "angularaxis": {
            "gridcolor": "white",
            "linecolor": "white",
            "ticks": ""
           },
           "bgcolor": "#E5ECF6",
           "radialaxis": {
            "gridcolor": "white",
            "linecolor": "white",
            "ticks": ""
           }
          },
          "scene": {
           "xaxis": {
            "backgroundcolor": "#E5ECF6",
            "gridcolor": "white",
            "gridwidth": 2,
            "linecolor": "white",
            "showbackground": true,
            "ticks": "",
            "zerolinecolor": "white"
           },
           "yaxis": {
            "backgroundcolor": "#E5ECF6",
            "gridcolor": "white",
            "gridwidth": 2,
            "linecolor": "white",
            "showbackground": true,
            "ticks": "",
            "zerolinecolor": "white"
           },
           "zaxis": {
            "backgroundcolor": "#E5ECF6",
            "gridcolor": "white",
            "gridwidth": 2,
            "linecolor": "white",
            "showbackground": true,
            "ticks": "",
            "zerolinecolor": "white"
           }
          },
          "shapedefaults": {
           "line": {
            "color": "#2a3f5f"
           }
          },
          "ternary": {
           "aaxis": {
            "gridcolor": "white",
            "linecolor": "white",
            "ticks": ""
           },
           "baxis": {
            "gridcolor": "white",
            "linecolor": "white",
            "ticks": ""
           },
           "bgcolor": "#E5ECF6",
           "caxis": {
            "gridcolor": "white",
            "linecolor": "white",
            "ticks": ""
           }
          },
          "title": {
           "x": 0.05
          },
          "xaxis": {
           "automargin": true,
           "gridcolor": "white",
           "linecolor": "white",
           "ticks": "",
           "title": {
            "standoff": 15
           },
           "zerolinecolor": "white",
           "zerolinewidth": 2
          },
          "yaxis": {
           "automargin": true,
           "gridcolor": "white",
           "linecolor": "white",
           "ticks": "",
           "title": {
            "standoff": 15
           },
           "zerolinecolor": "white",
           "zerolinewidth": 2
          }
         }
        },
        "title": {
         "font": {
          "color": "#4D5663"
         }
        },
        "xaxis": {
         "gridcolor": "#E1E5ED",
         "showgrid": true,
         "tickfont": {
          "color": "#4D5663"
         },
         "title": {
          "font": {
           "color": "#4D5663"
          },
          "text": ""
         },
         "zerolinecolor": "#E1E5ED"
        },
        "yaxis": {
         "gridcolor": "#E1E5ED",
         "showgrid": true,
         "tickfont": {
          "color": "#4D5663"
         },
         "title": {
          "font": {
           "color": "#4D5663"
          },
          "text": ""
         },
         "zerolinecolor": "#E1E5ED"
        }
       }
      },
      "text/html": [
       "<div>                            <div id=\"5ff8344b-5bb3-4ae5-9d43-10b8cf46465a\" class=\"plotly-graph-div\" style=\"height:525px; width:100%;\"></div>            <script type=\"text/javascript\">                require([\"plotly\"], function(Plotly) {                    window.PLOTLYENV=window.PLOTLYENV || {};\n",
       "                    window.PLOTLYENV.BASE_URL='https://plot.ly';                                    if (document.getElementById(\"5ff8344b-5bb3-4ae5-9d43-10b8cf46465a\")) {                    Plotly.newPlot(                        \"5ff8344b-5bb3-4ae5-9d43-10b8cf46465a\",                        [{\"colorscale\":[[0.0,\"rgb(255, 153, 51)\"],[0.1111111111111111,\"rgb(55, 128, 191)\"],[0.2222222222222222,\"rgb(50, 171, 96)\"],[0.3333333333333333,\"rgb(128, 0, 128)\"],[0.4444444444444444,\"rgb(219, 64, 82)\"],[0.5555555555555556,\"rgb(0, 128, 128)\"],[0.6666666666666666,\"rgb(255, 255, 51)\"],[0.7777777777777778,\"rgb(128, 128, 0)\"],[0.8888888888888888,\"rgb(251, 128, 114)\"],[1.0,\"rgb(128, 177, 211)\"]],\"x\":[0,1,2,3,4],\"y\":[\"x\",\"y\",\"z\"],\"z\":[[1,2,3,4,5],[10,20,30,20,10],[500,400,300,200,100]],\"type\":\"surface\"}],                        {\"legend\":{\"bgcolor\":\"#F5F6F9\",\"font\":{\"color\":\"#4D5663\"}},\"paper_bgcolor\":\"#F5F6F9\",\"plot_bgcolor\":\"#F5F6F9\",\"template\":{\"data\":{\"barpolar\":[{\"marker\":{\"line\":{\"color\":\"#E5ECF6\",\"width\":0.5},\"pattern\":{\"fillmode\":\"overlay\",\"size\":10,\"solidity\":0.2}},\"type\":\"barpolar\"}],\"bar\":[{\"error_x\":{\"color\":\"#2a3f5f\"},\"error_y\":{\"color\":\"#2a3f5f\"},\"marker\":{\"line\":{\"color\":\"#E5ECF6\",\"width\":0.5},\"pattern\":{\"fillmode\":\"overlay\",\"size\":10,\"solidity\":0.2}},\"type\":\"bar\"}],\"carpet\":[{\"aaxis\":{\"endlinecolor\":\"#2a3f5f\",\"gridcolor\":\"white\",\"linecolor\":\"white\",\"minorgridcolor\":\"white\",\"startlinecolor\":\"#2a3f5f\"},\"baxis\":{\"endlinecolor\":\"#2a3f5f\",\"gridcolor\":\"white\",\"linecolor\":\"white\",\"minorgridcolor\":\"white\",\"startlinecolor\":\"#2a3f5f\"},\"type\":\"carpet\"}],\"choropleth\":[{\"colorbar\":{\"outlinewidth\":0,\"ticks\":\"\"},\"type\":\"choropleth\"}],\"contourcarpet\":[{\"colorbar\":{\"outlinewidth\":0,\"ticks\":\"\"},\"type\":\"contourcarpet\"}],\"contour\":[{\"colorbar\":{\"outlinewidth\":0,\"ticks\":\"\"},\"colorscale\":[[0.0,\"#0d0887\"],[0.1111111111111111,\"#46039f\"],[0.2222222222222222,\"#7201a8\"],[0.3333333333333333,\"#9c179e\"],[0.4444444444444444,\"#bd3786\"],[0.5555555555555556,\"#d8576b\"],[0.6666666666666666,\"#ed7953\"],[0.7777777777777778,\"#fb9f3a\"],[0.8888888888888888,\"#fdca26\"],[1.0,\"#f0f921\"]],\"type\":\"contour\"}],\"heatmapgl\":[{\"colorbar\":{\"outlinewidth\":0,\"ticks\":\"\"},\"colorscale\":[[0.0,\"#0d0887\"],[0.1111111111111111,\"#46039f\"],[0.2222222222222222,\"#7201a8\"],[0.3333333333333333,\"#9c179e\"],[0.4444444444444444,\"#bd3786\"],[0.5555555555555556,\"#d8576b\"],[0.6666666666666666,\"#ed7953\"],[0.7777777777777778,\"#fb9f3a\"],[0.8888888888888888,\"#fdca26\"],[1.0,\"#f0f921\"]],\"type\":\"heatmapgl\"}],\"heatmap\":[{\"colorbar\":{\"outlinewidth\":0,\"ticks\":\"\"},\"colorscale\":[[0.0,\"#0d0887\"],[0.1111111111111111,\"#46039f\"],[0.2222222222222222,\"#7201a8\"],[0.3333333333333333,\"#9c179e\"],[0.4444444444444444,\"#bd3786\"],[0.5555555555555556,\"#d8576b\"],[0.6666666666666666,\"#ed7953\"],[0.7777777777777778,\"#fb9f3a\"],[0.8888888888888888,\"#fdca26\"],[1.0,\"#f0f921\"]],\"type\":\"heatmap\"}],\"histogram2dcontour\":[{\"colorbar\":{\"outlinewidth\":0,\"ticks\":\"\"},\"colorscale\":[[0.0,\"#0d0887\"],[0.1111111111111111,\"#46039f\"],[0.2222222222222222,\"#7201a8\"],[0.3333333333333333,\"#9c179e\"],[0.4444444444444444,\"#bd3786\"],[0.5555555555555556,\"#d8576b\"],[0.6666666666666666,\"#ed7953\"],[0.7777777777777778,\"#fb9f3a\"],[0.8888888888888888,\"#fdca26\"],[1.0,\"#f0f921\"]],\"type\":\"histogram2dcontour\"}],\"histogram2d\":[{\"colorbar\":{\"outlinewidth\":0,\"ticks\":\"\"},\"colorscale\":[[0.0,\"#0d0887\"],[0.1111111111111111,\"#46039f\"],[0.2222222222222222,\"#7201a8\"],[0.3333333333333333,\"#9c179e\"],[0.4444444444444444,\"#bd3786\"],[0.5555555555555556,\"#d8576b\"],[0.6666666666666666,\"#ed7953\"],[0.7777777777777778,\"#fb9f3a\"],[0.8888888888888888,\"#fdca26\"],[1.0,\"#f0f921\"]],\"type\":\"histogram2d\"}],\"histogram\":[{\"marker\":{\"pattern\":{\"fillmode\":\"overlay\",\"size\":10,\"solidity\":0.2}},\"type\":\"histogram\"}],\"mesh3d\":[{\"colorbar\":{\"outlinewidth\":0,\"ticks\":\"\"},\"type\":\"mesh3d\"}],\"parcoords\":[{\"line\":{\"colorbar\":{\"outlinewidth\":0,\"ticks\":\"\"}},\"type\":\"parcoords\"}],\"pie\":[{\"automargin\":true,\"type\":\"pie\"}],\"scatter3d\":[{\"line\":{\"colorbar\":{\"outlinewidth\":0,\"ticks\":\"\"}},\"marker\":{\"colorbar\":{\"outlinewidth\":0,\"ticks\":\"\"}},\"type\":\"scatter3d\"}],\"scattercarpet\":[{\"marker\":{\"colorbar\":{\"outlinewidth\":0,\"ticks\":\"\"}},\"type\":\"scattercarpet\"}],\"scattergeo\":[{\"marker\":{\"colorbar\":{\"outlinewidth\":0,\"ticks\":\"\"}},\"type\":\"scattergeo\"}],\"scattergl\":[{\"marker\":{\"colorbar\":{\"outlinewidth\":0,\"ticks\":\"\"}},\"type\":\"scattergl\"}],\"scattermapbox\":[{\"marker\":{\"colorbar\":{\"outlinewidth\":0,\"ticks\":\"\"}},\"type\":\"scattermapbox\"}],\"scatterpolargl\":[{\"marker\":{\"colorbar\":{\"outlinewidth\":0,\"ticks\":\"\"}},\"type\":\"scatterpolargl\"}],\"scatterpolar\":[{\"marker\":{\"colorbar\":{\"outlinewidth\":0,\"ticks\":\"\"}},\"type\":\"scatterpolar\"}],\"scatter\":[{\"marker\":{\"colorbar\":{\"outlinewidth\":0,\"ticks\":\"\"}},\"type\":\"scatter\"}],\"scatterternary\":[{\"marker\":{\"colorbar\":{\"outlinewidth\":0,\"ticks\":\"\"}},\"type\":\"scatterternary\"}],\"surface\":[{\"colorbar\":{\"outlinewidth\":0,\"ticks\":\"\"},\"colorscale\":[[0.0,\"#0d0887\"],[0.1111111111111111,\"#46039f\"],[0.2222222222222222,\"#7201a8\"],[0.3333333333333333,\"#9c179e\"],[0.4444444444444444,\"#bd3786\"],[0.5555555555555556,\"#d8576b\"],[0.6666666666666666,\"#ed7953\"],[0.7777777777777778,\"#fb9f3a\"],[0.8888888888888888,\"#fdca26\"],[1.0,\"#f0f921\"]],\"type\":\"surface\"}],\"table\":[{\"cells\":{\"fill\":{\"color\":\"#EBF0F8\"},\"line\":{\"color\":\"white\"}},\"header\":{\"fill\":{\"color\":\"#C8D4E3\"},\"line\":{\"color\":\"white\"}},\"type\":\"table\"}]},\"layout\":{\"annotationdefaults\":{\"arrowcolor\":\"#2a3f5f\",\"arrowhead\":0,\"arrowwidth\":1},\"autotypenumbers\":\"strict\",\"coloraxis\":{\"colorbar\":{\"outlinewidth\":0,\"ticks\":\"\"}},\"colorscale\":{\"diverging\":[[0,\"#8e0152\"],[0.1,\"#c51b7d\"],[0.2,\"#de77ae\"],[0.3,\"#f1b6da\"],[0.4,\"#fde0ef\"],[0.5,\"#f7f7f7\"],[0.6,\"#e6f5d0\"],[0.7,\"#b8e186\"],[0.8,\"#7fbc41\"],[0.9,\"#4d9221\"],[1,\"#276419\"]],\"sequential\":[[0.0,\"#0d0887\"],[0.1111111111111111,\"#46039f\"],[0.2222222222222222,\"#7201a8\"],[0.3333333333333333,\"#9c179e\"],[0.4444444444444444,\"#bd3786\"],[0.5555555555555556,\"#d8576b\"],[0.6666666666666666,\"#ed7953\"],[0.7777777777777778,\"#fb9f3a\"],[0.8888888888888888,\"#fdca26\"],[1.0,\"#f0f921\"]],\"sequentialminus\":[[0.0,\"#0d0887\"],[0.1111111111111111,\"#46039f\"],[0.2222222222222222,\"#7201a8\"],[0.3333333333333333,\"#9c179e\"],[0.4444444444444444,\"#bd3786\"],[0.5555555555555556,\"#d8576b\"],[0.6666666666666666,\"#ed7953\"],[0.7777777777777778,\"#fb9f3a\"],[0.8888888888888888,\"#fdca26\"],[1.0,\"#f0f921\"]]},\"colorway\":[\"#636efa\",\"#EF553B\",\"#00cc96\",\"#ab63fa\",\"#FFA15A\",\"#19d3f3\",\"#FF6692\",\"#B6E880\",\"#FF97FF\",\"#FECB52\"],\"font\":{\"color\":\"#2a3f5f\"},\"geo\":{\"bgcolor\":\"white\",\"lakecolor\":\"white\",\"landcolor\":\"#E5ECF6\",\"showlakes\":true,\"showland\":true,\"subunitcolor\":\"white\"},\"hoverlabel\":{\"align\":\"left\"},\"hovermode\":\"closest\",\"mapbox\":{\"style\":\"light\"},\"paper_bgcolor\":\"white\",\"plot_bgcolor\":\"#E5ECF6\",\"polar\":{\"angularaxis\":{\"gridcolor\":\"white\",\"linecolor\":\"white\",\"ticks\":\"\"},\"bgcolor\":\"#E5ECF6\",\"radialaxis\":{\"gridcolor\":\"white\",\"linecolor\":\"white\",\"ticks\":\"\"}},\"scene\":{\"xaxis\":{\"backgroundcolor\":\"#E5ECF6\",\"gridcolor\":\"white\",\"gridwidth\":2,\"linecolor\":\"white\",\"showbackground\":true,\"ticks\":\"\",\"zerolinecolor\":\"white\"},\"yaxis\":{\"backgroundcolor\":\"#E5ECF6\",\"gridcolor\":\"white\",\"gridwidth\":2,\"linecolor\":\"white\",\"showbackground\":true,\"ticks\":\"\",\"zerolinecolor\":\"white\"},\"zaxis\":{\"backgroundcolor\":\"#E5ECF6\",\"gridcolor\":\"white\",\"gridwidth\":2,\"linecolor\":\"white\",\"showbackground\":true,\"ticks\":\"\",\"zerolinecolor\":\"white\"}},\"shapedefaults\":{\"line\":{\"color\":\"#2a3f5f\"}},\"ternary\":{\"aaxis\":{\"gridcolor\":\"white\",\"linecolor\":\"white\",\"ticks\":\"\"},\"baxis\":{\"gridcolor\":\"white\",\"linecolor\":\"white\",\"ticks\":\"\"},\"bgcolor\":\"#E5ECF6\",\"caxis\":{\"gridcolor\":\"white\",\"linecolor\":\"white\",\"ticks\":\"\"}},\"title\":{\"x\":0.05},\"xaxis\":{\"automargin\":true,\"gridcolor\":\"white\",\"linecolor\":\"white\",\"ticks\":\"\",\"title\":{\"standoff\":15},\"zerolinecolor\":\"white\",\"zerolinewidth\":2},\"yaxis\":{\"automargin\":true,\"gridcolor\":\"white\",\"linecolor\":\"white\",\"ticks\":\"\",\"title\":{\"standoff\":15},\"zerolinecolor\":\"white\",\"zerolinewidth\":2}}},\"title\":{\"font\":{\"color\":\"#4D5663\"}},\"xaxis\":{\"gridcolor\":\"#E1E5ED\",\"showgrid\":true,\"tickfont\":{\"color\":\"#4D5663\"},\"title\":{\"font\":{\"color\":\"#4D5663\"},\"text\":\"\"},\"zerolinecolor\":\"#E1E5ED\"},\"yaxis\":{\"gridcolor\":\"#E1E5ED\",\"showgrid\":true,\"tickfont\":{\"color\":\"#4D5663\"},\"title\":{\"font\":{\"color\":\"#4D5663\"},\"text\":\"\"},\"zerolinecolor\":\"#E1E5ED\"}},                        {\"showLink\": true, \"linkText\": \"Export to plot.ly\", \"plotlyServerURL\": \"https://plot.ly\", \"responsive\": true}                    ).then(function(){\n",
       "                            \n",
       "var gd = document.getElementById('5ff8344b-5bb3-4ae5-9d43-10b8cf46465a');\n",
       "var x = new MutationObserver(function (mutations, observer) {{\n",
       "        var display = window.getComputedStyle(gd).display;\n",
       "        if (!display || display === 'none') {{\n",
       "            console.log([gd, 'removed!']);\n",
       "            Plotly.purge(gd);\n",
       "            observer.disconnect();\n",
       "        }}\n",
       "}});\n",
       "\n",
       "// Listen for the removal of the full notebook cells\n",
       "var notebookContainer = gd.closest('#notebook-container');\n",
       "if (notebookContainer) {{\n",
       "    x.observe(notebookContainer, {childList: true});\n",
       "}}\n",
       "\n",
       "// Listen for the clearing of the current output cell\n",
       "var outputEl = gd.closest('.output');\n",
       "if (outputEl) {{\n",
       "    x.observe(outputEl, {childList: true});\n",
       "}}\n",
       "\n",
       "                        })                };                });            </script>        </div>"
      ]
     },
     "metadata": {},
     "output_type": "display_data"
    }
   ],
   "source": [
    "df3.iplot(kind='surface')"
   ]
  },
  {
   "cell_type": "code",
   "execution_count": 22,
   "id": "a8145462",
   "metadata": {},
   "outputs": [],
   "source": [
    "df4 = pd.DataFrame({'x':[1,2,3,4,5],'y':[10,20,30,20,10],'z':[5,4,3,2,1]})"
   ]
  },
  {
   "cell_type": "code",
   "execution_count": 23,
   "id": "0969c873",
   "metadata": {},
   "outputs": [
    {
     "data": {
      "text/html": [
       "<div>\n",
       "<style scoped>\n",
       "    .dataframe tbody tr th:only-of-type {\n",
       "        vertical-align: middle;\n",
       "    }\n",
       "\n",
       "    .dataframe tbody tr th {\n",
       "        vertical-align: top;\n",
       "    }\n",
       "\n",
       "    .dataframe thead th {\n",
       "        text-align: right;\n",
       "    }\n",
       "</style>\n",
       "<table border=\"1\" class=\"dataframe\">\n",
       "  <thead>\n",
       "    <tr style=\"text-align: right;\">\n",
       "      <th></th>\n",
       "      <th>x</th>\n",
       "      <th>y</th>\n",
       "      <th>z</th>\n",
       "    </tr>\n",
       "  </thead>\n",
       "  <tbody>\n",
       "    <tr>\n",
       "      <th>0</th>\n",
       "      <td>1</td>\n",
       "      <td>10</td>\n",
       "      <td>5</td>\n",
       "    </tr>\n",
       "    <tr>\n",
       "      <th>1</th>\n",
       "      <td>2</td>\n",
       "      <td>20</td>\n",
       "      <td>4</td>\n",
       "    </tr>\n",
       "    <tr>\n",
       "      <th>2</th>\n",
       "      <td>3</td>\n",
       "      <td>30</td>\n",
       "      <td>3</td>\n",
       "    </tr>\n",
       "    <tr>\n",
       "      <th>3</th>\n",
       "      <td>4</td>\n",
       "      <td>20</td>\n",
       "      <td>2</td>\n",
       "    </tr>\n",
       "    <tr>\n",
       "      <th>4</th>\n",
       "      <td>5</td>\n",
       "      <td>10</td>\n",
       "      <td>1</td>\n",
       "    </tr>\n",
       "  </tbody>\n",
       "</table>\n",
       "</div>"
      ],
      "text/plain": [
       "   x   y  z\n",
       "0  1  10  5\n",
       "1  2  20  4\n",
       "2  3  30  3\n",
       "3  4  20  2\n",
       "4  5  10  1"
      ]
     },
     "execution_count": 23,
     "metadata": {},
     "output_type": "execute_result"
    }
   ],
   "source": [
    "df4"
   ]
  },
  {
   "cell_type": "code",
   "execution_count": 24,
   "id": "8d8b4864",
   "metadata": {},
   "outputs": [
    {
     "data": {
      "application/vnd.plotly.v1+json": {
       "config": {
        "linkText": "Export to plot.ly",
        "plotlyServerURL": "https://plot.ly",
        "showLink": true
       },
       "data": [
        {
         "colorscale": [
          [
           0,
           "rgb(165,0,38)"
          ],
          [
           0.1,
           "rgb(215,48,39)"
          ],
          [
           0.2,
           "rgb(244,109,67)"
          ],
          [
           0.3,
           "rgb(253,174,97)"
          ],
          [
           0.4,
           "rgb(254,224,144)"
          ],
          [
           0.5,
           "rgb(255,255,191)"
          ],
          [
           0.6,
           "rgb(224,243,248)"
          ],
          [
           0.7,
           "rgb(171,217,233)"
          ],
          [
           0.8,
           "rgb(116,173,209)"
          ],
          [
           0.9,
           "rgb(69,117,180)"
          ],
          [
           1,
           "rgb(49,54,149)"
          ]
         ],
         "type": "surface",
         "x": [
          0,
          1,
          2,
          3,
          4
         ],
         "y": [
          "x",
          "y",
          "z"
         ],
         "z": [
          [
           1,
           2,
           3,
           4,
           5
          ],
          [
           10,
           20,
           30,
           20,
           10
          ],
          [
           5,
           4,
           3,
           2,
           1
          ]
         ]
        }
       ],
       "layout": {
        "legend": {
         "bgcolor": "#F5F6F9",
         "font": {
          "color": "#4D5663"
         }
        },
        "paper_bgcolor": "#F5F6F9",
        "plot_bgcolor": "#F5F6F9",
        "template": {
         "data": {
          "bar": [
           {
            "error_x": {
             "color": "#2a3f5f"
            },
            "error_y": {
             "color": "#2a3f5f"
            },
            "marker": {
             "line": {
              "color": "#E5ECF6",
              "width": 0.5
             },
             "pattern": {
              "fillmode": "overlay",
              "size": 10,
              "solidity": 0.2
             }
            },
            "type": "bar"
           }
          ],
          "barpolar": [
           {
            "marker": {
             "line": {
              "color": "#E5ECF6",
              "width": 0.5
             },
             "pattern": {
              "fillmode": "overlay",
              "size": 10,
              "solidity": 0.2
             }
            },
            "type": "barpolar"
           }
          ],
          "carpet": [
           {
            "aaxis": {
             "endlinecolor": "#2a3f5f",
             "gridcolor": "white",
             "linecolor": "white",
             "minorgridcolor": "white",
             "startlinecolor": "#2a3f5f"
            },
            "baxis": {
             "endlinecolor": "#2a3f5f",
             "gridcolor": "white",
             "linecolor": "white",
             "minorgridcolor": "white",
             "startlinecolor": "#2a3f5f"
            },
            "type": "carpet"
           }
          ],
          "choropleth": [
           {
            "colorbar": {
             "outlinewidth": 0,
             "ticks": ""
            },
            "type": "choropleth"
           }
          ],
          "contour": [
           {
            "colorbar": {
             "outlinewidth": 0,
             "ticks": ""
            },
            "colorscale": [
             [
              0,
              "#0d0887"
             ],
             [
              0.1111111111111111,
              "#46039f"
             ],
             [
              0.2222222222222222,
              "#7201a8"
             ],
             [
              0.3333333333333333,
              "#9c179e"
             ],
             [
              0.4444444444444444,
              "#bd3786"
             ],
             [
              0.5555555555555556,
              "#d8576b"
             ],
             [
              0.6666666666666666,
              "#ed7953"
             ],
             [
              0.7777777777777778,
              "#fb9f3a"
             ],
             [
              0.8888888888888888,
              "#fdca26"
             ],
             [
              1,
              "#f0f921"
             ]
            ],
            "type": "contour"
           }
          ],
          "contourcarpet": [
           {
            "colorbar": {
             "outlinewidth": 0,
             "ticks": ""
            },
            "type": "contourcarpet"
           }
          ],
          "heatmap": [
           {
            "colorbar": {
             "outlinewidth": 0,
             "ticks": ""
            },
            "colorscale": [
             [
              0,
              "#0d0887"
             ],
             [
              0.1111111111111111,
              "#46039f"
             ],
             [
              0.2222222222222222,
              "#7201a8"
             ],
             [
              0.3333333333333333,
              "#9c179e"
             ],
             [
              0.4444444444444444,
              "#bd3786"
             ],
             [
              0.5555555555555556,
              "#d8576b"
             ],
             [
              0.6666666666666666,
              "#ed7953"
             ],
             [
              0.7777777777777778,
              "#fb9f3a"
             ],
             [
              0.8888888888888888,
              "#fdca26"
             ],
             [
              1,
              "#f0f921"
             ]
            ],
            "type": "heatmap"
           }
          ],
          "heatmapgl": [
           {
            "colorbar": {
             "outlinewidth": 0,
             "ticks": ""
            },
            "colorscale": [
             [
              0,
              "#0d0887"
             ],
             [
              0.1111111111111111,
              "#46039f"
             ],
             [
              0.2222222222222222,
              "#7201a8"
             ],
             [
              0.3333333333333333,
              "#9c179e"
             ],
             [
              0.4444444444444444,
              "#bd3786"
             ],
             [
              0.5555555555555556,
              "#d8576b"
             ],
             [
              0.6666666666666666,
              "#ed7953"
             ],
             [
              0.7777777777777778,
              "#fb9f3a"
             ],
             [
              0.8888888888888888,
              "#fdca26"
             ],
             [
              1,
              "#f0f921"
             ]
            ],
            "type": "heatmapgl"
           }
          ],
          "histogram": [
           {
            "marker": {
             "pattern": {
              "fillmode": "overlay",
              "size": 10,
              "solidity": 0.2
             }
            },
            "type": "histogram"
           }
          ],
          "histogram2d": [
           {
            "colorbar": {
             "outlinewidth": 0,
             "ticks": ""
            },
            "colorscale": [
             [
              0,
              "#0d0887"
             ],
             [
              0.1111111111111111,
              "#46039f"
             ],
             [
              0.2222222222222222,
              "#7201a8"
             ],
             [
              0.3333333333333333,
              "#9c179e"
             ],
             [
              0.4444444444444444,
              "#bd3786"
             ],
             [
              0.5555555555555556,
              "#d8576b"
             ],
             [
              0.6666666666666666,
              "#ed7953"
             ],
             [
              0.7777777777777778,
              "#fb9f3a"
             ],
             [
              0.8888888888888888,
              "#fdca26"
             ],
             [
              1,
              "#f0f921"
             ]
            ],
            "type": "histogram2d"
           }
          ],
          "histogram2dcontour": [
           {
            "colorbar": {
             "outlinewidth": 0,
             "ticks": ""
            },
            "colorscale": [
             [
              0,
              "#0d0887"
             ],
             [
              0.1111111111111111,
              "#46039f"
             ],
             [
              0.2222222222222222,
              "#7201a8"
             ],
             [
              0.3333333333333333,
              "#9c179e"
             ],
             [
              0.4444444444444444,
              "#bd3786"
             ],
             [
              0.5555555555555556,
              "#d8576b"
             ],
             [
              0.6666666666666666,
              "#ed7953"
             ],
             [
              0.7777777777777778,
              "#fb9f3a"
             ],
             [
              0.8888888888888888,
              "#fdca26"
             ],
             [
              1,
              "#f0f921"
             ]
            ],
            "type": "histogram2dcontour"
           }
          ],
          "mesh3d": [
           {
            "colorbar": {
             "outlinewidth": 0,
             "ticks": ""
            },
            "type": "mesh3d"
           }
          ],
          "parcoords": [
           {
            "line": {
             "colorbar": {
              "outlinewidth": 0,
              "ticks": ""
             }
            },
            "type": "parcoords"
           }
          ],
          "pie": [
           {
            "automargin": true,
            "type": "pie"
           }
          ],
          "scatter": [
           {
            "marker": {
             "colorbar": {
              "outlinewidth": 0,
              "ticks": ""
             }
            },
            "type": "scatter"
           }
          ],
          "scatter3d": [
           {
            "line": {
             "colorbar": {
              "outlinewidth": 0,
              "ticks": ""
             }
            },
            "marker": {
             "colorbar": {
              "outlinewidth": 0,
              "ticks": ""
             }
            },
            "type": "scatter3d"
           }
          ],
          "scattercarpet": [
           {
            "marker": {
             "colorbar": {
              "outlinewidth": 0,
              "ticks": ""
             }
            },
            "type": "scattercarpet"
           }
          ],
          "scattergeo": [
           {
            "marker": {
             "colorbar": {
              "outlinewidth": 0,
              "ticks": ""
             }
            },
            "type": "scattergeo"
           }
          ],
          "scattergl": [
           {
            "marker": {
             "colorbar": {
              "outlinewidth": 0,
              "ticks": ""
             }
            },
            "type": "scattergl"
           }
          ],
          "scattermapbox": [
           {
            "marker": {
             "colorbar": {
              "outlinewidth": 0,
              "ticks": ""
             }
            },
            "type": "scattermapbox"
           }
          ],
          "scatterpolar": [
           {
            "marker": {
             "colorbar": {
              "outlinewidth": 0,
              "ticks": ""
             }
            },
            "type": "scatterpolar"
           }
          ],
          "scatterpolargl": [
           {
            "marker": {
             "colorbar": {
              "outlinewidth": 0,
              "ticks": ""
             }
            },
            "type": "scatterpolargl"
           }
          ],
          "scatterternary": [
           {
            "marker": {
             "colorbar": {
              "outlinewidth": 0,
              "ticks": ""
             }
            },
            "type": "scatterternary"
           }
          ],
          "surface": [
           {
            "colorbar": {
             "outlinewidth": 0,
             "ticks": ""
            },
            "colorscale": [
             [
              0,
              "#0d0887"
             ],
             [
              0.1111111111111111,
              "#46039f"
             ],
             [
              0.2222222222222222,
              "#7201a8"
             ],
             [
              0.3333333333333333,
              "#9c179e"
             ],
             [
              0.4444444444444444,
              "#bd3786"
             ],
             [
              0.5555555555555556,
              "#d8576b"
             ],
             [
              0.6666666666666666,
              "#ed7953"
             ],
             [
              0.7777777777777778,
              "#fb9f3a"
             ],
             [
              0.8888888888888888,
              "#fdca26"
             ],
             [
              1,
              "#f0f921"
             ]
            ],
            "type": "surface"
           }
          ],
          "table": [
           {
            "cells": {
             "fill": {
              "color": "#EBF0F8"
             },
             "line": {
              "color": "white"
             }
            },
            "header": {
             "fill": {
              "color": "#C8D4E3"
             },
             "line": {
              "color": "white"
             }
            },
            "type": "table"
           }
          ]
         },
         "layout": {
          "annotationdefaults": {
           "arrowcolor": "#2a3f5f",
           "arrowhead": 0,
           "arrowwidth": 1
          },
          "autotypenumbers": "strict",
          "coloraxis": {
           "colorbar": {
            "outlinewidth": 0,
            "ticks": ""
           }
          },
          "colorscale": {
           "diverging": [
            [
             0,
             "#8e0152"
            ],
            [
             0.1,
             "#c51b7d"
            ],
            [
             0.2,
             "#de77ae"
            ],
            [
             0.3,
             "#f1b6da"
            ],
            [
             0.4,
             "#fde0ef"
            ],
            [
             0.5,
             "#f7f7f7"
            ],
            [
             0.6,
             "#e6f5d0"
            ],
            [
             0.7,
             "#b8e186"
            ],
            [
             0.8,
             "#7fbc41"
            ],
            [
             0.9,
             "#4d9221"
            ],
            [
             1,
             "#276419"
            ]
           ],
           "sequential": [
            [
             0,
             "#0d0887"
            ],
            [
             0.1111111111111111,
             "#46039f"
            ],
            [
             0.2222222222222222,
             "#7201a8"
            ],
            [
             0.3333333333333333,
             "#9c179e"
            ],
            [
             0.4444444444444444,
             "#bd3786"
            ],
            [
             0.5555555555555556,
             "#d8576b"
            ],
            [
             0.6666666666666666,
             "#ed7953"
            ],
            [
             0.7777777777777778,
             "#fb9f3a"
            ],
            [
             0.8888888888888888,
             "#fdca26"
            ],
            [
             1,
             "#f0f921"
            ]
           ],
           "sequentialminus": [
            [
             0,
             "#0d0887"
            ],
            [
             0.1111111111111111,
             "#46039f"
            ],
            [
             0.2222222222222222,
             "#7201a8"
            ],
            [
             0.3333333333333333,
             "#9c179e"
            ],
            [
             0.4444444444444444,
             "#bd3786"
            ],
            [
             0.5555555555555556,
             "#d8576b"
            ],
            [
             0.6666666666666666,
             "#ed7953"
            ],
            [
             0.7777777777777778,
             "#fb9f3a"
            ],
            [
             0.8888888888888888,
             "#fdca26"
            ],
            [
             1,
             "#f0f921"
            ]
           ]
          },
          "colorway": [
           "#636efa",
           "#EF553B",
           "#00cc96",
           "#ab63fa",
           "#FFA15A",
           "#19d3f3",
           "#FF6692",
           "#B6E880",
           "#FF97FF",
           "#FECB52"
          ],
          "font": {
           "color": "#2a3f5f"
          },
          "geo": {
           "bgcolor": "white",
           "lakecolor": "white",
           "landcolor": "#E5ECF6",
           "showlakes": true,
           "showland": true,
           "subunitcolor": "white"
          },
          "hoverlabel": {
           "align": "left"
          },
          "hovermode": "closest",
          "mapbox": {
           "style": "light"
          },
          "paper_bgcolor": "white",
          "plot_bgcolor": "#E5ECF6",
          "polar": {
           "angularaxis": {
            "gridcolor": "white",
            "linecolor": "white",
            "ticks": ""
           },
           "bgcolor": "#E5ECF6",
           "radialaxis": {
            "gridcolor": "white",
            "linecolor": "white",
            "ticks": ""
           }
          },
          "scene": {
           "xaxis": {
            "backgroundcolor": "#E5ECF6",
            "gridcolor": "white",
            "gridwidth": 2,
            "linecolor": "white",
            "showbackground": true,
            "ticks": "",
            "zerolinecolor": "white"
           },
           "yaxis": {
            "backgroundcolor": "#E5ECF6",
            "gridcolor": "white",
            "gridwidth": 2,
            "linecolor": "white",
            "showbackground": true,
            "ticks": "",
            "zerolinecolor": "white"
           },
           "zaxis": {
            "backgroundcolor": "#E5ECF6",
            "gridcolor": "white",
            "gridwidth": 2,
            "linecolor": "white",
            "showbackground": true,
            "ticks": "",
            "zerolinecolor": "white"
           }
          },
          "shapedefaults": {
           "line": {
            "color": "#2a3f5f"
           }
          },
          "ternary": {
           "aaxis": {
            "gridcolor": "white",
            "linecolor": "white",
            "ticks": ""
           },
           "baxis": {
            "gridcolor": "white",
            "linecolor": "white",
            "ticks": ""
           },
           "bgcolor": "#E5ECF6",
           "caxis": {
            "gridcolor": "white",
            "linecolor": "white",
            "ticks": ""
           }
          },
          "title": {
           "x": 0.05
          },
          "xaxis": {
           "automargin": true,
           "gridcolor": "white",
           "linecolor": "white",
           "ticks": "",
           "title": {
            "standoff": 15
           },
           "zerolinecolor": "white",
           "zerolinewidth": 2
          },
          "yaxis": {
           "automargin": true,
           "gridcolor": "white",
           "linecolor": "white",
           "ticks": "",
           "title": {
            "standoff": 15
           },
           "zerolinecolor": "white",
           "zerolinewidth": 2
          }
         }
        },
        "title": {
         "font": {
          "color": "#4D5663"
         }
        },
        "xaxis": {
         "gridcolor": "#E1E5ED",
         "showgrid": true,
         "tickfont": {
          "color": "#4D5663"
         },
         "title": {
          "font": {
           "color": "#4D5663"
          },
          "text": ""
         },
         "zerolinecolor": "#E1E5ED"
        },
        "yaxis": {
         "gridcolor": "#E1E5ED",
         "showgrid": true,
         "tickfont": {
          "color": "#4D5663"
         },
         "title": {
          "font": {
           "color": "#4D5663"
          },
          "text": ""
         },
         "zerolinecolor": "#E1E5ED"
        }
       }
      },
      "text/html": [
       "<div>                            <div id=\"f0d2fac7-f9d0-46d2-8c24-5ee3a7bf9ce8\" class=\"plotly-graph-div\" style=\"height:525px; width:100%;\"></div>            <script type=\"text/javascript\">                require([\"plotly\"], function(Plotly) {                    window.PLOTLYENV=window.PLOTLYENV || {};\n",
       "                    window.PLOTLYENV.BASE_URL='https://plot.ly';                                    if (document.getElementById(\"f0d2fac7-f9d0-46d2-8c24-5ee3a7bf9ce8\")) {                    Plotly.newPlot(                        \"f0d2fac7-f9d0-46d2-8c24-5ee3a7bf9ce8\",                        [{\"colorscale\":[[0.0,\"rgb(165,0,38)\"],[0.1,\"rgb(215,48,39)\"],[0.2,\"rgb(244,109,67)\"],[0.3,\"rgb(253,174,97)\"],[0.4,\"rgb(254,224,144)\"],[0.5,\"rgb(255,255,191)\"],[0.6,\"rgb(224,243,248)\"],[0.7,\"rgb(171,217,233)\"],[0.8,\"rgb(116,173,209)\"],[0.9,\"rgb(69,117,180)\"],[1.0,\"rgb(49,54,149)\"]],\"x\":[0,1,2,3,4],\"y\":[\"x\",\"y\",\"z\"],\"z\":[[1,2,3,4,5],[10,20,30,20,10],[5,4,3,2,1]],\"type\":\"surface\"}],                        {\"legend\":{\"bgcolor\":\"#F5F6F9\",\"font\":{\"color\":\"#4D5663\"}},\"paper_bgcolor\":\"#F5F6F9\",\"plot_bgcolor\":\"#F5F6F9\",\"template\":{\"data\":{\"barpolar\":[{\"marker\":{\"line\":{\"color\":\"#E5ECF6\",\"width\":0.5},\"pattern\":{\"fillmode\":\"overlay\",\"size\":10,\"solidity\":0.2}},\"type\":\"barpolar\"}],\"bar\":[{\"error_x\":{\"color\":\"#2a3f5f\"},\"error_y\":{\"color\":\"#2a3f5f\"},\"marker\":{\"line\":{\"color\":\"#E5ECF6\",\"width\":0.5},\"pattern\":{\"fillmode\":\"overlay\",\"size\":10,\"solidity\":0.2}},\"type\":\"bar\"}],\"carpet\":[{\"aaxis\":{\"endlinecolor\":\"#2a3f5f\",\"gridcolor\":\"white\",\"linecolor\":\"white\",\"minorgridcolor\":\"white\",\"startlinecolor\":\"#2a3f5f\"},\"baxis\":{\"endlinecolor\":\"#2a3f5f\",\"gridcolor\":\"white\",\"linecolor\":\"white\",\"minorgridcolor\":\"white\",\"startlinecolor\":\"#2a3f5f\"},\"type\":\"carpet\"}],\"choropleth\":[{\"colorbar\":{\"outlinewidth\":0,\"ticks\":\"\"},\"type\":\"choropleth\"}],\"contourcarpet\":[{\"colorbar\":{\"outlinewidth\":0,\"ticks\":\"\"},\"type\":\"contourcarpet\"}],\"contour\":[{\"colorbar\":{\"outlinewidth\":0,\"ticks\":\"\"},\"colorscale\":[[0.0,\"#0d0887\"],[0.1111111111111111,\"#46039f\"],[0.2222222222222222,\"#7201a8\"],[0.3333333333333333,\"#9c179e\"],[0.4444444444444444,\"#bd3786\"],[0.5555555555555556,\"#d8576b\"],[0.6666666666666666,\"#ed7953\"],[0.7777777777777778,\"#fb9f3a\"],[0.8888888888888888,\"#fdca26\"],[1.0,\"#f0f921\"]],\"type\":\"contour\"}],\"heatmapgl\":[{\"colorbar\":{\"outlinewidth\":0,\"ticks\":\"\"},\"colorscale\":[[0.0,\"#0d0887\"],[0.1111111111111111,\"#46039f\"],[0.2222222222222222,\"#7201a8\"],[0.3333333333333333,\"#9c179e\"],[0.4444444444444444,\"#bd3786\"],[0.5555555555555556,\"#d8576b\"],[0.6666666666666666,\"#ed7953\"],[0.7777777777777778,\"#fb9f3a\"],[0.8888888888888888,\"#fdca26\"],[1.0,\"#f0f921\"]],\"type\":\"heatmapgl\"}],\"heatmap\":[{\"colorbar\":{\"outlinewidth\":0,\"ticks\":\"\"},\"colorscale\":[[0.0,\"#0d0887\"],[0.1111111111111111,\"#46039f\"],[0.2222222222222222,\"#7201a8\"],[0.3333333333333333,\"#9c179e\"],[0.4444444444444444,\"#bd3786\"],[0.5555555555555556,\"#d8576b\"],[0.6666666666666666,\"#ed7953\"],[0.7777777777777778,\"#fb9f3a\"],[0.8888888888888888,\"#fdca26\"],[1.0,\"#f0f921\"]],\"type\":\"heatmap\"}],\"histogram2dcontour\":[{\"colorbar\":{\"outlinewidth\":0,\"ticks\":\"\"},\"colorscale\":[[0.0,\"#0d0887\"],[0.1111111111111111,\"#46039f\"],[0.2222222222222222,\"#7201a8\"],[0.3333333333333333,\"#9c179e\"],[0.4444444444444444,\"#bd3786\"],[0.5555555555555556,\"#d8576b\"],[0.6666666666666666,\"#ed7953\"],[0.7777777777777778,\"#fb9f3a\"],[0.8888888888888888,\"#fdca26\"],[1.0,\"#f0f921\"]],\"type\":\"histogram2dcontour\"}],\"histogram2d\":[{\"colorbar\":{\"outlinewidth\":0,\"ticks\":\"\"},\"colorscale\":[[0.0,\"#0d0887\"],[0.1111111111111111,\"#46039f\"],[0.2222222222222222,\"#7201a8\"],[0.3333333333333333,\"#9c179e\"],[0.4444444444444444,\"#bd3786\"],[0.5555555555555556,\"#d8576b\"],[0.6666666666666666,\"#ed7953\"],[0.7777777777777778,\"#fb9f3a\"],[0.8888888888888888,\"#fdca26\"],[1.0,\"#f0f921\"]],\"type\":\"histogram2d\"}],\"histogram\":[{\"marker\":{\"pattern\":{\"fillmode\":\"overlay\",\"size\":10,\"solidity\":0.2}},\"type\":\"histogram\"}],\"mesh3d\":[{\"colorbar\":{\"outlinewidth\":0,\"ticks\":\"\"},\"type\":\"mesh3d\"}],\"parcoords\":[{\"line\":{\"colorbar\":{\"outlinewidth\":0,\"ticks\":\"\"}},\"type\":\"parcoords\"}],\"pie\":[{\"automargin\":true,\"type\":\"pie\"}],\"scatter3d\":[{\"line\":{\"colorbar\":{\"outlinewidth\":0,\"ticks\":\"\"}},\"marker\":{\"colorbar\":{\"outlinewidth\":0,\"ticks\":\"\"}},\"type\":\"scatter3d\"}],\"scattercarpet\":[{\"marker\":{\"colorbar\":{\"outlinewidth\":0,\"ticks\":\"\"}},\"type\":\"scattercarpet\"}],\"scattergeo\":[{\"marker\":{\"colorbar\":{\"outlinewidth\":0,\"ticks\":\"\"}},\"type\":\"scattergeo\"}],\"scattergl\":[{\"marker\":{\"colorbar\":{\"outlinewidth\":0,\"ticks\":\"\"}},\"type\":\"scattergl\"}],\"scattermapbox\":[{\"marker\":{\"colorbar\":{\"outlinewidth\":0,\"ticks\":\"\"}},\"type\":\"scattermapbox\"}],\"scatterpolargl\":[{\"marker\":{\"colorbar\":{\"outlinewidth\":0,\"ticks\":\"\"}},\"type\":\"scatterpolargl\"}],\"scatterpolar\":[{\"marker\":{\"colorbar\":{\"outlinewidth\":0,\"ticks\":\"\"}},\"type\":\"scatterpolar\"}],\"scatter\":[{\"marker\":{\"colorbar\":{\"outlinewidth\":0,\"ticks\":\"\"}},\"type\":\"scatter\"}],\"scatterternary\":[{\"marker\":{\"colorbar\":{\"outlinewidth\":0,\"ticks\":\"\"}},\"type\":\"scatterternary\"}],\"surface\":[{\"colorbar\":{\"outlinewidth\":0,\"ticks\":\"\"},\"colorscale\":[[0.0,\"#0d0887\"],[0.1111111111111111,\"#46039f\"],[0.2222222222222222,\"#7201a8\"],[0.3333333333333333,\"#9c179e\"],[0.4444444444444444,\"#bd3786\"],[0.5555555555555556,\"#d8576b\"],[0.6666666666666666,\"#ed7953\"],[0.7777777777777778,\"#fb9f3a\"],[0.8888888888888888,\"#fdca26\"],[1.0,\"#f0f921\"]],\"type\":\"surface\"}],\"table\":[{\"cells\":{\"fill\":{\"color\":\"#EBF0F8\"},\"line\":{\"color\":\"white\"}},\"header\":{\"fill\":{\"color\":\"#C8D4E3\"},\"line\":{\"color\":\"white\"}},\"type\":\"table\"}]},\"layout\":{\"annotationdefaults\":{\"arrowcolor\":\"#2a3f5f\",\"arrowhead\":0,\"arrowwidth\":1},\"autotypenumbers\":\"strict\",\"coloraxis\":{\"colorbar\":{\"outlinewidth\":0,\"ticks\":\"\"}},\"colorscale\":{\"diverging\":[[0,\"#8e0152\"],[0.1,\"#c51b7d\"],[0.2,\"#de77ae\"],[0.3,\"#f1b6da\"],[0.4,\"#fde0ef\"],[0.5,\"#f7f7f7\"],[0.6,\"#e6f5d0\"],[0.7,\"#b8e186\"],[0.8,\"#7fbc41\"],[0.9,\"#4d9221\"],[1,\"#276419\"]],\"sequential\":[[0.0,\"#0d0887\"],[0.1111111111111111,\"#46039f\"],[0.2222222222222222,\"#7201a8\"],[0.3333333333333333,\"#9c179e\"],[0.4444444444444444,\"#bd3786\"],[0.5555555555555556,\"#d8576b\"],[0.6666666666666666,\"#ed7953\"],[0.7777777777777778,\"#fb9f3a\"],[0.8888888888888888,\"#fdca26\"],[1.0,\"#f0f921\"]],\"sequentialminus\":[[0.0,\"#0d0887\"],[0.1111111111111111,\"#46039f\"],[0.2222222222222222,\"#7201a8\"],[0.3333333333333333,\"#9c179e\"],[0.4444444444444444,\"#bd3786\"],[0.5555555555555556,\"#d8576b\"],[0.6666666666666666,\"#ed7953\"],[0.7777777777777778,\"#fb9f3a\"],[0.8888888888888888,\"#fdca26\"],[1.0,\"#f0f921\"]]},\"colorway\":[\"#636efa\",\"#EF553B\",\"#00cc96\",\"#ab63fa\",\"#FFA15A\",\"#19d3f3\",\"#FF6692\",\"#B6E880\",\"#FF97FF\",\"#FECB52\"],\"font\":{\"color\":\"#2a3f5f\"},\"geo\":{\"bgcolor\":\"white\",\"lakecolor\":\"white\",\"landcolor\":\"#E5ECF6\",\"showlakes\":true,\"showland\":true,\"subunitcolor\":\"white\"},\"hoverlabel\":{\"align\":\"left\"},\"hovermode\":\"closest\",\"mapbox\":{\"style\":\"light\"},\"paper_bgcolor\":\"white\",\"plot_bgcolor\":\"#E5ECF6\",\"polar\":{\"angularaxis\":{\"gridcolor\":\"white\",\"linecolor\":\"white\",\"ticks\":\"\"},\"bgcolor\":\"#E5ECF6\",\"radialaxis\":{\"gridcolor\":\"white\",\"linecolor\":\"white\",\"ticks\":\"\"}},\"scene\":{\"xaxis\":{\"backgroundcolor\":\"#E5ECF6\",\"gridcolor\":\"white\",\"gridwidth\":2,\"linecolor\":\"white\",\"showbackground\":true,\"ticks\":\"\",\"zerolinecolor\":\"white\"},\"yaxis\":{\"backgroundcolor\":\"#E5ECF6\",\"gridcolor\":\"white\",\"gridwidth\":2,\"linecolor\":\"white\",\"showbackground\":true,\"ticks\":\"\",\"zerolinecolor\":\"white\"},\"zaxis\":{\"backgroundcolor\":\"#E5ECF6\",\"gridcolor\":\"white\",\"gridwidth\":2,\"linecolor\":\"white\",\"showbackground\":true,\"ticks\":\"\",\"zerolinecolor\":\"white\"}},\"shapedefaults\":{\"line\":{\"color\":\"#2a3f5f\"}},\"ternary\":{\"aaxis\":{\"gridcolor\":\"white\",\"linecolor\":\"white\",\"ticks\":\"\"},\"baxis\":{\"gridcolor\":\"white\",\"linecolor\":\"white\",\"ticks\":\"\"},\"bgcolor\":\"#E5ECF6\",\"caxis\":{\"gridcolor\":\"white\",\"linecolor\":\"white\",\"ticks\":\"\"}},\"title\":{\"x\":0.05},\"xaxis\":{\"automargin\":true,\"gridcolor\":\"white\",\"linecolor\":\"white\",\"ticks\":\"\",\"title\":{\"standoff\":15},\"zerolinecolor\":\"white\",\"zerolinewidth\":2},\"yaxis\":{\"automargin\":true,\"gridcolor\":\"white\",\"linecolor\":\"white\",\"ticks\":\"\",\"title\":{\"standoff\":15},\"zerolinecolor\":\"white\",\"zerolinewidth\":2}}},\"title\":{\"font\":{\"color\":\"#4D5663\"}},\"xaxis\":{\"gridcolor\":\"#E1E5ED\",\"showgrid\":true,\"tickfont\":{\"color\":\"#4D5663\"},\"title\":{\"font\":{\"color\":\"#4D5663\"},\"text\":\"\"},\"zerolinecolor\":\"#E1E5ED\"},\"yaxis\":{\"gridcolor\":\"#E1E5ED\",\"showgrid\":true,\"tickfont\":{\"color\":\"#4D5663\"},\"title\":{\"font\":{\"color\":\"#4D5663\"},\"text\":\"\"},\"zerolinecolor\":\"#E1E5ED\"}},                        {\"showLink\": true, \"linkText\": \"Export to plot.ly\", \"plotlyServerURL\": \"https://plot.ly\", \"responsive\": true}                    ).then(function(){\n",
       "                            \n",
       "var gd = document.getElementById('f0d2fac7-f9d0-46d2-8c24-5ee3a7bf9ce8');\n",
       "var x = new MutationObserver(function (mutations, observer) {{\n",
       "        var display = window.getComputedStyle(gd).display;\n",
       "        if (!display || display === 'none') {{\n",
       "            console.log([gd, 'removed!']);\n",
       "            Plotly.purge(gd);\n",
       "            observer.disconnect();\n",
       "        }}\n",
       "}});\n",
       "\n",
       "// Listen for the removal of the full notebook cells\n",
       "var notebookContainer = gd.closest('#notebook-container');\n",
       "if (notebookContainer) {{\n",
       "    x.observe(notebookContainer, {childList: true});\n",
       "}}\n",
       "\n",
       "// Listen for the clearing of the current output cell\n",
       "var outputEl = gd.closest('.output');\n",
       "if (outputEl) {{\n",
       "    x.observe(outputEl, {childList: true});\n",
       "}}\n",
       "\n",
       "                        })                };                });            </script>        </div>"
      ]
     },
     "metadata": {},
     "output_type": "display_data"
    }
   ],
   "source": [
    "# 3D plot with colorscale\n",
    "\n",
    "df4.iplot(kind='surface',colorscale='rdylbu')"
   ]
  },
  {
   "cell_type": "code",
   "execution_count": 25,
   "id": "2485f300",
   "metadata": {},
   "outputs": [
    {
     "data": {
      "application/vnd.plotly.v1+json": {
       "config": {
        "linkText": "Export to plot.ly",
        "plotlyServerURL": "https://plot.ly",
        "showLink": true
       },
       "data": [
        {
         "histfunc": "count",
         "histnorm": "",
         "marker": {
          "color": "rgba(255, 153, 51, 1.0)",
          "line": {
           "color": "#4D5663",
           "width": 1.3
          }
         },
         "name": "A",
         "nbinsx": 50,
         "opacity": 0.8,
         "orientation": "v",
         "type": "histogram",
         "x": [
          -0.7156901301506218,
          -2.4644340092683623,
          -0.5020478490356647,
          0.18831575059229694,
          -0.9395232600804589,
          0.6370608619021374,
          0.3181842436496653,
          -1.925815864693647,
          -1.601490197748081,
          0.7504852699910404,
          0.34651704071887407,
          -0.3782613877092965,
          0.50360062282216,
          1.1783072011157854,
          -0.39512918539645014,
          -0.27615642716525757,
          -0.6955150924719622,
          0.22125184868079706,
          0.3468389819905759,
          -1.417697236866669,
          1.115510266869824,
          -0.19740429399545154,
          -2.464841424106378,
          -0.8367326516922796,
          -1.784665752306031,
          -0.22786206228857037,
          -0.05747200108715722,
          -0.2582444417187888,
          -0.5840818609797201,
          -0.6447426754570369,
          -0.7890790059168368,
          0.23016315567803003,
          -1.267679972953894,
          0.11816464469909889,
          0.53265482704174,
          -1.2698235619164742,
          -1.8768988863675784,
          -0.9104585436306738,
          0.5197942871049583,
          -1.1344331642903294,
          0.992329649408986,
          -0.23854074055432464,
          -0.1930210849793099,
          0.6095404688520194,
          -1.232825526706406,
          -1.5328054495473706,
          0.3036487187896314,
          -0.2579415954354775,
          -0.28408823698571445,
          0.31097652201661435,
          0.5365134318194574,
          -0.2523997745954963,
          -0.22895996185521222,
          1.7212536262694407,
          0.220474283657124,
          -2.2021749191469557,
          -0.8986508298431952,
          -0.3221635884228591,
          -0.40414847758021716,
          -0.5652901674053412,
          1.0766577310137808,
          0.5349076975629776,
          0.23762680428485808,
          -1.7126244683313148,
          -0.5928398888471055,
          -1.4949122694654595,
          -1.1661099302510365,
          0.46297332937027735,
          -1.3945134376948467,
          -0.3869679733820751,
          -0.9624273069822818,
          -1.2765077481404117,
          -0.8586057990186773,
          -1.3617817621094965,
          0.5289027802019703,
          0.6103126439405477,
          0.9832256017665594,
          0.5128656072910021,
          -0.4379259719293449,
          -0.6556385330952424,
          0.14179110527076172,
          -0.01073393938291526,
          0.5485346127017294,
          1.2238687868347427,
          1.3552631701641884,
          -0.679197152670297,
          1.4246054066122478,
          0.37843614621800514,
          -0.33839561042916416,
          0.595800624621955,
          0.2134554912461374,
          1.115174003760538,
          0.8652782710066977,
          0.3619724278187933,
          -0.9215434485902071,
          0.8922369823809136,
          -0.21678248120535829,
          -0.688812085998554,
          0.4169838531764566,
          0.2484314725645371
         ]
        }
       ],
       "layout": {
        "barmode": "overlay",
        "legend": {
         "bgcolor": "#F5F6F9",
         "font": {
          "color": "#4D5663"
         }
        },
        "paper_bgcolor": "#F5F6F9",
        "plot_bgcolor": "#F5F6F9",
        "template": {
         "data": {
          "bar": [
           {
            "error_x": {
             "color": "#2a3f5f"
            },
            "error_y": {
             "color": "#2a3f5f"
            },
            "marker": {
             "line": {
              "color": "#E5ECF6",
              "width": 0.5
             },
             "pattern": {
              "fillmode": "overlay",
              "size": 10,
              "solidity": 0.2
             }
            },
            "type": "bar"
           }
          ],
          "barpolar": [
           {
            "marker": {
             "line": {
              "color": "#E5ECF6",
              "width": 0.5
             },
             "pattern": {
              "fillmode": "overlay",
              "size": 10,
              "solidity": 0.2
             }
            },
            "type": "barpolar"
           }
          ],
          "carpet": [
           {
            "aaxis": {
             "endlinecolor": "#2a3f5f",
             "gridcolor": "white",
             "linecolor": "white",
             "minorgridcolor": "white",
             "startlinecolor": "#2a3f5f"
            },
            "baxis": {
             "endlinecolor": "#2a3f5f",
             "gridcolor": "white",
             "linecolor": "white",
             "minorgridcolor": "white",
             "startlinecolor": "#2a3f5f"
            },
            "type": "carpet"
           }
          ],
          "choropleth": [
           {
            "colorbar": {
             "outlinewidth": 0,
             "ticks": ""
            },
            "type": "choropleth"
           }
          ],
          "contour": [
           {
            "colorbar": {
             "outlinewidth": 0,
             "ticks": ""
            },
            "colorscale": [
             [
              0,
              "#0d0887"
             ],
             [
              0.1111111111111111,
              "#46039f"
             ],
             [
              0.2222222222222222,
              "#7201a8"
             ],
             [
              0.3333333333333333,
              "#9c179e"
             ],
             [
              0.4444444444444444,
              "#bd3786"
             ],
             [
              0.5555555555555556,
              "#d8576b"
             ],
             [
              0.6666666666666666,
              "#ed7953"
             ],
             [
              0.7777777777777778,
              "#fb9f3a"
             ],
             [
              0.8888888888888888,
              "#fdca26"
             ],
             [
              1,
              "#f0f921"
             ]
            ],
            "type": "contour"
           }
          ],
          "contourcarpet": [
           {
            "colorbar": {
             "outlinewidth": 0,
             "ticks": ""
            },
            "type": "contourcarpet"
           }
          ],
          "heatmap": [
           {
            "colorbar": {
             "outlinewidth": 0,
             "ticks": ""
            },
            "colorscale": [
             [
              0,
              "#0d0887"
             ],
             [
              0.1111111111111111,
              "#46039f"
             ],
             [
              0.2222222222222222,
              "#7201a8"
             ],
             [
              0.3333333333333333,
              "#9c179e"
             ],
             [
              0.4444444444444444,
              "#bd3786"
             ],
             [
              0.5555555555555556,
              "#d8576b"
             ],
             [
              0.6666666666666666,
              "#ed7953"
             ],
             [
              0.7777777777777778,
              "#fb9f3a"
             ],
             [
              0.8888888888888888,
              "#fdca26"
             ],
             [
              1,
              "#f0f921"
             ]
            ],
            "type": "heatmap"
           }
          ],
          "heatmapgl": [
           {
            "colorbar": {
             "outlinewidth": 0,
             "ticks": ""
            },
            "colorscale": [
             [
              0,
              "#0d0887"
             ],
             [
              0.1111111111111111,
              "#46039f"
             ],
             [
              0.2222222222222222,
              "#7201a8"
             ],
             [
              0.3333333333333333,
              "#9c179e"
             ],
             [
              0.4444444444444444,
              "#bd3786"
             ],
             [
              0.5555555555555556,
              "#d8576b"
             ],
             [
              0.6666666666666666,
              "#ed7953"
             ],
             [
              0.7777777777777778,
              "#fb9f3a"
             ],
             [
              0.8888888888888888,
              "#fdca26"
             ],
             [
              1,
              "#f0f921"
             ]
            ],
            "type": "heatmapgl"
           }
          ],
          "histogram": [
           {
            "marker": {
             "pattern": {
              "fillmode": "overlay",
              "size": 10,
              "solidity": 0.2
             }
            },
            "type": "histogram"
           }
          ],
          "histogram2d": [
           {
            "colorbar": {
             "outlinewidth": 0,
             "ticks": ""
            },
            "colorscale": [
             [
              0,
              "#0d0887"
             ],
             [
              0.1111111111111111,
              "#46039f"
             ],
             [
              0.2222222222222222,
              "#7201a8"
             ],
             [
              0.3333333333333333,
              "#9c179e"
             ],
             [
              0.4444444444444444,
              "#bd3786"
             ],
             [
              0.5555555555555556,
              "#d8576b"
             ],
             [
              0.6666666666666666,
              "#ed7953"
             ],
             [
              0.7777777777777778,
              "#fb9f3a"
             ],
             [
              0.8888888888888888,
              "#fdca26"
             ],
             [
              1,
              "#f0f921"
             ]
            ],
            "type": "histogram2d"
           }
          ],
          "histogram2dcontour": [
           {
            "colorbar": {
             "outlinewidth": 0,
             "ticks": ""
            },
            "colorscale": [
             [
              0,
              "#0d0887"
             ],
             [
              0.1111111111111111,
              "#46039f"
             ],
             [
              0.2222222222222222,
              "#7201a8"
             ],
             [
              0.3333333333333333,
              "#9c179e"
             ],
             [
              0.4444444444444444,
              "#bd3786"
             ],
             [
              0.5555555555555556,
              "#d8576b"
             ],
             [
              0.6666666666666666,
              "#ed7953"
             ],
             [
              0.7777777777777778,
              "#fb9f3a"
             ],
             [
              0.8888888888888888,
              "#fdca26"
             ],
             [
              1,
              "#f0f921"
             ]
            ],
            "type": "histogram2dcontour"
           }
          ],
          "mesh3d": [
           {
            "colorbar": {
             "outlinewidth": 0,
             "ticks": ""
            },
            "type": "mesh3d"
           }
          ],
          "parcoords": [
           {
            "line": {
             "colorbar": {
              "outlinewidth": 0,
              "ticks": ""
             }
            },
            "type": "parcoords"
           }
          ],
          "pie": [
           {
            "automargin": true,
            "type": "pie"
           }
          ],
          "scatter": [
           {
            "marker": {
             "colorbar": {
              "outlinewidth": 0,
              "ticks": ""
             }
            },
            "type": "scatter"
           }
          ],
          "scatter3d": [
           {
            "line": {
             "colorbar": {
              "outlinewidth": 0,
              "ticks": ""
             }
            },
            "marker": {
             "colorbar": {
              "outlinewidth": 0,
              "ticks": ""
             }
            },
            "type": "scatter3d"
           }
          ],
          "scattercarpet": [
           {
            "marker": {
             "colorbar": {
              "outlinewidth": 0,
              "ticks": ""
             }
            },
            "type": "scattercarpet"
           }
          ],
          "scattergeo": [
           {
            "marker": {
             "colorbar": {
              "outlinewidth": 0,
              "ticks": ""
             }
            },
            "type": "scattergeo"
           }
          ],
          "scattergl": [
           {
            "marker": {
             "colorbar": {
              "outlinewidth": 0,
              "ticks": ""
             }
            },
            "type": "scattergl"
           }
          ],
          "scattermapbox": [
           {
            "marker": {
             "colorbar": {
              "outlinewidth": 0,
              "ticks": ""
             }
            },
            "type": "scattermapbox"
           }
          ],
          "scatterpolar": [
           {
            "marker": {
             "colorbar": {
              "outlinewidth": 0,
              "ticks": ""
             }
            },
            "type": "scatterpolar"
           }
          ],
          "scatterpolargl": [
           {
            "marker": {
             "colorbar": {
              "outlinewidth": 0,
              "ticks": ""
             }
            },
            "type": "scatterpolargl"
           }
          ],
          "scatterternary": [
           {
            "marker": {
             "colorbar": {
              "outlinewidth": 0,
              "ticks": ""
             }
            },
            "type": "scatterternary"
           }
          ],
          "surface": [
           {
            "colorbar": {
             "outlinewidth": 0,
             "ticks": ""
            },
            "colorscale": [
             [
              0,
              "#0d0887"
             ],
             [
              0.1111111111111111,
              "#46039f"
             ],
             [
              0.2222222222222222,
              "#7201a8"
             ],
             [
              0.3333333333333333,
              "#9c179e"
             ],
             [
              0.4444444444444444,
              "#bd3786"
             ],
             [
              0.5555555555555556,
              "#d8576b"
             ],
             [
              0.6666666666666666,
              "#ed7953"
             ],
             [
              0.7777777777777778,
              "#fb9f3a"
             ],
             [
              0.8888888888888888,
              "#fdca26"
             ],
             [
              1,
              "#f0f921"
             ]
            ],
            "type": "surface"
           }
          ],
          "table": [
           {
            "cells": {
             "fill": {
              "color": "#EBF0F8"
             },
             "line": {
              "color": "white"
             }
            },
            "header": {
             "fill": {
              "color": "#C8D4E3"
             },
             "line": {
              "color": "white"
             }
            },
            "type": "table"
           }
          ]
         },
         "layout": {
          "annotationdefaults": {
           "arrowcolor": "#2a3f5f",
           "arrowhead": 0,
           "arrowwidth": 1
          },
          "autotypenumbers": "strict",
          "coloraxis": {
           "colorbar": {
            "outlinewidth": 0,
            "ticks": ""
           }
          },
          "colorscale": {
           "diverging": [
            [
             0,
             "#8e0152"
            ],
            [
             0.1,
             "#c51b7d"
            ],
            [
             0.2,
             "#de77ae"
            ],
            [
             0.3,
             "#f1b6da"
            ],
            [
             0.4,
             "#fde0ef"
            ],
            [
             0.5,
             "#f7f7f7"
            ],
            [
             0.6,
             "#e6f5d0"
            ],
            [
             0.7,
             "#b8e186"
            ],
            [
             0.8,
             "#7fbc41"
            ],
            [
             0.9,
             "#4d9221"
            ],
            [
             1,
             "#276419"
            ]
           ],
           "sequential": [
            [
             0,
             "#0d0887"
            ],
            [
             0.1111111111111111,
             "#46039f"
            ],
            [
             0.2222222222222222,
             "#7201a8"
            ],
            [
             0.3333333333333333,
             "#9c179e"
            ],
            [
             0.4444444444444444,
             "#bd3786"
            ],
            [
             0.5555555555555556,
             "#d8576b"
            ],
            [
             0.6666666666666666,
             "#ed7953"
            ],
            [
             0.7777777777777778,
             "#fb9f3a"
            ],
            [
             0.8888888888888888,
             "#fdca26"
            ],
            [
             1,
             "#f0f921"
            ]
           ],
           "sequentialminus": [
            [
             0,
             "#0d0887"
            ],
            [
             0.1111111111111111,
             "#46039f"
            ],
            [
             0.2222222222222222,
             "#7201a8"
            ],
            [
             0.3333333333333333,
             "#9c179e"
            ],
            [
             0.4444444444444444,
             "#bd3786"
            ],
            [
             0.5555555555555556,
             "#d8576b"
            ],
            [
             0.6666666666666666,
             "#ed7953"
            ],
            [
             0.7777777777777778,
             "#fb9f3a"
            ],
            [
             0.8888888888888888,
             "#fdca26"
            ],
            [
             1,
             "#f0f921"
            ]
           ]
          },
          "colorway": [
           "#636efa",
           "#EF553B",
           "#00cc96",
           "#ab63fa",
           "#FFA15A",
           "#19d3f3",
           "#FF6692",
           "#B6E880",
           "#FF97FF",
           "#FECB52"
          ],
          "font": {
           "color": "#2a3f5f"
          },
          "geo": {
           "bgcolor": "white",
           "lakecolor": "white",
           "landcolor": "#E5ECF6",
           "showlakes": true,
           "showland": true,
           "subunitcolor": "white"
          },
          "hoverlabel": {
           "align": "left"
          },
          "hovermode": "closest",
          "mapbox": {
           "style": "light"
          },
          "paper_bgcolor": "white",
          "plot_bgcolor": "#E5ECF6",
          "polar": {
           "angularaxis": {
            "gridcolor": "white",
            "linecolor": "white",
            "ticks": ""
           },
           "bgcolor": "#E5ECF6",
           "radialaxis": {
            "gridcolor": "white",
            "linecolor": "white",
            "ticks": ""
           }
          },
          "scene": {
           "xaxis": {
            "backgroundcolor": "#E5ECF6",
            "gridcolor": "white",
            "gridwidth": 2,
            "linecolor": "white",
            "showbackground": true,
            "ticks": "",
            "zerolinecolor": "white"
           },
           "yaxis": {
            "backgroundcolor": "#E5ECF6",
            "gridcolor": "white",
            "gridwidth": 2,
            "linecolor": "white",
            "showbackground": true,
            "ticks": "",
            "zerolinecolor": "white"
           },
           "zaxis": {
            "backgroundcolor": "#E5ECF6",
            "gridcolor": "white",
            "gridwidth": 2,
            "linecolor": "white",
            "showbackground": true,
            "ticks": "",
            "zerolinecolor": "white"
           }
          },
          "shapedefaults": {
           "line": {
            "color": "#2a3f5f"
           }
          },
          "ternary": {
           "aaxis": {
            "gridcolor": "white",
            "linecolor": "white",
            "ticks": ""
           },
           "baxis": {
            "gridcolor": "white",
            "linecolor": "white",
            "ticks": ""
           },
           "bgcolor": "#E5ECF6",
           "caxis": {
            "gridcolor": "white",
            "linecolor": "white",
            "ticks": ""
           }
          },
          "title": {
           "x": 0.05
          },
          "xaxis": {
           "automargin": true,
           "gridcolor": "white",
           "linecolor": "white",
           "ticks": "",
           "title": {
            "standoff": 15
           },
           "zerolinecolor": "white",
           "zerolinewidth": 2
          },
          "yaxis": {
           "automargin": true,
           "gridcolor": "white",
           "linecolor": "white",
           "ticks": "",
           "title": {
            "standoff": 15
           },
           "zerolinecolor": "white",
           "zerolinewidth": 2
          }
         }
        },
        "title": {
         "font": {
          "color": "#4D5663"
         }
        },
        "xaxis": {
         "gridcolor": "#E1E5ED",
         "showgrid": true,
         "tickfont": {
          "color": "#4D5663"
         },
         "title": {
          "font": {
           "color": "#4D5663"
          },
          "text": ""
         },
         "zerolinecolor": "#E1E5ED"
        },
        "yaxis": {
         "gridcolor": "#E1E5ED",
         "showgrid": true,
         "tickfont": {
          "color": "#4D5663"
         },
         "title": {
          "font": {
           "color": "#4D5663"
          },
          "text": ""
         },
         "zerolinecolor": "#E1E5ED"
        }
       }
      },
      "text/html": [
       "<div>                            <div id=\"b1eaf040-7421-4972-9d44-5f989e169c9b\" class=\"plotly-graph-div\" style=\"height:525px; width:100%;\"></div>            <script type=\"text/javascript\">                require([\"plotly\"], function(Plotly) {                    window.PLOTLYENV=window.PLOTLYENV || {};\n",
       "                    window.PLOTLYENV.BASE_URL='https://plot.ly';                                    if (document.getElementById(\"b1eaf040-7421-4972-9d44-5f989e169c9b\")) {                    Plotly.newPlot(                        \"b1eaf040-7421-4972-9d44-5f989e169c9b\",                        [{\"histfunc\":\"count\",\"histnorm\":\"\",\"marker\":{\"color\":\"rgba(255, 153, 51, 1.0)\",\"line\":{\"color\":\"#4D5663\",\"width\":1.3}},\"name\":\"A\",\"nbinsx\":50,\"opacity\":0.8,\"orientation\":\"v\",\"x\":[-0.7156901301506218,-2.4644340092683623,-0.5020478490356647,0.18831575059229694,-0.9395232600804589,0.6370608619021374,0.3181842436496653,-1.925815864693647,-1.601490197748081,0.7504852699910404,0.34651704071887407,-0.3782613877092965,0.50360062282216,1.1783072011157854,-0.39512918539645014,-0.27615642716525757,-0.6955150924719622,0.22125184868079706,0.3468389819905759,-1.417697236866669,1.115510266869824,-0.19740429399545154,-2.464841424106378,-0.8367326516922796,-1.784665752306031,-0.22786206228857037,-0.05747200108715722,-0.2582444417187888,-0.5840818609797201,-0.6447426754570369,-0.7890790059168368,0.23016315567803003,-1.267679972953894,0.11816464469909889,0.53265482704174,-1.2698235619164742,-1.8768988863675784,-0.9104585436306738,0.5197942871049583,-1.1344331642903294,0.992329649408986,-0.23854074055432464,-0.1930210849793099,0.6095404688520194,-1.232825526706406,-1.5328054495473706,0.3036487187896314,-0.2579415954354775,-0.28408823698571445,0.31097652201661435,0.5365134318194574,-0.2523997745954963,-0.22895996185521222,1.7212536262694407,0.220474283657124,-2.2021749191469557,-0.8986508298431952,-0.3221635884228591,-0.40414847758021716,-0.5652901674053412,1.0766577310137808,0.5349076975629776,0.23762680428485808,-1.7126244683313148,-0.5928398888471055,-1.4949122694654595,-1.1661099302510365,0.46297332937027735,-1.3945134376948467,-0.3869679733820751,-0.9624273069822818,-1.2765077481404117,-0.8586057990186773,-1.3617817621094965,0.5289027802019703,0.6103126439405477,0.9832256017665594,0.5128656072910021,-0.4379259719293449,-0.6556385330952424,0.14179110527076172,-0.01073393938291526,0.5485346127017294,1.2238687868347427,1.3552631701641884,-0.679197152670297,1.4246054066122478,0.37843614621800514,-0.33839561042916416,0.595800624621955,0.2134554912461374,1.115174003760538,0.8652782710066977,0.3619724278187933,-0.9215434485902071,0.8922369823809136,-0.21678248120535829,-0.688812085998554,0.4169838531764566,0.2484314725645371],\"type\":\"histogram\"}],                        {\"barmode\":\"overlay\",\"legend\":{\"bgcolor\":\"#F5F6F9\",\"font\":{\"color\":\"#4D5663\"}},\"paper_bgcolor\":\"#F5F6F9\",\"plot_bgcolor\":\"#F5F6F9\",\"template\":{\"data\":{\"barpolar\":[{\"marker\":{\"line\":{\"color\":\"#E5ECF6\",\"width\":0.5},\"pattern\":{\"fillmode\":\"overlay\",\"size\":10,\"solidity\":0.2}},\"type\":\"barpolar\"}],\"bar\":[{\"error_x\":{\"color\":\"#2a3f5f\"},\"error_y\":{\"color\":\"#2a3f5f\"},\"marker\":{\"line\":{\"color\":\"#E5ECF6\",\"width\":0.5},\"pattern\":{\"fillmode\":\"overlay\",\"size\":10,\"solidity\":0.2}},\"type\":\"bar\"}],\"carpet\":[{\"aaxis\":{\"endlinecolor\":\"#2a3f5f\",\"gridcolor\":\"white\",\"linecolor\":\"white\",\"minorgridcolor\":\"white\",\"startlinecolor\":\"#2a3f5f\"},\"baxis\":{\"endlinecolor\":\"#2a3f5f\",\"gridcolor\":\"white\",\"linecolor\":\"white\",\"minorgridcolor\":\"white\",\"startlinecolor\":\"#2a3f5f\"},\"type\":\"carpet\"}],\"choropleth\":[{\"colorbar\":{\"outlinewidth\":0,\"ticks\":\"\"},\"type\":\"choropleth\"}],\"contourcarpet\":[{\"colorbar\":{\"outlinewidth\":0,\"ticks\":\"\"},\"type\":\"contourcarpet\"}],\"contour\":[{\"colorbar\":{\"outlinewidth\":0,\"ticks\":\"\"},\"colorscale\":[[0.0,\"#0d0887\"],[0.1111111111111111,\"#46039f\"],[0.2222222222222222,\"#7201a8\"],[0.3333333333333333,\"#9c179e\"],[0.4444444444444444,\"#bd3786\"],[0.5555555555555556,\"#d8576b\"],[0.6666666666666666,\"#ed7953\"],[0.7777777777777778,\"#fb9f3a\"],[0.8888888888888888,\"#fdca26\"],[1.0,\"#f0f921\"]],\"type\":\"contour\"}],\"heatmapgl\":[{\"colorbar\":{\"outlinewidth\":0,\"ticks\":\"\"},\"colorscale\":[[0.0,\"#0d0887\"],[0.1111111111111111,\"#46039f\"],[0.2222222222222222,\"#7201a8\"],[0.3333333333333333,\"#9c179e\"],[0.4444444444444444,\"#bd3786\"],[0.5555555555555556,\"#d8576b\"],[0.6666666666666666,\"#ed7953\"],[0.7777777777777778,\"#fb9f3a\"],[0.8888888888888888,\"#fdca26\"],[1.0,\"#f0f921\"]],\"type\":\"heatmapgl\"}],\"heatmap\":[{\"colorbar\":{\"outlinewidth\":0,\"ticks\":\"\"},\"colorscale\":[[0.0,\"#0d0887\"],[0.1111111111111111,\"#46039f\"],[0.2222222222222222,\"#7201a8\"],[0.3333333333333333,\"#9c179e\"],[0.4444444444444444,\"#bd3786\"],[0.5555555555555556,\"#d8576b\"],[0.6666666666666666,\"#ed7953\"],[0.7777777777777778,\"#fb9f3a\"],[0.8888888888888888,\"#fdca26\"],[1.0,\"#f0f921\"]],\"type\":\"heatmap\"}],\"histogram2dcontour\":[{\"colorbar\":{\"outlinewidth\":0,\"ticks\":\"\"},\"colorscale\":[[0.0,\"#0d0887\"],[0.1111111111111111,\"#46039f\"],[0.2222222222222222,\"#7201a8\"],[0.3333333333333333,\"#9c179e\"],[0.4444444444444444,\"#bd3786\"],[0.5555555555555556,\"#d8576b\"],[0.6666666666666666,\"#ed7953\"],[0.7777777777777778,\"#fb9f3a\"],[0.8888888888888888,\"#fdca26\"],[1.0,\"#f0f921\"]],\"type\":\"histogram2dcontour\"}],\"histogram2d\":[{\"colorbar\":{\"outlinewidth\":0,\"ticks\":\"\"},\"colorscale\":[[0.0,\"#0d0887\"],[0.1111111111111111,\"#46039f\"],[0.2222222222222222,\"#7201a8\"],[0.3333333333333333,\"#9c179e\"],[0.4444444444444444,\"#bd3786\"],[0.5555555555555556,\"#d8576b\"],[0.6666666666666666,\"#ed7953\"],[0.7777777777777778,\"#fb9f3a\"],[0.8888888888888888,\"#fdca26\"],[1.0,\"#f0f921\"]],\"type\":\"histogram2d\"}],\"histogram\":[{\"marker\":{\"pattern\":{\"fillmode\":\"overlay\",\"size\":10,\"solidity\":0.2}},\"type\":\"histogram\"}],\"mesh3d\":[{\"colorbar\":{\"outlinewidth\":0,\"ticks\":\"\"},\"type\":\"mesh3d\"}],\"parcoords\":[{\"line\":{\"colorbar\":{\"outlinewidth\":0,\"ticks\":\"\"}},\"type\":\"parcoords\"}],\"pie\":[{\"automargin\":true,\"type\":\"pie\"}],\"scatter3d\":[{\"line\":{\"colorbar\":{\"outlinewidth\":0,\"ticks\":\"\"}},\"marker\":{\"colorbar\":{\"outlinewidth\":0,\"ticks\":\"\"}},\"type\":\"scatter3d\"}],\"scattercarpet\":[{\"marker\":{\"colorbar\":{\"outlinewidth\":0,\"ticks\":\"\"}},\"type\":\"scattercarpet\"}],\"scattergeo\":[{\"marker\":{\"colorbar\":{\"outlinewidth\":0,\"ticks\":\"\"}},\"type\":\"scattergeo\"}],\"scattergl\":[{\"marker\":{\"colorbar\":{\"outlinewidth\":0,\"ticks\":\"\"}},\"type\":\"scattergl\"}],\"scattermapbox\":[{\"marker\":{\"colorbar\":{\"outlinewidth\":0,\"ticks\":\"\"}},\"type\":\"scattermapbox\"}],\"scatterpolargl\":[{\"marker\":{\"colorbar\":{\"outlinewidth\":0,\"ticks\":\"\"}},\"type\":\"scatterpolargl\"}],\"scatterpolar\":[{\"marker\":{\"colorbar\":{\"outlinewidth\":0,\"ticks\":\"\"}},\"type\":\"scatterpolar\"}],\"scatter\":[{\"marker\":{\"colorbar\":{\"outlinewidth\":0,\"ticks\":\"\"}},\"type\":\"scatter\"}],\"scatterternary\":[{\"marker\":{\"colorbar\":{\"outlinewidth\":0,\"ticks\":\"\"}},\"type\":\"scatterternary\"}],\"surface\":[{\"colorbar\":{\"outlinewidth\":0,\"ticks\":\"\"},\"colorscale\":[[0.0,\"#0d0887\"],[0.1111111111111111,\"#46039f\"],[0.2222222222222222,\"#7201a8\"],[0.3333333333333333,\"#9c179e\"],[0.4444444444444444,\"#bd3786\"],[0.5555555555555556,\"#d8576b\"],[0.6666666666666666,\"#ed7953\"],[0.7777777777777778,\"#fb9f3a\"],[0.8888888888888888,\"#fdca26\"],[1.0,\"#f0f921\"]],\"type\":\"surface\"}],\"table\":[{\"cells\":{\"fill\":{\"color\":\"#EBF0F8\"},\"line\":{\"color\":\"white\"}},\"header\":{\"fill\":{\"color\":\"#C8D4E3\"},\"line\":{\"color\":\"white\"}},\"type\":\"table\"}]},\"layout\":{\"annotationdefaults\":{\"arrowcolor\":\"#2a3f5f\",\"arrowhead\":0,\"arrowwidth\":1},\"autotypenumbers\":\"strict\",\"coloraxis\":{\"colorbar\":{\"outlinewidth\":0,\"ticks\":\"\"}},\"colorscale\":{\"diverging\":[[0,\"#8e0152\"],[0.1,\"#c51b7d\"],[0.2,\"#de77ae\"],[0.3,\"#f1b6da\"],[0.4,\"#fde0ef\"],[0.5,\"#f7f7f7\"],[0.6,\"#e6f5d0\"],[0.7,\"#b8e186\"],[0.8,\"#7fbc41\"],[0.9,\"#4d9221\"],[1,\"#276419\"]],\"sequential\":[[0.0,\"#0d0887\"],[0.1111111111111111,\"#46039f\"],[0.2222222222222222,\"#7201a8\"],[0.3333333333333333,\"#9c179e\"],[0.4444444444444444,\"#bd3786\"],[0.5555555555555556,\"#d8576b\"],[0.6666666666666666,\"#ed7953\"],[0.7777777777777778,\"#fb9f3a\"],[0.8888888888888888,\"#fdca26\"],[1.0,\"#f0f921\"]],\"sequentialminus\":[[0.0,\"#0d0887\"],[0.1111111111111111,\"#46039f\"],[0.2222222222222222,\"#7201a8\"],[0.3333333333333333,\"#9c179e\"],[0.4444444444444444,\"#bd3786\"],[0.5555555555555556,\"#d8576b\"],[0.6666666666666666,\"#ed7953\"],[0.7777777777777778,\"#fb9f3a\"],[0.8888888888888888,\"#fdca26\"],[1.0,\"#f0f921\"]]},\"colorway\":[\"#636efa\",\"#EF553B\",\"#00cc96\",\"#ab63fa\",\"#FFA15A\",\"#19d3f3\",\"#FF6692\",\"#B6E880\",\"#FF97FF\",\"#FECB52\"],\"font\":{\"color\":\"#2a3f5f\"},\"geo\":{\"bgcolor\":\"white\",\"lakecolor\":\"white\",\"landcolor\":\"#E5ECF6\",\"showlakes\":true,\"showland\":true,\"subunitcolor\":\"white\"},\"hoverlabel\":{\"align\":\"left\"},\"hovermode\":\"closest\",\"mapbox\":{\"style\":\"light\"},\"paper_bgcolor\":\"white\",\"plot_bgcolor\":\"#E5ECF6\",\"polar\":{\"angularaxis\":{\"gridcolor\":\"white\",\"linecolor\":\"white\",\"ticks\":\"\"},\"bgcolor\":\"#E5ECF6\",\"radialaxis\":{\"gridcolor\":\"white\",\"linecolor\":\"white\",\"ticks\":\"\"}},\"scene\":{\"xaxis\":{\"backgroundcolor\":\"#E5ECF6\",\"gridcolor\":\"white\",\"gridwidth\":2,\"linecolor\":\"white\",\"showbackground\":true,\"ticks\":\"\",\"zerolinecolor\":\"white\"},\"yaxis\":{\"backgroundcolor\":\"#E5ECF6\",\"gridcolor\":\"white\",\"gridwidth\":2,\"linecolor\":\"white\",\"showbackground\":true,\"ticks\":\"\",\"zerolinecolor\":\"white\"},\"zaxis\":{\"backgroundcolor\":\"#E5ECF6\",\"gridcolor\":\"white\",\"gridwidth\":2,\"linecolor\":\"white\",\"showbackground\":true,\"ticks\":\"\",\"zerolinecolor\":\"white\"}},\"shapedefaults\":{\"line\":{\"color\":\"#2a3f5f\"}},\"ternary\":{\"aaxis\":{\"gridcolor\":\"white\",\"linecolor\":\"white\",\"ticks\":\"\"},\"baxis\":{\"gridcolor\":\"white\",\"linecolor\":\"white\",\"ticks\":\"\"},\"bgcolor\":\"#E5ECF6\",\"caxis\":{\"gridcolor\":\"white\",\"linecolor\":\"white\",\"ticks\":\"\"}},\"title\":{\"x\":0.05},\"xaxis\":{\"automargin\":true,\"gridcolor\":\"white\",\"linecolor\":\"white\",\"ticks\":\"\",\"title\":{\"standoff\":15},\"zerolinecolor\":\"white\",\"zerolinewidth\":2},\"yaxis\":{\"automargin\":true,\"gridcolor\":\"white\",\"linecolor\":\"white\",\"ticks\":\"\",\"title\":{\"standoff\":15},\"zerolinecolor\":\"white\",\"zerolinewidth\":2}}},\"title\":{\"font\":{\"color\":\"#4D5663\"}},\"xaxis\":{\"gridcolor\":\"#E1E5ED\",\"showgrid\":true,\"tickfont\":{\"color\":\"#4D5663\"},\"title\":{\"font\":{\"color\":\"#4D5663\"},\"text\":\"\"},\"zerolinecolor\":\"#E1E5ED\"},\"yaxis\":{\"gridcolor\":\"#E1E5ED\",\"showgrid\":true,\"tickfont\":{\"color\":\"#4D5663\"},\"title\":{\"font\":{\"color\":\"#4D5663\"},\"text\":\"\"},\"zerolinecolor\":\"#E1E5ED\"}},                        {\"showLink\": true, \"linkText\": \"Export to plot.ly\", \"plotlyServerURL\": \"https://plot.ly\", \"responsive\": true}                    ).then(function(){\n",
       "                            \n",
       "var gd = document.getElementById('b1eaf040-7421-4972-9d44-5f989e169c9b');\n",
       "var x = new MutationObserver(function (mutations, observer) {{\n",
       "        var display = window.getComputedStyle(gd).display;\n",
       "        if (!display || display === 'none') {{\n",
       "            console.log([gd, 'removed!']);\n",
       "            Plotly.purge(gd);\n",
       "            observer.disconnect();\n",
       "        }}\n",
       "}});\n",
       "\n",
       "// Listen for the removal of the full notebook cells\n",
       "var notebookContainer = gd.closest('#notebook-container');\n",
       "if (notebookContainer) {{\n",
       "    x.observe(notebookContainer, {childList: true});\n",
       "}}\n",
       "\n",
       "// Listen for the clearing of the current output cell\n",
       "var outputEl = gd.closest('.output');\n",
       "if (outputEl) {{\n",
       "    x.observe(outputEl, {childList: true});\n",
       "}}\n",
       "\n",
       "                        })                };                });            </script>        </div>"
      ]
     },
     "metadata": {},
     "output_type": "display_data"
    }
   ],
   "source": [
    "# histogram iplot for df['A'] with bins set to give more bars\n",
    "\n",
    "df['A'].iplot(kind='hist',bins=50)"
   ]
  },
  {
   "cell_type": "code",
   "execution_count": 26,
   "id": "cba9942a",
   "metadata": {},
   "outputs": [
    {
     "data": {
      "application/vnd.plotly.v1+json": {
       "config": {
        "linkText": "Export to plot.ly",
        "plotlyServerURL": "https://plot.ly",
        "showLink": true
       },
       "data": [
        {
         "histfunc": "count",
         "histnorm": "",
         "marker": {
          "color": "rgba(255, 153, 51, 1.0)",
          "line": {
           "color": "#4D5663",
           "width": 1.3
          }
         },
         "name": "A",
         "nbinsx": 50,
         "opacity": 0.8,
         "orientation": "v",
         "type": "histogram",
         "x": [
          -0.7156901301506218,
          -2.4644340092683623,
          -0.5020478490356647,
          0.18831575059229694,
          -0.9395232600804589,
          0.6370608619021374,
          0.3181842436496653,
          -1.925815864693647,
          -1.601490197748081,
          0.7504852699910404,
          0.34651704071887407,
          -0.3782613877092965,
          0.50360062282216,
          1.1783072011157854,
          -0.39512918539645014,
          -0.27615642716525757,
          -0.6955150924719622,
          0.22125184868079706,
          0.3468389819905759,
          -1.417697236866669,
          1.115510266869824,
          -0.19740429399545154,
          -2.464841424106378,
          -0.8367326516922796,
          -1.784665752306031,
          -0.22786206228857037,
          -0.05747200108715722,
          -0.2582444417187888,
          -0.5840818609797201,
          -0.6447426754570369,
          -0.7890790059168368,
          0.23016315567803003,
          -1.267679972953894,
          0.11816464469909889,
          0.53265482704174,
          -1.2698235619164742,
          -1.8768988863675784,
          -0.9104585436306738,
          0.5197942871049583,
          -1.1344331642903294,
          0.992329649408986,
          -0.23854074055432464,
          -0.1930210849793099,
          0.6095404688520194,
          -1.232825526706406,
          -1.5328054495473706,
          0.3036487187896314,
          -0.2579415954354775,
          -0.28408823698571445,
          0.31097652201661435,
          0.5365134318194574,
          -0.2523997745954963,
          -0.22895996185521222,
          1.7212536262694407,
          0.220474283657124,
          -2.2021749191469557,
          -0.8986508298431952,
          -0.3221635884228591,
          -0.40414847758021716,
          -0.5652901674053412,
          1.0766577310137808,
          0.5349076975629776,
          0.23762680428485808,
          -1.7126244683313148,
          -0.5928398888471055,
          -1.4949122694654595,
          -1.1661099302510365,
          0.46297332937027735,
          -1.3945134376948467,
          -0.3869679733820751,
          -0.9624273069822818,
          -1.2765077481404117,
          -0.8586057990186773,
          -1.3617817621094965,
          0.5289027802019703,
          0.6103126439405477,
          0.9832256017665594,
          0.5128656072910021,
          -0.4379259719293449,
          -0.6556385330952424,
          0.14179110527076172,
          -0.01073393938291526,
          0.5485346127017294,
          1.2238687868347427,
          1.3552631701641884,
          -0.679197152670297,
          1.4246054066122478,
          0.37843614621800514,
          -0.33839561042916416,
          0.595800624621955,
          0.2134554912461374,
          1.115174003760538,
          0.8652782710066977,
          0.3619724278187933,
          -0.9215434485902071,
          0.8922369823809136,
          -0.21678248120535829,
          -0.688812085998554,
          0.4169838531764566,
          0.2484314725645371
         ]
        },
        {
         "histfunc": "count",
         "histnorm": "",
         "marker": {
          "color": "rgba(55, 128, 191, 1.0)",
          "line": {
           "color": "#4D5663",
           "width": 1.3
          }
         },
         "name": "B",
         "nbinsx": 50,
         "opacity": 0.8,
         "orientation": "v",
         "type": "histogram",
         "x": [
          -0.6513797764818611,
          0.5244019427590942,
          -1.1744674888572253,
          0.43368191568401226,
          0.899497260401665,
          -1.1445625650980764,
          0.07099522324692333,
          0.04362068821287567,
          -0.8160348335399022,
          0.1626016136310631,
          -0.7298670162319529,
          0.6713855417304806,
          -0.4897210754965677,
          -0.48252481799299574,
          -1.3139286582223493,
          0.9707580321863382,
          -1.1464067098017479,
          -1.6598898005122826,
          0.23742605508299555,
          2.6643609903481145,
          0.22610339598619442,
          0.6649669769165972,
          0.9281709465845623,
          0.9791321813439632,
          0.8762934680617513,
          -0.28943460277957755,
          -0.028190662231939393,
          0.2719755628483441,
          0.8570323675771371,
          -0.9874367202861509,
          1.1186820362029204,
          0.12441702071829709,
          -0.7566677889736816,
          0.5261667781482235,
          0.8229391933147238,
          1.0237625257527891,
          -1.1075967095024015,
          0.6989216003060206,
          0.4484205570752432,
          -0.26803786635302745,
          -0.6634160128961857,
          2.335734557413926,
          -1.434184074279899,
          0.2473602698192445,
          0.22238480469788974,
          -0.2677583598956593,
          0.2725413480059053,
          -0.8395778183942763,
          -0.661834594922329,
          -0.27007302620888896,
          -0.2474487320510582,
          -1.7686789507801906,
          -0.6927976504687269,
          -0.5679102310983882,
          -0.1715477136966996,
          -1.295629485531873,
          0.749114656046574,
          -0.4396779137233732,
          0.881864840173589,
          0.6699484712192457,
          -0.9865989035422554,
          0.8041516446982689,
          0.5708137463595715,
          -0.3544348711895968,
          -0.4411283148910683,
          -0.012678521787541109,
          -0.15374985521185416,
          1.0354303578331185,
          1.3043066720596153,
          -0.8746890120010864,
          0.08458332717612128,
          -0.8003519447971019,
          -0.6851446620945236,
          -1.1559883622724791,
          0.27707248332228673,
          1.4398769778179106,
          -1.574198276171295,
          -0.10824476202121064,
          -0.878756138704042,
          0.9528462091562935,
          0.36882014943302904,
          0.701962408764391,
          0.12515471481787668,
          0.9043374679657142,
          0.2254823419787821,
          0.4958042695863272,
          -0.5975032114557614,
          0.7257348296841276,
          0.4855953408620199,
          -3.3825219320437827,
          0.5322162490593761,
          0.05039546272046297,
          0.10839147887182421,
          -2.015338751110118,
          0.643382932891098,
          -0.8632757680204926,
          1.1845968063934953,
          -1.0762885247087823,
          -0.2673821262177926,
          0.6680121061201801
         ]
        },
        {
         "histfunc": "count",
         "histnorm": "",
         "marker": {
          "color": "rgba(50, 171, 96, 1.0)",
          "line": {
           "color": "#4D5663",
           "width": 1.3
          }
         },
         "name": "C",
         "nbinsx": 50,
         "opacity": 0.8,
         "orientation": "v",
         "type": "histogram",
         "x": [
          0.8137369102886218,
          0.38406014021774704,
          0.8583336537775053,
          0.7957618956642141,
          1.4255409888334887,
          0.8494018529837316,
          0.8802582494550352,
          -0.4548968791233935,
          1.533558939208995,
          1.2524824477853664,
          -0.033876479326621675,
          -0.4110101837052343,
          -0.733897082639919,
          -0.7106157418903448,
          0.13722035073207373,
          0.7050198361557896,
          -0.5932002075891633,
          -1.3382789055267625,
          -2.5278828482383777,
          0.3982133911024089,
          0.525353202328653,
          -1.4962518795013926,
          -0.004760785788584715,
          0.7261859574377102,
          -1.303544165066935,
          -0.22178654551626484,
          1.494967772766792,
          0.628943023944182,
          -0.38821823494941937,
          -0.5668127027710045,
          0.7171598405660004,
          -0.7835133022052192,
          0.5000437115319482,
          0.7691384803578691,
          0.5523229894508553,
          -0.5541894348408164,
          -0.29938489655996475,
          -0.9131431790549518,
          -0.9794679240966921,
          1.163902122315106,
          -0.7752221633763264,
          -1.4495537781745207,
          0.4973865186073324,
          1.5030952854902895,
          -2.4964076259780277,
          0.1704835173224211,
          -0.02260160498626511,
          -0.9649170187581313,
          0.2019753230544578,
          -0.04155962146865371,
          1.615286363193417,
          0.3573636666371769,
          0.476460448964524,
          -1.5471884370551918,
          -1.3091741423554952,
          -0.8071981886965368,
          -1.318025945849581,
          -0.6618589471814981,
          -1.6212376252324474,
          2.1050156023915885,
          1.0382758927906282,
          1.0130772399982644,
          -0.5428322837985744,
          -1.5666433561393516,
          0.27206912749567025,
          -1.7500682837131234,
          -0.2470384533993433,
          0.856745769810696,
          0.050397071646110105,
          0.8591172982979858,
          -0.6237323300872393,
          -0.2802519687360328,
          -0.4115985448779974,
          -1.1095613669007458,
          -0.450350331399409,
          0.7805669384646385,
          0.3276051738502298,
          0.01799327164835346,
          0.47236995129634307,
          0.35546341981105,
          -0.1421734726670186,
          0.047300376883126743,
          1.3342425261563757,
          -0.20148061733839542,
          0.9372203022599283,
          -2.4673847964720728,
          0.20859636566666065,
          -0.6617846346669848,
          0.14039920109570533,
          -0.011579410918395594,
          -0.9564288279200693,
          0.8443967791582719,
          0.23651978111457783,
          0.06994116836111282,
          0.05499648632899061,
          0.3164823679807695,
          0.2995759568898395,
          2.3065943637298405,
          0.8967195702087817,
          0.21196575600905265
         ]
        },
        {
         "histfunc": "count",
         "histnorm": "",
         "marker": {
          "color": "rgba(128, 0, 128, 1.0)",
          "line": {
           "color": "#4D5663",
           "width": 1.3
          }
         },
         "name": "D",
         "nbinsx": 50,
         "opacity": 0.8,
         "orientation": "v",
         "type": "histogram",
         "x": [
          -0.41219737818529484,
          -0.9147191048039742,
          -1.219436193264347,
          1.5143994015691824,
          -2.1923301711810854,
          -0.903162267803806,
          1.0535462050704751,
          1.3960764437556177,
          0.3868619326568071,
          2.4525121979965308,
          0.0162161852241048,
          -0.4865399398552347,
          -0.6787831914000225,
          0.5952961179509224,
          0.9830827168768127,
          -0.5346074416237119,
          -1.8912269743098613,
          0.26106748829081644,
          1.476982997259971,
          -0.5837317944279515,
          -0.7322797758184094,
          -0.39419677768356387,
          -1.2307469264419622,
          0.3691142487885274,
          0.10966935398854762,
          -1.8053571689536656,
          -1.3362299798042523,
          1.0089180857224092,
          -0.7615747766983384,
          0.36279850099698424,
          -0.7864714134428039,
          -1.181668042014758,
          1.728369859890661,
          -0.04638915353653599,
          -0.3831109541831568,
          -1.692721071636255,
          -1.5919271991803412,
          0.8131457402676022,
          -0.2623198079568097,
          -1.9297665234901917,
          0.5076022583968207,
          -0.7140700625790625,
          0.3877288533850373,
          -0.4490557874850287,
          -0.7419266784049801,
          0.2769750352385636,
          -0.8886943267677583,
          0.19192681012128301,
          0.09254975120678652,
          0.25732296596707616,
          0.9461575249601594,
          -0.6547615010632385,
          1.0213950353696173,
          -0.29650290380060607,
          -1.320561240484073,
          0.30634684088010666,
          1.6403512148036148,
          1.4411529386636375,
          -0.502521705413938,
          -1.5550507017255497,
          -0.020193581404571784,
          1.1195063630136661,
          0.48288866582198753,
          0.6563853813135773,
          -0.03148201203133492,
          -0.6004264577182319,
          -0.409234215080488,
          -0.8834550220085939,
          0.18380424901299702,
          0.2753619971526059,
          -0.6578001097887088,
          0.8916561480623405,
          -0.08633187088099142,
          2.4539354030313616,
          0.7520702214235129,
          0.14825848428316013,
          0.5702749266765967,
          -1.161687966074187,
          0.5356915966245412,
          0.3307916225249503,
          -0.07440235159590498,
          0.10355787679932259,
          -0.5182391049382354,
          -1.6406755589160074,
          0.3480314724055074,
          0.15069414263181075,
          -1.0074768878248537,
          -0.007758560194556815,
          -0.3420105288611878,
          0.660954410451113,
          2.9107940920537745,
          -0.2626456029714481,
          1.1950250389328134,
          0.11697580915798587,
          -1.3186213144915546,
          0.2646137965520151,
          -0.16324258610278844,
          -0.48948430249355385,
          -0.3941668214094899,
          0.40569059888863773
         ]
        }
       ],
       "layout": {
        "barmode": "overlay",
        "legend": {
         "bgcolor": "#F5F6F9",
         "font": {
          "color": "#4D5663"
         }
        },
        "paper_bgcolor": "#F5F6F9",
        "plot_bgcolor": "#F5F6F9",
        "template": {
         "data": {
          "bar": [
           {
            "error_x": {
             "color": "#2a3f5f"
            },
            "error_y": {
             "color": "#2a3f5f"
            },
            "marker": {
             "line": {
              "color": "#E5ECF6",
              "width": 0.5
             },
             "pattern": {
              "fillmode": "overlay",
              "size": 10,
              "solidity": 0.2
             }
            },
            "type": "bar"
           }
          ],
          "barpolar": [
           {
            "marker": {
             "line": {
              "color": "#E5ECF6",
              "width": 0.5
             },
             "pattern": {
              "fillmode": "overlay",
              "size": 10,
              "solidity": 0.2
             }
            },
            "type": "barpolar"
           }
          ],
          "carpet": [
           {
            "aaxis": {
             "endlinecolor": "#2a3f5f",
             "gridcolor": "white",
             "linecolor": "white",
             "minorgridcolor": "white",
             "startlinecolor": "#2a3f5f"
            },
            "baxis": {
             "endlinecolor": "#2a3f5f",
             "gridcolor": "white",
             "linecolor": "white",
             "minorgridcolor": "white",
             "startlinecolor": "#2a3f5f"
            },
            "type": "carpet"
           }
          ],
          "choropleth": [
           {
            "colorbar": {
             "outlinewidth": 0,
             "ticks": ""
            },
            "type": "choropleth"
           }
          ],
          "contour": [
           {
            "colorbar": {
             "outlinewidth": 0,
             "ticks": ""
            },
            "colorscale": [
             [
              0,
              "#0d0887"
             ],
             [
              0.1111111111111111,
              "#46039f"
             ],
             [
              0.2222222222222222,
              "#7201a8"
             ],
             [
              0.3333333333333333,
              "#9c179e"
             ],
             [
              0.4444444444444444,
              "#bd3786"
             ],
             [
              0.5555555555555556,
              "#d8576b"
             ],
             [
              0.6666666666666666,
              "#ed7953"
             ],
             [
              0.7777777777777778,
              "#fb9f3a"
             ],
             [
              0.8888888888888888,
              "#fdca26"
             ],
             [
              1,
              "#f0f921"
             ]
            ],
            "type": "contour"
           }
          ],
          "contourcarpet": [
           {
            "colorbar": {
             "outlinewidth": 0,
             "ticks": ""
            },
            "type": "contourcarpet"
           }
          ],
          "heatmap": [
           {
            "colorbar": {
             "outlinewidth": 0,
             "ticks": ""
            },
            "colorscale": [
             [
              0,
              "#0d0887"
             ],
             [
              0.1111111111111111,
              "#46039f"
             ],
             [
              0.2222222222222222,
              "#7201a8"
             ],
             [
              0.3333333333333333,
              "#9c179e"
             ],
             [
              0.4444444444444444,
              "#bd3786"
             ],
             [
              0.5555555555555556,
              "#d8576b"
             ],
             [
              0.6666666666666666,
              "#ed7953"
             ],
             [
              0.7777777777777778,
              "#fb9f3a"
             ],
             [
              0.8888888888888888,
              "#fdca26"
             ],
             [
              1,
              "#f0f921"
             ]
            ],
            "type": "heatmap"
           }
          ],
          "heatmapgl": [
           {
            "colorbar": {
             "outlinewidth": 0,
             "ticks": ""
            },
            "colorscale": [
             [
              0,
              "#0d0887"
             ],
             [
              0.1111111111111111,
              "#46039f"
             ],
             [
              0.2222222222222222,
              "#7201a8"
             ],
             [
              0.3333333333333333,
              "#9c179e"
             ],
             [
              0.4444444444444444,
              "#bd3786"
             ],
             [
              0.5555555555555556,
              "#d8576b"
             ],
             [
              0.6666666666666666,
              "#ed7953"
             ],
             [
              0.7777777777777778,
              "#fb9f3a"
             ],
             [
              0.8888888888888888,
              "#fdca26"
             ],
             [
              1,
              "#f0f921"
             ]
            ],
            "type": "heatmapgl"
           }
          ],
          "histogram": [
           {
            "marker": {
             "pattern": {
              "fillmode": "overlay",
              "size": 10,
              "solidity": 0.2
             }
            },
            "type": "histogram"
           }
          ],
          "histogram2d": [
           {
            "colorbar": {
             "outlinewidth": 0,
             "ticks": ""
            },
            "colorscale": [
             [
              0,
              "#0d0887"
             ],
             [
              0.1111111111111111,
              "#46039f"
             ],
             [
              0.2222222222222222,
              "#7201a8"
             ],
             [
              0.3333333333333333,
              "#9c179e"
             ],
             [
              0.4444444444444444,
              "#bd3786"
             ],
             [
              0.5555555555555556,
              "#d8576b"
             ],
             [
              0.6666666666666666,
              "#ed7953"
             ],
             [
              0.7777777777777778,
              "#fb9f3a"
             ],
             [
              0.8888888888888888,
              "#fdca26"
             ],
             [
              1,
              "#f0f921"
             ]
            ],
            "type": "histogram2d"
           }
          ],
          "histogram2dcontour": [
           {
            "colorbar": {
             "outlinewidth": 0,
             "ticks": ""
            },
            "colorscale": [
             [
              0,
              "#0d0887"
             ],
             [
              0.1111111111111111,
              "#46039f"
             ],
             [
              0.2222222222222222,
              "#7201a8"
             ],
             [
              0.3333333333333333,
              "#9c179e"
             ],
             [
              0.4444444444444444,
              "#bd3786"
             ],
             [
              0.5555555555555556,
              "#d8576b"
             ],
             [
              0.6666666666666666,
              "#ed7953"
             ],
             [
              0.7777777777777778,
              "#fb9f3a"
             ],
             [
              0.8888888888888888,
              "#fdca26"
             ],
             [
              1,
              "#f0f921"
             ]
            ],
            "type": "histogram2dcontour"
           }
          ],
          "mesh3d": [
           {
            "colorbar": {
             "outlinewidth": 0,
             "ticks": ""
            },
            "type": "mesh3d"
           }
          ],
          "parcoords": [
           {
            "line": {
             "colorbar": {
              "outlinewidth": 0,
              "ticks": ""
             }
            },
            "type": "parcoords"
           }
          ],
          "pie": [
           {
            "automargin": true,
            "type": "pie"
           }
          ],
          "scatter": [
           {
            "marker": {
             "colorbar": {
              "outlinewidth": 0,
              "ticks": ""
             }
            },
            "type": "scatter"
           }
          ],
          "scatter3d": [
           {
            "line": {
             "colorbar": {
              "outlinewidth": 0,
              "ticks": ""
             }
            },
            "marker": {
             "colorbar": {
              "outlinewidth": 0,
              "ticks": ""
             }
            },
            "type": "scatter3d"
           }
          ],
          "scattercarpet": [
           {
            "marker": {
             "colorbar": {
              "outlinewidth": 0,
              "ticks": ""
             }
            },
            "type": "scattercarpet"
           }
          ],
          "scattergeo": [
           {
            "marker": {
             "colorbar": {
              "outlinewidth": 0,
              "ticks": ""
             }
            },
            "type": "scattergeo"
           }
          ],
          "scattergl": [
           {
            "marker": {
             "colorbar": {
              "outlinewidth": 0,
              "ticks": ""
             }
            },
            "type": "scattergl"
           }
          ],
          "scattermapbox": [
           {
            "marker": {
             "colorbar": {
              "outlinewidth": 0,
              "ticks": ""
             }
            },
            "type": "scattermapbox"
           }
          ],
          "scatterpolar": [
           {
            "marker": {
             "colorbar": {
              "outlinewidth": 0,
              "ticks": ""
             }
            },
            "type": "scatterpolar"
           }
          ],
          "scatterpolargl": [
           {
            "marker": {
             "colorbar": {
              "outlinewidth": 0,
              "ticks": ""
             }
            },
            "type": "scatterpolargl"
           }
          ],
          "scatterternary": [
           {
            "marker": {
             "colorbar": {
              "outlinewidth": 0,
              "ticks": ""
             }
            },
            "type": "scatterternary"
           }
          ],
          "surface": [
           {
            "colorbar": {
             "outlinewidth": 0,
             "ticks": ""
            },
            "colorscale": [
             [
              0,
              "#0d0887"
             ],
             [
              0.1111111111111111,
              "#46039f"
             ],
             [
              0.2222222222222222,
              "#7201a8"
             ],
             [
              0.3333333333333333,
              "#9c179e"
             ],
             [
              0.4444444444444444,
              "#bd3786"
             ],
             [
              0.5555555555555556,
              "#d8576b"
             ],
             [
              0.6666666666666666,
              "#ed7953"
             ],
             [
              0.7777777777777778,
              "#fb9f3a"
             ],
             [
              0.8888888888888888,
              "#fdca26"
             ],
             [
              1,
              "#f0f921"
             ]
            ],
            "type": "surface"
           }
          ],
          "table": [
           {
            "cells": {
             "fill": {
              "color": "#EBF0F8"
             },
             "line": {
              "color": "white"
             }
            },
            "header": {
             "fill": {
              "color": "#C8D4E3"
             },
             "line": {
              "color": "white"
             }
            },
            "type": "table"
           }
          ]
         },
         "layout": {
          "annotationdefaults": {
           "arrowcolor": "#2a3f5f",
           "arrowhead": 0,
           "arrowwidth": 1
          },
          "autotypenumbers": "strict",
          "coloraxis": {
           "colorbar": {
            "outlinewidth": 0,
            "ticks": ""
           }
          },
          "colorscale": {
           "diverging": [
            [
             0,
             "#8e0152"
            ],
            [
             0.1,
             "#c51b7d"
            ],
            [
             0.2,
             "#de77ae"
            ],
            [
             0.3,
             "#f1b6da"
            ],
            [
             0.4,
             "#fde0ef"
            ],
            [
             0.5,
             "#f7f7f7"
            ],
            [
             0.6,
             "#e6f5d0"
            ],
            [
             0.7,
             "#b8e186"
            ],
            [
             0.8,
             "#7fbc41"
            ],
            [
             0.9,
             "#4d9221"
            ],
            [
             1,
             "#276419"
            ]
           ],
           "sequential": [
            [
             0,
             "#0d0887"
            ],
            [
             0.1111111111111111,
             "#46039f"
            ],
            [
             0.2222222222222222,
             "#7201a8"
            ],
            [
             0.3333333333333333,
             "#9c179e"
            ],
            [
             0.4444444444444444,
             "#bd3786"
            ],
            [
             0.5555555555555556,
             "#d8576b"
            ],
            [
             0.6666666666666666,
             "#ed7953"
            ],
            [
             0.7777777777777778,
             "#fb9f3a"
            ],
            [
             0.8888888888888888,
             "#fdca26"
            ],
            [
             1,
             "#f0f921"
            ]
           ],
           "sequentialminus": [
            [
             0,
             "#0d0887"
            ],
            [
             0.1111111111111111,
             "#46039f"
            ],
            [
             0.2222222222222222,
             "#7201a8"
            ],
            [
             0.3333333333333333,
             "#9c179e"
            ],
            [
             0.4444444444444444,
             "#bd3786"
            ],
            [
             0.5555555555555556,
             "#d8576b"
            ],
            [
             0.6666666666666666,
             "#ed7953"
            ],
            [
             0.7777777777777778,
             "#fb9f3a"
            ],
            [
             0.8888888888888888,
             "#fdca26"
            ],
            [
             1,
             "#f0f921"
            ]
           ]
          },
          "colorway": [
           "#636efa",
           "#EF553B",
           "#00cc96",
           "#ab63fa",
           "#FFA15A",
           "#19d3f3",
           "#FF6692",
           "#B6E880",
           "#FF97FF",
           "#FECB52"
          ],
          "font": {
           "color": "#2a3f5f"
          },
          "geo": {
           "bgcolor": "white",
           "lakecolor": "white",
           "landcolor": "#E5ECF6",
           "showlakes": true,
           "showland": true,
           "subunitcolor": "white"
          },
          "hoverlabel": {
           "align": "left"
          },
          "hovermode": "closest",
          "mapbox": {
           "style": "light"
          },
          "paper_bgcolor": "white",
          "plot_bgcolor": "#E5ECF6",
          "polar": {
           "angularaxis": {
            "gridcolor": "white",
            "linecolor": "white",
            "ticks": ""
           },
           "bgcolor": "#E5ECF6",
           "radialaxis": {
            "gridcolor": "white",
            "linecolor": "white",
            "ticks": ""
           }
          },
          "scene": {
           "xaxis": {
            "backgroundcolor": "#E5ECF6",
            "gridcolor": "white",
            "gridwidth": 2,
            "linecolor": "white",
            "showbackground": true,
            "ticks": "",
            "zerolinecolor": "white"
           },
           "yaxis": {
            "backgroundcolor": "#E5ECF6",
            "gridcolor": "white",
            "gridwidth": 2,
            "linecolor": "white",
            "showbackground": true,
            "ticks": "",
            "zerolinecolor": "white"
           },
           "zaxis": {
            "backgroundcolor": "#E5ECF6",
            "gridcolor": "white",
            "gridwidth": 2,
            "linecolor": "white",
            "showbackground": true,
            "ticks": "",
            "zerolinecolor": "white"
           }
          },
          "shapedefaults": {
           "line": {
            "color": "#2a3f5f"
           }
          },
          "ternary": {
           "aaxis": {
            "gridcolor": "white",
            "linecolor": "white",
            "ticks": ""
           },
           "baxis": {
            "gridcolor": "white",
            "linecolor": "white",
            "ticks": ""
           },
           "bgcolor": "#E5ECF6",
           "caxis": {
            "gridcolor": "white",
            "linecolor": "white",
            "ticks": ""
           }
          },
          "title": {
           "x": 0.05
          },
          "xaxis": {
           "automargin": true,
           "gridcolor": "white",
           "linecolor": "white",
           "ticks": "",
           "title": {
            "standoff": 15
           },
           "zerolinecolor": "white",
           "zerolinewidth": 2
          },
          "yaxis": {
           "automargin": true,
           "gridcolor": "white",
           "linecolor": "white",
           "ticks": "",
           "title": {
            "standoff": 15
           },
           "zerolinecolor": "white",
           "zerolinewidth": 2
          }
         }
        },
        "title": {
         "font": {
          "color": "#4D5663"
         }
        },
        "xaxis": {
         "gridcolor": "#E1E5ED",
         "showgrid": true,
         "tickfont": {
          "color": "#4D5663"
         },
         "title": {
          "font": {
           "color": "#4D5663"
          },
          "text": ""
         },
         "zerolinecolor": "#E1E5ED"
        },
        "yaxis": {
         "gridcolor": "#E1E5ED",
         "showgrid": true,
         "tickfont": {
          "color": "#4D5663"
         },
         "title": {
          "font": {
           "color": "#4D5663"
          },
          "text": ""
         },
         "zerolinecolor": "#E1E5ED"
        }
       }
      },
      "text/html": [
       "<div>                            <div id=\"9482def3-0e3f-4615-b56d-1085694e3794\" class=\"plotly-graph-div\" style=\"height:525px; width:100%;\"></div>            <script type=\"text/javascript\">                require([\"plotly\"], function(Plotly) {                    window.PLOTLYENV=window.PLOTLYENV || {};\n",
       "                    window.PLOTLYENV.BASE_URL='https://plot.ly';                                    if (document.getElementById(\"9482def3-0e3f-4615-b56d-1085694e3794\")) {                    Plotly.newPlot(                        \"9482def3-0e3f-4615-b56d-1085694e3794\",                        [{\"histfunc\":\"count\",\"histnorm\":\"\",\"marker\":{\"color\":\"rgba(255, 153, 51, 1.0)\",\"line\":{\"color\":\"#4D5663\",\"width\":1.3}},\"name\":\"A\",\"nbinsx\":50,\"opacity\":0.8,\"orientation\":\"v\",\"x\":[-0.7156901301506218,-2.4644340092683623,-0.5020478490356647,0.18831575059229694,-0.9395232600804589,0.6370608619021374,0.3181842436496653,-1.925815864693647,-1.601490197748081,0.7504852699910404,0.34651704071887407,-0.3782613877092965,0.50360062282216,1.1783072011157854,-0.39512918539645014,-0.27615642716525757,-0.6955150924719622,0.22125184868079706,0.3468389819905759,-1.417697236866669,1.115510266869824,-0.19740429399545154,-2.464841424106378,-0.8367326516922796,-1.784665752306031,-0.22786206228857037,-0.05747200108715722,-0.2582444417187888,-0.5840818609797201,-0.6447426754570369,-0.7890790059168368,0.23016315567803003,-1.267679972953894,0.11816464469909889,0.53265482704174,-1.2698235619164742,-1.8768988863675784,-0.9104585436306738,0.5197942871049583,-1.1344331642903294,0.992329649408986,-0.23854074055432464,-0.1930210849793099,0.6095404688520194,-1.232825526706406,-1.5328054495473706,0.3036487187896314,-0.2579415954354775,-0.28408823698571445,0.31097652201661435,0.5365134318194574,-0.2523997745954963,-0.22895996185521222,1.7212536262694407,0.220474283657124,-2.2021749191469557,-0.8986508298431952,-0.3221635884228591,-0.40414847758021716,-0.5652901674053412,1.0766577310137808,0.5349076975629776,0.23762680428485808,-1.7126244683313148,-0.5928398888471055,-1.4949122694654595,-1.1661099302510365,0.46297332937027735,-1.3945134376948467,-0.3869679733820751,-0.9624273069822818,-1.2765077481404117,-0.8586057990186773,-1.3617817621094965,0.5289027802019703,0.6103126439405477,0.9832256017665594,0.5128656072910021,-0.4379259719293449,-0.6556385330952424,0.14179110527076172,-0.01073393938291526,0.5485346127017294,1.2238687868347427,1.3552631701641884,-0.679197152670297,1.4246054066122478,0.37843614621800514,-0.33839561042916416,0.595800624621955,0.2134554912461374,1.115174003760538,0.8652782710066977,0.3619724278187933,-0.9215434485902071,0.8922369823809136,-0.21678248120535829,-0.688812085998554,0.4169838531764566,0.2484314725645371],\"type\":\"histogram\"},{\"histfunc\":\"count\",\"histnorm\":\"\",\"marker\":{\"color\":\"rgba(55, 128, 191, 1.0)\",\"line\":{\"color\":\"#4D5663\",\"width\":1.3}},\"name\":\"B\",\"nbinsx\":50,\"opacity\":0.8,\"orientation\":\"v\",\"x\":[-0.6513797764818611,0.5244019427590942,-1.1744674888572253,0.43368191568401226,0.899497260401665,-1.1445625650980764,0.07099522324692333,0.04362068821287567,-0.8160348335399022,0.1626016136310631,-0.7298670162319529,0.6713855417304806,-0.4897210754965677,-0.48252481799299574,-1.3139286582223493,0.9707580321863382,-1.1464067098017479,-1.6598898005122826,0.23742605508299555,2.6643609903481145,0.22610339598619442,0.6649669769165972,0.9281709465845623,0.9791321813439632,0.8762934680617513,-0.28943460277957755,-0.028190662231939393,0.2719755628483441,0.8570323675771371,-0.9874367202861509,1.1186820362029204,0.12441702071829709,-0.7566677889736816,0.5261667781482235,0.8229391933147238,1.0237625257527891,-1.1075967095024015,0.6989216003060206,0.4484205570752432,-0.26803786635302745,-0.6634160128961857,2.335734557413926,-1.434184074279899,0.2473602698192445,0.22238480469788974,-0.2677583598956593,0.2725413480059053,-0.8395778183942763,-0.661834594922329,-0.27007302620888896,-0.2474487320510582,-1.7686789507801906,-0.6927976504687269,-0.5679102310983882,-0.1715477136966996,-1.295629485531873,0.749114656046574,-0.4396779137233732,0.881864840173589,0.6699484712192457,-0.9865989035422554,0.8041516446982689,0.5708137463595715,-0.3544348711895968,-0.4411283148910683,-0.012678521787541109,-0.15374985521185416,1.0354303578331185,1.3043066720596153,-0.8746890120010864,0.08458332717612128,-0.8003519447971019,-0.6851446620945236,-1.1559883622724791,0.27707248332228673,1.4398769778179106,-1.574198276171295,-0.10824476202121064,-0.878756138704042,0.9528462091562935,0.36882014943302904,0.701962408764391,0.12515471481787668,0.9043374679657142,0.2254823419787821,0.4958042695863272,-0.5975032114557614,0.7257348296841276,0.4855953408620199,-3.3825219320437827,0.5322162490593761,0.05039546272046297,0.10839147887182421,-2.015338751110118,0.643382932891098,-0.8632757680204926,1.1845968063934953,-1.0762885247087823,-0.2673821262177926,0.6680121061201801],\"type\":\"histogram\"},{\"histfunc\":\"count\",\"histnorm\":\"\",\"marker\":{\"color\":\"rgba(50, 171, 96, 1.0)\",\"line\":{\"color\":\"#4D5663\",\"width\":1.3}},\"name\":\"C\",\"nbinsx\":50,\"opacity\":0.8,\"orientation\":\"v\",\"x\":[0.8137369102886218,0.38406014021774704,0.8583336537775053,0.7957618956642141,1.4255409888334887,0.8494018529837316,0.8802582494550352,-0.4548968791233935,1.533558939208995,1.2524824477853664,-0.033876479326621675,-0.4110101837052343,-0.733897082639919,-0.7106157418903448,0.13722035073207373,0.7050198361557896,-0.5932002075891633,-1.3382789055267625,-2.5278828482383777,0.3982133911024089,0.525353202328653,-1.4962518795013926,-0.004760785788584715,0.7261859574377102,-1.303544165066935,-0.22178654551626484,1.494967772766792,0.628943023944182,-0.38821823494941937,-0.5668127027710045,0.7171598405660004,-0.7835133022052192,0.5000437115319482,0.7691384803578691,0.5523229894508553,-0.5541894348408164,-0.29938489655996475,-0.9131431790549518,-0.9794679240966921,1.163902122315106,-0.7752221633763264,-1.4495537781745207,0.4973865186073324,1.5030952854902895,-2.4964076259780277,0.1704835173224211,-0.02260160498626511,-0.9649170187581313,0.2019753230544578,-0.04155962146865371,1.615286363193417,0.3573636666371769,0.476460448964524,-1.5471884370551918,-1.3091741423554952,-0.8071981886965368,-1.318025945849581,-0.6618589471814981,-1.6212376252324474,2.1050156023915885,1.0382758927906282,1.0130772399982644,-0.5428322837985744,-1.5666433561393516,0.27206912749567025,-1.7500682837131234,-0.2470384533993433,0.856745769810696,0.050397071646110105,0.8591172982979858,-0.6237323300872393,-0.2802519687360328,-0.4115985448779974,-1.1095613669007458,-0.450350331399409,0.7805669384646385,0.3276051738502298,0.01799327164835346,0.47236995129634307,0.35546341981105,-0.1421734726670186,0.047300376883126743,1.3342425261563757,-0.20148061733839542,0.9372203022599283,-2.4673847964720728,0.20859636566666065,-0.6617846346669848,0.14039920109570533,-0.011579410918395594,-0.9564288279200693,0.8443967791582719,0.23651978111457783,0.06994116836111282,0.05499648632899061,0.3164823679807695,0.2995759568898395,2.3065943637298405,0.8967195702087817,0.21196575600905265],\"type\":\"histogram\"},{\"histfunc\":\"count\",\"histnorm\":\"\",\"marker\":{\"color\":\"rgba(128, 0, 128, 1.0)\",\"line\":{\"color\":\"#4D5663\",\"width\":1.3}},\"name\":\"D\",\"nbinsx\":50,\"opacity\":0.8,\"orientation\":\"v\",\"x\":[-0.41219737818529484,-0.9147191048039742,-1.219436193264347,1.5143994015691824,-2.1923301711810854,-0.903162267803806,1.0535462050704751,1.3960764437556177,0.3868619326568071,2.4525121979965308,0.0162161852241048,-0.4865399398552347,-0.6787831914000225,0.5952961179509224,0.9830827168768127,-0.5346074416237119,-1.8912269743098613,0.26106748829081644,1.476982997259971,-0.5837317944279515,-0.7322797758184094,-0.39419677768356387,-1.2307469264419622,0.3691142487885274,0.10966935398854762,-1.8053571689536656,-1.3362299798042523,1.0089180857224092,-0.7615747766983384,0.36279850099698424,-0.7864714134428039,-1.181668042014758,1.728369859890661,-0.04638915353653599,-0.3831109541831568,-1.692721071636255,-1.5919271991803412,0.8131457402676022,-0.2623198079568097,-1.9297665234901917,0.5076022583968207,-0.7140700625790625,0.3877288533850373,-0.4490557874850287,-0.7419266784049801,0.2769750352385636,-0.8886943267677583,0.19192681012128301,0.09254975120678652,0.25732296596707616,0.9461575249601594,-0.6547615010632385,1.0213950353696173,-0.29650290380060607,-1.320561240484073,0.30634684088010666,1.6403512148036148,1.4411529386636375,-0.502521705413938,-1.5550507017255497,-0.020193581404571784,1.1195063630136661,0.48288866582198753,0.6563853813135773,-0.03148201203133492,-0.6004264577182319,-0.409234215080488,-0.8834550220085939,0.18380424901299702,0.2753619971526059,-0.6578001097887088,0.8916561480623405,-0.08633187088099142,2.4539354030313616,0.7520702214235129,0.14825848428316013,0.5702749266765967,-1.161687966074187,0.5356915966245412,0.3307916225249503,-0.07440235159590498,0.10355787679932259,-0.5182391049382354,-1.6406755589160074,0.3480314724055074,0.15069414263181075,-1.0074768878248537,-0.007758560194556815,-0.3420105288611878,0.660954410451113,2.9107940920537745,-0.2626456029714481,1.1950250389328134,0.11697580915798587,-1.3186213144915546,0.2646137965520151,-0.16324258610278844,-0.48948430249355385,-0.3941668214094899,0.40569059888863773],\"type\":\"histogram\"}],                        {\"barmode\":\"overlay\",\"legend\":{\"bgcolor\":\"#F5F6F9\",\"font\":{\"color\":\"#4D5663\"}},\"paper_bgcolor\":\"#F5F6F9\",\"plot_bgcolor\":\"#F5F6F9\",\"template\":{\"data\":{\"barpolar\":[{\"marker\":{\"line\":{\"color\":\"#E5ECF6\",\"width\":0.5},\"pattern\":{\"fillmode\":\"overlay\",\"size\":10,\"solidity\":0.2}},\"type\":\"barpolar\"}],\"bar\":[{\"error_x\":{\"color\":\"#2a3f5f\"},\"error_y\":{\"color\":\"#2a3f5f\"},\"marker\":{\"line\":{\"color\":\"#E5ECF6\",\"width\":0.5},\"pattern\":{\"fillmode\":\"overlay\",\"size\":10,\"solidity\":0.2}},\"type\":\"bar\"}],\"carpet\":[{\"aaxis\":{\"endlinecolor\":\"#2a3f5f\",\"gridcolor\":\"white\",\"linecolor\":\"white\",\"minorgridcolor\":\"white\",\"startlinecolor\":\"#2a3f5f\"},\"baxis\":{\"endlinecolor\":\"#2a3f5f\",\"gridcolor\":\"white\",\"linecolor\":\"white\",\"minorgridcolor\":\"white\",\"startlinecolor\":\"#2a3f5f\"},\"type\":\"carpet\"}],\"choropleth\":[{\"colorbar\":{\"outlinewidth\":0,\"ticks\":\"\"},\"type\":\"choropleth\"}],\"contourcarpet\":[{\"colorbar\":{\"outlinewidth\":0,\"ticks\":\"\"},\"type\":\"contourcarpet\"}],\"contour\":[{\"colorbar\":{\"outlinewidth\":0,\"ticks\":\"\"},\"colorscale\":[[0.0,\"#0d0887\"],[0.1111111111111111,\"#46039f\"],[0.2222222222222222,\"#7201a8\"],[0.3333333333333333,\"#9c179e\"],[0.4444444444444444,\"#bd3786\"],[0.5555555555555556,\"#d8576b\"],[0.6666666666666666,\"#ed7953\"],[0.7777777777777778,\"#fb9f3a\"],[0.8888888888888888,\"#fdca26\"],[1.0,\"#f0f921\"]],\"type\":\"contour\"}],\"heatmapgl\":[{\"colorbar\":{\"outlinewidth\":0,\"ticks\":\"\"},\"colorscale\":[[0.0,\"#0d0887\"],[0.1111111111111111,\"#46039f\"],[0.2222222222222222,\"#7201a8\"],[0.3333333333333333,\"#9c179e\"],[0.4444444444444444,\"#bd3786\"],[0.5555555555555556,\"#d8576b\"],[0.6666666666666666,\"#ed7953\"],[0.7777777777777778,\"#fb9f3a\"],[0.8888888888888888,\"#fdca26\"],[1.0,\"#f0f921\"]],\"type\":\"heatmapgl\"}],\"heatmap\":[{\"colorbar\":{\"outlinewidth\":0,\"ticks\":\"\"},\"colorscale\":[[0.0,\"#0d0887\"],[0.1111111111111111,\"#46039f\"],[0.2222222222222222,\"#7201a8\"],[0.3333333333333333,\"#9c179e\"],[0.4444444444444444,\"#bd3786\"],[0.5555555555555556,\"#d8576b\"],[0.6666666666666666,\"#ed7953\"],[0.7777777777777778,\"#fb9f3a\"],[0.8888888888888888,\"#fdca26\"],[1.0,\"#f0f921\"]],\"type\":\"heatmap\"}],\"histogram2dcontour\":[{\"colorbar\":{\"outlinewidth\":0,\"ticks\":\"\"},\"colorscale\":[[0.0,\"#0d0887\"],[0.1111111111111111,\"#46039f\"],[0.2222222222222222,\"#7201a8\"],[0.3333333333333333,\"#9c179e\"],[0.4444444444444444,\"#bd3786\"],[0.5555555555555556,\"#d8576b\"],[0.6666666666666666,\"#ed7953\"],[0.7777777777777778,\"#fb9f3a\"],[0.8888888888888888,\"#fdca26\"],[1.0,\"#f0f921\"]],\"type\":\"histogram2dcontour\"}],\"histogram2d\":[{\"colorbar\":{\"outlinewidth\":0,\"ticks\":\"\"},\"colorscale\":[[0.0,\"#0d0887\"],[0.1111111111111111,\"#46039f\"],[0.2222222222222222,\"#7201a8\"],[0.3333333333333333,\"#9c179e\"],[0.4444444444444444,\"#bd3786\"],[0.5555555555555556,\"#d8576b\"],[0.6666666666666666,\"#ed7953\"],[0.7777777777777778,\"#fb9f3a\"],[0.8888888888888888,\"#fdca26\"],[1.0,\"#f0f921\"]],\"type\":\"histogram2d\"}],\"histogram\":[{\"marker\":{\"pattern\":{\"fillmode\":\"overlay\",\"size\":10,\"solidity\":0.2}},\"type\":\"histogram\"}],\"mesh3d\":[{\"colorbar\":{\"outlinewidth\":0,\"ticks\":\"\"},\"type\":\"mesh3d\"}],\"parcoords\":[{\"line\":{\"colorbar\":{\"outlinewidth\":0,\"ticks\":\"\"}},\"type\":\"parcoords\"}],\"pie\":[{\"automargin\":true,\"type\":\"pie\"}],\"scatter3d\":[{\"line\":{\"colorbar\":{\"outlinewidth\":0,\"ticks\":\"\"}},\"marker\":{\"colorbar\":{\"outlinewidth\":0,\"ticks\":\"\"}},\"type\":\"scatter3d\"}],\"scattercarpet\":[{\"marker\":{\"colorbar\":{\"outlinewidth\":0,\"ticks\":\"\"}},\"type\":\"scattercarpet\"}],\"scattergeo\":[{\"marker\":{\"colorbar\":{\"outlinewidth\":0,\"ticks\":\"\"}},\"type\":\"scattergeo\"}],\"scattergl\":[{\"marker\":{\"colorbar\":{\"outlinewidth\":0,\"ticks\":\"\"}},\"type\":\"scattergl\"}],\"scattermapbox\":[{\"marker\":{\"colorbar\":{\"outlinewidth\":0,\"ticks\":\"\"}},\"type\":\"scattermapbox\"}],\"scatterpolargl\":[{\"marker\":{\"colorbar\":{\"outlinewidth\":0,\"ticks\":\"\"}},\"type\":\"scatterpolargl\"}],\"scatterpolar\":[{\"marker\":{\"colorbar\":{\"outlinewidth\":0,\"ticks\":\"\"}},\"type\":\"scatterpolar\"}],\"scatter\":[{\"marker\":{\"colorbar\":{\"outlinewidth\":0,\"ticks\":\"\"}},\"type\":\"scatter\"}],\"scatterternary\":[{\"marker\":{\"colorbar\":{\"outlinewidth\":0,\"ticks\":\"\"}},\"type\":\"scatterternary\"}],\"surface\":[{\"colorbar\":{\"outlinewidth\":0,\"ticks\":\"\"},\"colorscale\":[[0.0,\"#0d0887\"],[0.1111111111111111,\"#46039f\"],[0.2222222222222222,\"#7201a8\"],[0.3333333333333333,\"#9c179e\"],[0.4444444444444444,\"#bd3786\"],[0.5555555555555556,\"#d8576b\"],[0.6666666666666666,\"#ed7953\"],[0.7777777777777778,\"#fb9f3a\"],[0.8888888888888888,\"#fdca26\"],[1.0,\"#f0f921\"]],\"type\":\"surface\"}],\"table\":[{\"cells\":{\"fill\":{\"color\":\"#EBF0F8\"},\"line\":{\"color\":\"white\"}},\"header\":{\"fill\":{\"color\":\"#C8D4E3\"},\"line\":{\"color\":\"white\"}},\"type\":\"table\"}]},\"layout\":{\"annotationdefaults\":{\"arrowcolor\":\"#2a3f5f\",\"arrowhead\":0,\"arrowwidth\":1},\"autotypenumbers\":\"strict\",\"coloraxis\":{\"colorbar\":{\"outlinewidth\":0,\"ticks\":\"\"}},\"colorscale\":{\"diverging\":[[0,\"#8e0152\"],[0.1,\"#c51b7d\"],[0.2,\"#de77ae\"],[0.3,\"#f1b6da\"],[0.4,\"#fde0ef\"],[0.5,\"#f7f7f7\"],[0.6,\"#e6f5d0\"],[0.7,\"#b8e186\"],[0.8,\"#7fbc41\"],[0.9,\"#4d9221\"],[1,\"#276419\"]],\"sequential\":[[0.0,\"#0d0887\"],[0.1111111111111111,\"#46039f\"],[0.2222222222222222,\"#7201a8\"],[0.3333333333333333,\"#9c179e\"],[0.4444444444444444,\"#bd3786\"],[0.5555555555555556,\"#d8576b\"],[0.6666666666666666,\"#ed7953\"],[0.7777777777777778,\"#fb9f3a\"],[0.8888888888888888,\"#fdca26\"],[1.0,\"#f0f921\"]],\"sequentialminus\":[[0.0,\"#0d0887\"],[0.1111111111111111,\"#46039f\"],[0.2222222222222222,\"#7201a8\"],[0.3333333333333333,\"#9c179e\"],[0.4444444444444444,\"#bd3786\"],[0.5555555555555556,\"#d8576b\"],[0.6666666666666666,\"#ed7953\"],[0.7777777777777778,\"#fb9f3a\"],[0.8888888888888888,\"#fdca26\"],[1.0,\"#f0f921\"]]},\"colorway\":[\"#636efa\",\"#EF553B\",\"#00cc96\",\"#ab63fa\",\"#FFA15A\",\"#19d3f3\",\"#FF6692\",\"#B6E880\",\"#FF97FF\",\"#FECB52\"],\"font\":{\"color\":\"#2a3f5f\"},\"geo\":{\"bgcolor\":\"white\",\"lakecolor\":\"white\",\"landcolor\":\"#E5ECF6\",\"showlakes\":true,\"showland\":true,\"subunitcolor\":\"white\"},\"hoverlabel\":{\"align\":\"left\"},\"hovermode\":\"closest\",\"mapbox\":{\"style\":\"light\"},\"paper_bgcolor\":\"white\",\"plot_bgcolor\":\"#E5ECF6\",\"polar\":{\"angularaxis\":{\"gridcolor\":\"white\",\"linecolor\":\"white\",\"ticks\":\"\"},\"bgcolor\":\"#E5ECF6\",\"radialaxis\":{\"gridcolor\":\"white\",\"linecolor\":\"white\",\"ticks\":\"\"}},\"scene\":{\"xaxis\":{\"backgroundcolor\":\"#E5ECF6\",\"gridcolor\":\"white\",\"gridwidth\":2,\"linecolor\":\"white\",\"showbackground\":true,\"ticks\":\"\",\"zerolinecolor\":\"white\"},\"yaxis\":{\"backgroundcolor\":\"#E5ECF6\",\"gridcolor\":\"white\",\"gridwidth\":2,\"linecolor\":\"white\",\"showbackground\":true,\"ticks\":\"\",\"zerolinecolor\":\"white\"},\"zaxis\":{\"backgroundcolor\":\"#E5ECF6\",\"gridcolor\":\"white\",\"gridwidth\":2,\"linecolor\":\"white\",\"showbackground\":true,\"ticks\":\"\",\"zerolinecolor\":\"white\"}},\"shapedefaults\":{\"line\":{\"color\":\"#2a3f5f\"}},\"ternary\":{\"aaxis\":{\"gridcolor\":\"white\",\"linecolor\":\"white\",\"ticks\":\"\"},\"baxis\":{\"gridcolor\":\"white\",\"linecolor\":\"white\",\"ticks\":\"\"},\"bgcolor\":\"#E5ECF6\",\"caxis\":{\"gridcolor\":\"white\",\"linecolor\":\"white\",\"ticks\":\"\"}},\"title\":{\"x\":0.05},\"xaxis\":{\"automargin\":true,\"gridcolor\":\"white\",\"linecolor\":\"white\",\"ticks\":\"\",\"title\":{\"standoff\":15},\"zerolinecolor\":\"white\",\"zerolinewidth\":2},\"yaxis\":{\"automargin\":true,\"gridcolor\":\"white\",\"linecolor\":\"white\",\"ticks\":\"\",\"title\":{\"standoff\":15},\"zerolinecolor\":\"white\",\"zerolinewidth\":2}}},\"title\":{\"font\":{\"color\":\"#4D5663\"}},\"xaxis\":{\"gridcolor\":\"#E1E5ED\",\"showgrid\":true,\"tickfont\":{\"color\":\"#4D5663\"},\"title\":{\"font\":{\"color\":\"#4D5663\"},\"text\":\"\"},\"zerolinecolor\":\"#E1E5ED\"},\"yaxis\":{\"gridcolor\":\"#E1E5ED\",\"showgrid\":true,\"tickfont\":{\"color\":\"#4D5663\"},\"title\":{\"font\":{\"color\":\"#4D5663\"},\"text\":\"\"},\"zerolinecolor\":\"#E1E5ED\"}},                        {\"showLink\": true, \"linkText\": \"Export to plot.ly\", \"plotlyServerURL\": \"https://plot.ly\", \"responsive\": true}                    ).then(function(){\n",
       "                            \n",
       "var gd = document.getElementById('9482def3-0e3f-4615-b56d-1085694e3794');\n",
       "var x = new MutationObserver(function (mutations, observer) {{\n",
       "        var display = window.getComputedStyle(gd).display;\n",
       "        if (!display || display === 'none') {{\n",
       "            console.log([gd, 'removed!']);\n",
       "            Plotly.purge(gd);\n",
       "            observer.disconnect();\n",
       "        }}\n",
       "}});\n",
       "\n",
       "// Listen for the removal of the full notebook cells\n",
       "var notebookContainer = gd.closest('#notebook-container');\n",
       "if (notebookContainer) {{\n",
       "    x.observe(notebookContainer, {childList: true});\n",
       "}}\n",
       "\n",
       "// Listen for the clearing of the current output cell\n",
       "var outputEl = gd.closest('.output');\n",
       "if (outputEl) {{\n",
       "    x.observe(outputEl, {childList: true});\n",
       "}}\n",
       "\n",
       "                        })                };                });            </script>        </div>"
      ]
     },
     "metadata": {},
     "output_type": "display_data"
    }
   ],
   "source": [
    "# histogram iplot for df dataframe. all columns are overlapping.\n",
    "\n",
    "df.iplot(kind='hist',bins=50)"
   ]
  },
  {
   "cell_type": "markdown",
   "id": "535eb51c",
   "metadata": {},
   "source": [
    "#Spread type visualization are used for stock data: financial data"
   ]
  },
  {
   "cell_type": "code",
   "execution_count": 27,
   "id": "bf643a96",
   "metadata": {},
   "outputs": [
    {
     "name": "stderr",
     "output_type": "stream",
     "text": [
      "C:\\Users\\emman\\anaconda3\\lib\\site-packages\\cufflinks\\plotlytools.py:849: FutureWarning:\n",
      "\n",
      "The pandas.np module is deprecated and will be removed from pandas in a future version. Import numpy directly instead.\n",
      "\n",
      "C:\\Users\\emman\\anaconda3\\lib\\site-packages\\cufflinks\\plotlytools.py:850: FutureWarning:\n",
      "\n",
      "The pandas.np module is deprecated and will be removed from pandas in a future version. Import numpy directly instead.\n",
      "\n"
     ]
    },
    {
     "data": {
      "application/vnd.plotly.v1+json": {
       "config": {
        "linkText": "Export to plot.ly",
        "plotlyServerURL": "https://plot.ly",
        "showLink": true
       },
       "data": [
        {
         "line": {
          "color": "rgba(255, 153, 51, 1.0)",
          "dash": "solid",
          "shape": "linear",
          "width": 1.3
         },
         "mode": "lines",
         "name": "A",
         "text": "",
         "type": "scatter",
         "x": [
          0,
          1,
          2,
          3,
          4,
          5,
          6,
          7,
          8,
          9,
          10,
          11,
          12,
          13,
          14,
          15,
          16,
          17,
          18,
          19,
          20,
          21,
          22,
          23,
          24,
          25,
          26,
          27,
          28,
          29,
          30,
          31,
          32,
          33,
          34,
          35,
          36,
          37,
          38,
          39,
          40,
          41,
          42,
          43,
          44,
          45,
          46,
          47,
          48,
          49,
          50,
          51,
          52,
          53,
          54,
          55,
          56,
          57,
          58,
          59,
          60,
          61,
          62,
          63,
          64,
          65,
          66,
          67,
          68,
          69,
          70,
          71,
          72,
          73,
          74,
          75,
          76,
          77,
          78,
          79,
          80,
          81,
          82,
          83,
          84,
          85,
          86,
          87,
          88,
          89,
          90,
          91,
          92,
          93,
          94,
          95,
          96,
          97,
          98,
          99
         ],
         "y": [
          -0.7156901301506218,
          -2.4644340092683623,
          -0.5020478490356647,
          0.18831575059229694,
          -0.9395232600804589,
          0.6370608619021374,
          0.3181842436496653,
          -1.925815864693647,
          -1.601490197748081,
          0.7504852699910404,
          0.34651704071887407,
          -0.3782613877092965,
          0.50360062282216,
          1.1783072011157854,
          -0.39512918539645014,
          -0.27615642716525757,
          -0.6955150924719622,
          0.22125184868079706,
          0.3468389819905759,
          -1.417697236866669,
          1.115510266869824,
          -0.19740429399545154,
          -2.464841424106378,
          -0.8367326516922796,
          -1.784665752306031,
          -0.22786206228857037,
          -0.05747200108715722,
          -0.2582444417187888,
          -0.5840818609797201,
          -0.6447426754570369,
          -0.7890790059168368,
          0.23016315567803003,
          -1.267679972953894,
          0.11816464469909889,
          0.53265482704174,
          -1.2698235619164742,
          -1.8768988863675784,
          -0.9104585436306738,
          0.5197942871049583,
          -1.1344331642903294,
          0.992329649408986,
          -0.23854074055432464,
          -0.1930210849793099,
          0.6095404688520194,
          -1.232825526706406,
          -1.5328054495473706,
          0.3036487187896314,
          -0.2579415954354775,
          -0.28408823698571445,
          0.31097652201661435,
          0.5365134318194574,
          -0.2523997745954963,
          -0.22895996185521222,
          1.7212536262694407,
          0.220474283657124,
          -2.2021749191469557,
          -0.8986508298431952,
          -0.3221635884228591,
          -0.40414847758021716,
          -0.5652901674053412,
          1.0766577310137808,
          0.5349076975629776,
          0.23762680428485808,
          -1.7126244683313148,
          -0.5928398888471055,
          -1.4949122694654595,
          -1.1661099302510365,
          0.46297332937027735,
          -1.3945134376948467,
          -0.3869679733820751,
          -0.9624273069822818,
          -1.2765077481404117,
          -0.8586057990186773,
          -1.3617817621094965,
          0.5289027802019703,
          0.6103126439405477,
          0.9832256017665594,
          0.5128656072910021,
          -0.4379259719293449,
          -0.6556385330952424,
          0.14179110527076172,
          -0.01073393938291526,
          0.5485346127017294,
          1.2238687868347427,
          1.3552631701641884,
          -0.679197152670297,
          1.4246054066122478,
          0.37843614621800514,
          -0.33839561042916416,
          0.595800624621955,
          0.2134554912461374,
          1.115174003760538,
          0.8652782710066977,
          0.3619724278187933,
          -0.9215434485902071,
          0.8922369823809136,
          -0.21678248120535829,
          -0.688812085998554,
          0.4169838531764566,
          0.2484314725645371
         ]
        },
        {
         "line": {
          "color": "rgba(55, 128, 191, 1.0)",
          "dash": "solid",
          "shape": "linear",
          "width": 1.3
         },
         "mode": "lines",
         "name": "B",
         "text": "",
         "type": "scatter",
         "x": [
          0,
          1,
          2,
          3,
          4,
          5,
          6,
          7,
          8,
          9,
          10,
          11,
          12,
          13,
          14,
          15,
          16,
          17,
          18,
          19,
          20,
          21,
          22,
          23,
          24,
          25,
          26,
          27,
          28,
          29,
          30,
          31,
          32,
          33,
          34,
          35,
          36,
          37,
          38,
          39,
          40,
          41,
          42,
          43,
          44,
          45,
          46,
          47,
          48,
          49,
          50,
          51,
          52,
          53,
          54,
          55,
          56,
          57,
          58,
          59,
          60,
          61,
          62,
          63,
          64,
          65,
          66,
          67,
          68,
          69,
          70,
          71,
          72,
          73,
          74,
          75,
          76,
          77,
          78,
          79,
          80,
          81,
          82,
          83,
          84,
          85,
          86,
          87,
          88,
          89,
          90,
          91,
          92,
          93,
          94,
          95,
          96,
          97,
          98,
          99
         ],
         "y": [
          -0.6513797764818611,
          0.5244019427590942,
          -1.1744674888572253,
          0.43368191568401226,
          0.899497260401665,
          -1.1445625650980764,
          0.07099522324692333,
          0.04362068821287567,
          -0.8160348335399022,
          0.1626016136310631,
          -0.7298670162319529,
          0.6713855417304806,
          -0.4897210754965677,
          -0.48252481799299574,
          -1.3139286582223493,
          0.9707580321863382,
          -1.1464067098017479,
          -1.6598898005122826,
          0.23742605508299555,
          2.6643609903481145,
          0.22610339598619442,
          0.6649669769165972,
          0.9281709465845623,
          0.9791321813439632,
          0.8762934680617513,
          -0.28943460277957755,
          -0.028190662231939393,
          0.2719755628483441,
          0.8570323675771371,
          -0.9874367202861509,
          1.1186820362029204,
          0.12441702071829709,
          -0.7566677889736816,
          0.5261667781482235,
          0.8229391933147238,
          1.0237625257527891,
          -1.1075967095024015,
          0.6989216003060206,
          0.4484205570752432,
          -0.26803786635302745,
          -0.6634160128961857,
          2.335734557413926,
          -1.434184074279899,
          0.2473602698192445,
          0.22238480469788974,
          -0.2677583598956593,
          0.2725413480059053,
          -0.8395778183942763,
          -0.661834594922329,
          -0.27007302620888896,
          -0.2474487320510582,
          -1.7686789507801906,
          -0.6927976504687269,
          -0.5679102310983882,
          -0.1715477136966996,
          -1.295629485531873,
          0.749114656046574,
          -0.4396779137233732,
          0.881864840173589,
          0.6699484712192457,
          -0.9865989035422554,
          0.8041516446982689,
          0.5708137463595715,
          -0.3544348711895968,
          -0.4411283148910683,
          -0.012678521787541109,
          -0.15374985521185416,
          1.0354303578331185,
          1.3043066720596153,
          -0.8746890120010864,
          0.08458332717612128,
          -0.8003519447971019,
          -0.6851446620945236,
          -1.1559883622724791,
          0.27707248332228673,
          1.4398769778179106,
          -1.574198276171295,
          -0.10824476202121064,
          -0.878756138704042,
          0.9528462091562935,
          0.36882014943302904,
          0.701962408764391,
          0.12515471481787668,
          0.9043374679657142,
          0.2254823419787821,
          0.4958042695863272,
          -0.5975032114557614,
          0.7257348296841276,
          0.4855953408620199,
          -3.3825219320437827,
          0.5322162490593761,
          0.05039546272046297,
          0.10839147887182421,
          -2.015338751110118,
          0.643382932891098,
          -0.8632757680204926,
          1.1845968063934953,
          -1.0762885247087823,
          -0.2673821262177926,
          0.6680121061201801
         ]
        },
        {
         "connectgaps": false,
         "fill": "tozeroy",
         "line": {
          "color": "green",
          "dash": "solid",
          "shape": "linear",
          "width": 0.5
         },
         "mode": "lines",
         "name": "Spread",
         "showlegend": false,
         "type": "scatter",
         "x": [
          0,
          1,
          2,
          3,
          4,
          5,
          6,
          7,
          8,
          9,
          10,
          11,
          12,
          13,
          14,
          15,
          16,
          17,
          18,
          19,
          20,
          21,
          22,
          23,
          24,
          25,
          26,
          27,
          28,
          29,
          30,
          31,
          32,
          33,
          34,
          35,
          36,
          37,
          38,
          39,
          40,
          41,
          42,
          43,
          44,
          45,
          46,
          47,
          48,
          49,
          50,
          51,
          52,
          53,
          54,
          55,
          56,
          57,
          58,
          59,
          60,
          61,
          62,
          63,
          64,
          65,
          66,
          67,
          68,
          69,
          70,
          71,
          72,
          73,
          74,
          75,
          76,
          77,
          78,
          79,
          80,
          81,
          82,
          83,
          84,
          85,
          86,
          87,
          88,
          89,
          90,
          91,
          92,
          93,
          94,
          95,
          96,
          97,
          98,
          99
         ],
         "xaxis": "x2",
         "y": [
          "",
          "",
          0.6724196398215606,
          "",
          "",
          1.7816234270002138,
          0.247189020402742,
          "",
          "",
          0.5878836563599773,
          1.076384056950827,
          "",
          0.9933216983187276,
          1.660832019108781,
          0.9187994728258991,
          "",
          0.45089161732978567,
          1.8811416491930797,
          0.10941292690758034,
          "",
          0.8894068708836296,
          "",
          "",
          "",
          "",
          0.06157254049100719,
          "",
          "",
          "",
          0.34269404482911403,
          "",
          0.10574613495973294,
          "",
          "",
          "",
          "",
          "",
          "",
          0.07137373002971514,
          "",
          1.6557456623051716,
          "",
          1.241162989300589,
          0.3621801990327749,
          "",
          "",
          0.031107370783726107,
          0.5816362229587988,
          0.37774635793661454,
          0.5810495482255034,
          0.7839621638705156,
          1.5162791761846943,
          0.46383768861351465,
          2.289163857367829,
          0.3920219973538236,
          "",
          "",
          0.11751432530051414,
          "",
          "",
          2.063256634556036,
          "",
          "",
          "",
          "",
          "",
          "",
          "",
          "",
          0.4877210386190113,
          "",
          "",
          "",
          "",
          0.2518302968796836,
          "",
          2.5574238779378544,
          0.6211103693122126,
          0.4408301667746971,
          "",
          "",
          "",
          0.4233798978838528,
          0.3195313188690284,
          1.1297808281854063,
          "",
          2.022108618068009,
          "",
          "",
          3.978322556665738,
          "",
          1.064778541040075,
          0.7568867921348735,
          2.3773111789289114,
          "",
          1.7555127504014063,
          "",
          0.3874764387102283,
          0.6843659793942491,
          ""
         ],
         "yaxis": "y2"
        },
        {
         "connectgaps": false,
         "fill": "tozeroy",
         "line": {
          "color": "red",
          "dash": "solid",
          "shape": "linear",
          "width": 0.5
         },
         "mode": "lines",
         "name": "Spread",
         "showlegend": false,
         "type": "scatter",
         "x": [
          0,
          1,
          2,
          3,
          4,
          5,
          6,
          7,
          8,
          9,
          10,
          11,
          12,
          13,
          14,
          15,
          16,
          17,
          18,
          19,
          20,
          21,
          22,
          23,
          24,
          25,
          26,
          27,
          28,
          29,
          30,
          31,
          32,
          33,
          34,
          35,
          36,
          37,
          38,
          39,
          40,
          41,
          42,
          43,
          44,
          45,
          46,
          47,
          48,
          49,
          50,
          51,
          52,
          53,
          54,
          55,
          56,
          57,
          58,
          59,
          60,
          61,
          62,
          63,
          64,
          65,
          66,
          67,
          68,
          69,
          70,
          71,
          72,
          73,
          74,
          75,
          76,
          77,
          78,
          79,
          80,
          81,
          82,
          83,
          84,
          85,
          86,
          87,
          88,
          89,
          90,
          91,
          92,
          93,
          94,
          95,
          96,
          97,
          98,
          99
         ],
         "xaxis": "x2",
         "y": [
          -0.0643103536687607,
          -2.9888359520274568,
          "",
          -0.24536616509171533,
          -1.839020520482124,
          "",
          "",
          -1.9694365529065225,
          -0.7854553642081789,
          "",
          "",
          -1.0496469294397772,
          "",
          "",
          "",
          -1.2469144593515957,
          "",
          "",
          "",
          -4.082058227214784,
          "",
          -0.8623712709120488,
          -3.3930123706909403,
          -1.8158648330362428,
          -2.6609592203677823,
          "",
          -0.029281338855217828,
          -0.5302200045671329,
          -1.4411142285568572,
          "",
          -1.9077610421197573,
          "",
          -0.5110121839802123,
          -0.40800213344912467,
          -0.2902843662729837,
          -2.2935860876692633,
          -0.7693021768651769,
          -1.6093801439366944,
          "",
          -0.866395297937302,
          "",
          -2.5742752979682506,
          "",
          "",
          -1.455210331404296,
          -1.2650470896517114,
          "",
          "",
          "",
          "",
          "",
          "",
          "",
          "",
          "",
          -0.9065454336150827,
          -1.6477654858897692,
          "",
          -1.2860133177538062,
          -1.2352386386245868,
          "",
          -0.2692439471352913,
          -0.33318694207471344,
          -1.358189597141718,
          -0.15171157395603718,
          -1.4822337476779184,
          -1.0123600750391823,
          -0.5724570284628412,
          -2.698820109754462,
          "",
          -1.0470106341584031,
          -0.47615580334330976,
          -0.17346113692415366,
          -0.2057933998370174,
          "",
          -0.8295643338773628,
          "",
          "",
          "",
          -1.608484742251536,
          -0.22702904416226732,
          -0.7126963481473062,
          "",
          "",
          "",
          -1.1750014222566243,
          "",
          -0.34729868346612247,
          -0.823990951291184,
          "",
          -0.31876075781323876,
          "",
          "",
          "",
          -1.564926381481305,
          "",
          -1.4013792875988536,
          "",
          "",
          -0.419580633555643
         ],
         "yaxis": "y2"
        }
       ],
       "layout": {
        "hovermode": "x",
        "legend": {
         "bgcolor": "#F5F6F9",
         "font": {
          "color": "#4D5663"
         }
        },
        "paper_bgcolor": "#F5F6F9",
        "plot_bgcolor": "#F5F6F9",
        "template": {
         "data": {
          "bar": [
           {
            "error_x": {
             "color": "#2a3f5f"
            },
            "error_y": {
             "color": "#2a3f5f"
            },
            "marker": {
             "line": {
              "color": "#E5ECF6",
              "width": 0.5
             },
             "pattern": {
              "fillmode": "overlay",
              "size": 10,
              "solidity": 0.2
             }
            },
            "type": "bar"
           }
          ],
          "barpolar": [
           {
            "marker": {
             "line": {
              "color": "#E5ECF6",
              "width": 0.5
             },
             "pattern": {
              "fillmode": "overlay",
              "size": 10,
              "solidity": 0.2
             }
            },
            "type": "barpolar"
           }
          ],
          "carpet": [
           {
            "aaxis": {
             "endlinecolor": "#2a3f5f",
             "gridcolor": "white",
             "linecolor": "white",
             "minorgridcolor": "white",
             "startlinecolor": "#2a3f5f"
            },
            "baxis": {
             "endlinecolor": "#2a3f5f",
             "gridcolor": "white",
             "linecolor": "white",
             "minorgridcolor": "white",
             "startlinecolor": "#2a3f5f"
            },
            "type": "carpet"
           }
          ],
          "choropleth": [
           {
            "colorbar": {
             "outlinewidth": 0,
             "ticks": ""
            },
            "type": "choropleth"
           }
          ],
          "contour": [
           {
            "colorbar": {
             "outlinewidth": 0,
             "ticks": ""
            },
            "colorscale": [
             [
              0,
              "#0d0887"
             ],
             [
              0.1111111111111111,
              "#46039f"
             ],
             [
              0.2222222222222222,
              "#7201a8"
             ],
             [
              0.3333333333333333,
              "#9c179e"
             ],
             [
              0.4444444444444444,
              "#bd3786"
             ],
             [
              0.5555555555555556,
              "#d8576b"
             ],
             [
              0.6666666666666666,
              "#ed7953"
             ],
             [
              0.7777777777777778,
              "#fb9f3a"
             ],
             [
              0.8888888888888888,
              "#fdca26"
             ],
             [
              1,
              "#f0f921"
             ]
            ],
            "type": "contour"
           }
          ],
          "contourcarpet": [
           {
            "colorbar": {
             "outlinewidth": 0,
             "ticks": ""
            },
            "type": "contourcarpet"
           }
          ],
          "heatmap": [
           {
            "colorbar": {
             "outlinewidth": 0,
             "ticks": ""
            },
            "colorscale": [
             [
              0,
              "#0d0887"
             ],
             [
              0.1111111111111111,
              "#46039f"
             ],
             [
              0.2222222222222222,
              "#7201a8"
             ],
             [
              0.3333333333333333,
              "#9c179e"
             ],
             [
              0.4444444444444444,
              "#bd3786"
             ],
             [
              0.5555555555555556,
              "#d8576b"
             ],
             [
              0.6666666666666666,
              "#ed7953"
             ],
             [
              0.7777777777777778,
              "#fb9f3a"
             ],
             [
              0.8888888888888888,
              "#fdca26"
             ],
             [
              1,
              "#f0f921"
             ]
            ],
            "type": "heatmap"
           }
          ],
          "heatmapgl": [
           {
            "colorbar": {
             "outlinewidth": 0,
             "ticks": ""
            },
            "colorscale": [
             [
              0,
              "#0d0887"
             ],
             [
              0.1111111111111111,
              "#46039f"
             ],
             [
              0.2222222222222222,
              "#7201a8"
             ],
             [
              0.3333333333333333,
              "#9c179e"
             ],
             [
              0.4444444444444444,
              "#bd3786"
             ],
             [
              0.5555555555555556,
              "#d8576b"
             ],
             [
              0.6666666666666666,
              "#ed7953"
             ],
             [
              0.7777777777777778,
              "#fb9f3a"
             ],
             [
              0.8888888888888888,
              "#fdca26"
             ],
             [
              1,
              "#f0f921"
             ]
            ],
            "type": "heatmapgl"
           }
          ],
          "histogram": [
           {
            "marker": {
             "pattern": {
              "fillmode": "overlay",
              "size": 10,
              "solidity": 0.2
             }
            },
            "type": "histogram"
           }
          ],
          "histogram2d": [
           {
            "colorbar": {
             "outlinewidth": 0,
             "ticks": ""
            },
            "colorscale": [
             [
              0,
              "#0d0887"
             ],
             [
              0.1111111111111111,
              "#46039f"
             ],
             [
              0.2222222222222222,
              "#7201a8"
             ],
             [
              0.3333333333333333,
              "#9c179e"
             ],
             [
              0.4444444444444444,
              "#bd3786"
             ],
             [
              0.5555555555555556,
              "#d8576b"
             ],
             [
              0.6666666666666666,
              "#ed7953"
             ],
             [
              0.7777777777777778,
              "#fb9f3a"
             ],
             [
              0.8888888888888888,
              "#fdca26"
             ],
             [
              1,
              "#f0f921"
             ]
            ],
            "type": "histogram2d"
           }
          ],
          "histogram2dcontour": [
           {
            "colorbar": {
             "outlinewidth": 0,
             "ticks": ""
            },
            "colorscale": [
             [
              0,
              "#0d0887"
             ],
             [
              0.1111111111111111,
              "#46039f"
             ],
             [
              0.2222222222222222,
              "#7201a8"
             ],
             [
              0.3333333333333333,
              "#9c179e"
             ],
             [
              0.4444444444444444,
              "#bd3786"
             ],
             [
              0.5555555555555556,
              "#d8576b"
             ],
             [
              0.6666666666666666,
              "#ed7953"
             ],
             [
              0.7777777777777778,
              "#fb9f3a"
             ],
             [
              0.8888888888888888,
              "#fdca26"
             ],
             [
              1,
              "#f0f921"
             ]
            ],
            "type": "histogram2dcontour"
           }
          ],
          "mesh3d": [
           {
            "colorbar": {
             "outlinewidth": 0,
             "ticks": ""
            },
            "type": "mesh3d"
           }
          ],
          "parcoords": [
           {
            "line": {
             "colorbar": {
              "outlinewidth": 0,
              "ticks": ""
             }
            },
            "type": "parcoords"
           }
          ],
          "pie": [
           {
            "automargin": true,
            "type": "pie"
           }
          ],
          "scatter": [
           {
            "marker": {
             "colorbar": {
              "outlinewidth": 0,
              "ticks": ""
             }
            },
            "type": "scatter"
           }
          ],
          "scatter3d": [
           {
            "line": {
             "colorbar": {
              "outlinewidth": 0,
              "ticks": ""
             }
            },
            "marker": {
             "colorbar": {
              "outlinewidth": 0,
              "ticks": ""
             }
            },
            "type": "scatter3d"
           }
          ],
          "scattercarpet": [
           {
            "marker": {
             "colorbar": {
              "outlinewidth": 0,
              "ticks": ""
             }
            },
            "type": "scattercarpet"
           }
          ],
          "scattergeo": [
           {
            "marker": {
             "colorbar": {
              "outlinewidth": 0,
              "ticks": ""
             }
            },
            "type": "scattergeo"
           }
          ],
          "scattergl": [
           {
            "marker": {
             "colorbar": {
              "outlinewidth": 0,
              "ticks": ""
             }
            },
            "type": "scattergl"
           }
          ],
          "scattermapbox": [
           {
            "marker": {
             "colorbar": {
              "outlinewidth": 0,
              "ticks": ""
             }
            },
            "type": "scattermapbox"
           }
          ],
          "scatterpolar": [
           {
            "marker": {
             "colorbar": {
              "outlinewidth": 0,
              "ticks": ""
             }
            },
            "type": "scatterpolar"
           }
          ],
          "scatterpolargl": [
           {
            "marker": {
             "colorbar": {
              "outlinewidth": 0,
              "ticks": ""
             }
            },
            "type": "scatterpolargl"
           }
          ],
          "scatterternary": [
           {
            "marker": {
             "colorbar": {
              "outlinewidth": 0,
              "ticks": ""
             }
            },
            "type": "scatterternary"
           }
          ],
          "surface": [
           {
            "colorbar": {
             "outlinewidth": 0,
             "ticks": ""
            },
            "colorscale": [
             [
              0,
              "#0d0887"
             ],
             [
              0.1111111111111111,
              "#46039f"
             ],
             [
              0.2222222222222222,
              "#7201a8"
             ],
             [
              0.3333333333333333,
              "#9c179e"
             ],
             [
              0.4444444444444444,
              "#bd3786"
             ],
             [
              0.5555555555555556,
              "#d8576b"
             ],
             [
              0.6666666666666666,
              "#ed7953"
             ],
             [
              0.7777777777777778,
              "#fb9f3a"
             ],
             [
              0.8888888888888888,
              "#fdca26"
             ],
             [
              1,
              "#f0f921"
             ]
            ],
            "type": "surface"
           }
          ],
          "table": [
           {
            "cells": {
             "fill": {
              "color": "#EBF0F8"
             },
             "line": {
              "color": "white"
             }
            },
            "header": {
             "fill": {
              "color": "#C8D4E3"
             },
             "line": {
              "color": "white"
             }
            },
            "type": "table"
           }
          ]
         },
         "layout": {
          "annotationdefaults": {
           "arrowcolor": "#2a3f5f",
           "arrowhead": 0,
           "arrowwidth": 1
          },
          "autotypenumbers": "strict",
          "coloraxis": {
           "colorbar": {
            "outlinewidth": 0,
            "ticks": ""
           }
          },
          "colorscale": {
           "diverging": [
            [
             0,
             "#8e0152"
            ],
            [
             0.1,
             "#c51b7d"
            ],
            [
             0.2,
             "#de77ae"
            ],
            [
             0.3,
             "#f1b6da"
            ],
            [
             0.4,
             "#fde0ef"
            ],
            [
             0.5,
             "#f7f7f7"
            ],
            [
             0.6,
             "#e6f5d0"
            ],
            [
             0.7,
             "#b8e186"
            ],
            [
             0.8,
             "#7fbc41"
            ],
            [
             0.9,
             "#4d9221"
            ],
            [
             1,
             "#276419"
            ]
           ],
           "sequential": [
            [
             0,
             "#0d0887"
            ],
            [
             0.1111111111111111,
             "#46039f"
            ],
            [
             0.2222222222222222,
             "#7201a8"
            ],
            [
             0.3333333333333333,
             "#9c179e"
            ],
            [
             0.4444444444444444,
             "#bd3786"
            ],
            [
             0.5555555555555556,
             "#d8576b"
            ],
            [
             0.6666666666666666,
             "#ed7953"
            ],
            [
             0.7777777777777778,
             "#fb9f3a"
            ],
            [
             0.8888888888888888,
             "#fdca26"
            ],
            [
             1,
             "#f0f921"
            ]
           ],
           "sequentialminus": [
            [
             0,
             "#0d0887"
            ],
            [
             0.1111111111111111,
             "#46039f"
            ],
            [
             0.2222222222222222,
             "#7201a8"
            ],
            [
             0.3333333333333333,
             "#9c179e"
            ],
            [
             0.4444444444444444,
             "#bd3786"
            ],
            [
             0.5555555555555556,
             "#d8576b"
            ],
            [
             0.6666666666666666,
             "#ed7953"
            ],
            [
             0.7777777777777778,
             "#fb9f3a"
            ],
            [
             0.8888888888888888,
             "#fdca26"
            ],
            [
             1,
             "#f0f921"
            ]
           ]
          },
          "colorway": [
           "#636efa",
           "#EF553B",
           "#00cc96",
           "#ab63fa",
           "#FFA15A",
           "#19d3f3",
           "#FF6692",
           "#B6E880",
           "#FF97FF",
           "#FECB52"
          ],
          "font": {
           "color": "#2a3f5f"
          },
          "geo": {
           "bgcolor": "white",
           "lakecolor": "white",
           "landcolor": "#E5ECF6",
           "showlakes": true,
           "showland": true,
           "subunitcolor": "white"
          },
          "hoverlabel": {
           "align": "left"
          },
          "hovermode": "closest",
          "mapbox": {
           "style": "light"
          },
          "paper_bgcolor": "white",
          "plot_bgcolor": "#E5ECF6",
          "polar": {
           "angularaxis": {
            "gridcolor": "white",
            "linecolor": "white",
            "ticks": ""
           },
           "bgcolor": "#E5ECF6",
           "radialaxis": {
            "gridcolor": "white",
            "linecolor": "white",
            "ticks": ""
           }
          },
          "scene": {
           "xaxis": {
            "backgroundcolor": "#E5ECF6",
            "gridcolor": "white",
            "gridwidth": 2,
            "linecolor": "white",
            "showbackground": true,
            "ticks": "",
            "zerolinecolor": "white"
           },
           "yaxis": {
            "backgroundcolor": "#E5ECF6",
            "gridcolor": "white",
            "gridwidth": 2,
            "linecolor": "white",
            "showbackground": true,
            "ticks": "",
            "zerolinecolor": "white"
           },
           "zaxis": {
            "backgroundcolor": "#E5ECF6",
            "gridcolor": "white",
            "gridwidth": 2,
            "linecolor": "white",
            "showbackground": true,
            "ticks": "",
            "zerolinecolor": "white"
           }
          },
          "shapedefaults": {
           "line": {
            "color": "#2a3f5f"
           }
          },
          "ternary": {
           "aaxis": {
            "gridcolor": "white",
            "linecolor": "white",
            "ticks": ""
           },
           "baxis": {
            "gridcolor": "white",
            "linecolor": "white",
            "ticks": ""
           },
           "bgcolor": "#E5ECF6",
           "caxis": {
            "gridcolor": "white",
            "linecolor": "white",
            "ticks": ""
           }
          },
          "title": {
           "x": 0.05
          },
          "xaxis": {
           "automargin": true,
           "gridcolor": "white",
           "linecolor": "white",
           "ticks": "",
           "title": {
            "standoff": 15
           },
           "zerolinecolor": "white",
           "zerolinewidth": 2
          },
          "yaxis": {
           "automargin": true,
           "gridcolor": "white",
           "linecolor": "white",
           "ticks": "",
           "title": {
            "standoff": 15
           },
           "zerolinecolor": "white",
           "zerolinewidth": 2
          }
         }
        },
        "title": {
         "font": {
          "color": "#4D5663"
         }
        },
        "xaxis": {
         "gridcolor": "#E1E5ED",
         "showgrid": true,
         "tickfont": {
          "color": "#4D5663"
         },
         "title": {
          "font": {
           "color": "#4D5663"
          },
          "text": ""
         },
         "zerolinecolor": "#E1E5ED"
        },
        "xaxis2": {
         "anchor": "y2",
         "gridcolor": "#E1E5ED",
         "showgrid": true,
         "showticklabels": false,
         "tickfont": {
          "color": "#4D5663"
         },
         "title": {
          "font": {
           "color": "#4D5663"
          },
          "text": ""
         },
         "zerolinecolor": "#E1E5ED"
        },
        "yaxis": {
         "domain": [
          0.3,
          1
         ],
         "gridcolor": "#E1E5ED",
         "showgrid": true,
         "tickfont": {
          "color": "#4D5663"
         },
         "title": {
          "font": {
           "color": "#4D5663"
          },
          "text": ""
         },
         "zerolinecolor": "#E1E5ED"
        },
        "yaxis2": {
         "domain": [
          0,
          0.25
         ],
         "gridcolor": "#E1E5ED",
         "showgrid": true,
         "tickfont": {
          "color": "#4D5663"
         },
         "title": {
          "font": {
           "color": "#4D5663"
          },
          "text": "Spread"
         },
         "zerolinecolor": "#E1E5ED"
        }
       }
      },
      "text/html": [
       "<div>                            <div id=\"71145c84-b7cc-4f88-995b-e48ffdd9fc73\" class=\"plotly-graph-div\" style=\"height:525px; width:100%;\"></div>            <script type=\"text/javascript\">                require([\"plotly\"], function(Plotly) {                    window.PLOTLYENV=window.PLOTLYENV || {};\n",
       "                    window.PLOTLYENV.BASE_URL='https://plot.ly';                                    if (document.getElementById(\"71145c84-b7cc-4f88-995b-e48ffdd9fc73\")) {                    Plotly.newPlot(                        \"71145c84-b7cc-4f88-995b-e48ffdd9fc73\",                        [{\"line\":{\"color\":\"rgba(255, 153, 51, 1.0)\",\"dash\":\"solid\",\"shape\":\"linear\",\"width\":1.3},\"mode\":\"lines\",\"name\":\"A\",\"text\":\"\",\"x\":[0,1,2,3,4,5,6,7,8,9,10,11,12,13,14,15,16,17,18,19,20,21,22,23,24,25,26,27,28,29,30,31,32,33,34,35,36,37,38,39,40,41,42,43,44,45,46,47,48,49,50,51,52,53,54,55,56,57,58,59,60,61,62,63,64,65,66,67,68,69,70,71,72,73,74,75,76,77,78,79,80,81,82,83,84,85,86,87,88,89,90,91,92,93,94,95,96,97,98,99],\"y\":[-0.7156901301506218,-2.4644340092683623,-0.5020478490356647,0.18831575059229694,-0.9395232600804589,0.6370608619021374,0.3181842436496653,-1.925815864693647,-1.601490197748081,0.7504852699910404,0.34651704071887407,-0.3782613877092965,0.50360062282216,1.1783072011157854,-0.39512918539645014,-0.27615642716525757,-0.6955150924719622,0.22125184868079706,0.3468389819905759,-1.417697236866669,1.115510266869824,-0.19740429399545154,-2.464841424106378,-0.8367326516922796,-1.784665752306031,-0.22786206228857037,-0.05747200108715722,-0.2582444417187888,-0.5840818609797201,-0.6447426754570369,-0.7890790059168368,0.23016315567803003,-1.267679972953894,0.11816464469909889,0.53265482704174,-1.2698235619164742,-1.8768988863675784,-0.9104585436306738,0.5197942871049583,-1.1344331642903294,0.992329649408986,-0.23854074055432464,-0.1930210849793099,0.6095404688520194,-1.232825526706406,-1.5328054495473706,0.3036487187896314,-0.2579415954354775,-0.28408823698571445,0.31097652201661435,0.5365134318194574,-0.2523997745954963,-0.22895996185521222,1.7212536262694407,0.220474283657124,-2.2021749191469557,-0.8986508298431952,-0.3221635884228591,-0.40414847758021716,-0.5652901674053412,1.0766577310137808,0.5349076975629776,0.23762680428485808,-1.7126244683313148,-0.5928398888471055,-1.4949122694654595,-1.1661099302510365,0.46297332937027735,-1.3945134376948467,-0.3869679733820751,-0.9624273069822818,-1.2765077481404117,-0.8586057990186773,-1.3617817621094965,0.5289027802019703,0.6103126439405477,0.9832256017665594,0.5128656072910021,-0.4379259719293449,-0.6556385330952424,0.14179110527076172,-0.01073393938291526,0.5485346127017294,1.2238687868347427,1.3552631701641884,-0.679197152670297,1.4246054066122478,0.37843614621800514,-0.33839561042916416,0.595800624621955,0.2134554912461374,1.115174003760538,0.8652782710066977,0.3619724278187933,-0.9215434485902071,0.8922369823809136,-0.21678248120535829,-0.688812085998554,0.4169838531764566,0.2484314725645371],\"type\":\"scatter\"},{\"line\":{\"color\":\"rgba(55, 128, 191, 1.0)\",\"dash\":\"solid\",\"shape\":\"linear\",\"width\":1.3},\"mode\":\"lines\",\"name\":\"B\",\"text\":\"\",\"x\":[0,1,2,3,4,5,6,7,8,9,10,11,12,13,14,15,16,17,18,19,20,21,22,23,24,25,26,27,28,29,30,31,32,33,34,35,36,37,38,39,40,41,42,43,44,45,46,47,48,49,50,51,52,53,54,55,56,57,58,59,60,61,62,63,64,65,66,67,68,69,70,71,72,73,74,75,76,77,78,79,80,81,82,83,84,85,86,87,88,89,90,91,92,93,94,95,96,97,98,99],\"y\":[-0.6513797764818611,0.5244019427590942,-1.1744674888572253,0.43368191568401226,0.899497260401665,-1.1445625650980764,0.07099522324692333,0.04362068821287567,-0.8160348335399022,0.1626016136310631,-0.7298670162319529,0.6713855417304806,-0.4897210754965677,-0.48252481799299574,-1.3139286582223493,0.9707580321863382,-1.1464067098017479,-1.6598898005122826,0.23742605508299555,2.6643609903481145,0.22610339598619442,0.6649669769165972,0.9281709465845623,0.9791321813439632,0.8762934680617513,-0.28943460277957755,-0.028190662231939393,0.2719755628483441,0.8570323675771371,-0.9874367202861509,1.1186820362029204,0.12441702071829709,-0.7566677889736816,0.5261667781482235,0.8229391933147238,1.0237625257527891,-1.1075967095024015,0.6989216003060206,0.4484205570752432,-0.26803786635302745,-0.6634160128961857,2.335734557413926,-1.434184074279899,0.2473602698192445,0.22238480469788974,-0.2677583598956593,0.2725413480059053,-0.8395778183942763,-0.661834594922329,-0.27007302620888896,-0.2474487320510582,-1.7686789507801906,-0.6927976504687269,-0.5679102310983882,-0.1715477136966996,-1.295629485531873,0.749114656046574,-0.4396779137233732,0.881864840173589,0.6699484712192457,-0.9865989035422554,0.8041516446982689,0.5708137463595715,-0.3544348711895968,-0.4411283148910683,-0.012678521787541109,-0.15374985521185416,1.0354303578331185,1.3043066720596153,-0.8746890120010864,0.08458332717612128,-0.8003519447971019,-0.6851446620945236,-1.1559883622724791,0.27707248332228673,1.4398769778179106,-1.574198276171295,-0.10824476202121064,-0.878756138704042,0.9528462091562935,0.36882014943302904,0.701962408764391,0.12515471481787668,0.9043374679657142,0.2254823419787821,0.4958042695863272,-0.5975032114557614,0.7257348296841276,0.4855953408620199,-3.3825219320437827,0.5322162490593761,0.05039546272046297,0.10839147887182421,-2.015338751110118,0.643382932891098,-0.8632757680204926,1.1845968063934953,-1.0762885247087823,-0.2673821262177926,0.6680121061201801],\"type\":\"scatter\"},{\"connectgaps\":false,\"fill\":\"tozeroy\",\"line\":{\"color\":\"green\",\"dash\":\"solid\",\"shape\":\"linear\",\"width\":0.5},\"mode\":\"lines\",\"name\":\"Spread\",\"showlegend\":false,\"x\":[0,1,2,3,4,5,6,7,8,9,10,11,12,13,14,15,16,17,18,19,20,21,22,23,24,25,26,27,28,29,30,31,32,33,34,35,36,37,38,39,40,41,42,43,44,45,46,47,48,49,50,51,52,53,54,55,56,57,58,59,60,61,62,63,64,65,66,67,68,69,70,71,72,73,74,75,76,77,78,79,80,81,82,83,84,85,86,87,88,89,90,91,92,93,94,95,96,97,98,99],\"xaxis\":\"x2\",\"y\":[\"\",\"\",0.6724196398215606,\"\",\"\",1.7816234270002138,0.247189020402742,\"\",\"\",0.5878836563599773,1.076384056950827,\"\",0.9933216983187276,1.660832019108781,0.9187994728258991,\"\",0.45089161732978567,1.8811416491930797,0.10941292690758034,\"\",0.8894068708836296,\"\",\"\",\"\",\"\",0.06157254049100719,\"\",\"\",\"\",0.34269404482911403,\"\",0.10574613495973294,\"\",\"\",\"\",\"\",\"\",\"\",0.07137373002971514,\"\",1.6557456623051716,\"\",1.241162989300589,0.3621801990327749,\"\",\"\",0.031107370783726107,0.5816362229587988,0.37774635793661454,0.5810495482255034,0.7839621638705156,1.5162791761846943,0.46383768861351465,2.289163857367829,0.3920219973538236,\"\",\"\",0.11751432530051414,\"\",\"\",2.063256634556036,\"\",\"\",\"\",\"\",\"\",\"\",\"\",\"\",0.4877210386190113,\"\",\"\",\"\",\"\",0.2518302968796836,\"\",2.5574238779378544,0.6211103693122126,0.4408301667746971,\"\",\"\",\"\",0.4233798978838528,0.3195313188690284,1.1297808281854063,\"\",2.022108618068009,\"\",\"\",3.978322556665738,\"\",1.064778541040075,0.7568867921348735,2.3773111789289114,\"\",1.7555127504014063,\"\",0.3874764387102283,0.6843659793942491,\"\"],\"yaxis\":\"y2\",\"type\":\"scatter\"},{\"connectgaps\":false,\"fill\":\"tozeroy\",\"line\":{\"color\":\"red\",\"dash\":\"solid\",\"shape\":\"linear\",\"width\":0.5},\"mode\":\"lines\",\"name\":\"Spread\",\"showlegend\":false,\"x\":[0,1,2,3,4,5,6,7,8,9,10,11,12,13,14,15,16,17,18,19,20,21,22,23,24,25,26,27,28,29,30,31,32,33,34,35,36,37,38,39,40,41,42,43,44,45,46,47,48,49,50,51,52,53,54,55,56,57,58,59,60,61,62,63,64,65,66,67,68,69,70,71,72,73,74,75,76,77,78,79,80,81,82,83,84,85,86,87,88,89,90,91,92,93,94,95,96,97,98,99],\"xaxis\":\"x2\",\"y\":[-0.0643103536687607,-2.9888359520274568,\"\",-0.24536616509171533,-1.839020520482124,\"\",\"\",-1.9694365529065225,-0.7854553642081789,\"\",\"\",-1.0496469294397772,\"\",\"\",\"\",-1.2469144593515957,\"\",\"\",\"\",-4.082058227214784,\"\",-0.8623712709120488,-3.3930123706909403,-1.8158648330362428,-2.6609592203677823,\"\",-0.029281338855217828,-0.5302200045671329,-1.4411142285568572,\"\",-1.9077610421197573,\"\",-0.5110121839802123,-0.40800213344912467,-0.2902843662729837,-2.2935860876692633,-0.7693021768651769,-1.6093801439366944,\"\",-0.866395297937302,\"\",-2.5742752979682506,\"\",\"\",-1.455210331404296,-1.2650470896517114,\"\",\"\",\"\",\"\",\"\",\"\",\"\",\"\",\"\",-0.9065454336150827,-1.6477654858897692,\"\",-1.2860133177538062,-1.2352386386245868,\"\",-0.2692439471352913,-0.33318694207471344,-1.358189597141718,-0.15171157395603718,-1.4822337476779184,-1.0123600750391823,-0.5724570284628412,-2.698820109754462,\"\",-1.0470106341584031,-0.47615580334330976,-0.17346113692415366,-0.2057933998370174,\"\",-0.8295643338773628,\"\",\"\",\"\",-1.608484742251536,-0.22702904416226732,-0.7126963481473062,\"\",\"\",\"\",-1.1750014222566243,\"\",-0.34729868346612247,-0.823990951291184,\"\",-0.31876075781323876,\"\",\"\",\"\",-1.564926381481305,\"\",-1.4013792875988536,\"\",\"\",-0.419580633555643],\"yaxis\":\"y2\",\"type\":\"scatter\"}],                        {\"hovermode\":\"x\",\"legend\":{\"bgcolor\":\"#F5F6F9\",\"font\":{\"color\":\"#4D5663\"}},\"paper_bgcolor\":\"#F5F6F9\",\"plot_bgcolor\":\"#F5F6F9\",\"template\":{\"data\":{\"barpolar\":[{\"marker\":{\"line\":{\"color\":\"#E5ECF6\",\"width\":0.5},\"pattern\":{\"fillmode\":\"overlay\",\"size\":10,\"solidity\":0.2}},\"type\":\"barpolar\"}],\"bar\":[{\"error_x\":{\"color\":\"#2a3f5f\"},\"error_y\":{\"color\":\"#2a3f5f\"},\"marker\":{\"line\":{\"color\":\"#E5ECF6\",\"width\":0.5},\"pattern\":{\"fillmode\":\"overlay\",\"size\":10,\"solidity\":0.2}},\"type\":\"bar\"}],\"carpet\":[{\"aaxis\":{\"endlinecolor\":\"#2a3f5f\",\"gridcolor\":\"white\",\"linecolor\":\"white\",\"minorgridcolor\":\"white\",\"startlinecolor\":\"#2a3f5f\"},\"baxis\":{\"endlinecolor\":\"#2a3f5f\",\"gridcolor\":\"white\",\"linecolor\":\"white\",\"minorgridcolor\":\"white\",\"startlinecolor\":\"#2a3f5f\"},\"type\":\"carpet\"}],\"choropleth\":[{\"colorbar\":{\"outlinewidth\":0,\"ticks\":\"\"},\"type\":\"choropleth\"}],\"contourcarpet\":[{\"colorbar\":{\"outlinewidth\":0,\"ticks\":\"\"},\"type\":\"contourcarpet\"}],\"contour\":[{\"colorbar\":{\"outlinewidth\":0,\"ticks\":\"\"},\"colorscale\":[[0.0,\"#0d0887\"],[0.1111111111111111,\"#46039f\"],[0.2222222222222222,\"#7201a8\"],[0.3333333333333333,\"#9c179e\"],[0.4444444444444444,\"#bd3786\"],[0.5555555555555556,\"#d8576b\"],[0.6666666666666666,\"#ed7953\"],[0.7777777777777778,\"#fb9f3a\"],[0.8888888888888888,\"#fdca26\"],[1.0,\"#f0f921\"]],\"type\":\"contour\"}],\"heatmapgl\":[{\"colorbar\":{\"outlinewidth\":0,\"ticks\":\"\"},\"colorscale\":[[0.0,\"#0d0887\"],[0.1111111111111111,\"#46039f\"],[0.2222222222222222,\"#7201a8\"],[0.3333333333333333,\"#9c179e\"],[0.4444444444444444,\"#bd3786\"],[0.5555555555555556,\"#d8576b\"],[0.6666666666666666,\"#ed7953\"],[0.7777777777777778,\"#fb9f3a\"],[0.8888888888888888,\"#fdca26\"],[1.0,\"#f0f921\"]],\"type\":\"heatmapgl\"}],\"heatmap\":[{\"colorbar\":{\"outlinewidth\":0,\"ticks\":\"\"},\"colorscale\":[[0.0,\"#0d0887\"],[0.1111111111111111,\"#46039f\"],[0.2222222222222222,\"#7201a8\"],[0.3333333333333333,\"#9c179e\"],[0.4444444444444444,\"#bd3786\"],[0.5555555555555556,\"#d8576b\"],[0.6666666666666666,\"#ed7953\"],[0.7777777777777778,\"#fb9f3a\"],[0.8888888888888888,\"#fdca26\"],[1.0,\"#f0f921\"]],\"type\":\"heatmap\"}],\"histogram2dcontour\":[{\"colorbar\":{\"outlinewidth\":0,\"ticks\":\"\"},\"colorscale\":[[0.0,\"#0d0887\"],[0.1111111111111111,\"#46039f\"],[0.2222222222222222,\"#7201a8\"],[0.3333333333333333,\"#9c179e\"],[0.4444444444444444,\"#bd3786\"],[0.5555555555555556,\"#d8576b\"],[0.6666666666666666,\"#ed7953\"],[0.7777777777777778,\"#fb9f3a\"],[0.8888888888888888,\"#fdca26\"],[1.0,\"#f0f921\"]],\"type\":\"histogram2dcontour\"}],\"histogram2d\":[{\"colorbar\":{\"outlinewidth\":0,\"ticks\":\"\"},\"colorscale\":[[0.0,\"#0d0887\"],[0.1111111111111111,\"#46039f\"],[0.2222222222222222,\"#7201a8\"],[0.3333333333333333,\"#9c179e\"],[0.4444444444444444,\"#bd3786\"],[0.5555555555555556,\"#d8576b\"],[0.6666666666666666,\"#ed7953\"],[0.7777777777777778,\"#fb9f3a\"],[0.8888888888888888,\"#fdca26\"],[1.0,\"#f0f921\"]],\"type\":\"histogram2d\"}],\"histogram\":[{\"marker\":{\"pattern\":{\"fillmode\":\"overlay\",\"size\":10,\"solidity\":0.2}},\"type\":\"histogram\"}],\"mesh3d\":[{\"colorbar\":{\"outlinewidth\":0,\"ticks\":\"\"},\"type\":\"mesh3d\"}],\"parcoords\":[{\"line\":{\"colorbar\":{\"outlinewidth\":0,\"ticks\":\"\"}},\"type\":\"parcoords\"}],\"pie\":[{\"automargin\":true,\"type\":\"pie\"}],\"scatter3d\":[{\"line\":{\"colorbar\":{\"outlinewidth\":0,\"ticks\":\"\"}},\"marker\":{\"colorbar\":{\"outlinewidth\":0,\"ticks\":\"\"}},\"type\":\"scatter3d\"}],\"scattercarpet\":[{\"marker\":{\"colorbar\":{\"outlinewidth\":0,\"ticks\":\"\"}},\"type\":\"scattercarpet\"}],\"scattergeo\":[{\"marker\":{\"colorbar\":{\"outlinewidth\":0,\"ticks\":\"\"}},\"type\":\"scattergeo\"}],\"scattergl\":[{\"marker\":{\"colorbar\":{\"outlinewidth\":0,\"ticks\":\"\"}},\"type\":\"scattergl\"}],\"scattermapbox\":[{\"marker\":{\"colorbar\":{\"outlinewidth\":0,\"ticks\":\"\"}},\"type\":\"scattermapbox\"}],\"scatterpolargl\":[{\"marker\":{\"colorbar\":{\"outlinewidth\":0,\"ticks\":\"\"}},\"type\":\"scatterpolargl\"}],\"scatterpolar\":[{\"marker\":{\"colorbar\":{\"outlinewidth\":0,\"ticks\":\"\"}},\"type\":\"scatterpolar\"}],\"scatter\":[{\"marker\":{\"colorbar\":{\"outlinewidth\":0,\"ticks\":\"\"}},\"type\":\"scatter\"}],\"scatterternary\":[{\"marker\":{\"colorbar\":{\"outlinewidth\":0,\"ticks\":\"\"}},\"type\":\"scatterternary\"}],\"surface\":[{\"colorbar\":{\"outlinewidth\":0,\"ticks\":\"\"},\"colorscale\":[[0.0,\"#0d0887\"],[0.1111111111111111,\"#46039f\"],[0.2222222222222222,\"#7201a8\"],[0.3333333333333333,\"#9c179e\"],[0.4444444444444444,\"#bd3786\"],[0.5555555555555556,\"#d8576b\"],[0.6666666666666666,\"#ed7953\"],[0.7777777777777778,\"#fb9f3a\"],[0.8888888888888888,\"#fdca26\"],[1.0,\"#f0f921\"]],\"type\":\"surface\"}],\"table\":[{\"cells\":{\"fill\":{\"color\":\"#EBF0F8\"},\"line\":{\"color\":\"white\"}},\"header\":{\"fill\":{\"color\":\"#C8D4E3\"},\"line\":{\"color\":\"white\"}},\"type\":\"table\"}]},\"layout\":{\"annotationdefaults\":{\"arrowcolor\":\"#2a3f5f\",\"arrowhead\":0,\"arrowwidth\":1},\"autotypenumbers\":\"strict\",\"coloraxis\":{\"colorbar\":{\"outlinewidth\":0,\"ticks\":\"\"}},\"colorscale\":{\"diverging\":[[0,\"#8e0152\"],[0.1,\"#c51b7d\"],[0.2,\"#de77ae\"],[0.3,\"#f1b6da\"],[0.4,\"#fde0ef\"],[0.5,\"#f7f7f7\"],[0.6,\"#e6f5d0\"],[0.7,\"#b8e186\"],[0.8,\"#7fbc41\"],[0.9,\"#4d9221\"],[1,\"#276419\"]],\"sequential\":[[0.0,\"#0d0887\"],[0.1111111111111111,\"#46039f\"],[0.2222222222222222,\"#7201a8\"],[0.3333333333333333,\"#9c179e\"],[0.4444444444444444,\"#bd3786\"],[0.5555555555555556,\"#d8576b\"],[0.6666666666666666,\"#ed7953\"],[0.7777777777777778,\"#fb9f3a\"],[0.8888888888888888,\"#fdca26\"],[1.0,\"#f0f921\"]],\"sequentialminus\":[[0.0,\"#0d0887\"],[0.1111111111111111,\"#46039f\"],[0.2222222222222222,\"#7201a8\"],[0.3333333333333333,\"#9c179e\"],[0.4444444444444444,\"#bd3786\"],[0.5555555555555556,\"#d8576b\"],[0.6666666666666666,\"#ed7953\"],[0.7777777777777778,\"#fb9f3a\"],[0.8888888888888888,\"#fdca26\"],[1.0,\"#f0f921\"]]},\"colorway\":[\"#636efa\",\"#EF553B\",\"#00cc96\",\"#ab63fa\",\"#FFA15A\",\"#19d3f3\",\"#FF6692\",\"#B6E880\",\"#FF97FF\",\"#FECB52\"],\"font\":{\"color\":\"#2a3f5f\"},\"geo\":{\"bgcolor\":\"white\",\"lakecolor\":\"white\",\"landcolor\":\"#E5ECF6\",\"showlakes\":true,\"showland\":true,\"subunitcolor\":\"white\"},\"hoverlabel\":{\"align\":\"left\"},\"hovermode\":\"closest\",\"mapbox\":{\"style\":\"light\"},\"paper_bgcolor\":\"white\",\"plot_bgcolor\":\"#E5ECF6\",\"polar\":{\"angularaxis\":{\"gridcolor\":\"white\",\"linecolor\":\"white\",\"ticks\":\"\"},\"bgcolor\":\"#E5ECF6\",\"radialaxis\":{\"gridcolor\":\"white\",\"linecolor\":\"white\",\"ticks\":\"\"}},\"scene\":{\"xaxis\":{\"backgroundcolor\":\"#E5ECF6\",\"gridcolor\":\"white\",\"gridwidth\":2,\"linecolor\":\"white\",\"showbackground\":true,\"ticks\":\"\",\"zerolinecolor\":\"white\"},\"yaxis\":{\"backgroundcolor\":\"#E5ECF6\",\"gridcolor\":\"white\",\"gridwidth\":2,\"linecolor\":\"white\",\"showbackground\":true,\"ticks\":\"\",\"zerolinecolor\":\"white\"},\"zaxis\":{\"backgroundcolor\":\"#E5ECF6\",\"gridcolor\":\"white\",\"gridwidth\":2,\"linecolor\":\"white\",\"showbackground\":true,\"ticks\":\"\",\"zerolinecolor\":\"white\"}},\"shapedefaults\":{\"line\":{\"color\":\"#2a3f5f\"}},\"ternary\":{\"aaxis\":{\"gridcolor\":\"white\",\"linecolor\":\"white\",\"ticks\":\"\"},\"baxis\":{\"gridcolor\":\"white\",\"linecolor\":\"white\",\"ticks\":\"\"},\"bgcolor\":\"#E5ECF6\",\"caxis\":{\"gridcolor\":\"white\",\"linecolor\":\"white\",\"ticks\":\"\"}},\"title\":{\"x\":0.05},\"xaxis\":{\"automargin\":true,\"gridcolor\":\"white\",\"linecolor\":\"white\",\"ticks\":\"\",\"title\":{\"standoff\":15},\"zerolinecolor\":\"white\",\"zerolinewidth\":2},\"yaxis\":{\"automargin\":true,\"gridcolor\":\"white\",\"linecolor\":\"white\",\"ticks\":\"\",\"title\":{\"standoff\":15},\"zerolinecolor\":\"white\",\"zerolinewidth\":2}}},\"title\":{\"font\":{\"color\":\"#4D5663\"}},\"xaxis\":{\"gridcolor\":\"#E1E5ED\",\"showgrid\":true,\"tickfont\":{\"color\":\"#4D5663\"},\"title\":{\"font\":{\"color\":\"#4D5663\"},\"text\":\"\"},\"zerolinecolor\":\"#E1E5ED\"},\"yaxis\":{\"domain\":[0.3,1],\"gridcolor\":\"#E1E5ED\",\"showgrid\":true,\"tickfont\":{\"color\":\"#4D5663\"},\"title\":{\"font\":{\"color\":\"#4D5663\"},\"text\":\"\"},\"zerolinecolor\":\"#E1E5ED\"},\"yaxis2\":{\"domain\":[0,0.25],\"gridcolor\":\"#E1E5ED\",\"showgrid\":true,\"tickfont\":{\"color\":\"#4D5663\"},\"title\":{\"font\":{\"color\":\"#4D5663\"},\"text\":\"Spread\"},\"zerolinecolor\":\"#E1E5ED\"},\"xaxis2\":{\"anchor\":\"y2\",\"gridcolor\":\"#E1E5ED\",\"showgrid\":true,\"showticklabels\":false,\"tickfont\":{\"color\":\"#4D5663\"},\"title\":{\"font\":{\"color\":\"#4D5663\"},\"text\":\"\"},\"zerolinecolor\":\"#E1E5ED\"}},                        {\"showLink\": true, \"linkText\": \"Export to plot.ly\", \"plotlyServerURL\": \"https://plot.ly\", \"responsive\": true}                    ).then(function(){\n",
       "                            \n",
       "var gd = document.getElementById('71145c84-b7cc-4f88-995b-e48ffdd9fc73');\n",
       "var x = new MutationObserver(function (mutations, observer) {{\n",
       "        var display = window.getComputedStyle(gd).display;\n",
       "        if (!display || display === 'none') {{\n",
       "            console.log([gd, 'removed!']);\n",
       "            Plotly.purge(gd);\n",
       "            observer.disconnect();\n",
       "        }}\n",
       "}});\n",
       "\n",
       "// Listen for the removal of the full notebook cells\n",
       "var notebookContainer = gd.closest('#notebook-container');\n",
       "if (notebookContainer) {{\n",
       "    x.observe(notebookContainer, {childList: true});\n",
       "}}\n",
       "\n",
       "// Listen for the clearing of the current output cell\n",
       "var outputEl = gd.closest('.output');\n",
       "if (outputEl) {{\n",
       "    x.observe(outputEl, {childList: true});\n",
       "}}\n",
       "\n",
       "                        })                };                });            </script>        </div>"
      ]
     },
     "metadata": {},
     "output_type": "display_data"
    }
   ],
   "source": [
    "# Spread for columns A and B. it gives line plot and spread of columns A and B(spread btwn 2 stocks)\n",
    "\n",
    "df[['A','B']].iplot(kind='spread')"
   ]
  },
  {
   "cell_type": "markdown",
   "id": "dc52938b",
   "metadata": {},
   "source": [
    "#Bubble plot: similar to scatter plot except size of marker is based off another column: used in world GDP, United Nations report,populations etc"
   ]
  },
  {
   "cell_type": "code",
   "execution_count": 28,
   "id": "cc3c0ba2",
   "metadata": {},
   "outputs": [
    {
     "data": {
      "application/vnd.plotly.v1+json": {
       "config": {
        "linkText": "Export to plot.ly",
        "plotlyServerURL": "https://plot.ly",
        "showLink": true
       },
       "data": [
        {
         "marker": {
          "color": [
           "rgb(255, 153, 51)",
           "rgb(55, 128, 191)",
           "rgb(50, 171, 96)",
           "rgb(128, 0, 128)",
           "rgb(219, 64, 82)",
           "rgb(0, 128, 128)",
           "rgb(255, 255, 51)",
           "rgb(128, 128, 0)",
           "rgb(251, 128, 114)",
           "rgb(128, 177, 211)"
          ],
          "line": {
           "width": 1.3
          },
          "size": [
           81,
           72,
           82,
           80,
           93,
           81,
           82,
           54,
           96,
           90,
           63,
           55,
           49,
           49,
           67,
           78,
           52,
           36,
           12,
           72,
           75,
           33,
           64,
           79,
           37,
           59,
           95,
           77,
           56,
           52,
           79,
           48,
           74,
           80,
           75,
           52,
           58,
           45,
           44,
           88,
           48,
           34,
           74,
           95,
           12,
           67,
           63,
           44,
           68,
           63,
           97,
           71,
           74,
           32,
           37,
           47,
           37,
           50,
           30,
           107,
           85,
           85,
           53,
           31,
           69,
           28,
           59,
           82,
           65,
           82,
           51,
           58,
           55,
           41,
           54,
           80,
           71,
           64,
           74,
           71,
           61,
           65,
           91,
           60,
           83,
           13,
           68,
           50,
           67,
           64,
           44,
           81,
           69,
           65,
           65,
           70,
           70,
           112,
           82,
           68
          ],
          "symbol": "circle"
         },
         "mode": "markers",
         "text": "",
         "type": "scatter",
         "x": [
          -0.7156901301506218,
          -2.4644340092683623,
          -0.5020478490356647,
          0.18831575059229694,
          -0.9395232600804589,
          0.6370608619021374,
          0.3181842436496653,
          -1.925815864693647,
          -1.601490197748081,
          0.7504852699910404,
          0.34651704071887407,
          -0.3782613877092965,
          0.50360062282216,
          1.1783072011157854,
          -0.39512918539645014,
          -0.27615642716525757,
          -0.6955150924719622,
          0.22125184868079706,
          0.3468389819905759,
          -1.417697236866669,
          1.115510266869824,
          -0.19740429399545154,
          -2.464841424106378,
          -0.8367326516922796,
          -1.784665752306031,
          -0.22786206228857037,
          -0.05747200108715722,
          -0.2582444417187888,
          -0.5840818609797201,
          -0.6447426754570369,
          -0.7890790059168368,
          0.23016315567803003,
          -1.267679972953894,
          0.11816464469909889,
          0.53265482704174,
          -1.2698235619164742,
          -1.8768988863675784,
          -0.9104585436306738,
          0.5197942871049583,
          -1.1344331642903294,
          0.992329649408986,
          -0.23854074055432464,
          -0.1930210849793099,
          0.6095404688520194,
          -1.232825526706406,
          -1.5328054495473706,
          0.3036487187896314,
          -0.2579415954354775,
          -0.28408823698571445,
          0.31097652201661435,
          0.5365134318194574,
          -0.2523997745954963,
          -0.22895996185521222,
          1.7212536262694407,
          0.220474283657124,
          -2.2021749191469557,
          -0.8986508298431952,
          -0.3221635884228591,
          -0.40414847758021716,
          -0.5652901674053412,
          1.0766577310137808,
          0.5349076975629776,
          0.23762680428485808,
          -1.7126244683313148,
          -0.5928398888471055,
          -1.4949122694654595,
          -1.1661099302510365,
          0.46297332937027735,
          -1.3945134376948467,
          -0.3869679733820751,
          -0.9624273069822818,
          -1.2765077481404117,
          -0.8586057990186773,
          -1.3617817621094965,
          0.5289027802019703,
          0.6103126439405477,
          0.9832256017665594,
          0.5128656072910021,
          -0.4379259719293449,
          -0.6556385330952424,
          0.14179110527076172,
          -0.01073393938291526,
          0.5485346127017294,
          1.2238687868347427,
          1.3552631701641884,
          -0.679197152670297,
          1.4246054066122478,
          0.37843614621800514,
          -0.33839561042916416,
          0.595800624621955,
          0.2134554912461374,
          1.115174003760538,
          0.8652782710066977,
          0.3619724278187933,
          -0.9215434485902071,
          0.8922369823809136,
          -0.21678248120535829,
          -0.688812085998554,
          0.4169838531764566,
          0.2484314725645371
         ],
         "y": [
          -0.6513797764818611,
          0.5244019427590942,
          -1.1744674888572253,
          0.43368191568401226,
          0.899497260401665,
          -1.1445625650980764,
          0.07099522324692333,
          0.04362068821287567,
          -0.8160348335399022,
          0.1626016136310631,
          -0.7298670162319529,
          0.6713855417304806,
          -0.4897210754965677,
          -0.48252481799299574,
          -1.3139286582223493,
          0.9707580321863382,
          -1.1464067098017479,
          -1.6598898005122826,
          0.23742605508299555,
          2.6643609903481145,
          0.22610339598619442,
          0.6649669769165972,
          0.9281709465845623,
          0.9791321813439632,
          0.8762934680617513,
          -0.28943460277957755,
          -0.028190662231939393,
          0.2719755628483441,
          0.8570323675771371,
          -0.9874367202861509,
          1.1186820362029204,
          0.12441702071829709,
          -0.7566677889736816,
          0.5261667781482235,
          0.8229391933147238,
          1.0237625257527891,
          -1.1075967095024015,
          0.6989216003060206,
          0.4484205570752432,
          -0.26803786635302745,
          -0.6634160128961857,
          2.335734557413926,
          -1.434184074279899,
          0.2473602698192445,
          0.22238480469788974,
          -0.2677583598956593,
          0.2725413480059053,
          -0.8395778183942763,
          -0.661834594922329,
          -0.27007302620888896,
          -0.2474487320510582,
          -1.7686789507801906,
          -0.6927976504687269,
          -0.5679102310983882,
          -0.1715477136966996,
          -1.295629485531873,
          0.749114656046574,
          -0.4396779137233732,
          0.881864840173589,
          0.6699484712192457,
          -0.9865989035422554,
          0.8041516446982689,
          0.5708137463595715,
          -0.3544348711895968,
          -0.4411283148910683,
          -0.012678521787541109,
          -0.15374985521185416,
          1.0354303578331185,
          1.3043066720596153,
          -0.8746890120010864,
          0.08458332717612128,
          -0.8003519447971019,
          -0.6851446620945236,
          -1.1559883622724791,
          0.27707248332228673,
          1.4398769778179106,
          -1.574198276171295,
          -0.10824476202121064,
          -0.878756138704042,
          0.9528462091562935,
          0.36882014943302904,
          0.701962408764391,
          0.12515471481787668,
          0.9043374679657142,
          0.2254823419787821,
          0.4958042695863272,
          -0.5975032114557614,
          0.7257348296841276,
          0.4855953408620199,
          -3.3825219320437827,
          0.5322162490593761,
          0.05039546272046297,
          0.10839147887182421,
          -2.015338751110118,
          0.643382932891098,
          -0.8632757680204926,
          1.1845968063934953,
          -1.0762885247087823,
          -0.2673821262177926,
          0.6680121061201801
         ]
        }
       ],
       "layout": {
        "legend": {
         "bgcolor": "#F5F6F9",
         "font": {
          "color": "#4D5663"
         }
        },
        "paper_bgcolor": "#F5F6F9",
        "plot_bgcolor": "#F5F6F9",
        "template": {
         "data": {
          "bar": [
           {
            "error_x": {
             "color": "#2a3f5f"
            },
            "error_y": {
             "color": "#2a3f5f"
            },
            "marker": {
             "line": {
              "color": "#E5ECF6",
              "width": 0.5
             },
             "pattern": {
              "fillmode": "overlay",
              "size": 10,
              "solidity": 0.2
             }
            },
            "type": "bar"
           }
          ],
          "barpolar": [
           {
            "marker": {
             "line": {
              "color": "#E5ECF6",
              "width": 0.5
             },
             "pattern": {
              "fillmode": "overlay",
              "size": 10,
              "solidity": 0.2
             }
            },
            "type": "barpolar"
           }
          ],
          "carpet": [
           {
            "aaxis": {
             "endlinecolor": "#2a3f5f",
             "gridcolor": "white",
             "linecolor": "white",
             "minorgridcolor": "white",
             "startlinecolor": "#2a3f5f"
            },
            "baxis": {
             "endlinecolor": "#2a3f5f",
             "gridcolor": "white",
             "linecolor": "white",
             "minorgridcolor": "white",
             "startlinecolor": "#2a3f5f"
            },
            "type": "carpet"
           }
          ],
          "choropleth": [
           {
            "colorbar": {
             "outlinewidth": 0,
             "ticks": ""
            },
            "type": "choropleth"
           }
          ],
          "contour": [
           {
            "colorbar": {
             "outlinewidth": 0,
             "ticks": ""
            },
            "colorscale": [
             [
              0,
              "#0d0887"
             ],
             [
              0.1111111111111111,
              "#46039f"
             ],
             [
              0.2222222222222222,
              "#7201a8"
             ],
             [
              0.3333333333333333,
              "#9c179e"
             ],
             [
              0.4444444444444444,
              "#bd3786"
             ],
             [
              0.5555555555555556,
              "#d8576b"
             ],
             [
              0.6666666666666666,
              "#ed7953"
             ],
             [
              0.7777777777777778,
              "#fb9f3a"
             ],
             [
              0.8888888888888888,
              "#fdca26"
             ],
             [
              1,
              "#f0f921"
             ]
            ],
            "type": "contour"
           }
          ],
          "contourcarpet": [
           {
            "colorbar": {
             "outlinewidth": 0,
             "ticks": ""
            },
            "type": "contourcarpet"
           }
          ],
          "heatmap": [
           {
            "colorbar": {
             "outlinewidth": 0,
             "ticks": ""
            },
            "colorscale": [
             [
              0,
              "#0d0887"
             ],
             [
              0.1111111111111111,
              "#46039f"
             ],
             [
              0.2222222222222222,
              "#7201a8"
             ],
             [
              0.3333333333333333,
              "#9c179e"
             ],
             [
              0.4444444444444444,
              "#bd3786"
             ],
             [
              0.5555555555555556,
              "#d8576b"
             ],
             [
              0.6666666666666666,
              "#ed7953"
             ],
             [
              0.7777777777777778,
              "#fb9f3a"
             ],
             [
              0.8888888888888888,
              "#fdca26"
             ],
             [
              1,
              "#f0f921"
             ]
            ],
            "type": "heatmap"
           }
          ],
          "heatmapgl": [
           {
            "colorbar": {
             "outlinewidth": 0,
             "ticks": ""
            },
            "colorscale": [
             [
              0,
              "#0d0887"
             ],
             [
              0.1111111111111111,
              "#46039f"
             ],
             [
              0.2222222222222222,
              "#7201a8"
             ],
             [
              0.3333333333333333,
              "#9c179e"
             ],
             [
              0.4444444444444444,
              "#bd3786"
             ],
             [
              0.5555555555555556,
              "#d8576b"
             ],
             [
              0.6666666666666666,
              "#ed7953"
             ],
             [
              0.7777777777777778,
              "#fb9f3a"
             ],
             [
              0.8888888888888888,
              "#fdca26"
             ],
             [
              1,
              "#f0f921"
             ]
            ],
            "type": "heatmapgl"
           }
          ],
          "histogram": [
           {
            "marker": {
             "pattern": {
              "fillmode": "overlay",
              "size": 10,
              "solidity": 0.2
             }
            },
            "type": "histogram"
           }
          ],
          "histogram2d": [
           {
            "colorbar": {
             "outlinewidth": 0,
             "ticks": ""
            },
            "colorscale": [
             [
              0,
              "#0d0887"
             ],
             [
              0.1111111111111111,
              "#46039f"
             ],
             [
              0.2222222222222222,
              "#7201a8"
             ],
             [
              0.3333333333333333,
              "#9c179e"
             ],
             [
              0.4444444444444444,
              "#bd3786"
             ],
             [
              0.5555555555555556,
              "#d8576b"
             ],
             [
              0.6666666666666666,
              "#ed7953"
             ],
             [
              0.7777777777777778,
              "#fb9f3a"
             ],
             [
              0.8888888888888888,
              "#fdca26"
             ],
             [
              1,
              "#f0f921"
             ]
            ],
            "type": "histogram2d"
           }
          ],
          "histogram2dcontour": [
           {
            "colorbar": {
             "outlinewidth": 0,
             "ticks": ""
            },
            "colorscale": [
             [
              0,
              "#0d0887"
             ],
             [
              0.1111111111111111,
              "#46039f"
             ],
             [
              0.2222222222222222,
              "#7201a8"
             ],
             [
              0.3333333333333333,
              "#9c179e"
             ],
             [
              0.4444444444444444,
              "#bd3786"
             ],
             [
              0.5555555555555556,
              "#d8576b"
             ],
             [
              0.6666666666666666,
              "#ed7953"
             ],
             [
              0.7777777777777778,
              "#fb9f3a"
             ],
             [
              0.8888888888888888,
              "#fdca26"
             ],
             [
              1,
              "#f0f921"
             ]
            ],
            "type": "histogram2dcontour"
           }
          ],
          "mesh3d": [
           {
            "colorbar": {
             "outlinewidth": 0,
             "ticks": ""
            },
            "type": "mesh3d"
           }
          ],
          "parcoords": [
           {
            "line": {
             "colorbar": {
              "outlinewidth": 0,
              "ticks": ""
             }
            },
            "type": "parcoords"
           }
          ],
          "pie": [
           {
            "automargin": true,
            "type": "pie"
           }
          ],
          "scatter": [
           {
            "marker": {
             "colorbar": {
              "outlinewidth": 0,
              "ticks": ""
             }
            },
            "type": "scatter"
           }
          ],
          "scatter3d": [
           {
            "line": {
             "colorbar": {
              "outlinewidth": 0,
              "ticks": ""
             }
            },
            "marker": {
             "colorbar": {
              "outlinewidth": 0,
              "ticks": ""
             }
            },
            "type": "scatter3d"
           }
          ],
          "scattercarpet": [
           {
            "marker": {
             "colorbar": {
              "outlinewidth": 0,
              "ticks": ""
             }
            },
            "type": "scattercarpet"
           }
          ],
          "scattergeo": [
           {
            "marker": {
             "colorbar": {
              "outlinewidth": 0,
              "ticks": ""
             }
            },
            "type": "scattergeo"
           }
          ],
          "scattergl": [
           {
            "marker": {
             "colorbar": {
              "outlinewidth": 0,
              "ticks": ""
             }
            },
            "type": "scattergl"
           }
          ],
          "scattermapbox": [
           {
            "marker": {
             "colorbar": {
              "outlinewidth": 0,
              "ticks": ""
             }
            },
            "type": "scattermapbox"
           }
          ],
          "scatterpolar": [
           {
            "marker": {
             "colorbar": {
              "outlinewidth": 0,
              "ticks": ""
             }
            },
            "type": "scatterpolar"
           }
          ],
          "scatterpolargl": [
           {
            "marker": {
             "colorbar": {
              "outlinewidth": 0,
              "ticks": ""
             }
            },
            "type": "scatterpolargl"
           }
          ],
          "scatterternary": [
           {
            "marker": {
             "colorbar": {
              "outlinewidth": 0,
              "ticks": ""
             }
            },
            "type": "scatterternary"
           }
          ],
          "surface": [
           {
            "colorbar": {
             "outlinewidth": 0,
             "ticks": ""
            },
            "colorscale": [
             [
              0,
              "#0d0887"
             ],
             [
              0.1111111111111111,
              "#46039f"
             ],
             [
              0.2222222222222222,
              "#7201a8"
             ],
             [
              0.3333333333333333,
              "#9c179e"
             ],
             [
              0.4444444444444444,
              "#bd3786"
             ],
             [
              0.5555555555555556,
              "#d8576b"
             ],
             [
              0.6666666666666666,
              "#ed7953"
             ],
             [
              0.7777777777777778,
              "#fb9f3a"
             ],
             [
              0.8888888888888888,
              "#fdca26"
             ],
             [
              1,
              "#f0f921"
             ]
            ],
            "type": "surface"
           }
          ],
          "table": [
           {
            "cells": {
             "fill": {
              "color": "#EBF0F8"
             },
             "line": {
              "color": "white"
             }
            },
            "header": {
             "fill": {
              "color": "#C8D4E3"
             },
             "line": {
              "color": "white"
             }
            },
            "type": "table"
           }
          ]
         },
         "layout": {
          "annotationdefaults": {
           "arrowcolor": "#2a3f5f",
           "arrowhead": 0,
           "arrowwidth": 1
          },
          "autotypenumbers": "strict",
          "coloraxis": {
           "colorbar": {
            "outlinewidth": 0,
            "ticks": ""
           }
          },
          "colorscale": {
           "diverging": [
            [
             0,
             "#8e0152"
            ],
            [
             0.1,
             "#c51b7d"
            ],
            [
             0.2,
             "#de77ae"
            ],
            [
             0.3,
             "#f1b6da"
            ],
            [
             0.4,
             "#fde0ef"
            ],
            [
             0.5,
             "#f7f7f7"
            ],
            [
             0.6,
             "#e6f5d0"
            ],
            [
             0.7,
             "#b8e186"
            ],
            [
             0.8,
             "#7fbc41"
            ],
            [
             0.9,
             "#4d9221"
            ],
            [
             1,
             "#276419"
            ]
           ],
           "sequential": [
            [
             0,
             "#0d0887"
            ],
            [
             0.1111111111111111,
             "#46039f"
            ],
            [
             0.2222222222222222,
             "#7201a8"
            ],
            [
             0.3333333333333333,
             "#9c179e"
            ],
            [
             0.4444444444444444,
             "#bd3786"
            ],
            [
             0.5555555555555556,
             "#d8576b"
            ],
            [
             0.6666666666666666,
             "#ed7953"
            ],
            [
             0.7777777777777778,
             "#fb9f3a"
            ],
            [
             0.8888888888888888,
             "#fdca26"
            ],
            [
             1,
             "#f0f921"
            ]
           ],
           "sequentialminus": [
            [
             0,
             "#0d0887"
            ],
            [
             0.1111111111111111,
             "#46039f"
            ],
            [
             0.2222222222222222,
             "#7201a8"
            ],
            [
             0.3333333333333333,
             "#9c179e"
            ],
            [
             0.4444444444444444,
             "#bd3786"
            ],
            [
             0.5555555555555556,
             "#d8576b"
            ],
            [
             0.6666666666666666,
             "#ed7953"
            ],
            [
             0.7777777777777778,
             "#fb9f3a"
            ],
            [
             0.8888888888888888,
             "#fdca26"
            ],
            [
             1,
             "#f0f921"
            ]
           ]
          },
          "colorway": [
           "#636efa",
           "#EF553B",
           "#00cc96",
           "#ab63fa",
           "#FFA15A",
           "#19d3f3",
           "#FF6692",
           "#B6E880",
           "#FF97FF",
           "#FECB52"
          ],
          "font": {
           "color": "#2a3f5f"
          },
          "geo": {
           "bgcolor": "white",
           "lakecolor": "white",
           "landcolor": "#E5ECF6",
           "showlakes": true,
           "showland": true,
           "subunitcolor": "white"
          },
          "hoverlabel": {
           "align": "left"
          },
          "hovermode": "closest",
          "mapbox": {
           "style": "light"
          },
          "paper_bgcolor": "white",
          "plot_bgcolor": "#E5ECF6",
          "polar": {
           "angularaxis": {
            "gridcolor": "white",
            "linecolor": "white",
            "ticks": ""
           },
           "bgcolor": "#E5ECF6",
           "radialaxis": {
            "gridcolor": "white",
            "linecolor": "white",
            "ticks": ""
           }
          },
          "scene": {
           "xaxis": {
            "backgroundcolor": "#E5ECF6",
            "gridcolor": "white",
            "gridwidth": 2,
            "linecolor": "white",
            "showbackground": true,
            "ticks": "",
            "zerolinecolor": "white"
           },
           "yaxis": {
            "backgroundcolor": "#E5ECF6",
            "gridcolor": "white",
            "gridwidth": 2,
            "linecolor": "white",
            "showbackground": true,
            "ticks": "",
            "zerolinecolor": "white"
           },
           "zaxis": {
            "backgroundcolor": "#E5ECF6",
            "gridcolor": "white",
            "gridwidth": 2,
            "linecolor": "white",
            "showbackground": true,
            "ticks": "",
            "zerolinecolor": "white"
           }
          },
          "shapedefaults": {
           "line": {
            "color": "#2a3f5f"
           }
          },
          "ternary": {
           "aaxis": {
            "gridcolor": "white",
            "linecolor": "white",
            "ticks": ""
           },
           "baxis": {
            "gridcolor": "white",
            "linecolor": "white",
            "ticks": ""
           },
           "bgcolor": "#E5ECF6",
           "caxis": {
            "gridcolor": "white",
            "linecolor": "white",
            "ticks": ""
           }
          },
          "title": {
           "x": 0.05
          },
          "xaxis": {
           "automargin": true,
           "gridcolor": "white",
           "linecolor": "white",
           "ticks": "",
           "title": {
            "standoff": 15
           },
           "zerolinecolor": "white",
           "zerolinewidth": 2
          },
          "yaxis": {
           "automargin": true,
           "gridcolor": "white",
           "linecolor": "white",
           "ticks": "",
           "title": {
            "standoff": 15
           },
           "zerolinecolor": "white",
           "zerolinewidth": 2
          }
         }
        },
        "title": {
         "font": {
          "color": "#4D5663"
         }
        },
        "xaxis": {
         "gridcolor": "#E1E5ED",
         "showgrid": true,
         "tickfont": {
          "color": "#4D5663"
         },
         "title": {
          "font": {
           "color": "#4D5663"
          },
          "text": ""
         },
         "zerolinecolor": "#E1E5ED"
        },
        "yaxis": {
         "gridcolor": "#E1E5ED",
         "showgrid": true,
         "tickfont": {
          "color": "#4D5663"
         },
         "title": {
          "font": {
           "color": "#4D5663"
          },
          "text": ""
         },
         "zerolinecolor": "#E1E5ED"
        }
       }
      },
      "text/html": [
       "<div>                            <div id=\"84af1b05-7f49-4c90-b97e-7edc09876827\" class=\"plotly-graph-div\" style=\"height:525px; width:100%;\"></div>            <script type=\"text/javascript\">                require([\"plotly\"], function(Plotly) {                    window.PLOTLYENV=window.PLOTLYENV || {};\n",
       "                    window.PLOTLYENV.BASE_URL='https://plot.ly';                                    if (document.getElementById(\"84af1b05-7f49-4c90-b97e-7edc09876827\")) {                    Plotly.newPlot(                        \"84af1b05-7f49-4c90-b97e-7edc09876827\",                        [{\"marker\":{\"color\":[\"rgb(255, 153, 51)\",\"rgb(55, 128, 191)\",\"rgb(50, 171, 96)\",\"rgb(128, 0, 128)\",\"rgb(219, 64, 82)\",\"rgb(0, 128, 128)\",\"rgb(255, 255, 51)\",\"rgb(128, 128, 0)\",\"rgb(251, 128, 114)\",\"rgb(128, 177, 211)\"],\"line\":{\"width\":1.3},\"size\":[81,72,82,80,93,81,82,54,96,90,63,55,49,49,67,78,52,36,12,72,75,33,64,79,37,59,95,77,56,52,79,48,74,80,75,52,58,45,44,88,48,34,74,95,12,67,63,44,68,63,97,71,74,32,37,47,37,50,30,107,85,85,53,31,69,28,59,82,65,82,51,58,55,41,54,80,71,64,74,71,61,65,91,60,83,13,68,50,67,64,44,81,69,65,65,70,70,112,82,68],\"symbol\":\"circle\"},\"mode\":\"markers\",\"text\":\"\",\"x\":[-0.7156901301506218,-2.4644340092683623,-0.5020478490356647,0.18831575059229694,-0.9395232600804589,0.6370608619021374,0.3181842436496653,-1.925815864693647,-1.601490197748081,0.7504852699910404,0.34651704071887407,-0.3782613877092965,0.50360062282216,1.1783072011157854,-0.39512918539645014,-0.27615642716525757,-0.6955150924719622,0.22125184868079706,0.3468389819905759,-1.417697236866669,1.115510266869824,-0.19740429399545154,-2.464841424106378,-0.8367326516922796,-1.784665752306031,-0.22786206228857037,-0.05747200108715722,-0.2582444417187888,-0.5840818609797201,-0.6447426754570369,-0.7890790059168368,0.23016315567803003,-1.267679972953894,0.11816464469909889,0.53265482704174,-1.2698235619164742,-1.8768988863675784,-0.9104585436306738,0.5197942871049583,-1.1344331642903294,0.992329649408986,-0.23854074055432464,-0.1930210849793099,0.6095404688520194,-1.232825526706406,-1.5328054495473706,0.3036487187896314,-0.2579415954354775,-0.28408823698571445,0.31097652201661435,0.5365134318194574,-0.2523997745954963,-0.22895996185521222,1.7212536262694407,0.220474283657124,-2.2021749191469557,-0.8986508298431952,-0.3221635884228591,-0.40414847758021716,-0.5652901674053412,1.0766577310137808,0.5349076975629776,0.23762680428485808,-1.7126244683313148,-0.5928398888471055,-1.4949122694654595,-1.1661099302510365,0.46297332937027735,-1.3945134376948467,-0.3869679733820751,-0.9624273069822818,-1.2765077481404117,-0.8586057990186773,-1.3617817621094965,0.5289027802019703,0.6103126439405477,0.9832256017665594,0.5128656072910021,-0.4379259719293449,-0.6556385330952424,0.14179110527076172,-0.01073393938291526,0.5485346127017294,1.2238687868347427,1.3552631701641884,-0.679197152670297,1.4246054066122478,0.37843614621800514,-0.33839561042916416,0.595800624621955,0.2134554912461374,1.115174003760538,0.8652782710066977,0.3619724278187933,-0.9215434485902071,0.8922369823809136,-0.21678248120535829,-0.688812085998554,0.4169838531764566,0.2484314725645371],\"y\":[-0.6513797764818611,0.5244019427590942,-1.1744674888572253,0.43368191568401226,0.899497260401665,-1.1445625650980764,0.07099522324692333,0.04362068821287567,-0.8160348335399022,0.1626016136310631,-0.7298670162319529,0.6713855417304806,-0.4897210754965677,-0.48252481799299574,-1.3139286582223493,0.9707580321863382,-1.1464067098017479,-1.6598898005122826,0.23742605508299555,2.6643609903481145,0.22610339598619442,0.6649669769165972,0.9281709465845623,0.9791321813439632,0.8762934680617513,-0.28943460277957755,-0.028190662231939393,0.2719755628483441,0.8570323675771371,-0.9874367202861509,1.1186820362029204,0.12441702071829709,-0.7566677889736816,0.5261667781482235,0.8229391933147238,1.0237625257527891,-1.1075967095024015,0.6989216003060206,0.4484205570752432,-0.26803786635302745,-0.6634160128961857,2.335734557413926,-1.434184074279899,0.2473602698192445,0.22238480469788974,-0.2677583598956593,0.2725413480059053,-0.8395778183942763,-0.661834594922329,-0.27007302620888896,-0.2474487320510582,-1.7686789507801906,-0.6927976504687269,-0.5679102310983882,-0.1715477136966996,-1.295629485531873,0.749114656046574,-0.4396779137233732,0.881864840173589,0.6699484712192457,-0.9865989035422554,0.8041516446982689,0.5708137463595715,-0.3544348711895968,-0.4411283148910683,-0.012678521787541109,-0.15374985521185416,1.0354303578331185,1.3043066720596153,-0.8746890120010864,0.08458332717612128,-0.8003519447971019,-0.6851446620945236,-1.1559883622724791,0.27707248332228673,1.4398769778179106,-1.574198276171295,-0.10824476202121064,-0.878756138704042,0.9528462091562935,0.36882014943302904,0.701962408764391,0.12515471481787668,0.9043374679657142,0.2254823419787821,0.4958042695863272,-0.5975032114557614,0.7257348296841276,0.4855953408620199,-3.3825219320437827,0.5322162490593761,0.05039546272046297,0.10839147887182421,-2.015338751110118,0.643382932891098,-0.8632757680204926,1.1845968063934953,-1.0762885247087823,-0.2673821262177926,0.6680121061201801],\"type\":\"scatter\"}],                        {\"legend\":{\"bgcolor\":\"#F5F6F9\",\"font\":{\"color\":\"#4D5663\"}},\"paper_bgcolor\":\"#F5F6F9\",\"plot_bgcolor\":\"#F5F6F9\",\"template\":{\"data\":{\"barpolar\":[{\"marker\":{\"line\":{\"color\":\"#E5ECF6\",\"width\":0.5},\"pattern\":{\"fillmode\":\"overlay\",\"size\":10,\"solidity\":0.2}},\"type\":\"barpolar\"}],\"bar\":[{\"error_x\":{\"color\":\"#2a3f5f\"},\"error_y\":{\"color\":\"#2a3f5f\"},\"marker\":{\"line\":{\"color\":\"#E5ECF6\",\"width\":0.5},\"pattern\":{\"fillmode\":\"overlay\",\"size\":10,\"solidity\":0.2}},\"type\":\"bar\"}],\"carpet\":[{\"aaxis\":{\"endlinecolor\":\"#2a3f5f\",\"gridcolor\":\"white\",\"linecolor\":\"white\",\"minorgridcolor\":\"white\",\"startlinecolor\":\"#2a3f5f\"},\"baxis\":{\"endlinecolor\":\"#2a3f5f\",\"gridcolor\":\"white\",\"linecolor\":\"white\",\"minorgridcolor\":\"white\",\"startlinecolor\":\"#2a3f5f\"},\"type\":\"carpet\"}],\"choropleth\":[{\"colorbar\":{\"outlinewidth\":0,\"ticks\":\"\"},\"type\":\"choropleth\"}],\"contourcarpet\":[{\"colorbar\":{\"outlinewidth\":0,\"ticks\":\"\"},\"type\":\"contourcarpet\"}],\"contour\":[{\"colorbar\":{\"outlinewidth\":0,\"ticks\":\"\"},\"colorscale\":[[0.0,\"#0d0887\"],[0.1111111111111111,\"#46039f\"],[0.2222222222222222,\"#7201a8\"],[0.3333333333333333,\"#9c179e\"],[0.4444444444444444,\"#bd3786\"],[0.5555555555555556,\"#d8576b\"],[0.6666666666666666,\"#ed7953\"],[0.7777777777777778,\"#fb9f3a\"],[0.8888888888888888,\"#fdca26\"],[1.0,\"#f0f921\"]],\"type\":\"contour\"}],\"heatmapgl\":[{\"colorbar\":{\"outlinewidth\":0,\"ticks\":\"\"},\"colorscale\":[[0.0,\"#0d0887\"],[0.1111111111111111,\"#46039f\"],[0.2222222222222222,\"#7201a8\"],[0.3333333333333333,\"#9c179e\"],[0.4444444444444444,\"#bd3786\"],[0.5555555555555556,\"#d8576b\"],[0.6666666666666666,\"#ed7953\"],[0.7777777777777778,\"#fb9f3a\"],[0.8888888888888888,\"#fdca26\"],[1.0,\"#f0f921\"]],\"type\":\"heatmapgl\"}],\"heatmap\":[{\"colorbar\":{\"outlinewidth\":0,\"ticks\":\"\"},\"colorscale\":[[0.0,\"#0d0887\"],[0.1111111111111111,\"#46039f\"],[0.2222222222222222,\"#7201a8\"],[0.3333333333333333,\"#9c179e\"],[0.4444444444444444,\"#bd3786\"],[0.5555555555555556,\"#d8576b\"],[0.6666666666666666,\"#ed7953\"],[0.7777777777777778,\"#fb9f3a\"],[0.8888888888888888,\"#fdca26\"],[1.0,\"#f0f921\"]],\"type\":\"heatmap\"}],\"histogram2dcontour\":[{\"colorbar\":{\"outlinewidth\":0,\"ticks\":\"\"},\"colorscale\":[[0.0,\"#0d0887\"],[0.1111111111111111,\"#46039f\"],[0.2222222222222222,\"#7201a8\"],[0.3333333333333333,\"#9c179e\"],[0.4444444444444444,\"#bd3786\"],[0.5555555555555556,\"#d8576b\"],[0.6666666666666666,\"#ed7953\"],[0.7777777777777778,\"#fb9f3a\"],[0.8888888888888888,\"#fdca26\"],[1.0,\"#f0f921\"]],\"type\":\"histogram2dcontour\"}],\"histogram2d\":[{\"colorbar\":{\"outlinewidth\":0,\"ticks\":\"\"},\"colorscale\":[[0.0,\"#0d0887\"],[0.1111111111111111,\"#46039f\"],[0.2222222222222222,\"#7201a8\"],[0.3333333333333333,\"#9c179e\"],[0.4444444444444444,\"#bd3786\"],[0.5555555555555556,\"#d8576b\"],[0.6666666666666666,\"#ed7953\"],[0.7777777777777778,\"#fb9f3a\"],[0.8888888888888888,\"#fdca26\"],[1.0,\"#f0f921\"]],\"type\":\"histogram2d\"}],\"histogram\":[{\"marker\":{\"pattern\":{\"fillmode\":\"overlay\",\"size\":10,\"solidity\":0.2}},\"type\":\"histogram\"}],\"mesh3d\":[{\"colorbar\":{\"outlinewidth\":0,\"ticks\":\"\"},\"type\":\"mesh3d\"}],\"parcoords\":[{\"line\":{\"colorbar\":{\"outlinewidth\":0,\"ticks\":\"\"}},\"type\":\"parcoords\"}],\"pie\":[{\"automargin\":true,\"type\":\"pie\"}],\"scatter3d\":[{\"line\":{\"colorbar\":{\"outlinewidth\":0,\"ticks\":\"\"}},\"marker\":{\"colorbar\":{\"outlinewidth\":0,\"ticks\":\"\"}},\"type\":\"scatter3d\"}],\"scattercarpet\":[{\"marker\":{\"colorbar\":{\"outlinewidth\":0,\"ticks\":\"\"}},\"type\":\"scattercarpet\"}],\"scattergeo\":[{\"marker\":{\"colorbar\":{\"outlinewidth\":0,\"ticks\":\"\"}},\"type\":\"scattergeo\"}],\"scattergl\":[{\"marker\":{\"colorbar\":{\"outlinewidth\":0,\"ticks\":\"\"}},\"type\":\"scattergl\"}],\"scattermapbox\":[{\"marker\":{\"colorbar\":{\"outlinewidth\":0,\"ticks\":\"\"}},\"type\":\"scattermapbox\"}],\"scatterpolargl\":[{\"marker\":{\"colorbar\":{\"outlinewidth\":0,\"ticks\":\"\"}},\"type\":\"scatterpolargl\"}],\"scatterpolar\":[{\"marker\":{\"colorbar\":{\"outlinewidth\":0,\"ticks\":\"\"}},\"type\":\"scatterpolar\"}],\"scatter\":[{\"marker\":{\"colorbar\":{\"outlinewidth\":0,\"ticks\":\"\"}},\"type\":\"scatter\"}],\"scatterternary\":[{\"marker\":{\"colorbar\":{\"outlinewidth\":0,\"ticks\":\"\"}},\"type\":\"scatterternary\"}],\"surface\":[{\"colorbar\":{\"outlinewidth\":0,\"ticks\":\"\"},\"colorscale\":[[0.0,\"#0d0887\"],[0.1111111111111111,\"#46039f\"],[0.2222222222222222,\"#7201a8\"],[0.3333333333333333,\"#9c179e\"],[0.4444444444444444,\"#bd3786\"],[0.5555555555555556,\"#d8576b\"],[0.6666666666666666,\"#ed7953\"],[0.7777777777777778,\"#fb9f3a\"],[0.8888888888888888,\"#fdca26\"],[1.0,\"#f0f921\"]],\"type\":\"surface\"}],\"table\":[{\"cells\":{\"fill\":{\"color\":\"#EBF0F8\"},\"line\":{\"color\":\"white\"}},\"header\":{\"fill\":{\"color\":\"#C8D4E3\"},\"line\":{\"color\":\"white\"}},\"type\":\"table\"}]},\"layout\":{\"annotationdefaults\":{\"arrowcolor\":\"#2a3f5f\",\"arrowhead\":0,\"arrowwidth\":1},\"autotypenumbers\":\"strict\",\"coloraxis\":{\"colorbar\":{\"outlinewidth\":0,\"ticks\":\"\"}},\"colorscale\":{\"diverging\":[[0,\"#8e0152\"],[0.1,\"#c51b7d\"],[0.2,\"#de77ae\"],[0.3,\"#f1b6da\"],[0.4,\"#fde0ef\"],[0.5,\"#f7f7f7\"],[0.6,\"#e6f5d0\"],[0.7,\"#b8e186\"],[0.8,\"#7fbc41\"],[0.9,\"#4d9221\"],[1,\"#276419\"]],\"sequential\":[[0.0,\"#0d0887\"],[0.1111111111111111,\"#46039f\"],[0.2222222222222222,\"#7201a8\"],[0.3333333333333333,\"#9c179e\"],[0.4444444444444444,\"#bd3786\"],[0.5555555555555556,\"#d8576b\"],[0.6666666666666666,\"#ed7953\"],[0.7777777777777778,\"#fb9f3a\"],[0.8888888888888888,\"#fdca26\"],[1.0,\"#f0f921\"]],\"sequentialminus\":[[0.0,\"#0d0887\"],[0.1111111111111111,\"#46039f\"],[0.2222222222222222,\"#7201a8\"],[0.3333333333333333,\"#9c179e\"],[0.4444444444444444,\"#bd3786\"],[0.5555555555555556,\"#d8576b\"],[0.6666666666666666,\"#ed7953\"],[0.7777777777777778,\"#fb9f3a\"],[0.8888888888888888,\"#fdca26\"],[1.0,\"#f0f921\"]]},\"colorway\":[\"#636efa\",\"#EF553B\",\"#00cc96\",\"#ab63fa\",\"#FFA15A\",\"#19d3f3\",\"#FF6692\",\"#B6E880\",\"#FF97FF\",\"#FECB52\"],\"font\":{\"color\":\"#2a3f5f\"},\"geo\":{\"bgcolor\":\"white\",\"lakecolor\":\"white\",\"landcolor\":\"#E5ECF6\",\"showlakes\":true,\"showland\":true,\"subunitcolor\":\"white\"},\"hoverlabel\":{\"align\":\"left\"},\"hovermode\":\"closest\",\"mapbox\":{\"style\":\"light\"},\"paper_bgcolor\":\"white\",\"plot_bgcolor\":\"#E5ECF6\",\"polar\":{\"angularaxis\":{\"gridcolor\":\"white\",\"linecolor\":\"white\",\"ticks\":\"\"},\"bgcolor\":\"#E5ECF6\",\"radialaxis\":{\"gridcolor\":\"white\",\"linecolor\":\"white\",\"ticks\":\"\"}},\"scene\":{\"xaxis\":{\"backgroundcolor\":\"#E5ECF6\",\"gridcolor\":\"white\",\"gridwidth\":2,\"linecolor\":\"white\",\"showbackground\":true,\"ticks\":\"\",\"zerolinecolor\":\"white\"},\"yaxis\":{\"backgroundcolor\":\"#E5ECF6\",\"gridcolor\":\"white\",\"gridwidth\":2,\"linecolor\":\"white\",\"showbackground\":true,\"ticks\":\"\",\"zerolinecolor\":\"white\"},\"zaxis\":{\"backgroundcolor\":\"#E5ECF6\",\"gridcolor\":\"white\",\"gridwidth\":2,\"linecolor\":\"white\",\"showbackground\":true,\"ticks\":\"\",\"zerolinecolor\":\"white\"}},\"shapedefaults\":{\"line\":{\"color\":\"#2a3f5f\"}},\"ternary\":{\"aaxis\":{\"gridcolor\":\"white\",\"linecolor\":\"white\",\"ticks\":\"\"},\"baxis\":{\"gridcolor\":\"white\",\"linecolor\":\"white\",\"ticks\":\"\"},\"bgcolor\":\"#E5ECF6\",\"caxis\":{\"gridcolor\":\"white\",\"linecolor\":\"white\",\"ticks\":\"\"}},\"title\":{\"x\":0.05},\"xaxis\":{\"automargin\":true,\"gridcolor\":\"white\",\"linecolor\":\"white\",\"ticks\":\"\",\"title\":{\"standoff\":15},\"zerolinecolor\":\"white\",\"zerolinewidth\":2},\"yaxis\":{\"automargin\":true,\"gridcolor\":\"white\",\"linecolor\":\"white\",\"ticks\":\"\",\"title\":{\"standoff\":15},\"zerolinecolor\":\"white\",\"zerolinewidth\":2}}},\"title\":{\"font\":{\"color\":\"#4D5663\"}},\"xaxis\":{\"gridcolor\":\"#E1E5ED\",\"showgrid\":true,\"tickfont\":{\"color\":\"#4D5663\"},\"title\":{\"font\":{\"color\":\"#4D5663\"},\"text\":\"\"},\"zerolinecolor\":\"#E1E5ED\"},\"yaxis\":{\"gridcolor\":\"#E1E5ED\",\"showgrid\":true,\"tickfont\":{\"color\":\"#4D5663\"},\"title\":{\"font\":{\"color\":\"#4D5663\"},\"text\":\"\"},\"zerolinecolor\":\"#E1E5ED\"}},                        {\"showLink\": true, \"linkText\": \"Export to plot.ly\", \"plotlyServerURL\": \"https://plot.ly\", \"responsive\": true}                    ).then(function(){\n",
       "                            \n",
       "var gd = document.getElementById('84af1b05-7f49-4c90-b97e-7edc09876827');\n",
       "var x = new MutationObserver(function (mutations, observer) {{\n",
       "        var display = window.getComputedStyle(gd).display;\n",
       "        if (!display || display === 'none') {{\n",
       "            console.log([gd, 'removed!']);\n",
       "            Plotly.purge(gd);\n",
       "            observer.disconnect();\n",
       "        }}\n",
       "}});\n",
       "\n",
       "// Listen for the removal of the full notebook cells\n",
       "var notebookContainer = gd.closest('#notebook-container');\n",
       "if (notebookContainer) {{\n",
       "    x.observe(notebookContainer, {childList: true});\n",
       "}}\n",
       "\n",
       "// Listen for the clearing of the current output cell\n",
       "var outputEl = gd.closest('.output');\n",
       "if (outputEl) {{\n",
       "    x.observe(outputEl, {childList: true});\n",
       "}}\n",
       "\n",
       "                        })                };                });            </script>        </div>"
      ]
     },
     "metadata": {},
     "output_type": "display_data"
    }
   ],
   "source": [
    "#bubble iplot of columns A and B with size of column C\n",
    "\n",
    "df.iplot(kind='bubble',x='A',y='B',size='C')"
   ]
  },
  {
   "cell_type": "code",
   "execution_count": 29,
   "id": "cd9f61eb",
   "metadata": {},
   "outputs": [
    {
     "data": {
      "application/vnd.plotly.v1+json": {
       "config": {
        "linkText": "Export to plot.ly",
        "plotlyServerURL": "https://plot.ly",
        "showLink": true
       },
       "data": [
        {
         "histfunc": "count",
         "histnorm": "",
         "marker": {
          "color": "rgba(255, 153, 51, 1.0)",
          "line": {
           "color": "#4D5663",
           "width": 1.3
          }
         },
         "name": "A",
         "nbinsx": 10,
         "opacity": 0.8,
         "orientation": "v",
         "type": "histogram",
         "x": [
          -0.7156901301506218,
          -2.4644340092683623,
          -0.5020478490356647,
          0.18831575059229694,
          -0.9395232600804589,
          0.6370608619021374,
          0.3181842436496653,
          -1.925815864693647,
          -1.601490197748081,
          0.7504852699910404,
          0.34651704071887407,
          -0.3782613877092965,
          0.50360062282216,
          1.1783072011157854,
          -0.39512918539645014,
          -0.27615642716525757,
          -0.6955150924719622,
          0.22125184868079706,
          0.3468389819905759,
          -1.417697236866669,
          1.115510266869824,
          -0.19740429399545154,
          -2.464841424106378,
          -0.8367326516922796,
          -1.784665752306031,
          -0.22786206228857037,
          -0.05747200108715722,
          -0.2582444417187888,
          -0.5840818609797201,
          -0.6447426754570369,
          -0.7890790059168368,
          0.23016315567803003,
          -1.267679972953894,
          0.11816464469909889,
          0.53265482704174,
          -1.2698235619164742,
          -1.8768988863675784,
          -0.9104585436306738,
          0.5197942871049583,
          -1.1344331642903294,
          0.992329649408986,
          -0.23854074055432464,
          -0.1930210849793099,
          0.6095404688520194,
          -1.232825526706406,
          -1.5328054495473706,
          0.3036487187896314,
          -0.2579415954354775,
          -0.28408823698571445,
          0.31097652201661435,
          0.5365134318194574,
          -0.2523997745954963,
          -0.22895996185521222,
          1.7212536262694407,
          0.220474283657124,
          -2.2021749191469557,
          -0.8986508298431952,
          -0.3221635884228591,
          -0.40414847758021716,
          -0.5652901674053412,
          1.0766577310137808,
          0.5349076975629776,
          0.23762680428485808,
          -1.7126244683313148,
          -0.5928398888471055,
          -1.4949122694654595,
          -1.1661099302510365,
          0.46297332937027735,
          -1.3945134376948467,
          -0.3869679733820751,
          -0.9624273069822818,
          -1.2765077481404117,
          -0.8586057990186773,
          -1.3617817621094965,
          0.5289027802019703,
          0.6103126439405477,
          0.9832256017665594,
          0.5128656072910021,
          -0.4379259719293449,
          -0.6556385330952424,
          0.14179110527076172,
          -0.01073393938291526,
          0.5485346127017294,
          1.2238687868347427,
          1.3552631701641884,
          -0.679197152670297,
          1.4246054066122478,
          0.37843614621800514,
          -0.33839561042916416,
          0.595800624621955,
          0.2134554912461374,
          1.115174003760538,
          0.8652782710066977,
          0.3619724278187933,
          -0.9215434485902071,
          0.8922369823809136,
          -0.21678248120535829,
          -0.688812085998554,
          0.4169838531764566,
          0.2484314725645371
         ],
         "xaxis": "x",
         "yaxis": "y"
        },
        {
         "line": {
          "color": "rgba(128, 128, 128, 1.0)",
          "dash": "solid",
          "shape": "linear",
          "width": 1.3
         },
         "marker": {
          "size": 2,
          "symbol": "circle"
         },
         "mode": "markers",
         "name": "A",
         "text": "",
         "type": "scatter",
         "x": [
          -0.6513797764818611,
          0.5244019427590942,
          -1.1744674888572253,
          0.43368191568401226,
          0.899497260401665,
          -1.1445625650980764,
          0.07099522324692333,
          0.04362068821287567,
          -0.8160348335399022,
          0.1626016136310631,
          -0.7298670162319529,
          0.6713855417304806,
          -0.4897210754965677,
          -0.48252481799299574,
          -1.3139286582223493,
          0.9707580321863382,
          -1.1464067098017479,
          -1.6598898005122826,
          0.23742605508299555,
          2.6643609903481145,
          0.22610339598619442,
          0.6649669769165972,
          0.9281709465845623,
          0.9791321813439632,
          0.8762934680617513,
          -0.28943460277957755,
          -0.028190662231939393,
          0.2719755628483441,
          0.8570323675771371,
          -0.9874367202861509,
          1.1186820362029204,
          0.12441702071829709,
          -0.7566677889736816,
          0.5261667781482235,
          0.8229391933147238,
          1.0237625257527891,
          -1.1075967095024015,
          0.6989216003060206,
          0.4484205570752432,
          -0.26803786635302745,
          -0.6634160128961857,
          2.335734557413926,
          -1.434184074279899,
          0.2473602698192445,
          0.22238480469788974,
          -0.2677583598956593,
          0.2725413480059053,
          -0.8395778183942763,
          -0.661834594922329,
          -0.27007302620888896,
          -0.2474487320510582,
          -1.7686789507801906,
          -0.6927976504687269,
          -0.5679102310983882,
          -0.1715477136966996,
          -1.295629485531873,
          0.749114656046574,
          -0.4396779137233732,
          0.881864840173589,
          0.6699484712192457,
          -0.9865989035422554,
          0.8041516446982689,
          0.5708137463595715,
          -0.3544348711895968,
          -0.4411283148910683,
          -0.012678521787541109,
          -0.15374985521185416,
          1.0354303578331185,
          1.3043066720596153,
          -0.8746890120010864,
          0.08458332717612128,
          -0.8003519447971019,
          -0.6851446620945236,
          -1.1559883622724791,
          0.27707248332228673,
          1.4398769778179106,
          -1.574198276171295,
          -0.10824476202121064,
          -0.878756138704042,
          0.9528462091562935,
          0.36882014943302904,
          0.701962408764391,
          0.12515471481787668,
          0.9043374679657142,
          0.2254823419787821,
          0.4958042695863272,
          -0.5975032114557614,
          0.7257348296841276,
          0.4855953408620199,
          -3.3825219320437827,
          0.5322162490593761,
          0.05039546272046297,
          0.10839147887182421,
          -2.015338751110118,
          0.643382932891098,
          -0.8632757680204926,
          1.1845968063934953,
          -1.0762885247087823,
          -0.2673821262177926,
          0.6680121061201801
         ],
         "xaxis": "x2",
         "y": [
          -0.7156901301506218,
          -2.4644340092683623,
          -0.5020478490356647,
          0.18831575059229694,
          -0.9395232600804589,
          0.6370608619021374,
          0.3181842436496653,
          -1.925815864693647,
          -1.601490197748081,
          0.7504852699910404,
          0.34651704071887407,
          -0.3782613877092965,
          0.50360062282216,
          1.1783072011157854,
          -0.39512918539645014,
          -0.27615642716525757,
          -0.6955150924719622,
          0.22125184868079706,
          0.3468389819905759,
          -1.417697236866669,
          1.115510266869824,
          -0.19740429399545154,
          -2.464841424106378,
          -0.8367326516922796,
          -1.784665752306031,
          -0.22786206228857037,
          -0.05747200108715722,
          -0.2582444417187888,
          -0.5840818609797201,
          -0.6447426754570369,
          -0.7890790059168368,
          0.23016315567803003,
          -1.267679972953894,
          0.11816464469909889,
          0.53265482704174,
          -1.2698235619164742,
          -1.8768988863675784,
          -0.9104585436306738,
          0.5197942871049583,
          -1.1344331642903294,
          0.992329649408986,
          -0.23854074055432464,
          -0.1930210849793099,
          0.6095404688520194,
          -1.232825526706406,
          -1.5328054495473706,
          0.3036487187896314,
          -0.2579415954354775,
          -0.28408823698571445,
          0.31097652201661435,
          0.5365134318194574,
          -0.2523997745954963,
          -0.22895996185521222,
          1.7212536262694407,
          0.220474283657124,
          -2.2021749191469557,
          -0.8986508298431952,
          -0.3221635884228591,
          -0.40414847758021716,
          -0.5652901674053412,
          1.0766577310137808,
          0.5349076975629776,
          0.23762680428485808,
          -1.7126244683313148,
          -0.5928398888471055,
          -1.4949122694654595,
          -1.1661099302510365,
          0.46297332937027735,
          -1.3945134376948467,
          -0.3869679733820751,
          -0.9624273069822818,
          -1.2765077481404117,
          -0.8586057990186773,
          -1.3617817621094965,
          0.5289027802019703,
          0.6103126439405477,
          0.9832256017665594,
          0.5128656072910021,
          -0.4379259719293449,
          -0.6556385330952424,
          0.14179110527076172,
          -0.01073393938291526,
          0.5485346127017294,
          1.2238687868347427,
          1.3552631701641884,
          -0.679197152670297,
          1.4246054066122478,
          0.37843614621800514,
          -0.33839561042916416,
          0.595800624621955,
          0.2134554912461374,
          1.115174003760538,
          0.8652782710066977,
          0.3619724278187933,
          -0.9215434485902071,
          0.8922369823809136,
          -0.21678248120535829,
          -0.688812085998554,
          0.4169838531764566,
          0.2484314725645371
         ],
         "yaxis": "y2"
        },
        {
         "line": {
          "color": "rgba(128, 128, 128, 1.0)",
          "dash": "solid",
          "shape": "linear",
          "width": 1.3
         },
         "marker": {
          "size": 2,
          "symbol": "circle"
         },
         "mode": "markers",
         "name": "A",
         "text": "",
         "type": "scatter",
         "x": [
          0.8137369102886218,
          0.38406014021774704,
          0.8583336537775053,
          0.7957618956642141,
          1.4255409888334887,
          0.8494018529837316,
          0.8802582494550352,
          -0.4548968791233935,
          1.533558939208995,
          1.2524824477853664,
          -0.033876479326621675,
          -0.4110101837052343,
          -0.733897082639919,
          -0.7106157418903448,
          0.13722035073207373,
          0.7050198361557896,
          -0.5932002075891633,
          -1.3382789055267625,
          -2.5278828482383777,
          0.3982133911024089,
          0.525353202328653,
          -1.4962518795013926,
          -0.004760785788584715,
          0.7261859574377102,
          -1.303544165066935,
          -0.22178654551626484,
          1.494967772766792,
          0.628943023944182,
          -0.38821823494941937,
          -0.5668127027710045,
          0.7171598405660004,
          -0.7835133022052192,
          0.5000437115319482,
          0.7691384803578691,
          0.5523229894508553,
          -0.5541894348408164,
          -0.29938489655996475,
          -0.9131431790549518,
          -0.9794679240966921,
          1.163902122315106,
          -0.7752221633763264,
          -1.4495537781745207,
          0.4973865186073324,
          1.5030952854902895,
          -2.4964076259780277,
          0.1704835173224211,
          -0.02260160498626511,
          -0.9649170187581313,
          0.2019753230544578,
          -0.04155962146865371,
          1.615286363193417,
          0.3573636666371769,
          0.476460448964524,
          -1.5471884370551918,
          -1.3091741423554952,
          -0.8071981886965368,
          -1.318025945849581,
          -0.6618589471814981,
          -1.6212376252324474,
          2.1050156023915885,
          1.0382758927906282,
          1.0130772399982644,
          -0.5428322837985744,
          -1.5666433561393516,
          0.27206912749567025,
          -1.7500682837131234,
          -0.2470384533993433,
          0.856745769810696,
          0.050397071646110105,
          0.8591172982979858,
          -0.6237323300872393,
          -0.2802519687360328,
          -0.4115985448779974,
          -1.1095613669007458,
          -0.450350331399409,
          0.7805669384646385,
          0.3276051738502298,
          0.01799327164835346,
          0.47236995129634307,
          0.35546341981105,
          -0.1421734726670186,
          0.047300376883126743,
          1.3342425261563757,
          -0.20148061733839542,
          0.9372203022599283,
          -2.4673847964720728,
          0.20859636566666065,
          -0.6617846346669848,
          0.14039920109570533,
          -0.011579410918395594,
          -0.9564288279200693,
          0.8443967791582719,
          0.23651978111457783,
          0.06994116836111282,
          0.05499648632899061,
          0.3164823679807695,
          0.2995759568898395,
          2.3065943637298405,
          0.8967195702087817,
          0.21196575600905265
         ],
         "xaxis": "x3",
         "y": [
          -0.7156901301506218,
          -2.4644340092683623,
          -0.5020478490356647,
          0.18831575059229694,
          -0.9395232600804589,
          0.6370608619021374,
          0.3181842436496653,
          -1.925815864693647,
          -1.601490197748081,
          0.7504852699910404,
          0.34651704071887407,
          -0.3782613877092965,
          0.50360062282216,
          1.1783072011157854,
          -0.39512918539645014,
          -0.27615642716525757,
          -0.6955150924719622,
          0.22125184868079706,
          0.3468389819905759,
          -1.417697236866669,
          1.115510266869824,
          -0.19740429399545154,
          -2.464841424106378,
          -0.8367326516922796,
          -1.784665752306031,
          -0.22786206228857037,
          -0.05747200108715722,
          -0.2582444417187888,
          -0.5840818609797201,
          -0.6447426754570369,
          -0.7890790059168368,
          0.23016315567803003,
          -1.267679972953894,
          0.11816464469909889,
          0.53265482704174,
          -1.2698235619164742,
          -1.8768988863675784,
          -0.9104585436306738,
          0.5197942871049583,
          -1.1344331642903294,
          0.992329649408986,
          -0.23854074055432464,
          -0.1930210849793099,
          0.6095404688520194,
          -1.232825526706406,
          -1.5328054495473706,
          0.3036487187896314,
          -0.2579415954354775,
          -0.28408823698571445,
          0.31097652201661435,
          0.5365134318194574,
          -0.2523997745954963,
          -0.22895996185521222,
          1.7212536262694407,
          0.220474283657124,
          -2.2021749191469557,
          -0.8986508298431952,
          -0.3221635884228591,
          -0.40414847758021716,
          -0.5652901674053412,
          1.0766577310137808,
          0.5349076975629776,
          0.23762680428485808,
          -1.7126244683313148,
          -0.5928398888471055,
          -1.4949122694654595,
          -1.1661099302510365,
          0.46297332937027735,
          -1.3945134376948467,
          -0.3869679733820751,
          -0.9624273069822818,
          -1.2765077481404117,
          -0.8586057990186773,
          -1.3617817621094965,
          0.5289027802019703,
          0.6103126439405477,
          0.9832256017665594,
          0.5128656072910021,
          -0.4379259719293449,
          -0.6556385330952424,
          0.14179110527076172,
          -0.01073393938291526,
          0.5485346127017294,
          1.2238687868347427,
          1.3552631701641884,
          -0.679197152670297,
          1.4246054066122478,
          0.37843614621800514,
          -0.33839561042916416,
          0.595800624621955,
          0.2134554912461374,
          1.115174003760538,
          0.8652782710066977,
          0.3619724278187933,
          -0.9215434485902071,
          0.8922369823809136,
          -0.21678248120535829,
          -0.688812085998554,
          0.4169838531764566,
          0.2484314725645371
         ],
         "yaxis": "y3"
        },
        {
         "line": {
          "color": "rgba(128, 128, 128, 1.0)",
          "dash": "solid",
          "shape": "linear",
          "width": 1.3
         },
         "marker": {
          "size": 2,
          "symbol": "circle"
         },
         "mode": "markers",
         "name": "A",
         "text": "",
         "type": "scatter",
         "x": [
          -0.41219737818529484,
          -0.9147191048039742,
          -1.219436193264347,
          1.5143994015691824,
          -2.1923301711810854,
          -0.903162267803806,
          1.0535462050704751,
          1.3960764437556177,
          0.3868619326568071,
          2.4525121979965308,
          0.0162161852241048,
          -0.4865399398552347,
          -0.6787831914000225,
          0.5952961179509224,
          0.9830827168768127,
          -0.5346074416237119,
          -1.8912269743098613,
          0.26106748829081644,
          1.476982997259971,
          -0.5837317944279515,
          -0.7322797758184094,
          -0.39419677768356387,
          -1.2307469264419622,
          0.3691142487885274,
          0.10966935398854762,
          -1.8053571689536656,
          -1.3362299798042523,
          1.0089180857224092,
          -0.7615747766983384,
          0.36279850099698424,
          -0.7864714134428039,
          -1.181668042014758,
          1.728369859890661,
          -0.04638915353653599,
          -0.3831109541831568,
          -1.692721071636255,
          -1.5919271991803412,
          0.8131457402676022,
          -0.2623198079568097,
          -1.9297665234901917,
          0.5076022583968207,
          -0.7140700625790625,
          0.3877288533850373,
          -0.4490557874850287,
          -0.7419266784049801,
          0.2769750352385636,
          -0.8886943267677583,
          0.19192681012128301,
          0.09254975120678652,
          0.25732296596707616,
          0.9461575249601594,
          -0.6547615010632385,
          1.0213950353696173,
          -0.29650290380060607,
          -1.320561240484073,
          0.30634684088010666,
          1.6403512148036148,
          1.4411529386636375,
          -0.502521705413938,
          -1.5550507017255497,
          -0.020193581404571784,
          1.1195063630136661,
          0.48288866582198753,
          0.6563853813135773,
          -0.03148201203133492,
          -0.6004264577182319,
          -0.409234215080488,
          -0.8834550220085939,
          0.18380424901299702,
          0.2753619971526059,
          -0.6578001097887088,
          0.8916561480623405,
          -0.08633187088099142,
          2.4539354030313616,
          0.7520702214235129,
          0.14825848428316013,
          0.5702749266765967,
          -1.161687966074187,
          0.5356915966245412,
          0.3307916225249503,
          -0.07440235159590498,
          0.10355787679932259,
          -0.5182391049382354,
          -1.6406755589160074,
          0.3480314724055074,
          0.15069414263181075,
          -1.0074768878248537,
          -0.007758560194556815,
          -0.3420105288611878,
          0.660954410451113,
          2.9107940920537745,
          -0.2626456029714481,
          1.1950250389328134,
          0.11697580915798587,
          -1.3186213144915546,
          0.2646137965520151,
          -0.16324258610278844,
          -0.48948430249355385,
          -0.3941668214094899,
          0.40569059888863773
         ],
         "xaxis": "x4",
         "y": [
          -0.7156901301506218,
          -2.4644340092683623,
          -0.5020478490356647,
          0.18831575059229694,
          -0.9395232600804589,
          0.6370608619021374,
          0.3181842436496653,
          -1.925815864693647,
          -1.601490197748081,
          0.7504852699910404,
          0.34651704071887407,
          -0.3782613877092965,
          0.50360062282216,
          1.1783072011157854,
          -0.39512918539645014,
          -0.27615642716525757,
          -0.6955150924719622,
          0.22125184868079706,
          0.3468389819905759,
          -1.417697236866669,
          1.115510266869824,
          -0.19740429399545154,
          -2.464841424106378,
          -0.8367326516922796,
          -1.784665752306031,
          -0.22786206228857037,
          -0.05747200108715722,
          -0.2582444417187888,
          -0.5840818609797201,
          -0.6447426754570369,
          -0.7890790059168368,
          0.23016315567803003,
          -1.267679972953894,
          0.11816464469909889,
          0.53265482704174,
          -1.2698235619164742,
          -1.8768988863675784,
          -0.9104585436306738,
          0.5197942871049583,
          -1.1344331642903294,
          0.992329649408986,
          -0.23854074055432464,
          -0.1930210849793099,
          0.6095404688520194,
          -1.232825526706406,
          -1.5328054495473706,
          0.3036487187896314,
          -0.2579415954354775,
          -0.28408823698571445,
          0.31097652201661435,
          0.5365134318194574,
          -0.2523997745954963,
          -0.22895996185521222,
          1.7212536262694407,
          0.220474283657124,
          -2.2021749191469557,
          -0.8986508298431952,
          -0.3221635884228591,
          -0.40414847758021716,
          -0.5652901674053412,
          1.0766577310137808,
          0.5349076975629776,
          0.23762680428485808,
          -1.7126244683313148,
          -0.5928398888471055,
          -1.4949122694654595,
          -1.1661099302510365,
          0.46297332937027735,
          -1.3945134376948467,
          -0.3869679733820751,
          -0.9624273069822818,
          -1.2765077481404117,
          -0.8586057990186773,
          -1.3617817621094965,
          0.5289027802019703,
          0.6103126439405477,
          0.9832256017665594,
          0.5128656072910021,
          -0.4379259719293449,
          -0.6556385330952424,
          0.14179110527076172,
          -0.01073393938291526,
          0.5485346127017294,
          1.2238687868347427,
          1.3552631701641884,
          -0.679197152670297,
          1.4246054066122478,
          0.37843614621800514,
          -0.33839561042916416,
          0.595800624621955,
          0.2134554912461374,
          1.115174003760538,
          0.8652782710066977,
          0.3619724278187933,
          -0.9215434485902071,
          0.8922369823809136,
          -0.21678248120535829,
          -0.688812085998554,
          0.4169838531764566,
          0.2484314725645371
         ],
         "yaxis": "y4"
        },
        {
         "line": {
          "color": "rgba(128, 128, 128, 1.0)",
          "dash": "solid",
          "shape": "linear",
          "width": 1.3
         },
         "marker": {
          "size": 2,
          "symbol": "circle"
         },
         "mode": "markers",
         "name": "B",
         "text": "",
         "type": "scatter",
         "x": [
          -0.7156901301506218,
          -2.4644340092683623,
          -0.5020478490356647,
          0.18831575059229694,
          -0.9395232600804589,
          0.6370608619021374,
          0.3181842436496653,
          -1.925815864693647,
          -1.601490197748081,
          0.7504852699910404,
          0.34651704071887407,
          -0.3782613877092965,
          0.50360062282216,
          1.1783072011157854,
          -0.39512918539645014,
          -0.27615642716525757,
          -0.6955150924719622,
          0.22125184868079706,
          0.3468389819905759,
          -1.417697236866669,
          1.115510266869824,
          -0.19740429399545154,
          -2.464841424106378,
          -0.8367326516922796,
          -1.784665752306031,
          -0.22786206228857037,
          -0.05747200108715722,
          -0.2582444417187888,
          -0.5840818609797201,
          -0.6447426754570369,
          -0.7890790059168368,
          0.23016315567803003,
          -1.267679972953894,
          0.11816464469909889,
          0.53265482704174,
          -1.2698235619164742,
          -1.8768988863675784,
          -0.9104585436306738,
          0.5197942871049583,
          -1.1344331642903294,
          0.992329649408986,
          -0.23854074055432464,
          -0.1930210849793099,
          0.6095404688520194,
          -1.232825526706406,
          -1.5328054495473706,
          0.3036487187896314,
          -0.2579415954354775,
          -0.28408823698571445,
          0.31097652201661435,
          0.5365134318194574,
          -0.2523997745954963,
          -0.22895996185521222,
          1.7212536262694407,
          0.220474283657124,
          -2.2021749191469557,
          -0.8986508298431952,
          -0.3221635884228591,
          -0.40414847758021716,
          -0.5652901674053412,
          1.0766577310137808,
          0.5349076975629776,
          0.23762680428485808,
          -1.7126244683313148,
          -0.5928398888471055,
          -1.4949122694654595,
          -1.1661099302510365,
          0.46297332937027735,
          -1.3945134376948467,
          -0.3869679733820751,
          -0.9624273069822818,
          -1.2765077481404117,
          -0.8586057990186773,
          -1.3617817621094965,
          0.5289027802019703,
          0.6103126439405477,
          0.9832256017665594,
          0.5128656072910021,
          -0.4379259719293449,
          -0.6556385330952424,
          0.14179110527076172,
          -0.01073393938291526,
          0.5485346127017294,
          1.2238687868347427,
          1.3552631701641884,
          -0.679197152670297,
          1.4246054066122478,
          0.37843614621800514,
          -0.33839561042916416,
          0.595800624621955,
          0.2134554912461374,
          1.115174003760538,
          0.8652782710066977,
          0.3619724278187933,
          -0.9215434485902071,
          0.8922369823809136,
          -0.21678248120535829,
          -0.688812085998554,
          0.4169838531764566,
          0.2484314725645371
         ],
         "xaxis": "x5",
         "y": [
          -0.6513797764818611,
          0.5244019427590942,
          -1.1744674888572253,
          0.43368191568401226,
          0.899497260401665,
          -1.1445625650980764,
          0.07099522324692333,
          0.04362068821287567,
          -0.8160348335399022,
          0.1626016136310631,
          -0.7298670162319529,
          0.6713855417304806,
          -0.4897210754965677,
          -0.48252481799299574,
          -1.3139286582223493,
          0.9707580321863382,
          -1.1464067098017479,
          -1.6598898005122826,
          0.23742605508299555,
          2.6643609903481145,
          0.22610339598619442,
          0.6649669769165972,
          0.9281709465845623,
          0.9791321813439632,
          0.8762934680617513,
          -0.28943460277957755,
          -0.028190662231939393,
          0.2719755628483441,
          0.8570323675771371,
          -0.9874367202861509,
          1.1186820362029204,
          0.12441702071829709,
          -0.7566677889736816,
          0.5261667781482235,
          0.8229391933147238,
          1.0237625257527891,
          -1.1075967095024015,
          0.6989216003060206,
          0.4484205570752432,
          -0.26803786635302745,
          -0.6634160128961857,
          2.335734557413926,
          -1.434184074279899,
          0.2473602698192445,
          0.22238480469788974,
          -0.2677583598956593,
          0.2725413480059053,
          -0.8395778183942763,
          -0.661834594922329,
          -0.27007302620888896,
          -0.2474487320510582,
          -1.7686789507801906,
          -0.6927976504687269,
          -0.5679102310983882,
          -0.1715477136966996,
          -1.295629485531873,
          0.749114656046574,
          -0.4396779137233732,
          0.881864840173589,
          0.6699484712192457,
          -0.9865989035422554,
          0.8041516446982689,
          0.5708137463595715,
          -0.3544348711895968,
          -0.4411283148910683,
          -0.012678521787541109,
          -0.15374985521185416,
          1.0354303578331185,
          1.3043066720596153,
          -0.8746890120010864,
          0.08458332717612128,
          -0.8003519447971019,
          -0.6851446620945236,
          -1.1559883622724791,
          0.27707248332228673,
          1.4398769778179106,
          -1.574198276171295,
          -0.10824476202121064,
          -0.878756138704042,
          0.9528462091562935,
          0.36882014943302904,
          0.701962408764391,
          0.12515471481787668,
          0.9043374679657142,
          0.2254823419787821,
          0.4958042695863272,
          -0.5975032114557614,
          0.7257348296841276,
          0.4855953408620199,
          -3.3825219320437827,
          0.5322162490593761,
          0.05039546272046297,
          0.10839147887182421,
          -2.015338751110118,
          0.643382932891098,
          -0.8632757680204926,
          1.1845968063934953,
          -1.0762885247087823,
          -0.2673821262177926,
          0.6680121061201801
         ],
         "yaxis": "y5"
        },
        {
         "histfunc": "count",
         "histnorm": "",
         "marker": {
          "color": "rgba(55, 128, 191, 1.0)",
          "line": {
           "color": "#4D5663",
           "width": 1.3
          }
         },
         "name": "B",
         "nbinsx": 10,
         "opacity": 0.8,
         "orientation": "v",
         "type": "histogram",
         "x": [
          -0.6513797764818611,
          0.5244019427590942,
          -1.1744674888572253,
          0.43368191568401226,
          0.899497260401665,
          -1.1445625650980764,
          0.07099522324692333,
          0.04362068821287567,
          -0.8160348335399022,
          0.1626016136310631,
          -0.7298670162319529,
          0.6713855417304806,
          -0.4897210754965677,
          -0.48252481799299574,
          -1.3139286582223493,
          0.9707580321863382,
          -1.1464067098017479,
          -1.6598898005122826,
          0.23742605508299555,
          2.6643609903481145,
          0.22610339598619442,
          0.6649669769165972,
          0.9281709465845623,
          0.9791321813439632,
          0.8762934680617513,
          -0.28943460277957755,
          -0.028190662231939393,
          0.2719755628483441,
          0.8570323675771371,
          -0.9874367202861509,
          1.1186820362029204,
          0.12441702071829709,
          -0.7566677889736816,
          0.5261667781482235,
          0.8229391933147238,
          1.0237625257527891,
          -1.1075967095024015,
          0.6989216003060206,
          0.4484205570752432,
          -0.26803786635302745,
          -0.6634160128961857,
          2.335734557413926,
          -1.434184074279899,
          0.2473602698192445,
          0.22238480469788974,
          -0.2677583598956593,
          0.2725413480059053,
          -0.8395778183942763,
          -0.661834594922329,
          -0.27007302620888896,
          -0.2474487320510582,
          -1.7686789507801906,
          -0.6927976504687269,
          -0.5679102310983882,
          -0.1715477136966996,
          -1.295629485531873,
          0.749114656046574,
          -0.4396779137233732,
          0.881864840173589,
          0.6699484712192457,
          -0.9865989035422554,
          0.8041516446982689,
          0.5708137463595715,
          -0.3544348711895968,
          -0.4411283148910683,
          -0.012678521787541109,
          -0.15374985521185416,
          1.0354303578331185,
          1.3043066720596153,
          -0.8746890120010864,
          0.08458332717612128,
          -0.8003519447971019,
          -0.6851446620945236,
          -1.1559883622724791,
          0.27707248332228673,
          1.4398769778179106,
          -1.574198276171295,
          -0.10824476202121064,
          -0.878756138704042,
          0.9528462091562935,
          0.36882014943302904,
          0.701962408764391,
          0.12515471481787668,
          0.9043374679657142,
          0.2254823419787821,
          0.4958042695863272,
          -0.5975032114557614,
          0.7257348296841276,
          0.4855953408620199,
          -3.3825219320437827,
          0.5322162490593761,
          0.05039546272046297,
          0.10839147887182421,
          -2.015338751110118,
          0.643382932891098,
          -0.8632757680204926,
          1.1845968063934953,
          -1.0762885247087823,
          -0.2673821262177926,
          0.6680121061201801
         ],
         "xaxis": "x6",
         "yaxis": "y6"
        },
        {
         "line": {
          "color": "rgba(128, 128, 128, 1.0)",
          "dash": "solid",
          "shape": "linear",
          "width": 1.3
         },
         "marker": {
          "size": 2,
          "symbol": "circle"
         },
         "mode": "markers",
         "name": "B",
         "text": "",
         "type": "scatter",
         "x": [
          0.8137369102886218,
          0.38406014021774704,
          0.8583336537775053,
          0.7957618956642141,
          1.4255409888334887,
          0.8494018529837316,
          0.8802582494550352,
          -0.4548968791233935,
          1.533558939208995,
          1.2524824477853664,
          -0.033876479326621675,
          -0.4110101837052343,
          -0.733897082639919,
          -0.7106157418903448,
          0.13722035073207373,
          0.7050198361557896,
          -0.5932002075891633,
          -1.3382789055267625,
          -2.5278828482383777,
          0.3982133911024089,
          0.525353202328653,
          -1.4962518795013926,
          -0.004760785788584715,
          0.7261859574377102,
          -1.303544165066935,
          -0.22178654551626484,
          1.494967772766792,
          0.628943023944182,
          -0.38821823494941937,
          -0.5668127027710045,
          0.7171598405660004,
          -0.7835133022052192,
          0.5000437115319482,
          0.7691384803578691,
          0.5523229894508553,
          -0.5541894348408164,
          -0.29938489655996475,
          -0.9131431790549518,
          -0.9794679240966921,
          1.163902122315106,
          -0.7752221633763264,
          -1.4495537781745207,
          0.4973865186073324,
          1.5030952854902895,
          -2.4964076259780277,
          0.1704835173224211,
          -0.02260160498626511,
          -0.9649170187581313,
          0.2019753230544578,
          -0.04155962146865371,
          1.615286363193417,
          0.3573636666371769,
          0.476460448964524,
          -1.5471884370551918,
          -1.3091741423554952,
          -0.8071981886965368,
          -1.318025945849581,
          -0.6618589471814981,
          -1.6212376252324474,
          2.1050156023915885,
          1.0382758927906282,
          1.0130772399982644,
          -0.5428322837985744,
          -1.5666433561393516,
          0.27206912749567025,
          -1.7500682837131234,
          -0.2470384533993433,
          0.856745769810696,
          0.050397071646110105,
          0.8591172982979858,
          -0.6237323300872393,
          -0.2802519687360328,
          -0.4115985448779974,
          -1.1095613669007458,
          -0.450350331399409,
          0.7805669384646385,
          0.3276051738502298,
          0.01799327164835346,
          0.47236995129634307,
          0.35546341981105,
          -0.1421734726670186,
          0.047300376883126743,
          1.3342425261563757,
          -0.20148061733839542,
          0.9372203022599283,
          -2.4673847964720728,
          0.20859636566666065,
          -0.6617846346669848,
          0.14039920109570533,
          -0.011579410918395594,
          -0.9564288279200693,
          0.8443967791582719,
          0.23651978111457783,
          0.06994116836111282,
          0.05499648632899061,
          0.3164823679807695,
          0.2995759568898395,
          2.3065943637298405,
          0.8967195702087817,
          0.21196575600905265
         ],
         "xaxis": "x7",
         "y": [
          -0.6513797764818611,
          0.5244019427590942,
          -1.1744674888572253,
          0.43368191568401226,
          0.899497260401665,
          -1.1445625650980764,
          0.07099522324692333,
          0.04362068821287567,
          -0.8160348335399022,
          0.1626016136310631,
          -0.7298670162319529,
          0.6713855417304806,
          -0.4897210754965677,
          -0.48252481799299574,
          -1.3139286582223493,
          0.9707580321863382,
          -1.1464067098017479,
          -1.6598898005122826,
          0.23742605508299555,
          2.6643609903481145,
          0.22610339598619442,
          0.6649669769165972,
          0.9281709465845623,
          0.9791321813439632,
          0.8762934680617513,
          -0.28943460277957755,
          -0.028190662231939393,
          0.2719755628483441,
          0.8570323675771371,
          -0.9874367202861509,
          1.1186820362029204,
          0.12441702071829709,
          -0.7566677889736816,
          0.5261667781482235,
          0.8229391933147238,
          1.0237625257527891,
          -1.1075967095024015,
          0.6989216003060206,
          0.4484205570752432,
          -0.26803786635302745,
          -0.6634160128961857,
          2.335734557413926,
          -1.434184074279899,
          0.2473602698192445,
          0.22238480469788974,
          -0.2677583598956593,
          0.2725413480059053,
          -0.8395778183942763,
          -0.661834594922329,
          -0.27007302620888896,
          -0.2474487320510582,
          -1.7686789507801906,
          -0.6927976504687269,
          -0.5679102310983882,
          -0.1715477136966996,
          -1.295629485531873,
          0.749114656046574,
          -0.4396779137233732,
          0.881864840173589,
          0.6699484712192457,
          -0.9865989035422554,
          0.8041516446982689,
          0.5708137463595715,
          -0.3544348711895968,
          -0.4411283148910683,
          -0.012678521787541109,
          -0.15374985521185416,
          1.0354303578331185,
          1.3043066720596153,
          -0.8746890120010864,
          0.08458332717612128,
          -0.8003519447971019,
          -0.6851446620945236,
          -1.1559883622724791,
          0.27707248332228673,
          1.4398769778179106,
          -1.574198276171295,
          -0.10824476202121064,
          -0.878756138704042,
          0.9528462091562935,
          0.36882014943302904,
          0.701962408764391,
          0.12515471481787668,
          0.9043374679657142,
          0.2254823419787821,
          0.4958042695863272,
          -0.5975032114557614,
          0.7257348296841276,
          0.4855953408620199,
          -3.3825219320437827,
          0.5322162490593761,
          0.05039546272046297,
          0.10839147887182421,
          -2.015338751110118,
          0.643382932891098,
          -0.8632757680204926,
          1.1845968063934953,
          -1.0762885247087823,
          -0.2673821262177926,
          0.6680121061201801
         ],
         "yaxis": "y7"
        },
        {
         "line": {
          "color": "rgba(128, 128, 128, 1.0)",
          "dash": "solid",
          "shape": "linear",
          "width": 1.3
         },
         "marker": {
          "size": 2,
          "symbol": "circle"
         },
         "mode": "markers",
         "name": "B",
         "text": "",
         "type": "scatter",
         "x": [
          -0.41219737818529484,
          -0.9147191048039742,
          -1.219436193264347,
          1.5143994015691824,
          -2.1923301711810854,
          -0.903162267803806,
          1.0535462050704751,
          1.3960764437556177,
          0.3868619326568071,
          2.4525121979965308,
          0.0162161852241048,
          -0.4865399398552347,
          -0.6787831914000225,
          0.5952961179509224,
          0.9830827168768127,
          -0.5346074416237119,
          -1.8912269743098613,
          0.26106748829081644,
          1.476982997259971,
          -0.5837317944279515,
          -0.7322797758184094,
          -0.39419677768356387,
          -1.2307469264419622,
          0.3691142487885274,
          0.10966935398854762,
          -1.8053571689536656,
          -1.3362299798042523,
          1.0089180857224092,
          -0.7615747766983384,
          0.36279850099698424,
          -0.7864714134428039,
          -1.181668042014758,
          1.728369859890661,
          -0.04638915353653599,
          -0.3831109541831568,
          -1.692721071636255,
          -1.5919271991803412,
          0.8131457402676022,
          -0.2623198079568097,
          -1.9297665234901917,
          0.5076022583968207,
          -0.7140700625790625,
          0.3877288533850373,
          -0.4490557874850287,
          -0.7419266784049801,
          0.2769750352385636,
          -0.8886943267677583,
          0.19192681012128301,
          0.09254975120678652,
          0.25732296596707616,
          0.9461575249601594,
          -0.6547615010632385,
          1.0213950353696173,
          -0.29650290380060607,
          -1.320561240484073,
          0.30634684088010666,
          1.6403512148036148,
          1.4411529386636375,
          -0.502521705413938,
          -1.5550507017255497,
          -0.020193581404571784,
          1.1195063630136661,
          0.48288866582198753,
          0.6563853813135773,
          -0.03148201203133492,
          -0.6004264577182319,
          -0.409234215080488,
          -0.8834550220085939,
          0.18380424901299702,
          0.2753619971526059,
          -0.6578001097887088,
          0.8916561480623405,
          -0.08633187088099142,
          2.4539354030313616,
          0.7520702214235129,
          0.14825848428316013,
          0.5702749266765967,
          -1.161687966074187,
          0.5356915966245412,
          0.3307916225249503,
          -0.07440235159590498,
          0.10355787679932259,
          -0.5182391049382354,
          -1.6406755589160074,
          0.3480314724055074,
          0.15069414263181075,
          -1.0074768878248537,
          -0.007758560194556815,
          -0.3420105288611878,
          0.660954410451113,
          2.9107940920537745,
          -0.2626456029714481,
          1.1950250389328134,
          0.11697580915798587,
          -1.3186213144915546,
          0.2646137965520151,
          -0.16324258610278844,
          -0.48948430249355385,
          -0.3941668214094899,
          0.40569059888863773
         ],
         "xaxis": "x8",
         "y": [
          -0.6513797764818611,
          0.5244019427590942,
          -1.1744674888572253,
          0.43368191568401226,
          0.899497260401665,
          -1.1445625650980764,
          0.07099522324692333,
          0.04362068821287567,
          -0.8160348335399022,
          0.1626016136310631,
          -0.7298670162319529,
          0.6713855417304806,
          -0.4897210754965677,
          -0.48252481799299574,
          -1.3139286582223493,
          0.9707580321863382,
          -1.1464067098017479,
          -1.6598898005122826,
          0.23742605508299555,
          2.6643609903481145,
          0.22610339598619442,
          0.6649669769165972,
          0.9281709465845623,
          0.9791321813439632,
          0.8762934680617513,
          -0.28943460277957755,
          -0.028190662231939393,
          0.2719755628483441,
          0.8570323675771371,
          -0.9874367202861509,
          1.1186820362029204,
          0.12441702071829709,
          -0.7566677889736816,
          0.5261667781482235,
          0.8229391933147238,
          1.0237625257527891,
          -1.1075967095024015,
          0.6989216003060206,
          0.4484205570752432,
          -0.26803786635302745,
          -0.6634160128961857,
          2.335734557413926,
          -1.434184074279899,
          0.2473602698192445,
          0.22238480469788974,
          -0.2677583598956593,
          0.2725413480059053,
          -0.8395778183942763,
          -0.661834594922329,
          -0.27007302620888896,
          -0.2474487320510582,
          -1.7686789507801906,
          -0.6927976504687269,
          -0.5679102310983882,
          -0.1715477136966996,
          -1.295629485531873,
          0.749114656046574,
          -0.4396779137233732,
          0.881864840173589,
          0.6699484712192457,
          -0.9865989035422554,
          0.8041516446982689,
          0.5708137463595715,
          -0.3544348711895968,
          -0.4411283148910683,
          -0.012678521787541109,
          -0.15374985521185416,
          1.0354303578331185,
          1.3043066720596153,
          -0.8746890120010864,
          0.08458332717612128,
          -0.8003519447971019,
          -0.6851446620945236,
          -1.1559883622724791,
          0.27707248332228673,
          1.4398769778179106,
          -1.574198276171295,
          -0.10824476202121064,
          -0.878756138704042,
          0.9528462091562935,
          0.36882014943302904,
          0.701962408764391,
          0.12515471481787668,
          0.9043374679657142,
          0.2254823419787821,
          0.4958042695863272,
          -0.5975032114557614,
          0.7257348296841276,
          0.4855953408620199,
          -3.3825219320437827,
          0.5322162490593761,
          0.05039546272046297,
          0.10839147887182421,
          -2.015338751110118,
          0.643382932891098,
          -0.8632757680204926,
          1.1845968063934953,
          -1.0762885247087823,
          -0.2673821262177926,
          0.6680121061201801
         ],
         "yaxis": "y8"
        },
        {
         "line": {
          "color": "rgba(128, 128, 128, 1.0)",
          "dash": "solid",
          "shape": "linear",
          "width": 1.3
         },
         "marker": {
          "size": 2,
          "symbol": "circle"
         },
         "mode": "markers",
         "name": "C",
         "text": "",
         "type": "scatter",
         "x": [
          -0.7156901301506218,
          -2.4644340092683623,
          -0.5020478490356647,
          0.18831575059229694,
          -0.9395232600804589,
          0.6370608619021374,
          0.3181842436496653,
          -1.925815864693647,
          -1.601490197748081,
          0.7504852699910404,
          0.34651704071887407,
          -0.3782613877092965,
          0.50360062282216,
          1.1783072011157854,
          -0.39512918539645014,
          -0.27615642716525757,
          -0.6955150924719622,
          0.22125184868079706,
          0.3468389819905759,
          -1.417697236866669,
          1.115510266869824,
          -0.19740429399545154,
          -2.464841424106378,
          -0.8367326516922796,
          -1.784665752306031,
          -0.22786206228857037,
          -0.05747200108715722,
          -0.2582444417187888,
          -0.5840818609797201,
          -0.6447426754570369,
          -0.7890790059168368,
          0.23016315567803003,
          -1.267679972953894,
          0.11816464469909889,
          0.53265482704174,
          -1.2698235619164742,
          -1.8768988863675784,
          -0.9104585436306738,
          0.5197942871049583,
          -1.1344331642903294,
          0.992329649408986,
          -0.23854074055432464,
          -0.1930210849793099,
          0.6095404688520194,
          -1.232825526706406,
          -1.5328054495473706,
          0.3036487187896314,
          -0.2579415954354775,
          -0.28408823698571445,
          0.31097652201661435,
          0.5365134318194574,
          -0.2523997745954963,
          -0.22895996185521222,
          1.7212536262694407,
          0.220474283657124,
          -2.2021749191469557,
          -0.8986508298431952,
          -0.3221635884228591,
          -0.40414847758021716,
          -0.5652901674053412,
          1.0766577310137808,
          0.5349076975629776,
          0.23762680428485808,
          -1.7126244683313148,
          -0.5928398888471055,
          -1.4949122694654595,
          -1.1661099302510365,
          0.46297332937027735,
          -1.3945134376948467,
          -0.3869679733820751,
          -0.9624273069822818,
          -1.2765077481404117,
          -0.8586057990186773,
          -1.3617817621094965,
          0.5289027802019703,
          0.6103126439405477,
          0.9832256017665594,
          0.5128656072910021,
          -0.4379259719293449,
          -0.6556385330952424,
          0.14179110527076172,
          -0.01073393938291526,
          0.5485346127017294,
          1.2238687868347427,
          1.3552631701641884,
          -0.679197152670297,
          1.4246054066122478,
          0.37843614621800514,
          -0.33839561042916416,
          0.595800624621955,
          0.2134554912461374,
          1.115174003760538,
          0.8652782710066977,
          0.3619724278187933,
          -0.9215434485902071,
          0.8922369823809136,
          -0.21678248120535829,
          -0.688812085998554,
          0.4169838531764566,
          0.2484314725645371
         ],
         "xaxis": "x9",
         "y": [
          0.8137369102886218,
          0.38406014021774704,
          0.8583336537775053,
          0.7957618956642141,
          1.4255409888334887,
          0.8494018529837316,
          0.8802582494550352,
          -0.4548968791233935,
          1.533558939208995,
          1.2524824477853664,
          -0.033876479326621675,
          -0.4110101837052343,
          -0.733897082639919,
          -0.7106157418903448,
          0.13722035073207373,
          0.7050198361557896,
          -0.5932002075891633,
          -1.3382789055267625,
          -2.5278828482383777,
          0.3982133911024089,
          0.525353202328653,
          -1.4962518795013926,
          -0.004760785788584715,
          0.7261859574377102,
          -1.303544165066935,
          -0.22178654551626484,
          1.494967772766792,
          0.628943023944182,
          -0.38821823494941937,
          -0.5668127027710045,
          0.7171598405660004,
          -0.7835133022052192,
          0.5000437115319482,
          0.7691384803578691,
          0.5523229894508553,
          -0.5541894348408164,
          -0.29938489655996475,
          -0.9131431790549518,
          -0.9794679240966921,
          1.163902122315106,
          -0.7752221633763264,
          -1.4495537781745207,
          0.4973865186073324,
          1.5030952854902895,
          -2.4964076259780277,
          0.1704835173224211,
          -0.02260160498626511,
          -0.9649170187581313,
          0.2019753230544578,
          -0.04155962146865371,
          1.615286363193417,
          0.3573636666371769,
          0.476460448964524,
          -1.5471884370551918,
          -1.3091741423554952,
          -0.8071981886965368,
          -1.318025945849581,
          -0.6618589471814981,
          -1.6212376252324474,
          2.1050156023915885,
          1.0382758927906282,
          1.0130772399982644,
          -0.5428322837985744,
          -1.5666433561393516,
          0.27206912749567025,
          -1.7500682837131234,
          -0.2470384533993433,
          0.856745769810696,
          0.050397071646110105,
          0.8591172982979858,
          -0.6237323300872393,
          -0.2802519687360328,
          -0.4115985448779974,
          -1.1095613669007458,
          -0.450350331399409,
          0.7805669384646385,
          0.3276051738502298,
          0.01799327164835346,
          0.47236995129634307,
          0.35546341981105,
          -0.1421734726670186,
          0.047300376883126743,
          1.3342425261563757,
          -0.20148061733839542,
          0.9372203022599283,
          -2.4673847964720728,
          0.20859636566666065,
          -0.6617846346669848,
          0.14039920109570533,
          -0.011579410918395594,
          -0.9564288279200693,
          0.8443967791582719,
          0.23651978111457783,
          0.06994116836111282,
          0.05499648632899061,
          0.3164823679807695,
          0.2995759568898395,
          2.3065943637298405,
          0.8967195702087817,
          0.21196575600905265
         ],
         "yaxis": "y9"
        },
        {
         "line": {
          "color": "rgba(128, 128, 128, 1.0)",
          "dash": "solid",
          "shape": "linear",
          "width": 1.3
         },
         "marker": {
          "size": 2,
          "symbol": "circle"
         },
         "mode": "markers",
         "name": "C",
         "text": "",
         "type": "scatter",
         "x": [
          -0.6513797764818611,
          0.5244019427590942,
          -1.1744674888572253,
          0.43368191568401226,
          0.899497260401665,
          -1.1445625650980764,
          0.07099522324692333,
          0.04362068821287567,
          -0.8160348335399022,
          0.1626016136310631,
          -0.7298670162319529,
          0.6713855417304806,
          -0.4897210754965677,
          -0.48252481799299574,
          -1.3139286582223493,
          0.9707580321863382,
          -1.1464067098017479,
          -1.6598898005122826,
          0.23742605508299555,
          2.6643609903481145,
          0.22610339598619442,
          0.6649669769165972,
          0.9281709465845623,
          0.9791321813439632,
          0.8762934680617513,
          -0.28943460277957755,
          -0.028190662231939393,
          0.2719755628483441,
          0.8570323675771371,
          -0.9874367202861509,
          1.1186820362029204,
          0.12441702071829709,
          -0.7566677889736816,
          0.5261667781482235,
          0.8229391933147238,
          1.0237625257527891,
          -1.1075967095024015,
          0.6989216003060206,
          0.4484205570752432,
          -0.26803786635302745,
          -0.6634160128961857,
          2.335734557413926,
          -1.434184074279899,
          0.2473602698192445,
          0.22238480469788974,
          -0.2677583598956593,
          0.2725413480059053,
          -0.8395778183942763,
          -0.661834594922329,
          -0.27007302620888896,
          -0.2474487320510582,
          -1.7686789507801906,
          -0.6927976504687269,
          -0.5679102310983882,
          -0.1715477136966996,
          -1.295629485531873,
          0.749114656046574,
          -0.4396779137233732,
          0.881864840173589,
          0.6699484712192457,
          -0.9865989035422554,
          0.8041516446982689,
          0.5708137463595715,
          -0.3544348711895968,
          -0.4411283148910683,
          -0.012678521787541109,
          -0.15374985521185416,
          1.0354303578331185,
          1.3043066720596153,
          -0.8746890120010864,
          0.08458332717612128,
          -0.8003519447971019,
          -0.6851446620945236,
          -1.1559883622724791,
          0.27707248332228673,
          1.4398769778179106,
          -1.574198276171295,
          -0.10824476202121064,
          -0.878756138704042,
          0.9528462091562935,
          0.36882014943302904,
          0.701962408764391,
          0.12515471481787668,
          0.9043374679657142,
          0.2254823419787821,
          0.4958042695863272,
          -0.5975032114557614,
          0.7257348296841276,
          0.4855953408620199,
          -3.3825219320437827,
          0.5322162490593761,
          0.05039546272046297,
          0.10839147887182421,
          -2.015338751110118,
          0.643382932891098,
          -0.8632757680204926,
          1.1845968063934953,
          -1.0762885247087823,
          -0.2673821262177926,
          0.6680121061201801
         ],
         "xaxis": "x10",
         "y": [
          0.8137369102886218,
          0.38406014021774704,
          0.8583336537775053,
          0.7957618956642141,
          1.4255409888334887,
          0.8494018529837316,
          0.8802582494550352,
          -0.4548968791233935,
          1.533558939208995,
          1.2524824477853664,
          -0.033876479326621675,
          -0.4110101837052343,
          -0.733897082639919,
          -0.7106157418903448,
          0.13722035073207373,
          0.7050198361557896,
          -0.5932002075891633,
          -1.3382789055267625,
          -2.5278828482383777,
          0.3982133911024089,
          0.525353202328653,
          -1.4962518795013926,
          -0.004760785788584715,
          0.7261859574377102,
          -1.303544165066935,
          -0.22178654551626484,
          1.494967772766792,
          0.628943023944182,
          -0.38821823494941937,
          -0.5668127027710045,
          0.7171598405660004,
          -0.7835133022052192,
          0.5000437115319482,
          0.7691384803578691,
          0.5523229894508553,
          -0.5541894348408164,
          -0.29938489655996475,
          -0.9131431790549518,
          -0.9794679240966921,
          1.163902122315106,
          -0.7752221633763264,
          -1.4495537781745207,
          0.4973865186073324,
          1.5030952854902895,
          -2.4964076259780277,
          0.1704835173224211,
          -0.02260160498626511,
          -0.9649170187581313,
          0.2019753230544578,
          -0.04155962146865371,
          1.615286363193417,
          0.3573636666371769,
          0.476460448964524,
          -1.5471884370551918,
          -1.3091741423554952,
          -0.8071981886965368,
          -1.318025945849581,
          -0.6618589471814981,
          -1.6212376252324474,
          2.1050156023915885,
          1.0382758927906282,
          1.0130772399982644,
          -0.5428322837985744,
          -1.5666433561393516,
          0.27206912749567025,
          -1.7500682837131234,
          -0.2470384533993433,
          0.856745769810696,
          0.050397071646110105,
          0.8591172982979858,
          -0.6237323300872393,
          -0.2802519687360328,
          -0.4115985448779974,
          -1.1095613669007458,
          -0.450350331399409,
          0.7805669384646385,
          0.3276051738502298,
          0.01799327164835346,
          0.47236995129634307,
          0.35546341981105,
          -0.1421734726670186,
          0.047300376883126743,
          1.3342425261563757,
          -0.20148061733839542,
          0.9372203022599283,
          -2.4673847964720728,
          0.20859636566666065,
          -0.6617846346669848,
          0.14039920109570533,
          -0.011579410918395594,
          -0.9564288279200693,
          0.8443967791582719,
          0.23651978111457783,
          0.06994116836111282,
          0.05499648632899061,
          0.3164823679807695,
          0.2995759568898395,
          2.3065943637298405,
          0.8967195702087817,
          0.21196575600905265
         ],
         "yaxis": "y10"
        },
        {
         "histfunc": "count",
         "histnorm": "",
         "marker": {
          "color": "rgba(50, 171, 96, 1.0)",
          "line": {
           "color": "#4D5663",
           "width": 1.3
          }
         },
         "name": "C",
         "nbinsx": 10,
         "opacity": 0.8,
         "orientation": "v",
         "type": "histogram",
         "x": [
          0.8137369102886218,
          0.38406014021774704,
          0.8583336537775053,
          0.7957618956642141,
          1.4255409888334887,
          0.8494018529837316,
          0.8802582494550352,
          -0.4548968791233935,
          1.533558939208995,
          1.2524824477853664,
          -0.033876479326621675,
          -0.4110101837052343,
          -0.733897082639919,
          -0.7106157418903448,
          0.13722035073207373,
          0.7050198361557896,
          -0.5932002075891633,
          -1.3382789055267625,
          -2.5278828482383777,
          0.3982133911024089,
          0.525353202328653,
          -1.4962518795013926,
          -0.004760785788584715,
          0.7261859574377102,
          -1.303544165066935,
          -0.22178654551626484,
          1.494967772766792,
          0.628943023944182,
          -0.38821823494941937,
          -0.5668127027710045,
          0.7171598405660004,
          -0.7835133022052192,
          0.5000437115319482,
          0.7691384803578691,
          0.5523229894508553,
          -0.5541894348408164,
          -0.29938489655996475,
          -0.9131431790549518,
          -0.9794679240966921,
          1.163902122315106,
          -0.7752221633763264,
          -1.4495537781745207,
          0.4973865186073324,
          1.5030952854902895,
          -2.4964076259780277,
          0.1704835173224211,
          -0.02260160498626511,
          -0.9649170187581313,
          0.2019753230544578,
          -0.04155962146865371,
          1.615286363193417,
          0.3573636666371769,
          0.476460448964524,
          -1.5471884370551918,
          -1.3091741423554952,
          -0.8071981886965368,
          -1.318025945849581,
          -0.6618589471814981,
          -1.6212376252324474,
          2.1050156023915885,
          1.0382758927906282,
          1.0130772399982644,
          -0.5428322837985744,
          -1.5666433561393516,
          0.27206912749567025,
          -1.7500682837131234,
          -0.2470384533993433,
          0.856745769810696,
          0.050397071646110105,
          0.8591172982979858,
          -0.6237323300872393,
          -0.2802519687360328,
          -0.4115985448779974,
          -1.1095613669007458,
          -0.450350331399409,
          0.7805669384646385,
          0.3276051738502298,
          0.01799327164835346,
          0.47236995129634307,
          0.35546341981105,
          -0.1421734726670186,
          0.047300376883126743,
          1.3342425261563757,
          -0.20148061733839542,
          0.9372203022599283,
          -2.4673847964720728,
          0.20859636566666065,
          -0.6617846346669848,
          0.14039920109570533,
          -0.011579410918395594,
          -0.9564288279200693,
          0.8443967791582719,
          0.23651978111457783,
          0.06994116836111282,
          0.05499648632899061,
          0.3164823679807695,
          0.2995759568898395,
          2.3065943637298405,
          0.8967195702087817,
          0.21196575600905265
         ],
         "xaxis": "x11",
         "yaxis": "y11"
        },
        {
         "line": {
          "color": "rgba(128, 128, 128, 1.0)",
          "dash": "solid",
          "shape": "linear",
          "width": 1.3
         },
         "marker": {
          "size": 2,
          "symbol": "circle"
         },
         "mode": "markers",
         "name": "C",
         "text": "",
         "type": "scatter",
         "x": [
          -0.41219737818529484,
          -0.9147191048039742,
          -1.219436193264347,
          1.5143994015691824,
          -2.1923301711810854,
          -0.903162267803806,
          1.0535462050704751,
          1.3960764437556177,
          0.3868619326568071,
          2.4525121979965308,
          0.0162161852241048,
          -0.4865399398552347,
          -0.6787831914000225,
          0.5952961179509224,
          0.9830827168768127,
          -0.5346074416237119,
          -1.8912269743098613,
          0.26106748829081644,
          1.476982997259971,
          -0.5837317944279515,
          -0.7322797758184094,
          -0.39419677768356387,
          -1.2307469264419622,
          0.3691142487885274,
          0.10966935398854762,
          -1.8053571689536656,
          -1.3362299798042523,
          1.0089180857224092,
          -0.7615747766983384,
          0.36279850099698424,
          -0.7864714134428039,
          -1.181668042014758,
          1.728369859890661,
          -0.04638915353653599,
          -0.3831109541831568,
          -1.692721071636255,
          -1.5919271991803412,
          0.8131457402676022,
          -0.2623198079568097,
          -1.9297665234901917,
          0.5076022583968207,
          -0.7140700625790625,
          0.3877288533850373,
          -0.4490557874850287,
          -0.7419266784049801,
          0.2769750352385636,
          -0.8886943267677583,
          0.19192681012128301,
          0.09254975120678652,
          0.25732296596707616,
          0.9461575249601594,
          -0.6547615010632385,
          1.0213950353696173,
          -0.29650290380060607,
          -1.320561240484073,
          0.30634684088010666,
          1.6403512148036148,
          1.4411529386636375,
          -0.502521705413938,
          -1.5550507017255497,
          -0.020193581404571784,
          1.1195063630136661,
          0.48288866582198753,
          0.6563853813135773,
          -0.03148201203133492,
          -0.6004264577182319,
          -0.409234215080488,
          -0.8834550220085939,
          0.18380424901299702,
          0.2753619971526059,
          -0.6578001097887088,
          0.8916561480623405,
          -0.08633187088099142,
          2.4539354030313616,
          0.7520702214235129,
          0.14825848428316013,
          0.5702749266765967,
          -1.161687966074187,
          0.5356915966245412,
          0.3307916225249503,
          -0.07440235159590498,
          0.10355787679932259,
          -0.5182391049382354,
          -1.6406755589160074,
          0.3480314724055074,
          0.15069414263181075,
          -1.0074768878248537,
          -0.007758560194556815,
          -0.3420105288611878,
          0.660954410451113,
          2.9107940920537745,
          -0.2626456029714481,
          1.1950250389328134,
          0.11697580915798587,
          -1.3186213144915546,
          0.2646137965520151,
          -0.16324258610278844,
          -0.48948430249355385,
          -0.3941668214094899,
          0.40569059888863773
         ],
         "xaxis": "x12",
         "y": [
          0.8137369102886218,
          0.38406014021774704,
          0.8583336537775053,
          0.7957618956642141,
          1.4255409888334887,
          0.8494018529837316,
          0.8802582494550352,
          -0.4548968791233935,
          1.533558939208995,
          1.2524824477853664,
          -0.033876479326621675,
          -0.4110101837052343,
          -0.733897082639919,
          -0.7106157418903448,
          0.13722035073207373,
          0.7050198361557896,
          -0.5932002075891633,
          -1.3382789055267625,
          -2.5278828482383777,
          0.3982133911024089,
          0.525353202328653,
          -1.4962518795013926,
          -0.004760785788584715,
          0.7261859574377102,
          -1.303544165066935,
          -0.22178654551626484,
          1.494967772766792,
          0.628943023944182,
          -0.38821823494941937,
          -0.5668127027710045,
          0.7171598405660004,
          -0.7835133022052192,
          0.5000437115319482,
          0.7691384803578691,
          0.5523229894508553,
          -0.5541894348408164,
          -0.29938489655996475,
          -0.9131431790549518,
          -0.9794679240966921,
          1.163902122315106,
          -0.7752221633763264,
          -1.4495537781745207,
          0.4973865186073324,
          1.5030952854902895,
          -2.4964076259780277,
          0.1704835173224211,
          -0.02260160498626511,
          -0.9649170187581313,
          0.2019753230544578,
          -0.04155962146865371,
          1.615286363193417,
          0.3573636666371769,
          0.476460448964524,
          -1.5471884370551918,
          -1.3091741423554952,
          -0.8071981886965368,
          -1.318025945849581,
          -0.6618589471814981,
          -1.6212376252324474,
          2.1050156023915885,
          1.0382758927906282,
          1.0130772399982644,
          -0.5428322837985744,
          -1.5666433561393516,
          0.27206912749567025,
          -1.7500682837131234,
          -0.2470384533993433,
          0.856745769810696,
          0.050397071646110105,
          0.8591172982979858,
          -0.6237323300872393,
          -0.2802519687360328,
          -0.4115985448779974,
          -1.1095613669007458,
          -0.450350331399409,
          0.7805669384646385,
          0.3276051738502298,
          0.01799327164835346,
          0.47236995129634307,
          0.35546341981105,
          -0.1421734726670186,
          0.047300376883126743,
          1.3342425261563757,
          -0.20148061733839542,
          0.9372203022599283,
          -2.4673847964720728,
          0.20859636566666065,
          -0.6617846346669848,
          0.14039920109570533,
          -0.011579410918395594,
          -0.9564288279200693,
          0.8443967791582719,
          0.23651978111457783,
          0.06994116836111282,
          0.05499648632899061,
          0.3164823679807695,
          0.2995759568898395,
          2.3065943637298405,
          0.8967195702087817,
          0.21196575600905265
         ],
         "yaxis": "y12"
        },
        {
         "line": {
          "color": "rgba(128, 128, 128, 1.0)",
          "dash": "solid",
          "shape": "linear",
          "width": 1.3
         },
         "marker": {
          "size": 2,
          "symbol": "circle"
         },
         "mode": "markers",
         "name": "D",
         "text": "",
         "type": "scatter",
         "x": [
          -0.7156901301506218,
          -2.4644340092683623,
          -0.5020478490356647,
          0.18831575059229694,
          -0.9395232600804589,
          0.6370608619021374,
          0.3181842436496653,
          -1.925815864693647,
          -1.601490197748081,
          0.7504852699910404,
          0.34651704071887407,
          -0.3782613877092965,
          0.50360062282216,
          1.1783072011157854,
          -0.39512918539645014,
          -0.27615642716525757,
          -0.6955150924719622,
          0.22125184868079706,
          0.3468389819905759,
          -1.417697236866669,
          1.115510266869824,
          -0.19740429399545154,
          -2.464841424106378,
          -0.8367326516922796,
          -1.784665752306031,
          -0.22786206228857037,
          -0.05747200108715722,
          -0.2582444417187888,
          -0.5840818609797201,
          -0.6447426754570369,
          -0.7890790059168368,
          0.23016315567803003,
          -1.267679972953894,
          0.11816464469909889,
          0.53265482704174,
          -1.2698235619164742,
          -1.8768988863675784,
          -0.9104585436306738,
          0.5197942871049583,
          -1.1344331642903294,
          0.992329649408986,
          -0.23854074055432464,
          -0.1930210849793099,
          0.6095404688520194,
          -1.232825526706406,
          -1.5328054495473706,
          0.3036487187896314,
          -0.2579415954354775,
          -0.28408823698571445,
          0.31097652201661435,
          0.5365134318194574,
          -0.2523997745954963,
          -0.22895996185521222,
          1.7212536262694407,
          0.220474283657124,
          -2.2021749191469557,
          -0.8986508298431952,
          -0.3221635884228591,
          -0.40414847758021716,
          -0.5652901674053412,
          1.0766577310137808,
          0.5349076975629776,
          0.23762680428485808,
          -1.7126244683313148,
          -0.5928398888471055,
          -1.4949122694654595,
          -1.1661099302510365,
          0.46297332937027735,
          -1.3945134376948467,
          -0.3869679733820751,
          -0.9624273069822818,
          -1.2765077481404117,
          -0.8586057990186773,
          -1.3617817621094965,
          0.5289027802019703,
          0.6103126439405477,
          0.9832256017665594,
          0.5128656072910021,
          -0.4379259719293449,
          -0.6556385330952424,
          0.14179110527076172,
          -0.01073393938291526,
          0.5485346127017294,
          1.2238687868347427,
          1.3552631701641884,
          -0.679197152670297,
          1.4246054066122478,
          0.37843614621800514,
          -0.33839561042916416,
          0.595800624621955,
          0.2134554912461374,
          1.115174003760538,
          0.8652782710066977,
          0.3619724278187933,
          -0.9215434485902071,
          0.8922369823809136,
          -0.21678248120535829,
          -0.688812085998554,
          0.4169838531764566,
          0.2484314725645371
         ],
         "xaxis": "x13",
         "y": [
          -0.41219737818529484,
          -0.9147191048039742,
          -1.219436193264347,
          1.5143994015691824,
          -2.1923301711810854,
          -0.903162267803806,
          1.0535462050704751,
          1.3960764437556177,
          0.3868619326568071,
          2.4525121979965308,
          0.0162161852241048,
          -0.4865399398552347,
          -0.6787831914000225,
          0.5952961179509224,
          0.9830827168768127,
          -0.5346074416237119,
          -1.8912269743098613,
          0.26106748829081644,
          1.476982997259971,
          -0.5837317944279515,
          -0.7322797758184094,
          -0.39419677768356387,
          -1.2307469264419622,
          0.3691142487885274,
          0.10966935398854762,
          -1.8053571689536656,
          -1.3362299798042523,
          1.0089180857224092,
          -0.7615747766983384,
          0.36279850099698424,
          -0.7864714134428039,
          -1.181668042014758,
          1.728369859890661,
          -0.04638915353653599,
          -0.3831109541831568,
          -1.692721071636255,
          -1.5919271991803412,
          0.8131457402676022,
          -0.2623198079568097,
          -1.9297665234901917,
          0.5076022583968207,
          -0.7140700625790625,
          0.3877288533850373,
          -0.4490557874850287,
          -0.7419266784049801,
          0.2769750352385636,
          -0.8886943267677583,
          0.19192681012128301,
          0.09254975120678652,
          0.25732296596707616,
          0.9461575249601594,
          -0.6547615010632385,
          1.0213950353696173,
          -0.29650290380060607,
          -1.320561240484073,
          0.30634684088010666,
          1.6403512148036148,
          1.4411529386636375,
          -0.502521705413938,
          -1.5550507017255497,
          -0.020193581404571784,
          1.1195063630136661,
          0.48288866582198753,
          0.6563853813135773,
          -0.03148201203133492,
          -0.6004264577182319,
          -0.409234215080488,
          -0.8834550220085939,
          0.18380424901299702,
          0.2753619971526059,
          -0.6578001097887088,
          0.8916561480623405,
          -0.08633187088099142,
          2.4539354030313616,
          0.7520702214235129,
          0.14825848428316013,
          0.5702749266765967,
          -1.161687966074187,
          0.5356915966245412,
          0.3307916225249503,
          -0.07440235159590498,
          0.10355787679932259,
          -0.5182391049382354,
          -1.6406755589160074,
          0.3480314724055074,
          0.15069414263181075,
          -1.0074768878248537,
          -0.007758560194556815,
          -0.3420105288611878,
          0.660954410451113,
          2.9107940920537745,
          -0.2626456029714481,
          1.1950250389328134,
          0.11697580915798587,
          -1.3186213144915546,
          0.2646137965520151,
          -0.16324258610278844,
          -0.48948430249355385,
          -0.3941668214094899,
          0.40569059888863773
         ],
         "yaxis": "y13"
        },
        {
         "line": {
          "color": "rgba(128, 128, 128, 1.0)",
          "dash": "solid",
          "shape": "linear",
          "width": 1.3
         },
         "marker": {
          "size": 2,
          "symbol": "circle"
         },
         "mode": "markers",
         "name": "D",
         "text": "",
         "type": "scatter",
         "x": [
          -0.6513797764818611,
          0.5244019427590942,
          -1.1744674888572253,
          0.43368191568401226,
          0.899497260401665,
          -1.1445625650980764,
          0.07099522324692333,
          0.04362068821287567,
          -0.8160348335399022,
          0.1626016136310631,
          -0.7298670162319529,
          0.6713855417304806,
          -0.4897210754965677,
          -0.48252481799299574,
          -1.3139286582223493,
          0.9707580321863382,
          -1.1464067098017479,
          -1.6598898005122826,
          0.23742605508299555,
          2.6643609903481145,
          0.22610339598619442,
          0.6649669769165972,
          0.9281709465845623,
          0.9791321813439632,
          0.8762934680617513,
          -0.28943460277957755,
          -0.028190662231939393,
          0.2719755628483441,
          0.8570323675771371,
          -0.9874367202861509,
          1.1186820362029204,
          0.12441702071829709,
          -0.7566677889736816,
          0.5261667781482235,
          0.8229391933147238,
          1.0237625257527891,
          -1.1075967095024015,
          0.6989216003060206,
          0.4484205570752432,
          -0.26803786635302745,
          -0.6634160128961857,
          2.335734557413926,
          -1.434184074279899,
          0.2473602698192445,
          0.22238480469788974,
          -0.2677583598956593,
          0.2725413480059053,
          -0.8395778183942763,
          -0.661834594922329,
          -0.27007302620888896,
          -0.2474487320510582,
          -1.7686789507801906,
          -0.6927976504687269,
          -0.5679102310983882,
          -0.1715477136966996,
          -1.295629485531873,
          0.749114656046574,
          -0.4396779137233732,
          0.881864840173589,
          0.6699484712192457,
          -0.9865989035422554,
          0.8041516446982689,
          0.5708137463595715,
          -0.3544348711895968,
          -0.4411283148910683,
          -0.012678521787541109,
          -0.15374985521185416,
          1.0354303578331185,
          1.3043066720596153,
          -0.8746890120010864,
          0.08458332717612128,
          -0.8003519447971019,
          -0.6851446620945236,
          -1.1559883622724791,
          0.27707248332228673,
          1.4398769778179106,
          -1.574198276171295,
          -0.10824476202121064,
          -0.878756138704042,
          0.9528462091562935,
          0.36882014943302904,
          0.701962408764391,
          0.12515471481787668,
          0.9043374679657142,
          0.2254823419787821,
          0.4958042695863272,
          -0.5975032114557614,
          0.7257348296841276,
          0.4855953408620199,
          -3.3825219320437827,
          0.5322162490593761,
          0.05039546272046297,
          0.10839147887182421,
          -2.015338751110118,
          0.643382932891098,
          -0.8632757680204926,
          1.1845968063934953,
          -1.0762885247087823,
          -0.2673821262177926,
          0.6680121061201801
         ],
         "xaxis": "x14",
         "y": [
          -0.41219737818529484,
          -0.9147191048039742,
          -1.219436193264347,
          1.5143994015691824,
          -2.1923301711810854,
          -0.903162267803806,
          1.0535462050704751,
          1.3960764437556177,
          0.3868619326568071,
          2.4525121979965308,
          0.0162161852241048,
          -0.4865399398552347,
          -0.6787831914000225,
          0.5952961179509224,
          0.9830827168768127,
          -0.5346074416237119,
          -1.8912269743098613,
          0.26106748829081644,
          1.476982997259971,
          -0.5837317944279515,
          -0.7322797758184094,
          -0.39419677768356387,
          -1.2307469264419622,
          0.3691142487885274,
          0.10966935398854762,
          -1.8053571689536656,
          -1.3362299798042523,
          1.0089180857224092,
          -0.7615747766983384,
          0.36279850099698424,
          -0.7864714134428039,
          -1.181668042014758,
          1.728369859890661,
          -0.04638915353653599,
          -0.3831109541831568,
          -1.692721071636255,
          -1.5919271991803412,
          0.8131457402676022,
          -0.2623198079568097,
          -1.9297665234901917,
          0.5076022583968207,
          -0.7140700625790625,
          0.3877288533850373,
          -0.4490557874850287,
          -0.7419266784049801,
          0.2769750352385636,
          -0.8886943267677583,
          0.19192681012128301,
          0.09254975120678652,
          0.25732296596707616,
          0.9461575249601594,
          -0.6547615010632385,
          1.0213950353696173,
          -0.29650290380060607,
          -1.320561240484073,
          0.30634684088010666,
          1.6403512148036148,
          1.4411529386636375,
          -0.502521705413938,
          -1.5550507017255497,
          -0.020193581404571784,
          1.1195063630136661,
          0.48288866582198753,
          0.6563853813135773,
          -0.03148201203133492,
          -0.6004264577182319,
          -0.409234215080488,
          -0.8834550220085939,
          0.18380424901299702,
          0.2753619971526059,
          -0.6578001097887088,
          0.8916561480623405,
          -0.08633187088099142,
          2.4539354030313616,
          0.7520702214235129,
          0.14825848428316013,
          0.5702749266765967,
          -1.161687966074187,
          0.5356915966245412,
          0.3307916225249503,
          -0.07440235159590498,
          0.10355787679932259,
          -0.5182391049382354,
          -1.6406755589160074,
          0.3480314724055074,
          0.15069414263181075,
          -1.0074768878248537,
          -0.007758560194556815,
          -0.3420105288611878,
          0.660954410451113,
          2.9107940920537745,
          -0.2626456029714481,
          1.1950250389328134,
          0.11697580915798587,
          -1.3186213144915546,
          0.2646137965520151,
          -0.16324258610278844,
          -0.48948430249355385,
          -0.3941668214094899,
          0.40569059888863773
         ],
         "yaxis": "y14"
        },
        {
         "line": {
          "color": "rgba(128, 128, 128, 1.0)",
          "dash": "solid",
          "shape": "linear",
          "width": 1.3
         },
         "marker": {
          "size": 2,
          "symbol": "circle"
         },
         "mode": "markers",
         "name": "D",
         "text": "",
         "type": "scatter",
         "x": [
          0.8137369102886218,
          0.38406014021774704,
          0.8583336537775053,
          0.7957618956642141,
          1.4255409888334887,
          0.8494018529837316,
          0.8802582494550352,
          -0.4548968791233935,
          1.533558939208995,
          1.2524824477853664,
          -0.033876479326621675,
          -0.4110101837052343,
          -0.733897082639919,
          -0.7106157418903448,
          0.13722035073207373,
          0.7050198361557896,
          -0.5932002075891633,
          -1.3382789055267625,
          -2.5278828482383777,
          0.3982133911024089,
          0.525353202328653,
          -1.4962518795013926,
          -0.004760785788584715,
          0.7261859574377102,
          -1.303544165066935,
          -0.22178654551626484,
          1.494967772766792,
          0.628943023944182,
          -0.38821823494941937,
          -0.5668127027710045,
          0.7171598405660004,
          -0.7835133022052192,
          0.5000437115319482,
          0.7691384803578691,
          0.5523229894508553,
          -0.5541894348408164,
          -0.29938489655996475,
          -0.9131431790549518,
          -0.9794679240966921,
          1.163902122315106,
          -0.7752221633763264,
          -1.4495537781745207,
          0.4973865186073324,
          1.5030952854902895,
          -2.4964076259780277,
          0.1704835173224211,
          -0.02260160498626511,
          -0.9649170187581313,
          0.2019753230544578,
          -0.04155962146865371,
          1.615286363193417,
          0.3573636666371769,
          0.476460448964524,
          -1.5471884370551918,
          -1.3091741423554952,
          -0.8071981886965368,
          -1.318025945849581,
          -0.6618589471814981,
          -1.6212376252324474,
          2.1050156023915885,
          1.0382758927906282,
          1.0130772399982644,
          -0.5428322837985744,
          -1.5666433561393516,
          0.27206912749567025,
          -1.7500682837131234,
          -0.2470384533993433,
          0.856745769810696,
          0.050397071646110105,
          0.8591172982979858,
          -0.6237323300872393,
          -0.2802519687360328,
          -0.4115985448779974,
          -1.1095613669007458,
          -0.450350331399409,
          0.7805669384646385,
          0.3276051738502298,
          0.01799327164835346,
          0.47236995129634307,
          0.35546341981105,
          -0.1421734726670186,
          0.047300376883126743,
          1.3342425261563757,
          -0.20148061733839542,
          0.9372203022599283,
          -2.4673847964720728,
          0.20859636566666065,
          -0.6617846346669848,
          0.14039920109570533,
          -0.011579410918395594,
          -0.9564288279200693,
          0.8443967791582719,
          0.23651978111457783,
          0.06994116836111282,
          0.05499648632899061,
          0.3164823679807695,
          0.2995759568898395,
          2.3065943637298405,
          0.8967195702087817,
          0.21196575600905265
         ],
         "xaxis": "x15",
         "y": [
          -0.41219737818529484,
          -0.9147191048039742,
          -1.219436193264347,
          1.5143994015691824,
          -2.1923301711810854,
          -0.903162267803806,
          1.0535462050704751,
          1.3960764437556177,
          0.3868619326568071,
          2.4525121979965308,
          0.0162161852241048,
          -0.4865399398552347,
          -0.6787831914000225,
          0.5952961179509224,
          0.9830827168768127,
          -0.5346074416237119,
          -1.8912269743098613,
          0.26106748829081644,
          1.476982997259971,
          -0.5837317944279515,
          -0.7322797758184094,
          -0.39419677768356387,
          -1.2307469264419622,
          0.3691142487885274,
          0.10966935398854762,
          -1.8053571689536656,
          -1.3362299798042523,
          1.0089180857224092,
          -0.7615747766983384,
          0.36279850099698424,
          -0.7864714134428039,
          -1.181668042014758,
          1.728369859890661,
          -0.04638915353653599,
          -0.3831109541831568,
          -1.692721071636255,
          -1.5919271991803412,
          0.8131457402676022,
          -0.2623198079568097,
          -1.9297665234901917,
          0.5076022583968207,
          -0.7140700625790625,
          0.3877288533850373,
          -0.4490557874850287,
          -0.7419266784049801,
          0.2769750352385636,
          -0.8886943267677583,
          0.19192681012128301,
          0.09254975120678652,
          0.25732296596707616,
          0.9461575249601594,
          -0.6547615010632385,
          1.0213950353696173,
          -0.29650290380060607,
          -1.320561240484073,
          0.30634684088010666,
          1.6403512148036148,
          1.4411529386636375,
          -0.502521705413938,
          -1.5550507017255497,
          -0.020193581404571784,
          1.1195063630136661,
          0.48288866582198753,
          0.6563853813135773,
          -0.03148201203133492,
          -0.6004264577182319,
          -0.409234215080488,
          -0.8834550220085939,
          0.18380424901299702,
          0.2753619971526059,
          -0.6578001097887088,
          0.8916561480623405,
          -0.08633187088099142,
          2.4539354030313616,
          0.7520702214235129,
          0.14825848428316013,
          0.5702749266765967,
          -1.161687966074187,
          0.5356915966245412,
          0.3307916225249503,
          -0.07440235159590498,
          0.10355787679932259,
          -0.5182391049382354,
          -1.6406755589160074,
          0.3480314724055074,
          0.15069414263181075,
          -1.0074768878248537,
          -0.007758560194556815,
          -0.3420105288611878,
          0.660954410451113,
          2.9107940920537745,
          -0.2626456029714481,
          1.1950250389328134,
          0.11697580915798587,
          -1.3186213144915546,
          0.2646137965520151,
          -0.16324258610278844,
          -0.48948430249355385,
          -0.3941668214094899,
          0.40569059888863773
         ],
         "yaxis": "y15"
        },
        {
         "histfunc": "count",
         "histnorm": "",
         "marker": {
          "color": "rgba(128, 0, 128, 1.0)",
          "line": {
           "color": "#4D5663",
           "width": 1.3
          }
         },
         "name": "D",
         "nbinsx": 10,
         "opacity": 0.8,
         "orientation": "v",
         "type": "histogram",
         "x": [
          -0.41219737818529484,
          -0.9147191048039742,
          -1.219436193264347,
          1.5143994015691824,
          -2.1923301711810854,
          -0.903162267803806,
          1.0535462050704751,
          1.3960764437556177,
          0.3868619326568071,
          2.4525121979965308,
          0.0162161852241048,
          -0.4865399398552347,
          -0.6787831914000225,
          0.5952961179509224,
          0.9830827168768127,
          -0.5346074416237119,
          -1.8912269743098613,
          0.26106748829081644,
          1.476982997259971,
          -0.5837317944279515,
          -0.7322797758184094,
          -0.39419677768356387,
          -1.2307469264419622,
          0.3691142487885274,
          0.10966935398854762,
          -1.8053571689536656,
          -1.3362299798042523,
          1.0089180857224092,
          -0.7615747766983384,
          0.36279850099698424,
          -0.7864714134428039,
          -1.181668042014758,
          1.728369859890661,
          -0.04638915353653599,
          -0.3831109541831568,
          -1.692721071636255,
          -1.5919271991803412,
          0.8131457402676022,
          -0.2623198079568097,
          -1.9297665234901917,
          0.5076022583968207,
          -0.7140700625790625,
          0.3877288533850373,
          -0.4490557874850287,
          -0.7419266784049801,
          0.2769750352385636,
          -0.8886943267677583,
          0.19192681012128301,
          0.09254975120678652,
          0.25732296596707616,
          0.9461575249601594,
          -0.6547615010632385,
          1.0213950353696173,
          -0.29650290380060607,
          -1.320561240484073,
          0.30634684088010666,
          1.6403512148036148,
          1.4411529386636375,
          -0.502521705413938,
          -1.5550507017255497,
          -0.020193581404571784,
          1.1195063630136661,
          0.48288866582198753,
          0.6563853813135773,
          -0.03148201203133492,
          -0.6004264577182319,
          -0.409234215080488,
          -0.8834550220085939,
          0.18380424901299702,
          0.2753619971526059,
          -0.6578001097887088,
          0.8916561480623405,
          -0.08633187088099142,
          2.4539354030313616,
          0.7520702214235129,
          0.14825848428316013,
          0.5702749266765967,
          -1.161687966074187,
          0.5356915966245412,
          0.3307916225249503,
          -0.07440235159590498,
          0.10355787679932259,
          -0.5182391049382354,
          -1.6406755589160074,
          0.3480314724055074,
          0.15069414263181075,
          -1.0074768878248537,
          -0.007758560194556815,
          -0.3420105288611878,
          0.660954410451113,
          2.9107940920537745,
          -0.2626456029714481,
          1.1950250389328134,
          0.11697580915798587,
          -1.3186213144915546,
          0.2646137965520151,
          -0.16324258610278844,
          -0.48948430249355385,
          -0.3941668214094899,
          0.40569059888863773
         ],
         "xaxis": "x16",
         "yaxis": "y16"
        }
       ],
       "layout": {
        "bargap": 0.02,
        "legend": {
         "bgcolor": "#F5F6F9",
         "font": {
          "color": "#4D5663"
         }
        },
        "paper_bgcolor": "#F5F6F9",
        "plot_bgcolor": "#F5F6F9",
        "showlegend": false,
        "template": {
         "data": {
          "bar": [
           {
            "error_x": {
             "color": "#2a3f5f"
            },
            "error_y": {
             "color": "#2a3f5f"
            },
            "marker": {
             "line": {
              "color": "#E5ECF6",
              "width": 0.5
             },
             "pattern": {
              "fillmode": "overlay",
              "size": 10,
              "solidity": 0.2
             }
            },
            "type": "bar"
           }
          ],
          "barpolar": [
           {
            "marker": {
             "line": {
              "color": "#E5ECF6",
              "width": 0.5
             },
             "pattern": {
              "fillmode": "overlay",
              "size": 10,
              "solidity": 0.2
             }
            },
            "type": "barpolar"
           }
          ],
          "carpet": [
           {
            "aaxis": {
             "endlinecolor": "#2a3f5f",
             "gridcolor": "white",
             "linecolor": "white",
             "minorgridcolor": "white",
             "startlinecolor": "#2a3f5f"
            },
            "baxis": {
             "endlinecolor": "#2a3f5f",
             "gridcolor": "white",
             "linecolor": "white",
             "minorgridcolor": "white",
             "startlinecolor": "#2a3f5f"
            },
            "type": "carpet"
           }
          ],
          "choropleth": [
           {
            "colorbar": {
             "outlinewidth": 0,
             "ticks": ""
            },
            "type": "choropleth"
           }
          ],
          "contour": [
           {
            "colorbar": {
             "outlinewidth": 0,
             "ticks": ""
            },
            "colorscale": [
             [
              0,
              "#0d0887"
             ],
             [
              0.1111111111111111,
              "#46039f"
             ],
             [
              0.2222222222222222,
              "#7201a8"
             ],
             [
              0.3333333333333333,
              "#9c179e"
             ],
             [
              0.4444444444444444,
              "#bd3786"
             ],
             [
              0.5555555555555556,
              "#d8576b"
             ],
             [
              0.6666666666666666,
              "#ed7953"
             ],
             [
              0.7777777777777778,
              "#fb9f3a"
             ],
             [
              0.8888888888888888,
              "#fdca26"
             ],
             [
              1,
              "#f0f921"
             ]
            ],
            "type": "contour"
           }
          ],
          "contourcarpet": [
           {
            "colorbar": {
             "outlinewidth": 0,
             "ticks": ""
            },
            "type": "contourcarpet"
           }
          ],
          "heatmap": [
           {
            "colorbar": {
             "outlinewidth": 0,
             "ticks": ""
            },
            "colorscale": [
             [
              0,
              "#0d0887"
             ],
             [
              0.1111111111111111,
              "#46039f"
             ],
             [
              0.2222222222222222,
              "#7201a8"
             ],
             [
              0.3333333333333333,
              "#9c179e"
             ],
             [
              0.4444444444444444,
              "#bd3786"
             ],
             [
              0.5555555555555556,
              "#d8576b"
             ],
             [
              0.6666666666666666,
              "#ed7953"
             ],
             [
              0.7777777777777778,
              "#fb9f3a"
             ],
             [
              0.8888888888888888,
              "#fdca26"
             ],
             [
              1,
              "#f0f921"
             ]
            ],
            "type": "heatmap"
           }
          ],
          "heatmapgl": [
           {
            "colorbar": {
             "outlinewidth": 0,
             "ticks": ""
            },
            "colorscale": [
             [
              0,
              "#0d0887"
             ],
             [
              0.1111111111111111,
              "#46039f"
             ],
             [
              0.2222222222222222,
              "#7201a8"
             ],
             [
              0.3333333333333333,
              "#9c179e"
             ],
             [
              0.4444444444444444,
              "#bd3786"
             ],
             [
              0.5555555555555556,
              "#d8576b"
             ],
             [
              0.6666666666666666,
              "#ed7953"
             ],
             [
              0.7777777777777778,
              "#fb9f3a"
             ],
             [
              0.8888888888888888,
              "#fdca26"
             ],
             [
              1,
              "#f0f921"
             ]
            ],
            "type": "heatmapgl"
           }
          ],
          "histogram": [
           {
            "marker": {
             "pattern": {
              "fillmode": "overlay",
              "size": 10,
              "solidity": 0.2
             }
            },
            "type": "histogram"
           }
          ],
          "histogram2d": [
           {
            "colorbar": {
             "outlinewidth": 0,
             "ticks": ""
            },
            "colorscale": [
             [
              0,
              "#0d0887"
             ],
             [
              0.1111111111111111,
              "#46039f"
             ],
             [
              0.2222222222222222,
              "#7201a8"
             ],
             [
              0.3333333333333333,
              "#9c179e"
             ],
             [
              0.4444444444444444,
              "#bd3786"
             ],
             [
              0.5555555555555556,
              "#d8576b"
             ],
             [
              0.6666666666666666,
              "#ed7953"
             ],
             [
              0.7777777777777778,
              "#fb9f3a"
             ],
             [
              0.8888888888888888,
              "#fdca26"
             ],
             [
              1,
              "#f0f921"
             ]
            ],
            "type": "histogram2d"
           }
          ],
          "histogram2dcontour": [
           {
            "colorbar": {
             "outlinewidth": 0,
             "ticks": ""
            },
            "colorscale": [
             [
              0,
              "#0d0887"
             ],
             [
              0.1111111111111111,
              "#46039f"
             ],
             [
              0.2222222222222222,
              "#7201a8"
             ],
             [
              0.3333333333333333,
              "#9c179e"
             ],
             [
              0.4444444444444444,
              "#bd3786"
             ],
             [
              0.5555555555555556,
              "#d8576b"
             ],
             [
              0.6666666666666666,
              "#ed7953"
             ],
             [
              0.7777777777777778,
              "#fb9f3a"
             ],
             [
              0.8888888888888888,
              "#fdca26"
             ],
             [
              1,
              "#f0f921"
             ]
            ],
            "type": "histogram2dcontour"
           }
          ],
          "mesh3d": [
           {
            "colorbar": {
             "outlinewidth": 0,
             "ticks": ""
            },
            "type": "mesh3d"
           }
          ],
          "parcoords": [
           {
            "line": {
             "colorbar": {
              "outlinewidth": 0,
              "ticks": ""
             }
            },
            "type": "parcoords"
           }
          ],
          "pie": [
           {
            "automargin": true,
            "type": "pie"
           }
          ],
          "scatter": [
           {
            "marker": {
             "colorbar": {
              "outlinewidth": 0,
              "ticks": ""
             }
            },
            "type": "scatter"
           }
          ],
          "scatter3d": [
           {
            "line": {
             "colorbar": {
              "outlinewidth": 0,
              "ticks": ""
             }
            },
            "marker": {
             "colorbar": {
              "outlinewidth": 0,
              "ticks": ""
             }
            },
            "type": "scatter3d"
           }
          ],
          "scattercarpet": [
           {
            "marker": {
             "colorbar": {
              "outlinewidth": 0,
              "ticks": ""
             }
            },
            "type": "scattercarpet"
           }
          ],
          "scattergeo": [
           {
            "marker": {
             "colorbar": {
              "outlinewidth": 0,
              "ticks": ""
             }
            },
            "type": "scattergeo"
           }
          ],
          "scattergl": [
           {
            "marker": {
             "colorbar": {
              "outlinewidth": 0,
              "ticks": ""
             }
            },
            "type": "scattergl"
           }
          ],
          "scattermapbox": [
           {
            "marker": {
             "colorbar": {
              "outlinewidth": 0,
              "ticks": ""
             }
            },
            "type": "scattermapbox"
           }
          ],
          "scatterpolar": [
           {
            "marker": {
             "colorbar": {
              "outlinewidth": 0,
              "ticks": ""
             }
            },
            "type": "scatterpolar"
           }
          ],
          "scatterpolargl": [
           {
            "marker": {
             "colorbar": {
              "outlinewidth": 0,
              "ticks": ""
             }
            },
            "type": "scatterpolargl"
           }
          ],
          "scatterternary": [
           {
            "marker": {
             "colorbar": {
              "outlinewidth": 0,
              "ticks": ""
             }
            },
            "type": "scatterternary"
           }
          ],
          "surface": [
           {
            "colorbar": {
             "outlinewidth": 0,
             "ticks": ""
            },
            "colorscale": [
             [
              0,
              "#0d0887"
             ],
             [
              0.1111111111111111,
              "#46039f"
             ],
             [
              0.2222222222222222,
              "#7201a8"
             ],
             [
              0.3333333333333333,
              "#9c179e"
             ],
             [
              0.4444444444444444,
              "#bd3786"
             ],
             [
              0.5555555555555556,
              "#d8576b"
             ],
             [
              0.6666666666666666,
              "#ed7953"
             ],
             [
              0.7777777777777778,
              "#fb9f3a"
             ],
             [
              0.8888888888888888,
              "#fdca26"
             ],
             [
              1,
              "#f0f921"
             ]
            ],
            "type": "surface"
           }
          ],
          "table": [
           {
            "cells": {
             "fill": {
              "color": "#EBF0F8"
             },
             "line": {
              "color": "white"
             }
            },
            "header": {
             "fill": {
              "color": "#C8D4E3"
             },
             "line": {
              "color": "white"
             }
            },
            "type": "table"
           }
          ]
         },
         "layout": {
          "annotationdefaults": {
           "arrowcolor": "#2a3f5f",
           "arrowhead": 0,
           "arrowwidth": 1
          },
          "autotypenumbers": "strict",
          "coloraxis": {
           "colorbar": {
            "outlinewidth": 0,
            "ticks": ""
           }
          },
          "colorscale": {
           "diverging": [
            [
             0,
             "#8e0152"
            ],
            [
             0.1,
             "#c51b7d"
            ],
            [
             0.2,
             "#de77ae"
            ],
            [
             0.3,
             "#f1b6da"
            ],
            [
             0.4,
             "#fde0ef"
            ],
            [
             0.5,
             "#f7f7f7"
            ],
            [
             0.6,
             "#e6f5d0"
            ],
            [
             0.7,
             "#b8e186"
            ],
            [
             0.8,
             "#7fbc41"
            ],
            [
             0.9,
             "#4d9221"
            ],
            [
             1,
             "#276419"
            ]
           ],
           "sequential": [
            [
             0,
             "#0d0887"
            ],
            [
             0.1111111111111111,
             "#46039f"
            ],
            [
             0.2222222222222222,
             "#7201a8"
            ],
            [
             0.3333333333333333,
             "#9c179e"
            ],
            [
             0.4444444444444444,
             "#bd3786"
            ],
            [
             0.5555555555555556,
             "#d8576b"
            ],
            [
             0.6666666666666666,
             "#ed7953"
            ],
            [
             0.7777777777777778,
             "#fb9f3a"
            ],
            [
             0.8888888888888888,
             "#fdca26"
            ],
            [
             1,
             "#f0f921"
            ]
           ],
           "sequentialminus": [
            [
             0,
             "#0d0887"
            ],
            [
             0.1111111111111111,
             "#46039f"
            ],
            [
             0.2222222222222222,
             "#7201a8"
            ],
            [
             0.3333333333333333,
             "#9c179e"
            ],
            [
             0.4444444444444444,
             "#bd3786"
            ],
            [
             0.5555555555555556,
             "#d8576b"
            ],
            [
             0.6666666666666666,
             "#ed7953"
            ],
            [
             0.7777777777777778,
             "#fb9f3a"
            ],
            [
             0.8888888888888888,
             "#fdca26"
            ],
            [
             1,
             "#f0f921"
            ]
           ]
          },
          "colorway": [
           "#636efa",
           "#EF553B",
           "#00cc96",
           "#ab63fa",
           "#FFA15A",
           "#19d3f3",
           "#FF6692",
           "#B6E880",
           "#FF97FF",
           "#FECB52"
          ],
          "font": {
           "color": "#2a3f5f"
          },
          "geo": {
           "bgcolor": "white",
           "lakecolor": "white",
           "landcolor": "#E5ECF6",
           "showlakes": true,
           "showland": true,
           "subunitcolor": "white"
          },
          "hoverlabel": {
           "align": "left"
          },
          "hovermode": "closest",
          "mapbox": {
           "style": "light"
          },
          "paper_bgcolor": "white",
          "plot_bgcolor": "#E5ECF6",
          "polar": {
           "angularaxis": {
            "gridcolor": "white",
            "linecolor": "white",
            "ticks": ""
           },
           "bgcolor": "#E5ECF6",
           "radialaxis": {
            "gridcolor": "white",
            "linecolor": "white",
            "ticks": ""
           }
          },
          "scene": {
           "xaxis": {
            "backgroundcolor": "#E5ECF6",
            "gridcolor": "white",
            "gridwidth": 2,
            "linecolor": "white",
            "showbackground": true,
            "ticks": "",
            "zerolinecolor": "white"
           },
           "yaxis": {
            "backgroundcolor": "#E5ECF6",
            "gridcolor": "white",
            "gridwidth": 2,
            "linecolor": "white",
            "showbackground": true,
            "ticks": "",
            "zerolinecolor": "white"
           },
           "zaxis": {
            "backgroundcolor": "#E5ECF6",
            "gridcolor": "white",
            "gridwidth": 2,
            "linecolor": "white",
            "showbackground": true,
            "ticks": "",
            "zerolinecolor": "white"
           }
          },
          "shapedefaults": {
           "line": {
            "color": "#2a3f5f"
           }
          },
          "ternary": {
           "aaxis": {
            "gridcolor": "white",
            "linecolor": "white",
            "ticks": ""
           },
           "baxis": {
            "gridcolor": "white",
            "linecolor": "white",
            "ticks": ""
           },
           "bgcolor": "#E5ECF6",
           "caxis": {
            "gridcolor": "white",
            "linecolor": "white",
            "ticks": ""
           }
          },
          "title": {
           "x": 0.05
          },
          "xaxis": {
           "automargin": true,
           "gridcolor": "white",
           "linecolor": "white",
           "ticks": "",
           "title": {
            "standoff": 15
           },
           "zerolinecolor": "white",
           "zerolinewidth": 2
          },
          "yaxis": {
           "automargin": true,
           "gridcolor": "white",
           "linecolor": "white",
           "ticks": "",
           "title": {
            "standoff": 15
           },
           "zerolinecolor": "white",
           "zerolinewidth": 2
          }
         }
        },
        "title": {
         "font": {
          "color": "#4D5663"
         }
        },
        "xaxis": {
         "anchor": "y",
         "domain": [
          0,
          0.2125
         ],
         "gridcolor": "#E1E5ED",
         "showgrid": false,
         "tickfont": {
          "color": "#4D5663"
         },
         "title": {
          "font": {
           "color": "#4D5663"
          },
          "text": ""
         },
         "zerolinecolor": "#E1E5ED"
        },
        "xaxis10": {
         "anchor": "y10",
         "domain": [
          0.2625,
          0.475
         ],
         "gridcolor": "#E1E5ED",
         "showgrid": false,
         "tickfont": {
          "color": "#4D5663"
         },
         "title": {
          "font": {
           "color": "#4D5663"
          },
          "text": ""
         },
         "zerolinecolor": "#E1E5ED"
        },
        "xaxis11": {
         "anchor": "y11",
         "domain": [
          0.525,
          0.7375
         ],
         "gridcolor": "#E1E5ED",
         "showgrid": false,
         "tickfont": {
          "color": "#4D5663"
         },
         "title": {
          "font": {
           "color": "#4D5663"
          },
          "text": ""
         },
         "zerolinecolor": "#E1E5ED"
        },
        "xaxis12": {
         "anchor": "y12",
         "domain": [
          0.7875,
          1
         ],
         "gridcolor": "#E1E5ED",
         "showgrid": false,
         "tickfont": {
          "color": "#4D5663"
         },
         "title": {
          "font": {
           "color": "#4D5663"
          },
          "text": ""
         },
         "zerolinecolor": "#E1E5ED"
        },
        "xaxis13": {
         "anchor": "y13",
         "domain": [
          0,
          0.2125
         ],
         "gridcolor": "#E1E5ED",
         "showgrid": false,
         "tickfont": {
          "color": "#4D5663"
         },
         "title": {
          "font": {
           "color": "#4D5663"
          },
          "text": ""
         },
         "zerolinecolor": "#E1E5ED"
        },
        "xaxis14": {
         "anchor": "y14",
         "domain": [
          0.2625,
          0.475
         ],
         "gridcolor": "#E1E5ED",
         "showgrid": false,
         "tickfont": {
          "color": "#4D5663"
         },
         "title": {
          "font": {
           "color": "#4D5663"
          },
          "text": ""
         },
         "zerolinecolor": "#E1E5ED"
        },
        "xaxis15": {
         "anchor": "y15",
         "domain": [
          0.525,
          0.7375
         ],
         "gridcolor": "#E1E5ED",
         "showgrid": false,
         "tickfont": {
          "color": "#4D5663"
         },
         "title": {
          "font": {
           "color": "#4D5663"
          },
          "text": ""
         },
         "zerolinecolor": "#E1E5ED"
        },
        "xaxis16": {
         "anchor": "y16",
         "domain": [
          0.7875,
          1
         ],
         "gridcolor": "#E1E5ED",
         "showgrid": false,
         "tickfont": {
          "color": "#4D5663"
         },
         "title": {
          "font": {
           "color": "#4D5663"
          },
          "text": ""
         },
         "zerolinecolor": "#E1E5ED"
        },
        "xaxis2": {
         "anchor": "y2",
         "domain": [
          0.2625,
          0.475
         ],
         "gridcolor": "#E1E5ED",
         "showgrid": false,
         "tickfont": {
          "color": "#4D5663"
         },
         "title": {
          "font": {
           "color": "#4D5663"
          },
          "text": ""
         },
         "zerolinecolor": "#E1E5ED"
        },
        "xaxis3": {
         "anchor": "y3",
         "domain": [
          0.525,
          0.7375
         ],
         "gridcolor": "#E1E5ED",
         "showgrid": false,
         "tickfont": {
          "color": "#4D5663"
         },
         "title": {
          "font": {
           "color": "#4D5663"
          },
          "text": ""
         },
         "zerolinecolor": "#E1E5ED"
        },
        "xaxis4": {
         "anchor": "y4",
         "domain": [
          0.7875,
          1
         ],
         "gridcolor": "#E1E5ED",
         "showgrid": false,
         "tickfont": {
          "color": "#4D5663"
         },
         "title": {
          "font": {
           "color": "#4D5663"
          },
          "text": ""
         },
         "zerolinecolor": "#E1E5ED"
        },
        "xaxis5": {
         "anchor": "y5",
         "domain": [
          0,
          0.2125
         ],
         "gridcolor": "#E1E5ED",
         "showgrid": false,
         "tickfont": {
          "color": "#4D5663"
         },
         "title": {
          "font": {
           "color": "#4D5663"
          },
          "text": ""
         },
         "zerolinecolor": "#E1E5ED"
        },
        "xaxis6": {
         "anchor": "y6",
         "domain": [
          0.2625,
          0.475
         ],
         "gridcolor": "#E1E5ED",
         "showgrid": false,
         "tickfont": {
          "color": "#4D5663"
         },
         "title": {
          "font": {
           "color": "#4D5663"
          },
          "text": ""
         },
         "zerolinecolor": "#E1E5ED"
        },
        "xaxis7": {
         "anchor": "y7",
         "domain": [
          0.525,
          0.7375
         ],
         "gridcolor": "#E1E5ED",
         "showgrid": false,
         "tickfont": {
          "color": "#4D5663"
         },
         "title": {
          "font": {
           "color": "#4D5663"
          },
          "text": ""
         },
         "zerolinecolor": "#E1E5ED"
        },
        "xaxis8": {
         "anchor": "y8",
         "domain": [
          0.7875,
          1
         ],
         "gridcolor": "#E1E5ED",
         "showgrid": false,
         "tickfont": {
          "color": "#4D5663"
         },
         "title": {
          "font": {
           "color": "#4D5663"
          },
          "text": ""
         },
         "zerolinecolor": "#E1E5ED"
        },
        "xaxis9": {
         "anchor": "y9",
         "domain": [
          0,
          0.2125
         ],
         "gridcolor": "#E1E5ED",
         "showgrid": false,
         "tickfont": {
          "color": "#4D5663"
         },
         "title": {
          "font": {
           "color": "#4D5663"
          },
          "text": ""
         },
         "zerolinecolor": "#E1E5ED"
        },
        "yaxis": {
         "anchor": "x",
         "domain": [
          0.8025,
          1
         ],
         "gridcolor": "#E1E5ED",
         "showgrid": false,
         "tickfont": {
          "color": "#4D5663"
         },
         "title": {
          "font": {
           "color": "#4D5663"
          },
          "text": ""
         },
         "zerolinecolor": "#E1E5ED"
        },
        "yaxis10": {
         "anchor": "x10",
         "domain": [
          0.2675,
          0.465
         ],
         "gridcolor": "#E1E5ED",
         "showgrid": false,
         "tickfont": {
          "color": "#4D5663"
         },
         "title": {
          "font": {
           "color": "#4D5663"
          },
          "text": ""
         },
         "zerolinecolor": "#E1E5ED"
        },
        "yaxis11": {
         "anchor": "x11",
         "domain": [
          0.2675,
          0.465
         ],
         "gridcolor": "#E1E5ED",
         "showgrid": false,
         "tickfont": {
          "color": "#4D5663"
         },
         "title": {
          "font": {
           "color": "#4D5663"
          },
          "text": ""
         },
         "zerolinecolor": "#E1E5ED"
        },
        "yaxis12": {
         "anchor": "x12",
         "domain": [
          0.2675,
          0.465
         ],
         "gridcolor": "#E1E5ED",
         "showgrid": false,
         "tickfont": {
          "color": "#4D5663"
         },
         "title": {
          "font": {
           "color": "#4D5663"
          },
          "text": ""
         },
         "zerolinecolor": "#E1E5ED"
        },
        "yaxis13": {
         "anchor": "x13",
         "domain": [
          0,
          0.1975
         ],
         "gridcolor": "#E1E5ED",
         "showgrid": false,
         "tickfont": {
          "color": "#4D5663"
         },
         "title": {
          "font": {
           "color": "#4D5663"
          },
          "text": ""
         },
         "zerolinecolor": "#E1E5ED"
        },
        "yaxis14": {
         "anchor": "x14",
         "domain": [
          0,
          0.1975
         ],
         "gridcolor": "#E1E5ED",
         "showgrid": false,
         "tickfont": {
          "color": "#4D5663"
         },
         "title": {
          "font": {
           "color": "#4D5663"
          },
          "text": ""
         },
         "zerolinecolor": "#E1E5ED"
        },
        "yaxis15": {
         "anchor": "x15",
         "domain": [
          0,
          0.1975
         ],
         "gridcolor": "#E1E5ED",
         "showgrid": false,
         "tickfont": {
          "color": "#4D5663"
         },
         "title": {
          "font": {
           "color": "#4D5663"
          },
          "text": ""
         },
         "zerolinecolor": "#E1E5ED"
        },
        "yaxis16": {
         "anchor": "x16",
         "domain": [
          0,
          0.1975
         ],
         "gridcolor": "#E1E5ED",
         "showgrid": false,
         "tickfont": {
          "color": "#4D5663"
         },
         "title": {
          "font": {
           "color": "#4D5663"
          },
          "text": ""
         },
         "zerolinecolor": "#E1E5ED"
        },
        "yaxis2": {
         "anchor": "x2",
         "domain": [
          0.8025,
          1
         ],
         "gridcolor": "#E1E5ED",
         "showgrid": false,
         "tickfont": {
          "color": "#4D5663"
         },
         "title": {
          "font": {
           "color": "#4D5663"
          },
          "text": ""
         },
         "zerolinecolor": "#E1E5ED"
        },
        "yaxis3": {
         "anchor": "x3",
         "domain": [
          0.8025,
          1
         ],
         "gridcolor": "#E1E5ED",
         "showgrid": false,
         "tickfont": {
          "color": "#4D5663"
         },
         "title": {
          "font": {
           "color": "#4D5663"
          },
          "text": ""
         },
         "zerolinecolor": "#E1E5ED"
        },
        "yaxis4": {
         "anchor": "x4",
         "domain": [
          0.8025,
          1
         ],
         "gridcolor": "#E1E5ED",
         "showgrid": false,
         "tickfont": {
          "color": "#4D5663"
         },
         "title": {
          "font": {
           "color": "#4D5663"
          },
          "text": ""
         },
         "zerolinecolor": "#E1E5ED"
        },
        "yaxis5": {
         "anchor": "x5",
         "domain": [
          0.535,
          0.7325
         ],
         "gridcolor": "#E1E5ED",
         "showgrid": false,
         "tickfont": {
          "color": "#4D5663"
         },
         "title": {
          "font": {
           "color": "#4D5663"
          },
          "text": ""
         },
         "zerolinecolor": "#E1E5ED"
        },
        "yaxis6": {
         "anchor": "x6",
         "domain": [
          0.535,
          0.7325
         ],
         "gridcolor": "#E1E5ED",
         "showgrid": false,
         "tickfont": {
          "color": "#4D5663"
         },
         "title": {
          "font": {
           "color": "#4D5663"
          },
          "text": ""
         },
         "zerolinecolor": "#E1E5ED"
        },
        "yaxis7": {
         "anchor": "x7",
         "domain": [
          0.535,
          0.7325
         ],
         "gridcolor": "#E1E5ED",
         "showgrid": false,
         "tickfont": {
          "color": "#4D5663"
         },
         "title": {
          "font": {
           "color": "#4D5663"
          },
          "text": ""
         },
         "zerolinecolor": "#E1E5ED"
        },
        "yaxis8": {
         "anchor": "x8",
         "domain": [
          0.535,
          0.7325
         ],
         "gridcolor": "#E1E5ED",
         "showgrid": false,
         "tickfont": {
          "color": "#4D5663"
         },
         "title": {
          "font": {
           "color": "#4D5663"
          },
          "text": ""
         },
         "zerolinecolor": "#E1E5ED"
        },
        "yaxis9": {
         "anchor": "x9",
         "domain": [
          0.2675,
          0.465
         ],
         "gridcolor": "#E1E5ED",
         "showgrid": false,
         "tickfont": {
          "color": "#4D5663"
         },
         "title": {
          "font": {
           "color": "#4D5663"
          },
          "text": ""
         },
         "zerolinecolor": "#E1E5ED"
        }
       }
      },
      "text/html": [
       "<div>                            <div id=\"d3de8fb4-fbd2-4286-baed-f976a4c5ff09\" class=\"plotly-graph-div\" style=\"height:525px; width:100%;\"></div>            <script type=\"text/javascript\">                require([\"plotly\"], function(Plotly) {                    window.PLOTLYENV=window.PLOTLYENV || {};\n",
       "                    window.PLOTLYENV.BASE_URL='https://plot.ly';                                    if (document.getElementById(\"d3de8fb4-fbd2-4286-baed-f976a4c5ff09\")) {                    Plotly.newPlot(                        \"d3de8fb4-fbd2-4286-baed-f976a4c5ff09\",                        [{\"histfunc\":\"count\",\"histnorm\":\"\",\"marker\":{\"color\":\"rgba(255, 153, 51, 1.0)\",\"line\":{\"color\":\"#4D5663\",\"width\":1.3}},\"name\":\"A\",\"nbinsx\":10,\"opacity\":0.8,\"orientation\":\"v\",\"x\":[-0.7156901301506218,-2.4644340092683623,-0.5020478490356647,0.18831575059229694,-0.9395232600804589,0.6370608619021374,0.3181842436496653,-1.925815864693647,-1.601490197748081,0.7504852699910404,0.34651704071887407,-0.3782613877092965,0.50360062282216,1.1783072011157854,-0.39512918539645014,-0.27615642716525757,-0.6955150924719622,0.22125184868079706,0.3468389819905759,-1.417697236866669,1.115510266869824,-0.19740429399545154,-2.464841424106378,-0.8367326516922796,-1.784665752306031,-0.22786206228857037,-0.05747200108715722,-0.2582444417187888,-0.5840818609797201,-0.6447426754570369,-0.7890790059168368,0.23016315567803003,-1.267679972953894,0.11816464469909889,0.53265482704174,-1.2698235619164742,-1.8768988863675784,-0.9104585436306738,0.5197942871049583,-1.1344331642903294,0.992329649408986,-0.23854074055432464,-0.1930210849793099,0.6095404688520194,-1.232825526706406,-1.5328054495473706,0.3036487187896314,-0.2579415954354775,-0.28408823698571445,0.31097652201661435,0.5365134318194574,-0.2523997745954963,-0.22895996185521222,1.7212536262694407,0.220474283657124,-2.2021749191469557,-0.8986508298431952,-0.3221635884228591,-0.40414847758021716,-0.5652901674053412,1.0766577310137808,0.5349076975629776,0.23762680428485808,-1.7126244683313148,-0.5928398888471055,-1.4949122694654595,-1.1661099302510365,0.46297332937027735,-1.3945134376948467,-0.3869679733820751,-0.9624273069822818,-1.2765077481404117,-0.8586057990186773,-1.3617817621094965,0.5289027802019703,0.6103126439405477,0.9832256017665594,0.5128656072910021,-0.4379259719293449,-0.6556385330952424,0.14179110527076172,-0.01073393938291526,0.5485346127017294,1.2238687868347427,1.3552631701641884,-0.679197152670297,1.4246054066122478,0.37843614621800514,-0.33839561042916416,0.595800624621955,0.2134554912461374,1.115174003760538,0.8652782710066977,0.3619724278187933,-0.9215434485902071,0.8922369823809136,-0.21678248120535829,-0.688812085998554,0.4169838531764566,0.2484314725645371],\"xaxis\":\"x\",\"yaxis\":\"y\",\"type\":\"histogram\"},{\"line\":{\"color\":\"rgba(128, 128, 128, 1.0)\",\"dash\":\"solid\",\"shape\":\"linear\",\"width\":1.3},\"marker\":{\"size\":2,\"symbol\":\"circle\"},\"mode\":\"markers\",\"name\":\"A\",\"text\":\"\",\"x\":[-0.6513797764818611,0.5244019427590942,-1.1744674888572253,0.43368191568401226,0.899497260401665,-1.1445625650980764,0.07099522324692333,0.04362068821287567,-0.8160348335399022,0.1626016136310631,-0.7298670162319529,0.6713855417304806,-0.4897210754965677,-0.48252481799299574,-1.3139286582223493,0.9707580321863382,-1.1464067098017479,-1.6598898005122826,0.23742605508299555,2.6643609903481145,0.22610339598619442,0.6649669769165972,0.9281709465845623,0.9791321813439632,0.8762934680617513,-0.28943460277957755,-0.028190662231939393,0.2719755628483441,0.8570323675771371,-0.9874367202861509,1.1186820362029204,0.12441702071829709,-0.7566677889736816,0.5261667781482235,0.8229391933147238,1.0237625257527891,-1.1075967095024015,0.6989216003060206,0.4484205570752432,-0.26803786635302745,-0.6634160128961857,2.335734557413926,-1.434184074279899,0.2473602698192445,0.22238480469788974,-0.2677583598956593,0.2725413480059053,-0.8395778183942763,-0.661834594922329,-0.27007302620888896,-0.2474487320510582,-1.7686789507801906,-0.6927976504687269,-0.5679102310983882,-0.1715477136966996,-1.295629485531873,0.749114656046574,-0.4396779137233732,0.881864840173589,0.6699484712192457,-0.9865989035422554,0.8041516446982689,0.5708137463595715,-0.3544348711895968,-0.4411283148910683,-0.012678521787541109,-0.15374985521185416,1.0354303578331185,1.3043066720596153,-0.8746890120010864,0.08458332717612128,-0.8003519447971019,-0.6851446620945236,-1.1559883622724791,0.27707248332228673,1.4398769778179106,-1.574198276171295,-0.10824476202121064,-0.878756138704042,0.9528462091562935,0.36882014943302904,0.701962408764391,0.12515471481787668,0.9043374679657142,0.2254823419787821,0.4958042695863272,-0.5975032114557614,0.7257348296841276,0.4855953408620199,-3.3825219320437827,0.5322162490593761,0.05039546272046297,0.10839147887182421,-2.015338751110118,0.643382932891098,-0.8632757680204926,1.1845968063934953,-1.0762885247087823,-0.2673821262177926,0.6680121061201801],\"xaxis\":\"x2\",\"y\":[-0.7156901301506218,-2.4644340092683623,-0.5020478490356647,0.18831575059229694,-0.9395232600804589,0.6370608619021374,0.3181842436496653,-1.925815864693647,-1.601490197748081,0.7504852699910404,0.34651704071887407,-0.3782613877092965,0.50360062282216,1.1783072011157854,-0.39512918539645014,-0.27615642716525757,-0.6955150924719622,0.22125184868079706,0.3468389819905759,-1.417697236866669,1.115510266869824,-0.19740429399545154,-2.464841424106378,-0.8367326516922796,-1.784665752306031,-0.22786206228857037,-0.05747200108715722,-0.2582444417187888,-0.5840818609797201,-0.6447426754570369,-0.7890790059168368,0.23016315567803003,-1.267679972953894,0.11816464469909889,0.53265482704174,-1.2698235619164742,-1.8768988863675784,-0.9104585436306738,0.5197942871049583,-1.1344331642903294,0.992329649408986,-0.23854074055432464,-0.1930210849793099,0.6095404688520194,-1.232825526706406,-1.5328054495473706,0.3036487187896314,-0.2579415954354775,-0.28408823698571445,0.31097652201661435,0.5365134318194574,-0.2523997745954963,-0.22895996185521222,1.7212536262694407,0.220474283657124,-2.2021749191469557,-0.8986508298431952,-0.3221635884228591,-0.40414847758021716,-0.5652901674053412,1.0766577310137808,0.5349076975629776,0.23762680428485808,-1.7126244683313148,-0.5928398888471055,-1.4949122694654595,-1.1661099302510365,0.46297332937027735,-1.3945134376948467,-0.3869679733820751,-0.9624273069822818,-1.2765077481404117,-0.8586057990186773,-1.3617817621094965,0.5289027802019703,0.6103126439405477,0.9832256017665594,0.5128656072910021,-0.4379259719293449,-0.6556385330952424,0.14179110527076172,-0.01073393938291526,0.5485346127017294,1.2238687868347427,1.3552631701641884,-0.679197152670297,1.4246054066122478,0.37843614621800514,-0.33839561042916416,0.595800624621955,0.2134554912461374,1.115174003760538,0.8652782710066977,0.3619724278187933,-0.9215434485902071,0.8922369823809136,-0.21678248120535829,-0.688812085998554,0.4169838531764566,0.2484314725645371],\"yaxis\":\"y2\",\"type\":\"scatter\"},{\"line\":{\"color\":\"rgba(128, 128, 128, 1.0)\",\"dash\":\"solid\",\"shape\":\"linear\",\"width\":1.3},\"marker\":{\"size\":2,\"symbol\":\"circle\"},\"mode\":\"markers\",\"name\":\"A\",\"text\":\"\",\"x\":[0.8137369102886218,0.38406014021774704,0.8583336537775053,0.7957618956642141,1.4255409888334887,0.8494018529837316,0.8802582494550352,-0.4548968791233935,1.533558939208995,1.2524824477853664,-0.033876479326621675,-0.4110101837052343,-0.733897082639919,-0.7106157418903448,0.13722035073207373,0.7050198361557896,-0.5932002075891633,-1.3382789055267625,-2.5278828482383777,0.3982133911024089,0.525353202328653,-1.4962518795013926,-0.004760785788584715,0.7261859574377102,-1.303544165066935,-0.22178654551626484,1.494967772766792,0.628943023944182,-0.38821823494941937,-0.5668127027710045,0.7171598405660004,-0.7835133022052192,0.5000437115319482,0.7691384803578691,0.5523229894508553,-0.5541894348408164,-0.29938489655996475,-0.9131431790549518,-0.9794679240966921,1.163902122315106,-0.7752221633763264,-1.4495537781745207,0.4973865186073324,1.5030952854902895,-2.4964076259780277,0.1704835173224211,-0.02260160498626511,-0.9649170187581313,0.2019753230544578,-0.04155962146865371,1.615286363193417,0.3573636666371769,0.476460448964524,-1.5471884370551918,-1.3091741423554952,-0.8071981886965368,-1.318025945849581,-0.6618589471814981,-1.6212376252324474,2.1050156023915885,1.0382758927906282,1.0130772399982644,-0.5428322837985744,-1.5666433561393516,0.27206912749567025,-1.7500682837131234,-0.2470384533993433,0.856745769810696,0.050397071646110105,0.8591172982979858,-0.6237323300872393,-0.2802519687360328,-0.4115985448779974,-1.1095613669007458,-0.450350331399409,0.7805669384646385,0.3276051738502298,0.01799327164835346,0.47236995129634307,0.35546341981105,-0.1421734726670186,0.047300376883126743,1.3342425261563757,-0.20148061733839542,0.9372203022599283,-2.4673847964720728,0.20859636566666065,-0.6617846346669848,0.14039920109570533,-0.011579410918395594,-0.9564288279200693,0.8443967791582719,0.23651978111457783,0.06994116836111282,0.05499648632899061,0.3164823679807695,0.2995759568898395,2.3065943637298405,0.8967195702087817,0.21196575600905265],\"xaxis\":\"x3\",\"y\":[-0.7156901301506218,-2.4644340092683623,-0.5020478490356647,0.18831575059229694,-0.9395232600804589,0.6370608619021374,0.3181842436496653,-1.925815864693647,-1.601490197748081,0.7504852699910404,0.34651704071887407,-0.3782613877092965,0.50360062282216,1.1783072011157854,-0.39512918539645014,-0.27615642716525757,-0.6955150924719622,0.22125184868079706,0.3468389819905759,-1.417697236866669,1.115510266869824,-0.19740429399545154,-2.464841424106378,-0.8367326516922796,-1.784665752306031,-0.22786206228857037,-0.05747200108715722,-0.2582444417187888,-0.5840818609797201,-0.6447426754570369,-0.7890790059168368,0.23016315567803003,-1.267679972953894,0.11816464469909889,0.53265482704174,-1.2698235619164742,-1.8768988863675784,-0.9104585436306738,0.5197942871049583,-1.1344331642903294,0.992329649408986,-0.23854074055432464,-0.1930210849793099,0.6095404688520194,-1.232825526706406,-1.5328054495473706,0.3036487187896314,-0.2579415954354775,-0.28408823698571445,0.31097652201661435,0.5365134318194574,-0.2523997745954963,-0.22895996185521222,1.7212536262694407,0.220474283657124,-2.2021749191469557,-0.8986508298431952,-0.3221635884228591,-0.40414847758021716,-0.5652901674053412,1.0766577310137808,0.5349076975629776,0.23762680428485808,-1.7126244683313148,-0.5928398888471055,-1.4949122694654595,-1.1661099302510365,0.46297332937027735,-1.3945134376948467,-0.3869679733820751,-0.9624273069822818,-1.2765077481404117,-0.8586057990186773,-1.3617817621094965,0.5289027802019703,0.6103126439405477,0.9832256017665594,0.5128656072910021,-0.4379259719293449,-0.6556385330952424,0.14179110527076172,-0.01073393938291526,0.5485346127017294,1.2238687868347427,1.3552631701641884,-0.679197152670297,1.4246054066122478,0.37843614621800514,-0.33839561042916416,0.595800624621955,0.2134554912461374,1.115174003760538,0.8652782710066977,0.3619724278187933,-0.9215434485902071,0.8922369823809136,-0.21678248120535829,-0.688812085998554,0.4169838531764566,0.2484314725645371],\"yaxis\":\"y3\",\"type\":\"scatter\"},{\"line\":{\"color\":\"rgba(128, 128, 128, 1.0)\",\"dash\":\"solid\",\"shape\":\"linear\",\"width\":1.3},\"marker\":{\"size\":2,\"symbol\":\"circle\"},\"mode\":\"markers\",\"name\":\"A\",\"text\":\"\",\"x\":[-0.41219737818529484,-0.9147191048039742,-1.219436193264347,1.5143994015691824,-2.1923301711810854,-0.903162267803806,1.0535462050704751,1.3960764437556177,0.3868619326568071,2.4525121979965308,0.0162161852241048,-0.4865399398552347,-0.6787831914000225,0.5952961179509224,0.9830827168768127,-0.5346074416237119,-1.8912269743098613,0.26106748829081644,1.476982997259971,-0.5837317944279515,-0.7322797758184094,-0.39419677768356387,-1.2307469264419622,0.3691142487885274,0.10966935398854762,-1.8053571689536656,-1.3362299798042523,1.0089180857224092,-0.7615747766983384,0.36279850099698424,-0.7864714134428039,-1.181668042014758,1.728369859890661,-0.04638915353653599,-0.3831109541831568,-1.692721071636255,-1.5919271991803412,0.8131457402676022,-0.2623198079568097,-1.9297665234901917,0.5076022583968207,-0.7140700625790625,0.3877288533850373,-0.4490557874850287,-0.7419266784049801,0.2769750352385636,-0.8886943267677583,0.19192681012128301,0.09254975120678652,0.25732296596707616,0.9461575249601594,-0.6547615010632385,1.0213950353696173,-0.29650290380060607,-1.320561240484073,0.30634684088010666,1.6403512148036148,1.4411529386636375,-0.502521705413938,-1.5550507017255497,-0.020193581404571784,1.1195063630136661,0.48288866582198753,0.6563853813135773,-0.03148201203133492,-0.6004264577182319,-0.409234215080488,-0.8834550220085939,0.18380424901299702,0.2753619971526059,-0.6578001097887088,0.8916561480623405,-0.08633187088099142,2.4539354030313616,0.7520702214235129,0.14825848428316013,0.5702749266765967,-1.161687966074187,0.5356915966245412,0.3307916225249503,-0.07440235159590498,0.10355787679932259,-0.5182391049382354,-1.6406755589160074,0.3480314724055074,0.15069414263181075,-1.0074768878248537,-0.007758560194556815,-0.3420105288611878,0.660954410451113,2.9107940920537745,-0.2626456029714481,1.1950250389328134,0.11697580915798587,-1.3186213144915546,0.2646137965520151,-0.16324258610278844,-0.48948430249355385,-0.3941668214094899,0.40569059888863773],\"xaxis\":\"x4\",\"y\":[-0.7156901301506218,-2.4644340092683623,-0.5020478490356647,0.18831575059229694,-0.9395232600804589,0.6370608619021374,0.3181842436496653,-1.925815864693647,-1.601490197748081,0.7504852699910404,0.34651704071887407,-0.3782613877092965,0.50360062282216,1.1783072011157854,-0.39512918539645014,-0.27615642716525757,-0.6955150924719622,0.22125184868079706,0.3468389819905759,-1.417697236866669,1.115510266869824,-0.19740429399545154,-2.464841424106378,-0.8367326516922796,-1.784665752306031,-0.22786206228857037,-0.05747200108715722,-0.2582444417187888,-0.5840818609797201,-0.6447426754570369,-0.7890790059168368,0.23016315567803003,-1.267679972953894,0.11816464469909889,0.53265482704174,-1.2698235619164742,-1.8768988863675784,-0.9104585436306738,0.5197942871049583,-1.1344331642903294,0.992329649408986,-0.23854074055432464,-0.1930210849793099,0.6095404688520194,-1.232825526706406,-1.5328054495473706,0.3036487187896314,-0.2579415954354775,-0.28408823698571445,0.31097652201661435,0.5365134318194574,-0.2523997745954963,-0.22895996185521222,1.7212536262694407,0.220474283657124,-2.2021749191469557,-0.8986508298431952,-0.3221635884228591,-0.40414847758021716,-0.5652901674053412,1.0766577310137808,0.5349076975629776,0.23762680428485808,-1.7126244683313148,-0.5928398888471055,-1.4949122694654595,-1.1661099302510365,0.46297332937027735,-1.3945134376948467,-0.3869679733820751,-0.9624273069822818,-1.2765077481404117,-0.8586057990186773,-1.3617817621094965,0.5289027802019703,0.6103126439405477,0.9832256017665594,0.5128656072910021,-0.4379259719293449,-0.6556385330952424,0.14179110527076172,-0.01073393938291526,0.5485346127017294,1.2238687868347427,1.3552631701641884,-0.679197152670297,1.4246054066122478,0.37843614621800514,-0.33839561042916416,0.595800624621955,0.2134554912461374,1.115174003760538,0.8652782710066977,0.3619724278187933,-0.9215434485902071,0.8922369823809136,-0.21678248120535829,-0.688812085998554,0.4169838531764566,0.2484314725645371],\"yaxis\":\"y4\",\"type\":\"scatter\"},{\"line\":{\"color\":\"rgba(128, 128, 128, 1.0)\",\"dash\":\"solid\",\"shape\":\"linear\",\"width\":1.3},\"marker\":{\"size\":2,\"symbol\":\"circle\"},\"mode\":\"markers\",\"name\":\"B\",\"text\":\"\",\"x\":[-0.7156901301506218,-2.4644340092683623,-0.5020478490356647,0.18831575059229694,-0.9395232600804589,0.6370608619021374,0.3181842436496653,-1.925815864693647,-1.601490197748081,0.7504852699910404,0.34651704071887407,-0.3782613877092965,0.50360062282216,1.1783072011157854,-0.39512918539645014,-0.27615642716525757,-0.6955150924719622,0.22125184868079706,0.3468389819905759,-1.417697236866669,1.115510266869824,-0.19740429399545154,-2.464841424106378,-0.8367326516922796,-1.784665752306031,-0.22786206228857037,-0.05747200108715722,-0.2582444417187888,-0.5840818609797201,-0.6447426754570369,-0.7890790059168368,0.23016315567803003,-1.267679972953894,0.11816464469909889,0.53265482704174,-1.2698235619164742,-1.8768988863675784,-0.9104585436306738,0.5197942871049583,-1.1344331642903294,0.992329649408986,-0.23854074055432464,-0.1930210849793099,0.6095404688520194,-1.232825526706406,-1.5328054495473706,0.3036487187896314,-0.2579415954354775,-0.28408823698571445,0.31097652201661435,0.5365134318194574,-0.2523997745954963,-0.22895996185521222,1.7212536262694407,0.220474283657124,-2.2021749191469557,-0.8986508298431952,-0.3221635884228591,-0.40414847758021716,-0.5652901674053412,1.0766577310137808,0.5349076975629776,0.23762680428485808,-1.7126244683313148,-0.5928398888471055,-1.4949122694654595,-1.1661099302510365,0.46297332937027735,-1.3945134376948467,-0.3869679733820751,-0.9624273069822818,-1.2765077481404117,-0.8586057990186773,-1.3617817621094965,0.5289027802019703,0.6103126439405477,0.9832256017665594,0.5128656072910021,-0.4379259719293449,-0.6556385330952424,0.14179110527076172,-0.01073393938291526,0.5485346127017294,1.2238687868347427,1.3552631701641884,-0.679197152670297,1.4246054066122478,0.37843614621800514,-0.33839561042916416,0.595800624621955,0.2134554912461374,1.115174003760538,0.8652782710066977,0.3619724278187933,-0.9215434485902071,0.8922369823809136,-0.21678248120535829,-0.688812085998554,0.4169838531764566,0.2484314725645371],\"xaxis\":\"x5\",\"y\":[-0.6513797764818611,0.5244019427590942,-1.1744674888572253,0.43368191568401226,0.899497260401665,-1.1445625650980764,0.07099522324692333,0.04362068821287567,-0.8160348335399022,0.1626016136310631,-0.7298670162319529,0.6713855417304806,-0.4897210754965677,-0.48252481799299574,-1.3139286582223493,0.9707580321863382,-1.1464067098017479,-1.6598898005122826,0.23742605508299555,2.6643609903481145,0.22610339598619442,0.6649669769165972,0.9281709465845623,0.9791321813439632,0.8762934680617513,-0.28943460277957755,-0.028190662231939393,0.2719755628483441,0.8570323675771371,-0.9874367202861509,1.1186820362029204,0.12441702071829709,-0.7566677889736816,0.5261667781482235,0.8229391933147238,1.0237625257527891,-1.1075967095024015,0.6989216003060206,0.4484205570752432,-0.26803786635302745,-0.6634160128961857,2.335734557413926,-1.434184074279899,0.2473602698192445,0.22238480469788974,-0.2677583598956593,0.2725413480059053,-0.8395778183942763,-0.661834594922329,-0.27007302620888896,-0.2474487320510582,-1.7686789507801906,-0.6927976504687269,-0.5679102310983882,-0.1715477136966996,-1.295629485531873,0.749114656046574,-0.4396779137233732,0.881864840173589,0.6699484712192457,-0.9865989035422554,0.8041516446982689,0.5708137463595715,-0.3544348711895968,-0.4411283148910683,-0.012678521787541109,-0.15374985521185416,1.0354303578331185,1.3043066720596153,-0.8746890120010864,0.08458332717612128,-0.8003519447971019,-0.6851446620945236,-1.1559883622724791,0.27707248332228673,1.4398769778179106,-1.574198276171295,-0.10824476202121064,-0.878756138704042,0.9528462091562935,0.36882014943302904,0.701962408764391,0.12515471481787668,0.9043374679657142,0.2254823419787821,0.4958042695863272,-0.5975032114557614,0.7257348296841276,0.4855953408620199,-3.3825219320437827,0.5322162490593761,0.05039546272046297,0.10839147887182421,-2.015338751110118,0.643382932891098,-0.8632757680204926,1.1845968063934953,-1.0762885247087823,-0.2673821262177926,0.6680121061201801],\"yaxis\":\"y5\",\"type\":\"scatter\"},{\"histfunc\":\"count\",\"histnorm\":\"\",\"marker\":{\"color\":\"rgba(55, 128, 191, 1.0)\",\"line\":{\"color\":\"#4D5663\",\"width\":1.3}},\"name\":\"B\",\"nbinsx\":10,\"opacity\":0.8,\"orientation\":\"v\",\"x\":[-0.6513797764818611,0.5244019427590942,-1.1744674888572253,0.43368191568401226,0.899497260401665,-1.1445625650980764,0.07099522324692333,0.04362068821287567,-0.8160348335399022,0.1626016136310631,-0.7298670162319529,0.6713855417304806,-0.4897210754965677,-0.48252481799299574,-1.3139286582223493,0.9707580321863382,-1.1464067098017479,-1.6598898005122826,0.23742605508299555,2.6643609903481145,0.22610339598619442,0.6649669769165972,0.9281709465845623,0.9791321813439632,0.8762934680617513,-0.28943460277957755,-0.028190662231939393,0.2719755628483441,0.8570323675771371,-0.9874367202861509,1.1186820362029204,0.12441702071829709,-0.7566677889736816,0.5261667781482235,0.8229391933147238,1.0237625257527891,-1.1075967095024015,0.6989216003060206,0.4484205570752432,-0.26803786635302745,-0.6634160128961857,2.335734557413926,-1.434184074279899,0.2473602698192445,0.22238480469788974,-0.2677583598956593,0.2725413480059053,-0.8395778183942763,-0.661834594922329,-0.27007302620888896,-0.2474487320510582,-1.7686789507801906,-0.6927976504687269,-0.5679102310983882,-0.1715477136966996,-1.295629485531873,0.749114656046574,-0.4396779137233732,0.881864840173589,0.6699484712192457,-0.9865989035422554,0.8041516446982689,0.5708137463595715,-0.3544348711895968,-0.4411283148910683,-0.012678521787541109,-0.15374985521185416,1.0354303578331185,1.3043066720596153,-0.8746890120010864,0.08458332717612128,-0.8003519447971019,-0.6851446620945236,-1.1559883622724791,0.27707248332228673,1.4398769778179106,-1.574198276171295,-0.10824476202121064,-0.878756138704042,0.9528462091562935,0.36882014943302904,0.701962408764391,0.12515471481787668,0.9043374679657142,0.2254823419787821,0.4958042695863272,-0.5975032114557614,0.7257348296841276,0.4855953408620199,-3.3825219320437827,0.5322162490593761,0.05039546272046297,0.10839147887182421,-2.015338751110118,0.643382932891098,-0.8632757680204926,1.1845968063934953,-1.0762885247087823,-0.2673821262177926,0.6680121061201801],\"xaxis\":\"x6\",\"yaxis\":\"y6\",\"type\":\"histogram\"},{\"line\":{\"color\":\"rgba(128, 128, 128, 1.0)\",\"dash\":\"solid\",\"shape\":\"linear\",\"width\":1.3},\"marker\":{\"size\":2,\"symbol\":\"circle\"},\"mode\":\"markers\",\"name\":\"B\",\"text\":\"\",\"x\":[0.8137369102886218,0.38406014021774704,0.8583336537775053,0.7957618956642141,1.4255409888334887,0.8494018529837316,0.8802582494550352,-0.4548968791233935,1.533558939208995,1.2524824477853664,-0.033876479326621675,-0.4110101837052343,-0.733897082639919,-0.7106157418903448,0.13722035073207373,0.7050198361557896,-0.5932002075891633,-1.3382789055267625,-2.5278828482383777,0.3982133911024089,0.525353202328653,-1.4962518795013926,-0.004760785788584715,0.7261859574377102,-1.303544165066935,-0.22178654551626484,1.494967772766792,0.628943023944182,-0.38821823494941937,-0.5668127027710045,0.7171598405660004,-0.7835133022052192,0.5000437115319482,0.7691384803578691,0.5523229894508553,-0.5541894348408164,-0.29938489655996475,-0.9131431790549518,-0.9794679240966921,1.163902122315106,-0.7752221633763264,-1.4495537781745207,0.4973865186073324,1.5030952854902895,-2.4964076259780277,0.1704835173224211,-0.02260160498626511,-0.9649170187581313,0.2019753230544578,-0.04155962146865371,1.615286363193417,0.3573636666371769,0.476460448964524,-1.5471884370551918,-1.3091741423554952,-0.8071981886965368,-1.318025945849581,-0.6618589471814981,-1.6212376252324474,2.1050156023915885,1.0382758927906282,1.0130772399982644,-0.5428322837985744,-1.5666433561393516,0.27206912749567025,-1.7500682837131234,-0.2470384533993433,0.856745769810696,0.050397071646110105,0.8591172982979858,-0.6237323300872393,-0.2802519687360328,-0.4115985448779974,-1.1095613669007458,-0.450350331399409,0.7805669384646385,0.3276051738502298,0.01799327164835346,0.47236995129634307,0.35546341981105,-0.1421734726670186,0.047300376883126743,1.3342425261563757,-0.20148061733839542,0.9372203022599283,-2.4673847964720728,0.20859636566666065,-0.6617846346669848,0.14039920109570533,-0.011579410918395594,-0.9564288279200693,0.8443967791582719,0.23651978111457783,0.06994116836111282,0.05499648632899061,0.3164823679807695,0.2995759568898395,2.3065943637298405,0.8967195702087817,0.21196575600905265],\"xaxis\":\"x7\",\"y\":[-0.6513797764818611,0.5244019427590942,-1.1744674888572253,0.43368191568401226,0.899497260401665,-1.1445625650980764,0.07099522324692333,0.04362068821287567,-0.8160348335399022,0.1626016136310631,-0.7298670162319529,0.6713855417304806,-0.4897210754965677,-0.48252481799299574,-1.3139286582223493,0.9707580321863382,-1.1464067098017479,-1.6598898005122826,0.23742605508299555,2.6643609903481145,0.22610339598619442,0.6649669769165972,0.9281709465845623,0.9791321813439632,0.8762934680617513,-0.28943460277957755,-0.028190662231939393,0.2719755628483441,0.8570323675771371,-0.9874367202861509,1.1186820362029204,0.12441702071829709,-0.7566677889736816,0.5261667781482235,0.8229391933147238,1.0237625257527891,-1.1075967095024015,0.6989216003060206,0.4484205570752432,-0.26803786635302745,-0.6634160128961857,2.335734557413926,-1.434184074279899,0.2473602698192445,0.22238480469788974,-0.2677583598956593,0.2725413480059053,-0.8395778183942763,-0.661834594922329,-0.27007302620888896,-0.2474487320510582,-1.7686789507801906,-0.6927976504687269,-0.5679102310983882,-0.1715477136966996,-1.295629485531873,0.749114656046574,-0.4396779137233732,0.881864840173589,0.6699484712192457,-0.9865989035422554,0.8041516446982689,0.5708137463595715,-0.3544348711895968,-0.4411283148910683,-0.012678521787541109,-0.15374985521185416,1.0354303578331185,1.3043066720596153,-0.8746890120010864,0.08458332717612128,-0.8003519447971019,-0.6851446620945236,-1.1559883622724791,0.27707248332228673,1.4398769778179106,-1.574198276171295,-0.10824476202121064,-0.878756138704042,0.9528462091562935,0.36882014943302904,0.701962408764391,0.12515471481787668,0.9043374679657142,0.2254823419787821,0.4958042695863272,-0.5975032114557614,0.7257348296841276,0.4855953408620199,-3.3825219320437827,0.5322162490593761,0.05039546272046297,0.10839147887182421,-2.015338751110118,0.643382932891098,-0.8632757680204926,1.1845968063934953,-1.0762885247087823,-0.2673821262177926,0.6680121061201801],\"yaxis\":\"y7\",\"type\":\"scatter\"},{\"line\":{\"color\":\"rgba(128, 128, 128, 1.0)\",\"dash\":\"solid\",\"shape\":\"linear\",\"width\":1.3},\"marker\":{\"size\":2,\"symbol\":\"circle\"},\"mode\":\"markers\",\"name\":\"B\",\"text\":\"\",\"x\":[-0.41219737818529484,-0.9147191048039742,-1.219436193264347,1.5143994015691824,-2.1923301711810854,-0.903162267803806,1.0535462050704751,1.3960764437556177,0.3868619326568071,2.4525121979965308,0.0162161852241048,-0.4865399398552347,-0.6787831914000225,0.5952961179509224,0.9830827168768127,-0.5346074416237119,-1.8912269743098613,0.26106748829081644,1.476982997259971,-0.5837317944279515,-0.7322797758184094,-0.39419677768356387,-1.2307469264419622,0.3691142487885274,0.10966935398854762,-1.8053571689536656,-1.3362299798042523,1.0089180857224092,-0.7615747766983384,0.36279850099698424,-0.7864714134428039,-1.181668042014758,1.728369859890661,-0.04638915353653599,-0.3831109541831568,-1.692721071636255,-1.5919271991803412,0.8131457402676022,-0.2623198079568097,-1.9297665234901917,0.5076022583968207,-0.7140700625790625,0.3877288533850373,-0.4490557874850287,-0.7419266784049801,0.2769750352385636,-0.8886943267677583,0.19192681012128301,0.09254975120678652,0.25732296596707616,0.9461575249601594,-0.6547615010632385,1.0213950353696173,-0.29650290380060607,-1.320561240484073,0.30634684088010666,1.6403512148036148,1.4411529386636375,-0.502521705413938,-1.5550507017255497,-0.020193581404571784,1.1195063630136661,0.48288866582198753,0.6563853813135773,-0.03148201203133492,-0.6004264577182319,-0.409234215080488,-0.8834550220085939,0.18380424901299702,0.2753619971526059,-0.6578001097887088,0.8916561480623405,-0.08633187088099142,2.4539354030313616,0.7520702214235129,0.14825848428316013,0.5702749266765967,-1.161687966074187,0.5356915966245412,0.3307916225249503,-0.07440235159590498,0.10355787679932259,-0.5182391049382354,-1.6406755589160074,0.3480314724055074,0.15069414263181075,-1.0074768878248537,-0.007758560194556815,-0.3420105288611878,0.660954410451113,2.9107940920537745,-0.2626456029714481,1.1950250389328134,0.11697580915798587,-1.3186213144915546,0.2646137965520151,-0.16324258610278844,-0.48948430249355385,-0.3941668214094899,0.40569059888863773],\"xaxis\":\"x8\",\"y\":[-0.6513797764818611,0.5244019427590942,-1.1744674888572253,0.43368191568401226,0.899497260401665,-1.1445625650980764,0.07099522324692333,0.04362068821287567,-0.8160348335399022,0.1626016136310631,-0.7298670162319529,0.6713855417304806,-0.4897210754965677,-0.48252481799299574,-1.3139286582223493,0.9707580321863382,-1.1464067098017479,-1.6598898005122826,0.23742605508299555,2.6643609903481145,0.22610339598619442,0.6649669769165972,0.9281709465845623,0.9791321813439632,0.8762934680617513,-0.28943460277957755,-0.028190662231939393,0.2719755628483441,0.8570323675771371,-0.9874367202861509,1.1186820362029204,0.12441702071829709,-0.7566677889736816,0.5261667781482235,0.8229391933147238,1.0237625257527891,-1.1075967095024015,0.6989216003060206,0.4484205570752432,-0.26803786635302745,-0.6634160128961857,2.335734557413926,-1.434184074279899,0.2473602698192445,0.22238480469788974,-0.2677583598956593,0.2725413480059053,-0.8395778183942763,-0.661834594922329,-0.27007302620888896,-0.2474487320510582,-1.7686789507801906,-0.6927976504687269,-0.5679102310983882,-0.1715477136966996,-1.295629485531873,0.749114656046574,-0.4396779137233732,0.881864840173589,0.6699484712192457,-0.9865989035422554,0.8041516446982689,0.5708137463595715,-0.3544348711895968,-0.4411283148910683,-0.012678521787541109,-0.15374985521185416,1.0354303578331185,1.3043066720596153,-0.8746890120010864,0.08458332717612128,-0.8003519447971019,-0.6851446620945236,-1.1559883622724791,0.27707248332228673,1.4398769778179106,-1.574198276171295,-0.10824476202121064,-0.878756138704042,0.9528462091562935,0.36882014943302904,0.701962408764391,0.12515471481787668,0.9043374679657142,0.2254823419787821,0.4958042695863272,-0.5975032114557614,0.7257348296841276,0.4855953408620199,-3.3825219320437827,0.5322162490593761,0.05039546272046297,0.10839147887182421,-2.015338751110118,0.643382932891098,-0.8632757680204926,1.1845968063934953,-1.0762885247087823,-0.2673821262177926,0.6680121061201801],\"yaxis\":\"y8\",\"type\":\"scatter\"},{\"line\":{\"color\":\"rgba(128, 128, 128, 1.0)\",\"dash\":\"solid\",\"shape\":\"linear\",\"width\":1.3},\"marker\":{\"size\":2,\"symbol\":\"circle\"},\"mode\":\"markers\",\"name\":\"C\",\"text\":\"\",\"x\":[-0.7156901301506218,-2.4644340092683623,-0.5020478490356647,0.18831575059229694,-0.9395232600804589,0.6370608619021374,0.3181842436496653,-1.925815864693647,-1.601490197748081,0.7504852699910404,0.34651704071887407,-0.3782613877092965,0.50360062282216,1.1783072011157854,-0.39512918539645014,-0.27615642716525757,-0.6955150924719622,0.22125184868079706,0.3468389819905759,-1.417697236866669,1.115510266869824,-0.19740429399545154,-2.464841424106378,-0.8367326516922796,-1.784665752306031,-0.22786206228857037,-0.05747200108715722,-0.2582444417187888,-0.5840818609797201,-0.6447426754570369,-0.7890790059168368,0.23016315567803003,-1.267679972953894,0.11816464469909889,0.53265482704174,-1.2698235619164742,-1.8768988863675784,-0.9104585436306738,0.5197942871049583,-1.1344331642903294,0.992329649408986,-0.23854074055432464,-0.1930210849793099,0.6095404688520194,-1.232825526706406,-1.5328054495473706,0.3036487187896314,-0.2579415954354775,-0.28408823698571445,0.31097652201661435,0.5365134318194574,-0.2523997745954963,-0.22895996185521222,1.7212536262694407,0.220474283657124,-2.2021749191469557,-0.8986508298431952,-0.3221635884228591,-0.40414847758021716,-0.5652901674053412,1.0766577310137808,0.5349076975629776,0.23762680428485808,-1.7126244683313148,-0.5928398888471055,-1.4949122694654595,-1.1661099302510365,0.46297332937027735,-1.3945134376948467,-0.3869679733820751,-0.9624273069822818,-1.2765077481404117,-0.8586057990186773,-1.3617817621094965,0.5289027802019703,0.6103126439405477,0.9832256017665594,0.5128656072910021,-0.4379259719293449,-0.6556385330952424,0.14179110527076172,-0.01073393938291526,0.5485346127017294,1.2238687868347427,1.3552631701641884,-0.679197152670297,1.4246054066122478,0.37843614621800514,-0.33839561042916416,0.595800624621955,0.2134554912461374,1.115174003760538,0.8652782710066977,0.3619724278187933,-0.9215434485902071,0.8922369823809136,-0.21678248120535829,-0.688812085998554,0.4169838531764566,0.2484314725645371],\"xaxis\":\"x9\",\"y\":[0.8137369102886218,0.38406014021774704,0.8583336537775053,0.7957618956642141,1.4255409888334887,0.8494018529837316,0.8802582494550352,-0.4548968791233935,1.533558939208995,1.2524824477853664,-0.033876479326621675,-0.4110101837052343,-0.733897082639919,-0.7106157418903448,0.13722035073207373,0.7050198361557896,-0.5932002075891633,-1.3382789055267625,-2.5278828482383777,0.3982133911024089,0.525353202328653,-1.4962518795013926,-0.004760785788584715,0.7261859574377102,-1.303544165066935,-0.22178654551626484,1.494967772766792,0.628943023944182,-0.38821823494941937,-0.5668127027710045,0.7171598405660004,-0.7835133022052192,0.5000437115319482,0.7691384803578691,0.5523229894508553,-0.5541894348408164,-0.29938489655996475,-0.9131431790549518,-0.9794679240966921,1.163902122315106,-0.7752221633763264,-1.4495537781745207,0.4973865186073324,1.5030952854902895,-2.4964076259780277,0.1704835173224211,-0.02260160498626511,-0.9649170187581313,0.2019753230544578,-0.04155962146865371,1.615286363193417,0.3573636666371769,0.476460448964524,-1.5471884370551918,-1.3091741423554952,-0.8071981886965368,-1.318025945849581,-0.6618589471814981,-1.6212376252324474,2.1050156023915885,1.0382758927906282,1.0130772399982644,-0.5428322837985744,-1.5666433561393516,0.27206912749567025,-1.7500682837131234,-0.2470384533993433,0.856745769810696,0.050397071646110105,0.8591172982979858,-0.6237323300872393,-0.2802519687360328,-0.4115985448779974,-1.1095613669007458,-0.450350331399409,0.7805669384646385,0.3276051738502298,0.01799327164835346,0.47236995129634307,0.35546341981105,-0.1421734726670186,0.047300376883126743,1.3342425261563757,-0.20148061733839542,0.9372203022599283,-2.4673847964720728,0.20859636566666065,-0.6617846346669848,0.14039920109570533,-0.011579410918395594,-0.9564288279200693,0.8443967791582719,0.23651978111457783,0.06994116836111282,0.05499648632899061,0.3164823679807695,0.2995759568898395,2.3065943637298405,0.8967195702087817,0.21196575600905265],\"yaxis\":\"y9\",\"type\":\"scatter\"},{\"line\":{\"color\":\"rgba(128, 128, 128, 1.0)\",\"dash\":\"solid\",\"shape\":\"linear\",\"width\":1.3},\"marker\":{\"size\":2,\"symbol\":\"circle\"},\"mode\":\"markers\",\"name\":\"C\",\"text\":\"\",\"x\":[-0.6513797764818611,0.5244019427590942,-1.1744674888572253,0.43368191568401226,0.899497260401665,-1.1445625650980764,0.07099522324692333,0.04362068821287567,-0.8160348335399022,0.1626016136310631,-0.7298670162319529,0.6713855417304806,-0.4897210754965677,-0.48252481799299574,-1.3139286582223493,0.9707580321863382,-1.1464067098017479,-1.6598898005122826,0.23742605508299555,2.6643609903481145,0.22610339598619442,0.6649669769165972,0.9281709465845623,0.9791321813439632,0.8762934680617513,-0.28943460277957755,-0.028190662231939393,0.2719755628483441,0.8570323675771371,-0.9874367202861509,1.1186820362029204,0.12441702071829709,-0.7566677889736816,0.5261667781482235,0.8229391933147238,1.0237625257527891,-1.1075967095024015,0.6989216003060206,0.4484205570752432,-0.26803786635302745,-0.6634160128961857,2.335734557413926,-1.434184074279899,0.2473602698192445,0.22238480469788974,-0.2677583598956593,0.2725413480059053,-0.8395778183942763,-0.661834594922329,-0.27007302620888896,-0.2474487320510582,-1.7686789507801906,-0.6927976504687269,-0.5679102310983882,-0.1715477136966996,-1.295629485531873,0.749114656046574,-0.4396779137233732,0.881864840173589,0.6699484712192457,-0.9865989035422554,0.8041516446982689,0.5708137463595715,-0.3544348711895968,-0.4411283148910683,-0.012678521787541109,-0.15374985521185416,1.0354303578331185,1.3043066720596153,-0.8746890120010864,0.08458332717612128,-0.8003519447971019,-0.6851446620945236,-1.1559883622724791,0.27707248332228673,1.4398769778179106,-1.574198276171295,-0.10824476202121064,-0.878756138704042,0.9528462091562935,0.36882014943302904,0.701962408764391,0.12515471481787668,0.9043374679657142,0.2254823419787821,0.4958042695863272,-0.5975032114557614,0.7257348296841276,0.4855953408620199,-3.3825219320437827,0.5322162490593761,0.05039546272046297,0.10839147887182421,-2.015338751110118,0.643382932891098,-0.8632757680204926,1.1845968063934953,-1.0762885247087823,-0.2673821262177926,0.6680121061201801],\"xaxis\":\"x10\",\"y\":[0.8137369102886218,0.38406014021774704,0.8583336537775053,0.7957618956642141,1.4255409888334887,0.8494018529837316,0.8802582494550352,-0.4548968791233935,1.533558939208995,1.2524824477853664,-0.033876479326621675,-0.4110101837052343,-0.733897082639919,-0.7106157418903448,0.13722035073207373,0.7050198361557896,-0.5932002075891633,-1.3382789055267625,-2.5278828482383777,0.3982133911024089,0.525353202328653,-1.4962518795013926,-0.004760785788584715,0.7261859574377102,-1.303544165066935,-0.22178654551626484,1.494967772766792,0.628943023944182,-0.38821823494941937,-0.5668127027710045,0.7171598405660004,-0.7835133022052192,0.5000437115319482,0.7691384803578691,0.5523229894508553,-0.5541894348408164,-0.29938489655996475,-0.9131431790549518,-0.9794679240966921,1.163902122315106,-0.7752221633763264,-1.4495537781745207,0.4973865186073324,1.5030952854902895,-2.4964076259780277,0.1704835173224211,-0.02260160498626511,-0.9649170187581313,0.2019753230544578,-0.04155962146865371,1.615286363193417,0.3573636666371769,0.476460448964524,-1.5471884370551918,-1.3091741423554952,-0.8071981886965368,-1.318025945849581,-0.6618589471814981,-1.6212376252324474,2.1050156023915885,1.0382758927906282,1.0130772399982644,-0.5428322837985744,-1.5666433561393516,0.27206912749567025,-1.7500682837131234,-0.2470384533993433,0.856745769810696,0.050397071646110105,0.8591172982979858,-0.6237323300872393,-0.2802519687360328,-0.4115985448779974,-1.1095613669007458,-0.450350331399409,0.7805669384646385,0.3276051738502298,0.01799327164835346,0.47236995129634307,0.35546341981105,-0.1421734726670186,0.047300376883126743,1.3342425261563757,-0.20148061733839542,0.9372203022599283,-2.4673847964720728,0.20859636566666065,-0.6617846346669848,0.14039920109570533,-0.011579410918395594,-0.9564288279200693,0.8443967791582719,0.23651978111457783,0.06994116836111282,0.05499648632899061,0.3164823679807695,0.2995759568898395,2.3065943637298405,0.8967195702087817,0.21196575600905265],\"yaxis\":\"y10\",\"type\":\"scatter\"},{\"histfunc\":\"count\",\"histnorm\":\"\",\"marker\":{\"color\":\"rgba(50, 171, 96, 1.0)\",\"line\":{\"color\":\"#4D5663\",\"width\":1.3}},\"name\":\"C\",\"nbinsx\":10,\"opacity\":0.8,\"orientation\":\"v\",\"x\":[0.8137369102886218,0.38406014021774704,0.8583336537775053,0.7957618956642141,1.4255409888334887,0.8494018529837316,0.8802582494550352,-0.4548968791233935,1.533558939208995,1.2524824477853664,-0.033876479326621675,-0.4110101837052343,-0.733897082639919,-0.7106157418903448,0.13722035073207373,0.7050198361557896,-0.5932002075891633,-1.3382789055267625,-2.5278828482383777,0.3982133911024089,0.525353202328653,-1.4962518795013926,-0.004760785788584715,0.7261859574377102,-1.303544165066935,-0.22178654551626484,1.494967772766792,0.628943023944182,-0.38821823494941937,-0.5668127027710045,0.7171598405660004,-0.7835133022052192,0.5000437115319482,0.7691384803578691,0.5523229894508553,-0.5541894348408164,-0.29938489655996475,-0.9131431790549518,-0.9794679240966921,1.163902122315106,-0.7752221633763264,-1.4495537781745207,0.4973865186073324,1.5030952854902895,-2.4964076259780277,0.1704835173224211,-0.02260160498626511,-0.9649170187581313,0.2019753230544578,-0.04155962146865371,1.615286363193417,0.3573636666371769,0.476460448964524,-1.5471884370551918,-1.3091741423554952,-0.8071981886965368,-1.318025945849581,-0.6618589471814981,-1.6212376252324474,2.1050156023915885,1.0382758927906282,1.0130772399982644,-0.5428322837985744,-1.5666433561393516,0.27206912749567025,-1.7500682837131234,-0.2470384533993433,0.856745769810696,0.050397071646110105,0.8591172982979858,-0.6237323300872393,-0.2802519687360328,-0.4115985448779974,-1.1095613669007458,-0.450350331399409,0.7805669384646385,0.3276051738502298,0.01799327164835346,0.47236995129634307,0.35546341981105,-0.1421734726670186,0.047300376883126743,1.3342425261563757,-0.20148061733839542,0.9372203022599283,-2.4673847964720728,0.20859636566666065,-0.6617846346669848,0.14039920109570533,-0.011579410918395594,-0.9564288279200693,0.8443967791582719,0.23651978111457783,0.06994116836111282,0.05499648632899061,0.3164823679807695,0.2995759568898395,2.3065943637298405,0.8967195702087817,0.21196575600905265],\"xaxis\":\"x11\",\"yaxis\":\"y11\",\"type\":\"histogram\"},{\"line\":{\"color\":\"rgba(128, 128, 128, 1.0)\",\"dash\":\"solid\",\"shape\":\"linear\",\"width\":1.3},\"marker\":{\"size\":2,\"symbol\":\"circle\"},\"mode\":\"markers\",\"name\":\"C\",\"text\":\"\",\"x\":[-0.41219737818529484,-0.9147191048039742,-1.219436193264347,1.5143994015691824,-2.1923301711810854,-0.903162267803806,1.0535462050704751,1.3960764437556177,0.3868619326568071,2.4525121979965308,0.0162161852241048,-0.4865399398552347,-0.6787831914000225,0.5952961179509224,0.9830827168768127,-0.5346074416237119,-1.8912269743098613,0.26106748829081644,1.476982997259971,-0.5837317944279515,-0.7322797758184094,-0.39419677768356387,-1.2307469264419622,0.3691142487885274,0.10966935398854762,-1.8053571689536656,-1.3362299798042523,1.0089180857224092,-0.7615747766983384,0.36279850099698424,-0.7864714134428039,-1.181668042014758,1.728369859890661,-0.04638915353653599,-0.3831109541831568,-1.692721071636255,-1.5919271991803412,0.8131457402676022,-0.2623198079568097,-1.9297665234901917,0.5076022583968207,-0.7140700625790625,0.3877288533850373,-0.4490557874850287,-0.7419266784049801,0.2769750352385636,-0.8886943267677583,0.19192681012128301,0.09254975120678652,0.25732296596707616,0.9461575249601594,-0.6547615010632385,1.0213950353696173,-0.29650290380060607,-1.320561240484073,0.30634684088010666,1.6403512148036148,1.4411529386636375,-0.502521705413938,-1.5550507017255497,-0.020193581404571784,1.1195063630136661,0.48288866582198753,0.6563853813135773,-0.03148201203133492,-0.6004264577182319,-0.409234215080488,-0.8834550220085939,0.18380424901299702,0.2753619971526059,-0.6578001097887088,0.8916561480623405,-0.08633187088099142,2.4539354030313616,0.7520702214235129,0.14825848428316013,0.5702749266765967,-1.161687966074187,0.5356915966245412,0.3307916225249503,-0.07440235159590498,0.10355787679932259,-0.5182391049382354,-1.6406755589160074,0.3480314724055074,0.15069414263181075,-1.0074768878248537,-0.007758560194556815,-0.3420105288611878,0.660954410451113,2.9107940920537745,-0.2626456029714481,1.1950250389328134,0.11697580915798587,-1.3186213144915546,0.2646137965520151,-0.16324258610278844,-0.48948430249355385,-0.3941668214094899,0.40569059888863773],\"xaxis\":\"x12\",\"y\":[0.8137369102886218,0.38406014021774704,0.8583336537775053,0.7957618956642141,1.4255409888334887,0.8494018529837316,0.8802582494550352,-0.4548968791233935,1.533558939208995,1.2524824477853664,-0.033876479326621675,-0.4110101837052343,-0.733897082639919,-0.7106157418903448,0.13722035073207373,0.7050198361557896,-0.5932002075891633,-1.3382789055267625,-2.5278828482383777,0.3982133911024089,0.525353202328653,-1.4962518795013926,-0.004760785788584715,0.7261859574377102,-1.303544165066935,-0.22178654551626484,1.494967772766792,0.628943023944182,-0.38821823494941937,-0.5668127027710045,0.7171598405660004,-0.7835133022052192,0.5000437115319482,0.7691384803578691,0.5523229894508553,-0.5541894348408164,-0.29938489655996475,-0.9131431790549518,-0.9794679240966921,1.163902122315106,-0.7752221633763264,-1.4495537781745207,0.4973865186073324,1.5030952854902895,-2.4964076259780277,0.1704835173224211,-0.02260160498626511,-0.9649170187581313,0.2019753230544578,-0.04155962146865371,1.615286363193417,0.3573636666371769,0.476460448964524,-1.5471884370551918,-1.3091741423554952,-0.8071981886965368,-1.318025945849581,-0.6618589471814981,-1.6212376252324474,2.1050156023915885,1.0382758927906282,1.0130772399982644,-0.5428322837985744,-1.5666433561393516,0.27206912749567025,-1.7500682837131234,-0.2470384533993433,0.856745769810696,0.050397071646110105,0.8591172982979858,-0.6237323300872393,-0.2802519687360328,-0.4115985448779974,-1.1095613669007458,-0.450350331399409,0.7805669384646385,0.3276051738502298,0.01799327164835346,0.47236995129634307,0.35546341981105,-0.1421734726670186,0.047300376883126743,1.3342425261563757,-0.20148061733839542,0.9372203022599283,-2.4673847964720728,0.20859636566666065,-0.6617846346669848,0.14039920109570533,-0.011579410918395594,-0.9564288279200693,0.8443967791582719,0.23651978111457783,0.06994116836111282,0.05499648632899061,0.3164823679807695,0.2995759568898395,2.3065943637298405,0.8967195702087817,0.21196575600905265],\"yaxis\":\"y12\",\"type\":\"scatter\"},{\"line\":{\"color\":\"rgba(128, 128, 128, 1.0)\",\"dash\":\"solid\",\"shape\":\"linear\",\"width\":1.3},\"marker\":{\"size\":2,\"symbol\":\"circle\"},\"mode\":\"markers\",\"name\":\"D\",\"text\":\"\",\"x\":[-0.7156901301506218,-2.4644340092683623,-0.5020478490356647,0.18831575059229694,-0.9395232600804589,0.6370608619021374,0.3181842436496653,-1.925815864693647,-1.601490197748081,0.7504852699910404,0.34651704071887407,-0.3782613877092965,0.50360062282216,1.1783072011157854,-0.39512918539645014,-0.27615642716525757,-0.6955150924719622,0.22125184868079706,0.3468389819905759,-1.417697236866669,1.115510266869824,-0.19740429399545154,-2.464841424106378,-0.8367326516922796,-1.784665752306031,-0.22786206228857037,-0.05747200108715722,-0.2582444417187888,-0.5840818609797201,-0.6447426754570369,-0.7890790059168368,0.23016315567803003,-1.267679972953894,0.11816464469909889,0.53265482704174,-1.2698235619164742,-1.8768988863675784,-0.9104585436306738,0.5197942871049583,-1.1344331642903294,0.992329649408986,-0.23854074055432464,-0.1930210849793099,0.6095404688520194,-1.232825526706406,-1.5328054495473706,0.3036487187896314,-0.2579415954354775,-0.28408823698571445,0.31097652201661435,0.5365134318194574,-0.2523997745954963,-0.22895996185521222,1.7212536262694407,0.220474283657124,-2.2021749191469557,-0.8986508298431952,-0.3221635884228591,-0.40414847758021716,-0.5652901674053412,1.0766577310137808,0.5349076975629776,0.23762680428485808,-1.7126244683313148,-0.5928398888471055,-1.4949122694654595,-1.1661099302510365,0.46297332937027735,-1.3945134376948467,-0.3869679733820751,-0.9624273069822818,-1.2765077481404117,-0.8586057990186773,-1.3617817621094965,0.5289027802019703,0.6103126439405477,0.9832256017665594,0.5128656072910021,-0.4379259719293449,-0.6556385330952424,0.14179110527076172,-0.01073393938291526,0.5485346127017294,1.2238687868347427,1.3552631701641884,-0.679197152670297,1.4246054066122478,0.37843614621800514,-0.33839561042916416,0.595800624621955,0.2134554912461374,1.115174003760538,0.8652782710066977,0.3619724278187933,-0.9215434485902071,0.8922369823809136,-0.21678248120535829,-0.688812085998554,0.4169838531764566,0.2484314725645371],\"xaxis\":\"x13\",\"y\":[-0.41219737818529484,-0.9147191048039742,-1.219436193264347,1.5143994015691824,-2.1923301711810854,-0.903162267803806,1.0535462050704751,1.3960764437556177,0.3868619326568071,2.4525121979965308,0.0162161852241048,-0.4865399398552347,-0.6787831914000225,0.5952961179509224,0.9830827168768127,-0.5346074416237119,-1.8912269743098613,0.26106748829081644,1.476982997259971,-0.5837317944279515,-0.7322797758184094,-0.39419677768356387,-1.2307469264419622,0.3691142487885274,0.10966935398854762,-1.8053571689536656,-1.3362299798042523,1.0089180857224092,-0.7615747766983384,0.36279850099698424,-0.7864714134428039,-1.181668042014758,1.728369859890661,-0.04638915353653599,-0.3831109541831568,-1.692721071636255,-1.5919271991803412,0.8131457402676022,-0.2623198079568097,-1.9297665234901917,0.5076022583968207,-0.7140700625790625,0.3877288533850373,-0.4490557874850287,-0.7419266784049801,0.2769750352385636,-0.8886943267677583,0.19192681012128301,0.09254975120678652,0.25732296596707616,0.9461575249601594,-0.6547615010632385,1.0213950353696173,-0.29650290380060607,-1.320561240484073,0.30634684088010666,1.6403512148036148,1.4411529386636375,-0.502521705413938,-1.5550507017255497,-0.020193581404571784,1.1195063630136661,0.48288866582198753,0.6563853813135773,-0.03148201203133492,-0.6004264577182319,-0.409234215080488,-0.8834550220085939,0.18380424901299702,0.2753619971526059,-0.6578001097887088,0.8916561480623405,-0.08633187088099142,2.4539354030313616,0.7520702214235129,0.14825848428316013,0.5702749266765967,-1.161687966074187,0.5356915966245412,0.3307916225249503,-0.07440235159590498,0.10355787679932259,-0.5182391049382354,-1.6406755589160074,0.3480314724055074,0.15069414263181075,-1.0074768878248537,-0.007758560194556815,-0.3420105288611878,0.660954410451113,2.9107940920537745,-0.2626456029714481,1.1950250389328134,0.11697580915798587,-1.3186213144915546,0.2646137965520151,-0.16324258610278844,-0.48948430249355385,-0.3941668214094899,0.40569059888863773],\"yaxis\":\"y13\",\"type\":\"scatter\"},{\"line\":{\"color\":\"rgba(128, 128, 128, 1.0)\",\"dash\":\"solid\",\"shape\":\"linear\",\"width\":1.3},\"marker\":{\"size\":2,\"symbol\":\"circle\"},\"mode\":\"markers\",\"name\":\"D\",\"text\":\"\",\"x\":[-0.6513797764818611,0.5244019427590942,-1.1744674888572253,0.43368191568401226,0.899497260401665,-1.1445625650980764,0.07099522324692333,0.04362068821287567,-0.8160348335399022,0.1626016136310631,-0.7298670162319529,0.6713855417304806,-0.4897210754965677,-0.48252481799299574,-1.3139286582223493,0.9707580321863382,-1.1464067098017479,-1.6598898005122826,0.23742605508299555,2.6643609903481145,0.22610339598619442,0.6649669769165972,0.9281709465845623,0.9791321813439632,0.8762934680617513,-0.28943460277957755,-0.028190662231939393,0.2719755628483441,0.8570323675771371,-0.9874367202861509,1.1186820362029204,0.12441702071829709,-0.7566677889736816,0.5261667781482235,0.8229391933147238,1.0237625257527891,-1.1075967095024015,0.6989216003060206,0.4484205570752432,-0.26803786635302745,-0.6634160128961857,2.335734557413926,-1.434184074279899,0.2473602698192445,0.22238480469788974,-0.2677583598956593,0.2725413480059053,-0.8395778183942763,-0.661834594922329,-0.27007302620888896,-0.2474487320510582,-1.7686789507801906,-0.6927976504687269,-0.5679102310983882,-0.1715477136966996,-1.295629485531873,0.749114656046574,-0.4396779137233732,0.881864840173589,0.6699484712192457,-0.9865989035422554,0.8041516446982689,0.5708137463595715,-0.3544348711895968,-0.4411283148910683,-0.012678521787541109,-0.15374985521185416,1.0354303578331185,1.3043066720596153,-0.8746890120010864,0.08458332717612128,-0.8003519447971019,-0.6851446620945236,-1.1559883622724791,0.27707248332228673,1.4398769778179106,-1.574198276171295,-0.10824476202121064,-0.878756138704042,0.9528462091562935,0.36882014943302904,0.701962408764391,0.12515471481787668,0.9043374679657142,0.2254823419787821,0.4958042695863272,-0.5975032114557614,0.7257348296841276,0.4855953408620199,-3.3825219320437827,0.5322162490593761,0.05039546272046297,0.10839147887182421,-2.015338751110118,0.643382932891098,-0.8632757680204926,1.1845968063934953,-1.0762885247087823,-0.2673821262177926,0.6680121061201801],\"xaxis\":\"x14\",\"y\":[-0.41219737818529484,-0.9147191048039742,-1.219436193264347,1.5143994015691824,-2.1923301711810854,-0.903162267803806,1.0535462050704751,1.3960764437556177,0.3868619326568071,2.4525121979965308,0.0162161852241048,-0.4865399398552347,-0.6787831914000225,0.5952961179509224,0.9830827168768127,-0.5346074416237119,-1.8912269743098613,0.26106748829081644,1.476982997259971,-0.5837317944279515,-0.7322797758184094,-0.39419677768356387,-1.2307469264419622,0.3691142487885274,0.10966935398854762,-1.8053571689536656,-1.3362299798042523,1.0089180857224092,-0.7615747766983384,0.36279850099698424,-0.7864714134428039,-1.181668042014758,1.728369859890661,-0.04638915353653599,-0.3831109541831568,-1.692721071636255,-1.5919271991803412,0.8131457402676022,-0.2623198079568097,-1.9297665234901917,0.5076022583968207,-0.7140700625790625,0.3877288533850373,-0.4490557874850287,-0.7419266784049801,0.2769750352385636,-0.8886943267677583,0.19192681012128301,0.09254975120678652,0.25732296596707616,0.9461575249601594,-0.6547615010632385,1.0213950353696173,-0.29650290380060607,-1.320561240484073,0.30634684088010666,1.6403512148036148,1.4411529386636375,-0.502521705413938,-1.5550507017255497,-0.020193581404571784,1.1195063630136661,0.48288866582198753,0.6563853813135773,-0.03148201203133492,-0.6004264577182319,-0.409234215080488,-0.8834550220085939,0.18380424901299702,0.2753619971526059,-0.6578001097887088,0.8916561480623405,-0.08633187088099142,2.4539354030313616,0.7520702214235129,0.14825848428316013,0.5702749266765967,-1.161687966074187,0.5356915966245412,0.3307916225249503,-0.07440235159590498,0.10355787679932259,-0.5182391049382354,-1.6406755589160074,0.3480314724055074,0.15069414263181075,-1.0074768878248537,-0.007758560194556815,-0.3420105288611878,0.660954410451113,2.9107940920537745,-0.2626456029714481,1.1950250389328134,0.11697580915798587,-1.3186213144915546,0.2646137965520151,-0.16324258610278844,-0.48948430249355385,-0.3941668214094899,0.40569059888863773],\"yaxis\":\"y14\",\"type\":\"scatter\"},{\"line\":{\"color\":\"rgba(128, 128, 128, 1.0)\",\"dash\":\"solid\",\"shape\":\"linear\",\"width\":1.3},\"marker\":{\"size\":2,\"symbol\":\"circle\"},\"mode\":\"markers\",\"name\":\"D\",\"text\":\"\",\"x\":[0.8137369102886218,0.38406014021774704,0.8583336537775053,0.7957618956642141,1.4255409888334887,0.8494018529837316,0.8802582494550352,-0.4548968791233935,1.533558939208995,1.2524824477853664,-0.033876479326621675,-0.4110101837052343,-0.733897082639919,-0.7106157418903448,0.13722035073207373,0.7050198361557896,-0.5932002075891633,-1.3382789055267625,-2.5278828482383777,0.3982133911024089,0.525353202328653,-1.4962518795013926,-0.004760785788584715,0.7261859574377102,-1.303544165066935,-0.22178654551626484,1.494967772766792,0.628943023944182,-0.38821823494941937,-0.5668127027710045,0.7171598405660004,-0.7835133022052192,0.5000437115319482,0.7691384803578691,0.5523229894508553,-0.5541894348408164,-0.29938489655996475,-0.9131431790549518,-0.9794679240966921,1.163902122315106,-0.7752221633763264,-1.4495537781745207,0.4973865186073324,1.5030952854902895,-2.4964076259780277,0.1704835173224211,-0.02260160498626511,-0.9649170187581313,0.2019753230544578,-0.04155962146865371,1.615286363193417,0.3573636666371769,0.476460448964524,-1.5471884370551918,-1.3091741423554952,-0.8071981886965368,-1.318025945849581,-0.6618589471814981,-1.6212376252324474,2.1050156023915885,1.0382758927906282,1.0130772399982644,-0.5428322837985744,-1.5666433561393516,0.27206912749567025,-1.7500682837131234,-0.2470384533993433,0.856745769810696,0.050397071646110105,0.8591172982979858,-0.6237323300872393,-0.2802519687360328,-0.4115985448779974,-1.1095613669007458,-0.450350331399409,0.7805669384646385,0.3276051738502298,0.01799327164835346,0.47236995129634307,0.35546341981105,-0.1421734726670186,0.047300376883126743,1.3342425261563757,-0.20148061733839542,0.9372203022599283,-2.4673847964720728,0.20859636566666065,-0.6617846346669848,0.14039920109570533,-0.011579410918395594,-0.9564288279200693,0.8443967791582719,0.23651978111457783,0.06994116836111282,0.05499648632899061,0.3164823679807695,0.2995759568898395,2.3065943637298405,0.8967195702087817,0.21196575600905265],\"xaxis\":\"x15\",\"y\":[-0.41219737818529484,-0.9147191048039742,-1.219436193264347,1.5143994015691824,-2.1923301711810854,-0.903162267803806,1.0535462050704751,1.3960764437556177,0.3868619326568071,2.4525121979965308,0.0162161852241048,-0.4865399398552347,-0.6787831914000225,0.5952961179509224,0.9830827168768127,-0.5346074416237119,-1.8912269743098613,0.26106748829081644,1.476982997259971,-0.5837317944279515,-0.7322797758184094,-0.39419677768356387,-1.2307469264419622,0.3691142487885274,0.10966935398854762,-1.8053571689536656,-1.3362299798042523,1.0089180857224092,-0.7615747766983384,0.36279850099698424,-0.7864714134428039,-1.181668042014758,1.728369859890661,-0.04638915353653599,-0.3831109541831568,-1.692721071636255,-1.5919271991803412,0.8131457402676022,-0.2623198079568097,-1.9297665234901917,0.5076022583968207,-0.7140700625790625,0.3877288533850373,-0.4490557874850287,-0.7419266784049801,0.2769750352385636,-0.8886943267677583,0.19192681012128301,0.09254975120678652,0.25732296596707616,0.9461575249601594,-0.6547615010632385,1.0213950353696173,-0.29650290380060607,-1.320561240484073,0.30634684088010666,1.6403512148036148,1.4411529386636375,-0.502521705413938,-1.5550507017255497,-0.020193581404571784,1.1195063630136661,0.48288866582198753,0.6563853813135773,-0.03148201203133492,-0.6004264577182319,-0.409234215080488,-0.8834550220085939,0.18380424901299702,0.2753619971526059,-0.6578001097887088,0.8916561480623405,-0.08633187088099142,2.4539354030313616,0.7520702214235129,0.14825848428316013,0.5702749266765967,-1.161687966074187,0.5356915966245412,0.3307916225249503,-0.07440235159590498,0.10355787679932259,-0.5182391049382354,-1.6406755589160074,0.3480314724055074,0.15069414263181075,-1.0074768878248537,-0.007758560194556815,-0.3420105288611878,0.660954410451113,2.9107940920537745,-0.2626456029714481,1.1950250389328134,0.11697580915798587,-1.3186213144915546,0.2646137965520151,-0.16324258610278844,-0.48948430249355385,-0.3941668214094899,0.40569059888863773],\"yaxis\":\"y15\",\"type\":\"scatter\"},{\"histfunc\":\"count\",\"histnorm\":\"\",\"marker\":{\"color\":\"rgba(128, 0, 128, 1.0)\",\"line\":{\"color\":\"#4D5663\",\"width\":1.3}},\"name\":\"D\",\"nbinsx\":10,\"opacity\":0.8,\"orientation\":\"v\",\"x\":[-0.41219737818529484,-0.9147191048039742,-1.219436193264347,1.5143994015691824,-2.1923301711810854,-0.903162267803806,1.0535462050704751,1.3960764437556177,0.3868619326568071,2.4525121979965308,0.0162161852241048,-0.4865399398552347,-0.6787831914000225,0.5952961179509224,0.9830827168768127,-0.5346074416237119,-1.8912269743098613,0.26106748829081644,1.476982997259971,-0.5837317944279515,-0.7322797758184094,-0.39419677768356387,-1.2307469264419622,0.3691142487885274,0.10966935398854762,-1.8053571689536656,-1.3362299798042523,1.0089180857224092,-0.7615747766983384,0.36279850099698424,-0.7864714134428039,-1.181668042014758,1.728369859890661,-0.04638915353653599,-0.3831109541831568,-1.692721071636255,-1.5919271991803412,0.8131457402676022,-0.2623198079568097,-1.9297665234901917,0.5076022583968207,-0.7140700625790625,0.3877288533850373,-0.4490557874850287,-0.7419266784049801,0.2769750352385636,-0.8886943267677583,0.19192681012128301,0.09254975120678652,0.25732296596707616,0.9461575249601594,-0.6547615010632385,1.0213950353696173,-0.29650290380060607,-1.320561240484073,0.30634684088010666,1.6403512148036148,1.4411529386636375,-0.502521705413938,-1.5550507017255497,-0.020193581404571784,1.1195063630136661,0.48288866582198753,0.6563853813135773,-0.03148201203133492,-0.6004264577182319,-0.409234215080488,-0.8834550220085939,0.18380424901299702,0.2753619971526059,-0.6578001097887088,0.8916561480623405,-0.08633187088099142,2.4539354030313616,0.7520702214235129,0.14825848428316013,0.5702749266765967,-1.161687966074187,0.5356915966245412,0.3307916225249503,-0.07440235159590498,0.10355787679932259,-0.5182391049382354,-1.6406755589160074,0.3480314724055074,0.15069414263181075,-1.0074768878248537,-0.007758560194556815,-0.3420105288611878,0.660954410451113,2.9107940920537745,-0.2626456029714481,1.1950250389328134,0.11697580915798587,-1.3186213144915546,0.2646137965520151,-0.16324258610278844,-0.48948430249355385,-0.3941668214094899,0.40569059888863773],\"xaxis\":\"x16\",\"yaxis\":\"y16\",\"type\":\"histogram\"}],                        {\"bargap\":0.02,\"legend\":{\"bgcolor\":\"#F5F6F9\",\"font\":{\"color\":\"#4D5663\"}},\"paper_bgcolor\":\"#F5F6F9\",\"plot_bgcolor\":\"#F5F6F9\",\"showlegend\":false,\"template\":{\"data\":{\"barpolar\":[{\"marker\":{\"line\":{\"color\":\"#E5ECF6\",\"width\":0.5},\"pattern\":{\"fillmode\":\"overlay\",\"size\":10,\"solidity\":0.2}},\"type\":\"barpolar\"}],\"bar\":[{\"error_x\":{\"color\":\"#2a3f5f\"},\"error_y\":{\"color\":\"#2a3f5f\"},\"marker\":{\"line\":{\"color\":\"#E5ECF6\",\"width\":0.5},\"pattern\":{\"fillmode\":\"overlay\",\"size\":10,\"solidity\":0.2}},\"type\":\"bar\"}],\"carpet\":[{\"aaxis\":{\"endlinecolor\":\"#2a3f5f\",\"gridcolor\":\"white\",\"linecolor\":\"white\",\"minorgridcolor\":\"white\",\"startlinecolor\":\"#2a3f5f\"},\"baxis\":{\"endlinecolor\":\"#2a3f5f\",\"gridcolor\":\"white\",\"linecolor\":\"white\",\"minorgridcolor\":\"white\",\"startlinecolor\":\"#2a3f5f\"},\"type\":\"carpet\"}],\"choropleth\":[{\"colorbar\":{\"outlinewidth\":0,\"ticks\":\"\"},\"type\":\"choropleth\"}],\"contourcarpet\":[{\"colorbar\":{\"outlinewidth\":0,\"ticks\":\"\"},\"type\":\"contourcarpet\"}],\"contour\":[{\"colorbar\":{\"outlinewidth\":0,\"ticks\":\"\"},\"colorscale\":[[0.0,\"#0d0887\"],[0.1111111111111111,\"#46039f\"],[0.2222222222222222,\"#7201a8\"],[0.3333333333333333,\"#9c179e\"],[0.4444444444444444,\"#bd3786\"],[0.5555555555555556,\"#d8576b\"],[0.6666666666666666,\"#ed7953\"],[0.7777777777777778,\"#fb9f3a\"],[0.8888888888888888,\"#fdca26\"],[1.0,\"#f0f921\"]],\"type\":\"contour\"}],\"heatmapgl\":[{\"colorbar\":{\"outlinewidth\":0,\"ticks\":\"\"},\"colorscale\":[[0.0,\"#0d0887\"],[0.1111111111111111,\"#46039f\"],[0.2222222222222222,\"#7201a8\"],[0.3333333333333333,\"#9c179e\"],[0.4444444444444444,\"#bd3786\"],[0.5555555555555556,\"#d8576b\"],[0.6666666666666666,\"#ed7953\"],[0.7777777777777778,\"#fb9f3a\"],[0.8888888888888888,\"#fdca26\"],[1.0,\"#f0f921\"]],\"type\":\"heatmapgl\"}],\"heatmap\":[{\"colorbar\":{\"outlinewidth\":0,\"ticks\":\"\"},\"colorscale\":[[0.0,\"#0d0887\"],[0.1111111111111111,\"#46039f\"],[0.2222222222222222,\"#7201a8\"],[0.3333333333333333,\"#9c179e\"],[0.4444444444444444,\"#bd3786\"],[0.5555555555555556,\"#d8576b\"],[0.6666666666666666,\"#ed7953\"],[0.7777777777777778,\"#fb9f3a\"],[0.8888888888888888,\"#fdca26\"],[1.0,\"#f0f921\"]],\"type\":\"heatmap\"}],\"histogram2dcontour\":[{\"colorbar\":{\"outlinewidth\":0,\"ticks\":\"\"},\"colorscale\":[[0.0,\"#0d0887\"],[0.1111111111111111,\"#46039f\"],[0.2222222222222222,\"#7201a8\"],[0.3333333333333333,\"#9c179e\"],[0.4444444444444444,\"#bd3786\"],[0.5555555555555556,\"#d8576b\"],[0.6666666666666666,\"#ed7953\"],[0.7777777777777778,\"#fb9f3a\"],[0.8888888888888888,\"#fdca26\"],[1.0,\"#f0f921\"]],\"type\":\"histogram2dcontour\"}],\"histogram2d\":[{\"colorbar\":{\"outlinewidth\":0,\"ticks\":\"\"},\"colorscale\":[[0.0,\"#0d0887\"],[0.1111111111111111,\"#46039f\"],[0.2222222222222222,\"#7201a8\"],[0.3333333333333333,\"#9c179e\"],[0.4444444444444444,\"#bd3786\"],[0.5555555555555556,\"#d8576b\"],[0.6666666666666666,\"#ed7953\"],[0.7777777777777778,\"#fb9f3a\"],[0.8888888888888888,\"#fdca26\"],[1.0,\"#f0f921\"]],\"type\":\"histogram2d\"}],\"histogram\":[{\"marker\":{\"pattern\":{\"fillmode\":\"overlay\",\"size\":10,\"solidity\":0.2}},\"type\":\"histogram\"}],\"mesh3d\":[{\"colorbar\":{\"outlinewidth\":0,\"ticks\":\"\"},\"type\":\"mesh3d\"}],\"parcoords\":[{\"line\":{\"colorbar\":{\"outlinewidth\":0,\"ticks\":\"\"}},\"type\":\"parcoords\"}],\"pie\":[{\"automargin\":true,\"type\":\"pie\"}],\"scatter3d\":[{\"line\":{\"colorbar\":{\"outlinewidth\":0,\"ticks\":\"\"}},\"marker\":{\"colorbar\":{\"outlinewidth\":0,\"ticks\":\"\"}},\"type\":\"scatter3d\"}],\"scattercarpet\":[{\"marker\":{\"colorbar\":{\"outlinewidth\":0,\"ticks\":\"\"}},\"type\":\"scattercarpet\"}],\"scattergeo\":[{\"marker\":{\"colorbar\":{\"outlinewidth\":0,\"ticks\":\"\"}},\"type\":\"scattergeo\"}],\"scattergl\":[{\"marker\":{\"colorbar\":{\"outlinewidth\":0,\"ticks\":\"\"}},\"type\":\"scattergl\"}],\"scattermapbox\":[{\"marker\":{\"colorbar\":{\"outlinewidth\":0,\"ticks\":\"\"}},\"type\":\"scattermapbox\"}],\"scatterpolargl\":[{\"marker\":{\"colorbar\":{\"outlinewidth\":0,\"ticks\":\"\"}},\"type\":\"scatterpolargl\"}],\"scatterpolar\":[{\"marker\":{\"colorbar\":{\"outlinewidth\":0,\"ticks\":\"\"}},\"type\":\"scatterpolar\"}],\"scatter\":[{\"marker\":{\"colorbar\":{\"outlinewidth\":0,\"ticks\":\"\"}},\"type\":\"scatter\"}],\"scatterternary\":[{\"marker\":{\"colorbar\":{\"outlinewidth\":0,\"ticks\":\"\"}},\"type\":\"scatterternary\"}],\"surface\":[{\"colorbar\":{\"outlinewidth\":0,\"ticks\":\"\"},\"colorscale\":[[0.0,\"#0d0887\"],[0.1111111111111111,\"#46039f\"],[0.2222222222222222,\"#7201a8\"],[0.3333333333333333,\"#9c179e\"],[0.4444444444444444,\"#bd3786\"],[0.5555555555555556,\"#d8576b\"],[0.6666666666666666,\"#ed7953\"],[0.7777777777777778,\"#fb9f3a\"],[0.8888888888888888,\"#fdca26\"],[1.0,\"#f0f921\"]],\"type\":\"surface\"}],\"table\":[{\"cells\":{\"fill\":{\"color\":\"#EBF0F8\"},\"line\":{\"color\":\"white\"}},\"header\":{\"fill\":{\"color\":\"#C8D4E3\"},\"line\":{\"color\":\"white\"}},\"type\":\"table\"}]},\"layout\":{\"annotationdefaults\":{\"arrowcolor\":\"#2a3f5f\",\"arrowhead\":0,\"arrowwidth\":1},\"autotypenumbers\":\"strict\",\"coloraxis\":{\"colorbar\":{\"outlinewidth\":0,\"ticks\":\"\"}},\"colorscale\":{\"diverging\":[[0,\"#8e0152\"],[0.1,\"#c51b7d\"],[0.2,\"#de77ae\"],[0.3,\"#f1b6da\"],[0.4,\"#fde0ef\"],[0.5,\"#f7f7f7\"],[0.6,\"#e6f5d0\"],[0.7,\"#b8e186\"],[0.8,\"#7fbc41\"],[0.9,\"#4d9221\"],[1,\"#276419\"]],\"sequential\":[[0.0,\"#0d0887\"],[0.1111111111111111,\"#46039f\"],[0.2222222222222222,\"#7201a8\"],[0.3333333333333333,\"#9c179e\"],[0.4444444444444444,\"#bd3786\"],[0.5555555555555556,\"#d8576b\"],[0.6666666666666666,\"#ed7953\"],[0.7777777777777778,\"#fb9f3a\"],[0.8888888888888888,\"#fdca26\"],[1.0,\"#f0f921\"]],\"sequentialminus\":[[0.0,\"#0d0887\"],[0.1111111111111111,\"#46039f\"],[0.2222222222222222,\"#7201a8\"],[0.3333333333333333,\"#9c179e\"],[0.4444444444444444,\"#bd3786\"],[0.5555555555555556,\"#d8576b\"],[0.6666666666666666,\"#ed7953\"],[0.7777777777777778,\"#fb9f3a\"],[0.8888888888888888,\"#fdca26\"],[1.0,\"#f0f921\"]]},\"colorway\":[\"#636efa\",\"#EF553B\",\"#00cc96\",\"#ab63fa\",\"#FFA15A\",\"#19d3f3\",\"#FF6692\",\"#B6E880\",\"#FF97FF\",\"#FECB52\"],\"font\":{\"color\":\"#2a3f5f\"},\"geo\":{\"bgcolor\":\"white\",\"lakecolor\":\"white\",\"landcolor\":\"#E5ECF6\",\"showlakes\":true,\"showland\":true,\"subunitcolor\":\"white\"},\"hoverlabel\":{\"align\":\"left\"},\"hovermode\":\"closest\",\"mapbox\":{\"style\":\"light\"},\"paper_bgcolor\":\"white\",\"plot_bgcolor\":\"#E5ECF6\",\"polar\":{\"angularaxis\":{\"gridcolor\":\"white\",\"linecolor\":\"white\",\"ticks\":\"\"},\"bgcolor\":\"#E5ECF6\",\"radialaxis\":{\"gridcolor\":\"white\",\"linecolor\":\"white\",\"ticks\":\"\"}},\"scene\":{\"xaxis\":{\"backgroundcolor\":\"#E5ECF6\",\"gridcolor\":\"white\",\"gridwidth\":2,\"linecolor\":\"white\",\"showbackground\":true,\"ticks\":\"\",\"zerolinecolor\":\"white\"},\"yaxis\":{\"backgroundcolor\":\"#E5ECF6\",\"gridcolor\":\"white\",\"gridwidth\":2,\"linecolor\":\"white\",\"showbackground\":true,\"ticks\":\"\",\"zerolinecolor\":\"white\"},\"zaxis\":{\"backgroundcolor\":\"#E5ECF6\",\"gridcolor\":\"white\",\"gridwidth\":2,\"linecolor\":\"white\",\"showbackground\":true,\"ticks\":\"\",\"zerolinecolor\":\"white\"}},\"shapedefaults\":{\"line\":{\"color\":\"#2a3f5f\"}},\"ternary\":{\"aaxis\":{\"gridcolor\":\"white\",\"linecolor\":\"white\",\"ticks\":\"\"},\"baxis\":{\"gridcolor\":\"white\",\"linecolor\":\"white\",\"ticks\":\"\"},\"bgcolor\":\"#E5ECF6\",\"caxis\":{\"gridcolor\":\"white\",\"linecolor\":\"white\",\"ticks\":\"\"}},\"title\":{\"x\":0.05},\"xaxis\":{\"automargin\":true,\"gridcolor\":\"white\",\"linecolor\":\"white\",\"ticks\":\"\",\"title\":{\"standoff\":15},\"zerolinecolor\":\"white\",\"zerolinewidth\":2},\"yaxis\":{\"automargin\":true,\"gridcolor\":\"white\",\"linecolor\":\"white\",\"ticks\":\"\",\"title\":{\"standoff\":15},\"zerolinecolor\":\"white\",\"zerolinewidth\":2}}},\"title\":{\"font\":{\"color\":\"#4D5663\"}},\"xaxis\":{\"anchor\":\"y\",\"domain\":[0.0,0.2125],\"gridcolor\":\"#E1E5ED\",\"showgrid\":false,\"tickfont\":{\"color\":\"#4D5663\"},\"title\":{\"font\":{\"color\":\"#4D5663\"},\"text\":\"\"},\"zerolinecolor\":\"#E1E5ED\"},\"yaxis\":{\"anchor\":\"x\",\"domain\":[0.8025,1.0],\"gridcolor\":\"#E1E5ED\",\"showgrid\":false,\"tickfont\":{\"color\":\"#4D5663\"},\"title\":{\"font\":{\"color\":\"#4D5663\"},\"text\":\"\"},\"zerolinecolor\":\"#E1E5ED\"},\"xaxis2\":{\"anchor\":\"y2\",\"domain\":[0.2625,0.475],\"gridcolor\":\"#E1E5ED\",\"showgrid\":false,\"tickfont\":{\"color\":\"#4D5663\"},\"title\":{\"font\":{\"color\":\"#4D5663\"},\"text\":\"\"},\"zerolinecolor\":\"#E1E5ED\"},\"yaxis2\":{\"anchor\":\"x2\",\"domain\":[0.8025,1.0],\"gridcolor\":\"#E1E5ED\",\"showgrid\":false,\"tickfont\":{\"color\":\"#4D5663\"},\"title\":{\"font\":{\"color\":\"#4D5663\"},\"text\":\"\"},\"zerolinecolor\":\"#E1E5ED\"},\"xaxis3\":{\"anchor\":\"y3\",\"domain\":[0.525,0.7375],\"gridcolor\":\"#E1E5ED\",\"showgrid\":false,\"tickfont\":{\"color\":\"#4D5663\"},\"title\":{\"font\":{\"color\":\"#4D5663\"},\"text\":\"\"},\"zerolinecolor\":\"#E1E5ED\"},\"yaxis3\":{\"anchor\":\"x3\",\"domain\":[0.8025,1.0],\"gridcolor\":\"#E1E5ED\",\"showgrid\":false,\"tickfont\":{\"color\":\"#4D5663\"},\"title\":{\"font\":{\"color\":\"#4D5663\"},\"text\":\"\"},\"zerolinecolor\":\"#E1E5ED\"},\"xaxis4\":{\"anchor\":\"y4\",\"domain\":[0.7875,1.0],\"gridcolor\":\"#E1E5ED\",\"showgrid\":false,\"tickfont\":{\"color\":\"#4D5663\"},\"title\":{\"font\":{\"color\":\"#4D5663\"},\"text\":\"\"},\"zerolinecolor\":\"#E1E5ED\"},\"yaxis4\":{\"anchor\":\"x4\",\"domain\":[0.8025,1.0],\"gridcolor\":\"#E1E5ED\",\"showgrid\":false,\"tickfont\":{\"color\":\"#4D5663\"},\"title\":{\"font\":{\"color\":\"#4D5663\"},\"text\":\"\"},\"zerolinecolor\":\"#E1E5ED\"},\"xaxis5\":{\"anchor\":\"y5\",\"domain\":[0.0,0.2125],\"gridcolor\":\"#E1E5ED\",\"showgrid\":false,\"tickfont\":{\"color\":\"#4D5663\"},\"title\":{\"font\":{\"color\":\"#4D5663\"},\"text\":\"\"},\"zerolinecolor\":\"#E1E5ED\"},\"yaxis5\":{\"anchor\":\"x5\",\"domain\":[0.535,0.7325],\"gridcolor\":\"#E1E5ED\",\"showgrid\":false,\"tickfont\":{\"color\":\"#4D5663\"},\"title\":{\"font\":{\"color\":\"#4D5663\"},\"text\":\"\"},\"zerolinecolor\":\"#E1E5ED\"},\"xaxis6\":{\"anchor\":\"y6\",\"domain\":[0.2625,0.475],\"gridcolor\":\"#E1E5ED\",\"showgrid\":false,\"tickfont\":{\"color\":\"#4D5663\"},\"title\":{\"font\":{\"color\":\"#4D5663\"},\"text\":\"\"},\"zerolinecolor\":\"#E1E5ED\"},\"yaxis6\":{\"anchor\":\"x6\",\"domain\":[0.535,0.7325],\"gridcolor\":\"#E1E5ED\",\"showgrid\":false,\"tickfont\":{\"color\":\"#4D5663\"},\"title\":{\"font\":{\"color\":\"#4D5663\"},\"text\":\"\"},\"zerolinecolor\":\"#E1E5ED\"},\"xaxis7\":{\"anchor\":\"y7\",\"domain\":[0.525,0.7375],\"gridcolor\":\"#E1E5ED\",\"showgrid\":false,\"tickfont\":{\"color\":\"#4D5663\"},\"title\":{\"font\":{\"color\":\"#4D5663\"},\"text\":\"\"},\"zerolinecolor\":\"#E1E5ED\"},\"yaxis7\":{\"anchor\":\"x7\",\"domain\":[0.535,0.7325],\"gridcolor\":\"#E1E5ED\",\"showgrid\":false,\"tickfont\":{\"color\":\"#4D5663\"},\"title\":{\"font\":{\"color\":\"#4D5663\"},\"text\":\"\"},\"zerolinecolor\":\"#E1E5ED\"},\"xaxis8\":{\"anchor\":\"y8\",\"domain\":[0.7875,1.0],\"gridcolor\":\"#E1E5ED\",\"showgrid\":false,\"tickfont\":{\"color\":\"#4D5663\"},\"title\":{\"font\":{\"color\":\"#4D5663\"},\"text\":\"\"},\"zerolinecolor\":\"#E1E5ED\"},\"yaxis8\":{\"anchor\":\"x8\",\"domain\":[0.535,0.7325],\"gridcolor\":\"#E1E5ED\",\"showgrid\":false,\"tickfont\":{\"color\":\"#4D5663\"},\"title\":{\"font\":{\"color\":\"#4D5663\"},\"text\":\"\"},\"zerolinecolor\":\"#E1E5ED\"},\"xaxis9\":{\"anchor\":\"y9\",\"domain\":[0.0,0.2125],\"gridcolor\":\"#E1E5ED\",\"showgrid\":false,\"tickfont\":{\"color\":\"#4D5663\"},\"title\":{\"font\":{\"color\":\"#4D5663\"},\"text\":\"\"},\"zerolinecolor\":\"#E1E5ED\"},\"yaxis9\":{\"anchor\":\"x9\",\"domain\":[0.2675,0.465],\"gridcolor\":\"#E1E5ED\",\"showgrid\":false,\"tickfont\":{\"color\":\"#4D5663\"},\"title\":{\"font\":{\"color\":\"#4D5663\"},\"text\":\"\"},\"zerolinecolor\":\"#E1E5ED\"},\"xaxis10\":{\"anchor\":\"y10\",\"domain\":[0.2625,0.475],\"gridcolor\":\"#E1E5ED\",\"showgrid\":false,\"tickfont\":{\"color\":\"#4D5663\"},\"title\":{\"font\":{\"color\":\"#4D5663\"},\"text\":\"\"},\"zerolinecolor\":\"#E1E5ED\"},\"yaxis10\":{\"anchor\":\"x10\",\"domain\":[0.2675,0.465],\"gridcolor\":\"#E1E5ED\",\"showgrid\":false,\"tickfont\":{\"color\":\"#4D5663\"},\"title\":{\"font\":{\"color\":\"#4D5663\"},\"text\":\"\"},\"zerolinecolor\":\"#E1E5ED\"},\"xaxis11\":{\"anchor\":\"y11\",\"domain\":[0.525,0.7375],\"gridcolor\":\"#E1E5ED\",\"showgrid\":false,\"tickfont\":{\"color\":\"#4D5663\"},\"title\":{\"font\":{\"color\":\"#4D5663\"},\"text\":\"\"},\"zerolinecolor\":\"#E1E5ED\"},\"yaxis11\":{\"anchor\":\"x11\",\"domain\":[0.2675,0.465],\"gridcolor\":\"#E1E5ED\",\"showgrid\":false,\"tickfont\":{\"color\":\"#4D5663\"},\"title\":{\"font\":{\"color\":\"#4D5663\"},\"text\":\"\"},\"zerolinecolor\":\"#E1E5ED\"},\"xaxis12\":{\"anchor\":\"y12\",\"domain\":[0.7875,1.0],\"gridcolor\":\"#E1E5ED\",\"showgrid\":false,\"tickfont\":{\"color\":\"#4D5663\"},\"title\":{\"font\":{\"color\":\"#4D5663\"},\"text\":\"\"},\"zerolinecolor\":\"#E1E5ED\"},\"yaxis12\":{\"anchor\":\"x12\",\"domain\":[0.2675,0.465],\"gridcolor\":\"#E1E5ED\",\"showgrid\":false,\"tickfont\":{\"color\":\"#4D5663\"},\"title\":{\"font\":{\"color\":\"#4D5663\"},\"text\":\"\"},\"zerolinecolor\":\"#E1E5ED\"},\"xaxis13\":{\"anchor\":\"y13\",\"domain\":[0.0,0.2125],\"gridcolor\":\"#E1E5ED\",\"showgrid\":false,\"tickfont\":{\"color\":\"#4D5663\"},\"title\":{\"font\":{\"color\":\"#4D5663\"},\"text\":\"\"},\"zerolinecolor\":\"#E1E5ED\"},\"yaxis13\":{\"anchor\":\"x13\",\"domain\":[0.0,0.1975],\"gridcolor\":\"#E1E5ED\",\"showgrid\":false,\"tickfont\":{\"color\":\"#4D5663\"},\"title\":{\"font\":{\"color\":\"#4D5663\"},\"text\":\"\"},\"zerolinecolor\":\"#E1E5ED\"},\"xaxis14\":{\"anchor\":\"y14\",\"domain\":[0.2625,0.475],\"gridcolor\":\"#E1E5ED\",\"showgrid\":false,\"tickfont\":{\"color\":\"#4D5663\"},\"title\":{\"font\":{\"color\":\"#4D5663\"},\"text\":\"\"},\"zerolinecolor\":\"#E1E5ED\"},\"yaxis14\":{\"anchor\":\"x14\",\"domain\":[0.0,0.1975],\"gridcolor\":\"#E1E5ED\",\"showgrid\":false,\"tickfont\":{\"color\":\"#4D5663\"},\"title\":{\"font\":{\"color\":\"#4D5663\"},\"text\":\"\"},\"zerolinecolor\":\"#E1E5ED\"},\"xaxis15\":{\"anchor\":\"y15\",\"domain\":[0.525,0.7375],\"gridcolor\":\"#E1E5ED\",\"showgrid\":false,\"tickfont\":{\"color\":\"#4D5663\"},\"title\":{\"font\":{\"color\":\"#4D5663\"},\"text\":\"\"},\"zerolinecolor\":\"#E1E5ED\"},\"yaxis15\":{\"anchor\":\"x15\",\"domain\":[0.0,0.1975],\"gridcolor\":\"#E1E5ED\",\"showgrid\":false,\"tickfont\":{\"color\":\"#4D5663\"},\"title\":{\"font\":{\"color\":\"#4D5663\"},\"text\":\"\"},\"zerolinecolor\":\"#E1E5ED\"},\"xaxis16\":{\"anchor\":\"y16\",\"domain\":[0.7875,1.0],\"gridcolor\":\"#E1E5ED\",\"showgrid\":false,\"tickfont\":{\"color\":\"#4D5663\"},\"title\":{\"font\":{\"color\":\"#4D5663\"},\"text\":\"\"},\"zerolinecolor\":\"#E1E5ED\"},\"yaxis16\":{\"anchor\":\"x16\",\"domain\":[0.0,0.1975],\"gridcolor\":\"#E1E5ED\",\"showgrid\":false,\"tickfont\":{\"color\":\"#4D5663\"},\"title\":{\"font\":{\"color\":\"#4D5663\"},\"text\":\"\"},\"zerolinecolor\":\"#E1E5ED\"}},                        {\"showLink\": true, \"linkText\": \"Export to plot.ly\", \"plotlyServerURL\": \"https://plot.ly\", \"responsive\": true}                    ).then(function(){\n",
       "                            \n",
       "var gd = document.getElementById('d3de8fb4-fbd2-4286-baed-f976a4c5ff09');\n",
       "var x = new MutationObserver(function (mutations, observer) {{\n",
       "        var display = window.getComputedStyle(gd).display;\n",
       "        if (!display || display === 'none') {{\n",
       "            console.log([gd, 'removed!']);\n",
       "            Plotly.purge(gd);\n",
       "            observer.disconnect();\n",
       "        }}\n",
       "}});\n",
       "\n",
       "// Listen for the removal of the full notebook cells\n",
       "var notebookContainer = gd.closest('#notebook-container');\n",
       "if (notebookContainer) {{\n",
       "    x.observe(notebookContainer, {childList: true});\n",
       "}}\n",
       "\n",
       "// Listen for the clearing of the current output cell\n",
       "var outputEl = gd.closest('.output');\n",
       "if (outputEl) {{\n",
       "    x.observe(outputEl, {childList: true});\n",
       "}}\n",
       "\n",
       "                        })                };                });            </script>        </div>"
      ]
     },
     "metadata": {},
     "output_type": "display_data"
    }
   ],
   "source": [
    "#scatter_matrix similar to Seaborn pairplot. Ensure all columns are numerical.\n",
    "\n",
    "df.scatter_matrix()"
   ]
  },
  {
   "cell_type": "code",
   "execution_count": null,
   "id": "4d89ebb1",
   "metadata": {},
   "outputs": [],
   "source": []
  }
 ],
 "metadata": {
  "kernelspec": {
   "display_name": "Python 3 (ipykernel)",
   "language": "python",
   "name": "python3"
  },
  "language_info": {
   "codemirror_mode": {
    "name": "ipython",
    "version": 3
   },
   "file_extension": ".py",
   "mimetype": "text/x-python",
   "name": "python",
   "nbconvert_exporter": "python",
   "pygments_lexer": "ipython3",
   "version": "3.9.12"
  }
 },
 "nbformat": 4,
 "nbformat_minor": 5
}
